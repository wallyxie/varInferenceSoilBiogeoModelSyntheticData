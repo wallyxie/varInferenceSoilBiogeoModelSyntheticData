{
 "cells": [
  {
   "cell_type": "code",
   "execution_count": 1,
   "metadata": {},
   "outputs": [],
   "source": [
    "using DifferentialEquations\n",
    "using ParameterizedFunctions\n",
    "using DataFrames\n",
    "using CSV\n",
    "using Sundials"
   ]
  },
  {
   "cell_type": "code",
   "execution_count": 2,
   "metadata": {},
   "outputs": [
    {
     "data": {
      "text/plain": [
       "analytical_steady_state (generic function with 1 method)"
      ]
     },
     "execution_count": 2,
     "metadata": {},
     "output_type": "execute_result"
    }
   ],
   "source": [
    "#####################\n",
    "##Non-ODE Functions##\n",
    "#####################\n",
    "\n",
    "function temp_gen(hour)\n",
    "    283 + hour / (20 * 24 * 365) + 10 * sin((2 * pi / 24) * hour) + 10 * sin((2 * pi / (24 * 365)) * hour)\n",
    "end\n",
    "\n",
    "function I_S(hour)\n",
    "    0.001 + 0.0005 * sin((2 * pi / (24 * 365)) * hour) #Exogenous SOC input\n",
    "end\n",
    "\n",
    "function I_D(hour)\n",
    "    0.0001 + 0.00005 * sin((2 * pi / (24 * 365)) * hour) #Exogenous DOC input\n",
    "end\n",
    "\n",
    "function arrhenius_temp_dep(parameter, temp, Ea, temp_ref)\n",
    "    decayed_parameter = parameter * exp(-Ea / 0.008314 * (1 / temp - 1 / temp_ref))\n",
    "end\n",
    "\n",
    "function linear_temp_dep(parameter, temp, Q, temp_ref)\n",
    "    modified_parameter = parameter - Q * (temp - temp_ref)\n",
    "end\n",
    "\n",
    "function analytical_steady_state(SOC_input, DOC_input, u_M, a_SD, a_DS, a_M, a_MSC, k_S_ref, k_D_ref, k_M_ref)\n",
    "    D₀ = (DOC_input + SOC_input * a_SD) / (u_M + k_D_ref + u_M * a_M * (a_MSC - 1 - a_MSC * a_SD) - a_DS * k_D_ref * a_SD)\n",
    "    S₀ = (SOC_input + D₀ * (a_DS * k_D_ref + u_M * a_M * a_MSC)) / k_S_ref\n",
    "    M₀ = u_M * D₀ / k_M_ref\n",
    "    return [S₀, D₀, M₀]\n",
    "end"
   ]
  },
  {
   "cell_type": "code",
   "execution_count": 3,
   "metadata": {},
   "outputs": [
    {
     "data": {
      "text/plain": [
       "50"
      ]
     },
     "execution_count": 3,
     "metadata": {},
     "output_type": "execute_result"
    }
   ],
   "source": [
    "########################\n",
    "###Non-param Constants##\n",
    "########################\n",
    "\n",
    "temp_ref = 283\n",
    "\n",
    "#########################\n",
    "##ODE System Parameters##\n",
    "#########################\n",
    "\n",
    "u_M = 0.002\n",
    "a_SD = 0.33\n",
    "a_DS = 0.33\n",
    "a_M = 0.33\n",
    "a_MSC = 0.5\n",
    "k_S_ref = 0.000025\n",
    "k_D_ref = 0.005\n",
    "k_M_ref = 0.0002\n",
    "Ea_S = 75\n",
    "Ea_D = 50\n",
    "Ea_M = 50"
   ]
  },
  {
   "cell_type": "code",
   "execution_count": 4,
   "metadata": {},
   "outputs": [
    {
     "name": "stdout",
     "output_type": "stream",
     "text": [
      "[45.66033972675598, 0.07146893594388856, 0.7146893594388857]"
     ]
    },
    {
     "data": {
      "text/plain": [
       "retcode: Success\n",
       "Interpolation: 1st order linear\n",
       "t: 50001-element Vector{Float64}:\n",
       "      0.0\n",
       "      2.0\n",
       "      4.0\n",
       "      6.0\n",
       "      8.0\n",
       "     10.0\n",
       "     12.0\n",
       "     14.0\n",
       "     16.0\n",
       "     18.0\n",
       "     20.0\n",
       "     22.0\n",
       "     24.0\n",
       "      ⋮\n",
       "  99978.0\n",
       "  99980.0\n",
       "  99982.0\n",
       "  99984.0\n",
       "  99986.0\n",
       "  99988.0\n",
       "  99990.0\n",
       "  99992.0\n",
       "  99994.0\n",
       "  99996.0\n",
       "  99998.0\n",
       " 100000.0\n",
       "u: 50001-element Vector{Vector{Float64}}:\n",
       " [45.66033972675598, 0.07146893594388856, 0.7146893594388857]\n",
       " [45.65921023359436, 0.071654180033982, 0.714597470908103]\n",
       " [45.656643573614126, 0.0720979219281527, 0.7144028302543975]\n",
       " [45.65300286202577, 0.07273843083577423, 0.7141381096596483]\n",
       " [45.649494385293316, 0.0733392327742783, 0.7138835249001273]\n",
       " [45.64722023385764, 0.07369987030681226, 0.713715073675263]\n",
       " [45.6464472562167, 0.07380118192426902, 0.7136626104170748]\n",
       " [45.64680826966161, 0.07373810825560598, 0.7137110935862316]\n",
       " [45.647818684849085, 0.07360099980489838, 0.7138260691141065]\n",
       " [45.649112508577396, 0.07343867380586513, 0.7139724598373467]\n",
       " [45.65022502414077, 0.07328939959203394, 0.7140932448012485]\n",
       " [45.65116158615498, 0.07315554293284023, 0.7141925167347694]\n",
       " [45.651393700994106, 0.07310717423297035, 0.714219760909494]\n",
       " ⋮\n",
       " [25.34971977370171, 0.06333804505073129, 0.36415688197711027]\n",
       " [25.35141005836771, 0.0631551617077994, 0.36428563179361995]\n",
       " [25.352688446478655, 0.06298032724152539, 0.36437781797222024]\n",
       " [25.35329779492252, 0.0628565325937569, 0.36442237031046343]\n",
       " [25.352693554412213, 0.06284733949508238, 0.36438791525371983]\n",
       " [25.350775889674395, 0.06300975753244833, 0.36428332486925113]\n",
       " [25.34795263372336, 0.06328521787703005, 0.3641294144546962]\n",
       " [25.34563929819272, 0.06347650816711947, 0.3640004906332988]\n",
       " [25.344235918640184, 0.06355467543601595, 0.3639231996893579]\n",
       " [25.34414321234498, 0.06348018320752269, 0.3639222275290897]\n",
       " [25.344876164034396, 0.06335550550317191, 0.36398229371960455]\n",
       " [25.3464145526272, 0.06317356777984903, 0.3640990940979066]"
      ]
     },
     "execution_count": 4,
     "metadata": {},
     "output_type": "execute_result"
    }
   ],
   "source": [
    "###############\n",
    "##ODE Solving##\n",
    "###############\n",
    "\n",
    "tspan = (0., 100000.) #in hours\n",
    "C₀ = analytical_steady_state(I_S(0), I_D(0), u_M, a_SD, a_DS, a_M, a_MSC, k_S_ref, k_D_ref, k_M_ref)\n",
    "print(C₀)\n",
    "p = [u_M, a_SD, a_DS, a_M, a_MSC, k_S_ref, k_D_ref, k_M_ref, Ea_S, Ea_D, Ea_M]\n",
    "\n",
    "function CON!(du, u, p, t)\n",
    "    S, D, M = u\n",
    "    u_M, a_SD, a_DS, a_M, a_MSC, k_S_ref, k_D_ref, k_M_ref, Ea_S, Ea_D, Ea_M = p\n",
    "    du[1] = dS = I_S(t) + a_DS * arrhenius_temp_dep(k_D_ref, temp_gen(t), Ea_D, temp_ref) * D + a_M * a_MSC * arrhenius_temp_dep(k_M_ref, temp_gen(t), Ea_M, temp_ref) * M - arrhenius_temp_dep(k_S_ref, temp_gen(t), Ea_S, temp_ref) * S\n",
    "    du[2] = dD = I_D(t) + a_SD * arrhenius_temp_dep(k_S_ref, temp_gen(t), Ea_S, temp_ref) * S + a_M * (1 - a_MSC) * arrhenius_temp_dep(k_M_ref, temp_gen(t), Ea_M, temp_ref) * M - u_M * D - arrhenius_temp_dep(k_D_ref, temp_gen(t), Ea_D, temp_ref) * D\n",
    "    du[3] = dM = u_M * D - arrhenius_temp_dep(k_M_ref, temp_gen(t), Ea_M, temp_ref) * M  \n",
    "end\n",
    "\n",
    "CON_prob = ODEProblem(CON!, C₀, tspan, p) #save result every 2 hour(s)\n",
    "CON_sol = solve(CON_prob, CVODE_BDF(), dt = 0.05, saveat = 0:2:100000)"
   ]
  },
  {
   "cell_type": "code",
   "execution_count": 5,
   "metadata": {},
   "outputs": [
    {
     "data": {
      "text/plain": [
       "100001-element Vector{Int64}:\n",
       "      0\n",
       "      1\n",
       "      2\n",
       "      3\n",
       "      4\n",
       "      5\n",
       "      6\n",
       "      7\n",
       "      8\n",
       "      9\n",
       "     10\n",
       "     11\n",
       "     12\n",
       "      ⋮\n",
       "  99989\n",
       "  99990\n",
       "  99991\n",
       "  99992\n",
       "  99993\n",
       "  99994\n",
       "  99995\n",
       "  99996\n",
       "  99997\n",
       "  99998\n",
       "  99999\n",
       " 100000"
      ]
     },
     "execution_count": 5,
     "metadata": {},
     "output_type": "execute_result"
    }
   ],
   "source": [
    "tspan_steps = collect(0:1:100000)"
   ]
  },
  {
   "cell_type": "code",
   "execution_count": 6,
   "metadata": {},
   "outputs": [],
   "source": [
    "temp_array = zeros(length(tspan_steps))\n",
    "for i = 1:length(tspan_steps)\n",
    "    temp_array[i] = temp_gen(tspan_steps[i])\n",
    "end"
   ]
  },
  {
   "cell_type": "code",
   "execution_count": 7,
   "metadata": {},
   "outputs": [
    {
     "data": {
      "text/html": [
       "<table class=\"data-frame\"><thead><tr><th></th><th>x1</th><th>x2</th><th>x3</th><th>x4</th><th>x5</th><th>x6</th><th>x7</th><th>x8</th></tr><tr><th></th><th>Float64</th><th>Float64</th><th>Float64</th><th>Float64</th><th>Float64</th><th>Float64</th><th>Float64</th><th>Float64</th></tr></thead><tbody><p>3 rows × 50,001 columns (omitted printing of 49993 columns)</p><tr><th>1</th><td>45.6603</td><td>45.6592</td><td>45.6566</td><td>45.653</td><td>45.6495</td><td>45.6472</td><td>45.6464</td><td>45.6468</td></tr><tr><th>2</th><td>0.0714689</td><td>0.0716542</td><td>0.0720979</td><td>0.0727384</td><td>0.0733392</td><td>0.0736999</td><td>0.0738012</td><td>0.0737381</td></tr><tr><th>3</th><td>0.714689</td><td>0.714597</td><td>0.714403</td><td>0.714138</td><td>0.713884</td><td>0.713715</td><td>0.713663</td><td>0.713711</td></tr></tbody></table>"
      ],
      "text/latex": [
       "\\begin{tabular}{r|ccccccccc}\n",
       "\t& x1 & x2 & x3 & x4 & x5 & x6 & x7 & x8 & \\\\\n",
       "\t\\hline\n",
       "\t& Float64 & Float64 & Float64 & Float64 & Float64 & Float64 & Float64 & Float64 & \\\\\n",
       "\t\\hline\n",
       "\t1 & 45.6603 & 45.6592 & 45.6566 & 45.653 & 45.6495 & 45.6472 & 45.6464 & 45.6468 & $\\dots$ \\\\\n",
       "\t2 & 0.0714689 & 0.0716542 & 0.0720979 & 0.0727384 & 0.0733392 & 0.0736999 & 0.0738012 & 0.0737381 & $\\dots$ \\\\\n",
       "\t3 & 0.714689 & 0.714597 & 0.714403 & 0.714138 & 0.713884 & 0.713715 & 0.713663 & 0.713711 & $\\dots$ \\\\\n",
       "\\end{tabular}\n"
      ],
      "text/plain": [
       "\u001b[1m3×50001 DataFrame\u001b[0m\n",
       "\u001b[1m Row \u001b[0m│\u001b[1m x1         \u001b[0m\u001b[1m x2         \u001b[0m\u001b[1m x3         \u001b[0m\u001b[1m x4         \u001b[0m\u001b[1m x5         \u001b[0m\u001b[1m x6         \u001b[0m\u001b[1m\u001b[0m ⋯\n",
       "\u001b[1m     \u001b[0m│\u001b[90m Float64    \u001b[0m\u001b[90m Float64    \u001b[0m\u001b[90m Float64    \u001b[0m\u001b[90m Float64    \u001b[0m\u001b[90m Float64    \u001b[0m\u001b[90m Float64    \u001b[0m\u001b[90m\u001b[0m ⋯\n",
       "─────┼──────────────────────────────────────────────────────────────────────────\n",
       "   1 │ 45.6603     45.6592     45.6566     45.653      45.6495     45.6472     ⋯\n",
       "   2 │  0.0714689   0.0716542   0.0720979   0.0727384   0.0733392   0.0736999\n",
       "   3 │  0.714689    0.714597    0.714403    0.714138    0.713884    0.713715\n",
       "\u001b[36m                                                           49995 columns omitted\u001b[0m"
      ]
     },
     "execution_count": 7,
     "metadata": {},
     "output_type": "execute_result"
    }
   ],
   "source": [
    "df_CON_soln = DataFrame(CON_sol.u, :auto)"
   ]
  },
  {
   "cell_type": "code",
   "execution_count": 8,
   "metadata": {},
   "outputs": [
    {
     "data": {
      "text/plain": [
       "\"CON_synthetic_soln.csv\""
      ]
     },
     "execution_count": 8,
     "metadata": {},
     "output_type": "execute_result"
    }
   ],
   "source": [
    "CSV.write(\"CON_synthetic_soln.csv\", df_CON_soln)"
   ]
  },
  {
   "cell_type": "code",
   "execution_count": 9,
   "metadata": {},
   "outputs": [
    {
     "data": {
      "text/plain": [
       "\"synthetic_temp.csv\""
      ]
     },
     "execution_count": 9,
     "metadata": {},
     "output_type": "execute_result"
    }
   ],
   "source": [
    "df_temp = DataFrame(hour = tspan_steps[1:2:end], temp = temp_array[1:2:end]) #records temps every 2 hour(s)\n",
    "CSV.write(\"synthetic_temp.csv\", df_temp)"
   ]
  },
  {
   "cell_type": "code",
   "execution_count": 10,
   "metadata": {},
   "outputs": [
    {
     "data": {
      "text/plain": [
       "retcode: Success\n",
       "Interpolation: automatic order switching interpolation\n",
       "t: 231-element Vector{Float64}:\n",
       "      0.0\n",
       "      9.999999999999999e-5\n",
       "      0.0010999999999999998\n",
       "      0.011099999999999997\n",
       "      0.11109999999999996\n",
       "      1.1110999999999995\n",
       "     11.111099999999993\n",
       "     75.20515757091302\n",
       "    186.10787014516467\n",
       "    323.22932192984376\n",
       "    508.43799348843754\n",
       "    745.6116721367242\n",
       "   1101.976978805225\n",
       "      ⋮\n",
       "  95248.90384934294\n",
       "  95669.62809191132\n",
       "  96097.55479171284\n",
       "  96538.5402198793\n",
       "  97003.03479480553\n",
       "  97522.23135813742\n",
       "  98069.54556829006\n",
       "  98511.33358081257\n",
       "  98943.67233873373\n",
       "  99375.56069923908\n",
       "  99806.53500399168\n",
       " 100000.0\n",
       "u: 231-element Vector{Vector{Float64}}:\n",
       " [45.66033972675598, 0.07146893594388856, 0.7146893594388857]\n",
       " [45.66033972675598, 0.07146893594388874, 0.7146893594388857]\n",
       " [45.66033972675619, 0.07146893594391027, 0.7146893594388857]\n",
       " [45.66033972677807, 0.07146893594609785, 0.7146893594388857]\n",
       " [45.660339728969305, 0.07146893616516371, 0.714689359438902]\n",
       " [45.6603399481391, 0.07146895802445026, 0.714689359455251]\n",
       " [45.66036187542897, 0.07147109405942816, 0.7146893755177972]\n",
       " [45.661356718771096, 0.0715548384420756, 0.714693828772879]\n",
       " [45.66657912426898, 0.07189117582968721, 0.7147462833219262]\n",
       " [45.67914702279959, 0.07247440097062345, 0.7149355764262499]\n",
       " [45.70663862127869, 0.07336834347449327, 0.715453950829236]\n",
       " [45.75869291623915, 0.07453862321600697, 0.7165724002760232]\n",
       " [45.86900284693103, 0.07618919272625686, 0.7191410729560643]\n",
       " ⋮\n",
       " [45.23199182598821, 0.06544000932283678, 0.7018108811872626]\n",
       " [45.10707740916357, 0.06681955768280358, 0.6984954118020472]\n",
       " [45.039087743090015, 0.06866402323914995, 0.6967339319943863]\n",
       " [45.037868590324464, 0.0708480752764649, 0.6967883314809988]\n",
       " [45.112037359770135, 0.07322075017931921, 0.6988870158076466]\n",
       " [45.276174523645714, 0.0756319084474137, 0.7034236889031175]\n",
       " [45.517517273727506, 0.07750399961005552, 0.710047082730196]\n",
       " [45.73886623112004, 0.07845110688990282, 0.7160598070855417]\n",
       " [45.955608002625816, 0.07869849555996902, 0.7219267970432373]\n",
       " [46.151387641445446, 0.07825131391096773, 0.7272067032940207]\n",
       " [46.30744600346013, 0.0771644913184952, 0.7313920827487077]\n",
       " [46.36060087180558, 0.0765192245275229, 0.7328010298636191]"
      ]
     },
     "execution_count": 10,
     "metadata": {},
     "output_type": "execute_result"
    }
   ],
   "source": [
    "function CON_ss!(du, u, p, t)\n",
    "    S, D, M = u\n",
    "    u_M, a_SD, a_DS, a_M, a_MSC, k_S_ref, k_D_ref, k_M_ref, Ea_S, Ea_D, Ea_M = p\n",
    "    du[1] = dS = I_S(t) + a_DS * arrhenius_temp_dep(k_D_ref, temp_ref, Ea_D, temp_ref) * D + a_M * a_MSC * arrhenius_temp_dep(k_M_ref, temp_ref, Ea_M, temp_ref) * M - arrhenius_temp_dep(k_S_ref, temp_ref, Ea_S, temp_ref) * S\n",
    "    du[2] = dD = I_D(t) + a_SD * arrhenius_temp_dep(k_S_ref, temp_ref, Ea_S, temp_ref) * S + a_M * (1 - a_MSC) * arrhenius_temp_dep(k_M_ref, temp_ref, Ea_M, temp_ref) * M - u_M * D - arrhenius_temp_dep(k_D_ref, temp_ref, Ea_D, temp_ref) * D\n",
    "    du[3] = dM = u_M * D - arrhenius_temp_dep(k_M_ref, temp_ref, Ea_M, temp_ref) * M  \n",
    "end\n",
    "\n",
    "CON_ss_prob = ODEProblem(CON_ss!, C₀, tspan, p)\n",
    "CON_ss_sol = solve(CON_ss_prob)"
   ]
  },
  {
   "cell_type": "code",
   "execution_count": null,
   "metadata": {},
   "outputs": [],
   "source": []
  }
 ],
 "metadata": {
  "kernelspec": {
   "display_name": "Julia 1.6.1",
   "language": "julia",
   "name": "julia-1.6"
  },
  "language_info": {
   "file_extension": ".jl",
   "mimetype": "application/julia",
   "name": "julia",
   "version": "1.6.1"
  }
 },
 "nbformat": 4,
 "nbformat_minor": 4
}
