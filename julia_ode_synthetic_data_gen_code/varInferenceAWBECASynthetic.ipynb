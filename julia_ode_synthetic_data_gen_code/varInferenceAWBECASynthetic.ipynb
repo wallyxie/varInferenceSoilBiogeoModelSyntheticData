{
 "cells": [
  {
   "cell_type": "code",
   "execution_count": 1,
   "metadata": {},
   "outputs": [],
   "source": [
    "using DifferentialEquations\n",
    "using ParameterizedFunctions\n",
    "using Sundials\n",
    "using DataFrames\n",
    "using CSV"
   ]
  },
  {
   "cell_type": "code",
   "execution_count": 2,
   "metadata": {},
   "outputs": [
    {
     "data": {
      "text/plain": [
       "analytical_steady_state_AWB_full_ECA (generic function with 1 method)"
      ]
     },
     "execution_count": 2,
     "metadata": {},
     "output_type": "execute_result"
    }
   ],
   "source": [
    "function temp_gen(hour, temp_ref)\n",
    "    temp_ref + hour / (20 * 24 * 365) + 10 * sin((2 * pi / 24) * hour) + 10 * sin((2 * pi / (24 * 365)) * hour)\n",
    "end\n",
    "\n",
    "function I_S(hour)\n",
    "    0.001 + 0.0005 * sin((2 * pi / (24 * 365)) * hour) #Exogenous SOC input\n",
    "end\n",
    "\n",
    "function I_D(hour)\n",
    "    0.0001 + 0.00005 * sin((2 * pi / (24 * 365)) * hour) #Exogenous DOC input\n",
    "end\n",
    "\n",
    "function arrhenius_temp_dep(parameter, temp, Ea, temp_ref)\n",
    "    decayed_parameter = parameter * exp(-Ea / 0.008314 * (1 / temp - 1 / temp_ref))\n",
    "end\n",
    "\n",
    "function linear_temp_dep(parameter, temp, Q, temp_ref)\n",
    "    modified_parameter = parameter - Q * (temp - temp_ref)\n",
    "end\n",
    "\n",
    "function analytical_steady_state_AWB_full_ECA(SOC_input, DOC_input, u_Q_ref, Q, a_MSA, K_DE, K_UE, V_DE_ref, V_UE_ref, Ea_V_DE, Ea_V_UE, r_M, r_E, r_L, temp_ref)\n",
    "    u_Q = linear_temp_dep(u_Q_ref, temp_ref, Q, temp_ref)\n",
    "    V_DE = arrhenius_temp_dep(V_DE_ref, temp_ref, Ea_V_DE, temp_ref)\n",
    "    V_UE = arrhenius_temp_dep(V_UE_ref, temp_ref, Ea_V_UE, temp_ref)    \n",
    "    S₀ = ((-K_DE * r_L * (r_E + r_M) * (u_Q - 1) + r_E * u_Q * (SOC_input + DOC_input)) * (SOC_input * r_E * (u_Q - 1) - a_MSA * DOC_input * r_M * u_Q + SOC_input * r_M * (u_Q - a_MSA * u_Q - 1))) / ((r_E + r_M) * (u_Q - 1) * (DOC_input * u_Q * (r_E * V_DE - a_MSA * r_L * r_M) + SOC_input * (r_E * r_L * (u_Q - 1) + r_L * r_M * (u_Q - a_MSA * u_Q - 1) + r_E * u_Q * V_DE)))\n",
    "    D₀ = -(K_UE * (r_E + r_M) * (u_Q - 1) - (SOC_input + DOC_input) * u_Q) / ((u_Q - 1) * (r_E + r_M - u_Q * V_UE))\n",
    "    M₀ = -((SOC_input + DOC_input) * u_Q) / ((r_E + r_M) * (u_Q - 1))\n",
    "    E₀ = r_E * M₀ / r_L\n",
    "    #E₀ = -(((SOC_input + DOC_input) * r_E * r_Q) / (r_L * (r_E + r_M) * (u_Q - 1)))     \n",
    "    return [S₀, D₀, M₀, E₀]    \n",
    "end"
   ]
  },
  {
   "cell_type": "code",
   "execution_count": 3,
   "metadata": {},
   "outputs": [
    {
     "data": {
      "text/plain": [
       "50"
      ]
     },
     "execution_count": 3,
     "metadata": {},
     "output_type": "execute_result"
    }
   ],
   "source": [
    "########################\n",
    "###Non-param Constants##\n",
    "########################\n",
    "\n",
    "temp_ref = 283\n",
    "\n",
    "#########################\n",
    "##ODE System Parameters##\n",
    "#########################\n",
    "\n",
    "u_Q_ref = 0.2\n",
    "Q = 0.002\n",
    "a_MSA = 0.5\n",
    "K_D = 200\n",
    "K_U = 1\n",
    "V_D_ref = 0.4\n",
    "V_U_ref = 0.02\n",
    "Ea_V_D = 75\n",
    "Ea_V_U = 50\n",
    "r_M = 0.0004\n",
    "r_E = 0.00001\n",
    "r_L = 0.0005\n",
    "\n",
    "#Separate parameters for full ECA\n",
    "K_DE = 200\n",
    "K_UE = 1\n",
    "V_DE_ref = 0.4\n",
    "V_UE_ref = 0.02\n",
    "Ea_V_DE = 75\n",
    "Ea_V_UE = 50"
   ]
  },
  {
   "cell_type": "code",
   "execution_count": 4,
   "metadata": {},
   "outputs": [
    {
     "name": "stdout",
     "output_type": "stream",
     "text": [
      "[53.60590075209108, 0.19080779944289697, 0.6707317073170732, 0.013414634146341465]"
     ]
    },
    {
     "data": {
      "text/plain": [
       "retcode: Success\n",
       "Interpolation: 1st order linear\n",
       "t: 50001-element Vector{Float64}:\n",
       "      0.0\n",
       "      2.0\n",
       "      4.0\n",
       "      6.0\n",
       "      8.0\n",
       "     10.0\n",
       "     12.0\n",
       "     14.0\n",
       "     16.0\n",
       "     18.0\n",
       "     20.0\n",
       "     22.0\n",
       "     24.0\n",
       "      ⋮\n",
       "  99978.0\n",
       "  99980.0\n",
       "  99982.0\n",
       "  99984.0\n",
       "  99986.0\n",
       "  99988.0\n",
       "  99990.0\n",
       "  99992.0\n",
       "  99994.0\n",
       "  99996.0\n",
       "  99998.0\n",
       " 100000.0\n",
       "u: 50001-element Vector{Vector{Float64}}:\n",
       " [53.60590075209108, 0.19080779944289697, 0.6707317073170732, 0.013414634146341465]\n",
       " [53.6045411069456, 0.19116497327923662, 0.6709001541646021, 0.013414636841881392]\n",
       " [53.60172032593861, 0.19202643777272824, 0.6712221228663473, 0.013414644302297567]\n",
       " [53.59779760762747, 0.19329315455569177, 0.671653311598881, 0.0134146590820407]\n",
       " [53.594086125638135, 0.19443680469027735, 0.6720722829338039, 0.013414681861633792]\n",
       " [53.59172376512138, 0.19506314624571416, 0.6723607759910643, 0.013414711101235677]\n",
       " [53.59091897284771, 0.1952397206716412, 0.6724667208023151, 0.013414743776974785]\n",
       " [53.59077069422485, 0.19540630990358904, 0.6724544767425805, 0.013414774304259752]\n",
       " [53.591611019382796, 0.1953969086812186, 0.6723011878591642, 0.013414804849189546]\n",
       " [53.59252854430797, 0.1953561441498244, 0.6721413652950788, 0.013414832380124827]\n",
       " [53.59363458242392, 0.19526635241672785, 0.6719585806655325, 0.01341485726733185]\n",
       " [53.594202104425115, 0.1952307088987316, 0.6718625734229801, 0.01341488161341249]\n",
       " [53.593972029034596, 0.1952865066808489, 0.6718923446693862, 0.01341490597266245]\n",
       " ⋮\n",
       " [30.197746094640408, 0.14816919881827595, 1.0098539285032522, 0.015915630587911657]\n",
       " [30.199808008553028, 0.14779768826712197, 1.0094316464342226, 0.015919906221997536]\n",
       " [30.201282648826275, 0.14745512813641612, 1.0091017766745038, 0.015924169412238495]\n",
       " [30.201617022664337, 0.1471997184422508, 1.0089440464732802, 0.015928422775984385]\n",
       " [30.200091239171062, 0.14729438739383624, 1.0090206913829, 0.01593267038626458]\n",
       " [30.196640455336034, 0.14771419703098446, 1.009347880798705, 0.015936917259014152]\n",
       " [30.192010260544517, 0.14840569215486807, 1.0098114986804148, 0.015941165730939368]\n",
       " [30.186792068465103, 0.14921465037071271, 1.010346333206047, 0.01594542120944272]\n",
       " [30.182451202722387, 0.1497797941312051, 1.0107873510535306, 0.015949679866892726]\n",
       " [30.180496267873917, 0.14975072169141335, 1.0109592494757482, 0.01595394334702584]\n",
       " [30.18051606363043, 0.14939330257096722, 1.0108726055757966, 0.01595820572958083]\n",
       " [30.18198169779727, 0.14896742539547922, 1.0105589295414266, 0.015962460230854673]"
      ]
     },
     "execution_count": 4,
     "metadata": {},
     "output_type": "execute_result"
    }
   ],
   "source": [
    "###############\n",
    "##ODE Solving##\n",
    "###############\n",
    "\n",
    "tspan = (0., 100000.) #in hours\n",
    "C₀_ECA = analytical_steady_state_AWB_full_ECA(I_S(0), I_D(0), u_Q_ref, Q, a_MSA, K_DE, K_UE, V_DE_ref, V_UE_ref, Ea_V_DE, Ea_V_UE, r_M, r_E, r_L, temp_ref)\n",
    "print(C₀_ECA)\n",
    "p_ECA = [u_Q_ref, Q, a_MSA, K_DE, K_UE, V_DE_ref, V_UE_ref, Ea_V_DE, Ea_V_UE, r_M, r_E, r_L]\n",
    "\n",
    "#AWB_ECA version\n",
    "function AWB_ECA!(du, u, p, t)\n",
    "    S, D, M, E = u\n",
    "    u_Q_ref, Q, a_MSA, K_DE, K_UE, V_DE_ref, V_UE_ref, Ea_V_DE, Ea_V_UE, r_M, r_E, r_L = p\n",
    "    du[1] = dS = I_S(t) + a_MSA * r_M * M - ((arrhenius_temp_dep(V_DE_ref, temp_gen(t, temp_ref), Ea_V_DE, temp_ref) * E * S) / (K_DE + E + S))\n",
    "    du[2] = dD = I_D(t) + (1 - a_MSA) * r_M * M + ((arrhenius_temp_dep(V_DE_ref, temp_gen(t, temp_ref), Ea_V_DE, temp_ref) * E * S) / (K_DE + E + S)) + r_L * E - ((arrhenius_temp_dep(V_UE_ref, temp_gen(t, temp_ref), Ea_V_UE, temp_ref) * M * D) / (K_UE + M + D))\n",
    "    du[3] = dM = linear_temp_dep(u_Q_ref, temp_gen(t, temp_ref), Q, temp_ref) * ((arrhenius_temp_dep(V_UE_ref, temp_gen(t, temp_ref), Ea_V_UE, temp_ref) * M * D) / (K_UE + M + D)) - r_M * M - r_E * M\n",
    "    du[4] = dE = r_E * M - r_L * E\n",
    "end\n",
    "\n",
    "AWB_ECA_prob = ODEProblem(AWB_ECA!, C₀_ECA, tspan, p_ECA)\n",
    "AWB_ECA_sol = solve(AWB_ECA_prob, CVODE_BDF(), dt = 0.05, saveat = 0:2:100000) #sample result every 2 hour(s), forcing dt = 0.05 hours"
   ]
  },
  {
   "cell_type": "code",
   "execution_count": 5,
   "metadata": {},
   "outputs": [
    {
     "data": {
      "text/html": [
       "<table class=\"data-frame\"><thead><tr><th></th><th>x1</th><th>x2</th><th>x3</th><th>x4</th><th>x5</th><th>x6</th><th>x7</th><th>x8</th></tr><tr><th></th><th>Float64</th><th>Float64</th><th>Float64</th><th>Float64</th><th>Float64</th><th>Float64</th><th>Float64</th><th>Float64</th></tr></thead><tbody><p>4 rows × 50,001 columns (omitted printing of 49993 columns)</p><tr><th>1</th><td>53.6059</td><td>53.6045</td><td>53.6017</td><td>53.5978</td><td>53.5941</td><td>53.5917</td><td>53.5909</td><td>53.5908</td></tr><tr><th>2</th><td>0.190808</td><td>0.191165</td><td>0.192026</td><td>0.193293</td><td>0.194437</td><td>0.195063</td><td>0.19524</td><td>0.195406</td></tr><tr><th>3</th><td>0.670732</td><td>0.6709</td><td>0.671222</td><td>0.671653</td><td>0.672072</td><td>0.672361</td><td>0.672467</td><td>0.672454</td></tr><tr><th>4</th><td>0.0134146</td><td>0.0134146</td><td>0.0134146</td><td>0.0134147</td><td>0.0134147</td><td>0.0134147</td><td>0.0134147</td><td>0.0134148</td></tr></tbody></table>"
      ],
      "text/latex": [
       "\\begin{tabular}{r|ccccccccc}\n",
       "\t& x1 & x2 & x3 & x4 & x5 & x6 & x7 & x8 & \\\\\n",
       "\t\\hline\n",
       "\t& Float64 & Float64 & Float64 & Float64 & Float64 & Float64 & Float64 & Float64 & \\\\\n",
       "\t\\hline\n",
       "\t1 & 53.6059 & 53.6045 & 53.6017 & 53.5978 & 53.5941 & 53.5917 & 53.5909 & 53.5908 & $\\dots$ \\\\\n",
       "\t2 & 0.190808 & 0.191165 & 0.192026 & 0.193293 & 0.194437 & 0.195063 & 0.19524 & 0.195406 & $\\dots$ \\\\\n",
       "\t3 & 0.670732 & 0.6709 & 0.671222 & 0.671653 & 0.672072 & 0.672361 & 0.672467 & 0.672454 & $\\dots$ \\\\\n",
       "\t4 & 0.0134146 & 0.0134146 & 0.0134146 & 0.0134147 & 0.0134147 & 0.0134147 & 0.0134147 & 0.0134148 & $\\dots$ \\\\\n",
       "\\end{tabular}\n"
      ],
      "text/plain": [
       "\u001b[1m4×50001 DataFrame\u001b[0m\n",
       "\u001b[1m Row \u001b[0m│\u001b[1m x1         \u001b[0m\u001b[1m x2         \u001b[0m\u001b[1m x3         \u001b[0m\u001b[1m x4         \u001b[0m\u001b[1m x5         \u001b[0m\u001b[1m x6         \u001b[0m\u001b[1m\u001b[0m ⋯\n",
       "\u001b[1m     \u001b[0m│\u001b[90m Float64    \u001b[0m\u001b[90m Float64    \u001b[0m\u001b[90m Float64    \u001b[0m\u001b[90m Float64    \u001b[0m\u001b[90m Float64    \u001b[0m\u001b[90m Float64    \u001b[0m\u001b[90m\u001b[0m ⋯\n",
       "─────┼──────────────────────────────────────────────────────────────────────────\n",
       "   1 │ 53.6059     53.6045     53.6017     53.5978     53.5941     53.5917     ⋯\n",
       "   2 │  0.190808    0.191165    0.192026    0.193293    0.194437    0.195063\n",
       "   3 │  0.670732    0.6709      0.671222    0.671653    0.672072    0.672361\n",
       "   4 │  0.0134146   0.0134146   0.0134146   0.0134147   0.0134147   0.0134147\n",
       "\u001b[36m                                                           49995 columns omitted\u001b[0m"
      ]
     },
     "execution_count": 5,
     "metadata": {},
     "output_type": "execute_result"
    }
   ],
   "source": [
    "##################\n",
    "##Exporting Data##\n",
    "##################\n",
    "\n",
    "df_AWB_ECA_soln = DataFrame(AWB_ECA_sol.u, :auto)\n",
    "df_AWB_ECA_soln"
   ]
  },
  {
   "cell_type": "code",
   "execution_count": 6,
   "metadata": {},
   "outputs": [
    {
     "data": {
      "text/plain": [
       "\"AWB_ECA_synthetic_soln.csv\""
      ]
     },
     "execution_count": 6,
     "metadata": {},
     "output_type": "execute_result"
    }
   ],
   "source": [
    "CSV.write(\"AWB_ECA_synthetic_soln.csv\", df_AWB_ECA_soln)"
   ]
  }
 ],
 "metadata": {
  "kernelspec": {
   "display_name": "Julia 1.6.1",
   "language": "julia",
   "name": "julia-1.6"
  },
  "language_info": {
   "file_extension": ".jl",
   "mimetype": "application/julia",
   "name": "julia",
   "version": "1.6.1"
  }
 },
 "nbformat": 4,
 "nbformat_minor": 4
}
