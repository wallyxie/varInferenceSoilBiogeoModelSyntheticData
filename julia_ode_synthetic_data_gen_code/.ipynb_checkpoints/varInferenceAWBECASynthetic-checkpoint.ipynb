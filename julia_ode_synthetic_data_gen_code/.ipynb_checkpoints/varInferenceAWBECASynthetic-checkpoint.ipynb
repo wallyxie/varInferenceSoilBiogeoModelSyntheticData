{
 "cells": [
  {
   "cell_type": "code",
   "execution_count": 1,
   "metadata": {},
   "outputs": [],
   "source": [
    "using DifferentialEquations\n",
    "using ParameterizedFunctions\n",
    "using Sundials\n",
    "using LSODA\n",
    "using DataFrames\n",
    "using CSV"
   ]
  },
  {
   "cell_type": "code",
   "execution_count": 2,
   "metadata": {},
   "outputs": [
    {
     "data": {
      "text/plain": [
       "analytical_steady_state_AWB_full_ECA (generic function with 1 method)"
      ]
     },
     "execution_count": 2,
     "metadata": {},
     "output_type": "execute_result"
    }
   ],
   "source": [
    "function temp_gen(hour, temp_ref)\n",
    "    temp_ref + hour / (20 * 24 * 365) + 10 * sin((2 * pi / 24) * hour) + 10 * sin((2 * pi / (24 * 365)) * hour)\n",
    "end\n",
    "\n",
    "function I_S(hour)\n",
    "    0.001 + 0.0005 * sin((2 * pi / (24 * 365)) * hour) #Exogenous SOC input\n",
    "end\n",
    "\n",
    "function I_D(hour)\n",
    "    0.0001 + 0.00005 * sin((2 * pi / (24 * 365)) * hour) #Exogenous DOC input\n",
    "end\n",
    "\n",
    "function arrhenius_temp_dep(parameter, temp, Ea, temp_ref)\n",
    "    decayed_parameter = parameter * exp(-Ea / 0.008314 * (1 / temp - 1 / temp_ref))\n",
    "end\n",
    "\n",
    "function linear_temp_dep(parameter, temp, Q, temp_ref)\n",
    "    modified_parameter = parameter - Q * (temp - temp_ref)\n",
    "end\n",
    "\n",
    "function analytical_steady_state_AWB_full_ECA(SOC_input, DOC_input, u_Q_ref, Q, a_MSA, K_DE, K_UE, V_DE_ref, V_UE_ref, Ea_V_DE, Ea_V_UE, r_M, r_E, r_L, temp_ref)\n",
    "    u_Q = linear_temp_dep(u_Q_ref, temp_ref, Q, temp_ref)\n",
    "    V_DE = arrhenius_temp_dep(V_DE_ref, temp_ref, Ea_V_DE, temp_ref)\n",
    "    V_UE = arrhenius_temp_dep(V_UE_ref, temp_ref, Ea_V_UE, temp_ref)    \n",
    "    S₀ = ((-K_DE * r_L * (r_E + r_M) * (u_Q - 1) + r_E * u_Q * (SOC_input + DOC_input)) * (SOC_input * r_E * (u_Q - 1) - a_MSA * DOC_input * r_M * u_Q + SOC_input * r_M * (u_Q - a_MSA * u_Q - 1))) / ((r_E + r_M) * (u_Q - 1) * (DOC_input * u_Q * (r_E * V_DE - a_MSA * r_L * r_M) + SOC_input * (r_E * r_L * (u_Q - 1) + r_L * r_M * (u_Q - a_MSA * u_Q - 1) + r_E * u_Q * V_DE)))\n",
    "    D₀ = -(K_UE * (r_E + r_M) * (u_Q - 1) - (SOC_input + DOC_input) * u_Q) / ((u_Q - 1) * (r_E + r_M - u_Q * V_UE))\n",
    "    M₀ = -((SOC_input + DOC_input) * u_Q) / ((r_E + r_M) * (u_Q - 1))\n",
    "    E₀ = r_E * M₀ / r_L\n",
    "    #E₀ = -(((SOC_input + DOC_input) * r_E * r_Q) / (r_L * (r_E + r_M) * (u_Q - 1)))     \n",
    "    return [S₀, D₀, M₀, E₀]    \n",
    "end"
   ]
  },
  {
   "cell_type": "code",
   "execution_count": 3,
   "metadata": {},
   "outputs": [
    {
     "data": {
      "text/plain": [
       "50"
      ]
     },
     "execution_count": 3,
     "metadata": {},
     "output_type": "execute_result"
    }
   ],
   "source": [
    "########################\n",
    "###Non-param Constants##\n",
    "########################\n",
    "\n",
    "temp_ref = 283\n",
    "\n",
    "#########################\n",
    "##ODE System Parameters##\n",
    "#########################\n",
    "\n",
    "u_Q_ref = 0.2\n",
    "Q = 0.002\n",
    "a_MSA = 0.5\n",
    "K_D = 200\n",
    "K_U = 1\n",
    "V_D_ref = 0.4\n",
    "V_U_ref = 0.02\n",
    "Ea_V_D = 75\n",
    "Ea_V_U = 50\n",
    "r_M = 0.0004\n",
    "r_E = 0.00001\n",
    "r_L = 0.0005\n",
    "\n",
    "#Separate parameters for full ECA\n",
    "K_DE = 200\n",
    "K_UE = 1\n",
    "V_DE_ref = 0.4\n",
    "V_UE_ref = 0.02\n",
    "Ea_V_DE = 75\n",
    "Ea_V_UE = 50"
   ]
  },
  {
   "cell_type": "code",
   "execution_count": 7,
   "metadata": {},
   "outputs": [
    {
     "name": "stdout",
     "output_type": "stream",
     "text": [
      "[53.60590075209108, 0.19080779944289697, 0.6707317073170732, 0.013414634146341465]"
     ]
    },
    {
     "data": {
      "text/plain": [
       "retcode: Success\n",
       "Interpolation: 1st order linear\n",
       "t: 10001-element Array{Float64,1}:\n",
       "      0.0\n",
       "     10.0\n",
       "     20.0\n",
       "     30.0\n",
       "     40.0\n",
       "     50.0\n",
       "     60.0\n",
       "     70.0\n",
       "     80.0\n",
       "     90.0\n",
       "    100.0\n",
       "    110.0\n",
       "    120.0\n",
       "      ⋮\n",
       "  99890.0\n",
       "  99900.0\n",
       "  99910.0\n",
       "  99920.0\n",
       "  99930.0\n",
       "  99940.0\n",
       "  99950.0\n",
       "  99960.0\n",
       "  99970.0\n",
       "  99980.0\n",
       "  99990.0\n",
       " 100000.0\n",
       "u: 10001-element Array{Array{Float64,1},1}:\n",
       " [53.60590075209108, 0.19080779944289697, 0.6707317073170732, 0.013414634146341465]\n",
       " [53.59172376512138, 0.19506314624571416, 0.6723607759910643, 0.013414711101235677]\n",
       " [53.59363458242392, 0.19526635241672785, 0.6719585806655325, 0.01341485726733185]\n",
       " [53.58570079247771, 0.19778611021558237, 0.6728378392721968, 0.013415005562481966]\n",
       " [53.579350692299904, 0.19961971417790736, 0.6735768260086391, 0.013415274546223446]\n",
       " [53.580528869184235, 0.19967876508645177, 0.6733527401971523, 0.013415527765134841]\n",
       " [53.56723603864943, 0.20285827924729588, 0.6750488010626435, 0.01341588415480488]\n",
       " [53.57158593405814, 0.20195842984716444, 0.6744751226205882, 0.013416273286529572]\n",
       " [53.55864011818029, 0.20492751589115735, 0.6761616777455196, 0.013416705708169262]\n",
       " [53.55782282614279, 0.2050115495828156, 0.6763030073695476, 0.013417264069971225]\n",
       " [53.55497019505926, 0.20568961162340618, 0.6766831698156974, 0.013417808632227394]\n",
       " [53.54521914857363, 0.20746211947617252, 0.6780581551401759, 0.013418480998507343]\n",
       " [53.54981730153289, 0.2064249291623389, 0.677491095050021, 0.013419151797214864]\n",
       " ⋮\n",
       " [29.941554540016124, 0.14833596390752626, 1.012174146422209, 0.015894185748998785]\n",
       " [29.922623128492475, 0.15019683276783963, 1.01414394884928, 0.015915996075860722]\n",
       " [29.928037225128545, 0.14818159873147768, 1.0129081270498466, 0.015937717288332504]\n",
       " [29.910901434241943, 0.15012648017510272, 1.014560818328665, 0.01595933181909284]\n",
       " [29.908956452804354, 0.14897276423057346, 1.014344088346159, 0.015980959735456858]\n",
       " [29.905648749252833, 0.14833252689319998, 1.0142501136371544, 0.01600240424344676]\n",
       " [29.890423618314266, 0.1496095494811875, 1.0157061651020844, 0.016023869918566736]\n",
       " [29.893825867774602, 0.14802778238636635, 1.0146795784985023, 0.01604520631461507]\n",
       " [29.87487364347878, 0.15004380455273378, 1.0165908852258534, 0.01606648712803037]\n",
       " [29.878269204477395, 0.14835245183079226, 1.0155733237497928, 0.016087724354084815]\n",
       " [29.86724328141521, 0.14891719490335958, 1.0164789966778585, 0.016108789773423376]\n",
       " [29.858493297667223, 0.14911790896554059, 1.0170624398406258, 0.01612990505693401]"
      ]
     },
     "execution_count": 7,
     "metadata": {},
     "output_type": "execute_result"
    }
   ],
   "source": [
    "###############\n",
    "##ODE Solving##\n",
    "###############\n",
    "\n",
    "tspan = (0., 100000.) #in hours\n",
    "C₀_ECA = analytical_steady_state_AWB_full_ECA(I_S(0), I_D(0), u_Q_ref, Q, a_MSA, K_DE, K_UE, V_DE_ref, V_UE_ref, Ea_V_DE, Ea_V_UE, r_M, r_E, r_L, temp_ref)\n",
    "print(C₀_ECA)\n",
    "p_ECA = [u_Q_ref, Q, a_MSA, K_DE, K_UE, V_DE_ref, V_UE_ref, Ea_V_DE, Ea_V_UE, r_M, r_E, r_L]\n",
    "\n",
    "#AWB_ECA version\n",
    "function AWB_ECA!(du, u, p, t)\n",
    "    S, D, M, E = u\n",
    "    u_Q_ref, Q, a_MSA, K_DE, K_UE, V_DE_ref, V_UE_ref, Ea_V_DE, Ea_V_UE, r_M, r_E, r_L = p\n",
    "    du[1] = dS = I_S(t) + a_MSA * r_M * M - ((arrhenius_temp_dep(V_DE_ref, temp_gen(t, temp_ref), Ea_V_DE, temp_ref) * E * S) / (K_DE + E + S))\n",
    "    du[2] = dD = I_D(t) + (1 - a_MSA) * r_M * M + ((arrhenius_temp_dep(V_DE_ref, temp_gen(t, temp_ref), Ea_V_DE, temp_ref) * E * S) / (K_DE + E + S)) + r_L * E - ((arrhenius_temp_dep(V_UE_ref, temp_gen(t, temp_ref), Ea_V_UE, temp_ref) * M * D) / (K_UE + M + D))\n",
    "    du[3] = dM = linear_temp_dep(u_Q_ref, temp_gen(t, temp_ref), Q, temp_ref) * ((arrhenius_temp_dep(V_UE_ref, temp_gen(t, temp_ref), Ea_V_UE, temp_ref) * M * D) / (K_UE + M + D)) - r_M * M - r_E * M\n",
    "    du[4] = dE = r_E * M - r_L * E\n",
    "end\n",
    "\n",
    "AWB_ECA_prob = ODEProblem(AWB_ECA!, C₀_ECA, tspan, p_ECA)\n",
    "AWB_ECA_sol = solve(AWB_ECA_prob, CVODE_BDF(), dt = 0.05, saveat = 0:10:100000) #sample result every 10 hours, forcing dt = 0.05 hours"
   ]
  },
  {
   "cell_type": "code",
   "execution_count": 6,
   "metadata": {},
   "outputs": [
    {
     "data": {
      "text/plain": [
       "\"AWB_ECA_synthetic_soln.csv\""
      ]
     },
     "execution_count": 6,
     "metadata": {},
     "output_type": "execute_result"
    }
   ],
   "source": [
    "##################\n",
    "##Exporting Data##\n",
    "##################\n",
    "\n",
    "df_AWB_ECA_soln = DataFrame(AWB_ECA_sol.u)\n",
    "CSV.write(\"AWB_ECA_synthetic_soln.csv\", df_AWB_ECA_soln)"
   ]
  },
  {
   "cell_type": "code",
   "execution_count": null,
   "metadata": {},
   "outputs": [],
   "source": []
  }
 ],
 "metadata": {
  "kernelspec": {
   "display_name": "Julia 1.5.3",
   "language": "julia",
   "name": "julia-1.5"
  },
  "language_info": {
   "file_extension": ".jl",
   "mimetype": "application/julia",
   "name": "julia",
   "version": "1.5.3"
  }
 },
 "nbformat": 4,
 "nbformat_minor": 4
}
