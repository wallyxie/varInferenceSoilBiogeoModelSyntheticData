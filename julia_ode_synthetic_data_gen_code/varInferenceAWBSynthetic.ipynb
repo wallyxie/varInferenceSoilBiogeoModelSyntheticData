{
 "cells": [
  {
   "cell_type": "code",
   "execution_count": 1,
   "metadata": {},
   "outputs": [],
   "source": [
    "using DifferentialEquations\n",
    "using ParameterizedFunctions\n",
    "using Sundials\n",
    "using DataFrames\n",
    "using CSV"
   ]
  },
  {
   "cell_type": "code",
   "execution_count": 2,
   "metadata": {},
   "outputs": [
    {
     "data": {
      "text/plain": [
       "analytical_steady_state_AWB_original (generic function with 1 method)"
      ]
     },
     "execution_count": 2,
     "metadata": {},
     "output_type": "execute_result"
    }
   ],
   "source": [
    "function temp_gen(hour, temp_ref)\n",
    "    temp_ref + hour / (20 * 24 * 365) + 10 * sin((2 * pi / 24) * hour) + 10 * sin((2 * pi / (24 * 365)) * hour)\n",
    "end\n",
    "\n",
    "function I_S(hour)\n",
    "    0.001 + 0.0005 * sin((2 * pi / (24 * 365)) * hour) #Exogenous SOC input\n",
    "end\n",
    "\n",
    "function I_D(hour)\n",
    "    0.0001 + 0.00005 * sin((2 * pi / (24 * 365)) * hour) #Exogenous DOC input\n",
    "end\n",
    "\n",
    "function arrhenius_temp_dep(parameter, temp, Ea, temp_ref)\n",
    "    decayed_parameter = parameter * exp(-Ea / 0.008314 * (1 / temp - 1 / temp_ref))\n",
    "end\n",
    "\n",
    "function linear_temp_dep(parameter, temp, Q, temp_ref)\n",
    "    modified_parameter = parameter - Q * (temp - temp_ref)\n",
    "end\n",
    "\n",
    "function analytical_steady_state_AWB_original(SOC_input, DOC_input, u_Q_ref, Q, a_MSA, K_D, K_U, V_D_ref, V_U_ref, Ea_V_D, Ea_V_U, r_M, r_E, r_L, temp_ref)\n",
    "    u_Q = linear_temp_dep(u_Q_ref, temp_ref, Q, temp_ref)\n",
    "    V_D = arrhenius_temp_dep(V_D_ref, temp_ref, Ea_V_D, temp_ref)\n",
    "    V_U = arrhenius_temp_dep(V_U_ref, temp_ref, Ea_V_U, temp_ref)    \n",
    "    D₀ = -((K_U * (r_E + r_M)) / (r_E + r_M - u_Q * V_U))\n",
    "    S₀ = -((K_D * r_L * (SOC_input * r_E * (u_Q - 1) - a_MSA * DOC_input * r_M * u_Q + SOC_input * r_M * (-1 + u_Q - a_MSA * u_Q))) / (DOC_input * u_Q * (-a_MSA * r_L * r_M + r_E * V_D) + SOC_input * (r_E * r_L * (u_Q - 1) + r_L * r_M * (-1 + u_Q - a_MSA * u_Q) + r_E * u_Q * V_D)))\n",
    "    M₀ = -((u_Q * (SOC_input + DOC_input)) / ((r_E + r_M) * (u_Q - 1)))\n",
    "    E₀ = -((r_E * u_Q * (SOC_input + DOC_input)) / (r_L * (r_E + r_M) * (u_Q - 1))) \n",
    "    return [S₀, D₀, M₀, E₀]\n",
    "end"
   ]
  },
  {
   "cell_type": "code",
   "execution_count": 3,
   "metadata": {},
   "outputs": [
    {
     "data": {
      "text/plain": [
       "50"
      ]
     },
     "execution_count": 3,
     "metadata": {},
     "output_type": "execute_result"
    }
   ],
   "source": [
    "########################\n",
    "###Non-param Constants##\n",
    "########################\n",
    "\n",
    "temp_ref = 283\n",
    "\n",
    "#########################\n",
    "##ODE System Parameters##\n",
    "#########################\n",
    "\n",
    "u_Q_ref = 0.2\n",
    "Q = 0.002\n",
    "a_MSA = 0.5\n",
    "K_D = 200\n",
    "K_U = 1\n",
    "V_D_ref = 0.4\n",
    "V_U_ref = 0.02\n",
    "Ea_V_D = 75\n",
    "Ea_V_U = 50\n",
    "r_M = 0.0004\n",
    "r_E = 0.00001\n",
    "r_L = 0.0005\n",
    "\n",
    "#Separate parameters for full ECA\n",
    "K_DE = 200\n",
    "K_UE = 1\n",
    "V_DE_ref = 0.4\n",
    "V_UE_ref = 0.02\n",
    "Ea_V_DE = 75\n",
    "Ea_V_UE = 50"
   ]
  },
  {
   "cell_type": "code",
   "execution_count": 4,
   "metadata": {},
   "outputs": [
    {
     "name": "stdout",
     "output_type": "stream",
     "text": [
      "[53.60230547550432, 0.11420612813370475, 0.6707317073170732, 0.013414634146341465]"
     ]
    },
    {
     "data": {
      "text/plain": [
       "retcode: Success\n",
       "Interpolation: 1st order linear\n",
       "t: 50001-element Vector{Float64}:\n",
       "      0.0\n",
       "      2.0\n",
       "      4.0\n",
       "      6.0\n",
       "      8.0\n",
       "     10.0\n",
       "     12.0\n",
       "     14.0\n",
       "     16.0\n",
       "     18.0\n",
       "     20.0\n",
       "     22.0\n",
       "     24.0\n",
       "      ⋮\n",
       "  99978.0\n",
       "  99980.0\n",
       "  99982.0\n",
       "  99984.0\n",
       "  99986.0\n",
       "  99988.0\n",
       "  99990.0\n",
       "  99992.0\n",
       "  99994.0\n",
       "  99996.0\n",
       "  99998.0\n",
       " 100000.0\n",
       "u: 50001-element Vector{Vector{Float64}}:\n",
       " [53.60230547550432, 0.11420612813370475, 0.6707317073170732, 0.013414634146341465]\n",
       " [53.60110112077525, 0.11451744294844479, 0.6708820294018831, 0.013414636186660986]\n",
       " [53.59840728020702, 0.11532410933540727, 0.6711926923078062, 0.01341464265251501]\n",
       " [53.5944760308531, 0.11655930969112097, 0.671631202527707, 0.013414656572205762]\n",
       " [53.59064084235692, 0.11770005203467468, 0.6720712476406989, 0.013414679052891468]\n",
       " [53.5881335801451, 0.11832133007587438, 0.672385198919786, 0.013414708804701619]\n",
       " [53.58727533158442, 0.11845731014909311, 0.6725085355579893, 0.01341474256435054]\n",
       " [53.58751080726127, 0.11844177126744804, 0.6724668814072924, 0.01341477597439892]\n",
       " [53.588484467690094, 0.11834111412537934, 0.6723096344305215, 0.013414807666836503]\n",
       " [53.5898157636821, 0.11822756058752976, 0.672089893688963, 0.013414836082379328]\n",
       " [53.59117842120513, 0.1180980837429905, 0.6718687254635931, 0.013414860488384807]\n",
       " [53.591758816251925, 0.11801113859591167, 0.6717817211279427, 0.013414884061607294]\n",
       " [53.591885202320505, 0.11794391821175502, 0.6717739503280371, 0.013414905768626936]\n",
       " ⋮\n",
       " [29.933593841801994, 0.07374413648822241, 0.9884665797802316, 0.015686510352223668]\n",
       " [29.93547764891549, 0.07343180885890499, 0.9880747856942749, 0.01569058773133407]\n",
       " [29.936918472483864, 0.07310630870981831, 0.987760863831627, 0.01569465459923816]\n",
       " [29.937401861756143, 0.07278882510293104, 0.987606265508863, 0.015698712376700678]\n",
       " [29.936180421913647, 0.07274777357736505, 0.987676821372262, 0.015702765528527368]\n",
       " [29.933009423650173, 0.07306797420149967, 0.987994206988429, 0.015706817305770126]\n",
       " [29.92842443586315, 0.07371470015681467, 0.98847485170143, 0.015710872137880093]\n",
       " [29.923180898417204, 0.07454232903377686, 0.9890231107655175, 0.015714933356801502]\n",
       " [29.919337478041864, 0.07491826076145594, 0.9894330389294659, 0.015719000581328312]\n",
       " [29.917706006170185, 0.07477286344752793, 0.9895872025875606, 0.015723070087315223]\n",
       " [29.91807275619967, 0.07429850662777185, 0.9894787538998323, 0.015727136760456596]\n",
       " [29.919630296028583, 0.07384154058246768, 0.9891684217331447, 0.01573119464315894]"
      ]
     },
     "execution_count": 4,
     "metadata": {},
     "output_type": "execute_result"
    }
   ],
   "source": [
    "###############\n",
    "##ODE Solving##\n",
    "###############\n",
    "\n",
    "tspan = (0., 100000.) #in hours\n",
    "C₀ = analytical_steady_state_AWB_original(I_S(0), I_D(0), u_Q_ref, Q, a_MSA, K_D, K_U, V_D_ref, V_U_ref, Ea_V_D, Ea_V_U, r_M, r_E, r_L, temp_ref)\n",
    "print(C₀)\n",
    "p = [u_Q_ref, Q, a_MSA, K_D, K_U, V_D_ref, V_U_ref, Ea_V_D, Ea_V_U, r_M, r_E, r_L]\n",
    "\n",
    "function AWB!(du, u, p, t)\n",
    "    S, D, M, E = u\n",
    "    u_Q_ref, Q, a_MSA, K_D, K_U, V_D_ref, V_U_ref, Ea_V_D, Ea_V_U, r_M, r_E, r_L = p\n",
    "    du[1] = dS = I_S(t) + a_MSA * r_M * M - ((arrhenius_temp_dep(V_D_ref, temp_gen(t, temp_ref), Ea_V_D, temp_ref) * E * S) / (K_D + S))\n",
    "    du[2] = dD = I_D(t) + (1 - a_MSA) * r_M * M + ((arrhenius_temp_dep(V_D_ref, temp_gen(t, temp_ref), Ea_V_D, temp_ref) * E * S) / (K_D + S)) + r_L * E - ((arrhenius_temp_dep(V_U_ref, temp_gen(t, temp_ref), Ea_V_U, temp_ref) * M * D) / (K_U + D))\n",
    "    du[3] = dM = linear_temp_dep(u_Q_ref, temp_gen(t, temp_ref), Q, temp_ref) * ((arrhenius_temp_dep(V_U_ref, temp_gen(t, temp_ref), Ea_V_U, temp_ref) * M * D) / (K_U + D)) - r_M * M - r_E * M\n",
    "    du[4] = dE = r_E * M - r_L * E\n",
    "end\n",
    "\n",
    "AWB_prob = ODEProblem(AWB!, C₀, tspan, p)\n",
    "AWB_sol = solve(AWB_prob, CVODE_BDF(), dt = 0.05, saveat = 0:2:100000) #sample result every 2 hour(s), forcing dt = 0.05 hours"
   ]
  },
  {
   "cell_type": "code",
   "execution_count": 5,
   "metadata": {},
   "outputs": [
    {
     "data": {
      "text/plain": [
       "retcode: Success\n",
       "Interpolation: 1st order linear\n",
       "t: 10001-element Vector{Float64}:\n",
       "      0.0\n",
       "     10.0\n",
       "     20.0\n",
       "     30.0\n",
       "     40.0\n",
       "     50.0\n",
       "     60.0\n",
       "     70.0\n",
       "     80.0\n",
       "     90.0\n",
       "    100.0\n",
       "    110.0\n",
       "    120.0\n",
       "      ⋮\n",
       "  99890.0\n",
       "  99900.0\n",
       "  99910.0\n",
       "  99920.0\n",
       "  99930.0\n",
       "  99940.0\n",
       "  99950.0\n",
       "  99960.0\n",
       "  99970.0\n",
       "  99980.0\n",
       "  99990.0\n",
       " 100000.0\n",
       "u: 10001-element Vector{Vector{Float64}}:\n",
       " [53.60230547550432, 0.11420612813370475, 0.6707317073170732, 0.013414634146341465]\n",
       " [53.60232340589836, 0.11420785877830991, 0.670731720007776, 0.013414634146546447]\n",
       " [53.6023771922384, 0.11421281471546423, 0.6707318059263293, 0.013414634150733944]\n",
       " [53.6024668260002, 0.11422067259270333, 0.6707320304637636, 0.013414634170270714]\n",
       " [53.60259229690947, 0.11423113753121587, 0.670732453078428, 0.013414634221939522]\n",
       " [53.602753592933496, 0.11424394162652586, 0.6707331276074239, 0.013414634327625012]\n",
       " [53.60295070023834, 0.11425883602955951, 0.6707341039114435, 0.013414634512656313]\n",
       " [53.60318360320234, 0.11427559331907944, 0.6707354273819007, 0.013414634806303982]\n",
       " [53.603452284594546, 0.11429403998767265, 0.6707371321931397, 0.01341463524857979]\n",
       " [53.603756725347196, 0.11431401417360212, 0.6707392500819396, 0.013414635881390085]\n",
       " [53.60409690454136, 0.11433536301223625, 0.6707418108976498, 0.013414636747981443]\n",
       " [53.60447279940694, 0.11435794263604884, 0.6707448426021894, 0.013414637892940659]\n",
       " [53.60488438532273, 0.11438161817461916, 0.6707483712700473, 0.01341463936219476]\n",
       " ⋮\n",
       " [54.339565559101686, 0.1165344462226233, 0.6774927735760322, 0.013348329920108978]\n",
       " [54.34225121091448, 0.11650199007801774, 0.6775421920063366, 0.013349336825725134]\n",
       " [54.34486663340728, 0.11646586484515073, 0.6775910434097562, 0.013350343734227615]\n",
       " [54.347411826580064, 0.11642607052402225, 0.677639327786291, 0.013351350645616423]\n",
       " [54.349886790432855, 0.1163826071146323, 0.6776870451359411, 0.013352357559891557]\n",
       " [54.35268497055376, 0.11637288246683689, 0.6777345899065602, 0.013353364459010433]\n",
       " [54.35541034242006, 0.11635909739071451, 0.6777816020518732, 0.013354370895008799]\n",
       " [54.35806156319875, 0.11634112396523308, 0.6778280802883265, 0.013355376867158061]\n",
       " [54.36063863288986, 0.11631896219039257, 0.6778740246159202, 0.013356382375458218]\n",
       " [54.36314155149336, 0.11629261206619301, 0.6779194350346542, 0.01335738741990927]\n",
       " [54.365570319009265, 0.1162620735926344, 0.6779643115445286, 0.01335839200051122]\n",
       " [54.36792493543757, 0.1162273467697167, 0.6780086541455435, 0.013359396117264066]"
      ]
     },
     "execution_count": 5,
     "metadata": {},
     "output_type": "execute_result"
    }
   ],
   "source": [
    "##########################\n",
    "##Debugging and Checking##\n",
    "##########################\n",
    "\n",
    "#Test if function sticks to steady state with no temperature forcing\n",
    "\n",
    "function AWB_ss!(du, u, p, t)\n",
    "    S, D, M, E = u\n",
    "    u_Q_ref, Q, a_MSA, K_D, K_U, V_D_ref, V_U_ref, Ea_V_D, Ea_V_U, r_M, r_E, r_L = p\n",
    "    du[1] = dS = I_S(t) + a_MSA * r_M * M - (V_D_ref * E * S) / (K_D + S)\n",
    "    du[2] = dD = I_D(t) + (1 - a_MSA) * r_M * M + (V_D_ref * E * S) / (K_D + S) + r_L * E - (V_U_ref * M * D) / (K_U + D)\n",
    "    du[3] = dM = u_Q_ref * (V_U_ref * M * D) / (K_U + D) - r_M * M - r_E * M\n",
    "    du[4] = dE = r_E * M - r_L * E\n",
    "end\n",
    "\n",
    "AWB_ss_prob = ODEProblem(AWB_ss!, C₀, tspan, p)\n",
    "AWB_ss_sol = solve(AWB_ss_prob, dt = 0.05, saveat = 0:10:100000) #sample result every 10 hours, forcing dt = 0.05 hours)\n",
    "\n",
    "function AWB_ss2!(du, u, p, t)\n",
    "    S, D, M, E = u\n",
    "    u_Q_ref, Q, a_MSA, K_D, K_U, V_D_ref, V_U_ref, Ea_V_D, Ea_V_U, r_M, r_E, r_L = p\n",
    "    du[1] = dS = I_S(t) + a_MSA * r_M * M - ((arrhenius_temp_dep(V_D_ref, temp_ref, Ea_V_D, temp_ref) * E * S) / (K_D + S))\n",
    "    du[2] = dD = I_D(t) + (1 - a_MSA) * r_M * M + ((arrhenius_temp_dep(V_D_ref, temp_ref, Ea_V_D, temp_ref) * E * S) / (K_D + S)) + r_L * E - ((arrhenius_temp_dep(V_U_ref, temp_ref, Ea_V_U, temp_ref) * M * D) / (K_U + D))\n",
    "    du[3] = dM = linear_temp_dep(u_Q_ref, temp_ref, Q, temp_ref) * ((arrhenius_temp_dep(V_U_ref, temp_ref, Ea_V_U, temp_ref) * M * D) / (K_U + D)) - r_M * M - r_E * M\n",
    "    du[4] = dE = r_E * M - r_L * E\n",
    "end\n",
    "\n",
    "AWB_ss2_prob = ODEProblem(AWB_ss2!, C₀, tspan, p)\n",
    "AWB_ss2_sol = solve(AWB_ss2_prob, dt = 0.05, saveat = 0:10:100000) #sample result every 10 hours, forcing dt = 0.05 hours)"
   ]
  },
  {
   "cell_type": "code",
   "execution_count": 6,
   "metadata": {},
   "outputs": [
    {
     "data": {
      "text/html": [
       "<table class=\"data-frame\"><thead><tr><th></th><th>x1</th><th>x2</th><th>x3</th><th>x4</th><th>x5</th><th>x6</th><th>x7</th><th>x8</th></tr><tr><th></th><th>Float64</th><th>Float64</th><th>Float64</th><th>Float64</th><th>Float64</th><th>Float64</th><th>Float64</th><th>Float64</th></tr></thead><tbody><p>4 rows × 50,001 columns (omitted printing of 49993 columns)</p><tr><th>1</th><td>53.6023</td><td>53.6011</td><td>53.5984</td><td>53.5945</td><td>53.5906</td><td>53.5881</td><td>53.5873</td><td>53.5875</td></tr><tr><th>2</th><td>0.114206</td><td>0.114517</td><td>0.115324</td><td>0.116559</td><td>0.1177</td><td>0.118321</td><td>0.118457</td><td>0.118442</td></tr><tr><th>3</th><td>0.670732</td><td>0.670882</td><td>0.671193</td><td>0.671631</td><td>0.672071</td><td>0.672385</td><td>0.672509</td><td>0.672467</td></tr><tr><th>4</th><td>0.0134146</td><td>0.0134146</td><td>0.0134146</td><td>0.0134147</td><td>0.0134147</td><td>0.0134147</td><td>0.0134147</td><td>0.0134148</td></tr></tbody></table>"
      ],
      "text/latex": [
       "\\begin{tabular}{r|ccccccccc}\n",
       "\t& x1 & x2 & x3 & x4 & x5 & x6 & x7 & x8 & \\\\\n",
       "\t\\hline\n",
       "\t& Float64 & Float64 & Float64 & Float64 & Float64 & Float64 & Float64 & Float64 & \\\\\n",
       "\t\\hline\n",
       "\t1 & 53.6023 & 53.6011 & 53.5984 & 53.5945 & 53.5906 & 53.5881 & 53.5873 & 53.5875 & $\\dots$ \\\\\n",
       "\t2 & 0.114206 & 0.114517 & 0.115324 & 0.116559 & 0.1177 & 0.118321 & 0.118457 & 0.118442 & $\\dots$ \\\\\n",
       "\t3 & 0.670732 & 0.670882 & 0.671193 & 0.671631 & 0.672071 & 0.672385 & 0.672509 & 0.672467 & $\\dots$ \\\\\n",
       "\t4 & 0.0134146 & 0.0134146 & 0.0134146 & 0.0134147 & 0.0134147 & 0.0134147 & 0.0134147 & 0.0134148 & $\\dots$ \\\\\n",
       "\\end{tabular}\n"
      ],
      "text/plain": [
       "\u001b[1m4×50001 DataFrame\u001b[0m\n",
       "\u001b[1m Row \u001b[0m│\u001b[1m x1         \u001b[0m\u001b[1m x2         \u001b[0m\u001b[1m x3         \u001b[0m\u001b[1m x4         \u001b[0m\u001b[1m x5         \u001b[0m\u001b[1m x6         \u001b[0m\u001b[1m\u001b[0m ⋯\n",
       "\u001b[1m     \u001b[0m│\u001b[90m Float64    \u001b[0m\u001b[90m Float64    \u001b[0m\u001b[90m Float64    \u001b[0m\u001b[90m Float64    \u001b[0m\u001b[90m Float64    \u001b[0m\u001b[90m Float64    \u001b[0m\u001b[90m\u001b[0m ⋯\n",
       "─────┼──────────────────────────────────────────────────────────────────────────\n",
       "   1 │ 53.6023     53.6011     53.5984     53.5945     53.5906     53.5881     ⋯\n",
       "   2 │  0.114206    0.114517    0.115324    0.116559    0.1177      0.118321\n",
       "   3 │  0.670732    0.670882    0.671193    0.671631    0.672071    0.672385\n",
       "   4 │  0.0134146   0.0134146   0.0134146   0.0134147   0.0134147   0.0134147\n",
       "\u001b[36m                                                           49995 columns omitted\u001b[0m"
      ]
     },
     "execution_count": 6,
     "metadata": {},
     "output_type": "execute_result"
    }
   ],
   "source": [
    "##################\n",
    "##Exporting Data##\n",
    "##################\n",
    "\n",
    "df_AWB_soln = DataFrame(AWB_sol.u, :auto)\n",
    "df_AWB_soln"
   ]
  },
  {
   "cell_type": "code",
   "execution_count": 7,
   "metadata": {},
   "outputs": [
    {
     "data": {
      "text/plain": [
       "\"AWB_synthetic_soln.csv\""
      ]
     },
     "execution_count": 7,
     "metadata": {},
     "output_type": "execute_result"
    }
   ],
   "source": [
    "CSV.write(\"AWB_synthetic_soln.csv\", df_AWB_soln)"
   ]
  },
  {
   "cell_type": "code",
   "execution_count": null,
   "metadata": {},
   "outputs": [],
   "source": []
  }
 ],
 "metadata": {
  "kernelspec": {
   "display_name": "Julia 1.6.1",
   "language": "julia",
   "name": "julia-1.6"
  },
  "language_info": {
   "file_extension": ".jl",
   "mimetype": "application/julia",
   "name": "julia",
   "version": "1.6.1"
  }
 },
 "nbformat": 4,
 "nbformat_minor": 4
}
