{
 "cells": [
  {
   "cell_type": "code",
   "execution_count": 1,
   "metadata": {},
   "outputs": [],
   "source": [
    "import torch\n",
    "from torch import distributions as dist\n",
    "import numpy as np\n",
    "import pandas as pd\n",
    "from matplotlib import pyplot as plt\n",
    "from SBM_SDE import *\n",
    "%matplotlib inline"
   ]
  },
  {
   "cell_type": "markdown",
   "metadata": {},
   "source": [
    "# Load data"
   ]
  },
  {
   "cell_type": "code",
   "execution_count": 2,
   "metadata": {
    "scrolled": true
   },
   "outputs": [
    {
     "data": {
      "text/plain": [
       "(2500, 500, 0.2)"
      ]
     },
     "execution_count": 2,
     "metadata": {},
     "output_type": "execute_result"
    }
   ],
   "source": [
    "T = 500          # 100, 250, 500 length of actual time, full data contains T = 10,000\n",
    "dt = .2          # .1, .2, .5 time gap between discretized time steps\n",
    "N = int(T / dt)  # number of discretized time steps\n",
    "N, T, dt"
   ]
  },
  {
   "cell_type": "code",
   "execution_count": 3,
   "metadata": {},
   "outputs": [
    {
     "data": {
      "text/plain": [
       "(torch.Size([51]), torch.Size([51, 3]), torch.Size([3]))"
      ]
     },
     "execution_count": 3,
     "metadata": {},
     "output_type": "execute_result"
    }
   ],
   "source": [
    "y_dict = torch.load('y_dict.pt')\n",
    "obs_times = torch.tensor(y_dict['t_y'][y_dict['t_y'] <= T], dtype=torch.float)\n",
    "obs_vals = torch.tensor(y_dict['y'][:, y_dict['t_y'] <= T], dtype=torch.float).T # (time, obs_dim)\n",
    "obs_errors = torch.tensor(y_dict['y_std'], dtype=torch.float)\n",
    "obs_times.shape, obs_vals.shape, obs_errors.shape"
   ]
  },
  {
   "cell_type": "code",
   "execution_count": 4,
   "metadata": {},
   "outputs": [
    {
     "data": {
      "text/plain": [
       "3"
      ]
     },
     "execution_count": 4,
     "metadata": {},
     "output_type": "execute_result"
    }
   ],
   "source": [
    "state_ndim = obs_vals.shape[-1]\n",
    "state_ndim"
   ]
  },
  {
   "cell_type": "code",
   "execution_count": 5,
   "metadata": {},
   "outputs": [
    {
     "data": {
      "text/plain": [
       "torch.Size([2501])"
      ]
     },
     "execution_count": 5,
     "metadata": {},
     "output_type": "execute_result"
    }
   ],
   "source": [
    "T_span = torch.linspace(0, T, N + 1)\n",
    "T_span.shape"
   ]
  },
  {
   "cell_type": "code",
   "execution_count": 6,
   "metadata": {},
   "outputs": [],
   "source": [
    "temp_ref = 283\n",
    "temp_rise = 5 #High estimate of 5 celsius temperature rise by 2100. \n",
    "\n",
    "#System parameters from deterministic CON model\n",
    "u_M = 0.002\n",
    "a_SD = 0.33\n",
    "a_DS = 0.33\n",
    "a_M = 0.33\n",
    "a_MSC = 0.5\n",
    "k_S_ref = 0.000025\n",
    "k_D_ref = 0.005\n",
    "k_M_ref = 0.0002\n",
    "Ea_S = 75\n",
    "Ea_D = 50\n",
    "Ea_M = 50\n",
    "\n",
    "# Diffusion matrix parameters (variances, decrease)\n",
    "sigma_S = 0.5\n",
    "sigma_D = 0.001\n",
    "sigma_M = 0.01\n",
    "\n",
    "# Observation scale parameters (standard deviations, increase)\n",
    "gamma_S, gamma_D, gamma_M = obs_errors.squeeze()\n",
    "\n",
    "params = {'u_M': u_M, 'a_SD': a_SD, 'a_DS': a_DS, 'a_M': a_M, 'a_MSC': a_MSC,\n",
    "          'k_S_ref': k_S_ref, 'k_D_ref': k_D_ref, 'k_M_ref': k_M_ref,\n",
    "          'Ea_S': Ea_S, 'Ea_D': Ea_D, 'Ea_M': Ea_M,\n",
    "          'sigma_S': sigma_S, 'sigma_D': sigma_D, 'sigma_M': sigma_M,\n",
    "          'gamma_S': gamma_S, 'gamma_D': gamma_D, 'gamma_M': gamma_M} #, 'gamma_C': gamma_C"
   ]
  },
  {
   "cell_type": "code",
   "execution_count": 7,
   "metadata": {},
   "outputs": [
    {
     "data": {
      "text/plain": [
       "(torch.Size([2501]), torch.Size([2501]))"
      ]
     },
     "execution_count": 7,
     "metadata": {},
     "output_type": "execute_result"
    }
   ],
   "source": [
    "#Obtain temperature forcing function.\n",
    "temp = temp_gen(T_span - dt, temp_ref, temp_rise)\n",
    "\n",
    "#Obtain SOC and DOC pool litter input vectors for use in flow SDE functions.\n",
    "I_S = i_s(T_span - dt) #Exogenous SOC input function\n",
    "I_D = i_d(T_span - dt) #Exogenous DOC input function\n",
    "I_S.shape, I_D.shape"
   ]
  },
  {
   "cell_type": "markdown",
   "metadata": {},
   "source": [
    "# Kalman filter\n",
    "\n",
    "The model has 3 states (SOC, DOC, MBC) and 4 observations (SOC, DOC, MBC, CO2).\n",
    "\n",
    "## Transition model\n",
    "\n",
    "The transition distribution of the constant diffusion SCON model is given by:\n",
    "$$p(\\mathbf{x}_t | \\mathbf{x}_{t-1}) = N(\\mathbf{x}_t |\n",
    "    \\mathbf{x}_{t-1} + \\alpha(\\mathbf{x}_{t-1}, \\boldsymbol{\\theta_t}) \\Delta t,\n",
    "    \\beta(\\mathbf{x}_{t-1}, \\boldsymbol{\\theta_t}) \\Delta t)$$\n",
    "\n",
    "with drift vector $\\alpha$:\n",
    "$$\n",
    "\\alpha_t =\n",
    "  \\begin{bmatrix}\n",
    "  I_S + a_{DS} \\cdot k_D^{(t)} \\cdot D + a_M \\cdot a_{MSC} \\cdot k_M^{(t)} \\cdot M - k_S^{(t)} \\cdot S \\\\\n",
    "  I_D + a_{SD} \\cdot k_S^{(t)} \\cdot S + a_M \\cdot (1 - a_{MSC}) \\cdot k_M^{(t)} \\cdot M - (u_M + k_D^{(t)}) \\cdot D \\\\\n",
    "  u_M \\cdot D - k_M^{(t)} \\cdot M\n",
    "  \\end{bmatrix}\n",
    "$$\n",
    "\n",
    "and diffusion matrix $\\beta$:\n",
    "$$\n",
    "\\beta_t =\n",
    "  \\begin{bmatrix}\n",
    "  \\sigma_S & 0 & 0 \\\\\n",
    "  0 & \\sigma_D & 0 \\\\\n",
    "  0 & 0 & \\sigma_M\n",
    "  \\end{bmatrix}\n",
    "$$\n",
    "\n",
    "To apply the Kalman filter, we require a linear function of the form:\n",
    "$$ \\mathbf{x}_t = \\mathbf{A}_t \\mathbf{x}_{t-1} + \\mathbf{B}_t \\mathbf{u}_t + \\boldsymbol{\\epsilon}_t$$\n",
    "\n",
    "where $\\boldsymbol{\\epsilon}_t \\sim N(\\mathbf{0}, \\mathbf{Q}_t)$ is a Gaussian system noise.\n",
    "\n",
    "Rewriting the SCON transition model this way, we have:\n",
    "- $\\mathbf{A}_t = \\mathbf{I} +\n",
    "    \\begin{bmatrix}\n",
    "    - k_S^{(t)} & a_{DS} \\cdot k_D^{(t)} & a_M \\cdot a_{MSC} \\cdot k_M^{(t)} \\\\\n",
    "    a_{SD} \\cdot k_S^{(t)} & -(u_M + k_D^{(t)}) & a_M \\cdot (1 - a_{MSC}) \\cdot k_M^{(t)}  \\\\\n",
    "    0 & u_M & -k_M^{(t)}\n",
    "    \\end{bmatrix}\\Delta t$\n",
    "- $\\mathbf{B}_t = \\mathbf{I}$\n",
    "- $\\mathbf{u}_t=\n",
    "    \\begin{bmatrix}\n",
    "    I_S \\\\\n",
    "    I_D \\\\\n",
    "    0 \n",
    "    \\end{bmatrix} \\Delta t$\n",
    "- $\\mathbf{Q}_t = \\beta_t \\Delta t$"
   ]
  },
  {
   "cell_type": "markdown",
   "metadata": {},
   "source": [
    "## Observation model\n",
    "\n",
    "The observation distribution of the SCON model is:\n",
    "$$p(\\mathbf{y}_t|\\mathbf{x}_t) = N(\\mathbf{y}_t|\\mathbf{x}_t, \\mathbf{R}_t)$$\n",
    "\n",
    "Expressing it as a linear function of the form: \n",
    "$$ \\mathbf{y}_t = \\mathbf{C}_t \\mathbf{x}_{t} + \\mathbf{D}_t \\mathbf{u}_t + \\boldsymbol{\\delta}_t$$\n",
    "\n",
    "where $\\boldsymbol{\\delta}_t \\sim N(\\mathbf{0}, \\mathbf{R}_t)$ is a Gaussian observation noise, we have:\n",
    "- $\\mathbf{C}_t = \\begin{bmatrix}\n",
    "  1 & 0 & 0 \\\\\n",
    "  0 & 1 & 0 \\\\\n",
    "  0 & 0 & 1 \\\\\n",
    "  (1 - a_{SD}) \\cdot k_S^{(t)} & (1 - a_{DS}) \\cdot k_D^{(t)} & (1 - a_M) \\cdot k_M^{(t)}\n",
    "  \\end{bmatrix}$\n",
    "- $\\mathbf{D}_t = \\mathbf{0}$\n",
    "- $\\mathbf{R}_t = \\begin{bmatrix}\n",
    "  \\gamma_S & 0 & 0 & 0 \\\\\n",
    "  0 & \\gamma_D & 0 & 0 \\\\\n",
    "  0 & 0 & \\gamma_M & 0 \\\\\n",
    "  0 & 0 & 0 & \\gamma_C \\\\\n",
    "  \\end{bmatrix}$"
   ]
  },
  {
   "cell_type": "code",
   "execution_count": 8,
   "metadata": {},
   "outputs": [],
   "source": [
    "# Returns A, B, C, D, Q, R, and u for all time steps 0:T\n",
    "def get_params_CO2(I_S, I_D, params, temp, temp_ref, state_ndim):\n",
    "    # Apply temperature-dependent transformation to k_*_ref\n",
    "    k_S = arrhenius_temp_dep(params['k_S_ref'], temp, params['Ea_S'], temp_ref) # (N, )\n",
    "    k_D = arrhenius_temp_dep(params['k_D_ref'], temp, params['Ea_D'], temp_ref) # (N, )\n",
    "    k_M = arrhenius_temp_dep(params['k_M_ref'], temp, params['Ea_M'], temp_ref) # (N, )\n",
    "    \n",
    "    # Rewrite drift vector alpha, s.t. x_prev + alpha * dt = A * x_prev + B * u\n",
    "    A0 = torch.stack([-k_S, params['a_DS'] * k_D, params['a_M'] * params['a_MSC'] * k_M])\n",
    "    A1 = torch.stack([params['a_SD'] * k_S, -(params['u_M'] + k_D), params['a_M'] * (1 - params['a_MSC']) * k_M])\n",
    "    A2 = torch.stack([torch.zeros(N + 1), torch.ones(N + 1) * params['u_M'], -k_M])\n",
    "    A = torch.stack([A0, A1, A2]).permute((2, 0, 1))\n",
    "    A = torch.eye(state_ndim).unsqueeze(0) + A * dt # (N, 3, 3)\n",
    "    \n",
    "    B = torch.eye(state_ndim) # (3, 3)\n",
    "    u = torch.stack([I_S, I_D, torch.zeros(N + 1)]).T * dt # (N, 3)\n",
    "    \n",
    "    # Rewrite diffusion matrix beta, s.t. beta * dt = Q\n",
    "    Q = torch.diag(torch.tensor([params['sigma_S'],\n",
    "                                 params['sigma_D'],\n",
    "                                 params['sigma_M']])) * dt # (3, 3)\n",
    "    \n",
    "    # NOTE: Time index on k may be incorrect\n",
    "    C0 = torch.eye(state_ndim).unsqueeze(0) * torch.ones((len(k_S), 1, 1)) # (N, 3, 3)\n",
    "    C1 = torch.stack([(1 - params['a_SD']) * k_S,\n",
    "                      (1 - params['a_DS']) * k_D,\n",
    "                      (1 - params['a_M']) * k_M]).unsqueeze(0).permute((2, 0, 1)) # (N, 1, 3) \n",
    "    C = torch.cat((C0, C1), dim=1) # (N, 4, 3)\n",
    "    \n",
    "    D = torch.zeros((state_ndim + 1, state_ndim)) # scalar\n",
    "    R = torch.diag(torch.tensor([params['gamma_S'],\n",
    "                                 params['gamma_D'],\n",
    "                                 params['gamma_M'],\n",
    "                                 params['gamma_C']]))**2 # (4, 4)\n",
    "    \n",
    "    return A, B, C, D, Q, R, u"
   ]
  },
  {
   "cell_type": "code",
   "execution_count": 9,
   "metadata": {},
   "outputs": [
    {
     "name": "stdout",
     "output_type": "stream",
     "text": [
      "torch.Size([2501, 3, 3]) torch.Size([2501, 3, 3]) torch.Size([2501, 3])\n",
      "tensor([[1., 0., 0.],\n",
      "        [0., 1., 0.],\n",
      "        [0., 0., 1.]]) tensor([[0., 0., 0.],\n",
      "        [0., 0., 0.],\n",
      "        [0., 0., 0.]]) tensor([[0.1000, 0.0000, 0.0000],\n",
      "        [0.0000, 0.0002, 0.0000],\n",
      "        [0.0000, 0.0000, 0.0020]]) tensor([[1.5762e+01, 0.0000e+00, 0.0000e+00],\n",
      "        [0.0000e+00, 5.8375e-04, 0.0000e+00],\n",
      "        [0.0000e+00, 0.0000e+00, 1.3778e-01]])\n"
     ]
    }
   ],
   "source": [
    "# Returns A, B, C, D, Q, R, and u for all time steps 0:T\n",
    "def get_params(I_S, I_D, params, temp, temp_ref, state_ndim):\n",
    "    # Apply temperature-dependent transformation to k_*_ref\n",
    "    k_S = arrhenius_temp_dep(params['k_S_ref'], temp, params['Ea_S'], temp_ref) # (N, )\n",
    "    k_D = arrhenius_temp_dep(params['k_D_ref'], temp, params['Ea_D'], temp_ref) # (N, )\n",
    "    k_M = arrhenius_temp_dep(params['k_M_ref'], temp, params['Ea_M'], temp_ref) # (N, )\n",
    "    \n",
    "    # Rewrite drift vector alpha, s.t. x_prev + alpha * dt = A * x_prev + B * u\n",
    "    A0 = torch.stack([-k_S, params['a_DS'] * k_D, params['a_M'] * params['a_MSC'] * k_M])\n",
    "    A1 = torch.stack([params['a_SD'] * k_S, -(params['u_M'] + k_D), params['a_M'] * (1 - params['a_MSC']) * k_M])\n",
    "    A2 = torch.stack([torch.zeros(N + 1), torch.ones(N + 1) * params['u_M'], -k_M])\n",
    "    A = torch.stack([A0, A1, A2]).permute((2, 0, 1))\n",
    "    A = torch.eye(state_ndim).unsqueeze(0) + A * dt # (N, 3, 3)\n",
    "    \n",
    "    B = torch.eye(state_ndim) # (3, 3)\n",
    "    u = torch.stack([I_S, I_D, torch.zeros(N + 1)]).T * dt # (N, 3)\n",
    "    \n",
    "    # Rewrite diffusion matrix beta, s.t. beta * dt = Q\n",
    "    Q = torch.diag(torch.tensor([params['sigma_S'],\n",
    "                                 params['sigma_D'],\n",
    "                                 params['sigma_M']])) * dt # (3, 3)\n",
    "    \n",
    "    C = torch.eye(state_ndim).unsqueeze(0) * torch.ones((len(k_S), 1, 1)) # (N, 3, 3)\n",
    "    #C1 = torch.stack([(1 - params['a_SD']) * k_S,\n",
    "    #                  (1 - params['a_DS']) * k_D,\n",
    "    #                  (1 - params['a_M']) * k_M]).unsqueeze(0).permute((2, 0, 1)) # (N, 1, 3) \n",
    "    #C = torch.cat((C0, C1), dim=1) # (N, 4, 3)\n",
    "    \n",
    "    D = torch.zeros((state_ndim, state_ndim)) #torch.zeros((state_ndim + 1, state_ndim)) # scalar\n",
    "    R = torch.diag(torch.tensor([params['gamma_S'],\n",
    "                                 params['gamma_D'],\n",
    "                                 params['gamma_M']]))**2 # (3, 3)\n",
    "    \n",
    "    return A, B, C, D, Q, R, u\n",
    "\n",
    "A, B, C, D, Q, R, u = get_params(I_S, I_D, params, temp, temp_ref, state_ndim)\n",
    "print(A.shape, C.shape, u.shape)\n",
    "print(B, D, Q, R)"
   ]
  },
  {
   "cell_type": "code",
   "execution_count": 10,
   "metadata": {},
   "outputs": [],
   "source": [
    "class KalmanFilter:\n",
    "    def __init__(self, A, B, C, D, Q, R, N, init_mu, init_sigma):\n",
    "        # Parameters that are different across time\n",
    "        self.A = A\n",
    "        self.C = C\n",
    "        \n",
    "        # Parameters that are shared across time\n",
    "        self.B = B\n",
    "        self.D = D\n",
    "        self.Q = Q\n",
    "        self.R = R\n",
    "        self.N = N\n",
    "        self.state_ndim = len(init_mu)\n",
    "        \n",
    "        # Predictive parameters: Allocate for N + 1 time steps and initialize at time 0\n",
    "        self.mu_pred = torch.empty((N + 1, self.state_ndim))\n",
    "        self.sigma_pred = torch.empty((N + 1, self.state_ndim, self.state_ndim))\n",
    "        self.mu_pred[0] = init_mu\n",
    "        self.sigma_pred[0] = init_sigma\n",
    "        \n",
    "        # Filtered parameters\n",
    "        self.mu_filter = torch.empty((N + 1, self.state_ndim))\n",
    "        self.sigma_filter = torch.empty((N + 1, self.state_ndim, self.state_ndim))\n",
    "        \n",
    "        # Smoothed parameters\n",
    "        self.mu_smooth = torch.empty((N + 1, self.state_ndim))\n",
    "        self.sigma_smooth = torch.empty((N + 1, self.state_ndim, self.state_ndim))\n",
    "        \n",
    "    #def _get_param(self, param, i):\n",
    "    #    if len(params) == 1:\n",
    "    #        return param[0]\n",
    "    #    else:\n",
    "    #        return param[i]\n",
    "        \n",
    "    def forward(self, y, y_gap=None, u=None):\n",
    "        if y_gap is None:\n",
    "            y_gap = 1 # fully observed\n",
    "        if u is None:\n",
    "            u = torch.zeros((self.N + 1, self.state_ndim)) # no input/control signal\n",
    "            \n",
    "        for i in range(self.N + 1):\n",
    "            if i > 0:\n",
    "                self.predict(u[i], self.A[i], self.B, self.Q, i)\n",
    "            \n",
    "            y_i = y[int(i / y_gap)] if y is not None and i % y_gap == 0 else None # is observed\n",
    "            self.measure(y_i, u[i], self.C[i], self.D, self.R, i)\n",
    "            \n",
    "    def backward(self):\n",
    "        # Initialize\n",
    "        self.mu_smooth[self.N] = self.mu_filter[self.N]\n",
    "        self.sigma_smooth[self.N] = self.sigma_filter[self.N]\n",
    "        \n",
    "        for i in range(self.N - 1, -1, -1):\n",
    "            self.smooth(self.A[i+1], i)\n",
    "        \n",
    "    def predict(self, u, A, B, Q, i):\n",
    "        self.mu_pred[i] = A @ self.mu_filter[i-1] + B @ u\n",
    "        self.sigma_pred[i] = A @ self.sigma_filter[i-1] @ A.T + Q\n",
    "        \n",
    "    def measure(self, y, u, C, D, R, i):\n",
    "        if y is not None:\n",
    "            # Compute residual r\n",
    "            y_hat = C @ self.mu_pred[i] + D @ u\n",
    "            r = y - y_hat\n",
    "            \n",
    "            # Compute Kalman gain K\n",
    "            S = C @ self.sigma_pred[i] @ C.T + R\n",
    "            K = self.sigma_pred[i] @ C.T @ torch.inverse(S)\n",
    "            \n",
    "            # Update\n",
    "            self.mu_filter[i] = self.mu_pred[i] + K @ r\n",
    "            self.sigma_filter[i] = (torch.eye(self.state_ndim) - K @ C) @ self.sigma_pred[i]\n",
    "        else:\n",
    "            self.mu_filter[i] = self.mu_pred[i]\n",
    "            self.sigma_filter[i] = self.sigma_pred[i]\n",
    "        \n",
    "    def smooth(self, A, i):\n",
    "        # Compute backward Kalman gain J\n",
    "        J = self.sigma_filter[i] @ A.T @ torch.inverse(self.sigma_pred[i+1])\n",
    "        \n",
    "        # Backward update\n",
    "        self.mu_smooth[i] = self.mu_filter[i] + J @ (self.mu_smooth[i+1] - self.mu_pred[i+1])\n",
    "        self.sigma_smooth[i] = self.sigma_filter[i] + J @ (self.sigma_smooth[i+1] - self.sigma_pred[i+1]) @ J.T"
   ]
  },
  {
   "cell_type": "code",
   "execution_count": 16,
   "metadata": {
    "scrolled": true
   },
   "outputs": [
    {
     "data": {
      "text/plain": [
       "(tensor([40.0000,  0.0800,  0.8000]),\n",
       " tensor([[1.6000e+01, 0.0000e+00, 0.0000e+00],\n",
       "         [0.0000e+00, 6.4000e-05, 0.0000e+00],\n",
       "         [0.0000e+00, 0.0000e+00, 6.4000e-03]]))"
      ]
     },
     "execution_count": 16,
     "metadata": {},
     "output_type": "execute_result"
    }
   ],
   "source": [
    "# Initial p(x0)\n",
    "x0_mu = torch.tensor([40, 0.08, 0.8])\n",
    "x0_sigma = torch.diag(0.1 * x0_mu)**2\n",
    "x0_mu, x0_sigma"
   ]
  },
  {
   "cell_type": "code",
   "execution_count": 13,
   "metadata": {},
   "outputs": [
    {
     "data": {
      "text/plain": [
       "10.0"
      ]
     },
     "execution_count": 13,
     "metadata": {},
     "output_type": "execute_result"
    }
   ],
   "source": [
    "obs_every = (obs_times[1] - obs_times[0]).item()\n",
    "obs_every"
   ]
  },
  {
   "cell_type": "code",
   "execution_count": null,
   "metadata": {},
   "outputs": [],
   "source": [
    "25/0.5, N"
   ]
  },
  {
   "cell_type": "code",
   "execution_count": null,
   "metadata": {},
   "outputs": [],
   "source": [
    "kf = KalmanFilter(A, B, C, D, Q, R, N, init_mu=x0_mu, init_sigma=x0_sigma)\n",
    "kf.forward(obs_vals, y_gap=obs_every/dt, u=u)\n",
    "kf.backward()"
   ]
  },
  {
   "cell_type": "code",
   "execution_count": 17,
   "metadata": {},
   "outputs": [],
   "source": [
    "kf = KalmanFilter(A, B, C, D, Q, R, N, init_mu=x0_mu, init_sigma=x0_sigma)\n",
    "kf.forward(None, u=u)\n",
    "kf.backward()"
   ]
  },
  {
   "cell_type": "markdown",
   "metadata": {},
   "source": [
    "### Debug"
   ]
  },
  {
   "cell_type": "code",
   "execution_count": null,
   "metadata": {},
   "outputs": [],
   "source": [
    "A"
   ]
  },
  {
   "cell_type": "code",
   "execution_count": null,
   "metadata": {},
   "outputs": [],
   "source": [
    "A[1] @ kf.mu_filter[0] + B @ u[1]"
   ]
  },
  {
   "cell_type": "code",
   "execution_count": null,
   "metadata": {},
   "outputs": [],
   "source": [
    "kf.mu_filter[0]"
   ]
  },
  {
   "cell_type": "markdown",
   "metadata": {},
   "source": [
    "# Visualizing the posterior\n",
    "\n",
    "The *filtered* posterior is the distribution $p(x_t|y_{1:t'}, u_{1:t})$, where $t'$ is the time of the most recent observation. The *smoothed* posterior is the distribution $p(x_t|y_{1:T})$."
   ]
  },
  {
   "cell_type": "code",
   "execution_count": 18,
   "metadata": {},
   "outputs": [],
   "source": [
    "def plot_post(data, state_idx, plot_sd=False, show_legend=True, labels=['SOC', 'DOC', 'MBC']):\n",
    "    #plt.figure(figsize=(7, 6))\n",
    "    obs = data[:, state_idx]\n",
    "    mean_filter = kf.mu_filter[:, state_idx]\n",
    "    mean_smooth = kf.mu_smooth[:, state_idx]\n",
    "    \n",
    "    if plot_sd:\n",
    "        sd_filter = kf.sigma_filter[:, state_idx, state_idx].sqrt()\n",
    "        #rv_filter = dist.normal.Normal(mean_filter, sd_filter)\n",
    "        #plt.fill_between(T_span, rv_filter.icdf(torch.tensor(0.05)), rv_filter.icdf(torch.tensor(0.95)),\n",
    "        #                 alpha=0.5, linewidth=0,\n",
    "        #                 label='Filtered 5-95th percentile')\n",
    "        plt.fill_between(T_span, mean_filter - 2*sd_filter, mean_filter + 2*sd_filter, alpha=0.5,\n",
    "                         linewidth=0, label='Filtered $\\\\mu \\pm 2\\sigma$')\n",
    "        \n",
    "        sd_smooth = kf.sigma_smooth[:, state_idx, state_idx].sqrt()\n",
    "        #rv_smooth = dist.normal.Normal(mean_smooth, sd_smooth)\n",
    "        #plt.fill_between(T_span, rv_smooth.icdf(torch.tensor(0.05)), rv_smooth.icdf(torch.tensor(0.95)),\n",
    "        #                 alpha=0.5, linewidth=0,\n",
    "        #                 label='Smoothed 5-95th percentile')\n",
    "        plt.fill_between(T_span, mean_smooth - 2*sd_smooth, mean_smooth + 2*sd_smooth, alpha=0.5,\n",
    "                         linewidth=0, label='Smoothed $\\\\mu \\pm 2\\sigma$')\n",
    "        \n",
    "    plt.plot(T_span, mean_filter, label='Filtered mean')\n",
    "    plt.plot(T_span, mean_smooth, label='Smoothed mean')\n",
    "    plt.plot(obs_times, obs, linestyle='None', marker='o', label='Observed')\n",
    "    \n",
    "    plt.xlabel('Hour')\n",
    "    plt.ylabel(labels[state_idx])\n",
    "    plt.title('True posterior $q(x|\\\\theta, y)$')\n",
    "    if show_legend: plt.legend()"
   ]
  },
  {
   "cell_type": "code",
   "execution_count": 19,
   "metadata": {},
   "outputs": [
    {
     "data": {
      "image/png": "[encoded data removed]",
      "text/plain": [
       "<Figure size 432x288 with 1 Axes>"
      ]
     },
     "metadata": {
      "needs_background": "light"
     },
     "output_type": "display_data"
    }
   ],
   "source": [
    "plot_post(obs_vals, 0, plot_sd=True)"
   ]
  },
  {
   "cell_type": "code",
   "execution_count": null,
   "metadata": {
    "scrolled": false
   },
   "outputs": [],
   "source": [
    "plot_post(obs_vals, 0)"
   ]
  },
  {
   "cell_type": "code",
   "execution_count": 20,
   "metadata": {},
   "outputs": [
    {
     "data": {
      "image/png": "[encoded data removed]",
      "text/plain": [
       "<Figure size 432x288 with 1 Axes>"
      ]
     },
     "metadata": {
      "needs_background": "light"
     },
     "output_type": "display_data"
    }
   ],
   "source": [
    "plot_post(obs_vals, 1, plot_sd=True)"
   ]
  },
  {
   "cell_type": "code",
   "execution_count": null,
   "metadata": {},
   "outputs": [],
   "source": [
    "plot_post(obs_vals, 1)"
   ]
  },
  {
   "cell_type": "code",
   "execution_count": 21,
   "metadata": {},
   "outputs": [
    {
     "data": {
      "image/png": "[encoded data removed]",
      "text/plain": [
       "<Figure size 432x288 with 1 Axes>"
      ]
     },
     "metadata": {
      "needs_background": "light"
     },
     "output_type": "display_data"
    }
   ],
   "source": [
    "plot_post(obs_vals, 2, plot_sd=True)"
   ]
  },
  {
   "cell_type": "code",
   "execution_count": null,
   "metadata": {},
   "outputs": [],
   "source": [
    "plot_post(obs_vals, 2)"
   ]
  },
  {
   "cell_type": "markdown",
   "metadata": {},
   "source": [
    "## Testing the implementation: The constant velocity model\n",
    "\n",
    "No need to worry about this part, it's for a different model! We used this for debugging purposes because we know the correct posterior for the model."
   ]
  },
  {
   "cell_type": "code",
   "execution_count": null,
   "metadata": {},
   "outputs": [],
   "source": [
    "import h5py"
   ]
  },
  {
   "cell_type": "code",
   "execution_count": null,
   "metadata": {},
   "outputs": [],
   "source": [
    "sigma_v = 0.01\n",
    "sigma_x = 0.01/3\n",
    "sigma_y = 20"
   ]
  },
  {
   "cell_type": "code",
   "execution_count": null,
   "metadata": {},
   "outputs": [],
   "source": [
    "track_file = h5py.File('track.mat', 'r')\n",
    "track_file.keys()"
   ]
  },
  {
   "cell_type": "code",
   "execution_count": null,
   "metadata": {},
   "outputs": [],
   "source": [
    "track_data = torch.tensor(track_file['data'], dtype=torch.float).squeeze()\n",
    "track_data.shape"
   ]
  },
  {
   "cell_type": "code",
   "execution_count": null,
   "metadata": {},
   "outputs": [],
   "source": [
    "mu0 = torch.tensor(track_file['x0'], dtype=torch.float).squeeze()\n",
    "sigma0 = torch.tensor(track_file['P0'], dtype=torch.float)\n",
    "mu0.shape, sigma0.shape"
   ]
  },
  {
   "cell_type": "code",
   "execution_count": null,
   "metadata": {},
   "outputs": [],
   "source": [
    "T = len(track_data)\n",
    "A = torch.tensor([[1, 1], [0, 1]], dtype=torch.float).unsqueeze(0) * torch.ones((T + 1, 1, 1))\n",
    "Q = torch.tensor([[sigma_x, 0], [0, sigma_v]], dtype=torch.float)\n",
    "C = torch.tensor([1, 0], dtype=torch.float).reshape((1, -1)).unsqueeze(0) * torch.ones((T + 1, 1, 1))\n",
    "R = torch.tensor(sigma_y, dtype=torch.float)"
   ]
  },
  {
   "cell_type": "code",
   "execution_count": null,
   "metadata": {},
   "outputs": [],
   "source": [
    "B, D = torch.eye(2), torch.ones(2)"
   ]
  },
  {
   "cell_type": "code",
   "execution_count": null,
   "metadata": {},
   "outputs": [],
   "source": [
    "kf = KalmanFilter(A, B, C, D, Q, R, T - 1, init_mu=mu0, init_sigma=sigma0)\n",
    "kf.forward(track_data)\n",
    "kf.backward()"
   ]
  },
  {
   "cell_type": "code",
   "execution_count": null,
   "metadata": {},
   "outputs": [],
   "source": [
    "T_span = torch.arange(100)\n",
    "obs_times = torch.arange(100)\n",
    "plot_post(track_data.unsqueeze(1), 0, plot_sd=True, labels=['State', 'State 2'])"
   ]
  },
  {
   "cell_type": "code",
   "execution_count": null,
   "metadata": {},
   "outputs": [],
   "source": []
  }
 ],
 "metadata": {
  "kernelspec": {
   "display_name": "Python 3",
   "language": "python",
   "name": "python3"
  },
  "language_info": {
   "codemirror_mode": {
    "name": "ipython",
    "version": 3
   },
   "file_extension": ".py",
   "mimetype": "text/x-python",
   "name": "python",
   "nbconvert_exporter": "python",
   "pygments_lexer": "ipython3",
   "version": "3.8.5"
  }
 },
 "nbformat": 4,
 "nbformat_minor": 4
}
