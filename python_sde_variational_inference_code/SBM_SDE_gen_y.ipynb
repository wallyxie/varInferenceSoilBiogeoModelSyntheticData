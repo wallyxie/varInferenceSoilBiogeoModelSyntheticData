{
 "cells": [
  {
   "cell_type": "code",
   "execution_count": 1,
   "metadata": {},
   "outputs": [],
   "source": [
    "import numpy as np\n",
    "import pandas as pd\n",
    "import matplotlib\n",
    "import matplotlib.pyplot as plt\n",
    "from tqdm import tqdm\n",
    "\n",
    "#Torch-related imports\n",
    "import torch\n",
    "import torch.distributions as D\n",
    "import torch.nn.functional as F\n",
    "import torch.optim as optim\n",
    "from torch.autograd import Function"
   ]
  },
  {
   "cell_type": "code",
   "execution_count": 2,
   "metadata": {},
   "outputs": [],
   "source": [
    "torch.manual_seed(0)\n",
    "np.random.seed(0)"
   ]
  },
  {
   "cell_type": "code",
   "execution_count": 3,
   "metadata": {},
   "outputs": [],
   "source": [
    "temp_ref = 283\n",
    "temp_rise = 5 #High estimate of 5 celsius temperature rise by 2100. \n",
    "\n",
    "#System parameters from deterministic CON model\n",
    "u_M = 0.002\n",
    "a_SD = 0.33\n",
    "a_DS = 0.33\n",
    "a_M = 0.33\n",
    "a_MSC = 0.5\n",
    "k_S_ref = 0.000025\n",
    "k_D_ref = 0.005\n",
    "k_M_ref = 0.0002\n",
    "Ea_S = 75\n",
    "Ea_D = 50\n",
    "Ea_M = 50\n",
    "\n",
    "#SCON diffusion matrix parameters\n",
    "c_SOC = 1.0\n",
    "c_DOC = 0.001\n",
    "c_MBC = 0.01\n",
    "s_SOC = 0.001\n",
    "s_DOC = 0.001\n",
    "s_MBC = 0.001\n",
    "\n",
    "SCON_C_params_dict = {'u_M': u_M, 'a_SD': a_SD, 'a_DS': a_DS, 'a_M': a_M, 'a_MSC': a_MSC, 'k_S_ref': k_S_ref, 'k_D_ref': k_D_ref, 'k_M_ref': k_M_ref, 'Ea_S': Ea_S, 'Ea_D': Ea_D, 'Ea_M': Ea_M, 'c_SOC': c_SOC, 'c_DOC': c_DOC, 'c_MBC': c_MBC}\n",
    "SCON_SS_params_dict = {'u_M': u_M, 'a_SD': a_SD, 'a_DS': a_DS, 'a_M': a_M, 'a_MSC': a_MSC, 'k_S_ref': k_S_ref, 'k_D_ref': k_D_ref, 'k_M_ref': k_M_ref, 'Ea_S': Ea_S, 'Ea_D': Ea_D, 'Ea_M': Ea_M, 's_SOC': s_SOC, 's_DOC': s_DOC, 's_MBC': s_MBC}\n",
    "\n",
    "#System parameters from deterministic AWB model\n",
    "u_Q_ref = 0.2\n",
    "Q = 0.002\n",
    "a_MSA = 0.5\n",
    "K_D = 200\n",
    "K_U = 1\n",
    "V_D_ref = 0.4\n",
    "V_U_ref = 0.02\n",
    "Ea_V_D = 75\n",
    "Ea_V_U = 50\n",
    "r_M = 0.0004\n",
    "r_E = 0.00001\n",
    "r_L = 0.0005\n",
    "\n",
    "#SAWB diffusion matrix parameters\n",
    "c_SOC = 2\n",
    "c_DOC = 0.05\n",
    "c_MBC = 0.1\n",
    "c_EEC = 0.01\n",
    "s_SOC = 0.1\n",
    "s_DOC = 0.1\n",
    "s_MBC = 0.1\n",
    "s_EEC = 0.1\n",
    "\n",
    "SAWB_C_params_dict = {'u_Q_ref': u_Q_ref, 'Q': Q, 'a_MSA': a_MSA, 'K_D': K_D, 'K_U': K_U, 'V_D_ref': V_D_ref, 'V_U_ref': V_U_ref, 'Ea_V_D': Ea_V_D, 'Ea_V_U': Ea_V_U, 'r_M': r_M, 'r_E': r_E, 'r_L': r_L, 'c_SOC': c_SOC, 'c_DOC': c_DOC, 'c_MBC': c_MBC, 'c_EEC': c_EEC}\n",
    "SAWB_SS_params_dict = {'u_Q_ref': u_Q_ref, 'Q': Q, 'a_MSA': a_MSA, 'K_D': K_D, 'K_U': K_U, 'V_D_ref': V_D_ref, 'V_U_ref': V_U_ref, 'Ea_V_D': Ea_V_D, 'Ea_V_U': Ea_V_U, 'r_M': r_M, 'r_E': r_E, 'r_L': r_L, 's_SOC': s_SOC, 's_DOC': s_DOC, 's_MBC': s_MBC, 's_EEC': s_EEC}\n",
    "\n",
    "#System parameters from deterministic AWB-ECA model\n",
    "u_Q_ref = 0.2\n",
    "Q = 0.002\n",
    "a_MSA = 0.5\n",
    "K_DE = 200\n",
    "K_UE = 1\n",
    "V_DE_ref = 0.4\n",
    "V_UE_ref = 0.02\n",
    "Ea_V_DE = 75\n",
    "Ea_V_UE = 50\n",
    "r_M = 0.0004\n",
    "r_E = 0.00001\n",
    "r_L = 0.0005\n",
    "\n",
    "#SAWB-ECA diffusion matrix parameters\n",
    "c_SOC = 2\n",
    "c_DOC = 0.05\n",
    "c_MBC = 0.1\n",
    "c_EEC = 0.01\n",
    "s_SOC = 0.1\n",
    "s_DOC = 0.1\n",
    "s_MBC = 0.1\n",
    "s_EEC = 0.1\n",
    "\n",
    "SAWB_ECA_C_params_dict = {'u_Q_ref': u_Q_ref, 'Q': Q, 'a_MSA': a_MSA, 'K_DE': K_DE, 'K_UE': K_UE, 'V_DE_ref': V_DE_ref, 'V_UE_ref': V_UE_ref, 'Ea_V_DE': Ea_V_DE, 'Ea_V_UE': Ea_V_UE, 'r_M': r_M, 'r_E': r_E, 'r_L': r_L, 'c_SOC': c_SOC, 'c_DOC': c_DOC, 'c_MBC': c_MBC, 'c_EEC': c_EEC}\n",
    "SAWB_ECA_SS_params_dict = {'u_Q_ref': u_Q_ref, 'Q': Q, 'a_MSA': a_MSA, 'K_DE': K_DE, 'K_UE': K_UE, 'V_DE_ref': V_DE_ref, 'V_UE_ref': V_UE_ref, 'Ea_V_DE': Ea_V_DE, 'Ea_V_UE': Ea_V_UE, 'r_M': r_M, 'r_E': r_E, 'r_L': r_L, 's_SOC': s_SOC, 's_DOC': s_DOC, 's_MBC': s_MBC, 's_EEC': s_EEC}"
   ]
  },
  {
   "cell_type": "code",
   "execution_count": 4,
   "metadata": {},
   "outputs": [],
   "source": [
    "def temp_func(t, TEMP_REF, TEMP_RISE):\n",
    "    temp = TEMP_REF + (TEMP_RISE * t) / (80 * 24 * 365) + 10 * np.sin((2 * np.pi / 24) * t) + 10 * np.sin((2 * np.pi / (24 * 365)) * t)\n",
    "    return temp\n",
    "\n",
    "def I_S_func(t):\n",
    "    return 0.001 + 0.0005 * np.sin((2 * np.pi / (24 * 365)) * t) #Exogenous SOC input function\n",
    "\n",
    "def I_D_func(t):\n",
    "    return 0.0001 + 0.00005 * np.sin((2 * np.pi / (24 * 365)) * t) #Exogenous DOC input function\n",
    "\n",
    "def arrhenius_temp(parameter, temp, Ea, temp_ref):\n",
    "    '''\n",
    "    For a parameter with Arrhenius temperature dependence, returns the transformed parameter value.\n",
    "    0.008314 is the gas constant. Temperatures are in K.\n",
    "    '''\n",
    "    decayed_parameter = parameter * np.exp(-Ea / 0.008314 * (1 / temp - 1 / temp_ref))\n",
    "    return decayed_parameter\n",
    "\n",
    "def linear_temp(parameter, temp, Q, temp_ref):\n",
    "    '''\n",
    "    For a parameter with linear temperature dependence, returns the transformed parameter value.\n",
    "    Q is the slope of the temperature dependence and is a varying parameter.\n",
    "    Temperatures are in K.\n",
    "    '''\n",
    "    modified_parameter = parameter - Q * (temp - temp_ref)\n",
    "    return modified_parameter"
   ]
  },
  {
   "cell_type": "code",
   "execution_count": 5,
   "metadata": {},
   "outputs": [],
   "source": [
    "#Generate data from SBM SDEs\n",
    "#x in order of SOC, DOC, MBC (and EEC for AWB family models)\n",
    "\n",
    "def alpha_SCON(x, SCON_params_dict, I_S, I_D, current_temp, temp_ref, arrhenius_temp, linear_temp):\n",
    "    #Force temperature-dependent parameters.\n",
    "    k_S = arrhenius_temp(SCON_params_dict['k_S_ref'], current_temp, SCON_params_dict['Ea_S'], temp_ref)\n",
    "    k_D = arrhenius_temp(SCON_params_dict['k_D_ref'], current_temp, SCON_params_dict['Ea_D'], temp_ref)\n",
    "    k_M = arrhenius_temp(SCON_params_dict['k_M_ref'], current_temp, SCON_params_dict['Ea_M'], temp_ref)\n",
    "    #Evolve drift.\n",
    "    SOC = I_S + SCON_params_dict['a_DS'] * k_D * x[1] + SCON_params_dict['a_M'] * SCON_params_dict['a_MSC'] * k_M * x[2] - k_S * x[0]\n",
    "    DOC = I_D + SCON_params_dict['a_SD'] * k_S * x[0] + SCON_params_dict['a_M'] * (1 - SCON_params_dict['a_MSC']) * k_M * x[2] - (SCON_params_dict['u_M'] + k_D) * x[1]\n",
    "    MBC = SCON_params_dict['u_M'] * x[1] - k_M * x[2]\n",
    "    return np.array([SOC, DOC, MBC])\n",
    "\n",
    "def beta_SCON_C(x, SCON_C_params_dict):\n",
    "    b11 = SCON_C_params_dict['c_SOC']\n",
    "    b22 = SCON_C_params_dict['c_DOC']\n",
    "    b33 = SCON_C_params_dict['c_MBC']\n",
    "    return np.diag([b11, b22, b33])\n",
    "\n",
    "def beta_SCON_SS(x, SCON_SS_params_dict):\n",
    "    b11 = SCON_SS_params_dict['s_SOC'] * x[0]\n",
    "    b22 = SCON_SS_params_dict['s_DOC'] * x[1]\n",
    "    b33 = SCON_SS_params_dict['s_MBC'] * x[2]\n",
    "    return np.diag([b11, b22, b33])\n",
    "\n",
    "def alpha_SAWB(x, SAWB_params_dict, I_S, I_D, current_temp, temp_ref, arrhenius_temp, linear_temp):\n",
    "    #Force temperature-dependent parameters.\n",
    "    u_Q = linear_temp(SAWB_params_dict['u_Q_ref'], current_temp, SAWB_params_dict['Q'], temp_ref)\n",
    "    V_D = arrhenius_temp(SAWB_params_dict['V_D_ref'], current_temp, SAWB_params_dict['Ea_V_D'], temp_ref)\n",
    "    V_U = arrhenius_temp(SAWB_params_dict['V_U_ref'], current_temp, SAWB_params_dict['Ea_V_U'], temp_ref)\n",
    "    #Evolve drift.\n",
    "    SOC = I_S + SAWB_params_dict['a_MSA'] * SAWB_params_dict['r_M'] * x[2] - ((V_D * x[3] * x[0]) / (SAWB_params_dict['K_D'] + x[0]))\n",
    "    DOC = I_D + (1 - SAWB_params_dict['a_MSA']) * SAWB_params_dict['r_M'] * x[2] + ((V_D * x[3] * x[0]) / (SAWB_params_dict['K_D'] + x[0])) + SAWB_params_dict['r_L'] * x[3] - ((V_U * x[2] * x[1]) / (SAWB_params_dict['K_U'] + x[1]))\n",
    "    MBC = (u_Q * (V_U * x[2] * x[1]) / (SAWB_params_dict['K_U'] + x[1])) - (SAWB_params_dict['r_M'] + SAWB_params_dict['r_E']) * x[2]\n",
    "    EEC = SAWB_params_dict['r_E'] * x[2] - SAWB_params_dict['r_L'] * x[3]\n",
    "    return np.array([SOC, DOC, MBC, EEC])\n",
    "\n",
    "def beta_SAWB_C(x, SAWB_C_params_dict):\n",
    "    b11 = SAWB_C_params_dict['c_SOC']\n",
    "    b22 = SAWB_C_params_dict['c_DOC']\n",
    "    b33 = SAWB_C_params_dict['c_MBC']\n",
    "    b44 = SAWB_C_params_dict['c_EEC']\n",
    "    return np.diag([b11, b22, b33, b44])\n",
    "\n",
    "def beta_SAWB_SS(x, SAWB_SS_params_dict):\n",
    "    b11 = SAWB_SS_params_dict['s_SOC'] * x[0]\n",
    "    b22 = SAWB_SS_params_dict['s_DOC'] * x[1]\n",
    "    b33 = SAWB_SS_params_dict['s_MBC'] * x[2]\n",
    "    b44 = SAWB_SS_params_dict['s_EEC'] * x[3]\n",
    "    return np.diag([b11, b22, b33, b44])\n",
    "\n",
    "def alpha_SAWB_ECA(x, SAWB_ECA_params_dict, I_S, I_D, current_temp, temp_ref, arrhenius_temp, linear_temp):\n",
    "    #Force temperature-dependent parameters.\n",
    "    u_Q = linear_temp(SAWB_ECA_params_dict['u_Q_ref'], current_temp, SAWB_ECA_params_dict['Q'], temp_ref)\n",
    "    V_DE = arrhenius_temp(SAWB_ECA_params_dict['V_DE_ref'], current_temp, SAWB_ECA_params_dict['Ea_V_DE'], temp_ref)\n",
    "    V_UE = arrhenius_temp(SAWB_ECA_params_dict['V_UE_ref'], current_temp, SAWB_ECA_params_dict['Ea_V_UE'], temp_ref)\n",
    "    #Evolve drift.\n",
    "    SOC = I_S + SAWB_ECA_params_dict['a_MSA'] * SAWB_ECA_params_dict['r_M'] * x[2] - ((V_DE * x[3] * x[0]) / (SAWB_ECA_params_dict['K_DE'] + x[3] + x[0]))\n",
    "    DOC = I_D + (1 - SAWB_ECA_params_dict['a_MSA']) * SAWB_ECA_params_dict['r_M'] * x[2] + ((V_DE * x[3] * x[0]) / (SAWB_ECA_params_dict['K_DE'] + x[3] + x[0])) + SAWB_ECA_params_dict['r_L'] * x[3] - ((V_UE * x[2] * x[1]) / (SAWB_ECA_params_dict['K_UE'] + x[2] + x[1]))\n",
    "    MBC = (u_Q * (V_UE * x[2] * x[1]) / (SAWB_ECA_params_dict['K_UE'] + x[2] + x[1])) - (SAWB_ECA_params_dict['r_M'] + SAWB_ECA_params_dict['r_E']) * x[2]\n",
    "    EEC = SAWB_ECA_params_dict['r_E'] * x[2] - SAWB_ECA_params_dict['r_L'] * x[3]\n",
    "    return np.array([SOC, DOC, MBC, EEC])\n",
    "\n",
    "def beta_SAWB_ECA_C(x, SAWB_ECA_C_params_dict):\n",
    "    b11 = SAWB_ECA_C_params_dict['c_SOC']\n",
    "    b22 = SAWB_ECA_C_params_dict['c_DOC']\n",
    "    b33 = SAWB_ECA_C_params_dict['c_MBC']\n",
    "    b44 = SAWB_ECA_C_params_dict['c_EEC']\n",
    "    return np.diag([b11, b22, b33, b44])\n",
    "\n",
    "def beta_SAWB_ECA_SS(x, SAWB_ECA_SS_params_dict):\n",
    "    b11 = SAWB_ECA_SS_params_dict['s_SOC'] * x[0]\n",
    "    b22 = SAWB_ECA_SS_params_dict['s_DOC'] * x[1]\n",
    "    b33 = SAWB_ECA_SS_params_dict['s_MBC'] * x[2]\n",
    "    b44 = SAWB_ECA_SS_params_dict['s_EEC'] * x[3]\n",
    "    return np.diag([b11, b22, b33, b44])\n",
    "    \n",
    "def get_SBM_SDE_euler_maruyama_y(ALPHA, BETA, X0, T, DT, THETA_DICT, I_S_FUNC, I_D_FUNC, TEMP_FUNC, OBS_EVERY, OBS_ERROR_SCALE, model_fam):\n",
    "    state_dim = 0\n",
    "    if model_fam == 'SCON':\n",
    "        state_dim = 3\n",
    "    elif model_fam == 'SAWB':\n",
    "        state_dim = 4\n",
    "    N = int(T / DT) + 1\n",
    "    M = int(T / OBS_EVERY) + 1\n",
    "    x = np.zeros([state_dim, N])\n",
    "    X0_array = np.array(X0)\n",
    "    X0_sample = np.random.normal(loc = X0_array, scale = OBS_ERROR_SCALE * X0_array) #Add noise to initial conditions of x.\n",
    "    print('X0_sample = ', X0_sample)\n",
    "    x[:, 0] = X0_sample\n",
    "    hour = 0\n",
    "    for i in range(1, N):\n",
    "        hour += DT\n",
    "        #print('hour', hour)\n",
    "        I_S = I_S_FUNC(hour)\n",
    "        #print('I_S', I_S)\n",
    "        I_D = I_D_FUNC(hour)\n",
    "        #print('I_D', I_D)\n",
    "        current_temp = TEMP_FUNC(hour, temp_ref, temp_rise)\n",
    "        #print('current_temp', current_temp)\n",
    "        #Take Euler-Maruyama step. Note: np.random.normal takes std while np.random.multivariate_normal takes cov.\n",
    "        x[:, i] = np.random.multivariate_normal(mean = x[:, i - 1] + ALPHA(x[:, i - 1], THETA_DICT, I_S, I_D, current_temp, temp_ref, arrhenius_temp, linear_temp) * DT, cov = BETA(x[:, i - 1], THETA_DICT) * DT)\n",
    "        x[:, i][x[:, i] < 1e-5] = 1e-5 #Bound all x above 0.\n",
    "        #print('x at i', x[:, i])\n",
    "    x_for_y = x[:, 0::int(OBS_EVERY / DT)] #Slice x based on observation interval to generate y.\n",
    "    obs_var_scale = OBS_ERROR_SCALE * x_for_y.mean(1)\n",
    "    y = x_for_y + obs_var_scale[:, np.newaxis] * np.random.normal(loc = 0, scale = 1, size = x_for_y.shape) #Introduce observation error based on mean state sizes to generate y.\n",
    "    return {'y': y, 't_y': np.arange(0, T + DT, OBS_EVERY), 'x': x, 'y_std': obs_var_scale, 'x': x, 't_x': np.arange(0, T + DT, DT)}\n",
    "\n",
    "def get_SBM_SDE_euler_maruyama_y_det(ALPHA, X0, T, DT, THETA_DICT, I_S_FUNC, I_D_FUNC, TEMP_FUNC, OBS_EVERY, OBS_ERROR_SCALE, model_fam):\n",
    "    state_dim = 0\n",
    "    if model_fam == 'SCON':\n",
    "        state_dim = 3\n",
    "    elif model_fam == 'SAWB':\n",
    "        state_dim = 4\n",
    "    N = int(T / DT) + 1\n",
    "    M = int(T / OBS_EVERY) + 1\n",
    "    x = np.zeros([state_dim, N])\n",
    "    X0_array = np.array(X0)\n",
    "    X0_sample = np.random.normal(loc = X0_array, scale = OBS_ERROR_SCALE * X0_array) #Add noise to initial conditions of x.\n",
    "    print('X0_sample = ', X0_sample)\n",
    "    x[:, 0] = X0_sample\n",
    "    hour = 0\n",
    "    for i in range(1, N):\n",
    "        hour += DT\n",
    "        #print('hour', hour)\n",
    "        I_S = I_S_FUNC(hour)\n",
    "        #print('I_S', I_S)\n",
    "        I_D = I_D_FUNC(hour)\n",
    "        #print('I_D', I_D)\n",
    "        current_temp = TEMP_FUNC(hour, temp_ref, temp_rise)\n",
    "        #print('current_temp', current_temp)\n",
    "        #Take Euler.\n",
    "        x[:, i] = x[:, i - 1] + ALPHA(x[:, i - 1], THETA_DICT, I_S, I_D, current_temp, temp_ref, arrhenius_temp, linear_temp) * DT\n",
    "        x[:, i][x[:, i] < 1e-5] = 1e-5 #Bound all x above 0.\n",
    "        #print('x at i', x[:, i])\n",
    "    x_for_y = x[:, 0::int(OBS_EVERY / DT)] #Slice x based on observation interval to generate y.\n",
    "    obs_var_scale = OBS_ERROR_SCALE * x_for_y.mean(1)\n",
    "    y = x_for_y + obs_var_scale[:, np.newaxis] * np.random.normal(loc = 0, scale = 1, size = x_for_y.shape) #Introduce observation error based on mean state sizes to generate y.\n",
    "    y[y < 1e-5] = 1e-5 #Bound all y above 0.\n",
    "    return {'y': y, 't_y': np.arange(0, T + DT, OBS_EVERY), 'x': x, 'y_std': obs_var_scale, 'x': x, 't_x': np.arange(0, T + DT, DT)}"
   ]
  },
  {
   "cell_type": "code",
   "execution_count": 9,
   "metadata": {},
   "outputs": [],
   "source": [
    "dt = 0.01\n",
    "t = 500\n",
    "x0_SCON = [58, 0.08, 0.8]\n",
    "obs_every = 5\n",
    "obs_error_scale = 0.1"
   ]
  },
  {
   "cell_type": "code",
   "execution_count": 10,
   "metadata": {},
   "outputs": [
    {
     "name": "stdout",
     "output_type": "stream",
     "text": [
      "X0_sample =  [69.56029009  0.09368102  0.7732843 ]\n"
     ]
    }
   ],
   "source": [
    "y_dict = get_SBM_SDE_euler_maruyama_y(alpha_SCON, beta_SCON_C, x0_SCON, t, dt, SCON_C_params_dict, I_S_func, I_D_func, temp_func, obs_every, obs_error_scale, 'SCON')"
   ]
  },
  {
   "cell_type": "code",
   "execution_count": 11,
   "metadata": {},
   "outputs": [
    {
     "data": {
      "text/plain": [
       "<matplotlib.legend.Legend at 0x7fe64393eb50>"
      ]
     },
     "execution_count": 11,
     "metadata": {},
     "output_type": "execute_result"
    },
    {
     "data": {
      "image/png": "[encoded data removed]",
      "text/plain": [
       "<Figure size 432x288 with 1 Axes>"
      ]
     },
     "metadata": {
      "needs_background": "light"
     },
     "output_type": "display_data"
    }
   ],
   "source": [
    "fig, axs = plt.subplots(1, 1)\n",
    "axs.plot(y_dict['t_x'], y_dict['x'][0, :], color = \"m\", label = 'SOC x')\n",
    "axs.plot(y_dict['t_x'], y_dict['x'][1, :], color = \"c\", label = 'DOC x')\n",
    "axs.plot(y_dict['t_x'], y_dict['x'][2, :], color = \"g\", label = 'MBC x')\n",
    "axs.scatter(y_dict['t_y'], y_dict['y'][0, :], color = \"m\", alpha = 0.5, label = 'SOC y')\n",
    "axs.scatter(y_dict['t_y'], y_dict['y'][1, :], color = \"c\", alpha = 0.5, label = 'DOC y')\n",
    "axs.scatter(y_dict['t_y'], y_dict['y'][2, :], color = \"g\", alpha = 0.5, label = 'MBC y')\n",
    "axs.legend()"
   ]
  },
  {
   "cell_type": "code",
   "execution_count": 12,
   "metadata": {},
   "outputs": [],
   "source": [
    "fig_save_string = f't_{t}_dt_{dt}'.replace('.','-')\n",
    "fig.savefig(fig_save_string, dpi = 300)"
   ]
  },
  {
   "cell_type": "code",
   "execution_count": 13,
   "metadata": {},
   "outputs": [],
   "source": [
    "#Save CSV of stochastic path.\n",
    "df_y = pd.DataFrame(data = {'hour': y_dict['t_y'], 'SOC': y_dict['y'][0, :], 'DOC': y_dict['y'][1, :], 'MBC': y_dict['y'][2, :]})\n",
    "df_y.to_csv(f'y_from_x_t_{t}_dt_{dt}'.replace('.','-') + '.csv', index = False)"
   ]
  },
  {
   "cell_type": "code",
   "execution_count": 14,
   "metadata": {},
   "outputs": [
    {
     "name": "stdout",
     "output_type": "stream",
     "text": [
      "      hour        SOC       DOC       MBC\n",
      "0      0.0  78.416288  0.114719  0.765666\n",
      "1      5.0  70.707141  0.127587  0.599182\n",
      "2     10.0  79.892084  0.156777  0.950989\n",
      "3     15.0  74.363044  0.194523  1.085489\n",
      "4     20.0  74.488159  0.247951  1.322953\n",
      "..     ...        ...       ...       ...\n",
      "96   480.0  67.050794  0.000781  2.285087\n",
      "97   485.0  44.404827  0.037291  2.206733\n",
      "98   490.0  47.240687  0.049749  2.432770\n",
      "99   495.0  56.457456  0.096657  2.546723\n",
      "100  500.0  61.106801  0.111573  2.464510\n",
      "\n",
      "[101 rows x 4 columns]\n"
     ]
    }
   ],
   "source": [
    "print(df_y)"
   ]
  },
  {
   "cell_type": "code",
   "execution_count": 15,
   "metadata": {},
   "outputs": [
    {
     "name": "stdout",
     "output_type": "stream",
     "text": [
      "X0_sample =  [54.36407261  0.07549299  0.83304096]\n"
     ]
    }
   ],
   "source": [
    "y_det_dict = get_SBM_SDE_euler_maruyama_y_det(alpha_SCON, x0_SCON, t, dt, SCON_SS_params_dict, I_S_func, I_D_func, temp_func, obs_every, obs_error_scale, 'SCON')"
   ]
  },
  {
   "cell_type": "code",
   "execution_count": 16,
   "metadata": {},
   "outputs": [
    {
     "data": {
      "text/plain": [
       "<matplotlib.legend.Legend at 0x7fe6442e04f0>"
      ]
     },
     "execution_count": 16,
     "metadata": {},
     "output_type": "execute_result"
    },
    {
     "data": {
      "image/png": "[encoded data removed]",
      "text/plain": [
       "<Figure size 432x288 with 1 Axes>"
      ]
     },
     "metadata": {
      "needs_background": "light"
     },
     "output_type": "display_data"
    }
   ],
   "source": [
    "fig2, axs2 = plt.subplots(1, 1)\n",
    "axs2.plot(y_det_dict['t_x'], y_det_dict['x'][0, :], color = \"m\", label = 'SOC x')\n",
    "axs2.plot(y_det_dict['t_x'], y_det_dict['x'][1, :], color = \"c\", label = 'DOC x')\n",
    "axs2.plot(y_det_dict['t_x'], y_det_dict['x'][2, :], color = \"g\", label = 'MBC x')\n",
    "axs2.scatter(y_det_dict['t_y'], y_det_dict['y'][0, :], color = \"m\", alpha = 0.5, label = 'SOC y')\n",
    "axs2.scatter(y_det_dict['t_y'], y_det_dict['y'][1, :], color = \"c\", alpha = 0.5, label = 'DOC y')\n",
    "axs2.scatter(y_det_dict['t_y'], y_det_dict['y'][2, :], color = \"g\", alpha = 0.5, label = 'MBC y')\n",
    "axs2.legend()"
   ]
  },
  {
   "cell_type": "code",
   "execution_count": 17,
   "metadata": {},
   "outputs": [],
   "source": [
    "fig2_save_string = f't_{t}_dt_{dt}_det'.replace('.','-')\n",
    "fig2.savefig(fig2_save_string, dpi = 300)"
   ]
  },
  {
   "cell_type": "code",
   "execution_count": null,
   "metadata": {},
   "outputs": [],
   "source": []
  }
 ],
 "metadata": {
  "kernelspec": {
   "display_name": "Python 3",
   "language": "python",
   "name": "python3"
  },
  "language_info": {
   "codemirror_mode": {
    "name": "ipython",
    "version": 3
   },
   "file_extension": ".py",
   "mimetype": "text/x-python",
   "name": "python",
   "nbconvert_exporter": "python",
   "pygments_lexer": "ipython3",
   "version": "3.8.6"
  }
 },
 "nbformat": 4,
 "nbformat_minor": 4
}
