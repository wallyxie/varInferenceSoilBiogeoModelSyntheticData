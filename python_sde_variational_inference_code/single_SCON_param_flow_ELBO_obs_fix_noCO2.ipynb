{
 "cells": [
  {
   "cell_type": "code",
   "execution_count": 20,
   "metadata": {},
   "outputs": [],
   "source": [
    "from SBM_SDE import *\n",
    "from obs_and_flow_classes_and_functions import *\n",
    "import seaborn as sns\n",
    "import torch\n",
    "from torch import nn\n",
    "import torch.distributions as d\n",
    "import torch.nn.functional as F\n",
    "import torch.optim as optim\n",
    "import numpy as np\n",
    "import math\n",
    "from tqdm import tqdm\n",
    "import random\n",
    "from torch.autograd import Function\n",
    "import argparse\n",
    "import os\n",
    "import sys\n",
    "from pathlib import Path\n",
    "import shutil\n",
    "import pandas as pd"
   ]
  },
  {
   "cell_type": "code",
   "execution_count": 30,
   "metadata": {},
   "outputs": [],
   "source": [
    "torch.manual_seed(0)\n",
    "device = torch.device(\"\".join([\"cuda:\",f'{CUDA_ID}']) if torch.cuda.is_available() else \"cpu\")\n",
    "\n",
    "state_dim_SCON = 3 #Not including CO2 in STATE_DIM, because CO2 is an observation.\n",
    "state_dim_SAWB = 4 #Not including CO2 in STATE_DIM, because CO2 is an observation.\n",
    "\n",
    "CUDA_ID = 1\n",
    "dt = .2\n",
    "T = 1000 #Run simulation for 1000 hours.\n",
    "N = int(T / dt) \n",
    "T_span = np.linspace(0, T, N + 1)\n",
    "T_span_tensor = torch.reshape(torch.Tensor(T_span), [1, N + 1, 1]) #T_span needs to be converted to tensor object. Additionally, facilitates conversion of I_S and I_D to tensor objects.\n",
    "LR = 1e-3\n",
    "niter = 4000\n",
    "pretrain_iter = 2000\n",
    "batch_size = 1 #Number of sets of observation outputs to sample per set of parameters."
   ]
  },
  {
   "cell_type": "code",
   "execution_count": 31,
   "metadata": {},
   "outputs": [],
   "source": [
    "temp_ref = 283\n",
    "\n",
    "#System parameters from deterministic model\n",
    "u_M = 0.002\n",
    "a_SD = 0.33\n",
    "a_DS = 0.33\n",
    "a_M = 0.33\n",
    "a_MSC = 0.5\n",
    "k_S_ref = 0.000025\n",
    "k_D_ref = 0.005\n",
    "k_M_ref = 0.0002\n",
    "Ea_S = 75\n",
    "Ea_D = 50\n",
    "Ea_M = 50\n",
    "\n",
    "#Diffusion matrix sigma scale parameters\n",
    "c_SOC = 1.\n",
    "c_DOC = 0.01\n",
    "c_MBC = 0.1\n",
    "c_CO2 = 0.0001\n",
    "\n",
    "SCON_C_params_dict = {'u_M': u_M, 'a_SD': a_SD, 'a_DS': a_DS, 'a_M': a_M, 'a_MSC': a_MSC, 'k_S_ref': k_S_ref, 'k_D_ref': k_D_ref, 'k_M_ref': k_M_ref, 'Ea_S': Ea_S, 'Ea_D': Ea_D, 'Ea_M': Ea_M, 'c_SOC': c_SOC, 'c_DOC': c_DOC, 'c_MBC': c_MBC}"
   ]
  },
  {
   "cell_type": "code",
   "execution_count": 32,
   "metadata": {},
   "outputs": [],
   "source": [
    "#Obtain SOC and DOC pool litter inputs for all SBMs.\n",
    "I_S_tensor = 0.001 + 0.0005 * torch.sin((2 * np.pi / (24 * 365)) * T_span_tensor) #Exogenous SOC input function\n",
    "I_D_tensor = 0.0001 + 0.00005 * torch.sin((2 * np.pi / (24 * 365)) * T_span_tensor) #Exogenous DOC input function"
   ]
  },
  {
   "cell_type": "code",
   "execution_count": 33,
   "metadata": {},
   "outputs": [],
   "source": [
    "#Read-in deterministic data observations for use in inference.\n",
    "obs_times, obs_means_CON, obs_error_CON = csv_to_obs_df('CON_synthetic_sol_df.csv', 4, 1000, 0.1)\n",
    "obs_times, obs_means_AWB, obs_error_AWB = csv_to_obs_df('AWB_synthetic_sol_df.csv', 5, 1000, 0.1)\n",
    "obs_times, obs_means_AWB_ECA, obs_error_AWB_ECA = csv_to_obs_df('AWB_ECA_synthetic_sol_df.csv', 5, 1000, 0.1)"
   ]
  },
  {
   "cell_type": "code",
   "execution_count": 34,
   "metadata": {},
   "outputs": [],
   "source": [
    "def neg_log_lik(C_path, T_span_tensor, dt, I_S_tensor, I_D_tensor, drift_diffusion, params_dict, temp_ref):\n",
    "    drift, diffusion_sqrt = drift_diffusion(C_path[:, :-1, :], T_span_tensor[:, :-1, :], I_S_tensor[:, :-1, :], I_D_tensor[:, :-1, :], params_dict, temp_ref)\n",
    "    euler_maruyama_state_sample_object = d.multivariate_normal.MultivariateNormal(loc = C_path[:, :-1, :] + drift * dt, scale_tril = diffusion_sqrt * math.sqrt(dt))\n",
    "    return -euler_maruyama_state_sample_object.log_prob(C_path[:, 1:, :]).sum(-1)"
   ]
  },
  {
   "cell_type": "code",
   "execution_count": 35,
   "metadata": {},
   "outputs": [],
   "source": [
    "obs_model_CON_noCO2 = ObsModel(device = device, times = obs_times, dt = dt, mu = obs_means_CON[:-1, :], scale = obs_error_CON[:, :-1])\n",
    "obs_model_AWB_noCO2 = ObsModel(device = device, times = obs_times, dt = dt, mu = obs_means_AWB[:-1, :], scale = obs_error_AWB[:, :-1])\n",
    "obs_model_AWB_ECA_noCO2 = ObsModel(device = device, times = obs_times, dt = dt, mu = obs_means_AWB_ECA[:-1, :], scale = obs_error_AWB_ECA[:, :-1])"
   ]
  },
  {
   "cell_type": "code",
   "execution_count": 36,
   "metadata": {},
   "outputs": [],
   "source": [
    "def train(net, niter, pretrain_iter, batch_size, obs_model, T_span_tensor, I_S_tensor, I_D_tensor, drift_diffusion, params_dict, analytical_steady_state_init):\n",
    "    if pretrain_iter >= niter:\n",
    "        raise Exception(\"pretrain_inter must be < niter.\")\n",
    "    best_loss_norm = 1e10\n",
    "    best_loss_ELBO = 1e20\n",
    "    norm_losses = [best_loss_norm] * 10\n",
    "    ELBO_losses = [best_loss_ELBO] * 10\n",
    "    C0 = analytical_steady_state_init(I_S_tensor[0, 0, 0].item(), I_D_tensor[0, 0, 0].item(), params_dict) #Calculate deterministic initial conditions.\n",
    "    C0 = C0[(None,) * 2].repeat(batch_size, 1, 1).to(device) #Assign initial conditions to C_path.\n",
    "    with tqdm(total = niter, desc = f'Train Diffusion', position = -1) as t:\n",
    "        for iter in range(niter):\n",
    "            net.train()\n",
    "            optimizer.zero_grad()\n",
    "            C_path, log_prob = net() #Obtain paths with solutions at times after t0.\n",
    "            C_path = torch.cat([C0, C_path], 1) #Append deterministic CON initial conditions conditional on parameter values to C path. \n",
    "            if iter <= pretrain_iter:\n",
    "                l1_norm_element = C_path - torch.mean(obs_model.mu, -1)\n",
    "                l1_norm = torch.sum(torch.abs(l1_norm_element)).mean()\n",
    "                best_loss_norm = l1_norm if l1_norm < best_loss_norm else best_loss_norm\n",
    "                norm_losses.append(l1_norm.item())\n",
    "                #l2_norm_element = C_path - torch.mean(obs_model.mu, -1)\n",
    "                #l2_norm = torch.sqrt(torch.sum(torch.square(l2_norm_element))).mean()\n",
    "                #best_loss_norm = l2_norm if l2_norm < best_loss_norm else best_loss_norm\n",
    "                #l2_norm.backward()\n",
    "                #norm_losses.append(l2_norm.item())\n",
    "                if len(norm_losses) > 10:\n",
    "                    norm_losses.pop(0)\n",
    "                if iter % 10 == 0:\n",
    "                    print(f\"Moving average norm loss at {iter} iterations is: {sum(norm_losses) / len(norm_losses)}. Best norm loss value is: {best_loss_norm}.\")\n",
    "                    print('\\nC_path mean =', C_path.mean(-2))\n",
    "                    print('\\nC_path =', C_path)\n",
    "                l1_norm.backward()\n",
    "            else:\n",
    "                log_lik = neg_log_lik(C_path, T_span_tensor.to(device), dt, I_S_tensor.to(device), I_D_tensor.to(device), drift_diffusion, params_dict, temp_ref)\n",
    "                ELBO = log_prob.mean() + log_lik.mean() - obs_model(C_path)\n",
    "                best_loss_ELBO = ELBO if ELBO < best_loss_ELBO else best_loss_ELBO\n",
    "                ELBO_losses.append(ELBO.item())\n",
    "                if len(ELBO_losses) > 10:\n",
    "                    ELBO_losses.pop(0)\n",
    "                if iter % 10 == 0:\n",
    "                    print(f\"Moving average ELBO loss at {iter} iterations is: {sum(ELBO_losses) / len(ELBO_losses)}. Best ELBO loss value is: {best_loss_ELBO}.\")\n",
    "                    print('\\nC_path mean =', C_path.mean(-2))\n",
    "                    print('\\n C_path =', C_path)\n",
    "                ELBO.backward()\n",
    "            torch.nn.utils.clip_grad_norm_(net.parameters(), 3.0)\n",
    "            optimizer.step()\n",
    "            if iter % 100000 == 0 and iter > 0:\n",
    "                optimizer.param_groups[0]['lr'] *= 0.1\n",
    "            t.update()"
   ]
  },
  {
   "cell_type": "code",
   "execution_count": 37,
   "metadata": {},
   "outputs": [],
   "source": [
    "net_SCON_c = SDEFlow(device = device, obs_model = obs_model_CON_noCO2, state_dim = state_dim_SCON, T = T, dt = dt, N = N, batch_size = batch_size).to(device)\n",
    "optimizer = optim.Adam(net_SCON_c.parameters(), lr = LR)"
   ]
  },
  {
   "cell_type": "code",
   "execution_count": null,
   "metadata": {
    "scrolled": true
   },
   "outputs": [
    {
     "name": "stderr",
     "output_type": "stream",
     "text": [
      "\n",
      "Train Diffusion:   0%|          | 0/4000 [00:00<?, ?it/s]\u001b[A"
     ]
    },
    {
     "name": "stdout",
     "output_type": "stream",
     "text": [
      "Moving average norm loss at 0 iterations is: 9000022788.976562. Best norm loss value is: 227889.765625.\n",
      "\n",
      "C_path mean = tensor([[0.6117, 0.6914, 0.9139]], grad_fn=<MeanBackward1>)\n",
      "\n",
      "C_path = tensor([[[4.5660e+01, 7.1469e-02, 7.1469e-01],\n",
      "         [8.2709e-01, 7.9033e-01, 8.8175e-01],\n",
      "         [5.8314e-01, 6.9806e-01, 7.4934e-01],\n",
      "         ...,\n",
      "         [8.9601e-01, 7.9831e-01, 8.0336e-01],\n",
      "         [8.9254e-01, 7.0059e-01, 2.4620e-01],\n",
      "         [9.2251e-01, 5.9186e-01, 1.1602e-02]]], grad_fn=<CatBackward>)\n"
     ]
    }
   ],
   "source": [
    "train(net_SCON_c, niter, pretrain_iter, batch_size, obs_model_CON_noCO2, T_span_tensor, I_S_tensor, I_D_tensor, drift_diffusion_scon_c, SCON_C_params_dict, analytical_steady_state_init_con)"
   ]
  },
  {
   "cell_type": "code",
   "execution_count": null,
   "metadata": {},
   "outputs": [],
   "source": []
  }
 ],
 "metadata": {
  "kernelspec": {
   "display_name": "Python 3",
   "language": "python",
   "name": "python3"
  },
  "language_info": {
   "codemirror_mode": {
    "name": "ipython",
    "version": 3
   },
   "file_extension": ".py",
   "mimetype": "text/x-python",
   "name": "python",
   "nbconvert_exporter": "python",
   "pygments_lexer": "ipython3",
   "version": "3.8.6"
  }
 },
 "nbformat": 4,
 "nbformat_minor": 4
}
