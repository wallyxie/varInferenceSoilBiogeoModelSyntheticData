{
 "cells": [
  {
   "cell_type": "code",
   "execution_count": 20,
   "metadata": {},
   "outputs": [],
   "source": [
    "from SBM_SDE import *\n",
    "from obs_and_flow_classes_and_functions import *\n",
    "import seaborn as sns\n",
    "import torch\n",
    "from torch import nn\n",
    "import torch.distributions as d\n",
    "import torch.nn.functional as F\n",
    "import torch.optim as optim\n",
    "import numpy as np\n",
    "import math\n",
    "from tqdm import tqdm\n",
    "import random\n",
    "from torch.autograd import Function\n",
    "import argparse\n",
    "import os\n",
    "import sys\n",
    "from pathlib import Path\n",
    "import shutil\n",
    "import pandas as pd"
   ]
  },
  {
   "cell_type": "code",
   "execution_count": 21,
   "metadata": {},
   "outputs": [],
   "source": [
    "torch.manual_seed(0)\n",
    "device = torch.device(\"\".join([\"cuda:\",f'{CUDA_ID}']) if torch.cuda.is_available() else \"cpu\")\n",
    "\n",
    "state_dim_SCON = 3 #Not including CO2 in STATE_DIM, because CO2 is an observation.\n",
    "state_dim_SAWB = 4 #Not including CO2 in STATE_DIM, because CO2 is an observation.\n",
    "\n",
    "CUDA_ID = 1\n",
    "dt = .2\n",
    "T = 1000 #Run simulation for 1000 hours.\n",
    "N = int(T / dt) \n",
    "T_span = np.linspace(0, T, N + 1)\n",
    "T_span_tensor = torch.reshape(torch.Tensor(T_span), [1, N + 1, 1]) #T_span needs to be converted to tensor object. Additionally, facilitates conversion of I_S and I_D to tensor objects.\n",
    "LR = 1e-3\n",
    "niter = 2000\n",
    "pretrain_iter = 1000\n",
    "batch_size = 1 #Number of sets of observation outputs to sample per set of parameters."
   ]
  },
  {
   "cell_type": "code",
   "execution_count": 22,
   "metadata": {},
   "outputs": [],
   "source": [
    "temp_ref = 283\n",
    "\n",
    "#System parameters from deterministic model\n",
    "u_M = 0.002\n",
    "a_SD = 0.33\n",
    "a_DS = 0.33\n",
    "a_M = 0.33\n",
    "a_MSC = 0.5\n",
    "k_S_ref = 0.000025\n",
    "k_D_ref = 0.005\n",
    "k_M_ref = 0.0002\n",
    "Ea_S = 75\n",
    "Ea_D = 50\n",
    "Ea_M = 50\n",
    "\n",
    "#Diffusion matrix sigma scale parameters\n",
    "c_SOC = 1.\n",
    "c_DOC = 0.01\n",
    "c_MBC = 0.1\n",
    "c_CO2 = 0.0001\n",
    "\n",
    "SCON_C_params_dict = {'u_M': u_M, 'a_SD': a_SD, 'a_DS': a_DS, 'a_M': a_M, 'a_MSC': a_MSC, 'k_S_ref': k_S_ref, 'k_D_ref': k_D_ref, 'k_M_ref': k_M_ref, 'Ea_S': Ea_S, 'Ea_D': Ea_D, 'Ea_M': Ea_M, 'c_SOC': c_SOC, 'c_DOC': c_DOC, 'c_MBC': c_MBC}"
   ]
  },
  {
   "cell_type": "code",
   "execution_count": 23,
   "metadata": {},
   "outputs": [],
   "source": [
    "#Obtain SOC and DOC pool litter inputs for all SBMs.\n",
    "I_S_tensor = 0.001 + 0.0005 * torch.sin((2 * np.pi / (24 * 365)) * T_span_tensor) #Exogenous SOC input function\n",
    "I_D_tensor = 0.0001 + 0.00005 * torch.sin((2 * np.pi / (24 * 365)) * T_span_tensor) #Exogenous DOC input function"
   ]
  },
  {
   "cell_type": "code",
   "execution_count": 24,
   "metadata": {},
   "outputs": [],
   "source": [
    "#Read-in deterministic data observations for use in inference.\n",
    "obs_times, obs_means_CON, obs_error_CON = csv_to_obs_df('CON_synthetic_sol_df.csv', 4, 1000, 0.1)\n",
    "obs_times, obs_means_AWB, obs_error_AWB = csv_to_obs_df('AWB_synthetic_sol_df.csv', 5, 1000, 0.1)\n",
    "obs_times, obs_means_AWB_ECA, obs_error_AWB_ECA = csv_to_obs_df('AWB_ECA_synthetic_sol_df.csv', 5, 1000, 0.1)"
   ]
  },
  {
   "cell_type": "code",
   "execution_count": 25,
   "metadata": {},
   "outputs": [],
   "source": [
    "def neg_log_lik(C_path, T_span_tensor, dt, I_S_tensor, I_D_tensor, drift_diffusion, params_dict, temp_ref):\n",
    "    drift, diffusion_sqrt = drift_diffusion(C_path[:, :-1, :], T_span_tensor[:, :-1, :], I_S_tensor[:, :-1, :], I_D_tensor[:, :-1, :], params_dict, temp_ref)\n",
    "    euler_maruyama_state_sample_object = d.multivariate_normal.MultivariateNormal(loc = C_path[:, :-1, :] + drift * dt, scale_tril = diffusion_sqrt * math.sqrt(dt))\n",
    "    return -euler_maruyama_state_sample_object.log_prob(C_path[:, 1:, :]).sum(-1)"
   ]
  },
  {
   "cell_type": "code",
   "execution_count": 26,
   "metadata": {},
   "outputs": [],
   "source": [
    "obs_model_CON_noCO2 = ObsModel(device = device, times = obs_times, dt = dt, mu = obs_means_CON[:-1, :], scale = obs_error_CON[:, :-1])\n",
    "obs_model_AWB_noCO2 = ObsModel(device = device, times = obs_times, dt = dt, mu = obs_means_AWB[:-1, :], scale = obs_error_AWB[:, :-1])\n",
    "obs_model_AWB_ECA_noCO2 = ObsModel(device = device, times = obs_times, dt = dt, mu = obs_means_AWB_ECA[:-1, :], scale = obs_error_AWB_ECA[:, :-1])"
   ]
  },
  {
   "cell_type": "code",
   "execution_count": 27,
   "metadata": {},
   "outputs": [],
   "source": [
    "def train(net, niter, pretrain_iter, batch_size, obs_model, T_span_tensor, I_S_tensor, I_D_tensor, drift_diffusion, params_dict, analytical_steady_state_init):\n",
    "    if pretrain_iter >= niter:\n",
    "        raise Exception(\"pretrain_inter must be < niter.\")\n",
    "    best_loss_norm = 1e10\n",
    "    best_loss_ELBO = 1e20\n",
    "    norm_losses = [best_loss_norm] * 10\n",
    "    ELBO_losses = [best_loss_ELBO] * 10\n",
    "    C0 = analytical_steady_state_init(I_S_tensor[0, 0, 0].item(), I_D_tensor[0, 0, 0].item(), params_dict) #Calculate deterministic initial conditions.\n",
    "    C0 = C0[(None,) * 2].repeat(batch_size, 1, 1).to(device) #Assign initial conditions to C_path.\n",
    "    with tqdm(total = niter, desc = f'Train Diffusion', position = -1) as t:\n",
    "        for iter in range(niter):\n",
    "            net.train()\n",
    "            optimizer.zero_grad()\n",
    "            C_path, log_prob = net() #Obtain paths with solutions at times after t0.\n",
    "            C_path = torch.cat([C0, C_path], 1) #Append deterministic CON initial conditions conditional on parameter values to C path. \n",
    "            if iter <= pretrain_iter:\n",
    "                l1_norm_element = C_path - torch.mean(obs_model.mu, -1)\n",
    "                l1_norm = torch.sum(torch.abs(l1_norm_element)).mean()\n",
    "                best_loss_norm = l1_norm if l1_norm < best_loss_norm else best_loss_norm\n",
    "                norm_losses.append(l1_norm.item())\n",
    "                #l2_norm_element = C_path - torch.mean(obs_model.mu, -1)\n",
    "                #l2_norm = torch.sqrt(torch.sum(torch.square(l2_norm_element))).mean()\n",
    "                #best_loss_norm = l2_norm if l2_norm < best_loss_norm else best_loss_norm\n",
    "                #l2_norm.backward()\n",
    "                #norm_losses.append(l2_norm.item())\n",
    "                if len(norm_losses) > 10:\n",
    "                    norm_losses.pop(0)\n",
    "                if iter % 10 == 0:\n",
    "                    print(f\"Moving average norm loss at {iter} iterations is: {sum(norm_losses) / len(norm_losses)}. Best norm loss value is: {best_loss_norm}.\")\n",
    "                    print('\\nC_path mean =', C_path.mean(-2))\n",
    "                    print('\\nC_path =', C_path)\n",
    "                l1_norm.backward()\n",
    "            else:\n",
    "                log_lik = neg_log_lik(C_path, T_span_tensor.to(device), dt, I_S_tensor.to(device), I_D_tensor.to(device), drift_diffusion, params_dict, temp_ref)\n",
    "                ELBO = log_prob.mean() + log_lik.mean() - obs_model(C_path)\n",
    "                best_loss_ELBO = ELBO if ELBO < best_loss_ELBO else best_loss_ELBO\n",
    "                ELBO_losses.append(ELBO.item())\n",
    "                if len(ELBO_losses) > 10:\n",
    "                    ELBO_losses.pop(0)\n",
    "                if iter % 10 == 0:\n",
    "                    print(f\"Moving average ELBO loss at {iter} iterations is: {sum(ELBO_losses) / len(ELBO_losses)}. Best ELBO loss value is: {best_loss_ELBO}.\")\n",
    "                    print('\\nC_path mean =', C_path.mean(-2))\n",
    "                    print('\\n C_path =', C_path)\n",
    "                ELBO.backward()\n",
    "            torch.nn.utils.clip_grad_norm_(net.parameters(), 3.0)\n",
    "            optimizer.step()\n",
    "            if iter % 100000 == 0 and iter > 0:\n",
    "                optimizer.param_groups[0]['lr'] *= 0.1\n",
    "            t.update()"
   ]
  },
  {
   "cell_type": "code",
   "execution_count": 28,
   "metadata": {},
   "outputs": [],
   "source": [
    "net_SCON_c = SDEFlow(device = device, obs_model = obs_model_CON_noCO2, state_dim = state_dim_SCON, T = T, dt = dt, N = N, batch_size = batch_size).to(device)\n",
    "optimizer = optim.Adam(net_SCON_c.parameters(), lr = LR)"
   ]
  },
  {
   "cell_type": "code",
   "execution_count": 29,
   "metadata": {
    "scrolled": true
   },
   "outputs": [
    {
     "name": "stderr",
     "output_type": "stream",
     "text": [
      "\n",
      "Train Diffusion:   0%|          | 0/2000 [00:00<?, ?it/s]\u001b[A"
     ]
    },
    {
     "name": "stdout",
     "output_type": "stream",
     "text": [
      "Moving average norm loss at 0 iterations is: 9000022788.976562. Best norm loss value is: 227889.765625.\n",
      "\n",
      "C_path mean = tensor([[0.6117, 0.6914, 0.9139]], grad_fn=<MeanBackward1>)\n",
      "\n",
      "C_path = tensor([[[4.5660e+01, 7.1469e-02, 7.1469e-01],\n",
      "         [8.2709e-01, 7.9033e-01, 8.8175e-01],\n",
      "         [5.8314e-01, 6.9806e-01, 7.4934e-01],\n",
      "         ...,\n",
      "         [8.9601e-01, 7.9831e-01, 8.0336e-01],\n",
      "         [8.9254e-01, 7.0059e-01, 2.4620e-01],\n",
      "         [9.2251e-01, 5.9186e-01, 1.1602e-02]]], grad_fn=<CatBackward>)\n"
     ]
    },
    {
     "name": "stderr",
     "output_type": "stream",
     "text": [
      "\n",
      "Train Diffusion:   0%|          | 1/2000 [00:02<1:08:09,  2.05s/it]\u001b[A\n",
      "Train Diffusion:   0%|          | 2/2000 [00:03<1:03:38,  1.91s/it]\u001b[A\n",
      "Train Diffusion:   0%|          | 3/2000 [00:05<1:01:32,  1.85s/it]\u001b[A\n",
      "Train Diffusion:   0%|          | 4/2000 [00:07<1:00:34,  1.82s/it]\u001b[A\n",
      "Train Diffusion:   0%|          | 5/2000 [00:09<59:57,  1.80s/it]  \u001b[A\n",
      "Train Diffusion:   0%|          | 6/2000 [00:10<59:26,  1.79s/it]\u001b[A\n",
      "Train Diffusion:   0%|          | 7/2000 [00:12<59:35,  1.79s/it]\u001b[A\n",
      "Train Diffusion:   0%|          | 8/2000 [00:14<59:18,  1.79s/it]\u001b[A\n",
      "Train Diffusion:   0%|          | 9/2000 [00:16<58:58,  1.78s/it]\u001b[A\n",
      "Train Diffusion:   0%|          | 10/2000 [00:18<58:48,  1.77s/it]\u001b[A"
     ]
    },
    {
     "name": "stdout",
     "output_type": "stream",
     "text": [
      "Moving average norm loss at 10 iterations is: 218768.8578125. Best norm loss value is: 211444.0.\n",
      "\n",
      "C_path mean = tensor([[3.4637, 0.2556, 0.4710]], grad_fn=<MeanBackward1>)\n",
      "\n",
      "C_path = tensor([[[45.6603,  0.0715,  0.7147],\n",
      "         [ 1.3127,  0.9626,  0.2885],\n",
      "         [ 2.8074,  0.5820,  0.2604],\n",
      "         ...,\n",
      "         [ 1.9228,  0.2478,  0.7320],\n",
      "         [ 1.8428,  0.2422,  0.3521],\n",
      "         [ 1.9164,  0.3704,  0.2378]]], grad_fn=<CatBackward>)\n"
     ]
    },
    {
     "name": "stderr",
     "output_type": "stream",
     "text": [
      "\n",
      "Train Diffusion:   1%|          | 11/2000 [00:19<58:46,  1.77s/it]\u001b[A\n",
      "Train Diffusion:   1%|          | 12/2000 [00:21<59:11,  1.79s/it]\u001b[A\n",
      "Train Diffusion:   1%|          | 13/2000 [00:23<58:53,  1.78s/it]\u001b[A\n",
      "Train Diffusion:   1%|          | 14/2000 [00:25<1:00:10,  1.82s/it]\u001b[A\n",
      "Train Diffusion:   1%|          | 15/2000 [00:27<1:02:20,  1.88s/it]\u001b[A\n",
      "Train Diffusion:   1%|          | 16/2000 [00:29<1:04:48,  1.96s/it]\u001b[A\n",
      "Train Diffusion:   1%|          | 17/2000 [00:31<1:04:19,  1.95s/it]\u001b[A\n",
      "Train Diffusion:   1%|          | 18/2000 [00:33<1:03:10,  1.91s/it]\u001b[A\n",
      "Train Diffusion:   1%|          | 19/2000 [00:35<1:02:38,  1.90s/it]\u001b[A\n",
      "Train Diffusion:   1%|          | 20/2000 [00:36<1:02:12,  1.88s/it]\u001b[A"
     ]
    },
    {
     "name": "stdout",
     "output_type": "stream",
     "text": [
      "Moving average norm loss at 20 iterations is: 202170.309375. Best norm loss value is: 194709.421875.\n",
      "\n",
      "C_path mean = tensor([[6.8487, 0.1184, 0.2920]], grad_fn=<MeanBackward1>)\n",
      "\n",
      "C_path = tensor([[[45.6603,  0.0715,  0.7147],\n",
      "         [ 0.3499,  2.5412,  0.1739],\n",
      "         [ 0.6134,  0.5675,  0.1693],\n",
      "         ...,\n",
      "         [ 7.2627,  0.1759,  0.3777],\n",
      "         [ 6.5180,  0.1819,  0.2389],\n",
      "         [ 6.8469,  0.1771,  0.0908]]], grad_fn=<CatBackward>)\n"
     ]
    },
    {
     "name": "stderr",
     "output_type": "stream",
     "text": [
      "\n",
      "Train Diffusion:   1%|          | 21/2000 [00:39<1:04:18,  1.95s/it]\u001b[A\n",
      "Train Diffusion:   1%|          | 22/2000 [00:41<1:04:49,  1.97s/it]\u001b[A\n",
      "Train Diffusion:   1%|          | 23/2000 [00:43<1:06:34,  2.02s/it]\u001b[A\n",
      "Train Diffusion:   1%|          | 24/2000 [00:45<1:05:41,  1.99s/it]\u001b[A\n",
      "Train Diffusion:   1%|▏         | 25/2000 [00:47<1:04:38,  1.96s/it]\u001b[A\n",
      "Train Diffusion:   1%|▏         | 26/2000 [00:49<1:09:38,  2.12s/it]\u001b[A\n",
      "Train Diffusion:   1%|▏         | 27/2000 [00:51<1:11:18,  2.17s/it]\u001b[A\n",
      "Train Diffusion:   1%|▏         | 28/2000 [00:53<1:07:31,  2.05s/it]\u001b[A\n",
      "Train Diffusion:   1%|▏         | 29/2000 [00:55<1:06:33,  2.03s/it]\u001b[A\n",
      "Train Diffusion:   2%|▏         | 30/2000 [00:57<1:08:46,  2.09s/it]\u001b[A"
     ]
    },
    {
     "name": "stdout",
     "output_type": "stream",
     "text": [
      "Moving average norm loss at 30 iterations is: 184693.071875. Best norm loss value is: 176871.078125.\n",
      "\n",
      "C_path mean = tensor([[10.5520,  0.0665,  0.1518]], grad_fn=<MeanBackward1>)\n",
      "\n",
      "C_path = tensor([[[4.5660e+01, 7.1469e-02, 7.1469e-01],\n",
      "         [4.6941e-01, 3.7308e+00, 9.8634e-02],\n",
      "         [2.3511e+00, 9.7190e-01, 8.9657e-02],\n",
      "         ...,\n",
      "         [1.0266e+01, 8.8101e-02, 2.0156e-01],\n",
      "         [9.2303e+00, 9.0159e-02, 1.1625e-01],\n",
      "         [1.0238e+01, 8.9022e-02, 3.1513e-02]]], grad_fn=<CatBackward>)\n"
     ]
    },
    {
     "name": "stderr",
     "output_type": "stream",
     "text": [
      "\n",
      "Train Diffusion:   2%|▏         | 31/2000 [00:59<1:06:48,  2.04s/it]\u001b[A\n",
      "Train Diffusion:   2%|▏         | 32/2000 [01:01<1:09:26,  2.12s/it]\u001b[A\n",
      "Train Diffusion:   2%|▏         | 33/2000 [01:05<1:27:44,  2.68s/it]\u001b[A\n",
      "Train Diffusion:   2%|▏         | 34/2000 [01:13<2:17:08,  4.19s/it]\u001b[A\n",
      "Train Diffusion:   2%|▏         | 35/2000 [01:16<1:59:35,  3.65s/it]\u001b[A\n",
      "Train Diffusion:   2%|▏         | 36/2000 [01:18<1:45:54,  3.24s/it]\u001b[A\n",
      "Train Diffusion:   2%|▏         | 37/2000 [01:23<2:01:50,  3.72s/it]\u001b[A\n",
      "Train Diffusion:   2%|▏         | 38/2000 [01:27<2:09:23,  3.96s/it]\u001b[A\n",
      "Train Diffusion:   2%|▏         | 39/2000 [01:33<2:28:01,  4.53s/it]\u001b[A\n",
      "Train Diffusion:   2%|▏         | 40/2000 [01:37<2:25:59,  4.47s/it]\u001b[A"
     ]
    },
    {
     "name": "stdout",
     "output_type": "stream",
     "text": [
      "Moving average norm loss at 40 iterations is: 166834.4125. Best norm loss value is: 158322.6875.\n",
      "\n",
      "C_path mean = tensor([[14.3186,  0.0324,  0.1288]], grad_fn=<MeanBackward1>)\n",
      "\n",
      "C_path = tensor([[[4.5660e+01, 7.1469e-02, 7.1469e-01],\n",
      "         [3.4699e-01, 5.3817e+00, 6.1332e-02],\n",
      "         [2.0134e+00, 1.4288e+00, 5.7583e-02],\n",
      "         ...,\n",
      "         [1.5384e+01, 5.0679e-02, 1.8797e-01],\n",
      "         [1.3635e+01, 5.3966e-02, 9.9704e-02],\n",
      "         [1.5167e+01, 4.9516e-02, 2.1163e-02]]], grad_fn=<CatBackward>)\n"
     ]
    },
    {
     "name": "stderr",
     "output_type": "stream",
     "text": [
      "\n",
      "Train Diffusion:   2%|▏         | 41/2000 [01:40<2:05:54,  3.86s/it]\u001b[A\n",
      "Train Diffusion:   2%|▏         | 42/2000 [01:42<1:46:54,  3.28s/it]\u001b[A\n",
      "Train Diffusion:   2%|▏         | 43/2000 [01:44<1:33:44,  2.87s/it]\u001b[A\n",
      "Train Diffusion:   2%|▏         | 44/2000 [01:46<1:26:01,  2.64s/it]\u001b[A\n",
      "Train Diffusion:   2%|▏         | 45/2000 [01:48<1:18:40,  2.41s/it]\u001b[A\n",
      "Train Diffusion:   2%|▏         | 46/2000 [01:50<1:13:23,  2.25s/it]\u001b[A\n",
      "Train Diffusion:   2%|▏         | 47/2000 [01:51<1:09:11,  2.13s/it]\u001b[A\n",
      "Train Diffusion:   2%|▏         | 48/2000 [01:53<1:06:24,  2.04s/it]\u001b[A\n",
      "Train Diffusion:   2%|▏         | 49/2000 [01:55<1:03:59,  1.97s/it]\u001b[A\n",
      "Train Diffusion:   2%|▎         | 50/2000 [01:57<1:02:26,  1.92s/it]\u001b[A"
     ]
    },
    {
     "name": "stdout",
     "output_type": "stream",
     "text": [
      "Moving average norm loss at 50 iterations is: 147295.7828125. Best norm loss value is: 138012.90625.\n",
      "\n",
      "C_path mean = tensor([[18.4475,  0.0185,  0.0752]], grad_fn=<MeanBackward1>)\n",
      "\n",
      "C_path = tensor([[[4.5660e+01, 7.1469e-02, 7.1469e-01],\n",
      "         [3.5691e-01, 6.1435e+00, 3.3086e-02],\n",
      "         [3.4043e+00, 1.3583e+00, 3.1597e-02],\n",
      "         ...,\n",
      "         [1.9189e+01, 3.1028e-02, 1.1072e-01],\n",
      "         [1.6854e+01, 3.0633e-02, 4.0563e-02],\n",
      "         [1.8531e+01, 2.6948e-02, 5.1124e-03]]], grad_fn=<CatBackward>)\n"
     ]
    },
    {
     "name": "stderr",
     "output_type": "stream",
     "text": [
      "\n",
      "Train Diffusion:   3%|▎         | 51/2000 [01:59<1:01:39,  1.90s/it]\u001b[A\n",
      "Train Diffusion:   3%|▎         | 52/2000 [02:00<1:00:43,  1.87s/it]\u001b[A\n",
      "Train Diffusion:   3%|▎         | 53/2000 [02:02<1:00:20,  1.86s/it]\u001b[A\n",
      "Train Diffusion:   3%|▎         | 54/2000 [02:04<59:57,  1.85s/it]  \u001b[A\n",
      "Train Diffusion:   3%|▎         | 55/2000 [02:06<59:50,  1.85s/it]\u001b[A\n",
      "Train Diffusion:   3%|▎         | 56/2000 [02:08<59:36,  1.84s/it]\u001b[A\n",
      "Train Diffusion:   3%|▎         | 57/2000 [02:10<59:28,  1.84s/it]\u001b[A\n",
      "Train Diffusion:   3%|▎         | 58/2000 [02:11<59:18,  1.83s/it]\u001b[A\n",
      "Train Diffusion:   3%|▎         | 59/2000 [02:13<58:54,  1.82s/it]\u001b[A\n",
      "Train Diffusion:   3%|▎         | 60/2000 [02:15<58:41,  1.81s/it]\u001b[A"
     ]
    },
    {
     "name": "stdout",
     "output_type": "stream",
     "text": [
      "Moving average norm loss at 60 iterations is: 125946.69453125. Best norm loss value is: 115755.5859375.\n",
      "\n",
      "C_path mean = tensor([[2.2956e+01, 1.7461e-02, 1.9469e-02]], grad_fn=<MeanBackward1>)\n",
      "\n",
      "C_path = tensor([[[4.5660e+01, 7.1469e-02, 7.1469e-01],\n",
      "         [6.6607e-01, 8.2127e+00, 1.7760e-02],\n",
      "         [6.6318e+00, 2.9927e+00, 1.7823e-02],\n",
      "         ...,\n",
      "         [2.4694e+01, 1.7460e-02, 1.3577e-02],\n",
      "         [2.1628e+01, 1.5891e-02, 1.2539e-03],\n",
      "         [2.4077e+01, 1.4993e-02, 2.3974e-05]]], grad_fn=<CatBackward>)\n"
     ]
    },
    {
     "name": "stderr",
     "output_type": "stream",
     "text": [
      "\n",
      "Train Diffusion:   3%|▎         | 61/2000 [02:17<58:53,  1.82s/it]\u001b[A\n",
      "Train Diffusion:   3%|▎         | 62/2000 [02:19<58:34,  1.81s/it]\u001b[A\n",
      "Train Diffusion:   3%|▎         | 63/2000 [02:20<58:18,  1.81s/it]\u001b[A\n",
      "Train Diffusion:   3%|▎         | 64/2000 [02:22<58:10,  1.80s/it]\u001b[A\n",
      "Train Diffusion:   3%|▎         | 65/2000 [02:24<58:07,  1.80s/it]\u001b[A\n",
      "Train Diffusion:   3%|▎         | 66/2000 [02:26<57:59,  1.80s/it]\u001b[A\n",
      "Train Diffusion:   3%|▎         | 67/2000 [02:28<57:55,  1.80s/it]\u001b[A\n",
      "Train Diffusion:   3%|▎         | 68/2000 [02:29<57:44,  1.79s/it]\u001b[A\n",
      "Train Diffusion:   3%|▎         | 69/2000 [02:31<57:45,  1.79s/it]\u001b[A\n",
      "Train Diffusion:   4%|▎         | 70/2000 [02:33<57:41,  1.79s/it]\u001b[A"
     ]
    },
    {
     "name": "stdout",
     "output_type": "stream",
     "text": [
      "Moving average norm loss at 70 iterations is: 102664.146875. Best norm loss value is: 91694.59375.\n",
      "\n",
      "C_path mean = tensor([[2.7785e+01, 1.0619e-02, 9.2772e-03]], grad_fn=<MeanBackward1>)\n",
      "\n",
      "C_path = tensor([[[4.5660e+01, 7.1469e-02, 7.1469e-01],\n",
      "         [6.3280e-01, 9.1741e+00, 8.7796e-03],\n",
      "         [8.3806e+00, 2.9442e+00, 8.5786e-03],\n",
      "         ...,\n",
      "         [2.9690e+01, 8.0723e-03, 7.9148e-03],\n",
      "         [2.5890e+01, 7.9020e-03, 9.9013e-04],\n",
      "         [2.8550e+01, 8.2248e-03, 5.0538e-05]]], grad_fn=<CatBackward>)\n"
     ]
    },
    {
     "name": "stderr",
     "output_type": "stream",
     "text": [
      "\n",
      "Train Diffusion:   4%|▎         | 71/2000 [02:35<57:57,  1.80s/it]\u001b[A\n",
      "Train Diffusion:   4%|▎         | 72/2000 [02:37<57:49,  1.80s/it]\u001b[A\n",
      "Train Diffusion:   4%|▎         | 73/2000 [02:38<57:49,  1.80s/it]\u001b[A\n",
      "Train Diffusion:   4%|▎         | 74/2000 [02:40<57:47,  1.80s/it]\u001b[A\n",
      "Train Diffusion:   4%|▍         | 75/2000 [02:42<57:43,  1.80s/it]\u001b[A\n",
      "Train Diffusion:   4%|▍         | 76/2000 [02:44<57:53,  1.81s/it]\u001b[A\n",
      "Train Diffusion:   4%|▍         | 77/2000 [02:46<57:43,  1.80s/it]\u001b[A\n",
      "Train Diffusion:   4%|▍         | 78/2000 [02:47<57:33,  1.80s/it]\u001b[A\n",
      "Train Diffusion:   4%|▍         | 79/2000 [02:49<57:39,  1.80s/it]\u001b[A\n",
      "Train Diffusion:   4%|▍         | 80/2000 [02:51<57:38,  1.80s/it]\u001b[A"
     ]
    },
    {
     "name": "stdout",
     "output_type": "stream",
     "text": [
      "Moving average norm loss at 80 iterations is: 77667.54765625. Best norm loss value is: 65931.6484375.\n",
      "\n",
      "C_path mean = tensor([[3.2945e+01, 6.6622e-03, 4.8268e-03]], grad_fn=<MeanBackward1>)\n",
      "\n",
      "C_path = tensor([[[4.5660e+01, 7.1469e-02, 7.1469e-01],\n",
      "         [6.9145e-01, 1.0258e+01, 4.4145e-03],\n",
      "         [1.0671e+01, 3.1686e+00, 4.2755e-03],\n",
      "         ...,\n",
      "         [3.5323e+01, 3.9388e-03, 4.4787e-03],\n",
      "         [3.0649e+01, 3.8731e-03, 1.1917e-03],\n",
      "         [3.3490e+01, 4.0750e-03, 1.9930e-04]]], grad_fn=<CatBackward>)\n"
     ]
    },
    {
     "name": "stderr",
     "output_type": "stream",
     "text": [
      "\n",
      "Train Diffusion:   4%|▍         | 81/2000 [02:53<57:53,  1.81s/it]\u001b[A\n",
      "Train Diffusion:   4%|▍         | 82/2000 [02:55<58:13,  1.82s/it]\u001b[A\n",
      "Train Diffusion:   4%|▍         | 83/2000 [02:57<57:55,  1.81s/it]\u001b[A\n",
      "Train Diffusion:   4%|▍         | 84/2000 [02:58<57:37,  1.80s/it]\u001b[A\n",
      "Train Diffusion:   4%|▍         | 85/2000 [03:00<57:24,  1.80s/it]\u001b[A\n",
      "Train Diffusion:   4%|▍         | 86/2000 [03:02<57:16,  1.80s/it]\u001b[A\n",
      "Train Diffusion:   4%|▍         | 87/2000 [03:04<57:10,  1.79s/it]\u001b[A\n",
      "Train Diffusion:   4%|▍         | 88/2000 [03:05<57:06,  1.79s/it]\u001b[A\n",
      "Train Diffusion:   4%|▍         | 89/2000 [03:07<57:13,  1.80s/it]\u001b[A\n",
      "Train Diffusion:   4%|▍         | 90/2000 [03:09<57:10,  1.80s/it]\u001b[A"
     ]
    },
    {
     "name": "stdout",
     "output_type": "stream",
     "text": [
      "Moving average norm loss at 90 iterations is: 52460.147265625. Best norm loss value is: 44518.40625.\n",
      "\n",
      "C_path mean = tensor([[3.8199e+01, 6.8022e-03, 1.5949e-03]], grad_fn=<MeanBackward1>)\n",
      "\n",
      "C_path = tensor([[[4.5660e+01, 7.1469e-02, 7.1469e-01],\n",
      "         [2.2776e+00, 9.8817e+00, 2.1476e-03],\n",
      "         [1.9233e+01, 3.3975e+00, 2.2540e-03],\n",
      "         ...,\n",
      "         [3.7108e+01, 1.8402e-03, 7.8415e-04],\n",
      "         [3.1919e+01, 1.7348e-03, 9.1346e-04],\n",
      "         [3.4323e+01, 1.8652e-03, 6.5773e-04]]], grad_fn=<CatBackward>)\n"
     ]
    },
    {
     "name": "stderr",
     "output_type": "stream",
     "text": [
      "\n",
      "Train Diffusion:   5%|▍         | 91/2000 [03:11<57:27,  1.81s/it]\u001b[A\n",
      "Train Diffusion:   5%|▍         | 92/2000 [03:13<57:20,  1.80s/it]\u001b[A\n",
      "Train Diffusion:   5%|▍         | 93/2000 [03:14<57:12,  1.80s/it]\u001b[A\n",
      "Train Diffusion:   5%|▍         | 94/2000 [03:16<57:05,  1.80s/it]\u001b[A\n",
      "Train Diffusion:   5%|▍         | 95/2000 [03:18<56:59,  1.79s/it]\u001b[A\n",
      "Train Diffusion:   5%|▍         | 96/2000 [03:20<56:57,  1.79s/it]\u001b[A\n",
      "Train Diffusion:   5%|▍         | 97/2000 [03:22<56:51,  1.79s/it]\u001b[A\n",
      "Train Diffusion:   5%|▍         | 98/2000 [03:23<56:51,  1.79s/it]\u001b[A\n",
      "Train Diffusion:   5%|▍         | 99/2000 [03:25<57:10,  1.80s/it]\u001b[A\n",
      "Train Diffusion:   5%|▌         | 100/2000 [03:27<57:21,  1.81s/it]\u001b[A"
     ]
    },
    {
     "name": "stdout",
     "output_type": "stream",
     "text": [
      "Moving average norm loss at 100 iterations is: 40025.745703125. Best norm loss value is: 36375.1953125.\n",
      "\n",
      "C_path mean = tensor([[4.1891e+01, 1.2181e-02, 7.1973e-04]], grad_fn=<MeanBackward1>)\n",
      "\n",
      "C_path = tensor([[[4.5660e+01, 7.1469e-02, 7.1469e-01],\n",
      "         [2.9577e+00, 1.4816e+01, 1.3137e-03],\n",
      "         [2.0899e+01, 9.5804e+00, 1.4527e-03],\n",
      "         ...,\n",
      "         [4.6348e+01, 1.1397e-03, 1.1943e-04],\n",
      "         [4.0128e+01, 1.0792e-03, 1.7191e-04],\n",
      "         [4.4452e+01, 1.2332e-03, 3.8658e-04]]], grad_fn=<CatBackward>)\n"
     ]
    },
    {
     "name": "stderr",
     "output_type": "stream",
     "text": [
      "\n",
      "Train Diffusion:   5%|▌         | 101/2000 [03:29<57:30,  1.82s/it]\u001b[A\n",
      "Train Diffusion:   5%|▌         | 102/2000 [03:31<57:13,  1.81s/it]\u001b[A\n",
      "Train Diffusion:   5%|▌         | 103/2000 [03:33<57:05,  1.81s/it]\u001b[A\n",
      "Train Diffusion:   5%|▌         | 104/2000 [03:34<56:54,  1.80s/it]\u001b[A\n",
      "Train Diffusion:   5%|▌         | 105/2000 [03:36<56:53,  1.80s/it]\u001b[A\n",
      "Train Diffusion:   5%|▌         | 106/2000 [03:38<56:59,  1.81s/it]\u001b[A\n",
      "Train Diffusion:   5%|▌         | 107/2000 [03:40<57:02,  1.81s/it]\u001b[A\n",
      "Train Diffusion:   5%|▌         | 108/2000 [03:42<57:12,  1.81s/it]\u001b[A\n",
      "Train Diffusion:   5%|▌         | 109/2000 [03:43<56:55,  1.81s/it]\u001b[A\n",
      "Train Diffusion:   6%|▌         | 110/2000 [03:45<56:44,  1.80s/it]\u001b[A"
     ]
    },
    {
     "name": "stdout",
     "output_type": "stream",
     "text": [
      "Moving average norm loss at 110 iterations is: 34542.47578125. Best norm loss value is: 32815.95703125.\n",
      "\n",
      "C_path mean = tensor([[4.3834e+01, 3.4604e-02, 3.8810e-04]], grad_fn=<MeanBackward1>)\n",
      "\n",
      "C_path = tensor([[[4.5660e+01, 7.1469e-02, 7.1469e-01],\n",
      "         [5.2176e+00, 1.7338e+01, 1.0008e-03],\n",
      "         [2.5532e+01, 1.4241e+01, 1.0790e-03],\n",
      "         ...,\n",
      "         [4.7891e+01, 8.2036e-04, 1.0649e-05],\n",
      "         [4.2333e+01, 8.2035e-04, 2.7189e-05],\n",
      "         [4.7512e+01, 9.5095e-04, 3.2943e-04]]], grad_fn=<CatBackward>)\n"
     ]
    },
    {
     "name": "stderr",
     "output_type": "stream",
     "text": [
      "\n",
      "Train Diffusion:   6%|▌         | 111/2000 [03:47<56:57,  1.81s/it]\u001b[A\n",
      "Train Diffusion:   6%|▌         | 112/2000 [03:49<56:51,  1.81s/it]\u001b[A\n",
      "Train Diffusion:   6%|▌         | 113/2000 [03:51<57:05,  1.82s/it]\u001b[A\n",
      "Train Diffusion:   6%|▌         | 114/2000 [03:52<56:49,  1.81s/it]\u001b[A\n",
      "Train Diffusion:   6%|▌         | 115/2000 [03:54<56:42,  1.80s/it]\u001b[A\n",
      "Train Diffusion:   6%|▌         | 116/2000 [03:56<56:31,  1.80s/it]\u001b[A\n",
      "Train Diffusion:   6%|▌         | 117/2000 [03:58<56:20,  1.80s/it]\u001b[A\n",
      "Train Diffusion:   6%|▌         | 118/2000 [04:00<56:15,  1.79s/it]\u001b[A\n",
      "Train Diffusion:   6%|▌         | 119/2000 [04:01<56:24,  1.80s/it]\u001b[A\n",
      "Train Diffusion:   6%|▌         | 120/2000 [04:03<56:16,  1.80s/it]\u001b[A"
     ]
    },
    {
     "name": "stdout",
     "output_type": "stream",
     "text": [
      "Moving average norm loss at 120 iterations is: 30194.41484375. Best norm loss value is: 27913.65234375.\n",
      "\n",
      "C_path mean = tensor([[4.3793e+01, 3.8216e-02, 3.3088e-04]], grad_fn=<MeanBackward1>)\n",
      "\n",
      "C_path = tensor([[[4.5660e+01, 7.1469e-02, 7.1469e-01],\n",
      "         [6.8228e+00, 1.8063e+01, 9.6837e-04],\n",
      "         [2.8484e+01, 1.4884e+01, 1.0292e-03],\n",
      "         ...,\n",
      "         [4.6300e+01, 6.6522e-04, 3.3761e-06],\n",
      "         [4.2023e+01, 7.6049e-04, 1.1543e-05],\n",
      "         [4.5731e+01, 8.9962e-04, 2.8471e-04]]], grad_fn=<CatBackward>)\n"
     ]
    },
    {
     "name": "stderr",
     "output_type": "stream",
     "text": [
      "\n",
      "Train Diffusion:   6%|▌         | 121/2000 [04:05<56:38,  1.81s/it]\u001b[A\n",
      "Train Diffusion:   6%|▌         | 122/2000 [04:07<56:21,  1.80s/it]\u001b[A\n",
      "Train Diffusion:   6%|▌         | 123/2000 [04:09<56:13,  1.80s/it]\u001b[A\n",
      "Train Diffusion:   6%|▌         | 124/2000 [04:10<56:00,  1.79s/it]\u001b[A\n",
      "Train Diffusion:   6%|▋         | 125/2000 [04:12<56:03,  1.79s/it]\u001b[A\n",
      "Train Diffusion:   6%|▋         | 126/2000 [04:14<56:09,  1.80s/it]\u001b[A\n",
      "Train Diffusion:   6%|▋         | 127/2000 [04:16<56:27,  1.81s/it]\u001b[A\n",
      "Train Diffusion:   6%|▋         | 128/2000 [04:18<56:12,  1.80s/it]\u001b[A\n",
      "Train Diffusion:   6%|▋         | 129/2000 [04:19<56:00,  1.80s/it]\u001b[A\n",
      "Train Diffusion:   6%|▋         | 130/2000 [04:21<55:50,  1.79s/it]\u001b[A"
     ]
    },
    {
     "name": "stdout",
     "output_type": "stream",
     "text": [
      "Moving average norm loss at 130 iterations is: 25173.563671875. Best norm loss value is: 23003.75390625.\n",
      "\n",
      "C_path mean = tensor([[4.4140e+01, 4.2467e-02, 2.5483e-04]], grad_fn=<MeanBackward1>)\n",
      "\n",
      "C_path = tensor([[[4.5660e+01, 7.1469e-02, 7.1469e-01],\n",
      "         [7.4073e+00, 1.7946e+01, 6.7778e-04],\n",
      "         [2.9198e+01, 1.3202e+01, 7.5031e-04],\n",
      "         ...,\n",
      "         [4.5465e+01, 4.4035e-04, 9.7999e-07],\n",
      "         [4.2030e+01, 5.1900e-04, 4.4483e-06],\n",
      "         [4.3423e+01, 5.7808e-04, 2.1710e-04]]], grad_fn=<CatBackward>)\n"
     ]
    },
    {
     "name": "stderr",
     "output_type": "stream",
     "text": [
      "\n",
      "Train Diffusion:   7%|▋         | 131/2000 [04:23<56:04,  1.80s/it]\u001b[A\n",
      "Train Diffusion:   7%|▋         | 132/2000 [04:25<55:53,  1.80s/it]\u001b[A\n",
      "Train Diffusion:   7%|▋         | 133/2000 [04:27<55:58,  1.80s/it]\u001b[A\n",
      "Train Diffusion:   7%|▋         | 134/2000 [04:28<55:53,  1.80s/it]\u001b[A\n",
      "Train Diffusion:   7%|▋         | 135/2000 [04:30<55:44,  1.79s/it]\u001b[A\n",
      "Train Diffusion:   7%|▋         | 136/2000 [04:32<55:42,  1.79s/it]\u001b[A\n",
      "Train Diffusion:   7%|▋         | 137/2000 [04:34<55:35,  1.79s/it]\u001b[A\n",
      "Train Diffusion:   7%|▋         | 138/2000 [04:35<55:30,  1.79s/it]\u001b[A\n",
      "Train Diffusion:   7%|▋         | 139/2000 [04:37<55:27,  1.79s/it]\u001b[A\n",
      "Train Diffusion:   7%|▋         | 140/2000 [04:39<55:27,  1.79s/it]\u001b[A"
     ]
    },
    {
     "name": "stdout",
     "output_type": "stream",
     "text": [
      "Moving average norm loss at 140 iterations is: 21154.121875. Best norm loss value is: 19752.853515625.\n",
      "\n",
      "C_path mean = tensor([[4.4432e+01, 3.8189e-02, 2.2523e-04]], grad_fn=<MeanBackward1>)\n",
      "\n",
      "C_path = tensor([[[4.5660e+01, 7.1469e-02, 7.1469e-01],\n",
      "         [7.3253e+00, 1.8781e+01, 5.3254e-04],\n",
      "         [2.8366e+01, 1.2920e+01, 5.4697e-04],\n",
      "         ...,\n",
      "         [4.6155e+01, 3.6660e-04, 5.2725e-07],\n",
      "         [4.3132e+01, 4.0203e-04, 2.7608e-06],\n",
      "         [4.3183e+01, 4.1866e-04, 1.9467e-04]]], grad_fn=<CatBackward>)\n"
     ]
    },
    {
     "name": "stderr",
     "output_type": "stream",
     "text": [
      "\n",
      "Train Diffusion:   7%|▋         | 141/2000 [04:41<55:59,  1.81s/it]\u001b[A\n",
      "Train Diffusion:   7%|▋         | 142/2000 [04:43<56:00,  1.81s/it]\u001b[A\n",
      "Train Diffusion:   7%|▋         | 143/2000 [04:45<55:48,  1.80s/it]\u001b[A\n",
      "Train Diffusion:   7%|▋         | 144/2000 [04:46<55:39,  1.80s/it]\u001b[A\n",
      "Train Diffusion:   7%|▋         | 145/2000 [04:48<55:27,  1.79s/it]\u001b[A\n",
      "Train Diffusion:   7%|▋         | 146/2000 [04:50<55:35,  1.80s/it]\u001b[A\n",
      "Train Diffusion:   7%|▋         | 147/2000 [04:52<55:27,  1.80s/it]\u001b[A\n",
      "Train Diffusion:   7%|▋         | 148/2000 [04:53<55:18,  1.79s/it]\u001b[A\n",
      "Train Diffusion:   7%|▋         | 149/2000 [04:55<55:11,  1.79s/it]\u001b[A\n",
      "Train Diffusion:   8%|▊         | 150/2000 [04:57<55:08,  1.79s/it]\u001b[A"
     ]
    },
    {
     "name": "stdout",
     "output_type": "stream",
     "text": [
      "Moving average norm loss at 150 iterations is: 18241.7609375. Best norm loss value is: 17220.6484375.\n",
      "\n",
      "C_path mean = tensor([[4.4522e+01, 3.6214e-02, 2.0387e-04]], grad_fn=<MeanBackward1>)\n",
      "\n",
      "C_path = tensor([[[4.5660e+01, 7.1469e-02, 7.1469e-01],\n",
      "         [8.5268e+00, 1.8198e+01, 4.1012e-04],\n",
      "         [3.0906e+01, 1.1544e+01, 4.1284e-04],\n",
      "         ...,\n",
      "         [4.4247e+01, 2.9105e-04, 3.4652e-07],\n",
      "         [4.1513e+01, 3.1024e-04, 2.1371e-06],\n",
      "         [4.0498e+01, 3.3069e-04, 1.8155e-04]]], grad_fn=<CatBackward>)\n"
     ]
    },
    {
     "name": "stderr",
     "output_type": "stream",
     "text": [
      "\n",
      "Train Diffusion:   8%|▊         | 151/2000 [04:59<55:31,  1.80s/it]\u001b[A\n",
      "Train Diffusion:   8%|▊         | 152/2000 [05:01<55:18,  1.80s/it]\u001b[A\n",
      "Train Diffusion:   8%|▊         | 153/2000 [05:02<55:10,  1.79s/it]\u001b[A\n",
      "Train Diffusion:   8%|▊         | 154/2000 [05:04<55:05,  1.79s/it]\u001b[A\n",
      "Train Diffusion:   8%|▊         | 155/2000 [05:06<54:57,  1.79s/it]\u001b[A\n",
      "Train Diffusion:   8%|▊         | 156/2000 [05:08<56:37,  1.84s/it]\u001b[A\n",
      "Train Diffusion:   8%|▊         | 157/2000 [05:10<55:57,  1.82s/it]\u001b[A\n",
      "Train Diffusion:   8%|▊         | 158/2000 [05:12<55:23,  1.80s/it]\u001b[A\n",
      "Train Diffusion:   8%|▊         | 159/2000 [05:13<54:57,  1.79s/it]\u001b[A\n",
      "Train Diffusion:   8%|▊         | 160/2000 [05:15<54:40,  1.78s/it]\u001b[A"
     ]
    },
    {
     "name": "stdout",
     "output_type": "stream",
     "text": [
      "Moving average norm loss at 160 iterations is: 16176.7236328125. Best norm loss value is: 15328.5859375.\n",
      "\n",
      "C_path mean = tensor([[4.4611e+01, 3.6893e-02, 1.9773e-04]], grad_fn=<MeanBackward1>)\n",
      "\n",
      "C_path = tensor([[[4.5660e+01, 7.1469e-02, 7.1469e-01],\n",
      "         [8.6191e+00, 1.9817e+01, 3.7839e-04],\n",
      "         [3.0296e+01, 1.2814e+01, 3.8064e-04],\n",
      "         ...,\n",
      "         [4.5639e+01, 2.5849e-04, 2.2500e-07],\n",
      "         [4.3043e+01, 2.7697e-04, 1.3445e-06],\n",
      "         [4.1504e+01, 2.9411e-04, 9.5027e-05]]], grad_fn=<CatBackward>)\n"
     ]
    },
    {
     "name": "stderr",
     "output_type": "stream",
     "text": [
      "\n",
      "Train Diffusion:   8%|▊         | 161/2000 [05:17<54:43,  1.79s/it]\u001b[A\n",
      "Train Diffusion:   8%|▊         | 162/2000 [05:19<54:35,  1.78s/it]\u001b[A\n",
      "Train Diffusion:   8%|▊         | 163/2000 [05:20<54:17,  1.77s/it]\u001b[A\n",
      "Train Diffusion:   8%|▊         | 164/2000 [05:22<54:08,  1.77s/it]\u001b[A\n",
      "Train Diffusion:   8%|▊         | 165/2000 [05:24<53:59,  1.77s/it]\u001b[A\n",
      "Train Diffusion:   8%|▊         | 166/2000 [05:26<54:08,  1.77s/it]\u001b[A\n",
      "Train Diffusion:   8%|▊         | 167/2000 [05:27<54:11,  1.77s/it]\u001b[A\n",
      "Train Diffusion:   8%|▊         | 168/2000 [05:29<53:58,  1.77s/it]\u001b[A\n",
      "Train Diffusion:   8%|▊         | 169/2000 [05:31<53:52,  1.77s/it]\u001b[A\n",
      "Train Diffusion:   8%|▊         | 170/2000 [05:33<53:48,  1.76s/it]\u001b[A"
     ]
    },
    {
     "name": "stdout",
     "output_type": "stream",
     "text": [
      "Moving average norm loss at 170 iterations is: 14180.20361328125. Best norm loss value is: 13471.220703125.\n",
      "\n",
      "C_path mean = tensor([[4.4842e+01, 3.8492e-02, 1.8868e-04]], grad_fn=<MeanBackward1>)\n",
      "\n",
      "C_path = tensor([[[4.5660e+01, 7.1469e-02, 7.1469e-01],\n",
      "         [8.9904e+00, 1.9096e+01, 3.0137e-04],\n",
      "         [3.1067e+01, 1.1267e+01, 3.0761e-04],\n",
      "         ...,\n",
      "         [4.4793e+01, 2.0756e-04, 1.9378e-07],\n",
      "         [4.2151e+01, 2.1766e-04, 1.3557e-06],\n",
      "         [3.9537e+01, 2.3590e-04, 1.1998e-04]]], grad_fn=<CatBackward>)\n"
     ]
    },
    {
     "name": "stderr",
     "output_type": "stream",
     "text": [
      "\n",
      "Train Diffusion:   9%|▊         | 171/2000 [05:34<53:44,  1.76s/it]\u001b[A\n",
      "Train Diffusion:   9%|▊         | 172/2000 [05:36<53:40,  1.76s/it]\u001b[A\n",
      "Train Diffusion:   9%|▊         | 173/2000 [05:38<53:47,  1.77s/it]\u001b[A\n",
      "Train Diffusion:   9%|▊         | 174/2000 [05:40<53:43,  1.77s/it]\u001b[A\n",
      "Train Diffusion:   9%|▉         | 175/2000 [05:42<53:50,  1.77s/it]\u001b[A\n",
      "Train Diffusion:   9%|▉         | 176/2000 [05:43<53:43,  1.77s/it]\u001b[A\n",
      "Train Diffusion:   9%|▉         | 177/2000 [05:45<53:37,  1.76s/it]\u001b[A\n",
      "Train Diffusion:   9%|▉         | 178/2000 [05:47<53:33,  1.76s/it]\u001b[A\n",
      "Train Diffusion:   9%|▉         | 179/2000 [05:49<53:30,  1.76s/it]\u001b[A\n",
      "Train Diffusion:   9%|▉         | 180/2000 [05:50<53:53,  1.78s/it]\u001b[A"
     ]
    },
    {
     "name": "stdout",
     "output_type": "stream",
     "text": [
      "Moving average norm loss at 180 iterations is: 12536.54345703125. Best norm loss value is: 11848.1953125.\n",
      "\n",
      "C_path mean = tensor([[4.4851e+01, 2.0437e-02, 1.9288e-04]], grad_fn=<MeanBackward1>)\n",
      "\n",
      "C_path = tensor([[[4.5660e+01, 7.1469e-02, 7.1469e-01],\n",
      "         [7.8078e+00, 1.9002e+01, 2.5995e-04],\n",
      "         [2.8508e+01, 1.0032e+01, 2.7878e-04],\n",
      "         ...,\n",
      "         [4.5653e+01, 1.5160e-04, 5.6916e-07],\n",
      "         [4.2732e+01, 1.6311e-04, 3.1828e-06],\n",
      "         [3.8868e+01, 1.8575e-04, 1.1056e-04]]], grad_fn=<CatBackward>)\n"
     ]
    },
    {
     "name": "stderr",
     "output_type": "stream",
     "text": [
      "\n",
      "Train Diffusion:   9%|▉         | 181/2000 [05:52<53:43,  1.77s/it]\u001b[A\n",
      "Train Diffusion:   9%|▉         | 182/2000 [05:54<53:34,  1.77s/it]\u001b[A\n",
      "Train Diffusion:   9%|▉         | 183/2000 [05:56<53:24,  1.76s/it]\u001b[A\n",
      "Train Diffusion:   9%|▉         | 184/2000 [05:57<53:20,  1.76s/it]\u001b[A\n",
      "Train Diffusion:   9%|▉         | 185/2000 [05:59<53:13,  1.76s/it]\u001b[A\n",
      "Train Diffusion:   9%|▉         | 186/2000 [06:01<53:15,  1.76s/it]\u001b[A\n",
      "Train Diffusion:   9%|▉         | 187/2000 [06:03<53:11,  1.76s/it]\u001b[A\n",
      "Train Diffusion:   9%|▉         | 188/2000 [06:04<53:11,  1.76s/it]\u001b[A\n",
      "Train Diffusion:   9%|▉         | 189/2000 [06:06<53:20,  1.77s/it]\u001b[A\n",
      "Train Diffusion:  10%|▉         | 190/2000 [06:08<53:14,  1.77s/it]\u001b[A"
     ]
    },
    {
     "name": "stdout",
     "output_type": "stream",
     "text": [
      "Moving average norm loss at 190 iterations is: 10983.65244140625. Best norm loss value is: 10391.15625.\n",
      "\n",
      "C_path mean = tensor([[4.4937e+01, 3.8359e-02, 1.8182e-04]], grad_fn=<MeanBackward1>)\n",
      "\n",
      "C_path = tensor([[[4.5660e+01, 7.1469e-02, 7.1469e-01],\n",
      "         [9.3971e+00, 1.8912e+01, 2.3724e-04],\n",
      "         [3.1340e+01, 9.7763e+00, 2.6046e-04],\n",
      "         ...,\n",
      "         [4.4537e+01, 1.4351e-04, 1.8855e-07],\n",
      "         [4.1722e+01, 1.5638e-04, 1.5509e-06],\n",
      "         [3.7342e+01, 1.7934e-04, 1.3221e-04]]], grad_fn=<CatBackward>)\n"
     ]
    },
    {
     "name": "stderr",
     "output_type": "stream",
     "text": [
      "\n",
      "Train Diffusion:  10%|▉         | 191/2000 [06:10<53:17,  1.77s/it]\u001b[A\n",
      "Train Diffusion:  10%|▉         | 192/2000 [06:12<53:24,  1.77s/it]\u001b[A\n",
      "Train Diffusion:  10%|▉         | 193/2000 [06:13<53:14,  1.77s/it]\u001b[A\n",
      "Train Diffusion:  10%|▉         | 194/2000 [06:15<53:10,  1.77s/it]\u001b[A\n",
      "Train Diffusion:  10%|▉         | 195/2000 [06:17<53:12,  1.77s/it]\u001b[A\n",
      "Train Diffusion:  10%|▉         | 196/2000 [06:19<53:03,  1.76s/it]\u001b[A\n",
      "Train Diffusion:  10%|▉         | 197/2000 [06:20<53:01,  1.76s/it]\u001b[A\n",
      "Train Diffusion:  10%|▉         | 198/2000 [06:22<53:20,  1.78s/it]\u001b[A\n",
      "Train Diffusion:  10%|▉         | 199/2000 [06:24<53:07,  1.77s/it]\u001b[A\n",
      "Train Diffusion:  10%|█         | 200/2000 [06:26<52:58,  1.77s/it]\u001b[A"
     ]
    },
    {
     "name": "stdout",
     "output_type": "stream",
     "text": [
      "Moving average norm loss at 200 iterations is: 9623.04775390625. Best norm loss value is: 9040.5419921875.\n",
      "\n",
      "C_path mean = tensor([[4.4998e+01, 3.4163e-02, 1.8136e-04]], grad_fn=<MeanBackward1>)\n",
      "\n",
      "C_path = tensor([[[4.5660e+01, 7.1469e-02, 7.1469e-01],\n",
      "         [9.4221e+00, 1.8852e+01, 2.1769e-04],\n",
      "         [3.1090e+01, 9.1479e+00, 2.4542e-04],\n",
      "         ...,\n",
      "         [4.4568e+01, 1.2046e-04, 2.0725e-07],\n",
      "         [4.1595e+01, 1.3192e-04, 1.7006e-06],\n",
      "         [3.6300e+01, 1.5801e-04, 1.1767e-04]]], grad_fn=<CatBackward>)\n"
     ]
    },
    {
     "name": "stderr",
     "output_type": "stream",
     "text": [
      "\n",
      "Train Diffusion:  10%|█         | 201/2000 [06:27<52:53,  1.76s/it]\u001b[A\n",
      "Train Diffusion:  10%|█         | 202/2000 [06:29<52:47,  1.76s/it]\u001b[A\n",
      "Train Diffusion:  10%|█         | 203/2000 [06:31<52:41,  1.76s/it]\u001b[A\n",
      "Train Diffusion:  10%|█         | 204/2000 [06:33<52:38,  1.76s/it]\u001b[A\n",
      "Train Diffusion:  10%|█         | 205/2000 [06:34<52:34,  1.76s/it]\u001b[A\n",
      "Train Diffusion:  10%|█         | 206/2000 [06:36<52:33,  1.76s/it]\u001b[A\n",
      "Train Diffusion:  10%|█         | 207/2000 [06:38<52:30,  1.76s/it]\u001b[A\n",
      "Train Diffusion:  10%|█         | 208/2000 [06:40<52:26,  1.76s/it]\u001b[A\n",
      "Train Diffusion:  10%|█         | 209/2000 [06:42<52:32,  1.76s/it]\u001b[A\n",
      "Train Diffusion:  10%|█         | 210/2000 [06:43<52:30,  1.76s/it]\u001b[A"
     ]
    },
    {
     "name": "stdout",
     "output_type": "stream",
     "text": [
      "Moving average norm loss at 210 iterations is: 8281.041357421875. Best norm loss value is: 7624.193359375.\n",
      "\n",
      "C_path mean = tensor([[4.5097e+01, 2.5966e-02, 1.8117e-04]], grad_fn=<MeanBackward1>)\n",
      "\n",
      "C_path = tensor([[[4.5660e+01, 7.1469e-02, 7.1469e-01],\n",
      "         [9.4646e+00, 1.8209e+01, 2.1588e-04],\n",
      "         [3.1086e+01, 7.8813e+00, 2.3775e-04],\n",
      "         ...,\n",
      "         [4.4690e+01, 1.1563e-04, 3.2346e-07],\n",
      "         [4.1447e+01, 1.2288e-04, 2.6020e-06],\n",
      "         [3.4919e+01, 1.2379e-04, 1.6167e-04]]], grad_fn=<CatBackward>)\n"
     ]
    },
    {
     "name": "stderr",
     "output_type": "stream",
     "text": [
      "\n",
      "Train Diffusion:  11%|█         | 211/2000 [06:45<52:34,  1.76s/it]\u001b[A\n",
      "Train Diffusion:  11%|█         | 212/2000 [06:47<52:31,  1.76s/it]\u001b[A\n",
      "Train Diffusion:  11%|█         | 213/2000 [06:49<53:40,  1.80s/it]\u001b[A\n",
      "Train Diffusion:  11%|█         | 214/2000 [06:51<54:43,  1.84s/it]\u001b[A\n",
      "Train Diffusion:  11%|█         | 215/2000 [06:52<54:13,  1.82s/it]\u001b[A\n",
      "Train Diffusion:  11%|█         | 216/2000 [06:54<53:35,  1.80s/it]\u001b[A\n",
      "Train Diffusion:  11%|█         | 217/2000 [06:56<53:18,  1.79s/it]\u001b[A\n",
      "Train Diffusion:  11%|█         | 218/2000 [06:58<53:15,  1.79s/it]\u001b[A\n",
      "Train Diffusion:  11%|█         | 219/2000 [07:00<53:15,  1.79s/it]\u001b[A\n",
      "Train Diffusion:  11%|█         | 220/2000 [07:01<52:53,  1.78s/it]\u001b[A"
     ]
    },
    {
     "name": "stdout",
     "output_type": "stream",
     "text": [
      "Moving average norm loss at 220 iterations is: 6981.273291015625. Best norm loss value is: 6428.42578125.\n",
      "\n",
      "C_path mean = tensor([[4.5315e+01, 3.1710e-02, 1.8281e-04]], grad_fn=<MeanBackward1>)\n",
      "\n",
      "C_path = tensor([[[4.5660e+01, 7.1469e-02, 7.1469e-01],\n",
      "         [9.9196e+00, 1.8277e+01, 2.6379e-04],\n",
      "         [3.1563e+01, 7.5855e+00, 2.6192e-04],\n",
      "         ...,\n",
      "         [4.4834e+01, 1.5813e-04, 3.1689e-07],\n",
      "         [4.1410e+01, 1.4863e-04, 3.1346e-06],\n",
      "         [3.4019e+01, 1.1208e-04, 1.6604e-04]]], grad_fn=<CatBackward>)\n"
     ]
    },
    {
     "name": "stderr",
     "output_type": "stream",
     "text": [
      "\n",
      "Train Diffusion:  11%|█         | 221/2000 [07:03<52:40,  1.78s/it]\u001b[A\n",
      "Train Diffusion:  11%|█         | 222/2000 [07:05<52:36,  1.78s/it]\u001b[A\n",
      "Train Diffusion:  11%|█         | 223/2000 [07:07<52:20,  1.77s/it]\u001b[A\n",
      "Train Diffusion:  11%|█         | 224/2000 [07:08<52:11,  1.76s/it]\u001b[A\n",
      "Train Diffusion:  11%|█▏        | 225/2000 [07:10<52:04,  1.76s/it]\u001b[A\n",
      "Train Diffusion:  11%|█▏        | 226/2000 [07:12<52:04,  1.76s/it]\u001b[A\n",
      "Train Diffusion:  11%|█▏        | 227/2000 [07:14<51:58,  1.76s/it]\u001b[A\n",
      "Train Diffusion:  11%|█▏        | 228/2000 [07:15<51:53,  1.76s/it]\u001b[A\n",
      "Train Diffusion:  11%|█▏        | 229/2000 [07:17<51:48,  1.76s/it]\u001b[A\n",
      "Train Diffusion:  12%|█▏        | 230/2000 [07:19<51:43,  1.75s/it]\u001b[A"
     ]
    },
    {
     "name": "stdout",
     "output_type": "stream",
     "text": [
      "Moving average norm loss at 230 iterations is: 6009.221484375. Best norm loss value is: 5516.1513671875.\n",
      "\n",
      "C_path mean = tensor([[4.5157e+01, 3.1757e-02, 1.8672e-04]], grad_fn=<MeanBackward1>)\n",
      "\n",
      "C_path = tensor([[[4.5660e+01, 7.1469e-02, 7.1469e-01],\n",
      "         [1.0007e+01, 1.9364e+01, 3.4774e-04],\n",
      "         [3.0295e+01, 8.2038e+00, 3.0010e-04],\n",
      "         ...,\n",
      "         [4.4282e+01, 2.2640e-04, 3.5399e-07],\n",
      "         [4.1040e+01, 1.8911e-04, 4.7597e-06],\n",
      "         [3.3644e+01, 1.0519e-04, 1.8017e-04]]], grad_fn=<CatBackward>)\n"
     ]
    },
    {
     "name": "stderr",
     "output_type": "stream",
     "text": [
      "\n",
      "Train Diffusion:  12%|█▏        | 231/2000 [07:21<51:38,  1.75s/it]\u001b[A\n",
      "Train Diffusion:  12%|█▏        | 232/2000 [07:22<51:35,  1.75s/it]\u001b[A\n",
      "Train Diffusion:  12%|█▏        | 233/2000 [07:24<51:33,  1.75s/it]\u001b[A\n",
      "Train Diffusion:  12%|█▏        | 234/2000 [07:26<51:31,  1.75s/it]\u001b[A\n",
      "Train Diffusion:  12%|█▏        | 235/2000 [07:28<51:51,  1.76s/it]\u001b[A\n",
      "Train Diffusion:  12%|█▏        | 236/2000 [07:29<51:47,  1.76s/it]\u001b[A\n",
      "Train Diffusion:  12%|█▏        | 237/2000 [07:31<51:41,  1.76s/it]\u001b[A\n",
      "Train Diffusion:  12%|█▏        | 238/2000 [07:33<51:35,  1.76s/it]\u001b[A\n",
      "Train Diffusion:  12%|█▏        | 239/2000 [07:35<51:31,  1.76s/it]\u001b[A\n",
      "Train Diffusion:  12%|█▏        | 240/2000 [07:36<51:27,  1.75s/it]\u001b[A"
     ]
    },
    {
     "name": "stdout",
     "output_type": "stream",
     "text": [
      "Moving average norm loss at 240 iterations is: 5004.8234375. Best norm loss value is: 4599.326171875.\n",
      "\n",
      "C_path mean = tensor([[4.5339e+01, 3.6297e-02, 1.9029e-04]], grad_fn=<MeanBackward1>)\n",
      "\n",
      "C_path = tensor([[[4.5660e+01, 7.1469e-02, 7.1469e-01],\n",
      "         [9.6907e+00, 2.0272e+01, 3.9949e-04],\n",
      "         [2.9315e+01, 8.7302e+00, 3.5757e-04],\n",
      "         ...,\n",
      "         [4.4337e+01, 2.1190e-04, 3.2550e-07],\n",
      "         [4.1190e+01, 2.0045e-04, 4.5601e-06],\n",
      "         [3.3587e+01, 1.0044e-04, 1.6948e-04]]], grad_fn=<CatBackward>)\n"
     ]
    },
    {
     "name": "stderr",
     "output_type": "stream",
     "text": [
      "\n",
      "Train Diffusion:  12%|█▏        | 241/2000 [07:38<51:26,  1.75s/it]\u001b[A\n",
      "Train Diffusion:  12%|█▏        | 242/2000 [07:40<51:31,  1.76s/it]\u001b[A\n",
      "Train Diffusion:  12%|█▏        | 243/2000 [07:42<51:31,  1.76s/it]\u001b[A\n",
      "Train Diffusion:  12%|█▏        | 244/2000 [07:43<51:21,  1.75s/it]\u001b[A\n",
      "Train Diffusion:  12%|█▏        | 245/2000 [07:45<51:15,  1.75s/it]\u001b[A\n",
      "Train Diffusion:  12%|█▏        | 246/2000 [07:47<51:18,  1.75s/it]\u001b[A\n",
      "Train Diffusion:  12%|█▏        | 247/2000 [07:49<51:19,  1.76s/it]\u001b[A\n",
      "Train Diffusion:  12%|█▏        | 248/2000 [07:50<51:19,  1.76s/it]\u001b[A\n",
      "Train Diffusion:  12%|█▏        | 249/2000 [07:52<51:20,  1.76s/it]\u001b[A\n",
      "Train Diffusion:  12%|█▎        | 250/2000 [07:54<51:16,  1.76s/it]\u001b[A"
     ]
    },
    {
     "name": "stdout",
     "output_type": "stream",
     "text": [
      "Moving average norm loss at 250 iterations is: 4603.598388671875. Best norm loss value is: 4373.771484375.\n",
      "\n",
      "C_path mean = tensor([[4.5360e+01, 4.1202e-02, 1.9657e-04]], grad_fn=<MeanBackward1>)\n",
      "\n",
      "C_path = tensor([[[4.5660e+01, 7.1469e-02, 7.1469e-01],\n",
      "         [9.4703e+00, 2.1105e+01, 4.8211e-04],\n",
      "         [2.8579e+01, 9.3151e+00, 4.1707e-04],\n",
      "         ...,\n",
      "         [4.4711e+01, 2.6640e-04, 2.8012e-07],\n",
      "         [4.1480e+01, 2.3909e-04, 4.2895e-06],\n",
      "         [3.3611e+01, 1.0513e-04, 1.5540e-04]]], grad_fn=<CatBackward>)\n"
     ]
    },
    {
     "name": "stderr",
     "output_type": "stream",
     "text": [
      "\n",
      "Train Diffusion:  13%|█▎        | 251/2000 [07:56<51:18,  1.76s/it]\u001b[A\n",
      "Train Diffusion:  13%|█▎        | 252/2000 [07:58<51:13,  1.76s/it]\u001b[A\n",
      "Train Diffusion:  13%|█▎        | 253/2000 [07:59<51:08,  1.76s/it]\u001b[A\n",
      "Train Diffusion:  13%|█▎        | 254/2000 [08:01<51:09,  1.76s/it]\u001b[A\n",
      "Train Diffusion:  13%|█▎        | 255/2000 [08:03<52:21,  1.80s/it]\u001b[A\n",
      "Train Diffusion:  13%|█▎        | 256/2000 [08:05<53:23,  1.84s/it]\u001b[A\n",
      "Train Diffusion:  13%|█▎        | 257/2000 [08:07<53:22,  1.84s/it]\u001b[A\n",
      "Train Diffusion:  13%|█▎        | 258/2000 [08:08<52:55,  1.82s/it]\u001b[A\n",
      "Train Diffusion:  13%|█▎        | 259/2000 [08:10<52:47,  1.82s/it]\u001b[A\n",
      "Train Diffusion:  13%|█▎        | 260/2000 [08:12<52:44,  1.82s/it]\u001b[A"
     ]
    },
    {
     "name": "stdout",
     "output_type": "stream",
     "text": [
      "Moving average norm loss at 260 iterations is: 4470.835205078125. Best norm loss value is: 4268.24462890625.\n",
      "\n",
      "C_path mean = tensor([[4.5294e+01, 5.7798e-02, 1.9318e-04]], grad_fn=<MeanBackward1>)\n",
      "\n",
      "C_path = tensor([[[4.5660e+01, 7.1469e-02, 7.1469e-01],\n",
      "         [1.0087e+01, 2.1525e+01, 5.2201e-04],\n",
      "         [2.9643e+01, 1.0114e+01, 4.1791e-04],\n",
      "         ...,\n",
      "         [4.4340e+01, 3.1034e-04, 1.3344e-07],\n",
      "         [4.1265e+01, 2.5857e-04, 2.5774e-06],\n",
      "         [3.3907e+01, 1.1506e-04, 1.5438e-04]]], grad_fn=<CatBackward>)\n"
     ]
    },
    {
     "name": "stderr",
     "output_type": "stream",
     "text": [
      "\n",
      "Train Diffusion:  13%|█▎        | 261/2000 [08:14<52:15,  1.80s/it]\u001b[A\n",
      "Train Diffusion:  13%|█▎        | 262/2000 [08:16<52:01,  1.80s/it]\u001b[A\n",
      "Train Diffusion:  13%|█▎        | 263/2000 [08:17<52:13,  1.80s/it]\u001b[A\n",
      "Train Diffusion:  13%|█▎        | 264/2000 [08:19<52:08,  1.80s/it]\u001b[A\n",
      "Train Diffusion:  13%|█▎        | 265/2000 [08:21<51:43,  1.79s/it]\u001b[A\n",
      "Train Diffusion:  13%|█▎        | 266/2000 [08:23<51:16,  1.77s/it]\u001b[A\n",
      "Train Diffusion:  13%|█▎        | 267/2000 [08:25<50:56,  1.76s/it]\u001b[A\n",
      "Train Diffusion:  13%|█▎        | 268/2000 [08:26<50:40,  1.76s/it]\u001b[A\n",
      "Train Diffusion:  13%|█▎        | 269/2000 [08:28<50:32,  1.75s/it]\u001b[A\n",
      "Train Diffusion:  14%|█▎        | 270/2000 [08:30<50:24,  1.75s/it]\u001b[A"
     ]
    },
    {
     "name": "stdout",
     "output_type": "stream",
     "text": [
      "Moving average norm loss at 270 iterations is: 4481.716845703125. Best norm loss value is: 4268.24462890625.\n",
      "\n",
      "C_path mean = tensor([[4.5356e+01, 3.4885e-02, 1.9833e-04]], grad_fn=<MeanBackward1>)\n",
      "\n",
      "C_path = tensor([[[4.5660e+01, 7.1469e-02, 7.1469e-01],\n",
      "         [9.6488e+00, 2.0929e+01, 4.8743e-04],\n",
      "         [2.9217e+01, 9.3777e+00, 4.0939e-04],\n",
      "         ...,\n",
      "         [4.4615e+01, 2.7701e-04, 2.8663e-07],\n",
      "         [4.1398e+01, 2.2996e-04, 4.9185e-06],\n",
      "         [3.3691e+01, 1.0690e-04, 1.8572e-04]]], grad_fn=<CatBackward>)\n"
     ]
    },
    {
     "name": "stderr",
     "output_type": "stream",
     "text": [
      "\n",
      "Train Diffusion:  14%|█▎        | 271/2000 [08:32<51:02,  1.77s/it]\u001b[A\n",
      "Train Diffusion:  14%|█▎        | 272/2000 [08:33<50:53,  1.77s/it]\u001b[A\n",
      "Train Diffusion:  14%|█▎        | 273/2000 [08:35<50:59,  1.77s/it]\u001b[A\n",
      "Train Diffusion:  14%|█▎        | 274/2000 [08:37<50:51,  1.77s/it]\u001b[A\n",
      "Train Diffusion:  14%|█▍        | 275/2000 [08:39<50:37,  1.76s/it]\u001b[A\n",
      "Train Diffusion:  14%|█▍        | 276/2000 [08:40<50:37,  1.76s/it]\u001b[A\n",
      "Train Diffusion:  14%|█▍        | 277/2000 [08:42<50:45,  1.77s/it]\u001b[A\n",
      "Train Diffusion:  14%|█▍        | 278/2000 [08:44<50:58,  1.78s/it]\u001b[A\n",
      "Train Diffusion:  14%|█▍        | 279/2000 [08:46<51:06,  1.78s/it]\u001b[A\n",
      "Train Diffusion:  14%|█▍        | 280/2000 [08:47<50:50,  1.77s/it]\u001b[A"
     ]
    },
    {
     "name": "stdout",
     "output_type": "stream",
     "text": [
      "Moving average norm loss at 280 iterations is: 4392.084326171875. Best norm loss value is: 4252.32763671875.\n",
      "\n",
      "C_path mean = tensor([[4.5263e+01, 4.2210e-02, 1.9348e-04]], grad_fn=<MeanBackward1>)\n",
      "\n",
      "C_path = tensor([[[4.5660e+01, 7.1469e-02, 7.1469e-01],\n",
      "         [1.0124e+01, 2.1126e+01, 4.9111e-04],\n",
      "         [2.9781e+01, 9.5976e+00, 4.0048e-04],\n",
      "         ...,\n",
      "         [4.4254e+01, 2.9166e-04, 2.2507e-07],\n",
      "         [4.1095e+01, 2.4739e-04, 4.1876e-06],\n",
      "         [3.3542e+01, 1.1042e-04, 2.0007e-04]]], grad_fn=<CatBackward>)\n"
     ]
    },
    {
     "name": "stderr",
     "output_type": "stream",
     "text": [
      "\n",
      "Train Diffusion:  14%|█▍        | 281/2000 [08:49<50:47,  1.77s/it]\u001b[A\n",
      "Train Diffusion:  14%|█▍        | 282/2000 [08:51<50:31,  1.76s/it]\u001b[A\n",
      "Train Diffusion:  14%|█▍        | 283/2000 [08:53<51:03,  1.78s/it]\u001b[A\n",
      "Train Diffusion:  14%|█▍        | 284/2000 [08:55<50:47,  1.78s/it]\u001b[A\n",
      "Train Diffusion:  14%|█▍        | 285/2000 [08:56<50:38,  1.77s/it]\u001b[A\n",
      "Train Diffusion:  14%|█▍        | 286/2000 [08:58<50:33,  1.77s/it]\u001b[A\n",
      "Train Diffusion:  14%|█▍        | 287/2000 [09:00<50:43,  1.78s/it]\u001b[A\n",
      "Train Diffusion:  14%|█▍        | 288/2000 [09:02<50:29,  1.77s/it]\u001b[A\n",
      "Train Diffusion:  14%|█▍        | 289/2000 [09:03<50:17,  1.76s/it]\u001b[A\n",
      "Train Diffusion:  14%|█▍        | 290/2000 [09:05<50:07,  1.76s/it]\u001b[A"
     ]
    },
    {
     "name": "stdout",
     "output_type": "stream",
     "text": [
      "Moving average norm loss at 290 iterations is: 4432.574853515625. Best norm loss value is: 4252.32763671875.\n",
      "\n",
      "C_path mean = tensor([[4.5353e+01, 3.6498e-02, 1.9772e-04]], grad_fn=<MeanBackward1>)\n",
      "\n",
      "C_path = tensor([[[4.5660e+01, 7.1469e-02, 7.1469e-01],\n",
      "         [1.0007e+01, 2.0890e+01, 5.0165e-04],\n",
      "         [2.9765e+01, 9.3516e+00, 4.1096e-04],\n",
      "         ...,\n",
      "         [4.4620e+01, 2.8412e-04, 2.8096e-07],\n",
      "         [4.1356e+01, 2.3750e-04, 5.2572e-06],\n",
      "         [3.3526e+01, 1.0820e-04, 2.0296e-04]]], grad_fn=<CatBackward>)\n"
     ]
    },
    {
     "name": "stderr",
     "output_type": "stream",
     "text": [
      "\n",
      "Train Diffusion:  15%|█▍        | 291/2000 [09:07<49:56,  1.75s/it]\u001b[A\n",
      "Train Diffusion:  15%|█▍        | 292/2000 [09:09<50:14,  1.76s/it]\u001b[A\n",
      "Train Diffusion:  15%|█▍        | 293/2000 [09:10<50:14,  1.77s/it]\u001b[A\n",
      "Train Diffusion:  15%|█▍        | 294/2000 [09:12<50:23,  1.77s/it]\u001b[A\n",
      "Train Diffusion:  15%|█▍        | 295/2000 [09:14<50:22,  1.77s/it]\u001b[A\n",
      "Train Diffusion:  15%|█▍        | 296/2000 [09:16<50:19,  1.77s/it]\u001b[A\n",
      "Train Diffusion:  15%|█▍        | 297/2000 [09:18<50:18,  1.77s/it]\u001b[A\n",
      "Train Diffusion:  15%|█▍        | 298/2000 [09:19<50:14,  1.77s/it]\u001b[A\n",
      "Train Diffusion:  15%|█▍        | 299/2000 [09:21<50:05,  1.77s/it]\u001b[A\n",
      "Train Diffusion:  15%|█▌        | 300/2000 [09:23<50:01,  1.77s/it]\u001b[A"
     ]
    },
    {
     "name": "stdout",
     "output_type": "stream",
     "text": [
      "Moving average norm loss at 300 iterations is: 4370.834912109375. Best norm loss value is: 4252.32763671875.\n",
      "\n",
      "C_path mean = tensor([[4.5286e+01, 4.4813e-02, 1.9998e-04]], grad_fn=<MeanBackward1>)\n",
      "\n",
      "C_path = tensor([[[4.5660e+01, 7.1469e-02, 7.1469e-01],\n",
      "         [1.0353e+01, 2.0824e+01, 5.4308e-04],\n",
      "         [3.0308e+01, 9.5071e+00, 4.6293e-04],\n",
      "         ...,\n",
      "         [4.4251e+01, 3.0882e-04, 1.9844e-07],\n",
      "         [4.0984e+01, 2.6565e-04, 4.2899e-06],\n",
      "         [3.3232e+01, 1.1889e-04, 2.2595e-04]]], grad_fn=<CatBackward>)\n"
     ]
    },
    {
     "name": "stderr",
     "output_type": "stream",
     "text": [
      "\n",
      "Train Diffusion:  15%|█▌        | 301/2000 [09:25<49:58,  1.76s/it]\u001b[A\n",
      "Train Diffusion:  15%|█▌        | 302/2000 [09:26<49:57,  1.77s/it]\u001b[A\n",
      "Train Diffusion:  15%|█▌        | 303/2000 [09:28<50:10,  1.77s/it]\u001b[A\n",
      "Train Diffusion:  15%|█▌        | 304/2000 [09:30<50:04,  1.77s/it]\u001b[A\n",
      "Train Diffusion:  15%|█▌        | 305/2000 [09:32<50:01,  1.77s/it]\u001b[A\n",
      "Train Diffusion:  15%|█▌        | 306/2000 [09:33<49:58,  1.77s/it]\u001b[A\n",
      "Train Diffusion:  15%|█▌        | 307/2000 [09:35<49:49,  1.77s/it]\u001b[A\n",
      "Train Diffusion:  15%|█▌        | 308/2000 [09:37<49:40,  1.76s/it]\u001b[A\n",
      "Train Diffusion:  15%|█▌        | 309/2000 [09:39<49:40,  1.76s/it]\u001b[A\n",
      "Train Diffusion:  16%|█▌        | 310/2000 [09:40<49:32,  1.76s/it]\u001b[A"
     ]
    },
    {
     "name": "stdout",
     "output_type": "stream",
     "text": [
      "Moving average norm loss at 310 iterations is: 4385.6708984375. Best norm loss value is: 4201.16162109375.\n",
      "\n",
      "C_path mean = tensor([[4.5388e+01, 3.5850e-02, 2.0407e-04]], grad_fn=<MeanBackward1>)\n",
      "\n",
      "C_path = tensor([[[4.5660e+01, 7.1469e-02, 7.1469e-01],\n",
      "         [1.0055e+01, 2.0544e+01, 5.3620e-04],\n",
      "         [2.9862e+01, 9.1418e+00, 4.6137e-04],\n",
      "         ...,\n",
      "         [4.4662e+01, 3.0127e-04, 2.8829e-07],\n",
      "         [4.1283e+01, 2.5387e-04, 5.8897e-06],\n",
      "         [3.3262e+01, 1.1603e-04, 2.2995e-04]]], grad_fn=<CatBackward>)\n"
     ]
    },
    {
     "name": "stderr",
     "output_type": "stream",
     "text": [
      "\n",
      "Train Diffusion:  16%|█▌        | 311/2000 [09:42<49:42,  1.77s/it]\u001b[A\n",
      "Train Diffusion:  16%|█▌        | 312/2000 [09:44<49:33,  1.76s/it]\u001b[A\n",
      "Train Diffusion:  16%|█▌        | 313/2000 [09:46<49:16,  1.75s/it]\u001b[A\n",
      "Train Diffusion:  16%|█▌        | 314/2000 [09:47<49:07,  1.75s/it]\u001b[A\n",
      "Train Diffusion:  16%|█▌        | 315/2000 [09:49<48:57,  1.74s/it]\u001b[A\n",
      "Train Diffusion:  16%|█▌        | 316/2000 [09:51<49:06,  1.75s/it]\u001b[A\n",
      "Train Diffusion:  16%|█▌        | 317/2000 [09:53<49:04,  1.75s/it]\u001b[A\n",
      "Train Diffusion:  16%|█▌        | 318/2000 [09:54<48:53,  1.74s/it]\u001b[A\n",
      "Train Diffusion:  16%|█▌        | 319/2000 [09:56<48:53,  1.74s/it]\u001b[A\n",
      "Train Diffusion:  16%|█▌        | 320/2000 [09:58<48:49,  1.74s/it]\u001b[A"
     ]
    },
    {
     "name": "stdout",
     "output_type": "stream",
     "text": [
      "Moving average norm loss at 320 iterations is: 4327.601171875. Best norm loss value is: 4134.59765625.\n",
      "\n",
      "C_path mean = tensor([[4.5310e+01, 4.4784e-02, 2.0572e-04]], grad_fn=<MeanBackward1>)\n",
      "\n",
      "C_path = tensor([[[4.5660e+01, 7.1469e-02, 7.1469e-01],\n",
      "         [1.0528e+01, 2.0523e+01, 5.8217e-04],\n",
      "         [3.0673e+01, 9.3075e+00, 5.0615e-04],\n",
      "         ...,\n",
      "         [4.4240e+01, 3.3411e-04, 2.0374e-07],\n",
      "         [4.0894e+01, 2.8281e-04, 4.8924e-06],\n",
      "         [3.3008e+01, 1.2769e-04, 2.6282e-04]]], grad_fn=<CatBackward>)\n"
     ]
    },
    {
     "name": "stderr",
     "output_type": "stream",
     "text": [
      "\n",
      "Train Diffusion:  16%|█▌        | 321/2000 [10:00<48:45,  1.74s/it]\u001b[A\n",
      "Train Diffusion:  16%|█▌        | 322/2000 [10:01<48:39,  1.74s/it]\u001b[A\n",
      "Train Diffusion:  16%|█▌        | 323/2000 [10:03<48:35,  1.74s/it]\u001b[A\n",
      "Train Diffusion:  16%|█▌        | 324/2000 [10:05<48:34,  1.74s/it]\u001b[A\n",
      "Train Diffusion:  16%|█▋        | 325/2000 [10:07<48:37,  1.74s/it]\u001b[A\n",
      "Train Diffusion:  16%|█▋        | 326/2000 [10:08<48:33,  1.74s/it]\u001b[A\n",
      "Train Diffusion:  16%|█▋        | 327/2000 [10:10<48:29,  1.74s/it]\u001b[A\n",
      "Train Diffusion:  16%|█▋        | 328/2000 [10:12<48:39,  1.75s/it]\u001b[A\n",
      "Train Diffusion:  16%|█▋        | 329/2000 [10:14<48:42,  1.75s/it]\u001b[A\n",
      "Train Diffusion:  16%|█▋        | 330/2000 [10:15<48:32,  1.74s/it]\u001b[A"
     ]
    },
    {
     "name": "stdout",
     "output_type": "stream",
     "text": [
      "Moving average norm loss at 330 iterations is: 4280.980615234375. Best norm loss value is: 4134.59765625.\n",
      "\n",
      "C_path mean = tensor([[4.5375e+01, 3.9753e-02, 2.0585e-04]], grad_fn=<MeanBackward1>)\n",
      "\n",
      "C_path = tensor([[[4.5660e+01, 7.1469e-02, 7.1469e-01],\n",
      "         [1.0433e+01, 2.0362e+01, 5.6788e-04],\n",
      "         [3.0518e+01, 9.0547e+00, 4.8548e-04],\n",
      "         ...,\n",
      "         [4.4434e+01, 3.3313e-04, 2.5844e-07],\n",
      "         [4.1021e+01, 2.7565e-04, 5.8673e-06],\n",
      "         [3.3013e+01, 1.2582e-04, 2.7021e-04]]], grad_fn=<CatBackward>)\n"
     ]
    },
    {
     "name": "stderr",
     "output_type": "stream",
     "text": [
      "\n",
      "Train Diffusion:  17%|█▋        | 331/2000 [10:17<48:26,  1.74s/it]\u001b[A\n",
      "Train Diffusion:  17%|█▋        | 332/2000 [10:19<48:23,  1.74s/it]\u001b[A\n",
      "Train Diffusion:  17%|█▋        | 333/2000 [10:21<48:47,  1.76s/it]\u001b[A\n",
      "Train Diffusion:  17%|█▋        | 334/2000 [10:22<48:36,  1.75s/it]\u001b[A\n",
      "Train Diffusion:  17%|█▋        | 335/2000 [10:24<48:31,  1.75s/it]\u001b[A\n",
      "Train Diffusion:  17%|█▋        | 336/2000 [10:26<48:25,  1.75s/it]\u001b[A\n",
      "Train Diffusion:  17%|█▋        | 337/2000 [10:28<48:20,  1.74s/it]\u001b[A\n",
      "Train Diffusion:  17%|█▋        | 338/2000 [10:29<48:15,  1.74s/it]\u001b[A\n",
      "Train Diffusion:  17%|█▋        | 339/2000 [10:31<48:09,  1.74s/it]\u001b[A\n",
      "Train Diffusion:  17%|█▋        | 340/2000 [10:33<48:03,  1.74s/it]\u001b[A"
     ]
    },
    {
     "name": "stdout",
     "output_type": "stream",
     "text": [
      "Moving average norm loss at 340 iterations is: 4250.69169921875. Best norm loss value is: 4105.90283203125.\n",
      "\n",
      "C_path mean = tensor([[4.5249e+01, 4.3658e-02, 2.0485e-04]], grad_fn=<MeanBackward1>)\n",
      "\n",
      "C_path = tensor([[[4.5660e+01, 7.1469e-02, 7.1469e-01],\n",
      "         [1.0634e+01, 2.0390e+01, 5.8895e-04],\n",
      "         [3.0736e+01, 9.0826e+00, 4.9828e-04],\n",
      "         ...,\n",
      "         [4.4212e+01, 3.6273e-04, 2.3179e-07],\n",
      "         [4.0818e+01, 3.0004e-04, 5.1841e-06],\n",
      "         [3.2905e+01, 1.3327e-04, 2.6544e-04]]], grad_fn=<CatBackward>)\n"
     ]
    },
    {
     "name": "stderr",
     "output_type": "stream",
     "text": [
      "\n",
      "Train Diffusion:  17%|█▋        | 341/2000 [10:35<48:02,  1.74s/it]\u001b[A\n",
      "Train Diffusion:  17%|█▋        | 342/2000 [10:36<48:02,  1.74s/it]\u001b[A\n",
      "Train Diffusion:  17%|█▋        | 343/2000 [10:38<48:10,  1.74s/it]\u001b[A\n",
      "Train Diffusion:  17%|█▋        | 344/2000 [10:40<48:08,  1.74s/it]\u001b[A\n",
      "Train Diffusion:  17%|█▋        | 345/2000 [10:42<48:15,  1.75s/it]\u001b[A\n",
      "Train Diffusion:  17%|█▋        | 346/2000 [10:43<48:09,  1.75s/it]\u001b[A\n",
      "Train Diffusion:  17%|█▋        | 347/2000 [10:45<48:11,  1.75s/it]\u001b[A\n",
      "Train Diffusion:  17%|█▋        | 348/2000 [10:47<48:05,  1.75s/it]\u001b[A\n",
      "Train Diffusion:  17%|█▋        | 349/2000 [10:49<48:07,  1.75s/it]\u001b[A\n",
      "Train Diffusion:  18%|█▊        | 350/2000 [10:50<48:19,  1.76s/it]\u001b[A"
     ]
    },
    {
     "name": "stdout",
     "output_type": "stream",
     "text": [
      "Moving average norm loss at 350 iterations is: 4215.490283203125. Best norm loss value is: 4105.90283203125.\n",
      "\n",
      "C_path mean = tensor([[4.5377e+01, 3.6571e-02, 2.0608e-04]], grad_fn=<MeanBackward1>)\n",
      "\n",
      "C_path = tensor([[[4.5660e+01, 7.1469e-02, 7.1469e-01],\n",
      "         [1.0487e+01, 2.0006e+01, 5.6503e-04],\n",
      "         [3.0647e+01, 8.6184e+00, 4.8175e-04],\n",
      "         ...,\n",
      "         [4.4436e+01, 3.5274e-04, 3.2160e-07],\n",
      "         [4.0959e+01, 2.8766e-04, 6.7458e-06],\n",
      "         [3.2825e+01, 1.2935e-04, 2.8327e-04]]], grad_fn=<CatBackward>)\n"
     ]
    },
    {
     "name": "stderr",
     "output_type": "stream",
     "text": [
      "\n",
      "Train Diffusion:  18%|█▊        | 351/2000 [10:52<49:15,  1.79s/it]\u001b[A\n",
      "Train Diffusion:  18%|█▊        | 352/2000 [10:54<49:14,  1.79s/it]\u001b[A\n",
      "Train Diffusion:  18%|█▊        | 353/2000 [10:56<48:56,  1.78s/it]\u001b[A\n",
      "Train Diffusion:  18%|█▊        | 354/2000 [10:58<49:11,  1.79s/it]\u001b[A\n",
      "Train Diffusion:  18%|█▊        | 355/2000 [10:59<49:27,  1.80s/it]\u001b[A\n",
      "Train Diffusion:  18%|█▊        | 356/2000 [11:01<48:54,  1.78s/it]\u001b[A\n",
      "Train Diffusion:  18%|█▊        | 357/2000 [11:03<48:32,  1.77s/it]\u001b[A\n",
      "Train Diffusion:  18%|█▊        | 358/2000 [11:05<48:14,  1.76s/it]\u001b[A\n",
      "Train Diffusion:  18%|█▊        | 359/2000 [11:06<48:02,  1.76s/it]\u001b[A\n",
      "Train Diffusion:  18%|█▊        | 360/2000 [11:08<47:55,  1.75s/it]\u001b[A"
     ]
    },
    {
     "name": "stdout",
     "output_type": "stream",
     "text": [
      "Moving average norm loss at 360 iterations is: 4258.304345703125. Best norm loss value is: 4105.90283203125.\n",
      "\n",
      "C_path mean = tensor([[4.5243e+01, 4.4709e-02, 2.0777e-04]], grad_fn=<MeanBackward1>)\n",
      "\n",
      "C_path = tensor([[[4.5660e+01, 7.1469e-02, 7.1469e-01],\n",
      "         [1.0816e+01, 2.0018e+01, 6.2037e-04],\n",
      "         [3.1137e+01, 8.7525e+00, 5.2432e-04],\n",
      "         ...,\n",
      "         [4.4136e+01, 3.9868e-04, 2.4309e-07],\n",
      "         [4.0690e+01, 3.2261e-04, 5.6558e-06],\n",
      "         [3.2653e+01, 1.4230e-04, 2.9612e-04]]], grad_fn=<CatBackward>)\n"
     ]
    },
    {
     "name": "stderr",
     "output_type": "stream",
     "text": [
      "\n",
      "Train Diffusion:  18%|█▊        | 361/2000 [11:10<47:53,  1.75s/it]\u001b[A\n",
      "Train Diffusion:  18%|█▊        | 362/2000 [11:12<47:54,  1.75s/it]\u001b[A\n",
      "Train Diffusion:  18%|█▊        | 363/2000 [11:13<47:45,  1.75s/it]\u001b[A\n",
      "Train Diffusion:  18%|█▊        | 364/2000 [11:15<47:42,  1.75s/it]\u001b[A\n",
      "Train Diffusion:  18%|█▊        | 365/2000 [11:17<47:42,  1.75s/it]\u001b[A\n",
      "Train Diffusion:  18%|█▊        | 366/2000 [11:19<47:49,  1.76s/it]\u001b[A\n",
      "Train Diffusion:  18%|█▊        | 367/2000 [11:20<47:42,  1.75s/it]\u001b[A\n",
      "Train Diffusion:  18%|█▊        | 368/2000 [11:22<47:35,  1.75s/it]\u001b[A\n",
      "Train Diffusion:  18%|█▊        | 369/2000 [11:24<47:30,  1.75s/it]\u001b[A\n",
      "Train Diffusion:  18%|█▊        | 370/2000 [11:26<47:26,  1.75s/it]\u001b[A"
     ]
    },
    {
     "name": "stdout",
     "output_type": "stream",
     "text": [
      "Moving average norm loss at 370 iterations is: 4460.371020507812. Best norm loss value is: 4012.42919921875.\n",
      "\n",
      "C_path mean = tensor([[4.5285e+01, 5.1646e-02, 2.0900e-04]], grad_fn=<MeanBackward1>)\n",
      "\n",
      "C_path = tensor([[[4.5660e+01, 7.1469e-02, 7.1469e-01],\n",
      "         [1.1251e+01, 1.9836e+01, 6.5710e-04],\n",
      "         [3.1955e+01, 8.6871e+00, 5.4728e-04],\n",
      "         ...,\n",
      "         [4.3906e+01, 4.2960e-04, 2.0341e-07],\n",
      "         [4.0470e+01, 3.4154e-04, 5.6308e-06],\n",
      "         [3.2466e+01, 1.5241e-04, 3.6285e-04]]], grad_fn=<CatBackward>)\n"
     ]
    },
    {
     "name": "stderr",
     "output_type": "stream",
     "text": [
      "\n",
      "Train Diffusion:  19%|█▊        | 371/2000 [11:27<47:55,  1.77s/it]\u001b[A\n",
      "Train Diffusion:  19%|█▊        | 372/2000 [11:29<48:04,  1.77s/it]\u001b[A\n",
      "Train Diffusion:  19%|█▊        | 373/2000 [11:31<47:52,  1.77s/it]\u001b[A\n",
      "Train Diffusion:  19%|█▊        | 374/2000 [11:33<47:37,  1.76s/it]\u001b[A\n",
      "Train Diffusion:  19%|█▉        | 375/2000 [11:34<47:29,  1.75s/it]\u001b[A\n",
      "Train Diffusion:  19%|█▉        | 376/2000 [11:36<47:21,  1.75s/it]\u001b[A\n",
      "Train Diffusion:  19%|█▉        | 377/2000 [11:38<47:18,  1.75s/it]\u001b[A\n",
      "Train Diffusion:  19%|█▉        | 378/2000 [11:40<47:11,  1.75s/it]\u001b[A\n",
      "Train Diffusion:  19%|█▉        | 379/2000 [11:41<47:14,  1.75s/it]\u001b[A\n",
      "Train Diffusion:  19%|█▉        | 380/2000 [11:43<47:08,  1.75s/it]\u001b[A"
     ]
    },
    {
     "name": "stdout",
     "output_type": "stream",
     "text": [
      "Moving average norm loss at 380 iterations is: 4575.25185546875. Best norm loss value is: 4012.42919921875.\n",
      "\n",
      "C_path mean = tensor([[4.5271e+01, 4.4391e-02, 2.2888e-04]], grad_fn=<MeanBackward1>)\n",
      "\n",
      "C_path = tensor([[[4.5660e+01, 7.1469e-02, 7.1469e-01],\n",
      "         [1.1200e+01, 1.9525e+01, 7.5163e-04],\n",
      "         [3.2090e+01, 8.5726e+00, 6.8559e-04],\n",
      "         ...,\n",
      "         [4.4371e+01, 4.7741e-04, 2.4626e-07],\n",
      "         [4.0769e+01, 3.7683e-04, 7.3043e-06],\n",
      "         [3.2396e+01, 1.6720e-04, 3.5888e-04]]], grad_fn=<CatBackward>)\n"
     ]
    },
    {
     "name": "stderr",
     "output_type": "stream",
     "text": [
      "\n",
      "Train Diffusion:  19%|█▉        | 381/2000 [11:45<47:05,  1.75s/it]\u001b[A\n",
      "Train Diffusion:  19%|█▉        | 382/2000 [11:47<46:59,  1.74s/it]\u001b[A\n",
      "Train Diffusion:  19%|█▉        | 383/2000 [11:48<46:55,  1.74s/it]\u001b[A\n",
      "Train Diffusion:  19%|█▉        | 384/2000 [11:50<46:51,  1.74s/it]\u001b[A\n",
      "Train Diffusion:  19%|█▉        | 385/2000 [11:52<46:45,  1.74s/it]\u001b[A\n",
      "Train Diffusion:  19%|█▉        | 386/2000 [11:54<46:54,  1.74s/it]\u001b[A\n",
      "Train Diffusion:  19%|█▉        | 387/2000 [11:55<46:50,  1.74s/it]\u001b[A\n",
      "Train Diffusion:  19%|█▉        | 388/2000 [11:57<46:45,  1.74s/it]\u001b[A\n",
      "Train Diffusion:  19%|█▉        | 389/2000 [11:59<46:46,  1.74s/it]\u001b[A\n",
      "Train Diffusion:  20%|█▉        | 390/2000 [12:01<46:41,  1.74s/it]\u001b[A"
     ]
    },
    {
     "name": "stdout",
     "output_type": "stream",
     "text": [
      "Moving average norm loss at 390 iterations is: 4411.41455078125. Best norm loss value is: 4012.42919921875.\n",
      "\n",
      "C_path mean = tensor([[4.5308e+01, 4.7415e-02, 2.0193e-04]], grad_fn=<MeanBackward1>)\n",
      "\n",
      "C_path = tensor([[[4.5660e+01, 7.1469e-02, 7.1469e-01],\n",
      "         [1.1233e+01, 2.0522e+01, 6.4152e-04],\n",
      "         [3.1438e+01, 9.0604e+00, 5.1200e-04],\n",
      "         ...,\n",
      "         [4.4395e+01, 4.8720e-04, 2.7617e-07],\n",
      "         [4.1010e+01, 3.8309e-04, 7.5263e-06],\n",
      "         [3.3151e+01, 1.6529e-04, 4.2622e-04]]], grad_fn=<CatBackward>)\n"
     ]
    },
    {
     "name": "stderr",
     "output_type": "stream",
     "text": [
      "\n",
      "Train Diffusion:  20%|█▉        | 391/2000 [12:02<46:42,  1.74s/it]\u001b[A\n",
      "Train Diffusion:  20%|█▉        | 392/2000 [12:04<46:41,  1.74s/it]\u001b[A\n",
      "Train Diffusion:  20%|█▉        | 393/2000 [12:06<46:39,  1.74s/it]\u001b[A\n",
      "Train Diffusion:  20%|█▉        | 394/2000 [12:08<46:40,  1.74s/it]\u001b[A\n",
      "Train Diffusion:  20%|█▉        | 395/2000 [12:09<46:39,  1.74s/it]\u001b[A\n",
      "Train Diffusion:  20%|█▉        | 396/2000 [12:11<46:36,  1.74s/it]\u001b[A\n",
      "Train Diffusion:  20%|█▉        | 397/2000 [12:13<47:17,  1.77s/it]\u001b[A\n",
      "Train Diffusion:  20%|█▉        | 398/2000 [12:15<47:07,  1.76s/it]\u001b[A\n",
      "Train Diffusion:  20%|█▉        | 399/2000 [12:16<46:53,  1.76s/it]\u001b[A\n",
      "Train Diffusion:  20%|██        | 400/2000 [12:18<46:46,  1.75s/it]\u001b[A"
     ]
    },
    {
     "name": "stdout",
     "output_type": "stream",
     "text": [
      "Moving average norm loss at 400 iterations is: 4790.108544921875. Best norm loss value is: 4012.42919921875.\n",
      "\n",
      "C_path mean = tensor([[4.5446e+01, 3.9676e-02, 2.0096e-04]], grad_fn=<MeanBackward1>)\n",
      "\n",
      "C_path = tensor([[[4.5660e+01, 7.1469e-02, 7.1469e-01],\n",
      "         [1.1422e+01, 2.0231e+01, 6.0645e-04],\n",
      "         [3.1876e+01, 8.7273e+00, 4.8793e-04],\n",
      "         ...,\n",
      "         [4.4444e+01, 4.9487e-04, 3.6085e-07],\n",
      "         [4.1027e+01, 3.8030e-04, 1.3415e-05],\n",
      "         [3.3115e+01, 1.6652e-04, 9.0273e-04]]], grad_fn=<CatBackward>)\n"
     ]
    },
    {
     "name": "stderr",
     "output_type": "stream",
     "text": [
      "\n",
      "Train Diffusion:  20%|██        | 401/2000 [12:20<46:37,  1.75s/it]\u001b[A\n",
      "Train Diffusion:  20%|██        | 402/2000 [12:22<46:32,  1.75s/it]\u001b[A\n",
      "Train Diffusion:  20%|██        | 403/2000 [12:23<46:26,  1.74s/it]\u001b[A\n",
      "Train Diffusion:  20%|██        | 404/2000 [12:25<46:25,  1.75s/it]\u001b[A\n",
      "Train Diffusion:  20%|██        | 405/2000 [12:27<46:21,  1.74s/it]\u001b[A\n",
      "Train Diffusion:  20%|██        | 406/2000 [12:29<46:19,  1.74s/it]\u001b[A\n",
      "Train Diffusion:  20%|██        | 407/2000 [12:30<46:20,  1.75s/it]\u001b[A\n",
      "Train Diffusion:  20%|██        | 408/2000 [12:32<46:18,  1.75s/it]\u001b[A\n",
      "Train Diffusion:  20%|██        | 409/2000 [12:34<46:15,  1.74s/it]\u001b[A\n",
      "Train Diffusion:  20%|██        | 410/2000 [12:36<46:10,  1.74s/it]\u001b[A"
     ]
    },
    {
     "name": "stdout",
     "output_type": "stream",
     "text": [
      "Moving average norm loss at 410 iterations is: 4605.752001953125. Best norm loss value is: 4012.42919921875.\n",
      "\n",
      "C_path mean = tensor([[4.5264e+01, 4.7904e-02, 2.0588e-04]], grad_fn=<MeanBackward1>)\n",
      "\n",
      "C_path = tensor([[[4.5660e+01, 7.1469e-02, 7.1469e-01],\n",
      "         [1.1987e+01, 2.0477e+01, 6.8343e-04],\n",
      "         [3.2919e+01, 9.1961e+00, 5.6280e-04],\n",
      "         ...,\n",
      "         [4.4073e+01, 5.7345e-04, 2.3429e-07],\n",
      "         [4.0691e+01, 4.3654e-04, 6.5261e-06],\n",
      "         [3.2931e+01, 1.8824e-04, 4.4376e-04]]], grad_fn=<CatBackward>)\n"
     ]
    },
    {
     "name": "stderr",
     "output_type": "stream",
     "text": [
      "\n",
      "Train Diffusion:  21%|██        | 411/2000 [12:37<46:09,  1.74s/it]\u001b[A\n",
      "Train Diffusion:  21%|██        | 412/2000 [12:39<46:11,  1.75s/it]\u001b[A\n",
      "Train Diffusion:  21%|██        | 413/2000 [12:41<46:06,  1.74s/it]\u001b[A\n",
      "Train Diffusion:  21%|██        | 414/2000 [12:43<46:14,  1.75s/it]\u001b[A\n",
      "Train Diffusion:  21%|██        | 415/2000 [12:44<46:08,  1.75s/it]\u001b[A\n",
      "Train Diffusion:  21%|██        | 416/2000 [12:46<46:08,  1.75s/it]\u001b[A\n",
      "Train Diffusion:  21%|██        | 417/2000 [12:48<46:04,  1.75s/it]\u001b[A\n",
      "Train Diffusion:  21%|██        | 418/2000 [12:49<45:58,  1.74s/it]\u001b[A\n",
      "Train Diffusion:  21%|██        | 419/2000 [12:51<45:58,  1.75s/it]\u001b[A\n",
      "Train Diffusion:  21%|██        | 420/2000 [12:53<46:12,  1.75s/it]\u001b[A"
     ]
    },
    {
     "name": "stdout",
     "output_type": "stream",
     "text": [
      "Moving average norm loss at 420 iterations is: 4548.948388671875. Best norm loss value is: 4012.42919921875.\n",
      "\n",
      "C_path mean = tensor([[4.5298e+01, 4.4890e-02, 2.1744e-04]], grad_fn=<MeanBackward1>)\n",
      "\n",
      "C_path = tensor([[[4.5660e+01, 7.1469e-02, 7.1469e-01],\n",
      "         [1.1784e+01, 2.0422e+01, 7.6951e-04],\n",
      "         [3.2745e+01, 9.2349e+00, 6.5888e-04],\n",
      "         ...,\n",
      "         [4.4552e+01, 6.6251e-04, 2.2739e-07],\n",
      "         [4.1021e+01, 4.9083e-04, 6.7105e-06],\n",
      "         [3.2945e+01, 2.0557e-04, 4.1109e-04]]], grad_fn=<CatBackward>)\n"
     ]
    },
    {
     "name": "stderr",
     "output_type": "stream",
     "text": [
      "\n",
      "Train Diffusion:  21%|██        | 421/2000 [12:55<46:05,  1.75s/it]\u001b[A\n",
      "Train Diffusion:  21%|██        | 422/2000 [12:57<45:58,  1.75s/it]\u001b[A\n",
      "Train Diffusion:  21%|██        | 423/2000 [12:58<45:53,  1.75s/it]\u001b[A\n",
      "Train Diffusion:  21%|██        | 424/2000 [13:00<46:03,  1.75s/it]\u001b[A\n",
      "Train Diffusion:  21%|██▏       | 425/2000 [13:02<46:23,  1.77s/it]\u001b[A\n",
      "Train Diffusion:  21%|██▏       | 426/2000 [13:04<46:07,  1.76s/it]\u001b[A\n",
      "Train Diffusion:  21%|██▏       | 427/2000 [13:05<45:58,  1.75s/it]\u001b[A\n",
      "Train Diffusion:  21%|██▏       | 428/2000 [13:07<45:56,  1.75s/it]\u001b[A\n",
      "Train Diffusion:  21%|██▏       | 429/2000 [13:09<45:54,  1.75s/it]\u001b[A\n",
      "Train Diffusion:  22%|██▏       | 430/2000 [13:11<45:51,  1.75s/it]\u001b[A"
     ]
    },
    {
     "name": "stdout",
     "output_type": "stream",
     "text": [
      "Moving average norm loss at 430 iterations is: 4553.931982421875. Best norm loss value is: 4012.42919921875.\n",
      "\n",
      "C_path mean = tensor([[4.5401e+01, 4.4905e-02, 2.1234e-04]], grad_fn=<MeanBackward1>)\n",
      "\n",
      "C_path = tensor([[[4.5660e+01, 7.1469e-02, 7.1469e-01],\n",
      "         [1.2179e+01, 2.0176e+01, 7.2598e-04],\n",
      "         [3.3383e+01, 8.9868e+00, 6.1025e-04],\n",
      "         ...,\n",
      "         [4.4268e+01, 6.7767e-04, 2.3604e-07],\n",
      "         [4.0801e+01, 4.8737e-04, 6.6477e-06],\n",
      "         [3.2850e+01, 2.0426e-04, 4.5271e-04]]], grad_fn=<CatBackward>)\n"
     ]
    },
    {
     "name": "stderr",
     "output_type": "stream",
     "text": [
      "\n",
      "Train Diffusion:  22%|██▏       | 431/2000 [13:12<45:53,  1.75s/it]\u001b[A\n",
      "Train Diffusion:  22%|██▏       | 432/2000 [13:14<45:45,  1.75s/it]\u001b[A\n",
      "Train Diffusion:  22%|██▏       | 433/2000 [13:16<45:42,  1.75s/it]\u001b[A\n",
      "Train Diffusion:  22%|██▏       | 434/2000 [13:18<45:34,  1.75s/it]\u001b[A\n",
      "Train Diffusion:  22%|██▏       | 435/2000 [13:19<45:29,  1.74s/it]\u001b[A\n",
      "Train Diffusion:  22%|██▏       | 436/2000 [13:21<45:26,  1.74s/it]\u001b[A\n",
      "Train Diffusion:  22%|██▏       | 437/2000 [13:23<45:22,  1.74s/it]\u001b[A\n",
      "Train Diffusion:  22%|██▏       | 438/2000 [13:25<45:21,  1.74s/it]\u001b[A\n",
      "Train Diffusion:  22%|██▏       | 439/2000 [13:26<45:19,  1.74s/it]\u001b[A\n",
      "Train Diffusion:  22%|██▏       | 440/2000 [13:28<45:16,  1.74s/it]\u001b[A"
     ]
    },
    {
     "name": "stdout",
     "output_type": "stream",
     "text": [
      "Moving average norm loss at 440 iterations is: 4430.5966796875. Best norm loss value is: 4012.42919921875.\n",
      "\n",
      "C_path mean = tensor([[4.5215e+01, 4.9264e-02, 2.1252e-04]], grad_fn=<MeanBackward1>)\n",
      "\n",
      "C_path = tensor([[[4.5660e+01, 7.1469e-02, 7.1469e-01],\n",
      "         [1.2424e+01, 2.0200e+01, 7.5226e-04],\n",
      "         [3.3563e+01, 9.0341e+00, 6.2976e-04],\n",
      "         ...,\n",
      "         [4.4029e+01, 7.4623e-04, 2.3434e-07],\n",
      "         [4.0615e+01, 5.3384e-04, 6.4256e-06],\n",
      "         [3.2770e+01, 2.1723e-04, 4.7337e-04]]], grad_fn=<CatBackward>)\n"
     ]
    },
    {
     "name": "stderr",
     "output_type": "stream",
     "text": [
      "\n",
      "Train Diffusion:  22%|██▏       | 441/2000 [13:30<45:33,  1.75s/it]\u001b[A\n",
      "Train Diffusion:  22%|██▏       | 442/2000 [13:32<45:27,  1.75s/it]\u001b[A\n",
      "Train Diffusion:  22%|██▏       | 443/2000 [13:33<45:21,  1.75s/it]\u001b[A\n",
      "Train Diffusion:  22%|██▏       | 444/2000 [13:35<45:19,  1.75s/it]\u001b[A\n",
      "Train Diffusion:  22%|██▏       | 445/2000 [13:37<45:25,  1.75s/it]\u001b[A\n",
      "Train Diffusion:  22%|██▏       | 446/2000 [13:39<45:23,  1.75s/it]\u001b[A\n",
      "Train Diffusion:  22%|██▏       | 447/2000 [13:40<45:19,  1.75s/it]\u001b[A\n",
      "Train Diffusion:  22%|██▏       | 448/2000 [13:42<45:14,  1.75s/it]\u001b[A\n",
      "Train Diffusion:  22%|██▏       | 449/2000 [13:44<45:07,  1.75s/it]\u001b[A\n",
      "Train Diffusion:  22%|██▎       | 450/2000 [13:45<45:00,  1.74s/it]\u001b[A"
     ]
    },
    {
     "name": "stdout",
     "output_type": "stream",
     "text": [
      "Moving average norm loss at 450 iterations is: 4467.895947265625. Best norm loss value is: 4012.42919921875.\n",
      "\n",
      "C_path mean = tensor([[4.5362e+01, 4.3455e-02, 2.1723e-04]], grad_fn=<MeanBackward1>)\n",
      "\n",
      "C_path = tensor([[[4.5660e+01, 7.1469e-02, 7.1469e-01],\n",
      "         [1.2181e+01, 1.9962e+01, 7.5751e-04],\n",
      "         [3.3274e+01, 8.7198e+00, 6.4600e-04],\n",
      "         ...,\n",
      "         [4.4539e+01, 8.1374e-04, 2.8651e-07],\n",
      "         [4.1001e+01, 5.5666e-04, 7.5850e-06],\n",
      "         [3.2861e+01, 2.2245e-04, 4.6696e-04]]], grad_fn=<CatBackward>)\n"
     ]
    },
    {
     "name": "stderr",
     "output_type": "stream",
     "text": [
      "\n",
      "Train Diffusion:  23%|██▎       | 451/2000 [13:47<44:58,  1.74s/it]\u001b[A\n",
      "Train Diffusion:  23%|██▎       | 452/2000 [13:49<44:56,  1.74s/it]\u001b[A\n",
      "Train Diffusion:  23%|██▎       | 453/2000 [13:51<44:52,  1.74s/it]\u001b[A\n",
      "Train Diffusion:  23%|██▎       | 454/2000 [13:52<44:48,  1.74s/it]\u001b[A\n",
      "Train Diffusion:  23%|██▎       | 455/2000 [13:54<44:55,  1.74s/it]\u001b[A\n",
      "Train Diffusion:  23%|██▎       | 456/2000 [13:56<44:50,  1.74s/it]\u001b[A\n",
      "Train Diffusion:  23%|██▎       | 457/2000 [13:58<44:48,  1.74s/it]\u001b[A\n",
      "Train Diffusion:  23%|██▎       | 458/2000 [13:59<44:44,  1.74s/it]\u001b[A\n",
      "Train Diffusion:  23%|██▎       | 459/2000 [14:01<44:43,  1.74s/it]\u001b[A\n",
      "Train Diffusion:  23%|██▎       | 460/2000 [14:03<44:41,  1.74s/it]\u001b[A"
     ]
    },
    {
     "name": "stdout",
     "output_type": "stream",
     "text": [
      "Moving average norm loss at 460 iterations is: 4450.2162109375. Best norm loss value is: 4012.42919921875.\n",
      "\n",
      "C_path mean = tensor([[4.5445e+01, 4.4707e-02, 2.1967e-04]], grad_fn=<MeanBackward1>)\n",
      "\n",
      "C_path = tensor([[[4.5660e+01, 7.1469e-02, 7.1469e-01],\n",
      "         [1.2537e+01, 1.9439e+01, 7.6071e-04],\n",
      "         [3.4036e+01, 8.3298e+00, 6.8681e-04],\n",
      "         ...,\n",
      "         [4.4417e+01, 8.9628e-04, 2.7778e-07],\n",
      "         [4.0828e+01, 6.0815e-04, 7.7265e-06],\n",
      "         [3.2578e+01, 2.3658e-04, 5.0943e-04]]], grad_fn=<CatBackward>)\n"
     ]
    },
    {
     "name": "stderr",
     "output_type": "stream",
     "text": [
      "\n",
      "Train Diffusion:  23%|██▎       | 461/2000 [14:05<44:41,  1.74s/it]\u001b[A\n",
      "Train Diffusion:  23%|██▎       | 462/2000 [14:06<44:35,  1.74s/it]\u001b[A\n",
      "Train Diffusion:  23%|██▎       | 463/2000 [14:08<44:33,  1.74s/it]\u001b[A\n",
      "Train Diffusion:  23%|██▎       | 464/2000 [14:10<44:35,  1.74s/it]\u001b[A\n",
      "Train Diffusion:  23%|██▎       | 465/2000 [14:12<45:04,  1.76s/it]\u001b[A\n",
      "Train Diffusion:  23%|██▎       | 466/2000 [14:13<44:55,  1.76s/it]\u001b[A\n",
      "Train Diffusion:  23%|██▎       | 467/2000 [14:15<44:45,  1.75s/it]\u001b[A\n",
      "Train Diffusion:  23%|██▎       | 468/2000 [14:17<44:38,  1.75s/it]\u001b[A\n",
      "Train Diffusion:  23%|██▎       | 469/2000 [14:19<44:31,  1.74s/it]\u001b[A\n",
      "Train Diffusion:  24%|██▎       | 470/2000 [14:20<44:26,  1.74s/it]\u001b[A"
     ]
    },
    {
     "name": "stdout",
     "output_type": "stream",
     "text": [
      "Moving average norm loss at 470 iterations is: 4506.133740234375. Best norm loss value is: 4012.42919921875.\n",
      "\n",
      "C_path mean = tensor([[4.5178e+01, 5.1124e-02, 2.2587e-04]], grad_fn=<MeanBackward1>)\n",
      "\n",
      "C_path = tensor([[[4.5660e+01, 7.1469e-02, 7.1469e-01],\n",
      "         [1.2965e+01, 1.9100e+01, 8.3789e-04],\n",
      "         [3.4564e+01, 8.2027e+00, 7.7984e-04],\n",
      "         ...,\n",
      "         [4.4036e+01, 1.0849e-03, 2.4722e-07],\n",
      "         [4.0453e+01, 7.2228e-04, 7.2828e-06],\n",
      "         [3.2189e+01, 2.7002e-04, 5.4632e-04]]], grad_fn=<CatBackward>)\n"
     ]
    },
    {
     "name": "stderr",
     "output_type": "stream",
     "text": [
      "\n",
      "Train Diffusion:  24%|██▎       | 471/2000 [14:22<44:25,  1.74s/it]\u001b[A\n",
      "Train Diffusion:  24%|██▎       | 472/2000 [14:24<44:18,  1.74s/it]\u001b[A\n",
      "Train Diffusion:  24%|██▎       | 473/2000 [14:26<44:16,  1.74s/it]\u001b[A\n",
      "Train Diffusion:  24%|██▎       | 474/2000 [14:27<44:13,  1.74s/it]\u001b[A\n",
      "Train Diffusion:  24%|██▍       | 475/2000 [14:29<44:13,  1.74s/it]\u001b[A\n",
      "Train Diffusion:  24%|██▍       | 476/2000 [14:31<44:10,  1.74s/it]\u001b[A\n",
      "Train Diffusion:  24%|██▍       | 477/2000 [14:33<44:07,  1.74s/it]\u001b[A\n",
      "Train Diffusion:  24%|██▍       | 478/2000 [14:34<44:06,  1.74s/it]\u001b[A\n",
      "Train Diffusion:  24%|██▍       | 479/2000 [14:36<44:05,  1.74s/it]\u001b[A\n",
      "Train Diffusion:  24%|██▍       | 480/2000 [14:38<44:03,  1.74s/it]\u001b[A"
     ]
    },
    {
     "name": "stdout",
     "output_type": "stream",
     "text": [
      "Moving average norm loss at 480 iterations is: 4394.263842773437. Best norm loss value is: 4012.42919921875.\n",
      "\n",
      "C_path mean = tensor([[4.5434e+01, 4.4393e-02, 2.1818e-04]], grad_fn=<MeanBackward1>)\n",
      "\n",
      "C_path = tensor([[[4.5660e+01, 7.1469e-02, 7.1469e-01],\n",
      "         [1.2580e+01, 1.9419e+01, 7.4569e-04],\n",
      "         [3.3893e+01, 8.1810e+00, 6.6995e-04],\n",
      "         ...,\n",
      "         [4.4423e+01, 9.3996e-04, 3.2637e-07],\n",
      "         [4.0840e+01, 6.3020e-04, 8.1684e-06],\n",
      "         [3.2612e+01, 2.3743e-04, 5.0903e-04]]], grad_fn=<CatBackward>)\n"
     ]
    },
    {
     "name": "stderr",
     "output_type": "stream",
     "text": [
      "\n",
      "Train Diffusion:  24%|██▍       | 481/2000 [14:39<44:01,  1.74s/it]\u001b[A\n",
      "Train Diffusion:  24%|██▍       | 482/2000 [14:41<43:59,  1.74s/it]\u001b[A\n",
      "Train Diffusion:  24%|██▍       | 483/2000 [14:43<44:00,  1.74s/it]\u001b[A\n",
      "Train Diffusion:  24%|██▍       | 484/2000 [14:45<43:57,  1.74s/it]\u001b[A\n",
      "Train Diffusion:  24%|██▍       | 485/2000 [14:46<43:54,  1.74s/it]\u001b[A\n",
      "Train Diffusion:  24%|██▍       | 486/2000 [14:48<44:02,  1.75s/it]\u001b[A\n",
      "Train Diffusion:  24%|██▍       | 487/2000 [14:50<43:59,  1.74s/it]\u001b[A\n",
      "Train Diffusion:  24%|██▍       | 488/2000 [14:52<43:53,  1.74s/it]\u001b[A\n",
      "Train Diffusion:  24%|██▍       | 489/2000 [14:53<44:02,  1.75s/it]\u001b[A\n",
      "Train Diffusion:  24%|██▍       | 490/2000 [14:55<43:58,  1.75s/it]\u001b[A"
     ]
    },
    {
     "name": "stdout",
     "output_type": "stream",
     "text": [
      "Moving average norm loss at 490 iterations is: 4299.877685546875. Best norm loss value is: 4003.449462890625.\n",
      "\n",
      "C_path mean = tensor([[4.5356e+01, 4.7932e-02, 2.1928e-04]], grad_fn=<MeanBackward1>)\n",
      "\n",
      "C_path = tensor([[[4.5660e+01, 7.1469e-02, 7.1469e-01],\n",
      "         [1.2677e+01, 1.9412e+01, 7.5989e-04],\n",
      "         [3.4012e+01, 8.2284e+00, 6.9305e-04],\n",
      "         ...,\n",
      "         [4.4302e+01, 1.0041e-03, 3.0619e-07],\n",
      "         [4.0740e+01, 6.6999e-04, 7.0733e-06],\n",
      "         [3.2550e+01, 2.4724e-04, 4.0048e-04]]], grad_fn=<CatBackward>)\n"
     ]
    },
    {
     "name": "stderr",
     "output_type": "stream",
     "text": [
      "\n",
      "Train Diffusion:  25%|██▍       | 491/2000 [14:57<44:03,  1.75s/it]\u001b[A\n",
      "Train Diffusion:  25%|██▍       | 492/2000 [14:59<43:56,  1.75s/it]\u001b[A\n",
      "Train Diffusion:  25%|██▍       | 493/2000 [15:00<43:53,  1.75s/it]\u001b[A\n",
      "Train Diffusion:  25%|██▍       | 494/2000 [15:02<43:49,  1.75s/it]\u001b[A\n",
      "Train Diffusion:  25%|██▍       | 495/2000 [15:04<43:44,  1.74s/it]\u001b[A\n",
      "Train Diffusion:  25%|██▍       | 496/2000 [15:06<43:40,  1.74s/it]\u001b[A\n",
      "Train Diffusion:  25%|██▍       | 497/2000 [15:07<43:41,  1.74s/it]\u001b[A\n",
      "Train Diffusion:  25%|██▍       | 498/2000 [15:09<44:01,  1.76s/it]\u001b[A\n",
      "Train Diffusion:  25%|██▍       | 499/2000 [15:11<43:50,  1.75s/it]\u001b[A\n",
      "Train Diffusion:  25%|██▌       | 500/2000 [15:13<43:49,  1.75s/it]\u001b[A"
     ]
    },
    {
     "name": "stdout",
     "output_type": "stream",
     "text": [
      "Moving average norm loss at 500 iterations is: 4280.4990234375. Best norm loss value is: 4003.449462890625.\n",
      "\n",
      "C_path mean = tensor([[4.5227e+01, 4.9554e-02, 2.2583e-04]], grad_fn=<MeanBackward1>)\n",
      "\n",
      "C_path = tensor([[[4.5660e+01, 7.1469e-02, 7.1469e-01],\n",
      "         [1.3002e+01, 1.8887e+01, 7.9378e-04],\n",
      "         [3.4634e+01, 7.9242e+00, 7.7339e-04],\n",
      "         ...,\n",
      "         [4.4217e+01, 1.1961e-03, 3.0160e-07],\n",
      "         [4.0562e+01, 7.7945e-04, 6.8205e-06],\n",
      "         [3.2193e+01, 2.7891e-04, 3.5775e-04]]], grad_fn=<CatBackward>)\n"
     ]
    },
    {
     "name": "stderr",
     "output_type": "stream",
     "text": [
      "\n",
      "Train Diffusion:  25%|██▌       | 501/2000 [15:14<43:45,  1.75s/it]\u001b[A\n",
      "Train Diffusion:  25%|██▌       | 502/2000 [15:16<43:36,  1.75s/it]\u001b[A\n",
      "Train Diffusion:  25%|██▌       | 503/2000 [15:18<43:31,  1.74s/it]\u001b[A\n",
      "Train Diffusion:  25%|██▌       | 504/2000 [15:20<43:29,  1.74s/it]\u001b[A\n",
      "Train Diffusion:  25%|██▌       | 505/2000 [15:21<43:22,  1.74s/it]\u001b[A\n",
      "Train Diffusion:  25%|██▌       | 506/2000 [15:23<43:20,  1.74s/it]\u001b[A\n",
      "Train Diffusion:  25%|██▌       | 507/2000 [15:25<43:19,  1.74s/it]\u001b[A\n",
      "Train Diffusion:  25%|██▌       | 508/2000 [15:27<43:17,  1.74s/it]\u001b[A\n",
      "Train Diffusion:  25%|██▌       | 509/2000 [15:28<43:13,  1.74s/it]\u001b[A\n",
      "Train Diffusion:  26%|██▌       | 510/2000 [15:30<43:28,  1.75s/it]\u001b[A"
     ]
    },
    {
     "name": "stdout",
     "output_type": "stream",
     "text": [
      "Moving average norm loss at 510 iterations is: 4395.030908203125. Best norm loss value is: 4003.449462890625.\n",
      "\n",
      "C_path mean = tensor([[4.5397e+01, 5.3490e-02, 2.2435e-04]], grad_fn=<MeanBackward1>)\n",
      "\n",
      "C_path = tensor([[[4.5660e+01, 7.1469e-02, 7.1469e-01],\n",
      "         [1.3461e+01, 1.8494e+01, 7.7780e-04],\n",
      "         [3.5597e+01, 7.7202e+00, 7.7569e-04],\n",
      "         ...,\n",
      "         [4.4038e+01, 1.1584e-03, 2.8283e-07],\n",
      "         [4.0327e+01, 7.7080e-04, 7.2856e-06],\n",
      "         [3.1877e+01, 2.7570e-04, 4.3274e-04]]], grad_fn=<CatBackward>)\n"
     ]
    },
    {
     "name": "stderr",
     "output_type": "stream",
     "text": [
      "\n",
      "Train Diffusion:  26%|██▌       | 511/2000 [15:32<43:25,  1.75s/it]\u001b[A\n",
      "Train Diffusion:  26%|██▌       | 512/2000 [15:34<43:17,  1.75s/it]\u001b[A\n",
      "Train Diffusion:  26%|██▌       | 513/2000 [15:35<43:17,  1.75s/it]\u001b[A\n",
      "Train Diffusion:  26%|██▌       | 514/2000 [15:37<43:14,  1.75s/it]\u001b[A\n",
      "Train Diffusion:  26%|██▌       | 515/2000 [15:39<44:02,  1.78s/it]\u001b[A\n",
      "Train Diffusion:  26%|██▌       | 516/2000 [15:41<43:43,  1.77s/it]\u001b[A\n",
      "Train Diffusion:  26%|██▌       | 517/2000 [15:42<43:37,  1.76s/it]\u001b[A\n",
      "Train Diffusion:  26%|██▌       | 518/2000 [15:44<43:35,  1.76s/it]\u001b[A\n",
      "Train Diffusion:  26%|██▌       | 519/2000 [15:46<43:22,  1.76s/it]\u001b[A\n",
      "Train Diffusion:  26%|██▌       | 520/2000 [15:48<43:11,  1.75s/it]\u001b[A"
     ]
    },
    {
     "name": "stdout",
     "output_type": "stream",
     "text": [
      "Moving average norm loss at 520 iterations is: 4434.118603515625. Best norm loss value is: 4003.449462890625.\n",
      "\n",
      "C_path mean = tensor([[4.5255e+01, 5.0712e-02, 2.3346e-04]], grad_fn=<MeanBackward1>)\n",
      "\n",
      "C_path = tensor([[[4.5660e+01, 7.1469e-02, 7.1469e-01],\n",
      "         [1.3542e+01, 1.8427e+01, 8.1910e-04],\n",
      "         [3.5672e+01, 7.7162e+00, 8.7958e-04],\n",
      "         ...,\n",
      "         [4.4241e+01, 1.2500e-03, 3.1401e-07],\n",
      "         [4.0460e+01, 8.6414e-04, 7.9565e-06],\n",
      "         [3.1854e+01, 3.0761e-04, 4.0115e-04]]], grad_fn=<CatBackward>)\n"
     ]
    },
    {
     "name": "stderr",
     "output_type": "stream",
     "text": [
      "\n",
      "Train Diffusion:  26%|██▌       | 521/2000 [15:49<43:07,  1.75s/it]\u001b[A\n",
      "Train Diffusion:  26%|██▌       | 522/2000 [15:51<42:59,  1.75s/it]\u001b[A\n",
      "Train Diffusion:  26%|██▌       | 523/2000 [15:53<42:55,  1.74s/it]\u001b[A\n",
      "Train Diffusion:  26%|██▌       | 524/2000 [15:55<42:56,  1.75s/it]\u001b[A\n",
      "Train Diffusion:  26%|██▋       | 525/2000 [15:56<42:55,  1.75s/it]\u001b[A\n",
      "Train Diffusion:  26%|██▋       | 526/2000 [15:58<42:49,  1.74s/it]\u001b[A\n",
      "Train Diffusion:  26%|██▋       | 527/2000 [16:00<42:48,  1.74s/it]\u001b[A\n",
      "Train Diffusion:  26%|██▋       | 528/2000 [16:02<42:44,  1.74s/it]\u001b[A\n",
      "Train Diffusion:  26%|██▋       | 529/2000 [16:03<42:39,  1.74s/it]\u001b[A\n",
      "Train Diffusion:  26%|██▋       | 530/2000 [16:05<42:38,  1.74s/it]\u001b[A"
     ]
    },
    {
     "name": "stdout",
     "output_type": "stream",
     "text": [
      "Moving average norm loss at 530 iterations is: 4309.809399414063. Best norm loss value is: 4003.449462890625.\n",
      "\n",
      "C_path mean = tensor([[4.5364e+01, 5.0847e-02, 2.3040e-04]], grad_fn=<MeanBackward1>)\n",
      "\n",
      "C_path = tensor([[[4.5660e+01, 7.1469e-02, 7.1469e-01],\n",
      "         [1.3833e+01, 1.8324e+01, 7.9241e-04],\n",
      "         [3.6239e+01, 7.6223e+00, 8.3541e-04],\n",
      "         ...,\n",
      "         [4.4192e+01, 1.1860e-03, 3.3741e-07],\n",
      "         [4.0406e+01, 8.2662e-04, 8.6625e-06],\n",
      "         [3.1792e+01, 2.9636e-04, 4.6104e-04]]], grad_fn=<CatBackward>)\n"
     ]
    },
    {
     "name": "stderr",
     "output_type": "stream",
     "text": [
      "\n",
      "Train Diffusion:  27%|██▋       | 531/2000 [16:07<42:38,  1.74s/it]\u001b[A\n",
      "Train Diffusion:  27%|██▋       | 532/2000 [16:09<42:37,  1.74s/it]\u001b[A\n",
      "Train Diffusion:  27%|██▋       | 533/2000 [16:10<42:47,  1.75s/it]\u001b[A\n",
      "Train Diffusion:  27%|██▋       | 534/2000 [16:12<42:48,  1.75s/it]\u001b[A\n",
      "Train Diffusion:  27%|██▋       | 535/2000 [16:14<42:45,  1.75s/it]\u001b[A\n",
      "Train Diffusion:  27%|██▋       | 536/2000 [16:16<42:41,  1.75s/it]\u001b[A\n",
      "Train Diffusion:  27%|██▋       | 537/2000 [16:17<42:34,  1.75s/it]\u001b[A\n",
      "Train Diffusion:  27%|██▋       | 538/2000 [16:19<42:41,  1.75s/it]\u001b[A\n",
      "Train Diffusion:  27%|██▋       | 539/2000 [16:21<42:40,  1.75s/it]\u001b[A\n",
      "Train Diffusion:  27%|██▋       | 540/2000 [16:23<42:33,  1.75s/it]\u001b[A"
     ]
    },
    {
     "name": "stdout",
     "output_type": "stream",
     "text": [
      "Moving average norm loss at 540 iterations is: 4160.496997070312. Best norm loss value is: 4003.449462890625.\n",
      "\n",
      "C_path mean = tensor([[4.5395e+01, 4.8907e-02, 2.3277e-04]], grad_fn=<MeanBackward1>)\n",
      "\n",
      "C_path = tensor([[[4.5660e+01, 7.1469e-02, 7.1469e-01],\n",
      "         [1.4001e+01, 1.7885e+01, 7.8450e-04],\n",
      "         [3.6486e+01, 7.2065e+00, 8.6301e-04],\n",
      "         ...,\n",
      "         [4.4285e+01, 1.2444e-03, 3.9018e-07],\n",
      "         [4.0401e+01, 8.7610e-04, 1.0058e-05],\n",
      "         [3.1598e+01, 3.0786e-04, 5.1709e-04]]], grad_fn=<CatBackward>)\n"
     ]
    },
    {
     "name": "stderr",
     "output_type": "stream",
     "text": [
      "\n",
      "Train Diffusion:  27%|██▋       | 541/2000 [16:24<42:30,  1.75s/it]\u001b[A\n",
      "Train Diffusion:  27%|██▋       | 542/2000 [16:26<42:25,  1.75s/it]\u001b[A\n",
      "Train Diffusion:  27%|██▋       | 543/2000 [16:28<42:28,  1.75s/it]\u001b[A\n",
      "Train Diffusion:  27%|██▋       | 544/2000 [16:30<42:28,  1.75s/it]\u001b[A\n",
      "Train Diffusion:  27%|██▋       | 545/2000 [16:31<42:30,  1.75s/it]\u001b[A\n",
      "Train Diffusion:  27%|██▋       | 546/2000 [16:33<42:21,  1.75s/it]\u001b[A\n",
      "Train Diffusion:  27%|██▋       | 547/2000 [16:35<42:18,  1.75s/it]\u001b[A\n",
      "Train Diffusion:  27%|██▋       | 548/2000 [16:37<42:15,  1.75s/it]\u001b[A\n",
      "Train Diffusion:  27%|██▋       | 549/2000 [16:38<42:13,  1.75s/it]\u001b[A\n",
      "Train Diffusion:  28%|██▊       | 550/2000 [16:40<42:10,  1.75s/it]\u001b[A"
     ]
    },
    {
     "name": "stdout",
     "output_type": "stream",
     "text": [
      "Moving average norm loss at 550 iterations is: 4125.904467773437. Best norm loss value is: 4003.449462890625.\n",
      "\n",
      "C_path mean = tensor([[4.5277e+01, 5.5068e-02, 2.3305e-04]], grad_fn=<MeanBackward1>)\n",
      "\n",
      "C_path = tensor([[[4.5660e+01, 7.1469e-02, 7.1469e-01],\n",
      "         [1.4219e+01, 1.7764e+01, 8.2421e-04],\n",
      "         [3.6589e+01, 7.1135e+00, 8.8942e-04],\n",
      "         ...,\n",
      "         [4.4017e+01, 1.3415e-03, 3.5652e-07],\n",
      "         [4.0175e+01, 9.4257e-04, 9.4924e-06],\n",
      "         [3.1448e+01, 3.3254e-04, 5.8328e-04]]], grad_fn=<CatBackward>)\n"
     ]
    },
    {
     "name": "stderr",
     "output_type": "stream",
     "text": [
      "\n",
      "Train Diffusion:  28%|██▊       | 551/2000 [16:42<42:12,  1.75s/it]\u001b[A\n",
      "Train Diffusion:  28%|██▊       | 552/2000 [16:44<42:05,  1.74s/it]\u001b[A\n",
      "Train Diffusion:  28%|██▊       | 553/2000 [16:45<42:11,  1.75s/it]\u001b[A\n",
      "Train Diffusion:  28%|██▊       | 554/2000 [16:47<42:20,  1.76s/it]\u001b[A\n",
      "Train Diffusion:  28%|██▊       | 555/2000 [16:49<42:18,  1.76s/it]\u001b[A\n",
      "Train Diffusion:  28%|██▊       | 556/2000 [16:51<42:10,  1.75s/it]\u001b[A\n",
      "Train Diffusion:  28%|██▊       | 557/2000 [16:52<42:02,  1.75s/it]\u001b[A\n",
      "Train Diffusion:  28%|██▊       | 558/2000 [16:54<41:59,  1.75s/it]\u001b[A\n",
      "Train Diffusion:  28%|██▊       | 559/2000 [16:56<41:52,  1.74s/it]\u001b[A\n",
      "Train Diffusion:  28%|██▊       | 560/2000 [16:58<41:46,  1.74s/it]\u001b[A"
     ]
    },
    {
     "name": "stdout",
     "output_type": "stream",
     "text": [
      "Moving average norm loss at 560 iterations is: 4109.543994140625. Best norm loss value is: 4003.449462890625.\n",
      "\n",
      "C_path mean = tensor([[4.5377e+01, 5.2065e-02, 2.3304e-04]], grad_fn=<MeanBackward1>)\n",
      "\n",
      "C_path = tensor([[[4.5660e+01, 7.1469e-02, 7.1469e-01],\n",
      "         [1.4125e+01, 1.7517e+01, 8.0473e-04],\n",
      "         [3.6461e+01, 6.7797e+00, 8.9209e-04],\n",
      "         ...,\n",
      "         [4.4212e+01, 1.2856e-03, 4.0439e-07],\n",
      "         [4.0324e+01, 9.3708e-04, 1.0220e-05],\n",
      "         [3.1474e+01, 3.3468e-04, 5.9694e-04]]], grad_fn=<CatBackward>)\n"
     ]
    },
    {
     "name": "stderr",
     "output_type": "stream",
     "text": [
      "\n",
      "Train Diffusion:  28%|██▊       | 561/2000 [16:59<41:46,  1.74s/it]\u001b[A\n",
      "Train Diffusion:  28%|██▊       | 562/2000 [17:01<41:43,  1.74s/it]\u001b[A\n",
      "Train Diffusion:  28%|██▊       | 563/2000 [17:03<41:41,  1.74s/it]\u001b[A\n",
      "Train Diffusion:  28%|██▊       | 564/2000 [17:05<41:40,  1.74s/it]\u001b[A\n",
      "Train Diffusion:  28%|██▊       | 565/2000 [17:06<41:40,  1.74s/it]\u001b[A\n",
      "Train Diffusion:  28%|██▊       | 566/2000 [17:08<41:34,  1.74s/it]\u001b[A\n",
      "Train Diffusion:  28%|██▊       | 567/2000 [17:10<41:33,  1.74s/it]\u001b[A\n",
      "Train Diffusion:  28%|██▊       | 568/2000 [17:12<41:34,  1.74s/it]\u001b[A\n",
      "Train Diffusion:  28%|██▊       | 569/2000 [17:13<41:28,  1.74s/it]\u001b[A\n",
      "Train Diffusion:  28%|██▊       | 570/2000 [17:15<41:28,  1.74s/it]\u001b[A"
     ]
    },
    {
     "name": "stdout",
     "output_type": "stream",
     "text": [
      "Moving average norm loss at 570 iterations is: 4107.077661132813. Best norm loss value is: 4003.449462890625.\n",
      "\n",
      "C_path mean = tensor([[4.5270e+01, 5.6614e-02, 2.3477e-04]], grad_fn=<MeanBackward1>)\n",
      "\n",
      "C_path = tensor([[[4.5660e+01, 7.1469e-02, 7.1469e-01],\n",
      "         [1.4413e+01, 1.7051e+01, 8.3698e-04],\n",
      "         [3.6893e+01, 6.4380e+00, 9.3856e-04],\n",
      "         ...,\n",
      "         [4.4008e+01, 1.3720e-03, 3.8414e-07],\n",
      "         [4.0096e+01, 1.0157e-03, 1.0082e-05],\n",
      "         [3.1173e+01, 3.5968e-04, 6.5528e-04]]], grad_fn=<CatBackward>)\n"
     ]
    },
    {
     "name": "stderr",
     "output_type": "stream",
     "text": [
      "\n",
      "Train Diffusion:  29%|██▊       | 571/2000 [17:17<41:28,  1.74s/it]\u001b[A\n",
      "Train Diffusion:  29%|██▊       | 572/2000 [17:18<41:29,  1.74s/it]\u001b[A\n",
      "Train Diffusion:  29%|██▊       | 573/2000 [17:20<41:25,  1.74s/it]\u001b[A\n",
      "Train Diffusion:  29%|██▊       | 574/2000 [17:22<41:21,  1.74s/it]\u001b[A\n",
      "Train Diffusion:  29%|██▉       | 575/2000 [17:24<41:20,  1.74s/it]\u001b[A\n",
      "Train Diffusion:  29%|██▉       | 576/2000 [17:25<41:19,  1.74s/it]\u001b[A\n",
      "Train Diffusion:  29%|██▉       | 577/2000 [17:27<41:21,  1.74s/it]\u001b[A\n",
      "Train Diffusion:  29%|██▉       | 578/2000 [17:29<41:25,  1.75s/it]\u001b[A\n",
      "Train Diffusion:  29%|██▉       | 579/2000 [17:31<41:28,  1.75s/it]\u001b[A\n",
      "Train Diffusion:  29%|██▉       | 580/2000 [17:32<41:23,  1.75s/it]\u001b[A"
     ]
    },
    {
     "name": "stdout",
     "output_type": "stream",
     "text": [
      "Moving average norm loss at 580 iterations is: 4100.5308837890625. Best norm loss value is: 4003.449462890625.\n",
      "\n",
      "C_path mean = tensor([[4.5382e+01, 5.2313e-02, 2.3563e-04]], grad_fn=<MeanBackward1>)\n",
      "\n",
      "C_path = tensor([[[4.5660e+01, 7.1469e-02, 7.1469e-01],\n",
      "         [1.4390e+01, 1.6803e+01, 8.3285e-04],\n",
      "         [3.6927e+01, 6.1184e+00, 9.2832e-04],\n",
      "         ...,\n",
      "         [4.4196e+01, 1.3449e-03, 4.5818e-07],\n",
      "         [4.0233e+01, 1.0001e-03, 1.2428e-05],\n",
      "         [3.1187e+01, 3.5757e-04, 7.6987e-04]]], grad_fn=<CatBackward>)\n"
     ]
    },
    {
     "name": "stderr",
     "output_type": "stream",
     "text": [
      "\n",
      "Train Diffusion:  29%|██▉       | 581/2000 [17:34<41:18,  1.75s/it]\u001b[A\n",
      "Train Diffusion:  29%|██▉       | 582/2000 [17:36<41:14,  1.74s/it]\u001b[A\n",
      "Train Diffusion:  29%|██▉       | 583/2000 [17:38<41:12,  1.75s/it]\u001b[A\n",
      "Train Diffusion:  29%|██▉       | 584/2000 [17:39<41:06,  1.74s/it]\u001b[A\n",
      "Train Diffusion:  29%|██▉       | 585/2000 [17:41<41:01,  1.74s/it]\u001b[A\n",
      "Train Diffusion:  29%|██▉       | 586/2000 [17:43<41:00,  1.74s/it]\u001b[A\n",
      "Train Diffusion:  29%|██▉       | 587/2000 [17:45<40:58,  1.74s/it]\u001b[A\n",
      "Train Diffusion:  29%|██▉       | 588/2000 [17:46<40:54,  1.74s/it]\u001b[A\n",
      "Train Diffusion:  29%|██▉       | 589/2000 [17:48<40:53,  1.74s/it]\u001b[A\n",
      "Train Diffusion:  30%|██▉       | 590/2000 [17:50<40:53,  1.74s/it]\u001b[A"
     ]
    },
    {
     "name": "stdout",
     "output_type": "stream",
     "text": [
      "Moving average norm loss at 590 iterations is: 4089.3850341796874. Best norm loss value is: 4003.449462890625.\n",
      "\n",
      "C_path mean = tensor([[4.5272e+01, 5.4057e-02, 2.3989e-04]], grad_fn=<MeanBackward1>)\n",
      "\n",
      "C_path = tensor([[[4.5660e+01, 7.1469e-02, 7.1469e-01],\n",
      "         [1.4805e+01, 1.5918e+01, 8.6254e-04],\n",
      "         [3.7604e+01, 5.4944e+00, 9.8755e-04],\n",
      "         ...,\n",
      "         [4.3987e+01, 1.5591e-03, 4.6350e-07],\n",
      "         [3.9903e+01, 1.1420e-03, 1.2808e-05],\n",
      "         [3.0658e+01, 3.9595e-04, 8.2708e-04]]], grad_fn=<CatBackward>)\n"
     ]
    },
    {
     "name": "stderr",
     "output_type": "stream",
     "text": [
      "\n",
      "Train Diffusion:  30%|██▉       | 591/2000 [17:52<40:51,  1.74s/it]\u001b[A\n",
      "Train Diffusion:  30%|██▉       | 592/2000 [17:53<41:06,  1.75s/it]\u001b[A\n",
      "Train Diffusion:  30%|██▉       | 593/2000 [17:55<41:11,  1.76s/it]\u001b[A\n",
      "Train Diffusion:  30%|██▉       | 594/2000 [17:57<41:02,  1.75s/it]\u001b[A\n",
      "Train Diffusion:  30%|██▉       | 595/2000 [17:59<40:55,  1.75s/it]\u001b[A\n",
      "Train Diffusion:  30%|██▉       | 596/2000 [18:00<40:48,  1.74s/it]\u001b[A\n",
      "Train Diffusion:  30%|██▉       | 597/2000 [18:02<40:45,  1.74s/it]\u001b[A\n",
      "Train Diffusion:  30%|██▉       | 598/2000 [18:04<40:43,  1.74s/it]\u001b[A\n",
      "Train Diffusion:  30%|██▉       | 599/2000 [18:06<40:40,  1.74s/it]\u001b[A\n",
      "Train Diffusion:  30%|███       | 600/2000 [18:07<40:49,  1.75s/it]\u001b[A"
     ]
    },
    {
     "name": "stdout",
     "output_type": "stream",
     "text": [
      "Moving average norm loss at 600 iterations is: 4082.581494140625. Best norm loss value is: 4003.449462890625.\n",
      "\n",
      "C_path mean = tensor([[4.5380e+01, 5.3409e-02, 2.3941e-04]], grad_fn=<MeanBackward1>)\n",
      "\n",
      "C_path = tensor([[[4.5660e+01, 7.1469e-02, 7.1469e-01],\n",
      "         [1.4723e+01, 1.5938e+01, 8.6163e-04],\n",
      "         [3.7567e+01, 5.4613e+00, 9.7511e-04],\n",
      "         ...,\n",
      "         [4.4135e+01, 1.4637e-03, 4.7227e-07],\n",
      "         [4.0059e+01, 1.0858e-03, 1.3364e-05],\n",
      "         [3.0788e+01, 3.8251e-04, 8.5916e-04]]], grad_fn=<CatBackward>)\n"
     ]
    },
    {
     "name": "stderr",
     "output_type": "stream",
     "text": [
      "\n",
      "Train Diffusion:  30%|███       | 601/2000 [18:09<40:54,  1.75s/it]\u001b[A\n",
      "Train Diffusion:  30%|███       | 602/2000 [18:11<40:48,  1.75s/it]\u001b[A\n",
      "Train Diffusion:  30%|███       | 603/2000 [18:13<40:40,  1.75s/it]\u001b[A\n",
      "Train Diffusion:  30%|███       | 604/2000 [18:14<40:34,  1.74s/it]\u001b[A\n",
      "Train Diffusion:  30%|███       | 605/2000 [18:16<40:32,  1.74s/it]\u001b[A\n",
      "Train Diffusion:  30%|███       | 606/2000 [18:18<40:28,  1.74s/it]\u001b[A\n",
      "Train Diffusion:  30%|███       | 607/2000 [18:20<40:26,  1.74s/it]\u001b[A\n",
      "Train Diffusion:  30%|███       | 608/2000 [18:21<40:23,  1.74s/it]\u001b[A\n",
      "Train Diffusion:  30%|███       | 609/2000 [18:23<40:19,  1.74s/it]\u001b[A\n",
      "Train Diffusion:  30%|███       | 610/2000 [18:25<40:15,  1.74s/it]\u001b[A"
     ]
    },
    {
     "name": "stdout",
     "output_type": "stream",
     "text": [
      "Moving average norm loss at 610 iterations is: 4075.8002685546876. Best norm loss value is: 4003.449462890625.\n",
      "\n",
      "C_path mean = tensor([[4.5274e+01, 5.6778e-02, 2.4247e-04]], grad_fn=<MeanBackward1>)\n",
      "\n",
      "C_path = tensor([[[4.5660e+01, 7.1469e-02, 7.1469e-01],\n",
      "         [1.4888e+01, 1.5598e+01, 9.0151e-04],\n",
      "         [3.7826e+01, 5.2432e+00, 1.0301e-03],\n",
      "         ...,\n",
      "         [4.4012e+01, 1.5279e-03, 4.4976e-07],\n",
      "         [3.9911e+01, 1.1515e-03, 1.2997e-05],\n",
      "         [3.0586e+01, 4.0790e-04, 8.8910e-04]]], grad_fn=<CatBackward>)\n"
     ]
    },
    {
     "name": "stderr",
     "output_type": "stream",
     "text": [
      "\n",
      "Train Diffusion:  31%|███       | 611/2000 [18:26<40:15,  1.74s/it]\u001b[A\n",
      "Train Diffusion:  31%|███       | 612/2000 [18:28<40:12,  1.74s/it]\u001b[A\n",
      "Train Diffusion:  31%|███       | 613/2000 [18:30<40:09,  1.74s/it]\u001b[A\n",
      "Train Diffusion:  31%|███       | 614/2000 [18:32<40:10,  1.74s/it]\u001b[A\n",
      "Train Diffusion:  31%|███       | 615/2000 [18:33<40:06,  1.74s/it]\u001b[A\n",
      "Train Diffusion:  31%|███       | 616/2000 [18:35<40:06,  1.74s/it]\u001b[A\n",
      "Train Diffusion:  31%|███       | 617/2000 [18:37<40:04,  1.74s/it]\u001b[A\n",
      "Train Diffusion:  31%|███       | 618/2000 [18:39<40:01,  1.74s/it]\u001b[A\n",
      "Train Diffusion:  31%|███       | 619/2000 [18:40<40:02,  1.74s/it]\u001b[A\n",
      "Train Diffusion:  31%|███       | 620/2000 [18:42<40:06,  1.74s/it]\u001b[A"
     ]
    },
    {
     "name": "stdout",
     "output_type": "stream",
     "text": [
      "Moving average norm loss at 620 iterations is: 4068.6756103515627. Best norm loss value is: 4003.449462890625.\n",
      "\n",
      "C_path mean = tensor([[4.5375e+01, 5.5263e-02, 2.4237e-04]], grad_fn=<MeanBackward1>)\n",
      "\n",
      "C_path = tensor([[[4.5660e+01, 7.1469e-02, 7.1469e-01],\n",
      "         [1.4809e+01, 1.5460e+01, 8.9365e-04],\n",
      "         [3.7786e+01, 5.0588e+00, 1.0245e-03],\n",
      "         ...,\n",
      "         [4.4172e+01, 1.4636e-03, 4.6795e-07],\n",
      "         [4.0048e+01, 1.1173e-03, 1.3354e-05],\n",
      "         [3.0638e+01, 4.0028e-04, 8.9405e-04]]], grad_fn=<CatBackward>)\n"
     ]
    },
    {
     "name": "stderr",
     "output_type": "stream",
     "text": [
      "\n",
      "Train Diffusion:  31%|███       | 621/2000 [18:44<40:05,  1.74s/it]\u001b[A\n",
      "Train Diffusion:  31%|███       | 622/2000 [18:46<40:00,  1.74s/it]\u001b[A\n",
      "Train Diffusion:  31%|███       | 623/2000 [18:47<39:58,  1.74s/it]\u001b[A\n",
      "Train Diffusion:  31%|███       | 624/2000 [18:49<40:00,  1.74s/it]\u001b[A\n",
      "Train Diffusion:  31%|███▏      | 625/2000 [18:51<39:56,  1.74s/it]\u001b[A\n",
      "Train Diffusion:  31%|███▏      | 626/2000 [18:53<39:54,  1.74s/it]\u001b[A\n",
      "Train Diffusion:  31%|███▏      | 627/2000 [18:54<39:56,  1.75s/it]\u001b[A\n",
      "Train Diffusion:  31%|███▏      | 628/2000 [18:56<39:51,  1.74s/it]\u001b[A\n",
      "Train Diffusion:  31%|███▏      | 629/2000 [18:58<39:50,  1.74s/it]\u001b[A\n",
      "Train Diffusion:  32%|███▏      | 630/2000 [19:00<39:47,  1.74s/it]\u001b[A"
     ]
    },
    {
     "name": "stdout",
     "output_type": "stream",
     "text": [
      "Moving average norm loss at 630 iterations is: 4061.7529052734376. Best norm loss value is: 3990.678955078125.\n",
      "\n",
      "C_path mean = tensor([[4.5267e+01, 5.8822e-02, 2.4498e-04]], grad_fn=<MeanBackward1>)\n",
      "\n",
      "C_path = tensor([[[4.5660e+01, 7.1469e-02, 7.1469e-01],\n",
      "         [1.5093e+01, 1.4762e+01, 9.2988e-04],\n",
      "         [3.8228e+01, 4.5539e+00, 1.0767e-03],\n",
      "         ...,\n",
      "         [4.3977e+01, 1.5701e-03, 4.5095e-07],\n",
      "         [3.9793e+01, 1.2049e-03, 1.3294e-05],\n",
      "         [3.0233e+01, 4.3000e-04, 9.6573e-04]]], grad_fn=<CatBackward>)\n"
     ]
    },
    {
     "name": "stderr",
     "output_type": "stream",
     "text": [
      "\n",
      "Train Diffusion:  32%|███▏      | 631/2000 [19:01<39:49,  1.75s/it]\u001b[A\n",
      "Train Diffusion:  32%|███▏      | 632/2000 [19:03<39:44,  1.74s/it]\u001b[A\n",
      "Train Diffusion:  32%|███▏      | 633/2000 [19:05<39:40,  1.74s/it]\u001b[A\n",
      "Train Diffusion:  32%|███▏      | 634/2000 [19:07<39:39,  1.74s/it]\u001b[A\n",
      "Train Diffusion:  32%|███▏      | 635/2000 [19:08<39:39,  1.74s/it]\u001b[A\n",
      "Train Diffusion:  32%|███▏      | 636/2000 [19:10<39:36,  1.74s/it]\u001b[A\n",
      "Train Diffusion:  32%|███▏      | 637/2000 [19:12<39:38,  1.75s/it]\u001b[A\n",
      "Train Diffusion:  32%|███▏      | 638/2000 [19:14<39:33,  1.74s/it]\u001b[A\n",
      "Train Diffusion:  32%|███▏      | 639/2000 [19:15<39:29,  1.74s/it]\u001b[A\n",
      "Train Diffusion:  32%|███▏      | 640/2000 [19:17<39:25,  1.74s/it]\u001b[A"
     ]
    },
    {
     "name": "stdout",
     "output_type": "stream",
     "text": [
      "Moving average norm loss at 640 iterations is: 4054.9912353515624. Best norm loss value is: 3963.30224609375.\n",
      "\n",
      "C_path mean = tensor([[4.5368e+01, 5.5000e-02, 2.4516e-04]], grad_fn=<MeanBackward1>)\n",
      "\n",
      "C_path = tensor([[[4.5660e+01, 7.1469e-02, 7.1469e-01],\n",
      "         [1.5055e+01, 1.4345e+01, 9.1737e-04],\n",
      "         [3.8256e+01, 4.1096e+00, 1.0640e-03],\n",
      "         ...,\n",
      "         [4.4126e+01, 1.5448e-03, 4.9901e-07],\n",
      "         [3.9883e+01, 1.1901e-03, 1.4234e-05],\n",
      "         [3.0144e+01, 4.2592e-04, 9.7120e-04]]], grad_fn=<CatBackward>)\n"
     ]
    },
    {
     "name": "stderr",
     "output_type": "stream",
     "text": [
      "\n",
      "Train Diffusion:  32%|███▏      | 641/2000 [19:19<39:24,  1.74s/it]\u001b[A\n",
      "Train Diffusion:  32%|███▏      | 642/2000 [19:20<39:25,  1.74s/it]\u001b[A\n",
      "Train Diffusion:  32%|███▏      | 643/2000 [19:22<39:25,  1.74s/it]\u001b[A\n",
      "Train Diffusion:  32%|███▏      | 644/2000 [19:24<39:20,  1.74s/it]\u001b[A\n",
      "Train Diffusion:  32%|███▏      | 645/2000 [19:26<39:23,  1.74s/it]\u001b[A\n",
      "Train Diffusion:  32%|███▏      | 646/2000 [19:27<39:23,  1.75s/it]\u001b[A\n",
      "Train Diffusion:  32%|███▏      | 647/2000 [19:29<39:26,  1.75s/it]\u001b[A\n",
      "Train Diffusion:  32%|███▏      | 648/2000 [19:31<39:37,  1.76s/it]\u001b[A\n",
      "Train Diffusion:  32%|███▏      | 649/2000 [19:33<39:29,  1.75s/it]\u001b[A\n",
      "Train Diffusion:  32%|███▎      | 650/2000 [19:35<39:24,  1.75s/it]\u001b[A"
     ]
    },
    {
     "name": "stdout",
     "output_type": "stream",
     "text": [
      "Moving average norm loss at 650 iterations is: 4049.083154296875. Best norm loss value is: 3963.30224609375.\n",
      "\n",
      "C_path mean = tensor([[4.5272e+01, 5.8901e-02, 2.4784e-04]], grad_fn=<MeanBackward1>)\n",
      "\n",
      "C_path = tensor([[[4.5660e+01, 7.1469e-02, 7.1469e-01],\n",
      "         [1.5247e+01, 1.3765e+01, 9.5511e-04],\n",
      "         [3.8521e+01, 3.7036e+00, 1.1134e-03],\n",
      "         ...,\n",
      "         [4.3982e+01, 1.6361e-03, 4.7094e-07],\n",
      "         [3.9704e+01, 1.2668e-03, 1.3813e-05],\n",
      "         [2.9832e+01, 4.5323e-04, 1.0001e-03]]], grad_fn=<CatBackward>)\n"
     ]
    },
    {
     "name": "stderr",
     "output_type": "stream",
     "text": [
      "\n",
      "Train Diffusion:  33%|███▎      | 651/2000 [19:36<39:19,  1.75s/it]\u001b[A\n",
      "Train Diffusion:  33%|███▎      | 652/2000 [19:38<39:14,  1.75s/it]\u001b[A\n",
      "Train Diffusion:  33%|███▎      | 653/2000 [19:40<39:08,  1.74s/it]\u001b[A\n",
      "Train Diffusion:  33%|███▎      | 654/2000 [19:42<39:22,  1.75s/it]\u001b[A\n",
      "Train Diffusion:  33%|███▎      | 655/2000 [19:43<39:24,  1.76s/it]\u001b[A\n",
      "Train Diffusion:  33%|███▎      | 656/2000 [19:45<39:13,  1.75s/it]\u001b[A\n",
      "Train Diffusion:  33%|███▎      | 657/2000 [19:47<39:09,  1.75s/it]\u001b[A\n",
      "Train Diffusion:  33%|███▎      | 658/2000 [19:48<39:02,  1.75s/it]\u001b[A\n",
      "Train Diffusion:  33%|███▎      | 659/2000 [19:50<38:58,  1.74s/it]\u001b[A\n",
      "Train Diffusion:  33%|███▎      | 660/2000 [19:52<38:57,  1.74s/it]\u001b[A"
     ]
    },
    {
     "name": "stdout",
     "output_type": "stream",
     "text": [
      "Moving average norm loss at 660 iterations is: 4042.5396728515625. Best norm loss value is: 3963.30224609375.\n",
      "\n",
      "C_path mean = tensor([[4.5371e+01, 5.5809e-02, 2.4773e-04]], grad_fn=<MeanBackward1>)\n",
      "\n",
      "C_path = tensor([[[4.5660e+01, 7.1469e-02, 7.1469e-01],\n",
      "         [1.5238e+01, 1.3231e+01, 9.3903e-04],\n",
      "         [3.8545e+01, 3.2004e+00, 1.1083e-03],\n",
      "         ...,\n",
      "         [4.4102e+01, 1.6047e-03, 5.1475e-07],\n",
      "         [3.9750e+01, 1.2613e-03, 1.4638e-05],\n",
      "         [2.9678e+01, 4.5470e-04, 1.0219e-03]]], grad_fn=<CatBackward>)\n"
     ]
    },
    {
     "name": "stderr",
     "output_type": "stream",
     "text": [
      "\n",
      "Train Diffusion:  33%|███▎      | 661/2000 [19:54<38:55,  1.74s/it]\u001b[A\n",
      "Train Diffusion:  33%|███▎      | 662/2000 [19:55<38:57,  1.75s/it]\u001b[A\n",
      "Train Diffusion:  33%|███▎      | 663/2000 [19:57<38:51,  1.74s/it]\u001b[A\n",
      "Train Diffusion:  33%|███▎      | 664/2000 [19:59<38:46,  1.74s/it]\u001b[A\n",
      "Train Diffusion:  33%|███▎      | 665/2000 [20:01<38:44,  1.74s/it]\u001b[A\n",
      "Train Diffusion:  33%|███▎      | 666/2000 [20:02<38:46,  1.74s/it]\u001b[A\n",
      "Train Diffusion:  33%|███▎      | 667/2000 [20:04<38:44,  1.74s/it]\u001b[A\n",
      "Train Diffusion:  33%|███▎      | 668/2000 [20:06<38:41,  1.74s/it]\u001b[A\n",
      "Train Diffusion:  33%|███▎      | 669/2000 [20:08<38:42,  1.75s/it]\u001b[A\n",
      "Train Diffusion:  34%|███▎      | 670/2000 [20:09<38:49,  1.75s/it]\u001b[A"
     ]
    },
    {
     "name": "stdout",
     "output_type": "stream",
     "text": [
      "Moving average norm loss at 670 iterations is: 4038.8274658203127. Best norm loss value is: 3963.30224609375.\n",
      "\n",
      "C_path mean = tensor([[4.5267e+01, 5.7217e-02, 2.5100e-04]], grad_fn=<MeanBackward1>)\n",
      "\n",
      "C_path = tensor([[[4.5660e+01, 7.1469e-02, 7.1469e-01],\n",
      "         [1.5557e+01, 1.1938e+01, 9.7340e-04],\n",
      "         [3.8966e+01, 2.3111e+00, 1.1663e-03],\n",
      "         ...,\n",
      "         [4.3928e+01, 1.7607e-03, 5.3586e-07],\n",
      "         [3.9395e+01, 1.3920e-03, 1.6213e-05],\n",
      "         [2.8988e+01, 4.9737e-04, 1.2052e-03]]], grad_fn=<CatBackward>)\n"
     ]
    },
    {
     "name": "stderr",
     "output_type": "stream",
     "text": [
      "\n",
      "Train Diffusion:  34%|███▎      | 671/2000 [20:11<38:44,  1.75s/it]\u001b[A\n",
      "Train Diffusion:  34%|███▎      | 672/2000 [20:13<38:48,  1.75s/it]\u001b[A\n",
      "Train Diffusion:  34%|███▎      | 673/2000 [20:15<38:41,  1.75s/it]\u001b[A\n",
      "Train Diffusion:  34%|███▎      | 674/2000 [20:16<38:38,  1.75s/it]\u001b[A\n",
      "Train Diffusion:  34%|███▍      | 675/2000 [20:18<38:46,  1.76s/it]\u001b[A\n",
      "Train Diffusion:  34%|███▍      | 676/2000 [20:20<38:39,  1.75s/it]\u001b[A\n",
      "Train Diffusion:  34%|███▍      | 677/2000 [20:22<38:33,  1.75s/it]\u001b[A\n",
      "Train Diffusion:  34%|███▍      | 678/2000 [20:23<38:27,  1.75s/it]\u001b[A\n",
      "Train Diffusion:  34%|███▍      | 679/2000 [20:25<38:31,  1.75s/it]\u001b[A\n",
      "Train Diffusion:  34%|███▍      | 680/2000 [20:27<38:27,  1.75s/it]\u001b[A"
     ]
    },
    {
     "name": "stdout",
     "output_type": "stream",
     "text": [
      "Moving average norm loss at 680 iterations is: 4040.77763671875. Best norm loss value is: 3960.78369140625.\n",
      "\n",
      "C_path mean = tensor([[4.5365e+01, 5.4508e-02, 2.5010e-04]], grad_fn=<MeanBackward1>)\n",
      "\n",
      "C_path = tensor([[[4.5660e+01, 7.1469e-02, 7.1469e-01],\n",
      "         [1.5318e+01, 1.2551e+01, 9.6946e-04],\n",
      "         [3.8596e+01, 2.6462e+00, 1.1370e-03],\n",
      "         ...,\n",
      "         [4.4060e+01, 1.6410e-03, 5.7792e-07],\n",
      "         [3.9636e+01, 1.3034e-03, 1.8590e-05],\n",
      "         [2.9413e+01, 4.7327e-04, 1.4943e-03]]], grad_fn=<CatBackward>)\n"
     ]
    },
    {
     "name": "stderr",
     "output_type": "stream",
     "text": [
      "\n",
      "Train Diffusion:  34%|███▍      | 681/2000 [20:29<38:23,  1.75s/it]\u001b[A\n",
      "Train Diffusion:  34%|███▍      | 682/2000 [20:30<38:15,  1.74s/it]\u001b[A\n",
      "Train Diffusion:  34%|███▍      | 683/2000 [20:32<38:13,  1.74s/it]\u001b[A\n",
      "Train Diffusion:  34%|███▍      | 684/2000 [20:34<38:11,  1.74s/it]\u001b[A\n",
      "Train Diffusion:  34%|███▍      | 685/2000 [20:36<38:11,  1.74s/it]\u001b[A\n",
      "Train Diffusion:  34%|███▍      | 686/2000 [20:37<38:28,  1.76s/it]\u001b[A\n",
      "Train Diffusion:  34%|███▍      | 687/2000 [20:39<38:28,  1.76s/it]\u001b[A\n",
      "Train Diffusion:  34%|███▍      | 688/2000 [20:41<38:24,  1.76s/it]\u001b[A\n",
      "Train Diffusion:  34%|███▍      | 689/2000 [20:43<38:21,  1.76s/it]\u001b[A\n",
      "Train Diffusion:  34%|███▍      | 690/2000 [20:44<38:12,  1.75s/it]\u001b[A"
     ]
    },
    {
     "name": "stdout",
     "output_type": "stream",
     "text": [
      "Moving average norm loss at 690 iterations is: 4052.9497314453124. Best norm loss value is: 3955.62744140625.\n",
      "\n",
      "C_path mean = tensor([[4.5279e+01, 5.8449e-02, 2.5412e-04]], grad_fn=<MeanBackward1>)\n",
      "\n",
      "C_path = tensor([[[4.5660e+01, 7.1469e-02, 7.1469e-01],\n",
      "         [1.5478e+01, 1.2583e+01, 1.0044e-03],\n",
      "         [3.8873e+01, 2.8650e+00, 1.1784e-03],\n",
      "         ...,\n",
      "         [4.3885e+01, 1.8910e-03, 5.6188e-07],\n",
      "         [3.9509e+01, 1.4269e-03, 2.0432e-05],\n",
      "         [2.9454e+01, 4.9832e-04, 1.9073e-03]]], grad_fn=<CatBackward>)\n"
     ]
    },
    {
     "name": "stderr",
     "output_type": "stream",
     "text": [
      "\n",
      "Train Diffusion:  35%|███▍      | 691/2000 [20:46<38:08,  1.75s/it]\u001b[A\n",
      "Train Diffusion:  35%|███▍      | 692/2000 [20:48<38:08,  1.75s/it]\u001b[A\n",
      "Train Diffusion:  35%|███▍      | 693/2000 [20:50<38:15,  1.76s/it]\u001b[A\n",
      "Train Diffusion:  35%|███▍      | 694/2000 [20:51<38:05,  1.75s/it]\u001b[A\n",
      "Train Diffusion:  35%|███▍      | 695/2000 [20:53<37:59,  1.75s/it]\u001b[A\n",
      "Train Diffusion:  35%|███▍      | 696/2000 [20:55<38:02,  1.75s/it]\u001b[A\n",
      "Train Diffusion:  35%|███▍      | 697/2000 [20:57<37:57,  1.75s/it]\u001b[A\n",
      "Train Diffusion:  35%|███▍      | 698/2000 [20:58<37:52,  1.75s/it]\u001b[A\n",
      "Train Diffusion:  35%|███▍      | 699/2000 [21:00<37:48,  1.74s/it]\u001b[A\n",
      "Train Diffusion:  35%|███▌      | 700/2000 [21:02<37:44,  1.74s/it]\u001b[A"
     ]
    },
    {
     "name": "stdout",
     "output_type": "stream",
     "text": [
      "Moving average norm loss at 700 iterations is: 4034.1333984375. Best norm loss value is: 3954.57373046875.\n",
      "\n",
      "C_path mean = tensor([[4.5369e+01, 5.5259e-02, 2.5705e-04]], grad_fn=<MeanBackward1>)\n",
      "\n",
      "C_path = tensor([[[4.5660e+01, 7.1469e-02, 7.1469e-01],\n",
      "         [1.5369e+01, 1.2617e+01, 9.9248e-04],\n",
      "         [3.8808e+01, 2.7271e+00, 1.2353e-03],\n",
      "         ...,\n",
      "         [4.4100e+01, 1.8094e-03, 6.1365e-07],\n",
      "         [3.9670e+01, 1.4373e-03, 2.1050e-05],\n",
      "         [2.9455e+01, 5.1136e-04, 1.7671e-03]]], grad_fn=<CatBackward>)\n"
     ]
    },
    {
     "name": "stderr",
     "output_type": "stream",
     "text": [
      "\n",
      "Train Diffusion:  35%|███▌      | 701/2000 [21:04<37:44,  1.74s/it]\u001b[A\n",
      "Train Diffusion:  35%|███▌      | 702/2000 [21:05<37:43,  1.74s/it]\u001b[A\n",
      "Train Diffusion:  35%|███▌      | 703/2000 [21:07<37:40,  1.74s/it]\u001b[A\n",
      "Train Diffusion:  35%|███▌      | 704/2000 [21:09<37:39,  1.74s/it]\u001b[A\n",
      "Train Diffusion:  35%|███▌      | 705/2000 [21:11<37:41,  1.75s/it]\u001b[A\n",
      "Train Diffusion:  35%|███▌      | 706/2000 [21:12<37:48,  1.75s/it]\u001b[A\n",
      "Train Diffusion:  35%|███▌      | 707/2000 [21:14<37:40,  1.75s/it]\u001b[A\n",
      "Train Diffusion:  35%|███▌      | 708/2000 [21:16<37:35,  1.75s/it]\u001b[A\n",
      "Train Diffusion:  35%|███▌      | 709/2000 [21:18<37:32,  1.74s/it]\u001b[A\n",
      "Train Diffusion:  36%|███▌      | 710/2000 [21:19<37:40,  1.75s/it]\u001b[A"
     ]
    },
    {
     "name": "stdout",
     "output_type": "stream",
     "text": [
      "Moving average norm loss at 710 iterations is: 4075.0240478515625. Best norm loss value is: 3948.203125.\n",
      "\n",
      "C_path mean = tensor([[4.5257e+01, 5.8989e-02, 2.6567e-04]], grad_fn=<MeanBackward1>)\n",
      "\n",
      "C_path = tensor([[[4.5660e+01, 7.1469e-02, 7.1469e-01],\n",
      "         [1.6015e+01, 1.1030e+01, 1.0594e-03],\n",
      "         [3.9902e+01, 1.7636e+00, 1.3955e-03],\n",
      "         ...,\n",
      "         [4.3907e+01, 1.9969e-03, 5.7034e-07],\n",
      "         [3.9230e+01, 1.6377e-03, 2.0374e-05],\n",
      "         [2.8674e+01, 5.8750e-04, 1.8323e-03]]], grad_fn=<CatBackward>)\n"
     ]
    },
    {
     "name": "stderr",
     "output_type": "stream",
     "text": [
      "\n",
      "Train Diffusion:  36%|███▌      | 711/2000 [21:21<37:35,  1.75s/it]\u001b[A\n",
      "Train Diffusion:  36%|███▌      | 712/2000 [21:23<37:38,  1.75s/it]\u001b[A\n",
      "Train Diffusion:  36%|███▌      | 713/2000 [21:25<37:33,  1.75s/it]\u001b[A\n",
      "Train Diffusion:  36%|███▌      | 714/2000 [21:26<37:32,  1.75s/it]\u001b[A\n",
      "Train Diffusion:  36%|███▌      | 715/2000 [21:28<37:48,  1.77s/it]\u001b[A\n",
      "Train Diffusion:  36%|███▌      | 716/2000 [21:30<37:42,  1.76s/it]\u001b[A\n",
      "Train Diffusion:  36%|███▌      | 717/2000 [21:32<37:45,  1.77s/it]\u001b[A\n",
      "Train Diffusion:  36%|███▌      | 718/2000 [21:33<37:35,  1.76s/it]\u001b[A\n",
      "Train Diffusion:  36%|███▌      | 719/2000 [21:35<37:26,  1.75s/it]\u001b[A\n",
      "Train Diffusion:  36%|███▌      | 720/2000 [21:37<37:20,  1.75s/it]\u001b[A"
     ]
    },
    {
     "name": "stdout",
     "output_type": "stream",
     "text": [
      "Moving average norm loss at 720 iterations is: 4101.96982421875. Best norm loss value is: 3948.203125.\n",
      "\n",
      "C_path mean = tensor([[4.5307e+01, 6.2522e-02, 2.6018e-04]], grad_fn=<MeanBackward1>)\n",
      "\n",
      "C_path = tensor([[[4.5660e+01, 7.1469e-02, 7.1469e-01],\n",
      "         [1.5905e+01, 1.1570e+01, 1.0474e-03],\n",
      "         [3.9574e+01, 2.1242e+00, 1.3221e-03],\n",
      "         ...,\n",
      "         [4.3883e+01, 1.9407e-03, 5.5365e-07],\n",
      "         [3.9333e+01, 1.5535e-03, 1.9613e-05],\n",
      "         [2.8983e+01, 5.5341e-04, 1.8526e-03]]], grad_fn=<CatBackward>)\n"
     ]
    },
    {
     "name": "stderr",
     "output_type": "stream",
     "text": [
      "\n",
      "Train Diffusion:  36%|███▌      | 721/2000 [21:39<37:16,  1.75s/it]\u001b[A\n",
      "Train Diffusion:  36%|███▌      | 722/2000 [21:40<37:11,  1.75s/it]\u001b[A\n",
      "Train Diffusion:  36%|███▌      | 723/2000 [21:42<37:10,  1.75s/it]\u001b[A\n",
      "Train Diffusion:  36%|███▌      | 724/2000 [21:44<37:08,  1.75s/it]\u001b[A\n",
      "Train Diffusion:  36%|███▋      | 725/2000 [21:46<37:05,  1.75s/it]\u001b[A\n",
      "Train Diffusion:  36%|███▋      | 726/2000 [21:47<37:01,  1.74s/it]\u001b[A\n",
      "Train Diffusion:  36%|███▋      | 727/2000 [21:49<37:00,  1.74s/it]\u001b[A\n",
      "Train Diffusion:  36%|███▋      | 728/2000 [21:51<37:01,  1.75s/it]\u001b[A\n",
      "Train Diffusion:  36%|███▋      | 729/2000 [21:53<36:57,  1.74s/it]\u001b[A\n",
      "Train Diffusion:  36%|███▋      | 730/2000 [21:54<36:54,  1.74s/it]\u001b[A"
     ]
    },
    {
     "name": "stdout",
     "output_type": "stream",
     "text": [
      "Moving average norm loss at 730 iterations is: 4270.2200927734375. Best norm loss value is: 3892.617919921875.\n",
      "\n",
      "C_path mean = tensor([[4.5250e+01, 7.2873e-02, 2.6020e-04]], grad_fn=<MeanBackward1>)\n",
      "\n",
      "C_path = tensor([[[4.5660e+01, 7.1469e-02, 7.1469e-01],\n",
      "         [1.6037e+01, 1.1991e+01, 1.1007e-03],\n",
      "         [3.9702e+01, 2.5851e+00, 1.3553e-03],\n",
      "         ...,\n",
      "         [4.3673e+01, 2.0285e-03, 4.6601e-07],\n",
      "         [3.9239e+01, 1.6003e-03, 1.7592e-05],\n",
      "         [2.9100e+01, 5.7040e-04, 1.8976e-03]]], grad_fn=<CatBackward>)\n"
     ]
    },
    {
     "name": "stderr",
     "output_type": "stream",
     "text": [
      "\n",
      "Train Diffusion:  37%|███▋      | 731/2000 [21:56<36:55,  1.75s/it]\u001b[A\n",
      "Train Diffusion:  37%|███▋      | 732/2000 [21:58<36:51,  1.74s/it]\u001b[A\n",
      "Train Diffusion:  37%|███▋      | 733/2000 [22:00<36:48,  1.74s/it]\u001b[A\n",
      "Train Diffusion:  37%|███▋      | 734/2000 [22:01<36:45,  1.74s/it]\u001b[A\n",
      "Train Diffusion:  37%|███▋      | 735/2000 [22:03<36:45,  1.74s/it]\u001b[A\n",
      "Train Diffusion:  37%|███▋      | 736/2000 [22:05<36:41,  1.74s/it]\u001b[A\n",
      "Train Diffusion:  37%|███▋      | 737/2000 [22:07<36:38,  1.74s/it]\u001b[A\n",
      "Train Diffusion:  37%|███▋      | 738/2000 [22:08<36:43,  1.75s/it]\u001b[A\n",
      "Train Diffusion:  37%|███▋      | 739/2000 [22:10<36:50,  1.75s/it]\u001b[A\n",
      "Train Diffusion:  37%|███▋      | 740/2000 [22:12<36:53,  1.76s/it]\u001b[A"
     ]
    },
    {
     "name": "stdout",
     "output_type": "stream",
     "text": [
      "Moving average norm loss at 740 iterations is: 4432.6876953125. Best norm loss value is: 3892.617919921875.\n",
      "\n",
      "C_path mean = tensor([[4.5427e+01, 5.7468e-02, 2.7124e-04]], grad_fn=<MeanBackward1>)\n",
      "\n",
      "C_path = tensor([[[4.5660e+01, 7.1469e-02, 7.1469e-01],\n",
      "         [1.5913e+01, 1.2922e+01, 1.0897e-03],\n",
      "         [3.9817e+01, 3.1127e+00, 1.4373e-03],\n",
      "         ...,\n",
      "         [4.4190e+01, 1.9471e-03, 6.0473e-07],\n",
      "         [3.9799e+01, 1.5692e-03, 2.1163e-05],\n",
      "         [2.9784e+01, 5.6699e-04, 1.5906e-03]]], grad_fn=<CatBackward>)\n"
     ]
    },
    {
     "name": "stderr",
     "output_type": "stream",
     "text": [
      "\n",
      "Train Diffusion:  37%|███▋      | 741/2000 [22:14<36:46,  1.75s/it]\u001b[A\n",
      "Train Diffusion:  37%|███▋      | 742/2000 [22:15<36:40,  1.75s/it]\u001b[A\n",
      "Train Diffusion:  37%|███▋      | 743/2000 [22:17<36:36,  1.75s/it]\u001b[A\n",
      "Train Diffusion:  37%|███▋      | 744/2000 [22:19<36:32,  1.75s/it]\u001b[A\n",
      "Train Diffusion:  37%|███▋      | 745/2000 [22:21<36:27,  1.74s/it]\u001b[A\n",
      "Train Diffusion:  37%|███▋      | 746/2000 [22:22<36:24,  1.74s/it]\u001b[A\n",
      "Train Diffusion:  37%|███▋      | 747/2000 [22:24<36:23,  1.74s/it]\u001b[A\n",
      "Train Diffusion:  37%|███▋      | 748/2000 [22:26<36:20,  1.74s/it]\u001b[A\n",
      "Train Diffusion:  37%|███▋      | 749/2000 [22:28<36:18,  1.74s/it]\u001b[A\n",
      "Train Diffusion:  38%|███▊      | 750/2000 [22:29<36:14,  1.74s/it]\u001b[A"
     ]
    },
    {
     "name": "stdout",
     "output_type": "stream",
     "text": [
      "Moving average norm loss at 750 iterations is: 4283.9021484375. Best norm loss value is: 3892.617919921875.\n",
      "\n",
      "C_path mean = tensor([[4.5311e+01, 5.6539e-02, 2.6642e-04]], grad_fn=<MeanBackward1>)\n",
      "\n",
      "C_path = tensor([[[4.5660e+01, 7.1469e-02, 7.1469e-01],\n",
      "         [1.5566e+01, 1.3448e+01, 1.0891e-03],\n",
      "         [3.8694e+01, 3.2959e+00, 1.3313e-03],\n",
      "         ...,\n",
      "         [4.4150e+01, 2.1021e-03, 7.0699e-07],\n",
      "         [3.9912e+01, 1.5999e-03, 2.2697e-05],\n",
      "         [3.0140e+01, 5.6303e-04, 1.8503e-03]]], grad_fn=<CatBackward>)\n"
     ]
    },
    {
     "name": "stderr",
     "output_type": "stream",
     "text": [
      "\n",
      "Train Diffusion:  38%|███▊      | 751/2000 [22:31<36:13,  1.74s/it]\u001b[A\n",
      "Train Diffusion:  38%|███▊      | 752/2000 [22:33<36:10,  1.74s/it]\u001b[A\n",
      "Train Diffusion:  38%|███▊      | 753/2000 [22:34<36:10,  1.74s/it]\u001b[A\n",
      "Train Diffusion:  38%|███▊      | 754/2000 [22:36<36:09,  1.74s/it]\u001b[A\n",
      "Train Diffusion:  38%|███▊      | 755/2000 [22:38<36:09,  1.74s/it]\u001b[A\n",
      "Train Diffusion:  38%|███▊      | 756/2000 [22:40<36:07,  1.74s/it]\u001b[A\n",
      "Train Diffusion:  38%|███▊      | 757/2000 [22:41<36:12,  1.75s/it]\u001b[A\n",
      "Train Diffusion:  38%|███▊      | 758/2000 [22:43<36:11,  1.75s/it]\u001b[A\n",
      "Train Diffusion:  38%|███▊      | 759/2000 [22:45<36:07,  1.75s/it]\u001b[A\n",
      "Train Diffusion:  38%|███▊      | 760/2000 [22:47<36:04,  1.75s/it]\u001b[A"
     ]
    },
    {
     "name": "stdout",
     "output_type": "stream",
     "text": [
      "Moving average norm loss at 760 iterations is: 4183.184106445313. Best norm loss value is: 3884.168212890625.\n",
      "\n",
      "C_path mean = tensor([[4.5255e+01, 6.5340e-02, 2.6233e-04]], grad_fn=<MeanBackward1>)\n",
      "\n",
      "C_path = tensor([[[4.5660e+01, 7.1469e-02, 7.1469e-01],\n",
      "         [1.6263e+01, 1.2575e+01, 1.0860e-03],\n",
      "         [3.9737e+01, 3.0176e+00, 1.4325e-03],\n",
      "         ...,\n",
      "         [4.3876e+01, 1.9490e-03, 7.2808e-07],\n",
      "         [3.9565e+01, 1.7433e-03, 2.5342e-05],\n",
      "         [2.9701e+01, 6.6608e-04, 2.9397e-03]]], grad_fn=<CatBackward>)\n"
     ]
    },
    {
     "name": "stderr",
     "output_type": "stream",
     "text": [
      "\n",
      "Train Diffusion:  38%|███▊      | 761/2000 [22:48<36:02,  1.75s/it]\u001b[A\n",
      "Train Diffusion:  38%|███▊      | 762/2000 [22:50<36:04,  1.75s/it]\u001b[A\n",
      "Train Diffusion:  38%|███▊      | 763/2000 [22:52<35:59,  1.75s/it]\u001b[A\n",
      "Train Diffusion:  38%|███▊      | 764/2000 [22:54<35:58,  1.75s/it]\u001b[A\n",
      "Train Diffusion:  38%|███▊      | 765/2000 [22:55<36:12,  1.76s/it]\u001b[A\n",
      "Train Diffusion:  38%|███▊      | 766/2000 [22:57<36:05,  1.75s/it]\u001b[A\n",
      "Train Diffusion:  38%|███▊      | 767/2000 [22:59<36:03,  1.75s/it]\u001b[A\n",
      "Train Diffusion:  38%|███▊      | 768/2000 [23:01<36:02,  1.76s/it]\u001b[A\n",
      "Train Diffusion:  38%|███▊      | 769/2000 [23:02<35:57,  1.75s/it]\u001b[A\n",
      "Train Diffusion:  38%|███▊      | 770/2000 [23:04<35:50,  1.75s/it]\u001b[A"
     ]
    },
    {
     "name": "stdout",
     "output_type": "stream",
     "text": [
      "Moving average norm loss at 770 iterations is: 4395.882836914063. Best norm loss value is: 3884.168212890625.\n",
      "\n",
      "C_path mean = tensor([[4.5421e+01, 6.2105e-02, 2.7304e-04]], grad_fn=<MeanBackward1>)\n",
      "\n",
      "C_path = tensor([[[4.5660e+01, 7.1469e-02, 7.1469e-01],\n",
      "         [1.6117e+01, 1.4248e+01, 1.1667e-03],\n",
      "         [3.9493e+01, 4.3547e+00, 1.3718e-03],\n",
      "         ...,\n",
      "         [4.4240e+01, 2.3279e-03, 6.9403e-07],\n",
      "         [3.9997e+01, 1.6865e-03, 2.4149e-05],\n",
      "         [3.0415e+01, 6.0187e-04, 2.1499e-03]]], grad_fn=<CatBackward>)\n"
     ]
    },
    {
     "name": "stderr",
     "output_type": "stream",
     "text": [
      "\n",
      "Train Diffusion:  39%|███▊      | 771/2000 [23:06<35:47,  1.75s/it]\u001b[A\n",
      "Train Diffusion:  39%|███▊      | 772/2000 [23:08<35:45,  1.75s/it]\u001b[A\n",
      "Train Diffusion:  39%|███▊      | 773/2000 [23:09<35:39,  1.74s/it]\u001b[A\n",
      "Train Diffusion:  39%|███▊      | 774/2000 [23:11<35:42,  1.75s/it]\u001b[A\n",
      "Train Diffusion:  39%|███▉      | 775/2000 [23:13<35:42,  1.75s/it]\u001b[A\n",
      "Train Diffusion:  39%|███▉      | 776/2000 [23:15<35:38,  1.75s/it]\u001b[A\n",
      "Train Diffusion:  39%|███▉      | 777/2000 [23:16<35:35,  1.75s/it]\u001b[A\n",
      "Train Diffusion:  39%|███▉      | 778/2000 [23:18<35:31,  1.74s/it]\u001b[A\n",
      "Train Diffusion:  39%|███▉      | 779/2000 [23:20<35:28,  1.74s/it]\u001b[A\n",
      "Train Diffusion:  39%|███▉      | 780/2000 [23:22<35:26,  1.74s/it]\u001b[A"
     ]
    },
    {
     "name": "stdout",
     "output_type": "stream",
     "text": [
      "Moving average norm loss at 780 iterations is: 4323.612133789063. Best norm loss value is: 3884.168212890625.\n",
      "\n",
      "C_path mean = tensor([[4.5265e+01, 5.8842e-02, 2.8439e-04]], grad_fn=<MeanBackward1>)\n",
      "\n",
      "C_path = tensor([[[4.5660e+01, 7.1469e-02, 7.1469e-01],\n",
      "         [1.6372e+01, 1.3745e+01, 1.1881e-03],\n",
      "         [4.0014e+01, 4.0428e+00, 1.5992e-03],\n",
      "         ...,\n",
      "         [4.4194e+01, 2.4158e-03, 7.9565e-07],\n",
      "         [3.9807e+01, 1.9338e-03, 2.4257e-05],\n",
      "         [3.0012e+01, 6.8784e-04, 1.7847e-03]]], grad_fn=<CatBackward>)\n"
     ]
    },
    {
     "name": "stderr",
     "output_type": "stream",
     "text": [
      "\n",
      "Train Diffusion:  39%|███▉      | 781/2000 [23:23<35:24,  1.74s/it]\u001b[A\n",
      "Train Diffusion:  39%|███▉      | 782/2000 [23:25<35:22,  1.74s/it]\u001b[A\n",
      "Train Diffusion:  39%|███▉      | 783/2000 [23:27<35:19,  1.74s/it]\u001b[A\n",
      "Train Diffusion:  39%|███▉      | 784/2000 [23:29<35:22,  1.75s/it]\u001b[A\n",
      "Train Diffusion:  39%|███▉      | 785/2000 [23:30<35:27,  1.75s/it]\u001b[A\n",
      "Train Diffusion:  39%|███▉      | 786/2000 [23:32<35:35,  1.76s/it]\u001b[A\n",
      "Train Diffusion:  39%|███▉      | 787/2000 [23:34<35:26,  1.75s/it]\u001b[A\n",
      "Train Diffusion:  39%|███▉      | 788/2000 [23:36<35:20,  1.75s/it]\u001b[A\n",
      "Train Diffusion:  39%|███▉      | 789/2000 [23:37<35:16,  1.75s/it]\u001b[A\n",
      "Train Diffusion:  40%|███▉      | 790/2000 [23:39<35:15,  1.75s/it]\u001b[A"
     ]
    },
    {
     "name": "stdout",
     "output_type": "stream",
     "text": [
      "Moving average norm loss at 790 iterations is: 4330.298193359375. Best norm loss value is: 3884.168212890625.\n",
      "\n",
      "C_path mean = tensor([[4.5336e+01, 6.3729e-02, 2.7897e-04]], grad_fn=<MeanBackward1>)\n",
      "\n",
      "C_path = tensor([[[4.5660e+01, 7.1469e-02, 7.1469e-01],\n",
      "         [1.6589e+01, 1.4547e+01, 1.1610e-03],\n",
      "         [4.0542e+01, 4.8495e+00, 1.6190e-03],\n",
      "         ...,\n",
      "         [4.4137e+01, 2.1676e-03, 6.9573e-07],\n",
      "         [3.9900e+01, 1.8690e-03, 2.0713e-05],\n",
      "         [3.0468e+01, 6.7326e-04, 1.5728e-03]]], grad_fn=<CatBackward>)\n"
     ]
    },
    {
     "name": "stderr",
     "output_type": "stream",
     "text": [
      "\n",
      "Train Diffusion:  40%|███▉      | 791/2000 [23:41<35:15,  1.75s/it]\u001b[A\n",
      "Train Diffusion:  40%|███▉      | 792/2000 [23:43<35:13,  1.75s/it]\u001b[A\n",
      "Train Diffusion:  40%|███▉      | 793/2000 [23:44<35:10,  1.75s/it]\u001b[A\n",
      "Train Diffusion:  40%|███▉      | 794/2000 [23:46<35:07,  1.75s/it]\u001b[A\n",
      "Train Diffusion:  40%|███▉      | 795/2000 [23:48<35:03,  1.75s/it]\u001b[A\n",
      "Train Diffusion:  40%|███▉      | 796/2000 [23:50<35:01,  1.75s/it]\u001b[A\n",
      "Train Diffusion:  40%|███▉      | 797/2000 [23:51<34:56,  1.74s/it]\u001b[A\n",
      "Train Diffusion:  40%|███▉      | 798/2000 [23:53<34:54,  1.74s/it]\u001b[A\n",
      "Train Diffusion:  40%|███▉      | 799/2000 [23:55<34:53,  1.74s/it]\u001b[A\n",
      "Train Diffusion:  40%|████      | 800/2000 [23:57<34:57,  1.75s/it]\u001b[A"
     ]
    },
    {
     "name": "stdout",
     "output_type": "stream",
     "text": [
      "Moving average norm loss at 800 iterations is: 4274.422192382813. Best norm loss value is: 3884.168212890625.\n",
      "\n",
      "C_path mean = tensor([[4.5348e+01, 6.3870e-02, 2.7703e-04]], grad_fn=<MeanBackward1>)\n",
      "\n",
      "C_path = tensor([[[4.5660e+01, 7.1469e-02, 7.1469e-01],\n",
      "         [1.6300e+01, 1.6667e+01, 1.1176e-03],\n",
      "         [4.0069e+01, 6.3634e+00, 1.4747e-03],\n",
      "         ...,\n",
      "         [4.4043e+01, 2.4535e-03, 6.6499e-07],\n",
      "         [4.0047e+01, 1.7737e-03, 1.9766e-05],\n",
      "         [3.1088e+01, 5.9897e-04, 1.5338e-03]]], grad_fn=<CatBackward>)\n"
     ]
    },
    {
     "name": "stderr",
     "output_type": "stream",
     "text": [
      "\n",
      "Train Diffusion:  40%|████      | 801/2000 [23:58<35:01,  1.75s/it]\u001b[A\n",
      "Train Diffusion:  40%|████      | 802/2000 [24:00<34:55,  1.75s/it]\u001b[A\n",
      "Train Diffusion:  40%|████      | 803/2000 [24:02<34:52,  1.75s/it]\u001b[A\n",
      "Train Diffusion:  40%|████      | 804/2000 [24:04<34:49,  1.75s/it]\u001b[A\n",
      "Train Diffusion:  40%|████      | 805/2000 [24:05<34:45,  1.74s/it]\u001b[A\n",
      "Train Diffusion:  40%|████      | 806/2000 [24:07<34:40,  1.74s/it]\u001b[A\n",
      "Train Diffusion:  40%|████      | 807/2000 [24:09<34:41,  1.74s/it]\u001b[A\n",
      "Train Diffusion:  40%|████      | 808/2000 [24:11<34:36,  1.74s/it]\u001b[A\n",
      "Train Diffusion:  40%|████      | 809/2000 [24:12<34:42,  1.75s/it]\u001b[A\n",
      "Train Diffusion:  40%|████      | 810/2000 [24:14<34:37,  1.75s/it]\u001b[A"
     ]
    },
    {
     "name": "stdout",
     "output_type": "stream",
     "text": [
      "Moving average norm loss at 810 iterations is: 4142.869799804687. Best norm loss value is: 3884.168212890625.\n",
      "\n",
      "C_path mean = tensor([[4.5320e+01, 6.2255e-02, 2.8113e-04]], grad_fn=<MeanBackward1>)\n",
      "\n",
      "C_path = tensor([[[4.5660e+01, 7.1469e-02, 7.1469e-01],\n",
      "         [1.6198e+01, 1.6271e+01, 1.1293e-03],\n",
      "         [3.9759e+01, 5.9837e+00, 1.5907e-03],\n",
      "         ...,\n",
      "         [4.4172e+01, 2.4602e-03, 7.6031e-07],\n",
      "         [4.0159e+01, 1.9436e-03, 1.9515e-05],\n",
      "         [3.1083e+01, 6.6805e-04, 1.3236e-03]]], grad_fn=<CatBackward>)\n"
     ]
    },
    {
     "name": "stderr",
     "output_type": "stream",
     "text": [
      "\n",
      "Train Diffusion:  41%|████      | 811/2000 [24:16<34:36,  1.75s/it]\u001b[A\n",
      "Train Diffusion:  41%|████      | 812/2000 [24:18<34:32,  1.74s/it]\u001b[A\n",
      "Train Diffusion:  41%|████      | 813/2000 [24:19<34:29,  1.74s/it]\u001b[A\n",
      "Train Diffusion:  41%|████      | 814/2000 [24:21<34:27,  1.74s/it]\u001b[A\n",
      "Train Diffusion:  41%|████      | 815/2000 [24:23<34:24,  1.74s/it]\u001b[A\n",
      "Train Diffusion:  41%|████      | 816/2000 [24:25<34:23,  1.74s/it]\u001b[A\n",
      "Train Diffusion:  41%|████      | 817/2000 [24:26<34:22,  1.74s/it]\u001b[A\n",
      "Train Diffusion:  41%|████      | 818/2000 [24:28<34:24,  1.75s/it]\u001b[A\n",
      "Train Diffusion:  41%|████      | 819/2000 [24:30<34:21,  1.75s/it]\u001b[A\n",
      "Train Diffusion:  41%|████      | 820/2000 [24:32<34:17,  1.74s/it]\u001b[A"
     ]
    },
    {
     "name": "stdout",
     "output_type": "stream",
     "text": [
      "Moving average norm loss at 820 iterations is: 4243.4900390625. Best norm loss value is: 3884.168212890625.\n",
      "\n",
      "C_path mean = tensor([[4.5456e+01, 6.2474e-02, 2.7713e-04]], grad_fn=<MeanBackward1>)\n",
      "\n",
      "C_path = tensor([[[4.5660e+01, 7.1469e-02, 7.1469e-01],\n",
      "         [1.6298e+01, 1.5749e+01, 1.1312e-03],\n",
      "         [3.9812e+01, 5.5010e+00, 1.5580e-03],\n",
      "         ...,\n",
      "         [4.4241e+01, 2.1081e-03, 8.0569e-07],\n",
      "         [4.0223e+01, 1.8134e-03, 2.0138e-05],\n",
      "         [3.1113e+01, 6.7399e-04, 1.4402e-03]]], grad_fn=<CatBackward>)\n"
     ]
    },
    {
     "name": "stderr",
     "output_type": "stream",
     "text": [
      "\n",
      "Train Diffusion:  41%|████      | 821/2000 [24:33<34:15,  1.74s/it]\u001b[A\n",
      "Train Diffusion:  41%|████      | 822/2000 [24:35<34:12,  1.74s/it]\u001b[A\n",
      "Train Diffusion:  41%|████      | 823/2000 [24:37<34:09,  1.74s/it]\u001b[A\n",
      "Train Diffusion:  41%|████      | 824/2000 [24:38<34:08,  1.74s/it]\u001b[A\n",
      "Train Diffusion:  41%|████▏     | 825/2000 [24:40<34:04,  1.74s/it]\u001b[A\n",
      "Train Diffusion:  41%|████▏     | 826/2000 [24:42<34:09,  1.75s/it]\u001b[A\n",
      "Train Diffusion:  41%|████▏     | 827/2000 [24:44<34:06,  1.74s/it]\u001b[A\n",
      "Train Diffusion:  41%|████▏     | 828/2000 [24:45<34:03,  1.74s/it]\u001b[A\n",
      "Train Diffusion:  41%|████▏     | 829/2000 [24:47<34:02,  1.74s/it]\u001b[A\n",
      "Train Diffusion:  42%|████▏     | 830/2000 [24:49<33:59,  1.74s/it]\u001b[A"
     ]
    },
    {
     "name": "stdout",
     "output_type": "stream",
     "text": [
      "Moving average norm loss at 830 iterations is: 4221.77138671875. Best norm loss value is: 3859.26416015625.\n",
      "\n",
      "C_path mean = tensor([[4.5236e+01, 5.9906e-02, 2.9430e-04]], grad_fn=<MeanBackward1>)\n",
      "\n",
      "C_path = tensor([[[4.5660e+01, 7.1469e-02, 7.1469e-01],\n",
      "         [1.6728e+01, 1.3557e+01, 1.2019e-03],\n",
      "         [4.0470e+01, 3.8699e+00, 1.7851e-03],\n",
      "         ...,\n",
      "         [4.4207e+01, 2.7166e-03, 9.6278e-07],\n",
      "         [3.9945e+01, 2.2990e-03, 2.3308e-05],\n",
      "         [3.0293e+01, 8.4022e-04, 1.4909e-03]]], grad_fn=<CatBackward>)\n"
     ]
    },
    {
     "name": "stderr",
     "output_type": "stream",
     "text": [
      "\n",
      "Train Diffusion:  42%|████▏     | 831/2000 [24:51<34:15,  1.76s/it]\u001b[A\n",
      "Train Diffusion:  42%|████▏     | 832/2000 [24:52<34:07,  1.75s/it]\u001b[A\n",
      "Train Diffusion:  42%|████▏     | 833/2000 [24:54<34:00,  1.75s/it]\u001b[A\n",
      "Train Diffusion:  42%|████▏     | 834/2000 [24:56<34:12,  1.76s/it]\u001b[A\n",
      "Train Diffusion:  42%|████▏     | 835/2000 [24:58<34:03,  1.75s/it]\u001b[A\n",
      "Train Diffusion:  42%|████▏     | 836/2000 [24:59<33:57,  1.75s/it]\u001b[A\n",
      "Train Diffusion:  42%|████▏     | 837/2000 [25:01<33:55,  1.75s/it]\u001b[A\n",
      "Train Diffusion:  42%|████▏     | 838/2000 [25:03<33:51,  1.75s/it]\u001b[A\n",
      "Train Diffusion:  42%|████▏     | 839/2000 [25:05<33:46,  1.75s/it]\u001b[A\n",
      "Train Diffusion:  42%|████▏     | 840/2000 [25:06<33:42,  1.74s/it]\u001b[A"
     ]
    },
    {
     "name": "stdout",
     "output_type": "stream",
     "text": [
      "Moving average norm loss at 840 iterations is: 4141.5044921875. Best norm loss value is: 3859.26416015625.\n",
      "\n",
      "C_path mean = tensor([[4.5291e+01, 6.6709e-02, 2.8513e-04]], grad_fn=<MeanBackward1>)\n",
      "\n",
      "C_path = tensor([[[4.5660e+01, 7.1469e-02, 7.1469e-01],\n",
      "         [1.6859e+01, 1.5198e+01, 1.2193e-03],\n",
      "         [4.0644e+01, 5.2188e+00, 1.7313e-03],\n",
      "         ...,\n",
      "         [4.3956e+01, 2.4286e-03, 7.4287e-07],\n",
      "         [3.9920e+01, 2.0894e-03, 1.9882e-05],\n",
      "         [3.0842e+01, 7.3462e-04, 1.7033e-03]]], grad_fn=<CatBackward>)\n"
     ]
    },
    {
     "name": "stderr",
     "output_type": "stream",
     "text": [
      "\n",
      "Train Diffusion:  42%|████▏     | 841/2000 [25:08<33:42,  1.74s/it]\u001b[A\n",
      "Train Diffusion:  42%|████▏     | 842/2000 [25:10<33:44,  1.75s/it]\u001b[A\n",
      "Train Diffusion:  42%|████▏     | 843/2000 [25:12<34:36,  1.79s/it]\u001b[A\n",
      "Train Diffusion:  42%|████▏     | 844/2000 [25:14<34:14,  1.78s/it]\u001b[A\n",
      "Train Diffusion:  42%|████▏     | 845/2000 [25:15<33:59,  1.77s/it]\u001b[A\n",
      "Train Diffusion:  42%|████▏     | 846/2000 [25:17<33:49,  1.76s/it]\u001b[A\n",
      "Train Diffusion:  42%|████▏     | 847/2000 [25:19<33:44,  1.76s/it]\u001b[A\n",
      "Train Diffusion:  42%|████▏     | 848/2000 [25:21<33:37,  1.75s/it]\u001b[A\n",
      "Train Diffusion:  42%|████▏     | 849/2000 [25:22<33:31,  1.75s/it]\u001b[A\n",
      "Train Diffusion:  42%|████▎     | 850/2000 [25:24<33:27,  1.75s/it]\u001b[A"
     ]
    },
    {
     "name": "stdout",
     "output_type": "stream",
     "text": [
      "Moving average norm loss at 850 iterations is: 3949.4219482421877. Best norm loss value is: 3826.514404296875.\n",
      "\n",
      "C_path mean = tensor([[4.5318e+01, 7.1354e-02, 2.8951e-04]], grad_fn=<MeanBackward1>)\n",
      "\n",
      "C_path = tensor([[[4.5660e+01, 7.1469e-02, 7.1469e-01],\n",
      "         [1.6795e+01, 1.5274e+01, 1.3129e-03],\n",
      "         [4.0466e+01, 5.3371e+00, 1.7614e-03],\n",
      "         ...,\n",
      "         [4.4075e+01, 2.2689e-03, 7.2429e-07],\n",
      "         [4.0056e+01, 1.9547e-03, 2.0199e-05],\n",
      "         [3.1040e+01, 7.2486e-04, 1.7065e-03]]], grad_fn=<CatBackward>)\n"
     ]
    },
    {
     "name": "stderr",
     "output_type": "stream",
     "text": [
      "\n",
      "Train Diffusion:  43%|████▎     | 851/2000 [25:26<33:26,  1.75s/it]\u001b[A\n",
      "Train Diffusion:  43%|████▎     | 852/2000 [25:28<33:23,  1.75s/it]\u001b[A\n",
      "Train Diffusion:  43%|████▎     | 853/2000 [25:29<33:21,  1.74s/it]\u001b[A\n",
      "Train Diffusion:  43%|████▎     | 854/2000 [25:31<33:23,  1.75s/it]\u001b[A\n",
      "Train Diffusion:  43%|████▎     | 855/2000 [25:33<33:33,  1.76s/it]\u001b[A\n",
      "Train Diffusion:  43%|████▎     | 856/2000 [25:35<33:27,  1.75s/it]\u001b[A\n",
      "Train Diffusion:  43%|████▎     | 857/2000 [25:36<33:23,  1.75s/it]\u001b[A\n",
      "Train Diffusion:  43%|████▎     | 858/2000 [25:38<33:18,  1.75s/it]\u001b[A\n",
      "Train Diffusion:  43%|████▎     | 859/2000 [25:40<33:18,  1.75s/it]\u001b[A\n",
      "Train Diffusion:  43%|████▎     | 860/2000 [25:42<33:22,  1.76s/it]\u001b[A"
     ]
    },
    {
     "name": "stdout",
     "output_type": "stream",
     "text": [
      "Moving average norm loss at 860 iterations is: 3961.860986328125. Best norm loss value is: 3826.514404296875.\n",
      "\n",
      "C_path mean = tensor([[4.5300e+01, 7.1521e-02, 2.9473e-04]], grad_fn=<MeanBackward1>)\n",
      "\n",
      "C_path = tensor([[[4.5660e+01, 7.1469e-02, 7.1469e-01],\n",
      "         [1.7034e+01, 1.3935e+01, 1.3183e-03],\n",
      "         [4.0888e+01, 4.2925e+00, 1.8842e-03],\n",
      "         ...,\n",
      "         [4.4075e+01, 2.6487e-03, 7.5978e-07],\n",
      "         [3.9920e+01, 2.1943e-03, 2.1757e-05],\n",
      "         [3.0637e+01, 7.8312e-04, 1.8884e-03]]], grad_fn=<CatBackward>)\n"
     ]
    },
    {
     "name": "stderr",
     "output_type": "stream",
     "text": [
      "\n",
      "Train Diffusion:  43%|████▎     | 861/2000 [25:43<33:18,  1.75s/it]\u001b[A\n",
      "Train Diffusion:  43%|████▎     | 862/2000 [25:45<33:13,  1.75s/it]\u001b[A\n",
      "Train Diffusion:  43%|████▎     | 863/2000 [25:47<33:07,  1.75s/it]\u001b[A\n",
      "Train Diffusion:  43%|████▎     | 864/2000 [25:49<33:03,  1.75s/it]\u001b[A\n",
      "Train Diffusion:  43%|████▎     | 865/2000 [25:50<33:00,  1.74s/it]\u001b[A\n",
      "Train Diffusion:  43%|████▎     | 866/2000 [25:52<33:01,  1.75s/it]\u001b[A\n",
      "Train Diffusion:  43%|████▎     | 867/2000 [25:54<32:56,  1.74s/it]\u001b[A\n",
      "Train Diffusion:  43%|████▎     | 868/2000 [25:56<32:52,  1.74s/it]\u001b[A\n",
      "Train Diffusion:  43%|████▎     | 869/2000 [25:57<32:54,  1.75s/it]\u001b[A\n",
      "Train Diffusion:  44%|████▎     | 870/2000 [25:59<32:51,  1.74s/it]\u001b[A"
     ]
    },
    {
     "name": "stdout",
     "output_type": "stream",
     "text": [
      "Moving average norm loss at 870 iterations is: 3997.0845947265625. Best norm loss value is: 3826.514404296875.\n",
      "\n",
      "C_path mean = tensor([[4.5365e+01, 6.3889e-02, 2.9182e-04]], grad_fn=<MeanBackward1>)\n",
      "\n",
      "C_path = tensor([[[4.5660e+01, 7.1469e-02, 7.1469e-01],\n",
      "         [1.6725e+01, 1.4108e+01, 1.3096e-03],\n",
      "         [4.0257e+01, 4.1292e+00, 1.8037e-03],\n",
      "         ...,\n",
      "         [4.4129e+01, 2.5826e-03, 9.3838e-07],\n",
      "         [3.9963e+01, 2.1260e-03, 2.5880e-05],\n",
      "         [3.0424e+01, 7.5144e-04, 2.0194e-03]]], grad_fn=<CatBackward>)\n"
     ]
    },
    {
     "name": "stderr",
     "output_type": "stream",
     "text": [
      "\n",
      "Train Diffusion:  44%|████▎     | 871/2000 [26:01<32:49,  1.74s/it]\u001b[A\n",
      "Train Diffusion:  44%|████▎     | 872/2000 [26:03<32:47,  1.74s/it]\u001b[A\n",
      "Train Diffusion:  44%|████▎     | 873/2000 [26:04<32:44,  1.74s/it]\u001b[A\n",
      "Train Diffusion:  44%|████▎     | 874/2000 [26:06<32:44,  1.74s/it]\u001b[A\n",
      "Train Diffusion:  44%|████▍     | 875/2000 [26:08<32:42,  1.74s/it]\u001b[A\n",
      "Train Diffusion:  44%|████▍     | 876/2000 [26:10<32:40,  1.74s/it]\u001b[A\n",
      "Train Diffusion:  44%|████▍     | 877/2000 [26:11<32:45,  1.75s/it]\u001b[A\n",
      "Train Diffusion:  44%|████▍     | 878/2000 [26:13<32:47,  1.75s/it]\u001b[A\n",
      "Train Diffusion:  44%|████▍     | 879/2000 [26:15<32:43,  1.75s/it]\u001b[A\n",
      "Train Diffusion:  44%|████▍     | 880/2000 [26:17<32:38,  1.75s/it]\u001b[A"
     ]
    },
    {
     "name": "stdout",
     "output_type": "stream",
     "text": [
      "Moving average norm loss at 880 iterations is: 3983.287158203125. Best norm loss value is: 3826.514404296875.\n",
      "\n",
      "C_path mean = tensor([[4.5256e+01, 6.7448e-02, 2.9443e-04]], grad_fn=<MeanBackward1>)\n",
      "\n",
      "C_path = tensor([[[4.5660e+01, 7.1469e-02, 7.1469e-01],\n",
      "         [1.6874e+01, 1.2550e+01, 1.3347e-03],\n",
      "         [4.0422e+01, 2.9696e+00, 1.9480e-03],\n",
      "         ...,\n",
      "         [4.4005e+01, 2.7071e-03, 9.2727e-07],\n",
      "         [3.9618e+01, 2.3946e-03, 2.4594e-05],\n",
      "         [2.9676e+01, 8.5403e-04, 2.0877e-03]]], grad_fn=<CatBackward>)\n"
     ]
    },
    {
     "name": "stderr",
     "output_type": "stream",
     "text": [
      "\n",
      "Train Diffusion:  44%|████▍     | 881/2000 [26:18<32:34,  1.75s/it]\u001b[A\n",
      "Train Diffusion:  44%|████▍     | 882/2000 [26:20<32:38,  1.75s/it]\u001b[A\n",
      "Train Diffusion:  44%|████▍     | 883/2000 [26:22<32:35,  1.75s/it]\u001b[A\n",
      "Train Diffusion:  44%|████▍     | 884/2000 [26:24<32:31,  1.75s/it]\u001b[A\n",
      "Train Diffusion:  44%|████▍     | 885/2000 [26:25<32:26,  1.75s/it]\u001b[A\n",
      "Train Diffusion:  44%|████▍     | 886/2000 [26:27<32:25,  1.75s/it]\u001b[A\n",
      "Train Diffusion:  44%|████▍     | 887/2000 [26:29<32:22,  1.75s/it]\u001b[A\n",
      "Train Diffusion:  44%|████▍     | 888/2000 [26:30<32:20,  1.75s/it]\u001b[A\n",
      "Train Diffusion:  44%|████▍     | 889/2000 [26:32<32:15,  1.74s/it]\u001b[A\n",
      "Train Diffusion:  44%|████▍     | 890/2000 [26:34<32:13,  1.74s/it]\u001b[A"
     ]
    },
    {
     "name": "stdout",
     "output_type": "stream",
     "text": [
      "Moving average norm loss at 890 iterations is: 4086.5441162109373. Best norm loss value is: 3826.514404296875.\n",
      "\n",
      "C_path mean = tensor([[4.5316e+01, 7.1401e-02, 2.9222e-04]], grad_fn=<MeanBackward1>)\n",
      "\n",
      "C_path = tensor([[[4.5660e+01, 7.1469e-02, 7.1469e-01],\n",
      "         [1.7311e+01, 1.1073e+01, 1.3712e-03],\n",
      "         [4.1134e+01, 2.1359e+00, 1.9245e-03],\n",
      "         ...,\n",
      "         [4.3865e+01, 2.6682e-03, 8.3946e-07],\n",
      "         [3.9285e+01, 2.3518e-03, 2.4859e-05],\n",
      "         [2.9163e+01, 8.6086e-04, 2.4372e-03]]], grad_fn=<CatBackward>)\n"
     ]
    },
    {
     "name": "stderr",
     "output_type": "stream",
     "text": [
      "\n",
      "Train Diffusion:  45%|████▍     | 891/2000 [26:36<32:12,  1.74s/it]\u001b[A\n",
      "Train Diffusion:  45%|████▍     | 892/2000 [26:37<32:11,  1.74s/it]\u001b[A\n",
      "Train Diffusion:  45%|████▍     | 893/2000 [26:39<32:24,  1.76s/it]\u001b[A\n",
      "Train Diffusion:  45%|████▍     | 894/2000 [26:41<32:18,  1.75s/it]\u001b[A\n",
      "Train Diffusion:  45%|████▍     | 895/2000 [26:43<32:18,  1.75s/it]\u001b[A\n",
      "Train Diffusion:  45%|████▍     | 896/2000 [26:44<32:16,  1.75s/it]\u001b[A\n",
      "Train Diffusion:  45%|████▍     | 897/2000 [26:46<32:13,  1.75s/it]\u001b[A\n",
      "Train Diffusion:  45%|████▍     | 898/2000 [26:48<32:09,  1.75s/it]\u001b[A\n",
      "Train Diffusion:  45%|████▍     | 899/2000 [26:50<32:04,  1.75s/it]\u001b[A\n",
      "Train Diffusion:  45%|████▌     | 900/2000 [26:52<32:12,  1.76s/it]\u001b[A"
     ]
    },
    {
     "name": "stdout",
     "output_type": "stream",
     "text": [
      "Moving average norm loss at 900 iterations is: 4281.83603515625. Best norm loss value is: 3826.514404296875.\n",
      "\n",
      "C_path mean = tensor([[4.5344e+01, 6.3754e-02, 3.0277e-04]], grad_fn=<MeanBackward1>)\n",
      "\n",
      "C_path = tensor([[[4.5660e+01, 7.1469e-02, 7.1469e-01],\n",
      "         [1.7020e+01, 1.2027e+01, 1.3847e-03],\n",
      "         [4.0750e+01, 2.4653e+00, 2.0963e-03],\n",
      "         ...,\n",
      "         [4.4292e+01, 2.6601e-03, 1.0193e-06],\n",
      "         [3.9868e+01, 2.4178e-03, 2.8192e-05],\n",
      "         [2.9794e+01, 8.7491e-04, 2.2430e-03]]], grad_fn=<CatBackward>)\n"
     ]
    },
    {
     "name": "stderr",
     "output_type": "stream",
     "text": [
      "\n",
      "Train Diffusion:  45%|████▌     | 901/2000 [26:53<32:07,  1.75s/it]\u001b[A\n",
      "Train Diffusion:  45%|████▌     | 902/2000 [26:55<32:01,  1.75s/it]\u001b[A\n",
      "Train Diffusion:  45%|████▌     | 903/2000 [26:57<32:00,  1.75s/it]\u001b[A\n",
      "Train Diffusion:  45%|████▌     | 904/2000 [26:58<31:56,  1.75s/it]\u001b[A\n",
      "Train Diffusion:  45%|████▌     | 905/2000 [27:00<31:53,  1.75s/it]\u001b[A\n",
      "Train Diffusion:  45%|████▌     | 906/2000 [27:02<31:52,  1.75s/it]\u001b[A\n",
      "Train Diffusion:  45%|████▌     | 907/2000 [27:04<31:50,  1.75s/it]\u001b[A\n",
      "Train Diffusion:  45%|████▌     | 908/2000 [27:05<31:48,  1.75s/it]\u001b[A\n",
      "Train Diffusion:  45%|████▌     | 909/2000 [27:07<31:43,  1.74s/it]\u001b[A\n",
      "Train Diffusion:  46%|████▌     | 910/2000 [27:09<31:42,  1.75s/it]\u001b[A"
     ]
    },
    {
     "name": "stdout",
     "output_type": "stream",
     "text": [
      "Moving average norm loss at 910 iterations is: 4359.17666015625. Best norm loss value is: 3826.514404296875.\n",
      "\n",
      "C_path mean = tensor([[4.5220e+01, 7.0841e-02, 3.0390e-04]], grad_fn=<MeanBackward1>)\n",
      "\n",
      "C_path = tensor([[[4.5660e+01, 7.1469e-02, 7.1469e-01],\n",
      "         [1.7359e+01, 1.1469e+01, 1.4672e-03],\n",
      "         [4.1125e+01, 2.2544e+00, 2.1359e-03],\n",
      "         ...,\n",
      "         [4.3917e+01, 2.9943e-03, 9.4254e-07],\n",
      "         [3.9459e+01, 2.6139e-03, 2.9331e-05],\n",
      "         [2.9348e+01, 9.2682e-04, 2.8569e-03]]], grad_fn=<CatBackward>)\n"
     ]
    },
    {
     "name": "stderr",
     "output_type": "stream",
     "text": [
      "\n",
      "Train Diffusion:  46%|████▌     | 911/2000 [27:11<31:39,  1.74s/it]\u001b[A\n",
      "Train Diffusion:  46%|████▌     | 912/2000 [27:12<31:41,  1.75s/it]\u001b[A\n",
      "Train Diffusion:  46%|████▌     | 913/2000 [27:14<31:51,  1.76s/it]\u001b[A\n",
      "Train Diffusion:  46%|████▌     | 914/2000 [27:16<31:43,  1.75s/it]\u001b[A\n",
      "Train Diffusion:  46%|████▌     | 915/2000 [27:18<31:37,  1.75s/it]\u001b[A\n",
      "Train Diffusion:  46%|████▌     | 916/2000 [27:19<31:32,  1.75s/it]\u001b[A\n",
      "Train Diffusion:  46%|████▌     | 917/2000 [27:21<31:30,  1.75s/it]\u001b[A\n",
      "Train Diffusion:  46%|████▌     | 918/2000 [27:23<31:26,  1.74s/it]\u001b[A\n",
      "Train Diffusion:  46%|████▌     | 919/2000 [27:25<31:25,  1.74s/it]\u001b[A\n",
      "Train Diffusion:  46%|████▌     | 920/2000 [27:26<31:24,  1.74s/it]\u001b[A"
     ]
    },
    {
     "name": "stdout",
     "output_type": "stream",
     "text": [
      "Moving average norm loss at 920 iterations is: 4452.750439453125. Best norm loss value is: 3826.514404296875.\n",
      "\n",
      "C_path mean = tensor([[4.5496e+01, 6.2488e-02, 2.9710e-04]], grad_fn=<MeanBackward1>)\n",
      "\n",
      "C_path = tensor([[[4.5660e+01, 7.1469e-02, 7.1469e-01],\n",
      "         [1.7213e+01, 1.1015e+01, 1.3740e-03],\n",
      "         [4.0913e+01, 1.7581e+00, 2.0227e-03],\n",
      "         ...,\n",
      "         [4.4203e+01, 2.6652e-03, 1.1518e-06],\n",
      "         [3.9666e+01, 2.4286e-03, 3.3121e-05],\n",
      "         [2.9385e+01, 8.7852e-04, 2.9702e-03]]], grad_fn=<CatBackward>)\n"
     ]
    },
    {
     "name": "stderr",
     "output_type": "stream",
     "text": [
      "\n",
      "Train Diffusion:  46%|████▌     | 921/2000 [27:28<31:24,  1.75s/it]\u001b[A\n",
      "Train Diffusion:  46%|████▌     | 922/2000 [27:30<31:23,  1.75s/it]\u001b[A\n",
      "Train Diffusion:  46%|████▌     | 923/2000 [27:32<31:28,  1.75s/it]\u001b[A\n",
      "Train Diffusion:  46%|████▌     | 924/2000 [27:33<31:33,  1.76s/it]\u001b[A\n",
      "Train Diffusion:  46%|████▋     | 925/2000 [27:35<31:28,  1.76s/it]\u001b[A\n",
      "Train Diffusion:  46%|████▋     | 926/2000 [27:37<31:31,  1.76s/it]\u001b[A\n",
      "Train Diffusion:  46%|████▋     | 927/2000 [27:39<31:25,  1.76s/it]\u001b[A\n",
      "Train Diffusion:  46%|████▋     | 928/2000 [27:40<31:17,  1.75s/it]\u001b[A\n",
      "Train Diffusion:  46%|████▋     | 929/2000 [27:42<31:17,  1.75s/it]\u001b[A\n",
      "Train Diffusion:  46%|████▋     | 930/2000 [27:44<31:14,  1.75s/it]\u001b[A"
     ]
    },
    {
     "name": "stdout",
     "output_type": "stream",
     "text": [
      "Moving average norm loss at 930 iterations is: 4440.2171875. Best norm loss value is: 3826.514404296875.\n",
      "\n",
      "C_path mean = tensor([[4.5421e+01, 7.2751e-02, 2.9318e-04]], grad_fn=<MeanBackward1>)\n",
      "\n",
      "C_path = tensor([[[4.5660e+01, 7.1469e-02, 7.1469e-01],\n",
      "         [1.6894e+01, 1.2491e+01, 1.4487e-03],\n",
      "         [4.0180e+01, 2.9185e+00, 1.9646e-03],\n",
      "         ...,\n",
      "         [4.4129e+01, 2.8068e-03, 7.3742e-07],\n",
      "         [3.9851e+01, 2.4394e-03, 1.8223e-05],\n",
      "         [3.0089e+01, 8.5755e-04, 2.7873e-03]]], grad_fn=<CatBackward>)\n"
     ]
    },
    {
     "name": "stderr",
     "output_type": "stream",
     "text": [
      "\n",
      "Train Diffusion:  47%|████▋     | 931/2000 [27:46<31:10,  1.75s/it]\u001b[A\n",
      "Train Diffusion:  47%|████▋     | 932/2000 [27:47<31:07,  1.75s/it]\u001b[A\n",
      "Train Diffusion:  47%|████▋     | 933/2000 [27:49<31:02,  1.75s/it]\u001b[A\n",
      "Train Diffusion:  47%|████▋     | 934/2000 [27:51<30:57,  1.74s/it]\u001b[A\n",
      "Train Diffusion:  47%|████▋     | 935/2000 [27:53<30:53,  1.74s/it]\u001b[A\n",
      "Train Diffusion:  47%|████▋     | 936/2000 [27:54<30:50,  1.74s/it]\u001b[A\n",
      "Train Diffusion:  47%|████▋     | 937/2000 [27:56<30:58,  1.75s/it]\u001b[A\n",
      "Train Diffusion:  47%|████▋     | 938/2000 [27:58<30:58,  1.75s/it]\u001b[A\n",
      "Train Diffusion:  47%|████▋     | 939/2000 [28:00<31:21,  1.77s/it]\u001b[A\n",
      "Train Diffusion:  47%|████▋     | 940/2000 [28:02<31:08,  1.76s/it]\u001b[A"
     ]
    },
    {
     "name": "stdout",
     "output_type": "stream",
     "text": [
      "Moving average norm loss at 940 iterations is: 4194.1861328125. Best norm loss value is: 3826.514404296875.\n",
      "\n",
      "C_path mean = tensor([[4.5397e+01, 6.7494e-02, 2.9747e-04]], grad_fn=<MeanBackward1>)\n",
      "\n",
      "C_path = tensor([[[4.5660e+01, 7.1469e-02, 7.1469e-01],\n",
      "         [1.6999e+01, 1.1245e+01, 1.4736e-03],\n",
      "         [4.0351e+01, 1.9742e+00, 2.0312e-03],\n",
      "         ...,\n",
      "         [4.4061e+01, 3.1741e-03, 8.9764e-07],\n",
      "         [3.9632e+01, 2.6564e-03, 2.4278e-05],\n",
      "         [2.9624e+01, 9.1210e-04, 4.3436e-03]]], grad_fn=<CatBackward>)\n"
     ]
    },
    {
     "name": "stderr",
     "output_type": "stream",
     "text": [
      "\n",
      "Train Diffusion:  47%|████▋     | 941/2000 [28:03<31:01,  1.76s/it]\u001b[A\n",
      "Train Diffusion:  47%|████▋     | 942/2000 [28:05<30:53,  1.75s/it]\u001b[A\n",
      "Train Diffusion:  47%|████▋     | 943/2000 [28:07<30:49,  1.75s/it]\u001b[A\n",
      "Train Diffusion:  47%|████▋     | 944/2000 [28:08<30:44,  1.75s/it]\u001b[A\n",
      "Train Diffusion:  47%|████▋     | 945/2000 [28:10<30:41,  1.75s/it]\u001b[A\n",
      "Train Diffusion:  47%|████▋     | 946/2000 [28:12<30:49,  1.76s/it]\u001b[A\n",
      "Train Diffusion:  47%|████▋     | 947/2000 [28:14<30:43,  1.75s/it]\u001b[A\n",
      "Train Diffusion:  47%|████▋     | 948/2000 [28:15<30:38,  1.75s/it]\u001b[A\n",
      "Train Diffusion:  47%|████▋     | 949/2000 [28:17<30:33,  1.74s/it]\u001b[A\n",
      "Train Diffusion:  48%|████▊     | 950/2000 [28:19<30:29,  1.74s/it]\u001b[A"
     ]
    },
    {
     "name": "stdout",
     "output_type": "stream",
     "text": [
      "Moving average norm loss at 950 iterations is: 4197.722875976562. Best norm loss value is: 3826.514404296875.\n",
      "\n",
      "C_path mean = tensor([[4.5248e+01, 6.8357e-02, 3.0600e-04]], grad_fn=<MeanBackward1>)\n",
      "\n",
      "C_path = tensor([[[4.5660e+01, 7.1469e-02, 7.1469e-01],\n",
      "         [1.7265e+01, 9.8682e+00, 1.5456e-03],\n",
      "         [4.0780e+01, 1.1570e+00, 2.2737e-03],\n",
      "         ...,\n",
      "         [4.4001e+01, 3.2488e-03, 9.5742e-07],\n",
      "         [3.9393e+01, 2.9528e-03, 2.7078e-05],\n",
      "         [2.9182e+01, 1.0317e-03, 5.2976e-03]]], grad_fn=<CatBackward>)\n"
     ]
    },
    {
     "name": "stderr",
     "output_type": "stream",
     "text": [
      "\n",
      "Train Diffusion:  48%|████▊     | 951/2000 [28:21<30:27,  1.74s/it]\u001b[A\n",
      "Train Diffusion:  48%|████▊     | 952/2000 [28:22<30:23,  1.74s/it]\u001b[A\n",
      "Train Diffusion:  48%|████▊     | 953/2000 [28:24<30:21,  1.74s/it]\u001b[A\n",
      "Train Diffusion:  48%|████▊     | 954/2000 [28:26<30:19,  1.74s/it]\u001b[A\n",
      "Train Diffusion:  48%|████▊     | 955/2000 [28:28<30:16,  1.74s/it]\u001b[A\n",
      "Train Diffusion:  48%|████▊     | 956/2000 [28:29<30:14,  1.74s/it]\u001b[A\n",
      "Train Diffusion:  48%|████▊     | 957/2000 [28:31<30:13,  1.74s/it]\u001b[A\n",
      "Train Diffusion:  48%|████▊     | 958/2000 [28:33<30:10,  1.74s/it]\u001b[A\n",
      "Train Diffusion:  48%|████▊     | 959/2000 [28:35<30:07,  1.74s/it]\u001b[A\n",
      "Train Diffusion:  48%|████▊     | 960/2000 [28:36<30:17,  1.75s/it]\u001b[A"
     ]
    },
    {
     "name": "stdout",
     "output_type": "stream",
     "text": [
      "Moving average norm loss at 960 iterations is: 4309.137670898437. Best norm loss value is: 3826.514404296875.\n",
      "\n",
      "C_path mean = tensor([[4.5207e+01, 6.8818e-02, 3.1143e-04]], grad_fn=<MeanBackward1>)\n",
      "\n",
      "C_path = tensor([[[4.5660e+01, 7.1469e-02, 7.1469e-01],\n",
      "         [1.7495e+01, 1.0743e+01, 1.5915e-03],\n",
      "         [4.1095e+01, 1.5222e+00, 2.3968e-03],\n",
      "         ...,\n",
      "         [4.4038e+01, 3.4630e-03, 9.2883e-07],\n",
      "         [3.9489e+01, 3.1304e-03, 2.6260e-05],\n",
      "         [2.9222e+01, 1.0879e-03, 5.0906e-03]]], grad_fn=<CatBackward>)\n"
     ]
    },
    {
     "name": "stderr",
     "output_type": "stream",
     "text": [
      "\n",
      "Train Diffusion:  48%|████▊     | 961/2000 [28:38<30:13,  1.75s/it]\u001b[A\n",
      "Train Diffusion:  48%|████▊     | 962/2000 [28:40<30:08,  1.74s/it]\u001b[A\n",
      "Train Diffusion:  48%|████▊     | 963/2000 [28:42<30:10,  1.75s/it]\u001b[A\n",
      "Train Diffusion:  48%|████▊     | 964/2000 [28:43<30:07,  1.74s/it]\u001b[A\n",
      "Train Diffusion:  48%|████▊     | 965/2000 [28:45<30:03,  1.74s/it]\u001b[A\n",
      "Train Diffusion:  48%|████▊     | 966/2000 [28:47<30:00,  1.74s/it]\u001b[A\n",
      "Train Diffusion:  48%|████▊     | 967/2000 [28:49<30:00,  1.74s/it]\u001b[A\n",
      "Train Diffusion:  48%|████▊     | 968/2000 [28:50<29:57,  1.74s/it]\u001b[A\n",
      "Train Diffusion:  48%|████▊     | 969/2000 [28:52<30:13,  1.76s/it]\u001b[A\n",
      "Train Diffusion:  48%|████▊     | 970/2000 [28:54<30:07,  1.76s/it]\u001b[A"
     ]
    },
    {
     "name": "stdout",
     "output_type": "stream",
     "text": [
      "Moving average norm loss at 970 iterations is: 4224.89033203125. Best norm loss value is: 3826.514404296875.\n",
      "\n",
      "C_path mean = tensor([[4.5456e+01, 5.8656e-02, 3.0474e-04]], grad_fn=<MeanBackward1>)\n",
      "\n",
      "C_path = tensor([[[4.5660e+01, 7.1469e-02, 7.1469e-01],\n",
      "         [1.7292e+01, 1.1734e+01, 1.4904e-03],\n",
      "         [4.0800e+01, 1.9002e+00, 2.1843e-03],\n",
      "         ...,\n",
      "         [4.4305e+01, 3.3830e-03, 1.1406e-06],\n",
      "         [3.9853e+01, 2.9231e-03, 2.7859e-05],\n",
      "         [2.9613e+01, 9.9385e-04, 3.9771e-03]]], grad_fn=<CatBackward>)\n"
     ]
    },
    {
     "name": "stderr",
     "output_type": "stream",
     "text": [
      "\n",
      "Train Diffusion:  49%|████▊     | 971/2000 [28:56<30:02,  1.75s/it]\u001b[A\n",
      "Train Diffusion:  49%|████▊     | 972/2000 [28:57<30:01,  1.75s/it]\u001b[A\n",
      "Train Diffusion:  49%|████▊     | 973/2000 [28:59<29:54,  1.75s/it]\u001b[A\n",
      "Train Diffusion:  49%|████▊     | 974/2000 [29:01<29:48,  1.74s/it]\u001b[A\n",
      "Train Diffusion:  49%|████▉     | 975/2000 [29:03<29:45,  1.74s/it]\u001b[A\n",
      "Train Diffusion:  49%|████▉     | 976/2000 [29:04<29:42,  1.74s/it]\u001b[A\n",
      "Train Diffusion:  49%|████▉     | 977/2000 [29:06<29:40,  1.74s/it]\u001b[A\n",
      "Train Diffusion:  49%|████▉     | 978/2000 [29:08<29:38,  1.74s/it]\u001b[A\n",
      "Train Diffusion:  49%|████▉     | 979/2000 [29:10<29:36,  1.74s/it]\u001b[A\n",
      "Train Diffusion:  49%|████▉     | 980/2000 [29:11<29:39,  1.74s/it]\u001b[A"
     ]
    },
    {
     "name": "stdout",
     "output_type": "stream",
     "text": [
      "Moving average norm loss at 980 iterations is: 4513.696484375. Best norm loss value is: 3826.514404296875.\n",
      "\n",
      "C_path mean = tensor([[4.5218e+01, 7.4490e-02, 3.1360e-04]], grad_fn=<MeanBackward1>)\n",
      "\n",
      "C_path = tensor([[[4.5660e+01, 7.1469e-02, 7.1469e-01],\n",
      "         [1.7239e+01, 1.2963e+01, 1.6317e-03],\n",
      "         [4.0702e+01, 2.9253e+00, 2.4486e-03],\n",
      "         ...,\n",
      "         [4.4156e+01, 3.6061e-03, 8.3786e-07],\n",
      "         [3.9900e+01, 3.1655e-03, 2.2689e-05],\n",
      "         [3.0048e+01, 1.0547e-03, 3.6239e-03]]], grad_fn=<CatBackward>)\n"
     ]
    },
    {
     "name": "stderr",
     "output_type": "stream",
     "text": [
      "\n",
      "Train Diffusion:  49%|████▉     | 981/2000 [29:13<29:37,  1.74s/it]\u001b[A\n",
      "Train Diffusion:  49%|████▉     | 982/2000 [29:15<29:34,  1.74s/it]\u001b[A\n",
      "Train Diffusion:  49%|████▉     | 983/2000 [29:16<29:30,  1.74s/it]\u001b[A\n",
      "Train Diffusion:  49%|████▉     | 984/2000 [29:18<29:28,  1.74s/it]\u001b[A\n",
      "Train Diffusion:  49%|████▉     | 985/2000 [29:20<29:25,  1.74s/it]\u001b[A\n",
      "Train Diffusion:  49%|████▉     | 986/2000 [29:22<29:25,  1.74s/it]\u001b[A\n",
      "Train Diffusion:  49%|████▉     | 987/2000 [29:23<29:23,  1.74s/it]\u001b[A\n",
      "Train Diffusion:  49%|████▉     | 988/2000 [29:25<29:23,  1.74s/it]\u001b[A\n",
      "Train Diffusion:  49%|████▉     | 989/2000 [29:27<29:23,  1.74s/it]\u001b[A\n",
      "Train Diffusion:  50%|████▉     | 990/2000 [29:29<29:19,  1.74s/it]\u001b[A"
     ]
    },
    {
     "name": "stdout",
     "output_type": "stream",
     "text": [
      "Moving average norm loss at 990 iterations is: 4357.642602539063. Best norm loss value is: 3826.514404296875.\n",
      "\n",
      "C_path mean = tensor([[4.5271e+01, 7.0862e-02, 3.1038e-04]], grad_fn=<MeanBackward1>)\n",
      "\n",
      "C_path = tensor([[[4.5660e+01, 7.1469e-02, 7.1469e-01],\n",
      "         [1.7275e+01, 1.1568e+01, 1.6208e-03],\n",
      "         [4.0541e+01, 1.9228e+00, 2.3737e-03],\n",
      "         ...,\n",
      "         [4.4134e+01, 3.6279e-03, 9.5930e-07],\n",
      "         [3.9692e+01, 3.2071e-03, 2.4326e-05],\n",
      "         [2.9486e+01, 1.0913e-03, 4.0479e-03]]], grad_fn=<CatBackward>)\n"
     ]
    },
    {
     "name": "stderr",
     "output_type": "stream",
     "text": [
      "\n",
      "Train Diffusion:  50%|████▉     | 991/2000 [29:30<29:17,  1.74s/it]\u001b[A\n",
      "Train Diffusion:  50%|████▉     | 992/2000 [29:32<29:17,  1.74s/it]\u001b[A\n",
      "Train Diffusion:  50%|████▉     | 993/2000 [29:34<29:24,  1.75s/it]\u001b[A\n",
      "Train Diffusion:  50%|████▉     | 994/2000 [29:36<29:20,  1.75s/it]\u001b[A\n",
      "Train Diffusion:  50%|████▉     | 995/2000 [29:37<29:18,  1.75s/it]\u001b[A\n",
      "Train Diffusion:  50%|████▉     | 996/2000 [29:39<29:14,  1.75s/it]\u001b[A\n",
      "Train Diffusion:  50%|████▉     | 997/2000 [29:41<29:10,  1.75s/it]\u001b[A\n",
      "Train Diffusion:  50%|████▉     | 998/2000 [29:43<29:10,  1.75s/it]\u001b[A\n",
      "Train Diffusion:  50%|████▉     | 999/2000 [29:44<29:09,  1.75s/it]\u001b[A\n",
      "Train Diffusion:  50%|█████     | 1000/2000 [29:46<29:04,  1.74s/it]\u001b[A"
     ]
    },
    {
     "name": "stdout",
     "output_type": "stream",
     "text": [
      "Moving average norm loss at 1000 iterations is: 4198.770336914063. Best norm loss value is: 3826.514404296875.\n",
      "\n",
      "C_path mean = tensor([[4.5343e+01, 6.6750e-02, 3.1068e-04]], grad_fn=<MeanBackward1>)\n",
      "\n",
      "C_path = tensor([[[4.5660e+01, 7.1469e-02, 7.1469e-01],\n",
      "         [1.7413e+01, 1.0308e+01, 1.6265e-03],\n",
      "         [4.0740e+01, 1.1059e+00, 2.3770e-03],\n",
      "         ...,\n",
      "         [4.4176e+01, 3.5027e-03, 1.0850e-06],\n",
      "         [3.9547e+01, 3.1907e-03, 2.6724e-05],\n",
      "         [2.9000e+01, 1.1193e-03, 4.2253e-03]]], grad_fn=<CatBackward>)\n"
     ]
    },
    {
     "name": "stderr",
     "output_type": "stream",
     "text": [
      "\n",
      "Train Diffusion:  50%|█████     | 1001/2000 [29:48<29:00,  1.74s/it]\u001b[A\n",
      "Train Diffusion:  50%|█████     | 1002/2000 [29:50<29:00,  1.74s/it]\u001b[A\n",
      "Train Diffusion:  50%|█████     | 1003/2000 [29:51<28:56,  1.74s/it]\u001b[A\n",
      "Train Diffusion:  50%|█████     | 1004/2000 [29:53<28:52,  1.74s/it]\u001b[A\n",
      "Train Diffusion:  50%|█████     | 1005/2000 [29:55<28:50,  1.74s/it]\u001b[A\n",
      "Train Diffusion:  50%|█████     | 1006/2000 [29:57<28:49,  1.74s/it]\u001b[A\n",
      "Train Diffusion:  50%|█████     | 1007/2000 [29:58<28:48,  1.74s/it]\u001b[A\n",
      "Train Diffusion:  50%|█████     | 1008/2000 [30:00<28:43,  1.74s/it]\u001b[A\n",
      "Train Diffusion:  50%|█████     | 1009/2000 [30:02<28:40,  1.74s/it]\u001b[A\n",
      "Train Diffusion:  50%|█████     | 1010/2000 [30:04<28:37,  1.73s/it]\u001b[A"
     ]
    },
    {
     "name": "stdout",
     "output_type": "stream",
     "text": [
      "Moving average ELBO loss at 1010 iterations is: -149505.74921875. Best ELBO loss value is: -311083.625.\n",
      "\n",
      "C_path mean = tensor([[4.4783e+01, 6.1987e-02, 3.4510e-04]], grad_fn=<MeanBackward1>)\n",
      "\n",
      " C_path = tensor([[[4.5660e+01, 7.1469e-02, 7.1469e-01],\n",
      "         [1.9463e+01, 5.4981e+00, 1.9088e-03],\n",
      "         [4.4003e+01, 1.2099e-01, 2.6855e-03],\n",
      "         ...,\n",
      "         [4.2144e+01, 6.2597e-03, 1.3728e-06],\n",
      "         [3.6881e+01, 5.0630e-03, 4.5322e-05],\n",
      "         [2.4720e+01, 1.6443e-03, 1.9979e-02]]], grad_fn=<CatBackward>)\n"
     ]
    },
    {
     "name": "stderr",
     "output_type": "stream",
     "text": [
      "\n",
      "Train Diffusion:  51%|█████     | 1011/2000 [30:05<28:35,  1.73s/it]\u001b[A\n",
      "Train Diffusion:  51%|█████     | 1012/2000 [30:07<28:33,  1.73s/it]\u001b[A\n",
      "Train Diffusion:  51%|█████     | 1013/2000 [30:09<28:32,  1.73s/it]\u001b[A\n",
      "Train Diffusion:  51%|█████     | 1014/2000 [30:10<28:30,  1.73s/it]\u001b[A\n",
      "Train Diffusion:  51%|█████     | 1015/2000 [30:12<28:35,  1.74s/it]\u001b[A\n",
      "Train Diffusion:  51%|█████     | 1016/2000 [30:14<28:37,  1.75s/it]\u001b[A\n",
      "Train Diffusion:  51%|█████     | 1017/2000 [30:16<28:31,  1.74s/it]\u001b[A\n",
      "Train Diffusion:  51%|█████     | 1018/2000 [30:17<28:27,  1.74s/it]\u001b[A\n",
      "Train Diffusion:  51%|█████     | 1019/2000 [30:19<28:25,  1.74s/it]\u001b[A\n",
      "Train Diffusion:  51%|█████     | 1020/2000 [30:21<28:23,  1.74s/it]\u001b[A"
     ]
    },
    {
     "name": "stdout",
     "output_type": "stream",
     "text": [
      "Moving average ELBO loss at 1020 iterations is: -381892.9375. Best ELBO loss value is: -428123.53125.\n",
      "\n",
      "C_path mean = tensor([[4.0000e+01, 9.9229e-02, 5.9887e-03]], grad_fn=<MeanBackward1>)\n",
      "\n",
      " C_path = tensor([[[4.5660e+01, 7.1469e-02, 7.1469e-01],\n",
      "         [1.9592e+01, 1.9606e-01, 2.9235e-02],\n",
      "         [4.4708e+01, 4.9794e-02, 3.6860e-02],\n",
      "         ...,\n",
      "         [3.5053e+01, 2.3635e-02, 6.3143e-04],\n",
      "         [2.7769e+01, 3.2319e-02, 8.8158e-03],\n",
      "         [1.4874e+01, 2.0994e-02, 8.0336e-01]]], grad_fn=<CatBackward>)\n"
     ]
    },
    {
     "name": "stderr",
     "output_type": "stream",
     "text": [
      "\n",
      "Train Diffusion:  51%|█████     | 1021/2000 [30:23<28:20,  1.74s/it]\u001b[A\n",
      "Train Diffusion:  51%|█████     | 1022/2000 [30:24<28:22,  1.74s/it]\u001b[A\n",
      "Train Diffusion:  51%|█████     | 1023/2000 [30:26<28:17,  1.74s/it]\u001b[A\n",
      "Train Diffusion:  51%|█████     | 1024/2000 [30:28<28:16,  1.74s/it]\u001b[A\n",
      "Train Diffusion:  51%|█████▏    | 1025/2000 [30:30<28:12,  1.74s/it]\u001b[A\n",
      "Train Diffusion:  51%|█████▏    | 1026/2000 [30:31<28:09,  1.73s/it]\u001b[A\n",
      "Train Diffusion:  51%|█████▏    | 1027/2000 [30:33<28:06,  1.73s/it]\u001b[A\n",
      "Train Diffusion:  51%|█████▏    | 1028/2000 [30:35<28:05,  1.73s/it]\u001b[A\n",
      "Train Diffusion:  51%|█████▏    | 1029/2000 [30:37<28:03,  1.73s/it]\u001b[A\n",
      "Train Diffusion:  52%|█████▏    | 1030/2000 [30:38<28:05,  1.74s/it]\u001b[A"
     ]
    },
    {
     "name": "stdout",
     "output_type": "stream",
     "text": [
      "Moving average ELBO loss at 1030 iterations is: -473787.88125. Best ELBO loss value is: -504964.96875.\n",
      "\n",
      "C_path mean = tensor([[37.2991,  0.1006,  0.1903]], grad_fn=<MeanBackward1>)\n",
      "\n",
      " C_path = tensor([[[4.5660e+01, 7.1469e-02, 7.1469e-01],\n",
      "         [2.8981e+01, 2.4482e-01, 1.7124e-01],\n",
      "         [5.1262e+01, 2.4835e-02, 2.2273e-01],\n",
      "         ...,\n",
      "         [3.2076e+01, 1.5790e-01, 4.2774e-01],\n",
      "         [2.5344e+01, 1.8783e-01, 1.5765e+00],\n",
      "         [1.4592e+01, 9.7947e-02, 3.7683e+00]]], grad_fn=<CatBackward>)\n"
     ]
    },
    {
     "name": "stderr",
     "output_type": "stream",
     "text": [
      "\n",
      "Train Diffusion:  52%|█████▏    | 1031/2000 [30:40<28:08,  1.74s/it]\u001b[A\n",
      "Train Diffusion:  52%|█████▏    | 1032/2000 [30:42<28:10,  1.75s/it]\u001b[A\n",
      "Train Diffusion:  52%|█████▏    | 1033/2000 [30:44<28:05,  1.74s/it]\u001b[A\n",
      "Train Diffusion:  52%|█████▏    | 1034/2000 [30:45<28:01,  1.74s/it]\u001b[A\n",
      "Train Diffusion:  52%|█████▏    | 1035/2000 [30:47<27:59,  1.74s/it]\u001b[A\n",
      "Train Diffusion:  52%|█████▏    | 1036/2000 [30:49<27:57,  1.74s/it]\u001b[A\n",
      "Train Diffusion:  52%|█████▏    | 1037/2000 [30:50<27:53,  1.74s/it]\u001b[A\n",
      "Train Diffusion:  52%|█████▏    | 1038/2000 [30:52<27:53,  1.74s/it]\u001b[A\n",
      "Train Diffusion:  52%|█████▏    | 1039/2000 [30:54<27:50,  1.74s/it]\u001b[A\n",
      "Train Diffusion:  52%|█████▏    | 1040/2000 [30:56<27:46,  1.74s/it]\u001b[A"
     ]
    },
    {
     "name": "stdout",
     "output_type": "stream",
     "text": [
      "Moving average ELBO loss at 1040 iterations is: -526408.54375. Best ELBO loss value is: -540938.3125.\n",
      "\n",
      "C_path mean = tensor([[36.6251,  0.1402,  0.3921]], grad_fn=<MeanBackward1>)\n",
      "\n",
      " C_path = tensor([[[45.6603,  0.0715,  0.7147],\n",
      "         [26.2328,  0.2052,  0.2315],\n",
      "         [47.7718,  0.0807,  0.2158],\n",
      "         ...,\n",
      "         [30.7382,  0.1869,  0.8495],\n",
      "         [23.6235,  0.1743,  1.1832],\n",
      "         [13.1251,  0.1127,  0.8766]]], grad_fn=<CatBackward>)\n"
     ]
    },
    {
     "name": "stderr",
     "output_type": "stream",
     "text": [
      "\n",
      "Train Diffusion:  52%|█████▏    | 1041/2000 [30:57<27:44,  1.74s/it]\u001b[A\n",
      "Train Diffusion:  52%|█████▏    | 1042/2000 [30:59<27:47,  1.74s/it]\u001b[A\n",
      "Train Diffusion:  52%|█████▏    | 1043/2000 [31:01<27:43,  1.74s/it]\u001b[A\n",
      "Train Diffusion:  52%|█████▏    | 1044/2000 [31:03<27:43,  1.74s/it]\u001b[A\n",
      "Train Diffusion:  52%|█████▏    | 1045/2000 [31:04<27:39,  1.74s/it]\u001b[A\n",
      "Train Diffusion:  52%|█████▏    | 1046/2000 [31:06<27:41,  1.74s/it]\u001b[A\n",
      "Train Diffusion:  52%|█████▏    | 1047/2000 [31:08<27:38,  1.74s/it]\u001b[A\n",
      "Train Diffusion:  52%|█████▏    | 1048/2000 [31:10<27:36,  1.74s/it]\u001b[A\n",
      "Train Diffusion:  52%|█████▏    | 1049/2000 [31:11<27:32,  1.74s/it]\u001b[A\n",
      "Train Diffusion:  52%|█████▎    | 1050/2000 [31:13<27:34,  1.74s/it]\u001b[A"
     ]
    },
    {
     "name": "stdout",
     "output_type": "stream",
     "text": [
      "Moving average ELBO loss at 1050 iterations is: -553151.25. Best ELBO loss value is: -561879.5625.\n",
      "\n",
      "C_path mean = tensor([[36.3954,  0.1117,  0.6471]], grad_fn=<MeanBackward1>)\n",
      "\n",
      " C_path = tensor([[[4.5660e+01, 7.1469e-02, 7.1469e-01],\n",
      "         [2.6101e+01, 3.6958e-02, 2.7002e-01],\n",
      "         [4.4889e+01, 1.9540e-02, 2.8992e-01],\n",
      "         ...,\n",
      "         [2.9442e+01, 2.3916e-01, 1.1939e+00],\n",
      "         [2.1303e+01, 2.2374e-01, 1.2286e+00],\n",
      "         [1.1498e+01, 1.6593e-01, 6.6575e-01]]], grad_fn=<CatBackward>)\n"
     ]
    },
    {
     "name": "stderr",
     "output_type": "stream",
     "text": [
      "\n",
      "Train Diffusion:  53%|█████▎    | 1051/2000 [31:15<27:31,  1.74s/it]\u001b[A\n",
      "Train Diffusion:  53%|█████▎    | 1052/2000 [31:17<27:26,  1.74s/it]\u001b[A\n",
      "Train Diffusion:  53%|█████▎    | 1053/2000 [31:18<27:30,  1.74s/it]\u001b[A\n",
      "Train Diffusion:  53%|█████▎    | 1054/2000 [31:20<27:31,  1.75s/it]\u001b[A\n",
      "Train Diffusion:  53%|█████▎    | 1055/2000 [31:22<27:27,  1.74s/it]\u001b[A\n",
      "Train Diffusion:  53%|█████▎    | 1056/2000 [31:24<27:21,  1.74s/it]\u001b[A\n",
      "Train Diffusion:  53%|█████▎    | 1057/2000 [31:25<27:18,  1.74s/it]\u001b[A\n",
      "Train Diffusion:  53%|█████▎    | 1058/2000 [31:27<27:15,  1.74s/it]\u001b[A\n",
      "Train Diffusion:  53%|█████▎    | 1059/2000 [31:29<27:14,  1.74s/it]\u001b[A\n",
      "Train Diffusion:  53%|█████▎    | 1060/2000 [31:31<27:21,  1.75s/it]\u001b[A"
     ]
    },
    {
     "name": "stdout",
     "output_type": "stream",
     "text": [
      "Moving average ELBO loss at 1060 iterations is: -571941.575. Best ELBO loss value is: -580081.875.\n",
      "\n",
      "C_path mean = tensor([[36.0898,  0.1484,  0.7226]], grad_fn=<MeanBackward1>)\n",
      "\n",
      " C_path = tensor([[[45.6603,  0.0715,  0.7147],\n",
      "         [35.5142,  0.1207,  0.3014],\n",
      "         [49.4701,  0.0888,  0.3570],\n",
      "         ...,\n",
      "         [28.1586,  0.2510,  1.3309],\n",
      "         [20.0967,  0.2343,  1.2967],\n",
      "         [12.0936,  0.1504,  0.7945]]], grad_fn=<CatBackward>)\n"
     ]
    },
    {
     "name": "stderr",
     "output_type": "stream",
     "text": [
      "\n",
      "Train Diffusion:  53%|█████▎    | 1061/2000 [31:32<27:21,  1.75s/it]\u001b[A\n",
      "Train Diffusion:  53%|█████▎    | 1062/2000 [31:34<27:35,  1.76s/it]\u001b[A\n",
      "Train Diffusion:  53%|█████▎    | 1063/2000 [31:36<27:29,  1.76s/it]\u001b[A\n",
      "Train Diffusion:  53%|█████▎    | 1064/2000 [31:38<27:22,  1.76s/it]\u001b[A\n",
      "Train Diffusion:  53%|█████▎    | 1065/2000 [31:39<27:20,  1.75s/it]\u001b[A\n",
      "Train Diffusion:  53%|█████▎    | 1066/2000 [31:41<27:13,  1.75s/it]\u001b[A\n",
      "Train Diffusion:  53%|█████▎    | 1067/2000 [31:43<27:12,  1.75s/it]\u001b[A\n",
      "Train Diffusion:  53%|█████▎    | 1068/2000 [31:45<27:05,  1.74s/it]\u001b[A\n",
      "Train Diffusion:  53%|█████▎    | 1069/2000 [31:46<27:00,  1.74s/it]\u001b[A\n",
      "Train Diffusion:  54%|█████▎    | 1070/2000 [31:48<26:59,  1.74s/it]\u001b[A"
     ]
    },
    {
     "name": "stdout",
     "output_type": "stream",
     "text": [
      "Moving average ELBO loss at 1070 iterations is: -589810.08125. Best ELBO loss value is: -596562.6875.\n",
      "\n",
      "C_path mean = tensor([[36.5925,  0.1153,  0.6757]], grad_fn=<MeanBackward1>)\n",
      "\n",
      " C_path = tensor([[[45.6603,  0.0715,  0.7147],\n",
      "         [38.2456,  0.1671,  0.2468],\n",
      "         [47.8942,  0.0934,  0.2626],\n",
      "         ...,\n",
      "         [28.6759,  0.2066,  1.1227],\n",
      "         [20.9656,  0.1587,  1.1728],\n",
      "         [13.4796,  0.0929,  0.7331]]], grad_fn=<CatBackward>)\n"
     ]
    },
    {
     "name": "stderr",
     "output_type": "stream",
     "text": [
      "\n",
      "Train Diffusion:  54%|█████▎    | 1071/2000 [31:50<26:56,  1.74s/it]\u001b[A\n",
      "Train Diffusion:  54%|█████▎    | 1072/2000 [31:51<26:54,  1.74s/it]\u001b[A\n",
      "Train Diffusion:  54%|█████▎    | 1073/2000 [31:53<26:51,  1.74s/it]\u001b[A\n",
      "Train Diffusion:  54%|█████▎    | 1074/2000 [31:55<26:47,  1.74s/it]\u001b[A\n",
      "Train Diffusion:  54%|█████▍    | 1075/2000 [31:57<26:46,  1.74s/it]\u001b[A\n",
      "Train Diffusion:  54%|█████▍    | 1076/2000 [31:58<26:48,  1.74s/it]\u001b[A\n",
      "Train Diffusion:  54%|█████▍    | 1077/2000 [32:00<26:46,  1.74s/it]\u001b[A\n",
      "Train Diffusion:  54%|█████▍    | 1078/2000 [32:02<26:49,  1.75s/it]\u001b[A\n",
      "Train Diffusion:  54%|█████▍    | 1079/2000 [32:04<26:44,  1.74s/it]\u001b[A\n",
      "Train Diffusion:  54%|█████▍    | 1080/2000 [32:05<27:08,  1.77s/it]\u001b[A"
     ]
    },
    {
     "name": "stdout",
     "output_type": "stream",
     "text": [
      "Moving average ELBO loss at 1080 iterations is: -605014.45. Best ELBO loss value is: -611632.875.\n",
      "\n",
      "C_path mean = tensor([[36.4391,  0.1787,  0.6942]], grad_fn=<MeanBackward1>)\n",
      "\n",
      " C_path = tensor([[[45.6603,  0.0715,  0.7147],\n",
      "         [39.0773,  0.2602,  0.2769],\n",
      "         [47.3583,  0.1743,  0.2982],\n",
      "         ...,\n",
      "         [28.5873,  0.1902,  1.1213],\n",
      "         [21.4251,  0.1472,  1.1668],\n",
      "         [14.5174,  0.0846,  0.6715]]], grad_fn=<CatBackward>)\n"
     ]
    },
    {
     "name": "stderr",
     "output_type": "stream",
     "text": [
      "\n",
      "Train Diffusion:  54%|█████▍    | 1081/2000 [32:07<27:36,  1.80s/it]\u001b[A\n",
      "Train Diffusion:  54%|█████▍    | 1082/2000 [32:09<27:23,  1.79s/it]\u001b[A\n",
      "Train Diffusion:  54%|█████▍    | 1083/2000 [32:11<27:13,  1.78s/it]\u001b[A\n",
      "Train Diffusion:  54%|█████▍    | 1084/2000 [32:13<27:12,  1.78s/it]\u001b[A\n",
      "Train Diffusion:  54%|█████▍    | 1085/2000 [32:14<27:00,  1.77s/it]\u001b[A\n",
      "Train Diffusion:  54%|█████▍    | 1086/2000 [32:16<26:57,  1.77s/it]\u001b[A\n",
      "Train Diffusion:  54%|█████▍    | 1087/2000 [32:18<26:53,  1.77s/it]\u001b[A\n",
      "Train Diffusion:  54%|█████▍    | 1088/2000 [32:20<26:53,  1.77s/it]\u001b[A\n",
      "Train Diffusion:  54%|█████▍    | 1089/2000 [32:21<26:49,  1.77s/it]\u001b[A\n",
      "Train Diffusion:  55%|█████▍    | 1090/2000 [32:23<26:46,  1.77s/it]\u001b[A"
     ]
    },
    {
     "name": "stdout",
     "output_type": "stream",
     "text": [
      "Moving average ELBO loss at 1090 iterations is: -619489.675. Best ELBO loss value is: -625861.25.\n",
      "\n",
      "C_path mean = tensor([[36.2586,  0.3036,  0.7252]], grad_fn=<MeanBackward1>)\n",
      "\n",
      " C_path = tensor([[[45.6603,  0.0715,  0.7147],\n",
      "         [41.9517,  0.4732,  0.3257],\n",
      "         [46.2149,  0.3733,  0.2628],\n",
      "         ...,\n",
      "         [28.7636,  0.1884,  1.1143],\n",
      "         [22.1670,  0.1417,  1.1732],\n",
      "         [15.7385,  0.0823,  0.7415]]], grad_fn=<CatBackward>)\n"
     ]
    },
    {
     "name": "stderr",
     "output_type": "stream",
     "text": [
      "\n",
      "Train Diffusion:  55%|█████▍    | 1091/2000 [32:25<26:47,  1.77s/it]\u001b[A\n",
      "Train Diffusion:  55%|█████▍    | 1092/2000 [32:27<26:45,  1.77s/it]\u001b[A\n",
      "Train Diffusion:  55%|█████▍    | 1093/2000 [32:29<26:40,  1.76s/it]\u001b[A\n",
      "Train Diffusion:  55%|█████▍    | 1094/2000 [32:30<26:38,  1.76s/it]\u001b[A\n",
      "Train Diffusion:  55%|█████▍    | 1095/2000 [32:32<26:35,  1.76s/it]\u001b[A\n",
      "Train Diffusion:  55%|█████▍    | 1096/2000 [32:34<26:32,  1.76s/it]\u001b[A\n",
      "Train Diffusion:  55%|█████▍    | 1097/2000 [32:36<26:31,  1.76s/it]\u001b[A\n",
      "Train Diffusion:  55%|█████▍    | 1098/2000 [32:37<26:28,  1.76s/it]\u001b[A\n",
      "Train Diffusion:  55%|█████▍    | 1099/2000 [32:39<26:28,  1.76s/it]\u001b[A\n",
      "Train Diffusion:  55%|█████▌    | 1100/2000 [32:41<26:24,  1.76s/it]\u001b[A"
     ]
    },
    {
     "name": "stdout",
     "output_type": "stream",
     "text": [
      "Moving average ELBO loss at 1100 iterations is: -633677.7. Best ELBO loss value is: -637543.625.\n",
      "\n",
      "C_path mean = tensor([[35.9721,  0.2753,  1.0970]], grad_fn=<MeanBackward1>)\n",
      "\n",
      " C_path = tensor([[[45.6603,  0.0715,  0.7147],\n",
      "         [39.9481,  0.0867,  0.5770],\n",
      "         [42.6902,  0.0745,  0.4108],\n",
      "         ...,\n",
      "         [28.0214,  0.2985,  1.6803],\n",
      "         [21.5578,  0.2508,  1.6394],\n",
      "         [15.5923,  0.1753,  1.1016]]], grad_fn=<CatBackward>)\n"
     ]
    },
    {
     "name": "stderr",
     "output_type": "stream",
     "text": [
      "\n",
      "Train Diffusion:  55%|█████▌    | 1101/2000 [32:43<26:25,  1.76s/it]\u001b[A\n",
      "Train Diffusion:  55%|█████▌    | 1102/2000 [32:44<26:28,  1.77s/it]\u001b[A\n",
      "Train Diffusion:  55%|█████▌    | 1103/2000 [32:46<26:25,  1.77s/it]\u001b[A\n",
      "Train Diffusion:  55%|█████▌    | 1104/2000 [32:48<26:22,  1.77s/it]\u001b[A\n",
      "Train Diffusion:  55%|█████▌    | 1105/2000 [32:50<26:20,  1.77s/it]\u001b[A\n",
      "Train Diffusion:  55%|█████▌    | 1106/2000 [32:51<26:15,  1.76s/it]\u001b[A\n",
      "Train Diffusion:  55%|█████▌    | 1107/2000 [32:53<26:16,  1.77s/it]\u001b[A\n",
      "Train Diffusion:  55%|█████▌    | 1108/2000 [32:55<26:14,  1.76s/it]\u001b[A\n",
      "Train Diffusion:  55%|█████▌    | 1109/2000 [32:57<26:13,  1.77s/it]\u001b[A\n",
      "Train Diffusion:  56%|█████▌    | 1110/2000 [32:59<26:13,  1.77s/it]\u001b[A"
     ]
    },
    {
     "name": "stdout",
     "output_type": "stream",
     "text": [
      "Moving average ELBO loss at 1110 iterations is: -641500.03125. Best ELBO loss value is: -646489.9375.\n",
      "\n",
      "C_path mean = tensor([[36.2436,  0.2603,  1.0773]], grad_fn=<MeanBackward1>)\n",
      "\n",
      " C_path = tensor([[[4.5660e+01, 7.1469e-02, 7.1469e-01],\n",
      "         [4.0527e+01, 7.4307e-02, 5.9701e-01],\n",
      "         [4.2832e+01, 3.9837e-02, 5.2193e-01],\n",
      "         ...,\n",
      "         [2.8274e+01, 2.5560e-01, 1.5302e+00],\n",
      "         [2.2054e+01, 2.0996e-01, 1.4839e+00],\n",
      "         [1.5895e+01, 1.3834e-01, 9.0734e-01]]], grad_fn=<CatBackward>)\n"
     ]
    },
    {
     "name": "stderr",
     "output_type": "stream",
     "text": [
      "\n",
      "Train Diffusion:  56%|█████▌    | 1111/2000 [33:00<26:07,  1.76s/it]\u001b[A\n",
      "Train Diffusion:  56%|█████▌    | 1112/2000 [33:02<25:59,  1.76s/it]\u001b[A\n",
      "Train Diffusion:  56%|█████▌    | 1113/2000 [33:04<25:54,  1.75s/it]\u001b[A\n",
      "Train Diffusion:  56%|█████▌    | 1114/2000 [33:06<25:51,  1.75s/it]\u001b[A\n",
      "Train Diffusion:  56%|█████▌    | 1115/2000 [33:07<25:47,  1.75s/it]\u001b[A\n",
      "Train Diffusion:  56%|█████▌    | 1116/2000 [33:09<25:44,  1.75s/it]\u001b[A\n",
      "Train Diffusion:  56%|█████▌    | 1117/2000 [33:11<25:43,  1.75s/it]\u001b[A\n",
      "Train Diffusion:  56%|█████▌    | 1118/2000 [33:13<25:46,  1.75s/it]\u001b[A\n",
      "Train Diffusion:  56%|█████▌    | 1119/2000 [33:14<25:51,  1.76s/it]\u001b[A\n",
      "Train Diffusion:  56%|█████▌    | 1120/2000 [33:16<25:44,  1.76s/it]\u001b[A"
     ]
    },
    {
     "name": "stdout",
     "output_type": "stream",
     "text": [
      "Moving average ELBO loss at 1120 iterations is: -649497.48125. Best ELBO loss value is: -651413.375.\n",
      "\n",
      "C_path mean = tensor([[35.9201,  0.3536,  1.1671]], grad_fn=<MeanBackward1>)\n",
      "\n",
      " C_path = tensor([[[4.5660e+01, 7.1469e-02, 7.1469e-01],\n",
      "         [4.2518e+01, 9.4172e-02, 7.4234e-01],\n",
      "         [4.3266e+01, 4.4757e-02, 6.4003e-01],\n",
      "         ...,\n",
      "         [2.7216e+01, 3.0133e-01, 1.5306e+00],\n",
      "         [2.1599e+01, 2.7077e-01, 1.4176e+00],\n",
      "         [1.6083e+01, 1.9118e-01, 1.0105e+00]]], grad_fn=<CatBackward>)\n"
     ]
    },
    {
     "name": "stderr",
     "output_type": "stream",
     "text": [
      "\n",
      "Train Diffusion:  56%|█████▌    | 1121/2000 [33:18<25:47,  1.76s/it]\u001b[A\n",
      "Train Diffusion:  56%|█████▌    | 1122/2000 [33:20<25:39,  1.75s/it]\u001b[A\n",
      "Train Diffusion:  56%|█████▌    | 1123/2000 [33:21<25:47,  1.76s/it]\u001b[A\n",
      "Train Diffusion:  56%|█████▌    | 1124/2000 [33:23<25:44,  1.76s/it]\u001b[A\n",
      "Train Diffusion:  56%|█████▋    | 1125/2000 [33:25<26:05,  1.79s/it]\u001b[A\n",
      "Train Diffusion:  56%|█████▋    | 1126/2000 [33:27<25:53,  1.78s/it]\u001b[A\n",
      "Train Diffusion:  56%|█████▋    | 1127/2000 [33:28<25:46,  1.77s/it]\u001b[A\n",
      "Train Diffusion:  56%|█████▋    | 1128/2000 [33:30<25:42,  1.77s/it]\u001b[A\n",
      "Train Diffusion:  56%|█████▋    | 1129/2000 [33:32<25:38,  1.77s/it]\u001b[A\n",
      "Train Diffusion:  56%|█████▋    | 1130/2000 [33:34<25:36,  1.77s/it]\u001b[A"
     ]
    },
    {
     "name": "stdout",
     "output_type": "stream",
     "text": [
      "Moving average ELBO loss at 1130 iterations is: -656897.10625. Best ELBO loss value is: -660785.6875.\n",
      "\n",
      "C_path mean = tensor([[36.6384,  0.3404,  1.0367]], grad_fn=<MeanBackward1>)\n",
      "\n",
      " C_path = tensor([[[45.6603,  0.0715,  0.7147],\n",
      "         [42.8638,  0.1821,  0.4936],\n",
      "         [44.8869,  0.0827,  0.3812],\n",
      "         ...,\n",
      "         [28.5098,  0.1631,  1.2864],\n",
      "         [22.6604,  0.1408,  1.1964],\n",
      "         [16.6816,  0.0825,  0.6606]]], grad_fn=<CatBackward>)\n"
     ]
    },
    {
     "name": "stderr",
     "output_type": "stream",
     "text": [
      "\n",
      "Train Diffusion:  57%|█████▋    | 1131/2000 [33:36<25:45,  1.78s/it]\u001b[A\n",
      "Train Diffusion:  57%|█████▋    | 1132/2000 [33:37<25:50,  1.79s/it]\u001b[A\n",
      "Train Diffusion:  57%|█████▋    | 1133/2000 [33:39<25:46,  1.78s/it]\u001b[A\n",
      "Train Diffusion:  57%|█████▋    | 1134/2000 [33:41<25:41,  1.78s/it]\u001b[A\n",
      "Train Diffusion:  57%|█████▋    | 1135/2000 [33:43<25:43,  1.78s/it]\u001b[A\n",
      "Train Diffusion:  57%|█████▋    | 1136/2000 [33:44<25:39,  1.78s/it]\u001b[A\n",
      "Train Diffusion:  57%|█████▋    | 1137/2000 [33:46<25:33,  1.78s/it]\u001b[A\n",
      "Train Diffusion:  57%|█████▋    | 1138/2000 [33:48<25:28,  1.77s/it]\u001b[A\n",
      "Train Diffusion:  57%|█████▋    | 1139/2000 [33:50<25:29,  1.78s/it]\u001b[A\n",
      "Train Diffusion:  57%|█████▋    | 1140/2000 [33:52<25:26,  1.77s/it]\u001b[A"
     ]
    },
    {
     "name": "stdout",
     "output_type": "stream",
     "text": [
      "Moving average ELBO loss at 1140 iterations is: -667533.375. Best ELBO loss value is: -673067.875.\n",
      "\n",
      "C_path mean = tensor([[36.7670,  0.3984,  1.2698]], grad_fn=<MeanBackward1>)\n",
      "\n",
      " C_path = tensor([[[45.6603,  0.0715,  0.7147],\n",
      "         [46.8871,  0.1545,  0.6012],\n",
      "         [45.2935,  0.0798,  0.4116],\n",
      "         ...,\n",
      "         [28.2579,  0.1942,  1.4226],\n",
      "         [22.7938,  0.1722,  1.2900],\n",
      "         [17.9039,  0.1026,  0.7580]]], grad_fn=<CatBackward>)\n"
     ]
    },
    {
     "name": "stderr",
     "output_type": "stream",
     "text": [
      "\n",
      "Train Diffusion:  57%|█████▋    | 1141/2000 [33:53<25:25,  1.78s/it]\u001b[A\n",
      "Train Diffusion:  57%|█████▋    | 1142/2000 [33:55<25:25,  1.78s/it]\u001b[A\n",
      "Train Diffusion:  57%|█████▋    | 1143/2000 [33:57<25:24,  1.78s/it]\u001b[A\n",
      "Train Diffusion:  57%|█████▋    | 1144/2000 [33:59<25:26,  1.78s/it]\u001b[A\n",
      "Train Diffusion:  57%|█████▋    | 1145/2000 [34:01<25:23,  1.78s/it]\u001b[A\n",
      "Train Diffusion:  57%|█████▋    | 1146/2000 [34:02<25:20,  1.78s/it]\u001b[A\n",
      "Train Diffusion:  57%|█████▋    | 1147/2000 [34:04<25:21,  1.78s/it]\u001b[A\n",
      "Train Diffusion:  57%|█████▋    | 1148/2000 [34:06<25:15,  1.78s/it]\u001b[A\n",
      "Train Diffusion:  57%|█████▋    | 1149/2000 [34:08<25:12,  1.78s/it]\u001b[A\n",
      "Train Diffusion:  57%|█████▊    | 1150/2000 [34:09<25:10,  1.78s/it]\u001b[A"
     ]
    },
    {
     "name": "stdout",
     "output_type": "stream",
     "text": [
      "Moving average ELBO loss at 1150 iterations is: -679014.08125. Best ELBO loss value is: -683575.375.\n",
      "\n",
      "C_path mean = tensor([[37.2608,  0.3689,  1.4630]], grad_fn=<MeanBackward1>)\n",
      "\n",
      " C_path = tensor([[[45.6603,  0.0715,  0.7147],\n",
      "         [44.3524,  0.0881,  0.5825],\n",
      "         [43.7918,  0.0625,  0.3424],\n",
      "         ...,\n",
      "         [28.8610,  0.1844,  1.5182],\n",
      "         [23.5938,  0.1464,  1.3120],\n",
      "         [19.2017,  0.0920,  0.7310]]], grad_fn=<CatBackward>)\n"
     ]
    },
    {
     "name": "stderr",
     "output_type": "stream",
     "text": [
      "\n",
      "Train Diffusion:  58%|█████▊    | 1151/2000 [34:11<25:09,  1.78s/it]\u001b[A\n",
      "Train Diffusion:  58%|█████▊    | 1152/2000 [34:13<25:01,  1.77s/it]\u001b[A\n",
      "Train Diffusion:  58%|█████▊    | 1153/2000 [34:15<25:04,  1.78s/it]\u001b[A\n",
      "Train Diffusion:  58%|█████▊    | 1154/2000 [34:17<25:08,  1.78s/it]\u001b[A\n",
      "Train Diffusion:  58%|█████▊    | 1155/2000 [34:18<25:01,  1.78s/it]\u001b[A\n",
      "Train Diffusion:  58%|█████▊    | 1156/2000 [34:20<24:52,  1.77s/it]\u001b[A\n",
      "Train Diffusion:  58%|█████▊    | 1157/2000 [34:22<24:51,  1.77s/it]\u001b[A\n",
      "Train Diffusion:  58%|█████▊    | 1158/2000 [34:24<24:48,  1.77s/it]\u001b[A\n",
      "Train Diffusion:  58%|█████▊    | 1159/2000 [34:25<24:47,  1.77s/it]\u001b[A\n",
      "Train Diffusion:  58%|█████▊    | 1160/2000 [34:27<24:43,  1.77s/it]\u001b[A"
     ]
    },
    {
     "name": "stdout",
     "output_type": "stream",
     "text": [
      "Moving average ELBO loss at 1160 iterations is: -687816.61875. Best ELBO loss value is: -690973.0.\n",
      "\n",
      "C_path mean = tensor([[37.4671,  0.4852,  1.3964]], grad_fn=<MeanBackward1>)\n",
      "\n",
      " C_path = tensor([[[45.6603,  0.0715,  0.7147],\n",
      "         [45.3115,  0.1813,  0.5132],\n",
      "         [44.9696,  0.1427,  0.3277],\n",
      "         ...,\n",
      "         [29.1194,  0.1760,  1.2081],\n",
      "         [24.2972,  0.1465,  0.9998],\n",
      "         [20.1759,  0.0835,  0.5844]]], grad_fn=<CatBackward>)\n"
     ]
    },
    {
     "name": "stderr",
     "output_type": "stream",
     "text": [
      "\n",
      "Train Diffusion:  58%|█████▊    | 1161/2000 [34:29<24:45,  1.77s/it]\u001b[A\n",
      "Train Diffusion:  58%|█████▊    | 1162/2000 [34:31<24:37,  1.76s/it]\u001b[A\n",
      "Train Diffusion:  58%|█████▊    | 1163/2000 [34:32<24:37,  1.76s/it]\u001b[A\n",
      "Train Diffusion:  58%|█████▊    | 1164/2000 [34:34<24:38,  1.77s/it]\u001b[A\n",
      "Train Diffusion:  58%|█████▊    | 1165/2000 [34:36<24:38,  1.77s/it]\u001b[A\n",
      "Train Diffusion:  58%|█████▊    | 1166/2000 [34:38<24:34,  1.77s/it]\u001b[A\n",
      "Train Diffusion:  58%|█████▊    | 1167/2000 [34:39<24:32,  1.77s/it]\u001b[A\n",
      "Train Diffusion:  58%|█████▊    | 1168/2000 [34:41<24:29,  1.77s/it]\u001b[A\n",
      "Train Diffusion:  58%|█████▊    | 1169/2000 [34:43<24:26,  1.77s/it]\u001b[A\n",
      "Train Diffusion:  58%|█████▊    | 1170/2000 [34:45<24:31,  1.77s/it]\u001b[A"
     ]
    },
    {
     "name": "stdout",
     "output_type": "stream",
     "text": [
      "Moving average ELBO loss at 1170 iterations is: -694926.21875. Best ELBO loss value is: -697759.1875.\n",
      "\n",
      "C_path mean = tensor([[37.6237,  0.4877,  1.5124]], grad_fn=<MeanBackward1>)\n",
      "\n",
      " C_path = tensor([[[45.6603,  0.0715,  0.7147],\n",
      "         [48.1775,  0.1393,  0.4854],\n",
      "         [46.3326,  0.1186,  0.3920],\n",
      "         ...,\n",
      "         [29.0450,  0.2089,  1.1816],\n",
      "         [24.4697,  0.1698,  1.0375],\n",
      "         [20.9685,  0.0945,  0.6918]]], grad_fn=<CatBackward>)\n"
     ]
    },
    {
     "name": "stderr",
     "output_type": "stream",
     "text": [
      "\n",
      "Train Diffusion:  59%|█████▊    | 1171/2000 [34:47<24:31,  1.78s/it]\u001b[A\n",
      "Train Diffusion:  59%|█████▊    | 1172/2000 [34:48<24:27,  1.77s/it]\u001b[A\n",
      "Train Diffusion:  59%|█████▊    | 1173/2000 [34:50<24:28,  1.78s/it]\u001b[A\n",
      "Train Diffusion:  59%|█████▊    | 1174/2000 [34:52<24:25,  1.77s/it]\u001b[A\n",
      "Train Diffusion:  59%|█████▉    | 1175/2000 [34:54<24:24,  1.78s/it]\u001b[A\n",
      "Train Diffusion:  59%|█████▉    | 1176/2000 [34:55<24:19,  1.77s/it]\u001b[A\n",
      "Train Diffusion:  59%|█████▉    | 1177/2000 [34:57<24:15,  1.77s/it]\u001b[A\n",
      "Train Diffusion:  59%|█████▉    | 1178/2000 [34:59<24:16,  1.77s/it]\u001b[A\n",
      "Train Diffusion:  59%|█████▉    | 1179/2000 [35:01<24:12,  1.77s/it]\u001b[A\n",
      "Train Diffusion:  59%|█████▉    | 1180/2000 [35:02<24:10,  1.77s/it]\u001b[A"
     ]
    },
    {
     "name": "stdout",
     "output_type": "stream",
     "text": [
      "Moving average ELBO loss at 1180 iterations is: -701196.1125. Best ELBO loss value is: -704038.4375.\n",
      "\n",
      "C_path mean = tensor([[37.9894,  0.4856,  1.5560]], grad_fn=<MeanBackward1>)\n",
      "\n",
      " C_path = tensor([[[45.6603,  0.0715,  0.7147],\n",
      "         [46.7489,  0.1575,  0.5245],\n",
      "         [46.2718,  0.1570,  0.3922],\n",
      "         ...,\n",
      "         [29.3186,  0.2560,  1.1320],\n",
      "         [25.0585,  0.1902,  0.9947],\n",
      "         [22.1357,  0.0939,  0.7001]]], grad_fn=<CatBackward>)\n"
     ]
    },
    {
     "name": "stderr",
     "output_type": "stream",
     "text": [
      "\n",
      "Train Diffusion:  59%|█████▉    | 1181/2000 [35:04<24:15,  1.78s/it]\u001b[A\n",
      "Train Diffusion:  59%|█████▉    | 1182/2000 [35:06<24:10,  1.77s/it]\u001b[A\n",
      "Train Diffusion:  59%|█████▉    | 1183/2000 [35:08<24:06,  1.77s/it]\u001b[A\n",
      "Train Diffusion:  59%|█████▉    | 1184/2000 [35:10<24:04,  1.77s/it]\u001b[A\n",
      "Train Diffusion:  59%|█████▉    | 1185/2000 [35:11<24:05,  1.77s/it]\u001b[A\n",
      "Train Diffusion:  59%|█████▉    | 1186/2000 [35:13<24:05,  1.78s/it]\u001b[A\n",
      "Train Diffusion:  59%|█████▉    | 1187/2000 [35:15<24:05,  1.78s/it]\u001b[A\n",
      "Train Diffusion:  59%|█████▉    | 1188/2000 [35:17<24:02,  1.78s/it]\u001b[A\n",
      "Train Diffusion:  59%|█████▉    | 1189/2000 [35:18<24:00,  1.78s/it]\u001b[A\n",
      "Train Diffusion:  60%|█████▉    | 1190/2000 [35:20<23:55,  1.77s/it]\u001b[A"
     ]
    },
    {
     "name": "stdout",
     "output_type": "stream",
     "text": [
      "Moving average ELBO loss at 1190 iterations is: -708544.1. Best ELBO loss value is: -711972.625.\n",
      "\n",
      "C_path mean = tensor([[38.6255,  0.3963,  1.6267]], grad_fn=<MeanBackward1>)\n",
      "\n",
      " C_path = tensor([[[45.6603,  0.0715,  0.7147],\n",
      "         [44.4787,  0.0743,  0.5739],\n",
      "         [45.0082,  0.0520,  0.3471],\n",
      "         ...,\n",
      "         [29.6871,  0.2628,  1.0477],\n",
      "         [25.8549,  0.1770,  0.8993],\n",
      "         [23.5680,  0.0897,  0.6266]]], grad_fn=<CatBackward>)\n"
     ]
    },
    {
     "name": "stderr",
     "output_type": "stream",
     "text": [
      "\n",
      "Train Diffusion:  60%|█████▉    | 1191/2000 [35:22<23:57,  1.78s/it]\u001b[A\n",
      "Train Diffusion:  60%|█████▉    | 1192/2000 [35:24<23:56,  1.78s/it]\u001b[A\n",
      "Train Diffusion:  60%|█████▉    | 1193/2000 [35:26<23:51,  1.77s/it]\u001b[A\n",
      "Train Diffusion:  60%|█████▉    | 1194/2000 [35:27<23:47,  1.77s/it]\u001b[A\n",
      "Train Diffusion:  60%|█████▉    | 1195/2000 [35:29<23:44,  1.77s/it]\u001b[A\n",
      "Train Diffusion:  60%|█████▉    | 1196/2000 [35:31<23:41,  1.77s/it]\u001b[A\n",
      "Train Diffusion:  60%|█████▉    | 1197/2000 [35:33<23:37,  1.77s/it]\u001b[A\n",
      "Train Diffusion:  60%|█████▉    | 1198/2000 [35:34<23:38,  1.77s/it]\u001b[A\n",
      "Train Diffusion:  60%|█████▉    | 1199/2000 [35:36<23:47,  1.78s/it]\u001b[A\n",
      "Train Diffusion:  60%|██████    | 1200/2000 [35:38<23:41,  1.78s/it]\u001b[A"
     ]
    },
    {
     "name": "stdout",
     "output_type": "stream",
     "text": [
      "Moving average ELBO loss at 1200 iterations is: -716337.25625. Best ELBO loss value is: -719761.8125.\n",
      "\n",
      "C_path mean = tensor([[39.0393,  0.4636,  1.6601]], grad_fn=<MeanBackward1>)\n",
      "\n",
      " C_path = tensor([[[45.6603,  0.0715,  0.7147],\n",
      "         [47.5067,  0.1235,  0.5829],\n",
      "         [46.2623,  0.1127,  0.4107],\n",
      "         ...,\n",
      "         [30.1506,  0.2599,  1.0110],\n",
      "         [27.2206,  0.1895,  0.8637],\n",
      "         [25.9585,  0.0966,  0.7233]]], grad_fn=<CatBackward>)\n"
     ]
    },
    {
     "name": "stderr",
     "output_type": "stream",
     "text": [
      "\n",
      "Train Diffusion:  60%|██████    | 1201/2000 [35:40<23:38,  1.77s/it]\u001b[A\n",
      "Train Diffusion:  60%|██████    | 1202/2000 [35:42<23:35,  1.77s/it]\u001b[A\n",
      "Train Diffusion:  60%|██████    | 1203/2000 [35:43<23:34,  1.77s/it]\u001b[A\n",
      "Train Diffusion:  60%|██████    | 1204/2000 [35:45<23:30,  1.77s/it]\u001b[A\n",
      "Train Diffusion:  60%|██████    | 1205/2000 [35:47<23:24,  1.77s/it]\u001b[A\n",
      "Train Diffusion:  60%|██████    | 1206/2000 [35:49<23:23,  1.77s/it]\u001b[A\n",
      "Train Diffusion:  60%|██████    | 1207/2000 [35:50<23:21,  1.77s/it]\u001b[A\n",
      "Train Diffusion:  60%|██████    | 1208/2000 [35:52<23:19,  1.77s/it]\u001b[A\n",
      "Train Diffusion:  60%|██████    | 1209/2000 [35:54<23:16,  1.77s/it]\u001b[A\n",
      "Train Diffusion:  60%|██████    | 1210/2000 [35:56<23:14,  1.77s/it]\u001b[A"
     ]
    },
    {
     "name": "stdout",
     "output_type": "stream",
     "text": [
      "Moving average ELBO loss at 1210 iterations is: -722819.7875. Best ELBO loss value is: -725224.1875.\n",
      "\n",
      "C_path mean = tensor([[39.4960,  0.4357,  1.7239]], grad_fn=<MeanBackward1>)\n",
      "\n",
      " C_path = tensor([[[45.6603,  0.0715,  0.7147],\n",
      "         [45.5115,  0.0848,  0.5719],\n",
      "         [45.4666,  0.0490,  0.4334],\n",
      "         ...,\n",
      "         [30.1048,  0.2659,  0.9882],\n",
      "         [27.6499,  0.2011,  0.8689],\n",
      "         [27.3337,  0.1048,  0.7178]]], grad_fn=<CatBackward>)\n"
     ]
    },
    {
     "name": "stderr",
     "output_type": "stream",
     "text": [
      "\n",
      "Train Diffusion:  61%|██████    | 1211/2000 [35:57<23:11,  1.76s/it]\u001b[A\n",
      "Train Diffusion:  61%|██████    | 1212/2000 [35:59<23:09,  1.76s/it]\u001b[A\n",
      "Train Diffusion:  61%|██████    | 1213/2000 [36:01<23:06,  1.76s/it]\u001b[A\n",
      "Train Diffusion:  61%|██████    | 1214/2000 [36:03<23:03,  1.76s/it]\u001b[A\n",
      "Train Diffusion:  61%|██████    | 1215/2000 [36:04<23:03,  1.76s/it]\u001b[A\n",
      "Train Diffusion:  61%|██████    | 1216/2000 [36:06<23:02,  1.76s/it]\u001b[A\n",
      "Train Diffusion:  61%|██████    | 1217/2000 [36:08<22:58,  1.76s/it]\u001b[A\n",
      "Train Diffusion:  61%|██████    | 1218/2000 [36:10<22:58,  1.76s/it]\u001b[A\n",
      "Train Diffusion:  61%|██████    | 1219/2000 [36:12<22:56,  1.76s/it]\u001b[A\n",
      "Train Diffusion:  61%|██████    | 1220/2000 [36:13<22:56,  1.77s/it]\u001b[A"
     ]
    },
    {
     "name": "stdout",
     "output_type": "stream",
     "text": [
      "Moving average ELBO loss at 1220 iterations is: -727760.4125. Best ELBO loss value is: -730166.4375.\n",
      "\n",
      "C_path mean = tensor([[39.9958,  0.4463,  1.7039]], grad_fn=<MeanBackward1>)\n",
      "\n",
      " C_path = tensor([[[45.6603,  0.0715,  0.7147],\n",
      "         [46.7225,  0.0546,  0.5398],\n",
      "         [45.2495,  0.0496,  0.3633],\n",
      "         ...,\n",
      "         [30.3710,  0.2569,  0.9764],\n",
      "         [28.2659,  0.1902,  0.8821],\n",
      "         [28.3798,  0.0975,  0.7300]]], grad_fn=<CatBackward>)\n"
     ]
    },
    {
     "name": "stderr",
     "output_type": "stream",
     "text": [
      "\n",
      "Train Diffusion:  61%|██████    | 1221/2000 [36:15<23:09,  1.78s/it]\u001b[A\n",
      "Train Diffusion:  61%|██████    | 1222/2000 [36:17<23:02,  1.78s/it]\u001b[A\n",
      "Train Diffusion:  61%|██████    | 1223/2000 [36:19<22:56,  1.77s/it]\u001b[A\n",
      "Train Diffusion:  61%|██████    | 1224/2000 [36:20<23:03,  1.78s/it]\u001b[A\n",
      "Train Diffusion:  61%|██████▏   | 1225/2000 [36:22<22:55,  1.77s/it]\u001b[A\n",
      "Train Diffusion:  61%|██████▏   | 1226/2000 [36:24<22:50,  1.77s/it]\u001b[A\n",
      "Train Diffusion:  61%|██████▏   | 1227/2000 [36:26<22:45,  1.77s/it]\u001b[A\n",
      "Train Diffusion:  61%|██████▏   | 1228/2000 [36:28<22:52,  1.78s/it]\u001b[A\n",
      "Train Diffusion:  61%|██████▏   | 1229/2000 [36:29<22:43,  1.77s/it]\u001b[A\n",
      "Train Diffusion:  62%|██████▏   | 1230/2000 [36:31<22:37,  1.76s/it]\u001b[A"
     ]
    },
    {
     "name": "stdout",
     "output_type": "stream",
     "text": [
      "Moving average ELBO loss at 1230 iterations is: -732606.93125. Best ELBO loss value is: -734793.8125.\n",
      "\n",
      "C_path mean = tensor([[40.4057,  0.4876,  1.6912]], grad_fn=<MeanBackward1>)\n",
      "\n",
      " C_path = tensor([[[45.6603,  0.0715,  0.7147],\n",
      "         [45.7431,  0.0940,  0.5609],\n",
      "         [45.9625,  0.0612,  0.4229],\n",
      "         ...,\n",
      "         [30.8326,  0.2666,  1.0073],\n",
      "         [29.1692,  0.2017,  0.8780],\n",
      "         [29.3899,  0.1022,  0.7154]]], grad_fn=<CatBackward>)\n"
     ]
    },
    {
     "name": "stderr",
     "output_type": "stream",
     "text": [
      "\n",
      "Train Diffusion:  62%|██████▏   | 1231/2000 [36:33<22:34,  1.76s/it]\u001b[A\n",
      "Train Diffusion:  62%|██████▏   | 1232/2000 [36:35<22:36,  1.77s/it]\u001b[A\n",
      "Train Diffusion:  62%|██████▏   | 1233/2000 [36:36<22:37,  1.77s/it]\u001b[A\n",
      "Train Diffusion:  62%|██████▏   | 1234/2000 [36:38<22:32,  1.77s/it]\u001b[A\n",
      "Train Diffusion:  62%|██████▏   | 1235/2000 [36:40<22:26,  1.76s/it]\u001b[A\n",
      "Train Diffusion:  62%|██████▏   | 1236/2000 [36:42<22:22,  1.76s/it]\u001b[A\n",
      "Train Diffusion:  62%|██████▏   | 1237/2000 [36:43<22:19,  1.76s/it]\u001b[A\n",
      "Train Diffusion:  62%|██████▏   | 1238/2000 [36:45<22:18,  1.76s/it]\u001b[A\n",
      "Train Diffusion:  62%|██████▏   | 1239/2000 [36:47<22:17,  1.76s/it]\u001b[A\n",
      "Train Diffusion:  62%|██████▏   | 1240/2000 [36:49<22:15,  1.76s/it]\u001b[A"
     ]
    },
    {
     "name": "stdout",
     "output_type": "stream",
     "text": [
      "Moving average ELBO loss at 1240 iterations is: -737442.9. Best ELBO loss value is: -739605.6875.\n",
      "\n",
      "C_path mean = tensor([[40.9230,  0.4611,  1.6853]], grad_fn=<MeanBackward1>)\n",
      "\n",
      " C_path = tensor([[[4.5660e+01, 7.1469e-02, 7.1469e-01],\n",
      "         [4.5149e+01, 6.5314e-02, 5.6394e-01],\n",
      "         [4.5787e+01, 3.9431e-02, 4.1276e-01],\n",
      "         ...,\n",
      "         [3.0957e+01, 2.4416e-01, 9.7146e-01],\n",
      "         [2.9628e+01, 1.9206e-01, 8.4922e-01],\n",
      "         [3.0235e+01, 1.0463e-01, 6.6128e-01]]], grad_fn=<CatBackward>)\n"
     ]
    },
    {
     "name": "stderr",
     "output_type": "stream",
     "text": [
      "\n",
      "Train Diffusion:  62%|██████▏   | 1241/2000 [36:50<22:16,  1.76s/it]\u001b[A\n",
      "Train Diffusion:  62%|██████▏   | 1242/2000 [36:52<22:13,  1.76s/it]\u001b[A\n",
      "Train Diffusion:  62%|██████▏   | 1243/2000 [36:54<22:12,  1.76s/it]\u001b[A\n",
      "Train Diffusion:  62%|██████▏   | 1244/2000 [36:56<22:16,  1.77s/it]\u001b[A\n",
      "Train Diffusion:  62%|██████▏   | 1245/2000 [36:57<22:10,  1.76s/it]\u001b[A\n",
      "Train Diffusion:  62%|██████▏   | 1246/2000 [36:59<22:09,  1.76s/it]\u001b[A\n",
      "Train Diffusion:  62%|██████▏   | 1247/2000 [37:01<22:05,  1.76s/it]\u001b[A\n",
      "Train Diffusion:  62%|██████▏   | 1248/2000 [37:03<22:07,  1.77s/it]\u001b[A\n",
      "Train Diffusion:  62%|██████▏   | 1249/2000 [37:04<22:04,  1.76s/it]\u001b[A\n",
      "Train Diffusion:  62%|██████▎   | 1250/2000 [37:06<22:01,  1.76s/it]\u001b[A"
     ]
    },
    {
     "name": "stdout",
     "output_type": "stream",
     "text": [
      "Moving average ELBO loss at 1250 iterations is: -741050.24375. Best ELBO loss value is: -742354.9375.\n",
      "\n",
      "C_path mean = tensor([[41.3789,  0.4306,  1.7834]], grad_fn=<MeanBackward1>)\n",
      "\n",
      " C_path = tensor([[[4.5660e+01, 7.1469e-02, 7.1469e-01],\n",
      "         [4.3719e+01, 4.0142e-02, 6.0934e-01],\n",
      "         [4.3909e+01, 2.8526e-02, 4.7606e-01],\n",
      "         ...,\n",
      "         [3.1956e+01, 3.0836e-01, 1.1317e+00],\n",
      "         [3.1210e+01, 2.3987e-01, 1.0285e+00],\n",
      "         [3.2101e+01, 1.1738e-01, 8.9102e-01]]], grad_fn=<CatBackward>)\n"
     ]
    },
    {
     "name": "stderr",
     "output_type": "stream",
     "text": [
      "\n",
      "Train Diffusion:  63%|██████▎   | 1251/2000 [37:08<21:57,  1.76s/it]\u001b[A\n",
      "Train Diffusion:  63%|██████▎   | 1252/2000 [37:10<21:52,  1.75s/it]\u001b[A\n",
      "Train Diffusion:  63%|██████▎   | 1253/2000 [37:11<21:51,  1.76s/it]\u001b[A\n",
      "Train Diffusion:  63%|██████▎   | 1254/2000 [37:13<21:47,  1.75s/it]\u001b[A\n",
      "Train Diffusion:  63%|██████▎   | 1255/2000 [37:15<21:46,  1.75s/it]\u001b[A\n",
      "Train Diffusion:  63%|██████▎   | 1256/2000 [37:17<21:43,  1.75s/it]\u001b[A\n",
      "Train Diffusion:  63%|██████▎   | 1257/2000 [37:18<21:41,  1.75s/it]\u001b[A\n",
      "Train Diffusion:  63%|██████▎   | 1258/2000 [37:20<21:40,  1.75s/it]\u001b[A\n",
      "Train Diffusion:  63%|██████▎   | 1259/2000 [37:22<21:38,  1.75s/it]\u001b[A\n",
      "Train Diffusion:  63%|██████▎   | 1260/2000 [37:24<21:37,  1.75s/it]\u001b[A"
     ]
    },
    {
     "name": "stdout",
     "output_type": "stream",
     "text": [
      "Moving average ELBO loss at 1260 iterations is: -744616.8875. Best ELBO loss value is: -745885.6875.\n",
      "\n",
      "C_path mean = tensor([[41.8541,  0.4059,  1.7528]], grad_fn=<MeanBackward1>)\n",
      "\n",
      " C_path = tensor([[[4.5660e+01, 7.1469e-02, 7.1469e-01],\n",
      "         [4.3884e+01, 1.5878e-02, 5.7578e-01],\n",
      "         [4.4055e+01, 1.5932e-02, 4.6453e-01],\n",
      "         ...,\n",
      "         [3.2706e+01, 2.7669e-01, 1.0232e+00],\n",
      "         [3.1940e+01, 2.1881e-01, 9.1837e-01],\n",
      "         [3.2554e+01, 1.1005e-01, 7.4319e-01]]], grad_fn=<CatBackward>)\n"
     ]
    },
    {
     "name": "stderr",
     "output_type": "stream",
     "text": [
      "\n",
      "Train Diffusion:  63%|██████▎   | 1261/2000 [37:26<21:36,  1.75s/it]\u001b[A\n",
      "Train Diffusion:  63%|██████▎   | 1262/2000 [37:27<21:37,  1.76s/it]\u001b[A\n",
      "Train Diffusion:  63%|██████▎   | 1263/2000 [37:29<21:33,  1.75s/it]\u001b[A\n",
      "Train Diffusion:  63%|██████▎   | 1264/2000 [37:31<21:30,  1.75s/it]\u001b[A\n",
      "Train Diffusion:  63%|██████▎   | 1265/2000 [37:33<21:28,  1.75s/it]\u001b[A\n",
      "Train Diffusion:  63%|██████▎   | 1266/2000 [37:34<21:26,  1.75s/it]\u001b[A\n",
      "Train Diffusion:  63%|██████▎   | 1267/2000 [37:36<21:31,  1.76s/it]\u001b[A\n",
      "Train Diffusion:  63%|██████▎   | 1268/2000 [37:38<21:22,  1.75s/it]\u001b[A\n",
      "Train Diffusion:  63%|██████▎   | 1269/2000 [37:40<21:16,  1.75s/it]\u001b[A\n",
      "Train Diffusion:  64%|██████▎   | 1270/2000 [37:41<21:12,  1.74s/it]\u001b[A"
     ]
    },
    {
     "name": "stdout",
     "output_type": "stream",
     "text": [
      "Moving average ELBO loss at 1270 iterations is: -748049.875. Best ELBO loss value is: -749514.375.\n",
      "\n",
      "C_path mean = tensor([[42.0333,  0.4878,  1.6855]], grad_fn=<MeanBackward1>)\n",
      "\n",
      " C_path = tensor([[[4.5660e+01, 7.1469e-02, 7.1469e-01],\n",
      "         [4.5494e+01, 4.3214e-02, 6.0398e-01],\n",
      "         [4.4614e+01, 3.5074e-02, 5.1021e-01],\n",
      "         ...,\n",
      "         [3.2961e+01, 2.8036e-01, 9.4814e-01],\n",
      "         [3.2470e+01, 2.1965e-01, 8.5902e-01],\n",
      "         [3.2937e+01, 9.8702e-02, 7.5001e-01]]], grad_fn=<CatBackward>)\n"
     ]
    },
    {
     "name": "stderr",
     "output_type": "stream",
     "text": [
      "\n",
      "Train Diffusion:  64%|██████▎   | 1271/2000 [37:43<21:09,  1.74s/it]\u001b[A\n",
      "Train Diffusion:  64%|██████▎   | 1272/2000 [37:45<21:05,  1.74s/it]\u001b[A\n",
      "Train Diffusion:  64%|██████▎   | 1273/2000 [37:46<21:01,  1.73s/it]\u001b[A\n",
      "Train Diffusion:  64%|██████▎   | 1274/2000 [37:48<20:57,  1.73s/it]\u001b[A\n",
      "Train Diffusion:  64%|██████▍   | 1275/2000 [37:50<20:53,  1.73s/it]\u001b[A\n",
      "Train Diffusion:  64%|██████▍   | 1276/2000 [37:52<20:50,  1.73s/it]\u001b[A\n",
      "Train Diffusion:  64%|██████▍   | 1277/2000 [37:53<20:49,  1.73s/it]\u001b[A\n",
      "Train Diffusion:  64%|██████▍   | 1278/2000 [37:55<20:48,  1.73s/it]\u001b[A\n",
      "Train Diffusion:  64%|██████▍   | 1279/2000 [37:57<20:47,  1.73s/it]\u001b[A\n",
      "Train Diffusion:  64%|██████▍   | 1280/2000 [37:59<21:20,  1.78s/it]\u001b[A"
     ]
    },
    {
     "name": "stdout",
     "output_type": "stream",
     "text": [
      "Moving average ELBO loss at 1280 iterations is: -751181.2875. Best ELBO loss value is: -752665.9375.\n",
      "\n",
      "C_path mean = tensor([[42.1326,  0.5221,  1.6937]], grad_fn=<MeanBackward1>)\n",
      "\n",
      " C_path = tensor([[[4.5660e+01, 7.1469e-02, 7.1469e-01],\n",
      "         [4.6222e+01, 5.6518e-02, 6.1717e-01],\n",
      "         [4.5863e+01, 3.7278e-02, 5.3093e-01],\n",
      "         ...,\n",
      "         [3.3018e+01, 2.7108e-01, 9.5961e-01],\n",
      "         [3.2939e+01, 2.1195e-01, 8.3599e-01],\n",
      "         [3.3640e+01, 1.0741e-01, 7.6074e-01]]], grad_fn=<CatBackward>)\n"
     ]
    },
    {
     "name": "stderr",
     "output_type": "stream",
     "text": [
      "\n",
      "Train Diffusion:  64%|██████▍   | 1281/2000 [38:01<21:26,  1.79s/it]\u001b[A\n",
      "Train Diffusion:  64%|██████▍   | 1282/2000 [38:02<21:12,  1.77s/it]\u001b[A\n",
      "Train Diffusion:  64%|██████▍   | 1283/2000 [38:04<21:01,  1.76s/it]\u001b[A\n",
      "Train Diffusion:  64%|██████▍   | 1284/2000 [38:06<20:53,  1.75s/it]\u001b[A\n",
      "Train Diffusion:  64%|██████▍   | 1285/2000 [38:07<20:47,  1.74s/it]\u001b[A\n",
      "Train Diffusion:  64%|██████▍   | 1286/2000 [38:09<20:45,  1.74s/it]\u001b[A\n",
      "Train Diffusion:  64%|██████▍   | 1287/2000 [38:11<20:39,  1.74s/it]\u001b[A\n",
      "Train Diffusion:  64%|██████▍   | 1288/2000 [38:13<20:39,  1.74s/it]\u001b[A\n",
      "Train Diffusion:  64%|██████▍   | 1289/2000 [38:14<20:38,  1.74s/it]\u001b[A\n",
      "Train Diffusion:  64%|██████▍   | 1290/2000 [38:16<20:37,  1.74s/it]\u001b[A"
     ]
    },
    {
     "name": "stdout",
     "output_type": "stream",
     "text": [
      "Moving average ELBO loss at 1290 iterations is: -754361.925. Best ELBO loss value is: -755624.8125.\n",
      "\n",
      "C_path mean = tensor([[42.6670,  0.4281,  1.7284]], grad_fn=<MeanBackward1>)\n",
      "\n",
      " C_path = tensor([[[4.5660e+01, 7.1469e-02, 7.1469e-01],\n",
      "         [4.3262e+01, 2.9694e-02, 5.7761e-01],\n",
      "         [4.2850e+01, 1.0639e-02, 4.6245e-01],\n",
      "         ...,\n",
      "         [3.4041e+01, 2.5929e-01, 9.9257e-01],\n",
      "         [3.3712e+01, 1.9811e-01, 8.6804e-01],\n",
      "         [3.4020e+01, 1.0572e-01, 7.0460e-01]]], grad_fn=<CatBackward>)\n"
     ]
    },
    {
     "name": "stderr",
     "output_type": "stream",
     "text": [
      "\n",
      "Train Diffusion:  65%|██████▍   | 1291/2000 [38:18<20:35,  1.74s/it]\u001b[A\n",
      "Train Diffusion:  65%|██████▍   | 1292/2000 [38:20<20:29,  1.74s/it]\u001b[A\n",
      "Train Diffusion:  65%|██████▍   | 1293/2000 [38:21<20:26,  1.74s/it]\u001b[A\n",
      "Train Diffusion:  65%|██████▍   | 1294/2000 [38:23<20:24,  1.73s/it]\u001b[A\n",
      "Train Diffusion:  65%|██████▍   | 1295/2000 [38:25<20:21,  1.73s/it]\u001b[A\n",
      "Train Diffusion:  65%|██████▍   | 1296/2000 [38:27<20:19,  1.73s/it]\u001b[A\n",
      "Train Diffusion:  65%|██████▍   | 1297/2000 [38:28<20:17,  1.73s/it]\u001b[A\n",
      "Train Diffusion:  65%|██████▍   | 1298/2000 [38:30<20:13,  1.73s/it]\u001b[A\n",
      "Train Diffusion:  65%|██████▍   | 1299/2000 [38:32<20:10,  1.73s/it]\u001b[A\n",
      "Train Diffusion:  65%|██████▌   | 1300/2000 [38:33<20:08,  1.73s/it]\u001b[A"
     ]
    },
    {
     "name": "stdout",
     "output_type": "stream",
     "text": [
      "Moving average ELBO loss at 1300 iterations is: -757344.75625. Best ELBO loss value is: -758972.8125.\n",
      "\n",
      "C_path mean = tensor([[42.8016,  0.5276,  1.6644]], grad_fn=<MeanBackward1>)\n",
      "\n",
      " C_path = tensor([[[4.5660e+01, 7.1469e-02, 7.1469e-01],\n",
      "         [4.5338e+01, 6.8808e-02, 5.9891e-01],\n",
      "         [4.5065e+01, 3.3990e-02, 4.7667e-01],\n",
      "         ...,\n",
      "         [3.4344e+01, 2.4452e-01, 9.2072e-01],\n",
      "         [3.4394e+01, 1.8204e-01, 8.1102e-01],\n",
      "         [3.4798e+01, 9.6913e-02, 6.7992e-01]]], grad_fn=<CatBackward>)\n"
     ]
    },
    {
     "name": "stderr",
     "output_type": "stream",
     "text": [
      "\n",
      "Train Diffusion:  65%|██████▌   | 1301/2000 [38:35<20:10,  1.73s/it]\u001b[A\n",
      "Train Diffusion:  65%|██████▌   | 1302/2000 [38:37<20:12,  1.74s/it]\u001b[A\n",
      "Train Diffusion:  65%|██████▌   | 1303/2000 [38:39<20:09,  1.74s/it]\u001b[A\n",
      "Train Diffusion:  65%|██████▌   | 1304/2000 [38:40<20:05,  1.73s/it]\u001b[A\n",
      "Train Diffusion:  65%|██████▌   | 1305/2000 [38:42<20:04,  1.73s/it]\u001b[A\n",
      "Train Diffusion:  65%|██████▌   | 1306/2000 [38:44<20:02,  1.73s/it]\u001b[A\n",
      "Train Diffusion:  65%|██████▌   | 1307/2000 [38:46<20:07,  1.74s/it]\u001b[A\n",
      "Train Diffusion:  65%|██████▌   | 1308/2000 [38:47<20:09,  1.75s/it]\u001b[A\n",
      "Train Diffusion:  65%|██████▌   | 1309/2000 [38:49<20:04,  1.74s/it]\u001b[A\n",
      "Train Diffusion:  66%|██████▌   | 1310/2000 [38:51<20:00,  1.74s/it]\u001b[A"
     ]
    },
    {
     "name": "stdout",
     "output_type": "stream",
     "text": [
      "Moving average ELBO loss at 1310 iterations is: -760325.8375. Best ELBO loss value is: -762226.3125.\n",
      "\n",
      "C_path mean = tensor([[43.0684,  0.5125,  1.7543]], grad_fn=<MeanBackward1>)\n",
      "\n",
      " C_path = tensor([[[4.5660e+01, 7.1469e-02, 7.1469e-01],\n",
      "         [4.4950e+01, 4.8712e-02, 6.5392e-01],\n",
      "         [4.3852e+01, 2.7817e-02, 5.3582e-01],\n",
      "         ...,\n",
      "         [3.5126e+01, 2.7487e-01, 1.0215e+00],\n",
      "         [3.4794e+01, 2.0854e-01, 8.7321e-01],\n",
      "         [3.4976e+01, 1.1401e-01, 7.6181e-01]]], grad_fn=<CatBackward>)\n"
     ]
    },
    {
     "name": "stderr",
     "output_type": "stream",
     "text": [
      "\n",
      "Train Diffusion:  66%|██████▌   | 1311/2000 [38:53<19:57,  1.74s/it]\u001b[A\n",
      "Train Diffusion:  66%|██████▌   | 1312/2000 [38:54<19:58,  1.74s/it]\u001b[A\n",
      "Train Diffusion:  66%|██████▌   | 1313/2000 [38:56<19:56,  1.74s/it]\u001b[A\n",
      "Train Diffusion:  66%|██████▌   | 1314/2000 [38:58<19:53,  1.74s/it]\u001b[A\n",
      "Train Diffusion:  66%|██████▌   | 1315/2000 [39:00<19:55,  1.75s/it]\u001b[A\n",
      "Train Diffusion:  66%|██████▌   | 1316/2000 [39:01<19:50,  1.74s/it]\u001b[A\n",
      "Train Diffusion:  66%|██████▌   | 1317/2000 [39:03<19:45,  1.74s/it]\u001b[A\n",
      "Train Diffusion:  66%|██████▌   | 1318/2000 [39:05<19:45,  1.74s/it]\u001b[A\n",
      "Train Diffusion:  66%|██████▌   | 1319/2000 [39:07<19:42,  1.74s/it]\u001b[A\n",
      "Train Diffusion:  66%|██████▌   | 1320/2000 [39:08<19:39,  1.74s/it]\u001b[A"
     ]
    },
    {
     "name": "stdout",
     "output_type": "stream",
     "text": [
      "Moving average ELBO loss at 1320 iterations is: -764089.7375. Best ELBO loss value is: -765682.0.\n",
      "\n",
      "C_path mean = tensor([[43.6626,  0.4911,  1.7082]], grad_fn=<MeanBackward1>)\n",
      "\n",
      " C_path = tensor([[[4.5660e+01, 7.1469e-02, 7.1469e-01],\n",
      "         [4.4315e+01, 5.7165e-02, 6.0635e-01],\n",
      "         [4.3708e+01, 3.3505e-02, 5.0346e-01],\n",
      "         ...,\n",
      "         [3.6201e+01, 2.3361e-01, 9.9824e-01],\n",
      "         [3.6039e+01, 1.9321e-01, 8.7085e-01],\n",
      "         [3.6152e+01, 1.0888e-01, 7.5281e-01]]], grad_fn=<CatBackward>)\n"
     ]
    },
    {
     "name": "stderr",
     "output_type": "stream",
     "text": [
      "\n",
      "Train Diffusion:  66%|██████▌   | 1321/2000 [39:10<19:38,  1.74s/it]\u001b[A\n",
      "Train Diffusion:  66%|██████▌   | 1322/2000 [39:12<19:36,  1.74s/it]\u001b[A\n",
      "Train Diffusion:  66%|██████▌   | 1323/2000 [39:13<19:32,  1.73s/it]\u001b[A\n",
      "Train Diffusion:  66%|██████▌   | 1324/2000 [39:15<19:28,  1.73s/it]\u001b[A\n",
      "Train Diffusion:  66%|██████▋   | 1325/2000 [39:17<19:26,  1.73s/it]\u001b[A\n",
      "Train Diffusion:  66%|██████▋   | 1326/2000 [39:19<19:24,  1.73s/it]\u001b[A\n",
      "Train Diffusion:  66%|██████▋   | 1327/2000 [39:20<19:22,  1.73s/it]\u001b[A\n",
      "Train Diffusion:  66%|██████▋   | 1328/2000 [39:22<19:19,  1.73s/it]\u001b[A\n",
      "Train Diffusion:  66%|██████▋   | 1329/2000 [39:24<19:17,  1.73s/it]\u001b[A\n",
      "Train Diffusion:  66%|██████▋   | 1330/2000 [39:26<19:16,  1.73s/it]\u001b[A"
     ]
    },
    {
     "name": "stdout",
     "output_type": "stream",
     "text": [
      "Moving average ELBO loss at 1330 iterations is: -767058.04375. Best ELBO loss value is: -768904.25.\n",
      "\n",
      "C_path mean = tensor([[44.1898,  0.5048,  1.5835]], grad_fn=<MeanBackward1>)\n",
      "\n",
      " C_path = tensor([[[45.6603,  0.0715,  0.7147],\n",
      "         [44.4837,  0.1786,  0.5339],\n",
      "         [43.6422,  0.1194,  0.4063],\n",
      "         ...,\n",
      "         [37.1311,  0.2116,  0.9018],\n",
      "         [37.2654,  0.1628,  0.7775],\n",
      "         [37.6780,  0.0918,  0.6420]]], grad_fn=<CatBackward>)\n"
     ]
    },
    {
     "name": "stderr",
     "output_type": "stream",
     "text": [
      "\n",
      "Train Diffusion:  67%|██████▋   | 1331/2000 [39:27<19:14,  1.73s/it]\u001b[A\n",
      "Train Diffusion:  67%|██████▋   | 1332/2000 [39:29<19:13,  1.73s/it]\u001b[A\n",
      "Train Diffusion:  67%|██████▋   | 1333/2000 [39:31<19:11,  1.73s/it]\u001b[A\n",
      "Train Diffusion:  67%|██████▋   | 1334/2000 [39:32<19:22,  1.75s/it]\u001b[A\n",
      "Train Diffusion:  67%|██████▋   | 1335/2000 [39:34<19:16,  1.74s/it]\u001b[A\n",
      "Train Diffusion:  67%|██████▋   | 1336/2000 [39:36<19:15,  1.74s/it]\u001b[A\n",
      "Train Diffusion:  67%|██████▋   | 1337/2000 [39:38<19:21,  1.75s/it]\u001b[A\n",
      "Train Diffusion:  67%|██████▋   | 1338/2000 [39:39<19:15,  1.74s/it]\u001b[A\n",
      "Train Diffusion:  67%|██████▋   | 1339/2000 [39:41<19:09,  1.74s/it]\u001b[A\n",
      "Train Diffusion:  67%|██████▋   | 1340/2000 [39:43<19:05,  1.74s/it]\u001b[A"
     ]
    },
    {
     "name": "stdout",
     "output_type": "stream",
     "text": [
      "Moving average ELBO loss at 1340 iterations is: -770859.4875. Best ELBO loss value is: -772969.1875.\n",
      "\n",
      "C_path mean = tensor([[44.5310,  0.4917,  1.7065]], grad_fn=<MeanBackward1>)\n",
      "\n",
      " C_path = tensor([[[4.5660e+01, 7.1469e-02, 7.1469e-01],\n",
      "         [4.4232e+01, 4.1791e-02, 5.9448e-01],\n",
      "         [4.3691e+01, 3.8846e-02, 4.6629e-01],\n",
      "         ...,\n",
      "         [3.8229e+01, 2.2154e-01, 9.9232e-01],\n",
      "         [3.8194e+01, 1.7978e-01, 8.6081e-01],\n",
      "         [3.8254e+01, 1.0329e-01, 6.8564e-01]]], grad_fn=<CatBackward>)\n"
     ]
    },
    {
     "name": "stderr",
     "output_type": "stream",
     "text": [
      "\n",
      "Train Diffusion:  67%|██████▋   | 1341/2000 [39:45<19:03,  1.73s/it]\u001b[A\n",
      "Train Diffusion:  67%|██████▋   | 1342/2000 [39:46<19:04,  1.74s/it]\u001b[A\n",
      "Train Diffusion:  67%|██████▋   | 1343/2000 [39:48<18:59,  1.73s/it]\u001b[A\n",
      "Train Diffusion:  67%|██████▋   | 1344/2000 [39:50<18:56,  1.73s/it]\u001b[A\n",
      "Train Diffusion:  67%|██████▋   | 1345/2000 [39:52<18:54,  1.73s/it]\u001b[A\n",
      "Train Diffusion:  67%|██████▋   | 1346/2000 [39:53<18:50,  1.73s/it]\u001b[A\n",
      "Train Diffusion:  67%|██████▋   | 1347/2000 [39:55<18:48,  1.73s/it]\u001b[A\n",
      "Train Diffusion:  67%|██████▋   | 1348/2000 [39:57<18:47,  1.73s/it]\u001b[A\n",
      "Train Diffusion:  67%|██████▋   | 1349/2000 [39:58<18:46,  1.73s/it]\u001b[A\n",
      "Train Diffusion:  68%|██████▊   | 1350/2000 [40:00<18:45,  1.73s/it]\u001b[A"
     ]
    },
    {
     "name": "stdout",
     "output_type": "stream",
     "text": [
      "Moving average ELBO loss at 1350 iterations is: -773846.275. Best ELBO loss value is: -775277.875.\n",
      "\n",
      "C_path mean = tensor([[45.2369,  0.4551,  1.7042]], grad_fn=<MeanBackward1>)\n",
      "\n",
      " C_path = tensor([[[4.5660e+01, 7.1469e-02, 7.1469e-01],\n",
      "         [4.3377e+01, 4.2413e-02, 5.6903e-01],\n",
      "         [4.3281e+01, 2.2487e-02, 4.2000e-01],\n",
      "         ...,\n",
      "         [3.9732e+01, 2.2079e-01, 9.5685e-01],\n",
      "         [3.9400e+01, 1.5179e-01, 8.6280e-01],\n",
      "         [3.8915e+01, 8.6968e-02, 6.8232e-01]]], grad_fn=<CatBackward>)\n"
     ]
    },
    {
     "name": "stderr",
     "output_type": "stream",
     "text": [
      "\n",
      "Train Diffusion:  68%|██████▊   | 1351/2000 [40:02<18:45,  1.73s/it]\u001b[A\n",
      "Train Diffusion:  68%|██████▊   | 1352/2000 [40:04<18:41,  1.73s/it]\u001b[A\n",
      "Train Diffusion:  68%|██████▊   | 1353/2000 [40:06<20:39,  1.92s/it]\u001b[A\n",
      "Train Diffusion:  68%|██████▊   | 1354/2000 [40:08<20:01,  1.86s/it]\u001b[A\n",
      "Train Diffusion:  68%|██████▊   | 1355/2000 [40:09<19:33,  1.82s/it]\u001b[A\n",
      "Train Diffusion:  68%|██████▊   | 1356/2000 [40:11<19:15,  1.79s/it]\u001b[A\n",
      "Train Diffusion:  68%|██████▊   | 1357/2000 [40:13<19:01,  1.77s/it]\u001b[A\n",
      "Train Diffusion:  68%|██████▊   | 1358/2000 [40:15<18:51,  1.76s/it]\u001b[A\n",
      "Train Diffusion:  68%|██████▊   | 1359/2000 [40:16<18:41,  1.75s/it]\u001b[A\n",
      "Train Diffusion:  68%|██████▊   | 1360/2000 [40:18<18:34,  1.74s/it]\u001b[A"
     ]
    },
    {
     "name": "stdout",
     "output_type": "stream",
     "text": [
      "Moving average ELBO loss at 1360 iterations is: -774867.56875. Best ELBO loss value is: -777467.1875.\n",
      "\n",
      "C_path mean = tensor([[45.6492,  0.4339,  1.6506]], grad_fn=<MeanBackward1>)\n",
      "\n",
      " C_path = tensor([[[4.5660e+01, 7.1469e-02, 7.1469e-01],\n",
      "         [4.4694e+01, 2.9788e-02, 5.7065e-01],\n",
      "         [4.4504e+01, 3.2620e-02, 4.4285e-01],\n",
      "         ...,\n",
      "         [4.0207e+01, 2.1318e-01, 9.3096e-01],\n",
      "         [3.9750e+01, 1.4634e-01, 8.3748e-01],\n",
      "         [3.9044e+01, 7.9657e-02, 6.7624e-01]]], grad_fn=<CatBackward>)\n"
     ]
    },
    {
     "name": "stderr",
     "output_type": "stream",
     "text": [
      "\n",
      "Train Diffusion:  68%|██████▊   | 1361/2000 [40:20<18:36,  1.75s/it]\u001b[A\n",
      "Train Diffusion:  68%|██████▊   | 1362/2000 [40:22<18:34,  1.75s/it]\u001b[A\n",
      "Train Diffusion:  68%|██████▊   | 1363/2000 [40:23<18:28,  1.74s/it]\u001b[A\n",
      "Train Diffusion:  68%|██████▊   | 1364/2000 [40:25<18:24,  1.74s/it]\u001b[A\n",
      "Train Diffusion:  68%|██████▊   | 1365/2000 [40:27<18:21,  1.73s/it]\u001b[A\n",
      "Train Diffusion:  68%|██████▊   | 1366/2000 [40:29<18:19,  1.73s/it]\u001b[A\n",
      "Train Diffusion:  68%|██████▊   | 1367/2000 [40:30<18:15,  1.73s/it]\u001b[A\n",
      "Train Diffusion:  68%|██████▊   | 1368/2000 [40:32<18:14,  1.73s/it]\u001b[A\n",
      "Train Diffusion:  68%|██████▊   | 1369/2000 [40:34<18:12,  1.73s/it]\u001b[A\n",
      "Train Diffusion:  68%|██████▊   | 1370/2000 [40:35<18:10,  1.73s/it]\u001b[A"
     ]
    },
    {
     "name": "stdout",
     "output_type": "stream",
     "text": [
      "Moving average ELBO loss at 1370 iterations is: -777148.99375. Best ELBO loss value is: -779914.0625.\n",
      "\n",
      "C_path mean = tensor([[45.8540,  0.4174,  1.5473]], grad_fn=<MeanBackward1>)\n",
      "\n",
      " C_path = tensor([[[45.6603,  0.0715,  0.7147],\n",
      "         [44.0106,  0.0696,  0.5413],\n",
      "         [43.8697,  0.0457,  0.4458],\n",
      "         ...,\n",
      "         [40.0382,  0.1677,  0.9298],\n",
      "         [39.8547,  0.1665,  0.7167],\n",
      "         [39.5732,  0.1042,  0.5900]]], grad_fn=<CatBackward>)\n"
     ]
    },
    {
     "name": "stderr",
     "output_type": "stream",
     "text": [
      "\n",
      "Train Diffusion:  69%|██████▊   | 1371/2000 [40:37<18:09,  1.73s/it]\u001b[A\n",
      "Train Diffusion:  69%|██████▊   | 1372/2000 [40:39<18:06,  1.73s/it]\u001b[A\n",
      "Train Diffusion:  69%|██████▊   | 1373/2000 [40:41<18:07,  1.73s/it]\u001b[A\n",
      "Train Diffusion:  69%|██████▊   | 1374/2000 [40:42<18:07,  1.74s/it]\u001b[A\n",
      "Train Diffusion:  69%|██████▉   | 1375/2000 [40:44<18:05,  1.74s/it]\u001b[A\n",
      "Train Diffusion:  69%|██████▉   | 1376/2000 [40:46<18:01,  1.73s/it]\u001b[A\n",
      "Train Diffusion:  69%|██████▉   | 1377/2000 [40:48<17:58,  1.73s/it]\u001b[A\n",
      "Train Diffusion:  69%|██████▉   | 1378/2000 [40:49<17:56,  1.73s/it]\u001b[A\n",
      "Train Diffusion:  69%|██████▉   | 1379/2000 [40:51<17:54,  1.73s/it]\u001b[A\n",
      "Train Diffusion:  69%|██████▉   | 1380/2000 [40:53<17:53,  1.73s/it]\u001b[A"
     ]
    },
    {
     "name": "stdout",
     "output_type": "stream",
     "text": [
      "Moving average ELBO loss at 1380 iterations is: -781755.35625. Best ELBO loss value is: -783744.6875.\n",
      "\n",
      "C_path mean = tensor([[45.7462,  0.4890,  1.6973]], grad_fn=<MeanBackward1>)\n",
      "\n",
      " C_path = tensor([[[4.5660e+01, 7.1469e-02, 7.1469e-01],\n",
      "         [4.4600e+01, 4.2382e-02, 5.8383e-01],\n",
      "         [4.3971e+01, 3.5327e-02, 4.7635e-01],\n",
      "         ...,\n",
      "         [4.0348e+01, 2.2532e-01, 1.0438e+00],\n",
      "         [4.0567e+01, 1.7925e-01, 9.0244e-01],\n",
      "         [4.1057e+01, 1.0418e-01, 7.2840e-01]]], grad_fn=<CatBackward>)\n"
     ]
    },
    {
     "name": "stderr",
     "output_type": "stream",
     "text": [
      "\n",
      "Train Diffusion:  69%|██████▉   | 1381/2000 [40:55<17:51,  1.73s/it]\u001b[A\n",
      "Train Diffusion:  69%|██████▉   | 1382/2000 [40:56<17:56,  1.74s/it]\u001b[A\n",
      "Train Diffusion:  69%|██████▉   | 1383/2000 [40:58<17:55,  1.74s/it]\u001b[A\n",
      "Train Diffusion:  69%|██████▉   | 1384/2000 [41:00<17:51,  1.74s/it]\u001b[A\n",
      "Train Diffusion:  69%|██████▉   | 1385/2000 [41:02<17:49,  1.74s/it]\u001b[A\n",
      "Train Diffusion:  69%|██████▉   | 1386/2000 [41:03<17:46,  1.74s/it]\u001b[A\n",
      "Train Diffusion:  69%|██████▉   | 1387/2000 [41:05<17:42,  1.73s/it]\u001b[A\n",
      "Train Diffusion:  69%|██████▉   | 1388/2000 [41:07<17:39,  1.73s/it]\u001b[A\n",
      "Train Diffusion:  69%|██████▉   | 1389/2000 [41:08<17:39,  1.73s/it]\u001b[A\n",
      "Train Diffusion:  70%|██████▉   | 1390/2000 [41:10<17:37,  1.73s/it]\u001b[A"
     ]
    },
    {
     "name": "stdout",
     "output_type": "stream",
     "text": [
      "Moving average ELBO loss at 1390 iterations is: -785227.7875. Best ELBO loss value is: -786722.75.\n",
      "\n",
      "C_path mean = tensor([[45.9134,  0.5359,  1.6796]], grad_fn=<MeanBackward1>)\n",
      "\n",
      " C_path = tensor([[[45.6603,  0.0715,  0.7147],\n",
      "         [45.6489,  0.0987,  0.5814],\n",
      "         [44.7403,  0.0668,  0.4965],\n",
      "         ...,\n",
      "         [41.0539,  0.2197,  0.9478],\n",
      "         [41.2050,  0.1681,  0.8513],\n",
      "         [41.4862,  0.1007,  0.6940]]], grad_fn=<CatBackward>)\n"
     ]
    },
    {
     "name": "stderr",
     "output_type": "stream",
     "text": [
      "\n",
      "Train Diffusion:  70%|██████▉   | 1391/2000 [41:12<17:38,  1.74s/it]\u001b[A\n",
      "Train Diffusion:  70%|██████▉   | 1392/2000 [41:14<17:36,  1.74s/it]\u001b[A\n",
      "Train Diffusion:  70%|██████▉   | 1393/2000 [41:15<17:40,  1.75s/it]\u001b[A\n",
      "Train Diffusion:  70%|██████▉   | 1394/2000 [41:17<17:41,  1.75s/it]\u001b[A\n",
      "Train Diffusion:  70%|██████▉   | 1395/2000 [41:19<17:37,  1.75s/it]\u001b[A\n",
      "Train Diffusion:  70%|██████▉   | 1396/2000 [41:21<17:31,  1.74s/it]\u001b[A\n",
      "Train Diffusion:  70%|██████▉   | 1397/2000 [41:22<17:31,  1.74s/it]\u001b[A\n",
      "Train Diffusion:  70%|██████▉   | 1398/2000 [41:24<17:27,  1.74s/it]\u001b[A\n",
      "Train Diffusion:  70%|██████▉   | 1399/2000 [41:26<17:24,  1.74s/it]\u001b[A\n",
      "Train Diffusion:  70%|███████   | 1400/2000 [41:28<17:24,  1.74s/it]\u001b[A"
     ]
    },
    {
     "name": "stdout",
     "output_type": "stream",
     "text": [
      "Moving average ELBO loss at 1400 iterations is: -788203.225. Best ELBO loss value is: -789838.375.\n",
      "\n",
      "C_path mean = tensor([[46.2873,  0.4719,  1.7287]], grad_fn=<MeanBackward1>)\n",
      "\n",
      " C_path = tensor([[[4.5660e+01, 7.1469e-02, 7.1469e-01],\n",
      "         [4.4382e+01, 3.3697e-02, 6.2265e-01],\n",
      "         [4.3397e+01, 1.4388e-02, 5.2703e-01],\n",
      "         ...,\n",
      "         [4.1360e+01, 2.1735e-01, 9.7145e-01],\n",
      "         [4.1211e+01, 1.6760e-01, 8.6902e-01],\n",
      "         [4.0929e+01, 1.0229e-01, 7.2443e-01]]], grad_fn=<CatBackward>)\n"
     ]
    },
    {
     "name": "stderr",
     "output_type": "stream",
     "text": [
      "\n",
      "Train Diffusion:  70%|███████   | 1401/2000 [41:29<17:20,  1.74s/it]\u001b[A\n",
      "Train Diffusion:  70%|███████   | 1402/2000 [41:31<17:20,  1.74s/it]\u001b[A\n",
      "Train Diffusion:  70%|███████   | 1403/2000 [41:33<17:17,  1.74s/it]\u001b[A\n",
      "Train Diffusion:  70%|███████   | 1404/2000 [41:35<17:16,  1.74s/it]\u001b[A\n",
      "Train Diffusion:  70%|███████   | 1405/2000 [41:36<17:12,  1.74s/it]\u001b[A\n",
      "Train Diffusion:  70%|███████   | 1406/2000 [41:38<17:16,  1.74s/it]\u001b[A\n",
      "Train Diffusion:  70%|███████   | 1407/2000 [41:40<17:11,  1.74s/it]\u001b[A\n",
      "Train Diffusion:  70%|███████   | 1408/2000 [41:42<17:10,  1.74s/it]\u001b[A\n",
      "Train Diffusion:  70%|███████   | 1409/2000 [41:43<17:06,  1.74s/it]\u001b[A\n",
      "Train Diffusion:  70%|███████   | 1410/2000 [41:45<17:04,  1.74s/it]\u001b[A"
     ]
    },
    {
     "name": "stdout",
     "output_type": "stream",
     "text": [
      "Moving average ELBO loss at 1410 iterations is: -791336.11875. Best ELBO loss value is: -792782.5.\n",
      "\n",
      "C_path mean = tensor([[46.5009,  0.5243,  1.6961]], grad_fn=<MeanBackward1>)\n",
      "\n",
      " C_path = tensor([[[4.5660e+01, 7.1469e-02, 7.1469e-01],\n",
      "         [4.4566e+01, 8.9398e-02, 5.7632e-01],\n",
      "         [4.4239e+01, 3.6011e-02, 4.9972e-01],\n",
      "         ...,\n",
      "         [4.1589e+01, 2.0325e-01, 9.5740e-01],\n",
      "         [4.1710e+01, 1.6688e-01, 8.4325e-01],\n",
      "         [4.1780e+01, 1.0221e-01, 6.8126e-01]]], grad_fn=<CatBackward>)\n"
     ]
    },
    {
     "name": "stderr",
     "output_type": "stream",
     "text": [
      "\n",
      "Train Diffusion:  71%|███████   | 1411/2000 [41:47<17:02,  1.74s/it]\u001b[A\n",
      "Train Diffusion:  71%|███████   | 1412/2000 [41:48<16:59,  1.73s/it]\u001b[A\n",
      "Train Diffusion:  71%|███████   | 1413/2000 [41:50<16:57,  1.73s/it]\u001b[A\n",
      "Train Diffusion:  71%|███████   | 1414/2000 [41:52<16:54,  1.73s/it]\u001b[A\n",
      "Train Diffusion:  71%|███████   | 1415/2000 [41:54<16:53,  1.73s/it]\u001b[A\n",
      "Train Diffusion:  71%|███████   | 1416/2000 [41:55<16:50,  1.73s/it]\u001b[A\n",
      "Train Diffusion:  71%|███████   | 1417/2000 [41:57<16:49,  1.73s/it]\u001b[A\n",
      "Train Diffusion:  71%|███████   | 1418/2000 [41:59<16:48,  1.73s/it]\u001b[A\n",
      "Train Diffusion:  71%|███████   | 1419/2000 [42:01<16:48,  1.74s/it]\u001b[A\n",
      "Train Diffusion:  71%|███████   | 1420/2000 [42:02<16:45,  1.73s/it]\u001b[A"
     ]
    },
    {
     "name": "stdout",
     "output_type": "stream",
     "text": [
      "Moving average ELBO loss at 1420 iterations is: -794578.1625. Best ELBO loss value is: -796213.0.\n",
      "\n",
      "C_path mean = tensor([[46.8476,  0.5077,  1.7370]], grad_fn=<MeanBackward1>)\n",
      "\n",
      " C_path = tensor([[[4.5660e+01, 7.1469e-02, 7.1469e-01],\n",
      "         [4.4896e+01, 7.0568e-02, 5.9309e-01],\n",
      "         [4.3737e+01, 2.8009e-02, 5.2597e-01],\n",
      "         ...,\n",
      "         [4.2273e+01, 2.0911e-01, 9.7760e-01],\n",
      "         [4.2349e+01, 1.7179e-01, 8.6406e-01],\n",
      "         [4.2449e+01, 1.0651e-01, 7.2196e-01]]], grad_fn=<CatBackward>)\n"
     ]
    },
    {
     "name": "stderr",
     "output_type": "stream",
     "text": [
      "\n",
      "Train Diffusion:  71%|███████   | 1421/2000 [42:04<16:43,  1.73s/it]\u001b[A\n",
      "Train Diffusion:  71%|███████   | 1422/2000 [42:06<16:40,  1.73s/it]\u001b[A\n",
      "Train Diffusion:  71%|███████   | 1423/2000 [42:07<16:38,  1.73s/it]\u001b[A\n",
      "Train Diffusion:  71%|███████   | 1424/2000 [42:09<16:37,  1.73s/it]\u001b[A\n",
      "Train Diffusion:  71%|███████▏  | 1425/2000 [42:11<16:34,  1.73s/it]\u001b[A\n",
      "Train Diffusion:  71%|███████▏  | 1426/2000 [42:13<16:32,  1.73s/it]\u001b[A\n",
      "Train Diffusion:  71%|███████▏  | 1427/2000 [42:14<16:44,  1.75s/it]\u001b[A\n",
      "Train Diffusion:  71%|███████▏  | 1428/2000 [42:16<16:38,  1.75s/it]\u001b[A\n",
      "Train Diffusion:  71%|███████▏  | 1429/2000 [42:18<16:38,  1.75s/it]\u001b[A\n",
      "Train Diffusion:  72%|███████▏  | 1430/2000 [42:20<16:32,  1.74s/it]\u001b[A"
     ]
    },
    {
     "name": "stdout",
     "output_type": "stream",
     "text": [
      "Moving average ELBO loss at 1430 iterations is: -797844.04375. Best ELBO loss value is: -799078.5.\n",
      "\n",
      "C_path mean = tensor([[47.2255,  0.5561,  1.6907]], grad_fn=<MeanBackward1>)\n",
      "\n",
      " C_path = tensor([[[45.6603,  0.0715,  0.7147],\n",
      "         [45.5966,  0.1256,  0.5996],\n",
      "         [44.9588,  0.1239,  0.5142],\n",
      "         ...,\n",
      "         [43.1083,  0.2133,  0.9311],\n",
      "         [43.1626,  0.1715,  0.8225],\n",
      "         [43.2036,  0.1024,  0.6935]]], grad_fn=<CatBackward>)\n"
     ]
    },
    {
     "name": "stderr",
     "output_type": "stream",
     "text": [
      "\n",
      "Train Diffusion:  72%|███████▏  | 1431/2000 [42:21<16:29,  1.74s/it]\u001b[A\n",
      "Train Diffusion:  72%|███████▏  | 1432/2000 [42:23<16:26,  1.74s/it]\u001b[A\n",
      "Train Diffusion:  72%|███████▏  | 1433/2000 [42:25<16:23,  1.73s/it]\u001b[A\n",
      "Train Diffusion:  72%|███████▏  | 1434/2000 [42:27<16:19,  1.73s/it]\u001b[A\n",
      "Train Diffusion:  72%|███████▏  | 1435/2000 [42:28<16:17,  1.73s/it]\u001b[A\n",
      "Train Diffusion:  72%|███████▏  | 1436/2000 [42:30<16:15,  1.73s/it]\u001b[A\n",
      "Train Diffusion:  72%|███████▏  | 1437/2000 [42:32<16:14,  1.73s/it]\u001b[A\n",
      "Train Diffusion:  72%|███████▏  | 1438/2000 [42:34<16:12,  1.73s/it]\u001b[A\n",
      "Train Diffusion:  72%|███████▏  | 1439/2000 [42:35<16:09,  1.73s/it]\u001b[A\n",
      "Train Diffusion:  72%|███████▏  | 1440/2000 [42:37<16:09,  1.73s/it]\u001b[A"
     ]
    },
    {
     "name": "stdout",
     "output_type": "stream",
     "text": [
      "Moving average ELBO loss at 1440 iterations is: -801056.04375. Best ELBO loss value is: -802775.25.\n",
      "\n",
      "C_path mean = tensor([[47.6522,  0.5308,  1.7130]], grad_fn=<MeanBackward1>)\n",
      "\n",
      " C_path = tensor([[[45.6603,  0.0715,  0.7147],\n",
      "         [44.8560,  0.1003,  0.5831],\n",
      "         [44.3857,  0.0669,  0.5087],\n",
      "         ...,\n",
      "         [43.6450,  0.2260,  0.9390],\n",
      "         [43.7326,  0.1821,  0.8461],\n",
      "         [43.7351,  0.1077,  0.7108]]], grad_fn=<CatBackward>)\n"
     ]
    },
    {
     "name": "stderr",
     "output_type": "stream",
     "text": [
      "\n",
      "Train Diffusion:  72%|███████▏  | 1441/2000 [42:39<16:08,  1.73s/it]\u001b[A\n",
      "Train Diffusion:  72%|███████▏  | 1442/2000 [42:40<16:09,  1.74s/it]\u001b[A\n",
      "Train Diffusion:  72%|███████▏  | 1443/2000 [42:42<16:07,  1.74s/it]\u001b[A\n",
      "Train Diffusion:  72%|███████▏  | 1444/2000 [42:44<16:03,  1.73s/it]\u001b[A\n",
      "Train Diffusion:  72%|███████▏  | 1445/2000 [42:46<16:01,  1.73s/it]\u001b[A\n",
      "Train Diffusion:  72%|███████▏  | 1446/2000 [42:47<15:59,  1.73s/it]\u001b[A\n",
      "Train Diffusion:  72%|███████▏  | 1447/2000 [42:49<15:57,  1.73s/it]\u001b[A\n",
      "Train Diffusion:  72%|███████▏  | 1448/2000 [42:51<15:54,  1.73s/it]\u001b[A\n",
      "Train Diffusion:  72%|███████▏  | 1449/2000 [42:53<15:52,  1.73s/it]\u001b[A\n",
      "Train Diffusion:  72%|███████▎  | 1450/2000 [42:54<15:50,  1.73s/it]\u001b[A"
     ]
    },
    {
     "name": "stdout",
     "output_type": "stream",
     "text": [
      "Moving average ELBO loss at 1450 iterations is: -804114.14375. Best ELBO loss value is: -805684.25.\n",
      "\n",
      "C_path mean = tensor([[48.0895,  0.4968,  1.7263]], grad_fn=<MeanBackward1>)\n",
      "\n",
      " C_path = tensor([[[4.5660e+01, 7.1469e-02, 7.1469e-01],\n",
      "         [4.4747e+01, 6.5338e-02, 5.6130e-01],\n",
      "         [4.3933e+01, 2.4137e-02, 5.0580e-01],\n",
      "         ...,\n",
      "         [4.4193e+01, 2.0696e-01, 9.3153e-01],\n",
      "         [4.4271e+01, 1.6416e-01, 8.3381e-01],\n",
      "         [4.4158e+01, 1.0448e-01, 7.0240e-01]]], grad_fn=<CatBackward>)\n"
     ]
    },
    {
     "name": "stderr",
     "output_type": "stream",
     "text": [
      "\n",
      "Train Diffusion:  73%|███████▎  | 1451/2000 [42:56<15:53,  1.74s/it]\u001b[A\n",
      "Train Diffusion:  73%|███████▎  | 1452/2000 [42:58<15:50,  1.73s/it]\u001b[A\n",
      "Train Diffusion:  73%|███████▎  | 1453/2000 [43:00<15:58,  1.75s/it]\u001b[A\n",
      "Train Diffusion:  73%|███████▎  | 1454/2000 [43:01<16:04,  1.77s/it]\u001b[A\n",
      "Train Diffusion:  73%|███████▎  | 1455/2000 [43:03<15:55,  1.75s/it]\u001b[A\n",
      "Train Diffusion:  73%|███████▎  | 1456/2000 [43:05<15:50,  1.75s/it]\u001b[A\n",
      "Train Diffusion:  73%|███████▎  | 1457/2000 [43:07<15:49,  1.75s/it]\u001b[A\n",
      "Train Diffusion:  73%|███████▎  | 1458/2000 [43:08<15:43,  1.74s/it]\u001b[A\n",
      "Train Diffusion:  73%|███████▎  | 1459/2000 [43:10<15:39,  1.74s/it]\u001b[A\n",
      "Train Diffusion:  73%|███████▎  | 1460/2000 [43:12<15:38,  1.74s/it]\u001b[A"
     ]
    },
    {
     "name": "stdout",
     "output_type": "stream",
     "text": [
      "Moving average ELBO loss at 1460 iterations is: -807500.575. Best ELBO loss value is: -808900.375.\n",
      "\n",
      "C_path mean = tensor([[48.5042,  0.4860,  1.7914]], grad_fn=<MeanBackward1>)\n",
      "\n",
      " C_path = tensor([[[4.5660e+01, 7.1469e-02, 7.1469e-01],\n",
      "         [4.4568e+01, 4.0784e-02, 6.0782e-01],\n",
      "         [4.2972e+01, 2.0948e-02, 5.4041e-01],\n",
      "         ...,\n",
      "         [4.4723e+01, 2.2248e-01, 1.0445e+00],\n",
      "         [4.4684e+01, 1.8152e-01, 9.2359e-01],\n",
      "         [4.4579e+01, 1.1793e-01, 7.9441e-01]]], grad_fn=<CatBackward>)\n"
     ]
    },
    {
     "name": "stderr",
     "output_type": "stream",
     "text": [
      "\n",
      "Train Diffusion:  73%|███████▎  | 1461/2000 [43:14<15:35,  1.74s/it]\u001b[A\n",
      "Train Diffusion:  73%|███████▎  | 1462/2000 [43:15<15:31,  1.73s/it]\u001b[A\n",
      "Train Diffusion:  73%|███████▎  | 1463/2000 [43:17<15:33,  1.74s/it]\u001b[A\n",
      "Train Diffusion:  73%|███████▎  | 1464/2000 [43:19<15:30,  1.74s/it]\u001b[A\n",
      "Train Diffusion:  73%|███████▎  | 1465/2000 [43:20<15:28,  1.74s/it]\u001b[A\n",
      "Train Diffusion:  73%|███████▎  | 1466/2000 [43:22<15:25,  1.73s/it]\u001b[A\n",
      "Train Diffusion:  73%|███████▎  | 1467/2000 [43:24<15:23,  1.73s/it]\u001b[A\n",
      "Train Diffusion:  73%|███████▎  | 1468/2000 [43:26<15:21,  1.73s/it]\u001b[A\n",
      "Train Diffusion:  73%|███████▎  | 1469/2000 [43:27<15:18,  1.73s/it]\u001b[A\n",
      "Train Diffusion:  74%|███████▎  | 1470/2000 [43:29<15:16,  1.73s/it]\u001b[A"
     ]
    },
    {
     "name": "stdout",
     "output_type": "stream",
     "text": [
      "Moving average ELBO loss at 1470 iterations is: -810483.875. Best ELBO loss value is: -811868.0.\n",
      "\n",
      "C_path mean = tensor([[48.8692,  0.5246,  1.7066]], grad_fn=<MeanBackward1>)\n",
      "\n",
      " C_path = tensor([[[4.5660e+01, 7.1469e-02, 7.1469e-01],\n",
      "         [4.4632e+01, 7.8064e-02, 5.9718e-01],\n",
      "         [4.4500e+01, 3.3894e-02, 5.0884e-01],\n",
      "         ...,\n",
      "         [4.5282e+01, 2.1837e-01, 9.5679e-01],\n",
      "         [4.5428e+01, 1.6913e-01, 8.4685e-01],\n",
      "         [4.5281e+01, 1.0347e-01, 7.1701e-01]]], grad_fn=<CatBackward>)\n"
     ]
    },
    {
     "name": "stderr",
     "output_type": "stream",
     "text": [
      "\n",
      "Train Diffusion:  74%|███████▎  | 1471/2000 [43:31<15:14,  1.73s/it]\u001b[A\n",
      "Train Diffusion:  74%|███████▎  | 1472/2000 [43:33<15:11,  1.73s/it]\u001b[A\n",
      "Train Diffusion:  74%|███████▎  | 1473/2000 [43:34<15:10,  1.73s/it]\u001b[A\n",
      "Train Diffusion:  74%|███████▎  | 1474/2000 [43:36<15:10,  1.73s/it]\u001b[A\n",
      "Train Diffusion:  74%|███████▍  | 1475/2000 [43:38<15:17,  1.75s/it]\u001b[A\n",
      "Train Diffusion:  74%|███████▍  | 1476/2000 [43:40<15:16,  1.75s/it]\u001b[A\n",
      "Train Diffusion:  74%|███████▍  | 1477/2000 [43:41<15:13,  1.75s/it]\u001b[A\n",
      "Train Diffusion:  74%|███████▍  | 1478/2000 [43:43<15:09,  1.74s/it]\u001b[A\n",
      "Train Diffusion:  74%|███████▍  | 1479/2000 [43:45<15:05,  1.74s/it]\u001b[A\n",
      "Train Diffusion:  74%|███████▍  | 1480/2000 [43:46<15:03,  1.74s/it]\u001b[A"
     ]
    },
    {
     "name": "stdout",
     "output_type": "stream",
     "text": [
      "Moving average ELBO loss at 1480 iterations is: -813766.75625. Best ELBO loss value is: -815039.25.\n",
      "\n",
      "C_path mean = tensor([[49.3230,  0.5473,  1.6853]], grad_fn=<MeanBackward1>)\n",
      "\n",
      " C_path = tensor([[[45.6603,  0.0715,  0.7147],\n",
      "         [44.0210,  0.1059,  0.5711],\n",
      "         [44.0840,  0.0734,  0.4832],\n",
      "         ...,\n",
      "         [45.9783,  0.2003,  0.9453],\n",
      "         [46.2958,  0.1579,  0.8428],\n",
      "         [46.3806,  0.1004,  0.6818]]], grad_fn=<CatBackward>)\n"
     ]
    },
    {
     "name": "stderr",
     "output_type": "stream",
     "text": [
      "\n",
      "Train Diffusion:  74%|███████▍  | 1481/2000 [43:48<14:59,  1.73s/it]\u001b[A\n",
      "Train Diffusion:  74%|███████▍  | 1482/2000 [43:50<14:56,  1.73s/it]\u001b[A\n",
      "Train Diffusion:  74%|███████▍  | 1483/2000 [43:52<14:53,  1.73s/it]\u001b[A\n",
      "Train Diffusion:  74%|███████▍  | 1484/2000 [43:53<14:52,  1.73s/it]\u001b[A\n",
      "Train Diffusion:  74%|███████▍  | 1485/2000 [43:55<14:51,  1.73s/it]\u001b[A\n",
      "Train Diffusion:  74%|███████▍  | 1486/2000 [43:57<14:48,  1.73s/it]\u001b[A\n",
      "Train Diffusion:  74%|███████▍  | 1487/2000 [43:59<14:46,  1.73s/it]\u001b[A\n",
      "Train Diffusion:  74%|███████▍  | 1488/2000 [44:00<14:45,  1.73s/it]\u001b[A\n",
      "Train Diffusion:  74%|███████▍  | 1489/2000 [44:02<14:44,  1.73s/it]\u001b[A\n",
      "Train Diffusion:  74%|███████▍  | 1490/2000 [44:04<14:43,  1.73s/it]\u001b[A"
     ]
    },
    {
     "name": "stdout",
     "output_type": "stream",
     "text": [
      "Moving average ELBO loss at 1490 iterations is: -816620.74375. Best ELBO loss value is: -817869.8125.\n",
      "\n",
      "C_path mean = tensor([[49.6770,  0.4817,  1.7679]], grad_fn=<MeanBackward1>)\n",
      "\n",
      " C_path = tensor([[[4.5660e+01, 7.1469e-02, 7.1469e-01],\n",
      "         [4.5407e+01, 3.6279e-02, 5.4920e-01],\n",
      "         [4.4196e+01, 1.3481e-02, 4.9869e-01],\n",
      "         ...,\n",
      "         [4.6477e+01, 2.0980e-01, 1.0075e+00],\n",
      "         [4.6334e+01, 1.6000e-01, 8.8619e-01],\n",
      "         [4.6119e+01, 1.1020e-01, 7.6302e-01]]], grad_fn=<CatBackward>)\n"
     ]
    },
    {
     "name": "stderr",
     "output_type": "stream",
     "text": [
      "\n",
      "Train Diffusion:  75%|███████▍  | 1491/2000 [44:06<14:43,  1.73s/it]\u001b[A\n",
      "Train Diffusion:  75%|███████▍  | 1492/2000 [44:07<14:41,  1.73s/it]\u001b[A\n",
      "Train Diffusion:  75%|███████▍  | 1493/2000 [44:09<14:40,  1.74s/it]\u001b[A\n",
      "Train Diffusion:  75%|███████▍  | 1494/2000 [44:11<14:37,  1.73s/it]\u001b[A\n",
      "Train Diffusion:  75%|███████▍  | 1495/2000 [44:12<14:36,  1.74s/it]\u001b[A\n",
      "Train Diffusion:  75%|███████▍  | 1496/2000 [44:14<14:33,  1.73s/it]\u001b[A\n",
      "Train Diffusion:  75%|███████▍  | 1497/2000 [44:16<14:32,  1.73s/it]\u001b[A\n",
      "Train Diffusion:  75%|███████▍  | 1498/2000 [44:18<14:29,  1.73s/it]\u001b[A\n",
      "Train Diffusion:  75%|███████▍  | 1499/2000 [44:19<14:26,  1.73s/it]\u001b[A\n",
      "Train Diffusion:  75%|███████▌  | 1500/2000 [44:21<14:25,  1.73s/it]\u001b[A"
     ]
    },
    {
     "name": "stdout",
     "output_type": "stream",
     "text": [
      "Moving average ELBO loss at 1500 iterations is: -819474.23125. Best ELBO loss value is: -820542.0625.\n",
      "\n",
      "C_path mean = tensor([[50.0302,  0.4787,  1.7223]], grad_fn=<MeanBackward1>)\n",
      "\n",
      " C_path = tensor([[[4.5660e+01, 7.1469e-02, 7.1469e-01],\n",
      "         [4.3658e+01, 5.0686e-02, 5.8296e-01],\n",
      "         [4.3281e+01, 1.0719e-02, 5.1167e-01],\n",
      "         ...,\n",
      "         [4.6505e+01, 2.0655e-01, 9.9038e-01],\n",
      "         [4.6544e+01, 1.6325e-01, 8.7276e-01],\n",
      "         [4.6247e+01, 1.0923e-01, 7.4543e-01]]], grad_fn=<CatBackward>)\n"
     ]
    },
    {
     "name": "stderr",
     "output_type": "stream",
     "text": [
      "\n",
      "Train Diffusion:  75%|███████▌  | 1501/2000 [44:23<14:23,  1.73s/it]\u001b[A\n",
      "Train Diffusion:  75%|███████▌  | 1502/2000 [44:25<14:21,  1.73s/it]\u001b[A\n",
      "Train Diffusion:  75%|███████▌  | 1503/2000 [44:26<14:19,  1.73s/it]\u001b[A\n",
      "Train Diffusion:  75%|███████▌  | 1504/2000 [44:28<14:19,  1.73s/it]\u001b[A\n",
      "Train Diffusion:  75%|███████▌  | 1505/2000 [44:30<14:16,  1.73s/it]\u001b[A\n",
      "Train Diffusion:  75%|███████▌  | 1506/2000 [44:31<14:14,  1.73s/it]\u001b[A\n",
      "Train Diffusion:  75%|███████▌  | 1507/2000 [44:33<14:12,  1.73s/it]\u001b[A\n",
      "Train Diffusion:  75%|███████▌  | 1508/2000 [44:35<14:10,  1.73s/it]\u001b[A\n",
      "Train Diffusion:  75%|███████▌  | 1509/2000 [44:37<14:07,  1.73s/it]\u001b[A\n",
      "Train Diffusion:  76%|███████▌  | 1510/2000 [44:38<14:06,  1.73s/it]\u001b[A"
     ]
    },
    {
     "name": "stdout",
     "output_type": "stream",
     "text": [
      "Moving average ELBO loss at 1510 iterations is: -821815.7. Best ELBO loss value is: -822538.625.\n",
      "\n",
      "C_path mean = tensor([[50.1332,  0.5333,  1.6449]], grad_fn=<MeanBackward1>)\n",
      "\n",
      " C_path = tensor([[[4.5660e+01, 7.1469e-02, 7.1469e-01],\n",
      "         [4.6112e+01, 5.8165e-02, 6.1787e-01],\n",
      "         [4.6230e+01, 3.6540e-02, 5.2870e-01],\n",
      "         ...,\n",
      "         [4.6873e+01, 2.2122e-01, 9.0073e-01],\n",
      "         [4.6831e+01, 1.6547e-01, 7.9360e-01],\n",
      "         [4.6589e+01, 9.1862e-02, 6.6189e-01]]], grad_fn=<CatBackward>)\n"
     ]
    },
    {
     "name": "stderr",
     "output_type": "stream",
     "text": [
      "\n",
      "Train Diffusion:  76%|███████▌  | 1511/2000 [44:40<14:04,  1.73s/it]\u001b[A\n",
      "Train Diffusion:  76%|███████▌  | 1512/2000 [44:42<14:05,  1.73s/it]\u001b[A\n",
      "Train Diffusion:  76%|███████▌  | 1513/2000 [44:44<14:02,  1.73s/it]\u001b[A\n",
      "Train Diffusion:  76%|███████▌  | 1514/2000 [44:45<13:59,  1.73s/it]\u001b[A\n",
      "Train Diffusion:  76%|███████▌  | 1515/2000 [44:47<14:00,  1.73s/it]\u001b[A\n",
      "Train Diffusion:  76%|███████▌  | 1516/2000 [44:49<13:56,  1.73s/it]\u001b[A\n",
      "Train Diffusion:  76%|███████▌  | 1517/2000 [44:51<13:54,  1.73s/it]\u001b[A\n",
      "Train Diffusion:  76%|███████▌  | 1518/2000 [44:52<13:52,  1.73s/it]\u001b[A\n",
      "Train Diffusion:  76%|███████▌  | 1519/2000 [44:54<13:51,  1.73s/it]\u001b[A\n",
      "Train Diffusion:  76%|███████▌  | 1520/2000 [44:56<13:49,  1.73s/it]\u001b[A"
     ]
    },
    {
     "name": "stdout",
     "output_type": "stream",
     "text": [
      "Moving average ELBO loss at 1520 iterations is: -823646.2875. Best ELBO loss value is: -824929.9375.\n",
      "\n",
      "C_path mean = tensor([[50.2858,  0.5288,  1.6386]], grad_fn=<MeanBackward1>)\n",
      "\n",
      " C_path = tensor([[[4.5660e+01, 7.1469e-02, 7.1469e-01],\n",
      "         [4.5896e+01, 9.6161e-02, 5.7420e-01],\n",
      "         [4.5740e+01, 3.3342e-02, 5.0788e-01],\n",
      "         ...,\n",
      "         [4.6984e+01, 2.1245e-01, 8.7340e-01],\n",
      "         [4.6938e+01, 1.5953e-01, 7.8445e-01],\n",
      "         [4.6816e+01, 9.2374e-02, 6.6788e-01]]], grad_fn=<CatBackward>)\n"
     ]
    },
    {
     "name": "stderr",
     "output_type": "stream",
     "text": [
      "\n",
      "Train Diffusion:  76%|███████▌  | 1521/2000 [44:57<13:51,  1.74s/it]\u001b[A\n",
      "Train Diffusion:  76%|███████▌  | 1522/2000 [44:59<13:55,  1.75s/it]\u001b[A\n",
      "Train Diffusion:  76%|███████▌  | 1523/2000 [45:01<13:51,  1.74s/it]\u001b[A\n",
      "Train Diffusion:  76%|███████▌  | 1524/2000 [45:03<13:48,  1.74s/it]\u001b[A\n",
      "Train Diffusion:  76%|███████▋  | 1525/2000 [45:04<13:44,  1.74s/it]\u001b[A\n",
      "Train Diffusion:  76%|███████▋  | 1526/2000 [45:06<13:41,  1.73s/it]\u001b[A\n",
      "Train Diffusion:  76%|███████▋  | 1527/2000 [45:08<13:38,  1.73s/it]\u001b[A\n",
      "Train Diffusion:  76%|███████▋  | 1528/2000 [45:10<13:38,  1.73s/it]\u001b[A\n",
      "Train Diffusion:  76%|███████▋  | 1529/2000 [45:11<13:38,  1.74s/it]\u001b[A\n",
      "Train Diffusion:  76%|███████▋  | 1530/2000 [45:13<13:37,  1.74s/it]\u001b[A"
     ]
    },
    {
     "name": "stdout",
     "output_type": "stream",
     "text": [
      "Moving average ELBO loss at 1530 iterations is: -825962.825. Best ELBO loss value is: -827153.375.\n",
      "\n",
      "C_path mean = tensor([[50.5376,  0.5211,  1.7155]], grad_fn=<MeanBackward1>)\n",
      "\n",
      " C_path = tensor([[[45.6603,  0.0715,  0.7147],\n",
      "         [45.5009,  0.0641,  0.6150],\n",
      "         [44.9958,  0.0476,  0.5351],\n",
      "         ...,\n",
      "         [47.4053,  0.2298,  0.9870],\n",
      "         [47.3787,  0.1829,  0.8730],\n",
      "         [47.2925,  0.1112,  0.7426]]], grad_fn=<CatBackward>)\n"
     ]
    },
    {
     "name": "stderr",
     "output_type": "stream",
     "text": [
      "\n",
      "Train Diffusion:  77%|███████▋  | 1531/2000 [45:15<13:34,  1.74s/it]\u001b[A\n",
      "Train Diffusion:  77%|███████▋  | 1532/2000 [45:17<13:31,  1.73s/it]\u001b[A\n",
      "Train Diffusion:  77%|███████▋  | 1533/2000 [45:18<13:31,  1.74s/it]\u001b[A\n",
      "Train Diffusion:  77%|███████▋  | 1534/2000 [45:20<13:28,  1.73s/it]\u001b[A\n",
      "Train Diffusion:  77%|███████▋  | 1535/2000 [45:22<13:26,  1.73s/it]\u001b[A\n",
      "Train Diffusion:  77%|███████▋  | 1536/2000 [45:23<13:23,  1.73s/it]\u001b[A\n",
      "Train Diffusion:  77%|███████▋  | 1537/2000 [45:25<13:21,  1.73s/it]\u001b[A\n",
      "Train Diffusion:  77%|███████▋  | 1538/2000 [45:27<13:19,  1.73s/it]\u001b[A\n",
      "Train Diffusion:  77%|███████▋  | 1539/2000 [45:29<13:17,  1.73s/it]\u001b[A\n",
      "Train Diffusion:  77%|███████▋  | 1540/2000 [45:30<13:14,  1.73s/it]\u001b[A"
     ]
    },
    {
     "name": "stdout",
     "output_type": "stream",
     "text": [
      "Moving average ELBO loss at 1540 iterations is: -828623.1625. Best ELBO loss value is: -829925.0.\n",
      "\n",
      "C_path mean = tensor([[50.9848,  0.4886,  1.7362]], grad_fn=<MeanBackward1>)\n",
      "\n",
      " C_path = tensor([[[4.5660e+01, 7.1469e-02, 7.1469e-01],\n",
      "         [4.5098e+01, 4.4243e-02, 6.2157e-01],\n",
      "         [4.4330e+01, 3.2688e-02, 5.4212e-01],\n",
      "         ...,\n",
      "         [4.8073e+01, 2.3533e-01, 9.9935e-01],\n",
      "         [4.7779e+01, 1.8816e-01, 8.6220e-01],\n",
      "         [4.7340e+01, 1.1473e-01, 7.4711e-01]]], grad_fn=<CatBackward>)\n"
     ]
    },
    {
     "name": "stderr",
     "output_type": "stream",
     "text": [
      "\n",
      "Train Diffusion:  77%|███████▋  | 1541/2000 [45:32<13:13,  1.73s/it]\u001b[A\n",
      "Train Diffusion:  77%|███████▋  | 1542/2000 [45:34<13:11,  1.73s/it]\u001b[A\n",
      "Train Diffusion:  77%|███████▋  | 1543/2000 [45:36<13:09,  1.73s/it]\u001b[A\n",
      "Train Diffusion:  77%|███████▋  | 1544/2000 [45:37<13:07,  1.73s/it]\u001b[A\n",
      "Train Diffusion:  77%|███████▋  | 1545/2000 [45:39<13:11,  1.74s/it]\u001b[A\n",
      "Train Diffusion:  77%|███████▋  | 1546/2000 [45:41<13:10,  1.74s/it]\u001b[A\n",
      "Train Diffusion:  77%|███████▋  | 1547/2000 [45:43<13:10,  1.75s/it]\u001b[A\n",
      "Train Diffusion:  77%|███████▋  | 1548/2000 [45:44<13:07,  1.74s/it]\u001b[A\n",
      "Train Diffusion:  77%|███████▋  | 1549/2000 [45:46<13:03,  1.74s/it]\u001b[A\n",
      "Train Diffusion:  78%|███████▊  | 1550/2000 [45:48<13:01,  1.74s/it]\u001b[A"
     ]
    },
    {
     "name": "stdout",
     "output_type": "stream",
     "text": [
      "Moving average ELBO loss at 1550 iterations is: -831429.45625. Best ELBO loss value is: -832744.3125.\n",
      "\n",
      "C_path mean = tensor([[51.2719,  0.5360,  1.6691]], grad_fn=<MeanBackward1>)\n",
      "\n",
      " C_path = tensor([[[45.6603,  0.0715,  0.7147],\n",
      "         [45.7700,  0.0712,  0.5404],\n",
      "         [46.0434,  0.0546,  0.4938],\n",
      "         ...,\n",
      "         [48.5741,  0.2093,  0.8981],\n",
      "         [48.4680,  0.1623,  0.8160],\n",
      "         [48.2982,  0.0960,  0.6969]]], grad_fn=<CatBackward>)\n"
     ]
    },
    {
     "name": "stderr",
     "output_type": "stream",
     "text": [
      "\n",
      "Train Diffusion:  78%|███████▊  | 1551/2000 [45:50<12:59,  1.74s/it]\u001b[A\n",
      "Train Diffusion:  78%|███████▊  | 1552/2000 [45:51<12:56,  1.73s/it]\u001b[A\n",
      "Train Diffusion:  78%|███████▊  | 1553/2000 [45:53<12:53,  1.73s/it]\u001b[A\n",
      "Train Diffusion:  78%|███████▊  | 1554/2000 [45:55<12:51,  1.73s/it]\u001b[A\n",
      "Train Diffusion:  78%|███████▊  | 1555/2000 [45:56<12:49,  1.73s/it]\u001b[A\n",
      "Train Diffusion:  78%|███████▊  | 1556/2000 [45:58<12:46,  1.73s/it]\u001b[A\n",
      "Train Diffusion:  78%|███████▊  | 1557/2000 [46:00<12:44,  1.73s/it]\u001b[A\n",
      "Train Diffusion:  78%|███████▊  | 1558/2000 [46:02<12:44,  1.73s/it]\u001b[A\n",
      "Train Diffusion:  78%|███████▊  | 1559/2000 [46:03<12:43,  1.73s/it]\u001b[A\n",
      "Train Diffusion:  78%|███████▊  | 1560/2000 [46:05<12:41,  1.73s/it]\u001b[A"
     ]
    },
    {
     "name": "stdout",
     "output_type": "stream",
     "text": [
      "Moving average ELBO loss at 1560 iterations is: -834104.8125. Best ELBO loss value is: -835216.375.\n",
      "\n",
      "C_path mean = tensor([[51.5531,  0.5337,  1.7068]], grad_fn=<MeanBackward1>)\n",
      "\n",
      " C_path = tensor([[[4.5660e+01, 7.1469e-02, 7.1469e-01],\n",
      "         [4.5984e+01, 6.0612e-02, 5.6913e-01],\n",
      "         [4.6089e+01, 4.2700e-02, 4.9952e-01],\n",
      "         ...,\n",
      "         [4.8820e+01, 2.1291e-01, 9.4017e-01],\n",
      "         [4.8793e+01, 1.6075e-01, 8.3405e-01],\n",
      "         [4.8547e+01, 9.9669e-02, 7.2948e-01]]], grad_fn=<CatBackward>)\n"
     ]
    },
    {
     "name": "stderr",
     "output_type": "stream",
     "text": [
      "\n",
      "Train Diffusion:  78%|███████▊  | 1561/2000 [46:07<12:39,  1.73s/it]\u001b[A\n",
      "Train Diffusion:  78%|███████▊  | 1562/2000 [46:09<12:37,  1.73s/it]\u001b[A\n",
      "Train Diffusion:  78%|███████▊  | 1563/2000 [46:10<12:36,  1.73s/it]\u001b[A\n",
      "Train Diffusion:  78%|███████▊  | 1564/2000 [46:12<12:34,  1.73s/it]\u001b[A\n",
      "Train Diffusion:  78%|███████▊  | 1565/2000 [46:14<12:32,  1.73s/it]\u001b[A\n",
      "Train Diffusion:  78%|███████▊  | 1566/2000 [46:15<12:29,  1.73s/it]\u001b[A\n",
      "Train Diffusion:  78%|███████▊  | 1567/2000 [46:17<12:27,  1.73s/it]\u001b[A\n",
      "Train Diffusion:  78%|███████▊  | 1568/2000 [46:19<12:27,  1.73s/it]\u001b[A\n",
      "Train Diffusion:  78%|███████▊  | 1569/2000 [46:21<12:29,  1.74s/it]\u001b[A\n",
      "Train Diffusion:  78%|███████▊  | 1570/2000 [46:22<12:28,  1.74s/it]\u001b[A"
     ]
    },
    {
     "name": "stdout",
     "output_type": "stream",
     "text": [
      "Moving average ELBO loss at 1570 iterations is: -836794.8625. Best ELBO loss value is: -838343.5.\n",
      "\n",
      "C_path mean = tensor([[51.8316,  0.5318,  1.7149]], grad_fn=<MeanBackward1>)\n",
      "\n",
      " C_path = tensor([[[45.6603,  0.0715,  0.7147],\n",
      "         [45.6453,  0.0854,  0.6002],\n",
      "         [45.5910,  0.0595,  0.5012],\n",
      "         ...,\n",
      "         [48.8038,  0.2174,  0.9605],\n",
      "         [48.8557,  0.1635,  0.8505],\n",
      "         [48.8395,  0.1065,  0.7257]]], grad_fn=<CatBackward>)\n"
     ]
    },
    {
     "name": "stderr",
     "output_type": "stream",
     "text": [
      "\n",
      "Train Diffusion:  79%|███████▊  | 1571/2000 [46:24<12:26,  1.74s/it]\u001b[A\n",
      "Train Diffusion:  79%|███████▊  | 1572/2000 [46:26<12:23,  1.74s/it]\u001b[A\n",
      "Train Diffusion:  79%|███████▊  | 1573/2000 [46:28<12:19,  1.73s/it]\u001b[A\n",
      "Train Diffusion:  79%|███████▊  | 1574/2000 [46:29<12:16,  1.73s/it]\u001b[A\n",
      "Train Diffusion:  79%|███████▉  | 1575/2000 [46:31<12:13,  1.73s/it]\u001b[A\n",
      "Train Diffusion:  79%|███████▉  | 1576/2000 [46:33<12:11,  1.73s/it]\u001b[A\n",
      "Train Diffusion:  79%|███████▉  | 1577/2000 [46:34<12:10,  1.73s/it]\u001b[A\n",
      "Train Diffusion:  79%|███████▉  | 1578/2000 [46:36<12:08,  1.73s/it]\u001b[A\n",
      "Train Diffusion:  79%|███████▉  | 1579/2000 [46:38<12:07,  1.73s/it]\u001b[A\n",
      "Train Diffusion:  79%|███████▉  | 1580/2000 [46:40<12:06,  1.73s/it]\u001b[A"
     ]
    },
    {
     "name": "stdout",
     "output_type": "stream",
     "text": [
      "Moving average ELBO loss at 1580 iterations is: -838911.0875. Best ELBO loss value is: -839816.3125.\n",
      "\n",
      "C_path mean = tensor([[52.0927,  0.5077,  1.6919]], grad_fn=<MeanBackward1>)\n",
      "\n",
      " C_path = tensor([[[4.5660e+01, 7.1469e-02, 7.1469e-01],\n",
      "         [4.6140e+01, 6.3979e-02, 5.0371e-01],\n",
      "         [4.6085e+01, 2.7489e-02, 4.6448e-01],\n",
      "         ...,\n",
      "         [4.9316e+01, 1.8687e-01, 9.0242e-01],\n",
      "         [4.9384e+01, 1.3994e-01, 8.2102e-01],\n",
      "         [4.9311e+01, 9.5031e-02, 7.0563e-01]]], grad_fn=<CatBackward>)\n"
     ]
    },
    {
     "name": "stderr",
     "output_type": "stream",
     "text": [
      "\n",
      "Train Diffusion:  79%|███████▉  | 1581/2000 [46:41<12:06,  1.73s/it]\u001b[A\n",
      "Train Diffusion:  79%|███████▉  | 1582/2000 [46:43<12:05,  1.73s/it]\u001b[A\n",
      "Train Diffusion:  79%|███████▉  | 1583/2000 [46:45<12:01,  1.73s/it]\u001b[A\n",
      "Train Diffusion:  79%|███████▉  | 1584/2000 [46:47<11:59,  1.73s/it]\u001b[A\n",
      "Train Diffusion:  79%|███████▉  | 1585/2000 [46:48<11:56,  1.73s/it]\u001b[A\n",
      "Train Diffusion:  79%|███████▉  | 1586/2000 [46:50<11:54,  1.73s/it]\u001b[A\n",
      "Train Diffusion:  79%|███████▉  | 1587/2000 [46:52<11:52,  1.73s/it]\u001b[A\n",
      "Train Diffusion:  79%|███████▉  | 1588/2000 [46:54<11:52,  1.73s/it]\u001b[A\n",
      "Train Diffusion:  79%|███████▉  | 1589/2000 [46:55<11:49,  1.73s/it]\u001b[A\n",
      "Train Diffusion:  80%|███████▉  | 1590/2000 [46:57<11:47,  1.72s/it]\u001b[A"
     ]
    },
    {
     "name": "stdout",
     "output_type": "stream",
     "text": [
      "Moving average ELBO loss at 1590 iterations is: -840451.29375. Best ELBO loss value is: -842155.1875.\n",
      "\n",
      "C_path mean = tensor([[52.2424,  0.5229,  1.6937]], grad_fn=<MeanBackward1>)\n",
      "\n",
      " C_path = tensor([[[45.6603,  0.0715,  0.7147],\n",
      "         [45.3783,  0.0882,  0.6372],\n",
      "         [45.3211,  0.0701,  0.5361],\n",
      "         ...,\n",
      "         [49.1240,  0.2327,  0.9838],\n",
      "         [49.0281,  0.1827,  0.8572],\n",
      "         [49.0957,  0.1139,  0.7317]]], grad_fn=<CatBackward>)\n"
     ]
    },
    {
     "name": "stderr",
     "output_type": "stream",
     "text": [
      "\n",
      "Train Diffusion:  80%|███████▉  | 1591/2000 [46:59<11:48,  1.73s/it]\u001b[A\n",
      "Train Diffusion:  80%|███████▉  | 1592/2000 [47:00<11:45,  1.73s/it]\u001b[A\n",
      "Train Diffusion:  80%|███████▉  | 1593/2000 [47:02<11:45,  1.73s/it]\u001b[A\n",
      "Train Diffusion:  80%|███████▉  | 1594/2000 [47:04<11:42,  1.73s/it]\u001b[A\n",
      "Train Diffusion:  80%|███████▉  | 1595/2000 [47:06<11:40,  1.73s/it]\u001b[A\n",
      "Train Diffusion:  80%|███████▉  | 1596/2000 [47:07<11:38,  1.73s/it]\u001b[A\n",
      "Train Diffusion:  80%|███████▉  | 1597/2000 [47:09<11:45,  1.75s/it]\u001b[A\n",
      "Train Diffusion:  80%|███████▉  | 1598/2000 [47:11<11:41,  1.74s/it]\u001b[A\n",
      "Train Diffusion:  80%|███████▉  | 1599/2000 [47:13<11:39,  1.74s/it]\u001b[A\n",
      "Train Diffusion:  80%|████████  | 1600/2000 [47:14<11:35,  1.74s/it]\u001b[A"
     ]
    },
    {
     "name": "stdout",
     "output_type": "stream",
     "text": [
      "Moving average ELBO loss at 1600 iterations is: -842921.75625. Best ELBO loss value is: -844198.6875.\n",
      "\n",
      "C_path mean = tensor([[52.4698,  0.4872,  1.6971]], grad_fn=<MeanBackward1>)\n",
      "\n",
      " C_path = tensor([[[4.5660e+01, 7.1469e-02, 7.1469e-01],\n",
      "         [4.5338e+01, 5.4254e-02, 5.5111e-01],\n",
      "         [4.5225e+01, 2.1097e-02, 4.8420e-01],\n",
      "         ...,\n",
      "         [4.9458e+01, 1.9903e-01, 9.2534e-01],\n",
      "         [4.9393e+01, 1.5809e-01, 8.3476e-01],\n",
      "         [4.9262e+01, 1.0186e-01, 7.0949e-01]]], grad_fn=<CatBackward>)\n"
     ]
    },
    {
     "name": "stderr",
     "output_type": "stream",
     "text": [
      "\n",
      "Train Diffusion:  80%|████████  | 1601/2000 [47:16<11:32,  1.74s/it]\u001b[A\n",
      "Train Diffusion:  80%|████████  | 1602/2000 [47:18<11:29,  1.73s/it]\u001b[A\n",
      "Train Diffusion:  80%|████████  | 1603/2000 [47:20<11:27,  1.73s/it]\u001b[A\n",
      "Train Diffusion:  80%|████████  | 1604/2000 [47:21<11:25,  1.73s/it]\u001b[A\n",
      "Train Diffusion:  80%|████████  | 1605/2000 [47:23<11:23,  1.73s/it]\u001b[A\n",
      "Train Diffusion:  80%|████████  | 1606/2000 [47:25<11:20,  1.73s/it]\u001b[A\n",
      "Train Diffusion:  80%|████████  | 1607/2000 [47:26<11:19,  1.73s/it]\u001b[A\n",
      "Train Diffusion:  80%|████████  | 1608/2000 [47:28<11:19,  1.73s/it]\u001b[A\n",
      "Train Diffusion:  80%|████████  | 1609/2000 [47:30<11:17,  1.73s/it]\u001b[A\n",
      "Train Diffusion:  80%|████████  | 1610/2000 [47:32<11:15,  1.73s/it]\u001b[A"
     ]
    },
    {
     "name": "stdout",
     "output_type": "stream",
     "text": [
      "Moving average ELBO loss at 1610 iterations is: -845209.71875. Best ELBO loss value is: -846129.4375.\n",
      "\n",
      "C_path mean = tensor([[52.6213,  0.5403,  1.7189]], grad_fn=<MeanBackward1>)\n",
      "\n",
      " C_path = tensor([[[45.6603,  0.0715,  0.7147],\n",
      "         [45.4788,  0.0660,  0.6006],\n",
      "         [45.6107,  0.0532,  0.5077],\n",
      "         ...,\n",
      "         [49.7479,  0.2324,  0.9558],\n",
      "         [49.6359,  0.1752,  0.8383],\n",
      "         [49.4808,  0.1077,  0.7081]]], grad_fn=<CatBackward>)\n"
     ]
    },
    {
     "name": "stderr",
     "output_type": "stream",
     "text": [
      "\n",
      "Train Diffusion:  81%|████████  | 1611/2000 [47:33<11:12,  1.73s/it]\u001b[A\n",
      "Train Diffusion:  81%|████████  | 1612/2000 [47:35<11:11,  1.73s/it]\u001b[A\n",
      "Train Diffusion:  81%|████████  | 1613/2000 [47:37<11:08,  1.73s/it]\u001b[A\n",
      "Train Diffusion:  81%|████████  | 1614/2000 [47:39<11:11,  1.74s/it]\u001b[A\n",
      "Train Diffusion:  81%|████████  | 1615/2000 [47:40<11:11,  1.74s/it]\u001b[A\n",
      "Train Diffusion:  81%|████████  | 1616/2000 [47:42<11:11,  1.75s/it]\u001b[A\n",
      "Train Diffusion:  81%|████████  | 1617/2000 [47:44<11:07,  1.74s/it]\u001b[A\n",
      "Train Diffusion:  81%|████████  | 1618/2000 [47:46<11:04,  1.74s/it]\u001b[A\n",
      "Train Diffusion:  81%|████████  | 1619/2000 [47:47<11:03,  1.74s/it]\u001b[A\n",
      "Train Diffusion:  81%|████████  | 1620/2000 [47:49<11:00,  1.74s/it]\u001b[A"
     ]
    },
    {
     "name": "stdout",
     "output_type": "stream",
     "text": [
      "Moving average ELBO loss at 1620 iterations is: -847292.58125. Best ELBO loss value is: -848259.6875.\n",
      "\n",
      "C_path mean = tensor([[52.8722,  0.5055,  1.7229]], grad_fn=<MeanBackward1>)\n",
      "\n",
      " C_path = tensor([[[4.5660e+01, 7.1469e-02, 7.1469e-01],\n",
      "         [4.5373e+01, 5.5386e-02, 5.5917e-01],\n",
      "         [4.5240e+01, 2.5613e-02, 4.9568e-01],\n",
      "         ...,\n",
      "         [4.9909e+01, 2.1070e-01, 9.4545e-01],\n",
      "         [4.9836e+01, 1.6457e-01, 8.4223e-01],\n",
      "         [4.9731e+01, 1.0636e-01, 7.1843e-01]]], grad_fn=<CatBackward>)\n"
     ]
    },
    {
     "name": "stderr",
     "output_type": "stream",
     "text": [
      "\n",
      "Train Diffusion:  81%|████████  | 1621/2000 [47:51<10:57,  1.74s/it]\u001b[A\n",
      "Train Diffusion:  81%|████████  | 1622/2000 [47:52<10:55,  1.73s/it]\u001b[A\n",
      "Train Diffusion:  81%|████████  | 1623/2000 [47:54<10:52,  1.73s/it]\u001b[A\n",
      "Train Diffusion:  81%|████████  | 1624/2000 [47:56<10:50,  1.73s/it]\u001b[A\n",
      "Train Diffusion:  81%|████████▏ | 1625/2000 [47:58<10:48,  1.73s/it]\u001b[A\n",
      "Train Diffusion:  81%|████████▏ | 1626/2000 [47:59<10:47,  1.73s/it]\u001b[A\n",
      "Train Diffusion:  81%|████████▏ | 1627/2000 [48:01<10:49,  1.74s/it]\u001b[A\n",
      "Train Diffusion:  81%|████████▏ | 1628/2000 [48:03<10:56,  1.77s/it]\u001b[A\n",
      "Train Diffusion:  81%|████████▏ | 1629/2000 [48:05<10:55,  1.77s/it]\u001b[A\n",
      "Train Diffusion:  82%|████████▏ | 1630/2000 [48:07<10:50,  1.76s/it]\u001b[A"
     ]
    },
    {
     "name": "stdout",
     "output_type": "stream",
     "text": [
      "Moving average ELBO loss at 1630 iterations is: -849033.05. Best ELBO loss value is: -849924.3125.\n",
      "\n",
      "C_path mean = tensor([[53.1250,  0.5085,  1.6807]], grad_fn=<MeanBackward1>)\n",
      "\n",
      " C_path = tensor([[[45.6603,  0.0715,  0.7147],\n",
      "         [45.3564,  0.0706,  0.5768],\n",
      "         [45.7855,  0.0575,  0.5263],\n",
      "         ...,\n",
      "         [49.9785,  0.2000,  0.9142],\n",
      "         [49.9469,  0.1767,  0.8134],\n",
      "         [49.9543,  0.1074,  0.7087]]], grad_fn=<CatBackward>)\n"
     ]
    },
    {
     "name": "stderr",
     "output_type": "stream",
     "text": [
      "\n",
      "Train Diffusion:  82%|████████▏ | 1631/2000 [48:08<10:45,  1.75s/it]\u001b[A\n",
      "Train Diffusion:  82%|████████▏ | 1632/2000 [48:10<10:41,  1.74s/it]\u001b[A\n",
      "Train Diffusion:  82%|████████▏ | 1633/2000 [48:12<10:39,  1.74s/it]\u001b[A\n",
      "Train Diffusion:  82%|████████▏ | 1634/2000 [48:13<10:36,  1.74s/it]\u001b[A\n",
      "Train Diffusion:  82%|████████▏ | 1635/2000 [48:15<10:33,  1.74s/it]\u001b[A\n",
      "Train Diffusion:  82%|████████▏ | 1636/2000 [48:17<10:32,  1.74s/it]\u001b[A\n",
      "Train Diffusion:  82%|████████▏ | 1637/2000 [48:19<10:31,  1.74s/it]\u001b[A\n",
      "Train Diffusion:  82%|████████▏ | 1638/2000 [48:20<10:27,  1.73s/it]\u001b[A\n",
      "Train Diffusion:  82%|████████▏ | 1639/2000 [48:22<10:25,  1.73s/it]\u001b[A\n",
      "Train Diffusion:  82%|████████▏ | 1640/2000 [48:24<10:23,  1.73s/it]\u001b[A"
     ]
    },
    {
     "name": "stdout",
     "output_type": "stream",
     "text": [
      "Moving average ELBO loss at 1640 iterations is: -851221.54375. Best ELBO loss value is: -852332.4375.\n",
      "\n",
      "C_path mean = tensor([[53.3036,  0.5343,  1.6821]], grad_fn=<MeanBackward1>)\n",
      "\n",
      " C_path = tensor([[[45.6603,  0.0715,  0.7147],\n",
      "         [45.5925,  0.0791,  0.5714],\n",
      "         [45.9680,  0.0803,  0.5056],\n",
      "         ...,\n",
      "         [50.2153,  0.2067,  0.9322],\n",
      "         [50.2071,  0.1700,  0.8206],\n",
      "         [50.2659,  0.1057,  0.6988]]], grad_fn=<CatBackward>)\n"
     ]
    },
    {
     "name": "stderr",
     "output_type": "stream",
     "text": [
      "\n",
      "Train Diffusion:  82%|████████▏ | 1641/2000 [48:26<10:22,  1.73s/it]\u001b[A\n",
      "Train Diffusion:  82%|████████▏ | 1642/2000 [48:27<10:20,  1.73s/it]\u001b[A\n",
      "Train Diffusion:  82%|████████▏ | 1643/2000 [48:29<10:19,  1.73s/it]\u001b[A\n",
      "Train Diffusion:  82%|████████▏ | 1644/2000 [48:31<10:16,  1.73s/it]\u001b[A\n",
      "Train Diffusion:  82%|████████▏ | 1645/2000 [48:32<10:14,  1.73s/it]\u001b[A\n",
      "Train Diffusion:  82%|████████▏ | 1646/2000 [48:34<10:12,  1.73s/it]\u001b[A\n",
      "Train Diffusion:  82%|████████▏ | 1647/2000 [48:36<10:10,  1.73s/it]\u001b[A\n",
      "Train Diffusion:  82%|████████▏ | 1648/2000 [48:38<10:17,  1.75s/it]\u001b[A\n",
      "Train Diffusion:  82%|████████▏ | 1649/2000 [48:40<10:21,  1.77s/it]\u001b[A\n",
      "Train Diffusion:  82%|████████▎ | 1650/2000 [48:41<10:25,  1.79s/it]\u001b[A"
     ]
    },
    {
     "name": "stdout",
     "output_type": "stream",
     "text": [
      "Moving average ELBO loss at 1650 iterations is: -853273.725. Best ELBO loss value is: -854444.4375.\n",
      "\n",
      "C_path mean = tensor([[53.4580,  0.5541,  1.7128]], grad_fn=<MeanBackward1>)\n",
      "\n",
      " C_path = tensor([[[45.6603,  0.0715,  0.7147],\n",
      "         [46.0593,  0.0981,  0.5779],\n",
      "         [46.4200,  0.0727,  0.4962],\n",
      "         ...,\n",
      "         [50.3817,  0.2127,  0.9528],\n",
      "         [50.3669,  0.1607,  0.8347],\n",
      "         [50.4981,  0.1054,  0.7074]]], grad_fn=<CatBackward>)\n"
     ]
    },
    {
     "name": "stderr",
     "output_type": "stream",
     "text": [
      "\n",
      "Train Diffusion:  83%|████████▎ | 1651/2000 [48:43<10:21,  1.78s/it]\u001b[A\n",
      "Train Diffusion:  83%|████████▎ | 1652/2000 [48:45<10:15,  1.77s/it]\u001b[A\n",
      "Train Diffusion:  83%|████████▎ | 1653/2000 [48:47<10:09,  1.76s/it]\u001b[A\n",
      "Train Diffusion:  83%|████████▎ | 1654/2000 [48:48<10:05,  1.75s/it]\u001b[A\n",
      "Train Diffusion:  83%|████████▎ | 1655/2000 [48:50<10:02,  1.75s/it]\u001b[A\n",
      "Train Diffusion:  83%|████████▎ | 1656/2000 [48:52<09:58,  1.74s/it]\u001b[A\n",
      "Train Diffusion:  83%|████████▎ | 1657/2000 [48:54<09:55,  1.74s/it]\u001b[A\n",
      "Train Diffusion:  83%|████████▎ | 1658/2000 [48:55<09:53,  1.74s/it]\u001b[A\n",
      "Train Diffusion:  83%|████████▎ | 1659/2000 [48:57<09:50,  1.73s/it]\u001b[A\n",
      "Train Diffusion:  83%|████████▎ | 1660/2000 [48:59<09:50,  1.74s/it]\u001b[A"
     ]
    },
    {
     "name": "stdout",
     "output_type": "stream",
     "text": [
      "Moving average ELBO loss at 1660 iterations is: -855520.375. Best ELBO loss value is: -856728.625.\n",
      "\n",
      "C_path mean = tensor([[53.7196,  0.5430,  1.7218]], grad_fn=<MeanBackward1>)\n",
      "\n",
      " C_path = tensor([[[45.6603,  0.0715,  0.7147],\n",
      "         [45.7392,  0.0782,  0.6073],\n",
      "         [45.9930,  0.0644,  0.5273],\n",
      "         ...,\n",
      "         [50.5629,  0.2186,  0.9513],\n",
      "         [50.5437,  0.1750,  0.8497],\n",
      "         [50.4928,  0.1076,  0.7334]]], grad_fn=<CatBackward>)\n"
     ]
    },
    {
     "name": "stderr",
     "output_type": "stream",
     "text": [
      "\n",
      "Train Diffusion:  83%|████████▎ | 1661/2000 [49:01<09:50,  1.74s/it]\u001b[A\n",
      "Train Diffusion:  83%|████████▎ | 1662/2000 [49:02<09:49,  1.74s/it]\u001b[A\n",
      "Train Diffusion:  83%|████████▎ | 1663/2000 [49:04<09:46,  1.74s/it]\u001b[A\n",
      "Train Diffusion:  83%|████████▎ | 1664/2000 [49:06<09:43,  1.74s/it]\u001b[A\n",
      "Train Diffusion:  83%|████████▎ | 1665/2000 [49:07<09:40,  1.73s/it]\u001b[A\n",
      "Train Diffusion:  83%|████████▎ | 1666/2000 [49:09<09:39,  1.73s/it]\u001b[A\n",
      "Train Diffusion:  83%|████████▎ | 1667/2000 [49:11<09:37,  1.73s/it]\u001b[A\n",
      "Train Diffusion:  83%|████████▎ | 1668/2000 [49:13<09:35,  1.73s/it]\u001b[A\n",
      "Train Diffusion:  83%|████████▎ | 1669/2000 [49:14<09:33,  1.73s/it]\u001b[A\n",
      "Train Diffusion:  84%|████████▎ | 1670/2000 [49:16<09:31,  1.73s/it]\u001b[A"
     ]
    },
    {
     "name": "stdout",
     "output_type": "stream",
     "text": [
      "Moving average ELBO loss at 1670 iterations is: -857444.225. Best ELBO loss value is: -858281.75.\n",
      "\n",
      "C_path mean = tensor([[53.9732,  0.5507,  1.7044]], grad_fn=<MeanBackward1>)\n",
      "\n",
      " C_path = tensor([[[45.6603,  0.0715,  0.7147],\n",
      "         [46.0752,  0.1166,  0.6117],\n",
      "         [46.6186,  0.1138,  0.5040],\n",
      "         ...,\n",
      "         [51.0138,  0.2234,  0.9648],\n",
      "         [50.8836,  0.1663,  0.8506],\n",
      "         [50.6764,  0.1064,  0.7262]]], grad_fn=<CatBackward>)\n"
     ]
    },
    {
     "name": "stderr",
     "output_type": "stream",
     "text": [
      "\n",
      "Train Diffusion:  84%|████████▎ | 1671/2000 [49:18<09:29,  1.73s/it]\u001b[A\n",
      "Train Diffusion:  84%|████████▎ | 1672/2000 [49:20<09:28,  1.73s/it]\u001b[A\n",
      "Train Diffusion:  84%|████████▎ | 1673/2000 [49:21<09:26,  1.73s/it]\u001b[A\n",
      "Train Diffusion:  84%|████████▎ | 1674/2000 [49:23<09:24,  1.73s/it]\u001b[A\n",
      "Train Diffusion:  84%|████████▍ | 1675/2000 [49:25<09:24,  1.74s/it]\u001b[A\n",
      "Train Diffusion:  84%|████████▍ | 1676/2000 [49:27<09:21,  1.73s/it]\u001b[A\n",
      "Train Diffusion:  84%|████████▍ | 1677/2000 [49:28<09:19,  1.73s/it]\u001b[A\n",
      "Train Diffusion:  84%|████████▍ | 1678/2000 [49:30<09:17,  1.73s/it]\u001b[A\n",
      "Train Diffusion:  84%|████████▍ | 1679/2000 [49:32<09:15,  1.73s/it]\u001b[A\n",
      "Train Diffusion:  84%|████████▍ | 1680/2000 [49:33<09:13,  1.73s/it]\u001b[A"
     ]
    },
    {
     "name": "stdout",
     "output_type": "stream",
     "text": [
      "Moving average ELBO loss at 1680 iterations is: -859210.05. Best ELBO loss value is: -859687.0625.\n",
      "\n",
      "C_path mean = tensor([[54.1889,  0.5245,  1.6846]], grad_fn=<MeanBackward1>)\n",
      "\n",
      " C_path = tensor([[[4.5660e+01, 7.1469e-02, 7.1469e-01],\n",
      "         [4.5751e+01, 5.8744e-02, 5.6926e-01],\n",
      "         [4.6523e+01, 5.0915e-02, 4.7362e-01],\n",
      "         ...,\n",
      "         [5.1333e+01, 2.1342e-01, 9.1434e-01],\n",
      "         [5.1125e+01, 1.5727e-01, 8.1881e-01],\n",
      "         [5.0760e+01, 9.7451e-02, 6.9420e-01]]], grad_fn=<CatBackward>)\n"
     ]
    },
    {
     "name": "stderr",
     "output_type": "stream",
     "text": [
      "\n",
      "Train Diffusion:  84%|████████▍ | 1681/2000 [49:35<09:11,  1.73s/it]\u001b[A\n",
      "Train Diffusion:  84%|████████▍ | 1682/2000 [49:37<09:10,  1.73s/it]\u001b[A\n",
      "Train Diffusion:  84%|████████▍ | 1683/2000 [49:39<09:12,  1.74s/it]\u001b[A\n",
      "Train Diffusion:  84%|████████▍ | 1684/2000 [49:40<09:10,  1.74s/it]\u001b[A\n",
      "Train Diffusion:  84%|████████▍ | 1685/2000 [49:42<09:09,  1.74s/it]\u001b[A\n",
      "Train Diffusion:  84%|████████▍ | 1686/2000 [49:44<09:07,  1.74s/it]\u001b[A\n",
      "Train Diffusion:  84%|████████▍ | 1687/2000 [49:46<09:04,  1.74s/it]\u001b[A\n",
      "Train Diffusion:  84%|████████▍ | 1688/2000 [49:47<09:04,  1.75s/it]\u001b[A\n",
      "Train Diffusion:  84%|████████▍ | 1689/2000 [49:49<09:03,  1.75s/it]\u001b[A\n",
      "Train Diffusion:  84%|████████▍ | 1690/2000 [49:51<09:00,  1.74s/it]\u001b[A"
     ]
    },
    {
     "name": "stdout",
     "output_type": "stream",
     "text": [
      "Moving average ELBO loss at 1690 iterations is: -859916.73125. Best ELBO loss value is: -861249.0625.\n",
      "\n",
      "C_path mean = tensor([[54.2136,  0.5143,  1.7766]], grad_fn=<MeanBackward1>)\n",
      "\n",
      " C_path = tensor([[[4.5660e+01, 7.1469e-02, 7.1469e-01],\n",
      "         [4.5133e+01, 7.1986e-02, 6.4734e-01],\n",
      "         [4.4465e+01, 2.7647e-02, 5.7219e-01],\n",
      "         ...,\n",
      "         [4.9965e+01, 2.0983e-01, 1.1032e+00],\n",
      "         [5.0211e+01, 1.8662e-01, 9.1958e-01],\n",
      "         [5.0739e+01, 1.3253e-01, 7.7025e-01]]], grad_fn=<CatBackward>)\n"
     ]
    },
    {
     "name": "stderr",
     "output_type": "stream",
     "text": [
      "\n",
      "Train Diffusion:  85%|████████▍ | 1691/2000 [49:53<08:57,  1.74s/it]\u001b[A\n",
      "Train Diffusion:  85%|████████▍ | 1692/2000 [49:54<08:54,  1.74s/it]\u001b[A\n",
      "Train Diffusion:  85%|████████▍ | 1693/2000 [49:56<08:52,  1.73s/it]\u001b[A\n",
      "Train Diffusion:  85%|████████▍ | 1694/2000 [49:58<08:50,  1.73s/it]\u001b[A\n",
      "Train Diffusion:  85%|████████▍ | 1695/2000 [50:00<08:48,  1.73s/it]\u001b[A\n",
      "Train Diffusion:  85%|████████▍ | 1696/2000 [50:01<08:47,  1.73s/it]\u001b[A\n",
      "Train Diffusion:  85%|████████▍ | 1697/2000 [50:03<08:46,  1.74s/it]\u001b[A\n",
      "Train Diffusion:  85%|████████▍ | 1698/2000 [50:05<08:44,  1.74s/it]\u001b[A\n",
      "Train Diffusion:  85%|████████▍ | 1699/2000 [50:06<08:43,  1.74s/it]\u001b[A\n",
      "Train Diffusion:  85%|████████▌ | 1700/2000 [50:08<08:41,  1.74s/it]\u001b[A"
     ]
    },
    {
     "name": "stdout",
     "output_type": "stream",
     "text": [
      "Moving average ELBO loss at 1700 iterations is: -861321.23125. Best ELBO loss value is: -862483.625.\n",
      "\n",
      "C_path mean = tensor([[54.4673,  0.4973,  1.6516]], grad_fn=<MeanBackward1>)\n",
      "\n",
      " C_path = tensor([[[45.6603,  0.0715,  0.7147],\n",
      "         [45.8236,  0.0838,  0.6326],\n",
      "         [46.4445,  0.0651,  0.5342],\n",
      "         ...,\n",
      "         [51.4626,  0.2181,  0.9177],\n",
      "         [51.3421,  0.1697,  0.8484],\n",
      "         [51.1505,  0.0967,  0.7378]]], grad_fn=<CatBackward>)\n"
     ]
    },
    {
     "name": "stderr",
     "output_type": "stream",
     "text": [
      "\n",
      "Train Diffusion:  85%|████████▌ | 1701/2000 [50:10<08:39,  1.74s/it]\u001b[A\n",
      "Train Diffusion:  85%|████████▌ | 1702/2000 [50:12<08:38,  1.74s/it]\u001b[A\n",
      "Train Diffusion:  85%|████████▌ | 1703/2000 [50:13<08:35,  1.73s/it]\u001b[A\n",
      "Train Diffusion:  85%|████████▌ | 1704/2000 [50:15<08:35,  1.74s/it]\u001b[A\n",
      "Train Diffusion:  85%|████████▌ | 1705/2000 [50:17<08:32,  1.74s/it]\u001b[A\n",
      "Train Diffusion:  85%|████████▌ | 1706/2000 [50:19<08:30,  1.74s/it]\u001b[A\n",
      "Train Diffusion:  85%|████████▌ | 1707/2000 [50:20<08:28,  1.74s/it]\u001b[A\n",
      "Train Diffusion:  85%|████████▌ | 1708/2000 [50:22<08:28,  1.74s/it]\u001b[A\n",
      "Train Diffusion:  85%|████████▌ | 1709/2000 [50:24<08:26,  1.74s/it]\u001b[A\n",
      "Train Diffusion:  86%|████████▌ | 1710/2000 [50:26<08:24,  1.74s/it]\u001b[A"
     ]
    },
    {
     "name": "stdout",
     "output_type": "stream",
     "text": [
      "Moving average ELBO loss at 1710 iterations is: -863265.94375. Best ELBO loss value is: -864545.0625.\n",
      "\n",
      "C_path mean = tensor([[54.4903,  0.5437,  1.6543]], grad_fn=<MeanBackward1>)\n",
      "\n",
      " C_path = tensor([[[45.6603,  0.0715,  0.7147],\n",
      "         [46.4709,  0.1068,  0.6214],\n",
      "         [47.5303,  0.1463,  0.5042],\n",
      "         ...,\n",
      "         [51.4827,  0.2213,  0.9396],\n",
      "         [51.4435,  0.1603,  0.8357],\n",
      "         [51.3831,  0.0975,  0.7255]]], grad_fn=<CatBackward>)\n"
     ]
    },
    {
     "name": "stderr",
     "output_type": "stream",
     "text": [
      "\n",
      "Train Diffusion:  86%|████████▌ | 1711/2000 [50:27<08:22,  1.74s/it]\u001b[A\n",
      "Train Diffusion:  86%|████████▌ | 1712/2000 [50:29<08:20,  1.74s/it]\u001b[A\n",
      "Train Diffusion:  86%|████████▌ | 1713/2000 [50:31<08:17,  1.73s/it]\u001b[A\n",
      "Train Diffusion:  86%|████████▌ | 1714/2000 [50:33<08:15,  1.73s/it]\u001b[A\n",
      "Train Diffusion:  86%|████████▌ | 1715/2000 [50:34<08:13,  1.73s/it]\u001b[A\n",
      "Train Diffusion:  86%|████████▌ | 1716/2000 [50:36<08:11,  1.73s/it]\u001b[A\n",
      "Train Diffusion:  86%|████████▌ | 1717/2000 [50:38<08:10,  1.73s/it]\u001b[A\n",
      "Train Diffusion:  86%|████████▌ | 1718/2000 [50:39<08:08,  1.73s/it]\u001b[A\n",
      "Train Diffusion:  86%|████████▌ | 1719/2000 [50:41<08:08,  1.74s/it]\u001b[A\n",
      "Train Diffusion:  86%|████████▌ | 1720/2000 [50:43<08:07,  1.74s/it]\u001b[A"
     ]
    },
    {
     "name": "stdout",
     "output_type": "stream",
     "text": [
      "Moving average ELBO loss at 1720 iterations is: -865264.7. Best ELBO loss value is: -866673.375.\n",
      "\n",
      "C_path mean = tensor([[54.6124,  0.5050,  1.6980]], grad_fn=<MeanBackward1>)\n",
      "\n",
      " C_path = tensor([[[45.6603,  0.0715,  0.7147],\n",
      "         [46.6816,  0.0755,  0.5649],\n",
      "         [46.3121,  0.0535,  0.4992],\n",
      "         ...,\n",
      "         [51.1713,  0.1922,  0.9829],\n",
      "         [51.0571,  0.1543,  0.8623],\n",
      "         [51.1273,  0.1094,  0.7162]]], grad_fn=<CatBackward>)\n"
     ]
    },
    {
     "name": "stderr",
     "output_type": "stream",
     "text": [
      "\n",
      "Train Diffusion:  86%|████████▌ | 1721/2000 [50:45<08:05,  1.74s/it]\u001b[A\n",
      "Train Diffusion:  86%|████████▌ | 1722/2000 [50:46<08:02,  1.74s/it]\u001b[A\n",
      "Train Diffusion:  86%|████████▌ | 1723/2000 [50:48<08:00,  1.73s/it]\u001b[A\n",
      "Train Diffusion:  86%|████████▌ | 1724/2000 [50:50<07:58,  1.73s/it]\u001b[A\n",
      "Train Diffusion:  86%|████████▋ | 1725/2000 [50:52<07:57,  1.74s/it]\u001b[A\n",
      "Train Diffusion:  86%|████████▋ | 1726/2000 [50:53<07:55,  1.74s/it]\u001b[A\n",
      "Train Diffusion:  86%|████████▋ | 1727/2000 [50:55<07:53,  1.74s/it]\u001b[A\n",
      "Train Diffusion:  86%|████████▋ | 1728/2000 [50:57<07:51,  1.73s/it]\u001b[A\n",
      "Train Diffusion:  86%|████████▋ | 1729/2000 [50:59<07:49,  1.73s/it]\u001b[A\n",
      "Train Diffusion:  86%|████████▋ | 1730/2000 [51:00<07:49,  1.74s/it]\u001b[A"
     ]
    },
    {
     "name": "stdout",
     "output_type": "stream",
     "text": [
      "Moving average ELBO loss at 1730 iterations is: -867947.8375. Best ELBO loss value is: -868862.5625.\n",
      "\n",
      "C_path mean = tensor([[54.8071,  0.5302,  1.7171]], grad_fn=<MeanBackward1>)\n",
      "\n",
      " C_path = tensor([[[45.6603,  0.0715,  0.7147],\n",
      "         [45.6539,  0.0783,  0.6341],\n",
      "         [46.2109,  0.1017,  0.5380],\n",
      "         ...,\n",
      "         [51.7373,  0.2291,  0.9615],\n",
      "         [51.5618,  0.1770,  0.8453],\n",
      "         [51.4214,  0.1032,  0.7284]]], grad_fn=<CatBackward>)\n"
     ]
    },
    {
     "name": "stderr",
     "output_type": "stream",
     "text": [
      "\n",
      "Train Diffusion:  87%|████████▋ | 1731/2000 [51:02<07:47,  1.74s/it]\u001b[A\n",
      "Train Diffusion:  87%|████████▋ | 1732/2000 [51:04<07:46,  1.74s/it]\u001b[A\n",
      "Train Diffusion:  87%|████████▋ | 1733/2000 [51:06<07:45,  1.74s/it]\u001b[A\n",
      "Train Diffusion:  87%|████████▋ | 1734/2000 [51:07<07:44,  1.75s/it]\u001b[A\n",
      "Train Diffusion:  87%|████████▋ | 1735/2000 [51:09<07:48,  1.77s/it]\u001b[A\n",
      "Train Diffusion:  87%|████████▋ | 1736/2000 [51:11<07:48,  1.77s/it]\u001b[A\n",
      "Train Diffusion:  87%|████████▋ | 1737/2000 [51:13<07:46,  1.77s/it]\u001b[A\n",
      "Train Diffusion:  87%|████████▋ | 1738/2000 [51:14<07:42,  1.77s/it]\u001b[A\n",
      "Train Diffusion:  87%|████████▋ | 1739/2000 [51:16<07:39,  1.76s/it]\u001b[A\n",
      "Train Diffusion:  87%|████████▋ | 1740/2000 [51:18<07:36,  1.75s/it]\u001b[A"
     ]
    },
    {
     "name": "stdout",
     "output_type": "stream",
     "text": [
      "Moving average ELBO loss at 1740 iterations is: -870008.9875. Best ELBO loss value is: -871183.1875.\n",
      "\n",
      "C_path mean = tensor([[54.9068,  0.5073,  1.7380]], grad_fn=<MeanBackward1>)\n",
      "\n",
      " C_path = tensor([[[4.5660e+01, 7.1469e-02, 7.1469e-01],\n",
      "         [4.5464e+01, 8.3474e-02, 6.0479e-01],\n",
      "         [4.5482e+01, 3.1959e-02, 5.1642e-01],\n",
      "         ...,\n",
      "         [5.1635e+01, 2.1851e-01, 9.9541e-01],\n",
      "         [5.1635e+01, 1.6673e-01, 8.7162e-01],\n",
      "         [5.1514e+01, 1.0987e-01, 7.3350e-01]]], grad_fn=<CatBackward>)\n"
     ]
    },
    {
     "name": "stderr",
     "output_type": "stream",
     "text": [
      "\n",
      "Train Diffusion:  87%|████████▋ | 1741/2000 [51:20<07:34,  1.76s/it]\u001b[A\n",
      "Train Diffusion:  87%|████████▋ | 1742/2000 [51:21<07:32,  1.75s/it]\u001b[A\n",
      "Train Diffusion:  87%|████████▋ | 1743/2000 [51:23<07:30,  1.75s/it]\u001b[A\n",
      "Train Diffusion:  87%|████████▋ | 1744/2000 [51:25<07:27,  1.75s/it]\u001b[A\n",
      "Train Diffusion:  87%|████████▋ | 1745/2000 [51:27<07:24,  1.74s/it]\u001b[A\n",
      "Train Diffusion:  87%|████████▋ | 1746/2000 [51:28<07:22,  1.74s/it]\u001b[A\n",
      "Train Diffusion:  87%|████████▋ | 1747/2000 [51:30<07:20,  1.74s/it]\u001b[A\n",
      "Train Diffusion:  87%|████████▋ | 1748/2000 [51:32<07:20,  1.75s/it]\u001b[A\n",
      "Train Diffusion:  87%|████████▋ | 1749/2000 [51:34<07:17,  1.74s/it]\u001b[A\n",
      "Train Diffusion:  88%|████████▊ | 1750/2000 [51:35<07:15,  1.74s/it]\u001b[A"
     ]
    },
    {
     "name": "stdout",
     "output_type": "stream",
     "text": [
      "Moving average ELBO loss at 1750 iterations is: -871632.29375. Best ELBO loss value is: -872565.6875.\n",
      "\n",
      "C_path mean = tensor([[54.9931,  0.5345,  1.7015]], grad_fn=<MeanBackward1>)\n",
      "\n",
      " C_path = tensor([[[4.5660e+01, 7.1469e-02, 7.1469e-01],\n",
      "         [4.6084e+01, 6.5235e-02, 6.0498e-01],\n",
      "         [4.6592e+01, 5.0283e-02, 5.3286e-01],\n",
      "         ...,\n",
      "         [5.1815e+01, 2.1871e-01, 9.7078e-01],\n",
      "         [5.1715e+01, 1.7206e-01, 8.4303e-01],\n",
      "         [5.1514e+01, 1.0761e-01, 7.1588e-01]]], grad_fn=<CatBackward>)\n"
     ]
    },
    {
     "name": "stderr",
     "output_type": "stream",
     "text": [
      "\n",
      "Train Diffusion:  88%|████████▊ | 1751/2000 [51:37<07:13,  1.74s/it]\u001b[A\n",
      "Train Diffusion:  88%|████████▊ | 1752/2000 [51:39<07:12,  1.75s/it]\u001b[A\n",
      "Train Diffusion:  88%|████████▊ | 1753/2000 [51:41<07:12,  1.75s/it]\u001b[A\n",
      "Train Diffusion:  88%|████████▊ | 1754/2000 [51:42<07:12,  1.76s/it]\u001b[A\n",
      "Train Diffusion:  88%|████████▊ | 1755/2000 [51:44<07:10,  1.76s/it]\u001b[A\n",
      "Train Diffusion:  88%|████████▊ | 1756/2000 [51:46<07:07,  1.75s/it]\u001b[A\n",
      "Train Diffusion:  88%|████████▊ | 1757/2000 [51:48<07:05,  1.75s/it]\u001b[A\n",
      "Train Diffusion:  88%|████████▊ | 1758/2000 [51:49<07:02,  1.75s/it]\u001b[A\n",
      "Train Diffusion:  88%|████████▊ | 1759/2000 [51:51<07:00,  1.74s/it]\u001b[A\n",
      "Train Diffusion:  88%|████████▊ | 1760/2000 [51:53<06:57,  1.74s/it]\u001b[A"
     ]
    },
    {
     "name": "stdout",
     "output_type": "stream",
     "text": [
      "Moving average ELBO loss at 1760 iterations is: -873453.75. Best ELBO loss value is: -874217.4375.\n",
      "\n",
      "C_path mean = tensor([[55.0562,  0.5420,  1.7107]], grad_fn=<MeanBackward1>)\n",
      "\n",
      " C_path = tensor([[[45.6603,  0.0715,  0.7147],\n",
      "         [46.3148,  0.0889,  0.5690],\n",
      "         [46.6927,  0.0612,  0.5102],\n",
      "         ...,\n",
      "         [51.7841,  0.2101,  0.9255],\n",
      "         [51.7852,  0.1655,  0.8301],\n",
      "         [51.9287,  0.1036,  0.7224]]], grad_fn=<CatBackward>)\n"
     ]
    },
    {
     "name": "stderr",
     "output_type": "stream",
     "text": [
      "\n",
      "Train Diffusion:  88%|████████▊ | 1761/2000 [51:55<06:56,  1.74s/it]\u001b[A\n",
      "Train Diffusion:  88%|████████▊ | 1762/2000 [51:56<06:54,  1.74s/it]\u001b[A\n",
      "Train Diffusion:  88%|████████▊ | 1763/2000 [51:58<06:52,  1.74s/it]\u001b[A\n",
      "Train Diffusion:  88%|████████▊ | 1764/2000 [52:00<06:50,  1.74s/it]\u001b[A\n",
      "Train Diffusion:  88%|████████▊ | 1765/2000 [52:02<06:48,  1.74s/it]\u001b[A\n",
      "Train Diffusion:  88%|████████▊ | 1766/2000 [52:03<06:47,  1.74s/it]\u001b[A\n",
      "Train Diffusion:  88%|████████▊ | 1767/2000 [52:05<06:45,  1.74s/it]\u001b[A\n",
      "Train Diffusion:  88%|████████▊ | 1768/2000 [52:07<06:44,  1.74s/it]\u001b[A\n",
      "Train Diffusion:  88%|████████▊ | 1769/2000 [52:08<06:42,  1.74s/it]\u001b[A\n",
      "Train Diffusion:  88%|████████▊ | 1770/2000 [52:10<06:40,  1.74s/it]\u001b[A"
     ]
    },
    {
     "name": "stdout",
     "output_type": "stream",
     "text": [
      "Moving average ELBO loss at 1770 iterations is: -875057.75625. Best ELBO loss value is: -875912.5.\n",
      "\n",
      "C_path mean = tensor([[55.2398,  0.5078,  1.7440]], grad_fn=<MeanBackward1>)\n",
      "\n",
      " C_path = tensor([[[4.5660e+01, 7.1469e-02, 7.1469e-01],\n",
      "         [4.5506e+01, 5.5024e-02, 5.9028e-01],\n",
      "         [4.5401e+01, 1.9030e-02, 5.1999e-01],\n",
      "         ...,\n",
      "         [5.1979e+01, 2.2113e-01, 9.6325e-01],\n",
      "         [5.1849e+01, 1.6854e-01, 8.5450e-01],\n",
      "         [5.1594e+01, 1.0972e-01, 7.3063e-01]]], grad_fn=<CatBackward>)\n"
     ]
    },
    {
     "name": "stderr",
     "output_type": "stream",
     "text": [
      "\n",
      "Train Diffusion:  89%|████████▊ | 1771/2000 [52:12<06:40,  1.75s/it]\u001b[A\n",
      "Train Diffusion:  89%|████████▊ | 1772/2000 [52:14<06:38,  1.75s/it]\u001b[A\n",
      "Train Diffusion:  89%|████████▊ | 1773/2000 [52:15<06:35,  1.74s/it]\u001b[A\n",
      "Train Diffusion:  89%|████████▊ | 1774/2000 [52:17<06:33,  1.74s/it]\u001b[A\n",
      "Train Diffusion:  89%|████████▉ | 1775/2000 [52:19<06:31,  1.74s/it]\u001b[A\n",
      "Train Diffusion:  89%|████████▉ | 1776/2000 [52:21<06:29,  1.74s/it]\u001b[A\n",
      "Train Diffusion:  89%|████████▉ | 1777/2000 [52:22<06:27,  1.74s/it]\u001b[A\n",
      "Train Diffusion:  89%|████████▉ | 1778/2000 [52:24<06:26,  1.74s/it]\u001b[A\n",
      "Train Diffusion:  89%|████████▉ | 1779/2000 [52:26<06:23,  1.74s/it]\u001b[A\n",
      "Train Diffusion:  89%|████████▉ | 1780/2000 [52:28<06:23,  1.74s/it]\u001b[A"
     ]
    },
    {
     "name": "stdout",
     "output_type": "stream",
     "text": [
      "Moving average ELBO loss at 1780 iterations is: -876690.53125. Best ELBO loss value is: -877610.625.\n",
      "\n",
      "C_path mean = tensor([[55.2700,  0.5529,  1.7224]], grad_fn=<MeanBackward1>)\n",
      "\n",
      " C_path = tensor([[[45.6603,  0.0715,  0.7147],\n",
      "         [46.1708,  0.0843,  0.6018],\n",
      "         [46.6066,  0.0713,  0.5292],\n",
      "         ...,\n",
      "         [52.0345,  0.2282,  0.9613],\n",
      "         [51.9781,  0.1745,  0.8461],\n",
      "         [51.9838,  0.1066,  0.7232]]], grad_fn=<CatBackward>)\n"
     ]
    },
    {
     "name": "stderr",
     "output_type": "stream",
     "text": [
      "\n",
      "Train Diffusion:  89%|████████▉ | 1781/2000 [52:29<06:22,  1.74s/it]\u001b[A\n",
      "Train Diffusion:  89%|████████▉ | 1782/2000 [52:31<06:19,  1.74s/it]\u001b[A\n",
      "Train Diffusion:  89%|████████▉ | 1783/2000 [52:33<06:17,  1.74s/it]\u001b[A\n",
      "Train Diffusion:  89%|████████▉ | 1784/2000 [52:35<06:15,  1.74s/it]\u001b[A\n",
      "Train Diffusion:  89%|████████▉ | 1785/2000 [52:36<06:13,  1.74s/it]\u001b[A\n",
      "Train Diffusion:  89%|████████▉ | 1786/2000 [52:38<06:11,  1.74s/it]\u001b[A\n",
      "Train Diffusion:  89%|████████▉ | 1787/2000 [52:40<06:09,  1.74s/it]\u001b[A\n",
      "Train Diffusion:  89%|████████▉ | 1788/2000 [52:42<06:09,  1.74s/it]\u001b[A\n",
      "Train Diffusion:  89%|████████▉ | 1789/2000 [52:43<06:07,  1.74s/it]\u001b[A\n",
      "Train Diffusion:  90%|████████▉ | 1790/2000 [52:45<06:05,  1.74s/it]\u001b[A"
     ]
    },
    {
     "name": "stdout",
     "output_type": "stream",
     "text": [
      "Moving average ELBO loss at 1790 iterations is: -878445.40625. Best ELBO loss value is: -879231.375.\n",
      "\n",
      "C_path mean = tensor([[55.4428,  0.5163,  1.7149]], grad_fn=<MeanBackward1>)\n",
      "\n",
      " C_path = tensor([[[4.5660e+01, 7.1469e-02, 7.1469e-01],\n",
      "         [4.5915e+01, 6.9920e-02, 5.4931e-01],\n",
      "         [4.5917e+01, 2.7820e-02, 5.0046e-01],\n",
      "         ...,\n",
      "         [5.2162e+01, 2.0802e-01, 9.1476e-01],\n",
      "         [5.2114e+01, 1.6319e-01, 8.2652e-01],\n",
      "         [5.2183e+01, 1.0378e-01, 7.1869e-01]]], grad_fn=<CatBackward>)\n"
     ]
    },
    {
     "name": "stderr",
     "output_type": "stream",
     "text": [
      "\n",
      "Train Diffusion:  90%|████████▉ | 1791/2000 [52:47<06:03,  1.74s/it]\u001b[A\n",
      "Train Diffusion:  90%|████████▉ | 1792/2000 [52:49<06:01,  1.74s/it]\u001b[A\n",
      "Train Diffusion:  90%|████████▉ | 1793/2000 [52:50<05:59,  1.74s/it]\u001b[A\n",
      "Train Diffusion:  90%|████████▉ | 1794/2000 [52:52<05:57,  1.74s/it]\u001b[A\n",
      "Train Diffusion:  90%|████████▉ | 1795/2000 [52:54<05:55,  1.74s/it]\u001b[A\n",
      "Train Diffusion:  90%|████████▉ | 1796/2000 [52:55<05:53,  1.74s/it]\u001b[A\n",
      "Train Diffusion:  90%|████████▉ | 1797/2000 [52:57<05:52,  1.74s/it]\u001b[A\n",
      "Train Diffusion:  90%|████████▉ | 1798/2000 [52:59<05:50,  1.73s/it]\u001b[A\n",
      "Train Diffusion:  90%|████████▉ | 1799/2000 [53:01<05:49,  1.74s/it]\u001b[A\n",
      "Train Diffusion:  90%|█████████ | 1800/2000 [53:02<05:49,  1.75s/it]\u001b[A"
     ]
    },
    {
     "name": "stdout",
     "output_type": "stream",
     "text": [
      "Moving average ELBO loss at 1800 iterations is: -880230.09375. Best ELBO loss value is: -881094.625.\n",
      "\n",
      "C_path mean = tensor([[55.5621,  0.5263,  1.7378]], grad_fn=<MeanBackward1>)\n",
      "\n",
      " C_path = tensor([[[4.5660e+01, 7.1469e-02, 7.1469e-01],\n",
      "         [4.5693e+01, 7.2715e-02, 5.9926e-01],\n",
      "         [4.5764e+01, 3.2519e-02, 5.2982e-01],\n",
      "         ...,\n",
      "         [5.2232e+01, 2.2460e-01, 9.5862e-01],\n",
      "         [5.2174e+01, 1.7441e-01, 8.5291e-01],\n",
      "         [5.2196e+01, 1.0848e-01, 7.3542e-01]]], grad_fn=<CatBackward>)\n"
     ]
    },
    {
     "name": "stderr",
     "output_type": "stream",
     "text": [
      "\n",
      "Train Diffusion:  90%|█████████ | 1801/2000 [53:04<05:50,  1.76s/it]\u001b[A\n",
      "Train Diffusion:  90%|█████████ | 1802/2000 [53:06<05:46,  1.75s/it]\u001b[A\n",
      "Train Diffusion:  90%|█████████ | 1803/2000 [53:08<05:43,  1.75s/it]\u001b[A\n",
      "Train Diffusion:  90%|█████████ | 1804/2000 [53:09<05:41,  1.74s/it]\u001b[A\n",
      "Train Diffusion:  90%|█████████ | 1805/2000 [53:11<05:39,  1.74s/it]\u001b[A\n",
      "Train Diffusion:  90%|█████████ | 1806/2000 [53:13<05:37,  1.74s/it]\u001b[A\n",
      "Train Diffusion:  90%|█████████ | 1807/2000 [53:15<05:35,  1.74s/it]\u001b[A\n",
      "Train Diffusion:  90%|█████████ | 1808/2000 [53:16<05:33,  1.73s/it]\u001b[A\n",
      "Train Diffusion:  90%|█████████ | 1809/2000 [53:18<05:31,  1.74s/it]\u001b[A\n",
      "Train Diffusion:  90%|█████████ | 1810/2000 [53:20<05:30,  1.74s/it]\u001b[A"
     ]
    },
    {
     "name": "stdout",
     "output_type": "stream",
     "text": [
      "Moving average ELBO loss at 1810 iterations is: -881713.00625. Best ELBO loss value is: -882529.9375.\n",
      "\n",
      "C_path mean = tensor([[55.8086,  0.5190,  1.6953]], grad_fn=<MeanBackward1>)\n",
      "\n",
      " C_path = tensor([[[45.6603,  0.0715,  0.7147],\n",
      "         [46.1450,  0.0544,  0.6090],\n",
      "         [46.6402,  0.0690,  0.5213],\n",
      "         ...,\n",
      "         [52.8670,  0.2206,  0.9591],\n",
      "         [52.6123,  0.1690,  0.8344],\n",
      "         [52.2056,  0.1008,  0.6969]]], grad_fn=<CatBackward>)\n"
     ]
    },
    {
     "name": "stderr",
     "output_type": "stream",
     "text": [
      "\n",
      "Train Diffusion:  91%|█████████ | 1811/2000 [53:22<05:28,  1.74s/it]\u001b[A\n",
      "Train Diffusion:  91%|█████████ | 1812/2000 [53:23<05:26,  1.74s/it]\u001b[A\n",
      "Train Diffusion:  91%|█████████ | 1813/2000 [53:25<05:24,  1.74s/it]\u001b[A\n",
      "Train Diffusion:  91%|█████████ | 1814/2000 [53:27<05:23,  1.74s/it]\u001b[A\n",
      "Train Diffusion:  91%|█████████ | 1815/2000 [53:29<05:20,  1.74s/it]\u001b[A\n",
      "Train Diffusion:  91%|█████████ | 1816/2000 [53:30<05:19,  1.73s/it]\u001b[A\n",
      "Train Diffusion:  91%|█████████ | 1817/2000 [53:32<05:17,  1.74s/it]\u001b[A\n",
      "Train Diffusion:  91%|█████████ | 1818/2000 [53:34<05:15,  1.73s/it]\u001b[A\n",
      "Train Diffusion:  91%|█████████ | 1819/2000 [53:35<05:13,  1.73s/it]\u001b[A\n",
      "Train Diffusion:  91%|█████████ | 1820/2000 [53:37<05:13,  1.74s/it]\u001b[A"
     ]
    },
    {
     "name": "stdout",
     "output_type": "stream",
     "text": [
      "Moving average ELBO loss at 1820 iterations is: -883529.2375. Best ELBO loss value is: -884312.75.\n",
      "\n",
      "C_path mean = tensor([[55.9510,  0.5146,  1.7331]], grad_fn=<MeanBackward1>)\n",
      "\n",
      " C_path = tensor([[[4.5660e+01, 7.1469e-02, 7.1469e-01],\n",
      "         [4.5171e+01, 6.0405e-02, 5.9736e-01],\n",
      "         [4.5196e+01, 3.2121e-02, 4.9448e-01],\n",
      "         ...,\n",
      "         [5.2955e+01, 2.3274e-01, 9.7988e-01],\n",
      "         [5.2779e+01, 1.7104e-01, 8.4619e-01],\n",
      "         [5.2431e+01, 1.0912e-01, 7.1235e-01]]], grad_fn=<CatBackward>)\n"
     ]
    },
    {
     "name": "stderr",
     "output_type": "stream",
     "text": [
      "\n",
      "Train Diffusion:  91%|█████████ | 1821/2000 [53:39<05:11,  1.74s/it]\u001b[A\n",
      "Train Diffusion:  91%|█████████ | 1822/2000 [53:41<05:11,  1.75s/it]\u001b[A\n",
      "Train Diffusion:  91%|█████████ | 1823/2000 [53:42<05:09,  1.75s/it]\u001b[A\n",
      "Train Diffusion:  91%|█████████ | 1824/2000 [53:44<05:07,  1.75s/it]\u001b[A\n",
      "Train Diffusion:  91%|█████████▏| 1825/2000 [53:46<05:05,  1.74s/it]\u001b[A\n",
      "Train Diffusion:  91%|█████████▏| 1826/2000 [53:48<05:03,  1.74s/it]\u001b[A\n",
      "Train Diffusion:  91%|█████████▏| 1827/2000 [53:49<05:00,  1.74s/it]\u001b[A\n",
      "Train Diffusion:  91%|█████████▏| 1828/2000 [53:51<04:59,  1.74s/it]\u001b[A\n",
      "Train Diffusion:  91%|█████████▏| 1829/2000 [53:53<04:56,  1.74s/it]\u001b[A\n",
      "Train Diffusion:  92%|█████████▏| 1830/2000 [53:55<04:55,  1.74s/it]\u001b[A"
     ]
    },
    {
     "name": "stdout",
     "output_type": "stream",
     "text": [
      "Moving average ELBO loss at 1830 iterations is: -884692.825. Best ELBO loss value is: -885580.375.\n",
      "\n",
      "C_path mean = tensor([[55.9980,  0.5290,  1.6687]], grad_fn=<MeanBackward1>)\n",
      "\n",
      " C_path = tensor([[[45.6603,  0.0715,  0.7147],\n",
      "         [46.3131,  0.0985,  0.5419],\n",
      "         [47.0938,  0.0767,  0.4956],\n",
      "         ...,\n",
      "         [52.6155,  0.1981,  0.8986],\n",
      "         [52.5034,  0.1580,  0.8082],\n",
      "         [52.5888,  0.0991,  0.7092]]], grad_fn=<CatBackward>)\n"
     ]
    },
    {
     "name": "stderr",
     "output_type": "stream",
     "text": [
      "\n",
      "Train Diffusion:  92%|█████████▏| 1831/2000 [53:56<04:53,  1.74s/it]\u001b[A\n",
      "Train Diffusion:  92%|█████████▏| 1832/2000 [53:58<04:51,  1.74s/it]\u001b[A\n",
      "Train Diffusion:  92%|█████████▏| 1833/2000 [54:00<04:50,  1.74s/it]\u001b[A\n",
      "Train Diffusion:  92%|█████████▏| 1834/2000 [54:02<04:48,  1.74s/it]\u001b[A\n",
      "Train Diffusion:  92%|█████████▏| 1835/2000 [54:03<04:45,  1.73s/it]\u001b[A\n",
      "Train Diffusion:  92%|█████████▏| 1836/2000 [54:05<04:45,  1.74s/it]\u001b[A\n",
      "Train Diffusion:  92%|█████████▏| 1837/2000 [54:07<04:43,  1.74s/it]\u001b[A\n",
      "Train Diffusion:  92%|█████████▏| 1838/2000 [54:09<04:42,  1.74s/it]\u001b[A\n",
      "Train Diffusion:  92%|█████████▏| 1839/2000 [54:10<04:41,  1.75s/it]\u001b[A\n",
      "Train Diffusion:  92%|█████████▏| 1840/2000 [54:12<04:39,  1.75s/it]\u001b[A"
     ]
    },
    {
     "name": "stdout",
     "output_type": "stream",
     "text": [
      "Moving average ELBO loss at 1840 iterations is: -886005.9875. Best ELBO loss value is: -887180.625.\n",
      "\n",
      "C_path mean = tensor([[55.9893,  0.5314,  1.6851]], grad_fn=<MeanBackward1>)\n",
      "\n",
      " C_path = tensor([[[4.5660e+01, 7.1469e-02, 7.1469e-01],\n",
      "         [4.6291e+01, 1.1568e-01, 5.6755e-01],\n",
      "         [4.6657e+01, 4.5146e-02, 4.9807e-01],\n",
      "         ...,\n",
      "         [5.2308e+01, 2.1100e-01, 9.5113e-01],\n",
      "         [5.2322e+01, 1.6335e-01, 8.3988e-01],\n",
      "         [5.2450e+01, 1.0082e-01, 7.1134e-01]]], grad_fn=<CatBackward>)\n"
     ]
    },
    {
     "name": "stderr",
     "output_type": "stream",
     "text": [
      "\n",
      "Train Diffusion:  92%|█████████▏| 1841/2000 [54:14<04:37,  1.74s/it]\u001b[A\n",
      "Train Diffusion:  92%|█████████▏| 1842/2000 [54:16<04:34,  1.74s/it]\u001b[A\n",
      "Train Diffusion:  92%|█████████▏| 1843/2000 [54:17<04:32,  1.74s/it]\u001b[A\n",
      "Train Diffusion:  92%|█████████▏| 1844/2000 [54:19<04:30,  1.73s/it]\u001b[A\n",
      "Train Diffusion:  92%|█████████▏| 1845/2000 [54:21<04:29,  1.74s/it]\u001b[A\n",
      "Train Diffusion:  92%|█████████▏| 1846/2000 [54:22<04:27,  1.74s/it]\u001b[A\n",
      "Train Diffusion:  92%|█████████▏| 1847/2000 [54:24<04:26,  1.74s/it]\u001b[A\n",
      "Train Diffusion:  92%|█████████▏| 1848/2000 [54:26<04:24,  1.74s/it]\u001b[A\n",
      "Train Diffusion:  92%|█████████▏| 1849/2000 [54:28<04:22,  1.74s/it]\u001b[A\n",
      "Train Diffusion:  92%|█████████▎| 1850/2000 [54:29<04:20,  1.74s/it]\u001b[A"
     ]
    },
    {
     "name": "stdout",
     "output_type": "stream",
     "text": [
      "Moving average ELBO loss at 1850 iterations is: -887716.90625. Best ELBO loss value is: -888383.0625.\n",
      "\n",
      "C_path mean = tensor([[56.1028,  0.5468,  1.7023]], grad_fn=<MeanBackward1>)\n",
      "\n",
      " C_path = tensor([[[4.5660e+01, 7.1469e-02, 7.1469e-01],\n",
      "         [4.5675e+01, 6.2905e-02, 5.7463e-01],\n",
      "         [4.6129e+01, 4.3459e-02, 4.7508e-01],\n",
      "         ...,\n",
      "         [5.2593e+01, 2.2600e-01, 9.6671e-01],\n",
      "         [5.2681e+01, 1.6058e-01, 8.5310e-01],\n",
      "         [5.2577e+01, 1.0281e-01, 7.1092e-01]]], grad_fn=<CatBackward>)\n"
     ]
    },
    {
     "name": "stderr",
     "output_type": "stream",
     "text": [
      "\n",
      "Train Diffusion:  93%|█████████▎| 1851/2000 [54:31<04:18,  1.74s/it]\u001b[A\n",
      "Train Diffusion:  93%|█████████▎| 1852/2000 [54:33<04:16,  1.73s/it]\u001b[A\n",
      "Train Diffusion:  93%|█████████▎| 1853/2000 [54:35<04:15,  1.73s/it]\u001b[A\n",
      "Train Diffusion:  93%|█████████▎| 1854/2000 [54:36<04:13,  1.73s/it]\u001b[A\n",
      "Train Diffusion:  93%|█████████▎| 1855/2000 [54:38<04:11,  1.73s/it]\u001b[A\n",
      "Train Diffusion:  93%|█████████▎| 1856/2000 [54:40<04:09,  1.73s/it]\u001b[A\n",
      "Train Diffusion:  93%|█████████▎| 1857/2000 [54:42<04:08,  1.74s/it]\u001b[A\n",
      "Train Diffusion:  93%|█████████▎| 1858/2000 [54:43<04:07,  1.74s/it]\u001b[A\n",
      "Train Diffusion:  93%|█████████▎| 1859/2000 [54:45<04:04,  1.74s/it]\u001b[A\n",
      "Train Diffusion:  93%|█████████▎| 1860/2000 [54:47<04:02,  1.74s/it]\u001b[A"
     ]
    },
    {
     "name": "stdout",
     "output_type": "stream",
     "text": [
      "Moving average ELBO loss at 1860 iterations is: -889362.4125. Best ELBO loss value is: -890262.4375.\n",
      "\n",
      "C_path mean = tensor([[56.2160,  0.5489,  1.7033]], grad_fn=<MeanBackward1>)\n",
      "\n",
      " C_path = tensor([[[45.6603,  0.0715,  0.7147],\n",
      "         [46.1121,  0.0895,  0.5623],\n",
      "         [46.7252,  0.0912,  0.4898],\n",
      "         ...,\n",
      "         [52.8841,  0.2193,  0.9541],\n",
      "         [52.9679,  0.1658,  0.8412],\n",
      "         [52.9114,  0.1068,  0.7174]]], grad_fn=<CatBackward>)\n"
     ]
    },
    {
     "name": "stderr",
     "output_type": "stream",
     "text": [
      "\n",
      "Train Diffusion:  93%|█████████▎| 1861/2000 [54:48<04:01,  1.74s/it]\u001b[A\n",
      "Train Diffusion:  93%|█████████▎| 1862/2000 [54:50<03:59,  1.73s/it]\u001b[A\n",
      "Train Diffusion:  93%|█████████▎| 1863/2000 [54:52<03:57,  1.73s/it]\u001b[A\n",
      "Train Diffusion:  93%|█████████▎| 1864/2000 [54:54<03:55,  1.73s/it]\u001b[A\n",
      "Train Diffusion:  93%|█████████▎| 1865/2000 [54:55<03:54,  1.73s/it]\u001b[A\n",
      "Train Diffusion:  93%|█████████▎| 1866/2000 [54:57<03:52,  1.73s/it]\u001b[A\n",
      "Train Diffusion:  93%|█████████▎| 1867/2000 [54:59<03:51,  1.74s/it]\u001b[A\n",
      "Train Diffusion:  93%|█████████▎| 1868/2000 [55:01<03:50,  1.74s/it]\u001b[A\n",
      "Train Diffusion:  93%|█████████▎| 1869/2000 [55:02<03:48,  1.74s/it]\u001b[A\n",
      "Train Diffusion:  94%|█████████▎| 1870/2000 [55:04<03:46,  1.74s/it]\u001b[A"
     ]
    },
    {
     "name": "stdout",
     "output_type": "stream",
     "text": [
      "Moving average ELBO loss at 1870 iterations is: -891561.26875. Best ELBO loss value is: -892507.1875.\n",
      "\n",
      "C_path mean = tensor([[56.3591,  0.5375,  1.7173]], grad_fn=<MeanBackward1>)\n",
      "\n",
      " C_path = tensor([[[45.6603,  0.0715,  0.7147],\n",
      "         [46.2937,  0.0774,  0.5915],\n",
      "         [46.2700,  0.0889,  0.5325],\n",
      "         ...,\n",
      "         [53.0190,  0.2165,  0.9365],\n",
      "         [52.8083,  0.1759,  0.8408],\n",
      "         [52.7967,  0.1086,  0.7484]]], grad_fn=<CatBackward>)\n"
     ]
    },
    {
     "name": "stderr",
     "output_type": "stream",
     "text": [
      "\n",
      "Train Diffusion:  94%|█████████▎| 1871/2000 [55:06<03:45,  1.75s/it]\u001b[A\n",
      "Train Diffusion:  94%|█████████▎| 1872/2000 [55:08<03:44,  1.75s/it]\u001b[A\n",
      "Train Diffusion:  94%|█████████▎| 1873/2000 [55:09<03:43,  1.76s/it]\u001b[A\n",
      "Train Diffusion:  94%|█████████▎| 1874/2000 [55:11<03:41,  1.75s/it]\u001b[A\n",
      "Train Diffusion:  94%|█████████▍| 1875/2000 [55:13<03:48,  1.83s/it]\u001b[A\n",
      "Train Diffusion:  94%|█████████▍| 1876/2000 [55:15<03:47,  1.83s/it]\u001b[A\n",
      "Train Diffusion:  94%|█████████▍| 1877/2000 [55:17<03:41,  1.80s/it]\u001b[A\n",
      "Train Diffusion:  94%|█████████▍| 1878/2000 [55:18<03:37,  1.78s/it]\u001b[A\n",
      "Train Diffusion:  94%|█████████▍| 1879/2000 [55:20<03:33,  1.77s/it]\u001b[A\n",
      "Train Diffusion:  94%|█████████▍| 1880/2000 [55:22<03:31,  1.76s/it]\u001b[A"
     ]
    },
    {
     "name": "stdout",
     "output_type": "stream",
     "text": [
      "Moving average ELBO loss at 1880 iterations is: -893749.94375. Best ELBO loss value is: -894671.625.\n",
      "\n",
      "C_path mean = tensor([[56.5473,  0.5409,  1.7073]], grad_fn=<MeanBackward1>)\n",
      "\n",
      " C_path = tensor([[[45.6603,  0.0715,  0.7147],\n",
      "         [46.0616,  0.0780,  0.5708],\n",
      "         [46.6743,  0.0619,  0.5106],\n",
      "         ...,\n",
      "         [53.4518,  0.2143,  0.9155],\n",
      "         [53.2573,  0.1704,  0.8454],\n",
      "         [53.0739,  0.1070,  0.7762]]], grad_fn=<CatBackward>)\n"
     ]
    },
    {
     "name": "stderr",
     "output_type": "stream",
     "text": [
      "\n",
      "Train Diffusion:  94%|█████████▍| 1881/2000 [55:24<03:29,  1.76s/it]\u001b[A\n",
      "Train Diffusion:  94%|█████████▍| 1882/2000 [55:25<03:26,  1.75s/it]\u001b[A\n",
      "Train Diffusion:  94%|█████████▍| 1883/2000 [55:27<03:24,  1.75s/it]\u001b[A\n",
      "Train Diffusion:  94%|█████████▍| 1884/2000 [55:29<03:23,  1.75s/it]\u001b[A\n",
      "Train Diffusion:  94%|█████████▍| 1885/2000 [55:31<03:20,  1.74s/it]\u001b[A\n",
      "Train Diffusion:  94%|█████████▍| 1886/2000 [55:33<03:23,  1.78s/it]\u001b[A\n",
      "Train Diffusion:  94%|█████████▍| 1887/2000 [55:34<03:22,  1.80s/it]\u001b[A\n",
      "Train Diffusion:  94%|█████████▍| 1888/2000 [55:36<03:21,  1.80s/it]\u001b[A\n",
      "Train Diffusion:  94%|█████████▍| 1889/2000 [55:38<03:18,  1.79s/it]\u001b[A\n",
      "Train Diffusion:  94%|█████████▍| 1890/2000 [55:40<03:15,  1.77s/it]\u001b[A"
     ]
    },
    {
     "name": "stdout",
     "output_type": "stream",
     "text": [
      "Moving average ELBO loss at 1890 iterations is: -896336.73125. Best ELBO loss value is: -897536.125.\n",
      "\n",
      "C_path mean = tensor([[56.7262,  0.5419,  1.7138]], grad_fn=<MeanBackward1>)\n",
      "\n",
      " C_path = tensor([[[45.6603,  0.0715,  0.7147],\n",
      "         [46.3631,  0.0841,  0.5910],\n",
      "         [46.4531,  0.0879,  0.5070],\n",
      "         ...,\n",
      "         [53.5064,  0.2114,  0.9753],\n",
      "         [53.3385,  0.1669,  0.8649],\n",
      "         [53.2944,  0.1045,  0.7346]]], grad_fn=<CatBackward>)\n"
     ]
    },
    {
     "name": "stderr",
     "output_type": "stream",
     "text": [
      "\n",
      "Train Diffusion:  95%|█████████▍| 1891/2000 [55:41<03:13,  1.78s/it]\u001b[A\n",
      "Train Diffusion:  95%|█████████▍| 1892/2000 [55:43<03:11,  1.77s/it]\u001b[A\n",
      "Train Diffusion:  95%|█████████▍| 1893/2000 [55:45<03:09,  1.77s/it]\u001b[A\n",
      "Train Diffusion:  95%|█████████▍| 1894/2000 [55:47<03:06,  1.76s/it]\u001b[A\n",
      "Train Diffusion:  95%|█████████▍| 1895/2000 [55:48<03:04,  1.76s/it]\u001b[A\n",
      "Train Diffusion:  95%|█████████▍| 1896/2000 [55:50<03:02,  1.75s/it]\u001b[A\n",
      "Train Diffusion:  95%|█████████▍| 1897/2000 [55:52<02:59,  1.75s/it]\u001b[A\n",
      "Train Diffusion:  95%|█████████▍| 1898/2000 [55:54<02:58,  1.75s/it]\u001b[A\n",
      "Train Diffusion:  95%|█████████▍| 1899/2000 [55:55<02:56,  1.74s/it]\u001b[A\n",
      "Train Diffusion:  95%|█████████▌| 1900/2000 [55:57<02:54,  1.74s/it]\u001b[A"
     ]
    },
    {
     "name": "stdout",
     "output_type": "stream",
     "text": [
      "Moving average ELBO loss at 1900 iterations is: -898674.45. Best ELBO loss value is: -899723.125.\n",
      "\n",
      "C_path mean = tensor([[56.9265,  0.5223,  1.6914]], grad_fn=<MeanBackward1>)\n",
      "\n",
      " C_path = tensor([[[45.6603,  0.0715,  0.7147],\n",
      "         [46.4124,  0.1050,  0.5582],\n",
      "         [46.6380,  0.1758,  0.4851],\n",
      "         ...,\n",
      "         [54.2567,  0.2045,  0.9460],\n",
      "         [53.8638,  0.1642,  0.8553],\n",
      "         [53.4808,  0.1052,  0.7296]]], grad_fn=<CatBackward>)\n"
     ]
    },
    {
     "name": "stderr",
     "output_type": "stream",
     "text": [
      "\n",
      "Train Diffusion:  95%|█████████▌| 1901/2000 [55:59<02:52,  1.74s/it]\u001b[A\n",
      "Train Diffusion:  95%|█████████▌| 1902/2000 [56:01<02:50,  1.74s/it]\u001b[A\n",
      "Train Diffusion:  95%|█████████▌| 1903/2000 [56:02<02:48,  1.74s/it]\u001b[A\n",
      "Train Diffusion:  95%|█████████▌| 1904/2000 [56:04<02:46,  1.74s/it]\u001b[A\n",
      "Train Diffusion:  95%|█████████▌| 1905/2000 [56:06<02:46,  1.75s/it]\u001b[A\n",
      "Train Diffusion:  95%|█████████▌| 1906/2000 [56:08<02:44,  1.75s/it]\u001b[A\n",
      "Train Diffusion:  95%|█████████▌| 1907/2000 [56:09<02:42,  1.75s/it]\u001b[A\n",
      "Train Diffusion:  95%|█████████▌| 1908/2000 [56:11<02:40,  1.75s/it]\u001b[A\n",
      "Train Diffusion:  95%|█████████▌| 1909/2000 [56:13<02:39,  1.75s/it]\u001b[A\n",
      "Train Diffusion:  96%|█████████▌| 1910/2000 [56:15<02:37,  1.75s/it]\u001b[A"
     ]
    },
    {
     "name": "stdout",
     "output_type": "stream",
     "text": [
      "Moving average ELBO loss at 1910 iterations is: -900720.575. Best ELBO loss value is: -901596.0.\n",
      "\n",
      "C_path mean = tensor([[57.0825,  0.5205,  1.6938]], grad_fn=<MeanBackward1>)\n",
      "\n",
      " C_path = tensor([[[4.5660e+01, 7.1469e-02, 7.1469e-01],\n",
      "         [4.6099e+01, 4.8998e-02, 5.8041e-01],\n",
      "         [4.6372e+01, 5.4907e-02, 4.9367e-01],\n",
      "         ...,\n",
      "         [5.3937e+01, 2.2722e-01, 9.7092e-01],\n",
      "         [5.3754e+01, 1.7014e-01, 8.4247e-01],\n",
      "         [5.3562e+01, 1.0735e-01, 7.0552e-01]]], grad_fn=<CatBackward>)\n"
     ]
    },
    {
     "name": "stderr",
     "output_type": "stream",
     "text": [
      "\n",
      "Train Diffusion:  96%|█████████▌| 1911/2000 [56:16<02:35,  1.75s/it]\u001b[A\n",
      "Train Diffusion:  96%|█████████▌| 1912/2000 [56:18<02:33,  1.75s/it]\u001b[A\n",
      "Train Diffusion:  96%|█████████▌| 1913/2000 [56:20<02:31,  1.74s/it]\u001b[A\n",
      "Train Diffusion:  96%|█████████▌| 1914/2000 [56:22<02:29,  1.74s/it]\u001b[A\n",
      "Train Diffusion:  96%|█████████▌| 1915/2000 [56:23<02:28,  1.75s/it]\u001b[A\n",
      "Train Diffusion:  96%|█████████▌| 1916/2000 [56:25<02:26,  1.75s/it]\u001b[A\n",
      "Train Diffusion:  96%|█████████▌| 1917/2000 [56:27<02:24,  1.75s/it]\u001b[A\n",
      "Train Diffusion:  96%|█████████▌| 1918/2000 [56:29<02:23,  1.75s/it]\u001b[A\n",
      "Train Diffusion:  96%|█████████▌| 1919/2000 [56:30<02:21,  1.75s/it]\u001b[A\n",
      "Train Diffusion:  96%|█████████▌| 1920/2000 [56:32<02:19,  1.74s/it]\u001b[A"
     ]
    },
    {
     "name": "stdout",
     "output_type": "stream",
     "text": [
      "Moving average ELBO loss at 1920 iterations is: -902662.10625. Best ELBO loss value is: -903420.8125.\n",
      "\n",
      "C_path mean = tensor([[57.1120,  0.5141,  1.6934]], grad_fn=<MeanBackward1>)\n",
      "\n",
      " C_path = tensor([[[4.5660e+01, 7.1469e-02, 7.1469e-01],\n",
      "         [4.6017e+01, 6.7686e-02, 5.4657e-01],\n",
      "         [4.6342e+01, 5.0763e-02, 4.9204e-01],\n",
      "         ...,\n",
      "         [5.3828e+01, 2.0827e-01, 9.4078e-01],\n",
      "         [5.3840e+01, 1.6602e-01, 8.4361e-01],\n",
      "         [5.3994e+01, 1.0630e-01, 7.3254e-01]]], grad_fn=<CatBackward>)\n"
     ]
    },
    {
     "name": "stderr",
     "output_type": "stream",
     "text": [
      "\n",
      "Train Diffusion:  96%|█████████▌| 1921/2000 [56:34<02:17,  1.74s/it]\u001b[A\n",
      "Train Diffusion:  96%|█████████▌| 1922/2000 [56:36<02:15,  1.74s/it]\u001b[A\n",
      "Train Diffusion:  96%|█████████▌| 1923/2000 [56:37<02:14,  1.75s/it]\u001b[A\n",
      "Train Diffusion:  96%|█████████▌| 1924/2000 [56:39<02:13,  1.75s/it]\u001b[A\n",
      "Train Diffusion:  96%|█████████▋| 1925/2000 [56:41<02:11,  1.75s/it]\u001b[A\n",
      "Train Diffusion:  96%|█████████▋| 1926/2000 [56:43<02:09,  1.75s/it]\u001b[A\n",
      "Train Diffusion:  96%|█████████▋| 1927/2000 [56:44<02:07,  1.75s/it]\u001b[A\n",
      "Train Diffusion:  96%|█████████▋| 1928/2000 [56:46<02:05,  1.74s/it]\u001b[A\n",
      "Train Diffusion:  96%|█████████▋| 1929/2000 [56:48<02:03,  1.74s/it]\u001b[A\n",
      "Train Diffusion:  96%|█████████▋| 1930/2000 [56:50<02:01,  1.74s/it]\u001b[A"
     ]
    },
    {
     "name": "stdout",
     "output_type": "stream",
     "text": [
      "Moving average ELBO loss at 1930 iterations is: -904286.43125. Best ELBO loss value is: -904973.75.\n",
      "\n",
      "C_path mean = tensor([[57.2495,  0.5339,  1.7095]], grad_fn=<MeanBackward1>)\n",
      "\n",
      " C_path = tensor([[[45.6603,  0.0715,  0.7147],\n",
      "         [45.8109,  0.0909,  0.6174],\n",
      "         [46.3045,  0.1512,  0.5172],\n",
      "         ...,\n",
      "         [54.4425,  0.2256,  0.9878],\n",
      "         [54.2832,  0.1709,  0.8545],\n",
      "         [54.0195,  0.1048,  0.7090]]], grad_fn=<CatBackward>)\n"
     ]
    },
    {
     "name": "stderr",
     "output_type": "stream",
     "text": [
      "\n",
      "Train Diffusion:  97%|█████████▋| 1931/2000 [56:51<01:59,  1.74s/it]\u001b[A\n",
      "Train Diffusion:  97%|█████████▋| 1932/2000 [56:53<01:58,  1.74s/it]\u001b[A\n",
      "Train Diffusion:  97%|█████████▋| 1933/2000 [56:55<01:56,  1.74s/it]\u001b[A\n",
      "Train Diffusion:  97%|█████████▋| 1934/2000 [56:56<01:54,  1.74s/it]\u001b[A\n",
      "Train Diffusion:  97%|█████████▋| 1935/2000 [56:58<01:52,  1.74s/it]\u001b[A\n",
      "Train Diffusion:  97%|█████████▋| 1936/2000 [57:00<01:51,  1.74s/it]\u001b[A\n",
      "Train Diffusion:  97%|█████████▋| 1937/2000 [57:02<01:49,  1.74s/it]\u001b[A\n",
      "Train Diffusion:  97%|█████████▋| 1938/2000 [57:03<01:48,  1.74s/it]\u001b[A\n",
      "Train Diffusion:  97%|█████████▋| 1939/2000 [57:05<01:46,  1.75s/it]\u001b[A\n",
      "Train Diffusion:  97%|█████████▋| 1940/2000 [57:07<01:45,  1.76s/it]\u001b[A"
     ]
    },
    {
     "name": "stdout",
     "output_type": "stream",
     "text": [
      "Moving average ELBO loss at 1940 iterations is: -905707.96875. Best ELBO loss value is: -906483.0.\n",
      "\n",
      "C_path mean = tensor([[57.2881,  0.5317,  1.7009]], grad_fn=<MeanBackward1>)\n",
      "\n",
      " C_path = tensor([[[45.6603,  0.0715,  0.7147],\n",
      "         [46.2534,  0.1315,  0.5549],\n",
      "         [46.6178,  0.1568,  0.4977],\n",
      "         ...,\n",
      "         [54.3095,  0.2037,  0.9452],\n",
      "         [54.2299,  0.1644,  0.8425],\n",
      "         [54.2991,  0.1046,  0.7297]]], grad_fn=<CatBackward>)\n"
     ]
    },
    {
     "name": "stderr",
     "output_type": "stream",
     "text": [
      "\n",
      "Train Diffusion:  97%|█████████▋| 1941/2000 [57:09<01:43,  1.75s/it]\u001b[A\n",
      "Train Diffusion:  97%|█████████▋| 1942/2000 [57:10<01:41,  1.75s/it]\u001b[A\n",
      "Train Diffusion:  97%|█████████▋| 1943/2000 [57:12<01:39,  1.75s/it]\u001b[A\n",
      "Train Diffusion:  97%|█████████▋| 1944/2000 [57:14<01:39,  1.79s/it]\u001b[A\n",
      "Train Diffusion:  97%|█████████▋| 1945/2000 [57:16<01:37,  1.78s/it]\u001b[A\n",
      "Train Diffusion:  97%|█████████▋| 1946/2000 [57:18<01:35,  1.77s/it]\u001b[A\n",
      "Train Diffusion:  97%|█████████▋| 1947/2000 [57:19<01:33,  1.76s/it]\u001b[A\n",
      "Train Diffusion:  97%|█████████▋| 1948/2000 [57:21<01:31,  1.75s/it]\u001b[A\n",
      "Train Diffusion:  97%|█████████▋| 1949/2000 [57:23<01:29,  1.75s/it]\u001b[A\n",
      "Train Diffusion:  98%|█████████▊| 1950/2000 [57:25<01:27,  1.75s/it]\u001b[A"
     ]
    },
    {
     "name": "stdout",
     "output_type": "stream",
     "text": [
      "Moving average ELBO loss at 1950 iterations is: -907135.4875. Best ELBO loss value is: -907857.125.\n",
      "\n",
      "C_path mean = tensor([[57.4491,  0.5410,  1.7145]], grad_fn=<MeanBackward1>)\n",
      "\n",
      " C_path = tensor([[[45.6603,  0.0715,  0.7147],\n",
      "         [45.9321,  0.0966,  0.6207],\n",
      "         [46.4025,  0.1788,  0.5142],\n",
      "         ...,\n",
      "         [54.6935,  0.2298,  0.9949],\n",
      "         [54.4944,  0.1719,  0.8613],\n",
      "         [54.2243,  0.1069,  0.7098]]], grad_fn=<CatBackward>)\n"
     ]
    },
    {
     "name": "stderr",
     "output_type": "stream",
     "text": [
      "\n",
      "Train Diffusion:  98%|█████████▊| 1951/2000 [57:26<01:25,  1.75s/it]\u001b[A\n",
      "Train Diffusion:  98%|█████████▊| 1952/2000 [57:28<01:23,  1.75s/it]\u001b[A\n",
      "Train Diffusion:  98%|█████████▊| 1953/2000 [57:30<01:22,  1.75s/it]\u001b[A\n",
      "Train Diffusion:  98%|█████████▊| 1954/2000 [57:32<01:20,  1.74s/it]\u001b[A\n",
      "Train Diffusion:  98%|█████████▊| 1955/2000 [57:33<01:18,  1.74s/it]\u001b[A\n",
      "Train Diffusion:  98%|█████████▊| 1956/2000 [57:35<01:16,  1.74s/it]\u001b[A\n",
      "Train Diffusion:  98%|█████████▊| 1957/2000 [57:37<01:14,  1.74s/it]\u001b[A\n",
      "Train Diffusion:  98%|█████████▊| 1958/2000 [57:38<01:13,  1.74s/it]\u001b[A\n",
      "Train Diffusion:  98%|█████████▊| 1959/2000 [57:40<01:11,  1.74s/it]\u001b[A\n",
      "Train Diffusion:  98%|█████████▊| 1960/2000 [57:42<01:10,  1.76s/it]\u001b[A"
     ]
    },
    {
     "name": "stdout",
     "output_type": "stream",
     "text": [
      "Moving average ELBO loss at 1960 iterations is: -908498.09375. Best ELBO loss value is: -909193.9375.\n",
      "\n",
      "C_path mean = tensor([[57.5049,  0.5262,  1.7065]], grad_fn=<MeanBackward1>)\n",
      "\n",
      " C_path = tensor([[[45.6603,  0.0715,  0.7147],\n",
      "         [46.0195,  0.1198,  0.5482],\n",
      "         [46.2623,  0.1204,  0.4960],\n",
      "         ...,\n",
      "         [54.3816,  0.2091,  0.9482],\n",
      "         [54.3215,  0.1676,  0.8494],\n",
      "         [54.4935,  0.1067,  0.7398]]], grad_fn=<CatBackward>)\n"
     ]
    },
    {
     "name": "stderr",
     "output_type": "stream",
     "text": [
      "\n",
      "Train Diffusion:  98%|█████████▊| 1961/2000 [57:44<01:08,  1.75s/it]\u001b[A\n",
      "Train Diffusion:  98%|█████████▊| 1962/2000 [57:46<01:06,  1.75s/it]\u001b[A\n",
      "Train Diffusion:  98%|█████████▊| 1963/2000 [57:47<01:04,  1.75s/it]\u001b[A\n",
      "Train Diffusion:  98%|█████████▊| 1964/2000 [57:49<01:02,  1.74s/it]\u001b[A\n",
      "Train Diffusion:  98%|█████████▊| 1965/2000 [57:51<01:00,  1.74s/it]\u001b[A\n",
      "Train Diffusion:  98%|█████████▊| 1966/2000 [57:52<00:59,  1.74s/it]\u001b[A\n",
      "Train Diffusion:  98%|█████████▊| 1967/2000 [57:54<00:57,  1.74s/it]\u001b[A\n",
      "Train Diffusion:  98%|█████████▊| 1968/2000 [57:56<00:55,  1.74s/it]\u001b[A\n",
      "Train Diffusion:  98%|█████████▊| 1969/2000 [57:58<00:53,  1.74s/it]\u001b[A\n",
      "Train Diffusion:  98%|█████████▊| 1970/2000 [57:59<00:52,  1.75s/it]\u001b[A"
     ]
    },
    {
     "name": "stdout",
     "output_type": "stream",
     "text": [
      "Moving average ELBO loss at 1970 iterations is: -909957.1625. Best ELBO loss value is: -910658.75.\n",
      "\n",
      "C_path mean = tensor([[57.6090,  0.5598,  1.7096]], grad_fn=<MeanBackward1>)\n",
      "\n",
      " C_path = tensor([[[45.6603,  0.0715,  0.7147],\n",
      "         [46.2311,  0.0984,  0.6104],\n",
      "         [46.8146,  0.1950,  0.5069],\n",
      "         ...,\n",
      "         [54.8824,  0.2274,  0.9799],\n",
      "         [54.7144,  0.1691,  0.8590],\n",
      "         [54.5020,  0.1049,  0.7088]]], grad_fn=<CatBackward>)\n"
     ]
    },
    {
     "name": "stderr",
     "output_type": "stream",
     "text": [
      "\n",
      "Train Diffusion:  99%|█████████▊| 1971/2000 [58:01<00:50,  1.74s/it]\u001b[A\n",
      "Train Diffusion:  99%|█████████▊| 1972/2000 [58:03<00:48,  1.74s/it]\u001b[A\n",
      "Train Diffusion:  99%|█████████▊| 1973/2000 [58:05<00:48,  1.78s/it]\u001b[A\n",
      "Train Diffusion:  99%|█████████▊| 1974/2000 [58:07<00:47,  1.82s/it]\u001b[A\n",
      "Train Diffusion:  99%|█████████▉| 1975/2000 [58:08<00:45,  1.81s/it]\u001b[A\n",
      "Train Diffusion:  99%|█████████▉| 1976/2000 [58:10<00:43,  1.80s/it]\u001b[A\n",
      "Train Diffusion:  99%|█████████▉| 1977/2000 [58:12<00:41,  1.79s/it]\u001b[A\n",
      "Train Diffusion:  99%|█████████▉| 1978/2000 [58:14<00:38,  1.77s/it]\u001b[A\n",
      "Train Diffusion:  99%|█████████▉| 1979/2000 [58:15<00:37,  1.76s/it]\u001b[A\n",
      "Train Diffusion:  99%|█████████▉| 1980/2000 [58:17<00:35,  1.76s/it]\u001b[A"
     ]
    },
    {
     "name": "stdout",
     "output_type": "stream",
     "text": [
      "Moving average ELBO loss at 1980 iterations is: -911419.73125. Best ELBO loss value is: -912209.5.\n",
      "\n",
      "C_path mean = tensor([[57.6951,  0.5138,  1.7164]], grad_fn=<MeanBackward1>)\n",
      "\n",
      " C_path = tensor([[[45.6603,  0.0715,  0.7147],\n",
      "         [45.5113,  0.0893,  0.5690],\n",
      "         [45.5179,  0.0548,  0.5050],\n",
      "         ...,\n",
      "         [54.4403,  0.2161,  0.9719],\n",
      "         [54.3455,  0.1705,  0.8528],\n",
      "         [54.5366,  0.1078,  0.7341]]], grad_fn=<CatBackward>)\n"
     ]
    },
    {
     "name": "stderr",
     "output_type": "stream",
     "text": [
      "\n",
      "Train Diffusion:  99%|█████████▉| 1981/2000 [58:19<00:33,  1.75s/it]\u001b[A\n",
      "Train Diffusion:  99%|█████████▉| 1982/2000 [58:21<00:31,  1.75s/it]\u001b[A\n",
      "Train Diffusion:  99%|█████████▉| 1983/2000 [58:22<00:29,  1.75s/it]\u001b[A\n",
      "Train Diffusion:  99%|█████████▉| 1984/2000 [58:24<00:27,  1.75s/it]\u001b[A\n",
      "Train Diffusion:  99%|█████████▉| 1985/2000 [58:26<00:26,  1.75s/it]\u001b[A\n",
      "Train Diffusion:  99%|█████████▉| 1986/2000 [58:28<00:24,  1.75s/it]\u001b[A\n",
      "Train Diffusion:  99%|█████████▉| 1987/2000 [58:29<00:22,  1.75s/it]\u001b[A\n",
      "Train Diffusion:  99%|█████████▉| 1988/2000 [58:31<00:20,  1.75s/it]\u001b[A\n",
      "Train Diffusion:  99%|█████████▉| 1989/2000 [58:33<00:19,  1.74s/it]\u001b[A\n",
      "Train Diffusion: 100%|█████████▉| 1990/2000 [58:35<00:17,  1.75s/it]\u001b[A"
     ]
    },
    {
     "name": "stdout",
     "output_type": "stream",
     "text": [
      "Moving average ELBO loss at 1990 iterations is: -912941.2125. Best ELBO loss value is: -913643.3125.\n",
      "\n",
      "C_path mean = tensor([[57.6824,  0.5728,  1.7089]], grad_fn=<MeanBackward1>)\n",
      "\n",
      " C_path = tensor([[[45.6603,  0.0715,  0.7147],\n",
      "         [46.6061,  0.1051,  0.6001],\n",
      "         [47.2750,  0.1981,  0.5064],\n",
      "         ...,\n",
      "         [54.9110,  0.2264,  0.9890],\n",
      "         [54.7865,  0.1690,  0.8724],\n",
      "         [54.6338,  0.1038,  0.7248]]], grad_fn=<CatBackward>)\n"
     ]
    },
    {
     "name": "stderr",
     "output_type": "stream",
     "text": [
      "\n",
      "Train Diffusion: 100%|█████████▉| 1991/2000 [58:36<00:15,  1.74s/it]\u001b[A\n",
      "Train Diffusion: 100%|█████████▉| 1992/2000 [58:38<00:13,  1.74s/it]\u001b[A\n",
      "Train Diffusion: 100%|█████████▉| 1993/2000 [58:40<00:12,  1.74s/it]\u001b[A\n",
      "Train Diffusion: 100%|█████████▉| 1994/2000 [58:42<00:10,  1.74s/it]\u001b[A\n",
      "Train Diffusion: 100%|█████████▉| 1995/2000 [58:43<00:08,  1.73s/it]\u001b[A\n",
      "Train Diffusion: 100%|█████████▉| 1996/2000 [58:45<00:06,  1.74s/it]\u001b[A\n",
      "Train Diffusion: 100%|█████████▉| 1997/2000 [58:47<00:05,  1.74s/it]\u001b[A\n",
      "Train Diffusion: 100%|█████████▉| 1998/2000 [58:49<00:03,  1.74s/it]\u001b[A\n",
      "Train Diffusion: 100%|█████████▉| 1999/2000 [58:50<00:01,  1.74s/it]\u001b[A\n",
      "Train Diffusion: 100%|██████████| 2000/2000 [58:52<00:00,  1.77s/it]\u001b[A\n"
     ]
    }
   ],
   "source": [
    "train(net_SCON_c, niter, pretrain_iter, batch_size, obs_model_CON_noCO2, T_span_tensor, I_S_tensor, I_D_tensor, drift_diffusion_scon_c, SCON_C_params_dict, analytical_steady_state_init_con)"
   ]
  },
  {
   "cell_type": "code",
   "execution_count": null,
   "metadata": {},
   "outputs": [],
   "source": []
  }
 ],
 "metadata": {
  "kernelspec": {
   "display_name": "Python 3",
   "language": "python",
   "name": "python3"
  },
  "language_info": {
   "codemirror_mode": {
    "name": "ipython",
    "version": 3
   },
   "file_extension": ".py",
   "mimetype": "text/x-python",
   "name": "python",
   "nbconvert_exporter": "python",
   "pygments_lexer": "ipython3",
   "version": "3.8.6"
  }
 },
 "nbformat": 4,
 "nbformat_minor": 4
}
