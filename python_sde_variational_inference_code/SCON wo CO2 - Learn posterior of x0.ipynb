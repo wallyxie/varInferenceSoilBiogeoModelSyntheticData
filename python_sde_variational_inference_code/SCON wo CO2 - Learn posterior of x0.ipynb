{
 "cells": [
  {
   "cell_type": "code",
   "execution_count": 1,
   "metadata": {},
   "outputs": [],
   "source": [
    "from SBM_SDE import *\n",
    "from obs_and_flow import *\n",
    "from get_CO2 import *\n",
    "import torch\n",
    "from torch import nn\n",
    "import torch.distributions as d\n",
    "import torch.nn.functional as F\n",
    "import torch.optim as optim\n",
    "import numpy as np\n",
    "import math\n",
    "from tqdm.notebook import tqdm\n",
    "import random\n",
    "from torch.autograd import Function\n",
    "import argparse\n",
    "import os\n",
    "import sys\n",
    "from pathlib import Path\n",
    "import shutil\n",
    "import pandas as pd\n",
    "from matplotlib import pyplot as plt"
   ]
  },
  {
   "cell_type": "code",
   "execution_count": 2,
   "metadata": {},
   "outputs": [],
   "source": [
    "torch.manual_seed(0)\n",
    "devi = torch.device(\"\".join([\"cuda:\",f'{cuda_id}']) if torch.cuda.is_available() else \"cpu\")\n",
    "\n",
    "cuda_id = 1\n",
    "dt = 0.2 #SDE discretization timestep.\n",
    "t = 250 #Simulation run for T hours.\n",
    "n = int(t / dt) + 1\n",
    "t_span = np.linspace(0, t, n)\n",
    "t_span_tensor = torch.reshape(torch.Tensor(t_span), [1, n, 1]) #T_span needs to be converted to tensor object. Additionally, facilitates conversion of I_S and I_D to tensor objects.\n",
    "l_r = 1e-5\n",
    "niter = 2000 #2000\n",
    "piter = 200 #500\n",
    "batch_size = 5 #Number of sets of observation outputs to sample per set of parameters.\n",
    "state_dim_SCON = 3 #Not including CO2 in STATE_DIM, because CO2 is an observation.\n",
    "state_dim_SAWB = 4 #Not including CO2 in STATE_DIM, because CO2 is an observation."
   ]
  },
  {
   "cell_type": "code",
   "execution_count": 3,
   "metadata": {},
   "outputs": [],
   "source": [
    "temp_ref = 283\n",
    "temp_rise = 5 #High estimate of 5 celsius temperature rise by 2100. \n",
    "\n",
    "#System parameters from deterministic CON model\n",
    "u_M = 0.002\n",
    "a_SD = 0.33\n",
    "a_DS = 0.33\n",
    "a_M = 0.33\n",
    "a_MSC = 0.5\n",
    "k_S_ref = 0.000025\n",
    "k_D_ref = 0.005\n",
    "k_M_ref = 0.0002\n",
    "Ea_S = 75\n",
    "Ea_D = 50\n",
    "Ea_M = 50\n",
    "\n",
    "#SCON diffusion matrix parameters\n",
    "c_SOC = 0.5\n",
    "c_DOC = 0.001\n",
    "c_MBC = 0.01\n",
    "\n",
    "SCON_C_params_dict = {'u_M': u_M, 'a_SD': a_SD, 'a_DS': a_DS, 'a_M': a_M, 'a_MSC': a_MSC, 'k_S_ref': k_S_ref, 'k_D_ref': k_D_ref, 'k_M_ref': k_M_ref, 'Ea_S': Ea_S, 'Ea_D': Ea_D, 'Ea_M': Ea_M, 'c_SOC': c_SOC, 'c_DOC': c_DOC, 'c_MBC': c_MBC}"
   ]
  },
  {
   "cell_type": "code",
   "execution_count": 4,
   "metadata": {},
   "outputs": [],
   "source": [
    "obs_error_scale = 0.1\n",
    "x0_SCON = torch.tensor([40, 0.08, 0.8])\n",
    "x0_prior_SCON = d.multivariate_normal.MultivariateNormal(x0_SCON,\n",
    "                                                         scale_tril=torch.eye(state_dim_SCON) * obs_error_scale * x0_SCON)"
   ]
  },
  {
   "cell_type": "code",
   "execution_count": 5,
   "metadata": {},
   "outputs": [
    {
     "data": {
      "text/plain": [
       "((26,), torch.Size([3, 26]), tensor([[3.9702, 0.0242, 0.3712]]))"
      ]
     },
     "execution_count": 5,
     "metadata": {},
     "output_type": "execute_result"
    }
   ],
   "source": [
    "y_dict = torch.load('y_dict.pt')\n",
    "obs_times = y_dict['t_y'][y_dict['t_y'] <= t]\n",
    "obs_means_CON = torch.tensor(y_dict['y'][:, y_dict['t_y'] <= t], dtype=torch.float)\n",
    "obs_error_CON = torch.tensor(y_dict['y_std'].reshape((1, -1)), dtype=torch.float)\n",
    "obs_times.shape, obs_means_CON.shape, obs_error_CON"
   ]
  },
  {
   "cell_type": "code",
   "execution_count": 6,
   "metadata": {},
   "outputs": [],
   "source": [
    "#Obtain temperature forcing function.\n",
    "temp_tensor = temp_gen(t_span_tensor, temp_ref, temp_rise)\n",
    "\n",
    "#Obtain SOC and DOC pool litter input vectors for use in flow SDE functions.\n",
    "i_s_tensor = i_s(t_span_tensor) #Exogenous SOC input function\n",
    "i_d_tensor = i_d(t_span_tensor) #Exogenous DOC input function"
   ]
  },
  {
   "cell_type": "code",
   "execution_count": 7,
   "metadata": {},
   "outputs": [],
   "source": [
    "obs_model_CON_noCO2 = ObsModel(DEVICE = devi, TIMES = obs_times, DT = dt, MU = obs_means_CON, SCALE = obs_error_CON)"
   ]
  },
  {
   "cell_type": "code",
   "execution_count": 8,
   "metadata": {},
   "outputs": [],
   "source": [
    "def calc_log_lik(C_PATH, T_SPAN_TENSOR, DT, I_S_TENSOR, I_D_TENSOR, TEMP_TENSOR, TEMP_REF, DRIFT_DIFFUSION, X0_PRIOR, PARAMS_DICT):\n",
    "    drift, diffusion_sqrt = DRIFT_DIFFUSION(C_PATH[:, :-1, :], T_SPAN_TENSOR[:, :-1, :], I_S_TENSOR[:, :-1, :], I_D_TENSOR[:, :-1, :], TEMP_TENSOR[:, :-1, :], TEMP_REF, PARAMS_DICT)\n",
    "    #drift, diffusion_sqrt = DRIFT_DIFFUSION(C_PATH[:, :-1, :], T_SPAN_TENSOR[:, 1:, :], I_S_TENSOR[:, 1:, :], I_D_TENSOR[:, 1:, :], TEMP_TENSOR[:, :-1, :], TEMP_REF, PARAMS_DICT)\n",
    "    euler_maruyama_state_sample_object = d.multivariate_normal.MultivariateNormal(loc = C_PATH[:, :-1, :] + drift * DT, scale_tril = diffusion_sqrt * math.sqrt(DT))\n",
    "    \n",
    "    # Compute log p(x|theta) = log p(x|x0, theta) + log p(x0|theta)\n",
    "    ll = euler_maruyama_state_sample_object.log_prob(C_PATH[:, 1:, :]).sum(-1) # log p(x|x0, theta)\n",
    "    ll += X0_PRIOR.log_prob(C_PATH[:, 0, :]) # log p(x0|theta)\n",
    "    \n",
    "    return ll # (batch_size, )"
   ]
  },
  {
   "cell_type": "code",
   "execution_count": 9,
   "metadata": {},
   "outputs": [],
   "source": [
    "def train(DEVICE, PRETRAIN_LR, TRAIN_LR, NITER, PRETRAIN_ITER, BATCH_SIZE, OBS_MODEL,\n",
    "          STATE_DIM, T, DT, N, T_SPAN_TENSOR, I_S_TENSOR, I_D_TENSOR, TEMP_TENSOR, TEMP_REF,\n",
    "          DRIFT_DIFFUSION, X0_PRIOR, PARAMS_DICT,\n",
    "          LEARN_PARAMS=False, LR_DECAY=0.1, DECAY_STEP_SIZE=1000):\n",
    "    net = SDEFlow(DEVICE, OBS_MODEL, STATE_DIM, T, DT, N).to(DEVICE)\n",
    "    optimizer = optim.Adam(net.parameters(), lr = PRETRAIN_LR) \n",
    "    if LEARN_PARAMS:\n",
    "        theta_post = MeanField(PARAMS_DICT)\n",
    "        theta_prior = d.normal.Normal(torch.zeros_like(theta_post.means),\n",
    "                                      torch.ones_like(theta_post.std))\n",
    "    if PRETRAIN_ITER >= NITER:\n",
    "        raise Exception(\"PRETRAIN_ITER must be < NITER.\")\n",
    "    best_loss_norm = 1e10\n",
    "    best_loss_ELBO = 1e20\n",
    "    norm_losses = [] #[best_loss_norm] * 10 \n",
    "    ELBO_losses = [] #[best_loss_ELBO] * 10\n",
    "    #C0 = ANALYTICAL_STEADY_STATE_INIT(I_S_TENSOR[0, 0, 0].item(), I_D_TENSOR[0, 0, 0].item(), PARAMS_DICT) #Calculate deterministic initial conditions.\n",
    "    #C0 = C0[(None,) * 2].repeat(BATCH_SIZE, 1, 1).to(DEVICE) #Assign initial conditions to C_PATH.\n",
    "    \n",
    "    with tqdm(total = NITER, desc = f'Train Diffusion', position = -1) as tq:\n",
    "        for it in range(NITER):\n",
    "            net.train()\n",
    "            optimizer.zero_grad()\n",
    "            C_PATH, log_prob = net(BATCH_SIZE) #Obtain paths with solutions at times after t0.\n",
    "            #C_PATH = torch.cat([C0, C_PATH], 1) #Append deterministic CON initial conditions conditional on parameter values to C path. \n",
    "            \n",
    "            if it < PRETRAIN_ITER:\n",
    "                l1_norm_element = C_PATH - torch.mean(OBS_MODEL.mu[:3], -1)\n",
    "                l1_norm = torch.sum(torch.abs(l1_norm_element)).mean()\n",
    "                best_loss_norm = l1_norm if l1_norm < best_loss_norm else best_loss_norm\n",
    "                norm_losses.append(l1_norm.item())\n",
    "                #l2_norm_element = C_PATH - torch.mean(OBS_MODEL.mu, -1)\n",
    "                #l2_norm = torch.sqrt(torch.sum(torch.square(l2_norm_element))).mean()\n",
    "                #best_loss_norm = l2_norm if l2_norm < best_loss_norm else best_loss_norm\n",
    "                #l2_norm.backward()\n",
    "                #norm_losses.append(l2_norm.item())\n",
    "                #if len(norm_losses) > 10:\n",
    "                #    norm_losses.pop(0)\n",
    "                \n",
    "                if (it + 1) % 100 == 0:\n",
    "                    print(f\"Moving average norm loss at {it + 1} iterations is: {sum(norm_losses[-10:]) / len(norm_losses[-10:])}. Best norm loss value is: {best_loss_norm}.\")\n",
    "                    print('\\nC_PATH mean =', C_PATH.mean(-2))\n",
    "                    print('\\nC_PATH =', C_PATH)\n",
    "                l1_norm.backward()\n",
    "                \n",
    "            else:\n",
    "                if LEARN_PARAMS:\n",
    "                    theta_dict, theta, log_q_theta = theta_post()\n",
    "                    log_p_theta = theta_prior.log_prob(theta).sum(-1)\n",
    "                else:\n",
    "                    theta_dict = PARAMS_DICT\n",
    "                    log_q_theta, log_p_theta = torch.zeros(2)\n",
    "                log_lik = calc_log_lik(C_PATH, T_SPAN_TENSOR.to(DEVICE), dt, I_S_TENSOR.to(DEVICE), I_D_TENSOR.to(DEVICE),\n",
    "                                       TEMP_TENSOR, TEMP_REF, DRIFT_DIFFUSION, X0_PRIOR, theta_dict)\n",
    "                \n",
    "                # - log p(theta) + log q(theta) + log q(x|theta) - log p(x|theta) - log p(y|x, theta)\n",
    "                ELBO = -log_p_theta.mean() + log_q_theta.mean() + log_prob.mean() - log_lik.mean() - OBS_MODEL(C_PATH, theta_dict)\n",
    "                #print(ELBO)\n",
    "                #ELBO = log_prob.mean() + log_lik.mean() - OBS_MODEL(C_PATH)\n",
    "                best_loss_ELBO = ELBO if ELBO < best_loss_ELBO else best_loss_ELBO\n",
    "                ELBO_losses.append(ELBO.item())\n",
    "                #if len(ELBO_losses) > 10:\n",
    "                #    ELBO_losses.pop(0)\n",
    "                if (it + 1) % 500 == 0:\n",
    "                    print(f\"Moving average ELBO loss at {it + 1} iterations is: {sum(ELBO_losses[-10:]) / len(ELBO_losses[-10:])}. Best ELBO loss value is: {best_loss_ELBO}.\")\n",
    "                    print('\\nC_PATH mean =', C_PATH.mean(-2))\n",
    "                    print('\\n C_PATH =', C_PATH)\n",
    "                    print(theta_dict)\n",
    "                ELBO.backward()\n",
    "                \n",
    "            torch.nn.utils.clip_grad_norm_(net.parameters(), 3.0)\n",
    "            if it == PRETRAIN_ITER:\n",
    "                optimizer.param_groups[0]['lr'] = TRAIN_LR\n",
    "            elif it % DECAY_STEP_SIZE == 0 and it > PRETRAIN_ITER:\n",
    "                optimizer.param_groups[0]['lr'] *= LR_DECAY\n",
    "            optimizer.step()\n",
    "            tq.update()\n",
    "            \n",
    "    return net, ELBO_losses"
   ]
  },
  {
   "cell_type": "code",
   "execution_count": 10,
   "metadata": {
    "scrolled": false
   },
   "outputs": [
    {
     "data": {
      "application/vnd.jupyter.widget-view+json": {
       "model_id": "a84b0220ec5e43a8b78ea07554dde8aa",
       "version_major": 2,
       "version_minor": 0
      },
      "text/plain": [
       "Train Diffusion:   0%|          | 0/5000 [00:00<?, ?it/s]"
      ]
     },
     "metadata": {},
     "output_type": "display_data"
    },
    {
     "name": "stdout",
     "output_type": "stream",
     "text": [
      "Moving average norm loss at 100 iterations is: 11052.73525390625. Best norm loss value is: 7433.8232421875.\n",
      "\n",
      "C_PATH mean = tensor([[39.4401,  0.0875,  0.9251],\n",
      "        [39.3820,  0.1056,  0.9413],\n",
      "        [39.3878,  0.1314,  0.9092],\n",
      "        [39.4505,  0.0698,  0.8982],\n",
      "        [39.3435,  0.1174,  0.9298]], grad_fn=<MeanBackward1>)\n",
      "\n",
      "C_PATH = tensor([[[1.9276e+01, 7.0421e-03, 4.5389e+00],\n",
      "         [1.8512e+01, 1.5711e+01, 3.6018e+00],\n",
      "         [3.9119e+01, 9.4194e-06, 9.0350e-01],\n",
      "         ...,\n",
      "         [3.7992e+01, 8.8398e-03, 1.3057e+00],\n",
      "         [3.9297e+01, 1.4661e-03, 1.0823e+00],\n",
      "         [3.9489e+01, 1.0027e-06, 1.1250e+00]],\n",
      "\n",
      "        [[1.9276e+01, 7.5252e-02, 1.6782e+00],\n",
      "         [3.7434e+01, 1.9832e-05, 1.1398e+00],\n",
      "         [3.7976e+01, 3.4594e-02, 5.7679e-01],\n",
      "         ...,\n",
      "         [3.8610e+01, 1.3700e-01, 5.0036e-01],\n",
      "         [3.9937e+01, 3.2649e-05, 6.5390e-01],\n",
      "         [3.8890e+01, 1.9600e-02, 5.9208e-01]],\n",
      "\n",
      "        [[1.9276e+01, 3.3865e-01, 2.2536e+00],\n",
      "         [2.8088e+01, 1.2428e+01, 1.7022e-01],\n",
      "         [3.6655e+01, 1.1687e-05, 7.8410e-01],\n",
      "         ...,\n",
      "         [3.9025e+01, 1.0366e-06, 6.7330e-01],\n",
      "         [3.7612e+01, 2.4031e-01, 6.3568e-01],\n",
      "         [4.2078e+01, 1.0600e-06, 9.5657e-01]],\n",
      "\n",
      "        [[1.9276e+01, 1.3386e-06, 1.8418e+00],\n",
      "         [3.5941e+01, 5.1481e-02, 9.5375e-01],\n",
      "         [4.1133e+01, 5.7871e-06, 1.0651e+00],\n",
      "         ...,\n",
      "         [4.3031e+01, 5.7581e-05, 1.1210e+00],\n",
      "         [3.8531e+01, 2.3994e-05, 8.0970e-01],\n",
      "         [3.9126e+01, 1.3150e-03, 6.7845e-01]],\n",
      "\n",
      "        [[1.9276e+01, 2.1555e-02, 2.9307e+00],\n",
      "         [3.4644e+01, 1.9617e+00, 1.2710e+00],\n",
      "         [3.9525e+01, 7.7859e-06, 9.5811e-01],\n",
      "         ...,\n",
      "         [2.3122e+01, 3.1994e+01, 5.1018e-03],\n",
      "         [2.9036e+01, 2.7918e-04, 6.4247e-01],\n",
      "         [3.9769e+01, 1.0561e-06, 1.2429e+00]]], grad_fn=<AddBackward0>)\n",
      "Moving average ELBO loss at 500 iterations is: 317047.73515625. Best ELBO loss value is: 81055.390625.\n",
      "\n",
      "C_PATH mean = tensor([[3.0174e+01, 1.5762e-03, 1.6023e-01],\n",
      "        [3.0213e+01, 1.4635e-02, 1.2981e-01],\n",
      "        [3.0101e+01, 7.7410e-03, 1.5132e-01],\n",
      "        [3.0227e+01, 4.7938e-03, 1.3661e-01],\n",
      "        [3.0158e+01, 8.7994e-03, 1.2432e-01]], grad_fn=<MeanBackward1>)\n",
      "\n",
      " C_PATH = tensor([[[1.5760e+01, 1.3399e-03, 3.5728e-01],\n",
      "         [2.6716e+01, 2.6306e-05, 1.5341e-01],\n",
      "         [3.0477e+01, 6.9639e-06, 2.3243e-01],\n",
      "         ...,\n",
      "         [3.1602e+01, 2.6357e-06, 2.2661e-01],\n",
      "         [3.0627e+01, 1.8850e-06, 5.5865e-02],\n",
      "         [3.0197e+01, 3.5229e-03, 6.1276e-02]],\n",
      "\n",
      "        [[1.5861e+01, 6.9316e-04, 7.0969e-01],\n",
      "         [2.2776e+01, 2.0580e-04, 1.8470e-01],\n",
      "         [2.9417e+01, 6.4701e-04, 8.0423e-02],\n",
      "         ...,\n",
      "         [2.9872e+01, 1.0267e-06, 9.8373e-02],\n",
      "         [3.0568e+01, 5.0691e-03, 1.0735e-01],\n",
      "         [2.9955e+01, 1.2500e-06, 9.6963e-02]],\n",
      "\n",
      "        [[1.6356e+01, 9.1338e-04, 6.9465e-01],\n",
      "         [2.5498e+01, 1.1144e-04, 1.7288e-01],\n",
      "         [2.9431e+01, 3.0526e-03, 1.1796e-02],\n",
      "         ...,\n",
      "         [2.9653e+01, 4.2781e-03, 8.0664e-02],\n",
      "         [2.9990e+01, 4.7673e-06, 1.1915e-01],\n",
      "         [2.9674e+01, 1.2349e-06, 1.0321e-01]],\n",
      "\n",
      "        [[1.5050e+01, 1.6939e-03, 2.9510e-01],\n",
      "         [2.7432e+01, 3.9858e-06, 1.3124e-01],\n",
      "         [2.9999e+01, 1.8868e-05, 8.7011e-02],\n",
      "         ...,\n",
      "         [3.0846e+01, 1.2832e-06, 1.3422e-01],\n",
      "         [3.0150e+01, 9.9099e-05, 1.4047e-01],\n",
      "         [3.0397e+01, 1.1152e-06, 9.1873e-02]],\n",
      "\n",
      "        [[2.2876e+01, 1.0024e-06, 6.8769e-01],\n",
      "         [2.5984e+01, 1.5906e-02, 2.6878e-01],\n",
      "         [3.0580e+01, 1.1760e-06, 1.3635e-01],\n",
      "         ...,\n",
      "         [2.9582e+01, 1.1307e-03, 4.5005e-02],\n",
      "         [2.7040e+01, 4.6047e-03, 2.4088e-01],\n",
      "         [2.9361e+01, 1.2357e-06, 1.1536e-01]]], grad_fn=<AddBackward0>)\n",
      "{'u_M': 0.002, 'a_SD': 0.33, 'a_DS': 0.33, 'a_M': 0.33, 'a_MSC': 0.5, 'k_S_ref': 2.5e-05, 'k_D_ref': 0.005, 'k_M_ref': 0.0002, 'Ea_S': 75, 'Ea_D': 50, 'Ea_M': 50, 'c_SOC': 0.5, 'c_DOC': 0.001, 'c_MBC': 0.01}\n",
      "Moving average ELBO loss at 1000 iterations is: 12894.356640625. Best ELBO loss value is: 11954.263671875.\n",
      "\n",
      "C_PATH mean = tensor([[3.6677, 0.0258, 0.0945],\n",
      "        [3.6752, 0.0263, 0.0968],\n",
      "        [3.6821, 0.0261, 0.0953],\n",
      "        [3.7005, 0.0264, 0.0985],\n",
      "        [3.6886, 0.0266, 0.0987]], grad_fn=<MeanBackward1>)\n",
      "\n",
      " C_PATH = tensor([[[5.0152, 0.0164, 0.0384],\n",
      "         [2.2960, 0.0239, 0.0505],\n",
      "         [1.8081, 0.0186, 0.0532],\n",
      "         ...,\n",
      "         [3.2575, 0.0227, 0.0543],\n",
      "         [3.2237, 0.0230, 0.1022],\n",
      "         [3.5822, 0.0253, 0.1052]],\n",
      "\n",
      "        [[0.8479, 0.0877, 0.0531],\n",
      "         [5.0277, 0.0102, 0.0713],\n",
      "         [3.9750, 0.0106, 0.0494],\n",
      "         ...,\n",
      "         [3.3422, 0.0292, 0.0908],\n",
      "         [3.3124, 0.0322, 0.0841],\n",
      "         [4.1544, 0.0089, 0.0980]],\n",
      "\n",
      "        [[0.7530, 0.0368, 0.0451],\n",
      "         [4.5843, 0.0616, 0.1809],\n",
      "         [3.7519, 0.0192, 0.1187],\n",
      "         ...,\n",
      "         [3.7160, 0.0393, 0.1195],\n",
      "         [3.6375, 0.0371, 0.0903],\n",
      "         [3.6775, 0.0187, 0.0428]],\n",
      "\n",
      "        [[4.1001, 0.0118, 0.0235],\n",
      "         [2.5192, 0.0126, 0.0316],\n",
      "         [2.5757, 0.0196, 0.0870],\n",
      "         ...,\n",
      "         [3.4058, 0.0323, 0.0875],\n",
      "         [3.5963, 0.0177, 0.0563],\n",
      "         [4.0251, 0.0122, 0.0277]],\n",
      "\n",
      "        [[5.1328, 0.0076, 0.0344],\n",
      "         [2.6976, 0.0106, 0.0678],\n",
      "         [2.6292, 0.0360, 0.0763],\n",
      "         ...,\n",
      "         [3.5719, 0.0317, 0.1295],\n",
      "         [3.4627, 0.0465, 0.1244],\n",
      "         [3.9389, 0.0189, 0.0447]]], grad_fn=<AddBackward0>)\n",
      "{'u_M': 0.002, 'a_SD': 0.33, 'a_DS': 0.33, 'a_M': 0.33, 'a_MSC': 0.5, 'k_S_ref': 2.5e-05, 'k_D_ref': 0.005, 'k_M_ref': 0.0002, 'Ea_S': 75, 'Ea_D': 50, 'Ea_M': 50, 'c_SOC': 0.5, 'c_DOC': 0.001, 'c_MBC': 0.01}\n",
      "Moving average ELBO loss at 1500 iterations is: 3986.01064453125. Best ELBO loss value is: 3751.543212890625.\n",
      "\n",
      "C_PATH mean = tensor([[0.3486, 0.0821, 0.1332],\n",
      "        [0.3555, 0.0817, 0.1334],\n",
      "        [0.3774, 0.0801, 0.1339],\n",
      "        [0.3576, 0.0821, 0.1355],\n",
      "        [0.3593, 0.0809, 0.1338]], grad_fn=<MeanBackward1>)\n",
      "\n",
      " C_PATH = tensor([[[0.2244, 0.0942, 0.0828],\n",
      "         [0.4238, 0.0657, 0.1029],\n",
      "         [0.3894, 0.0589, 0.1167],\n",
      "         ...,\n",
      "         [0.2823, 0.0724, 0.1351],\n",
      "         [0.1032, 0.0770, 0.0947],\n",
      "         [0.1445, 0.1389, 0.1983]],\n",
      "\n",
      "        [[1.0028, 0.0816, 0.0740],\n",
      "         [0.2086, 0.0653, 0.0737],\n",
      "         [0.0447, 0.0639, 0.0783],\n",
      "         ...,\n",
      "         [0.2319, 0.0714, 0.1014],\n",
      "         [0.1599, 0.0676, 0.1948],\n",
      "         [0.4928, 0.1001, 0.1649]],\n",
      "\n",
      "        [[0.9624, 0.0750, 0.0520],\n",
      "         [0.1300, 0.0489, 0.0729],\n",
      "         [0.5678, 0.0705, 0.1009],\n",
      "         ...,\n",
      "         [0.4833, 0.0735, 0.0996],\n",
      "         [0.5052, 0.0519, 0.0672],\n",
      "         [0.5586, 0.1262, 0.1214]],\n",
      "\n",
      "        [[0.5594, 0.0669, 0.0630],\n",
      "         [0.0578, 0.0494, 0.1706],\n",
      "         [0.3667, 0.0641, 0.1350],\n",
      "         ...,\n",
      "         [0.3537, 0.0651, 0.1033],\n",
      "         [0.1178, 0.0920, 0.1015],\n",
      "         [0.2235, 0.1340, 0.0788]],\n",
      "\n",
      "        [[0.0795, 0.0593, 0.1301],\n",
      "         [0.3915, 0.0553, 0.1491],\n",
      "         [0.3368, 0.0670, 0.1221],\n",
      "         ...,\n",
      "         [0.2841, 0.0763, 0.1583],\n",
      "         [1.0837, 0.0726, 0.1112],\n",
      "         [0.8960, 0.1112, 0.1616]]], grad_fn=<AddBackward0>)\n",
      "{'u_M': 0.002, 'a_SD': 0.33, 'a_DS': 0.33, 'a_M': 0.33, 'a_MSC': 0.5, 'k_S_ref': 2.5e-05, 'k_D_ref': 0.005, 'k_M_ref': 0.0002, 'Ea_S': 75, 'Ea_D': 50, 'Ea_M': 50, 'c_SOC': 0.5, 'c_DOC': 0.001, 'c_MBC': 0.01}\n",
      "Moving average ELBO loss at 2000 iterations is: 3310.140576171875. Best ELBO loss value is: 3033.20947265625.\n",
      "\n",
      "C_PATH mean = tensor([[0.4118, 0.1089, 0.1728],\n",
      "        [0.4063, 0.1082, 0.1714],\n",
      "        [0.4032, 0.1090, 0.1725],\n",
      "        [0.4121, 0.1087, 0.1689],\n",
      "        [0.3929, 0.1085, 0.1668]], grad_fn=<MeanBackward1>)\n",
      "\n",
      " C_PATH = tensor([[[1.0036, 0.0800, 0.0817],\n",
      "         [0.0796, 0.0665, 0.0834],\n",
      "         [0.1354, 0.0811, 0.1360],\n",
      "         ...,\n",
      "         [0.5440, 0.1181, 0.2728],\n",
      "         [0.5247, 0.1307, 0.2351],\n",
      "         [0.9179, 0.1508, 0.1602]],\n",
      "\n",
      "        [[0.4900, 0.0762, 0.1631],\n",
      "         [0.4526, 0.1030, 0.1814],\n",
      "         [0.4127, 0.0976, 0.1817],\n",
      "         ...,\n",
      "         [1.1859, 0.1297, 0.1024],\n",
      "         [0.6845, 0.1210, 0.0969],\n",
      "         [0.2603, 0.1498, 0.1568]],\n",
      "\n",
      "        [[0.2768, 0.0723, 0.1958],\n",
      "         [0.6170, 0.0753, 0.1314],\n",
      "         [0.5758, 0.0639, 0.1231],\n",
      "         ...,\n",
      "         [0.1223, 0.1151, 0.1886],\n",
      "         [0.1979, 0.1383, 0.1740],\n",
      "         [0.5546, 0.1553, 0.1754]],\n",
      "\n",
      "        [[1.2074, 0.0734, 0.1740],\n",
      "         [0.1315, 0.0783, 0.1751],\n",
      "         [0.5543, 0.0782, 0.1605],\n",
      "         ...,\n",
      "         [0.0936, 0.0858, 0.0916],\n",
      "         [0.0783, 0.0995, 0.1444],\n",
      "         [0.2563, 0.1681, 0.1442]],\n",
      "\n",
      "        [[1.2900, 0.0830, 0.1357],\n",
      "         [0.2343, 0.0783, 0.1077],\n",
      "         [0.1953, 0.0775, 0.0949],\n",
      "         ...,\n",
      "         [0.1557, 0.0546, 0.1389],\n",
      "         [0.3133, 0.0757, 0.1294],\n",
      "         [0.5046, 0.1121, 0.1933]]], grad_fn=<AddBackward0>)\n",
      "{'u_M': 0.002, 'a_SD': 0.33, 'a_DS': 0.33, 'a_M': 0.33, 'a_MSC': 0.5, 'k_S_ref': 2.5e-05, 'k_D_ref': 0.005, 'k_M_ref': 0.0002, 'Ea_S': 75, 'Ea_D': 50, 'Ea_M': 50, 'c_SOC': 0.5, 'c_DOC': 0.001, 'c_MBC': 0.01}\n"
     ]
    },
    {
     "name": "stdout",
     "output_type": "stream",
     "text": [
      "Moving average ELBO loss at 2500 iterations is: 3211.5383544921874. Best ELBO loss value is: 2913.177978515625.\n",
      "\n",
      "C_PATH mean = tensor([[0.3908, 0.0949, 0.1592],\n",
      "        [0.3530, 0.0953, 0.1537],\n",
      "        [0.3651, 0.0954, 0.1568],\n",
      "        [0.3610, 0.0948, 0.1560],\n",
      "        [0.3764, 0.0944, 0.1560]], grad_fn=<MeanBackward1>)\n",
      "\n",
      " C_PATH = tensor([[[1.4963, 0.0694, 0.1685],\n",
      "         [0.5964, 0.0467, 0.0972],\n",
      "         [0.3130, 0.0756, 0.1590],\n",
      "         ...,\n",
      "         [0.1345, 0.0675, 0.0692],\n",
      "         [0.0425, 0.0875, 0.1250],\n",
      "         [0.5037, 0.1163, 0.1564]],\n",
      "\n",
      "        [[0.8963, 0.1168, 0.1743],\n",
      "         [0.1216, 0.0844, 0.1514],\n",
      "         [0.5411, 0.0671, 0.1440],\n",
      "         ...,\n",
      "         [0.2221, 0.0983, 0.1564],\n",
      "         [0.9097, 0.0891, 0.1291],\n",
      "         [0.7298, 0.1068, 0.2179]],\n",
      "\n",
      "        [[0.8111, 0.0713, 0.2886],\n",
      "         [0.1404, 0.0871, 0.1388],\n",
      "         [0.2420, 0.0825, 0.1305],\n",
      "         ...,\n",
      "         [0.5157, 0.0975, 0.2145],\n",
      "         [0.2406, 0.1143, 0.1522],\n",
      "         [0.0786, 0.1708, 0.1929]],\n",
      "\n",
      "        [[0.3547, 0.0560, 0.1838],\n",
      "         [0.5812, 0.0690, 0.1150],\n",
      "         [0.4478, 0.0634, 0.1223],\n",
      "         ...,\n",
      "         [0.7878, 0.1292, 0.1557],\n",
      "         [0.1739, 0.1029, 0.1693],\n",
      "         [0.3170, 0.1470, 0.1271]],\n",
      "\n",
      "        [[0.4960, 0.0840, 0.1187],\n",
      "         [0.1538, 0.0702, 0.0766],\n",
      "         [0.1250, 0.0664, 0.0719],\n",
      "         ...,\n",
      "         [0.1763, 0.0874, 0.1266],\n",
      "         [0.2408, 0.1190, 0.1479],\n",
      "         [0.7433, 0.1857, 0.1430]]], grad_fn=<AddBackward0>)\n",
      "{'u_M': 0.002, 'a_SD': 0.33, 'a_DS': 0.33, 'a_M': 0.33, 'a_MSC': 0.5, 'k_S_ref': 2.5e-05, 'k_D_ref': 0.005, 'k_M_ref': 0.0002, 'Ea_S': 75, 'Ea_D': 50, 'Ea_M': 50, 'c_SOC': 0.5, 'c_DOC': 0.001, 'c_MBC': 0.01}\n",
      "Moving average ELBO loss at 3000 iterations is: 3041.382177734375. Best ELBO loss value is: 2677.093505859375.\n",
      "\n",
      "C_PATH mean = tensor([[0.3684, 0.1007, 0.1625],\n",
      "        [0.3706, 0.1019, 0.1581],\n",
      "        [0.3883, 0.1024, 0.1591],\n",
      "        [0.3871, 0.1005, 0.1602],\n",
      "        [0.3665, 0.1010, 0.1588]], grad_fn=<MeanBackward1>)\n",
      "\n",
      " C_PATH = tensor([[[0.7744, 0.0644, 0.2274],\n",
      "         [0.0498, 0.1019, 0.1508],\n",
      "         [0.4304, 0.0703, 0.1559],\n",
      "         ...,\n",
      "         [0.1295, 0.1077, 0.2033],\n",
      "         [0.5663, 0.1103, 0.1587],\n",
      "         [0.6068, 0.1576, 0.1338]],\n",
      "\n",
      "        [[0.7713, 0.1099, 0.1122],\n",
      "         [0.1032, 0.1249, 0.0844],\n",
      "         [0.1477, 0.1031, 0.1093],\n",
      "         ...,\n",
      "         [0.5288, 0.1000, 0.0995],\n",
      "         [0.0369, 0.1092, 0.1442],\n",
      "         [0.5455, 0.1594, 0.2398]],\n",
      "\n",
      "        [[0.3305, 0.0750, 0.2770],\n",
      "         [0.0411, 0.0939, 0.1986],\n",
      "         [0.0737, 0.1225, 0.2370],\n",
      "         ...,\n",
      "         [0.5992, 0.1118, 0.1118],\n",
      "         [0.2039, 0.1307, 0.1502],\n",
      "         [0.1599, 0.1488, 0.1660]],\n",
      "\n",
      "        [[1.3023, 0.0805, 0.3877],\n",
      "         [1.1125, 0.0804, 0.2185],\n",
      "         [1.2083, 0.0826, 0.2117],\n",
      "         ...,\n",
      "         [0.2311, 0.1019, 0.1407],\n",
      "         [0.4051, 0.1108, 0.1916],\n",
      "         [0.2834, 0.1668, 0.1543]],\n",
      "\n",
      "        [[1.2484, 0.0809, 0.2264],\n",
      "         [0.7578, 0.0796, 0.1041],\n",
      "         [0.0522, 0.0765, 0.0904],\n",
      "         ...,\n",
      "         [0.4733, 0.0899, 0.2147],\n",
      "         [0.4458, 0.1055, 0.1486],\n",
      "         [0.3583, 0.1247, 0.1179]]], grad_fn=<AddBackward0>)\n",
      "{'u_M': 0.002, 'a_SD': 0.33, 'a_DS': 0.33, 'a_M': 0.33, 'a_MSC': 0.5, 'k_S_ref': 2.5e-05, 'k_D_ref': 0.005, 'k_M_ref': 0.0002, 'Ea_S': 75, 'Ea_D': 50, 'Ea_M': 50, 'c_SOC': 0.5, 'c_DOC': 0.001, 'c_MBC': 0.01}\n",
      "Moving average ELBO loss at 3500 iterations is: 2532.5104248046873. Best ELBO loss value is: 2423.53662109375.\n",
      "\n",
      "C_PATH mean = tensor([[0.4020, 0.1265, 0.1819],\n",
      "        [0.3924, 0.1261, 0.1813],\n",
      "        [0.4193, 0.1271, 0.1809],\n",
      "        [0.3875, 0.1267, 0.1813],\n",
      "        [0.4020, 0.1295, 0.1827]], grad_fn=<MeanBackward1>)\n",
      "\n",
      " C_PATH = tensor([[[1.8697, 0.0819, 0.2255],\n",
      "         [1.2131, 0.0826, 0.0894],\n",
      "         [0.0455, 0.0910, 0.1264],\n",
      "         ...,\n",
      "         [0.6309, 0.1293, 0.2305],\n",
      "         [0.4791, 0.1716, 0.1567],\n",
      "         [0.1000, 0.2220, 0.2111]],\n",
      "\n",
      "        [[0.6841, 0.1028, 0.2911],\n",
      "         [0.9409, 0.0862, 0.2615],\n",
      "         [0.3864, 0.0904, 0.1754],\n",
      "         ...,\n",
      "         [0.4660, 0.1300, 0.2168],\n",
      "         [0.5807, 0.1233, 0.2106],\n",
      "         [0.4487, 0.1583, 0.1836]],\n",
      "\n",
      "        [[0.9727, 0.0814, 0.2821],\n",
      "         [0.2519, 0.1187, 0.1344],\n",
      "         [0.4486, 0.1062, 0.1592],\n",
      "         ...,\n",
      "         [0.0761, 0.1330, 0.1660],\n",
      "         [0.1738, 0.1527, 0.1306],\n",
      "         [0.3310, 0.1948, 0.1200]],\n",
      "\n",
      "        [[1.2836, 0.0836, 0.2517],\n",
      "         [0.0617, 0.0971, 0.0595],\n",
      "         [0.2334, 0.0965, 0.1415],\n",
      "         ...,\n",
      "         [0.4016, 0.1438, 0.1577],\n",
      "         [0.5046, 0.1549, 0.1517],\n",
      "         [0.7800, 0.1456, 0.1614]],\n",
      "\n",
      "        [[0.7876, 0.0826, 0.2249],\n",
      "         [0.1930, 0.0753, 0.1694],\n",
      "         [0.3747, 0.0784, 0.1436],\n",
      "         ...,\n",
      "         [0.4331, 0.1288, 0.1371],\n",
      "         [0.2163, 0.1652, 0.2442],\n",
      "         [0.2854, 0.1863, 0.2397]]], grad_fn=<AddBackward0>)\n",
      "{'u_M': 0.002, 'a_SD': 0.33, 'a_DS': 0.33, 'a_M': 0.33, 'a_MSC': 0.5, 'k_S_ref': 2.5e-05, 'k_D_ref': 0.005, 'k_M_ref': 0.0002, 'Ea_S': 75, 'Ea_D': 50, 'Ea_M': 50, 'c_SOC': 0.5, 'c_DOC': 0.001, 'c_MBC': 0.01}\n",
      "Moving average ELBO loss at 4000 iterations is: 2748.434521484375. Best ELBO loss value is: 2180.60888671875.\n",
      "\n",
      "C_PATH mean = tensor([[0.3907, 0.1240, 0.1871],\n",
      "        [0.3928, 0.1221, 0.1855],\n",
      "        [0.3983, 0.1228, 0.1851],\n",
      "        [0.4100, 0.1221, 0.1856],\n",
      "        [0.3870, 0.1213, 0.1864]], grad_fn=<MeanBackward1>)\n",
      "\n",
      " C_PATH = tensor([[[1.0693, 0.0876, 0.3214],\n",
      "         [0.3899, 0.1181, 0.1966],\n",
      "         [0.3836, 0.1112, 0.2267],\n",
      "         ...,\n",
      "         [0.2106, 0.1266, 0.1850],\n",
      "         [0.3901, 0.2025, 0.2002],\n",
      "         [0.2465, 0.2164, 0.2262]],\n",
      "\n",
      "        [[0.6318, 0.0673, 0.3388],\n",
      "         [0.2599, 0.0768, 0.1312],\n",
      "         [0.2871, 0.0816, 0.1429],\n",
      "         ...,\n",
      "         [0.5532, 0.1371, 0.2015],\n",
      "         [0.1679, 0.1432, 0.3091],\n",
      "         [0.7809, 0.1722, 0.2150]],\n",
      "\n",
      "        [[1.7827, 0.0761, 0.2424],\n",
      "         [0.7436, 0.0684, 0.1595],\n",
      "         [0.7049, 0.0918, 0.1421],\n",
      "         ...,\n",
      "         [0.5333, 0.1233, 0.1906],\n",
      "         [0.9288, 0.1307, 0.1713],\n",
      "         [0.9805, 0.1393, 0.1960]],\n",
      "\n",
      "        [[1.4333, 0.0827, 0.3033],\n",
      "         [0.4952, 0.0770, 0.1358],\n",
      "         [0.1438, 0.0702, 0.1447],\n",
      "         ...,\n",
      "         [0.3060, 0.1470, 0.1354],\n",
      "         [0.3825, 0.0877, 0.1029],\n",
      "         [0.2923, 0.1235, 0.1665]],\n",
      "\n",
      "        [[0.8815, 0.0856, 0.2284],\n",
      "         [0.1163, 0.0989, 0.1914],\n",
      "         [0.3102, 0.0983, 0.1651],\n",
      "         ...,\n",
      "         [0.4957, 0.1082, 0.1983],\n",
      "         [0.1346, 0.1519, 0.1828],\n",
      "         [0.2977, 0.2013, 0.2267]]], grad_fn=<AddBackward0>)\n",
      "{'u_M': 0.002, 'a_SD': 0.33, 'a_DS': 0.33, 'a_M': 0.33, 'a_MSC': 0.5, 'k_S_ref': 2.5e-05, 'k_D_ref': 0.005, 'k_M_ref': 0.0002, 'Ea_S': 75, 'Ea_D': 50, 'Ea_M': 50, 'c_SOC': 0.5, 'c_DOC': 0.001, 'c_MBC': 0.01}\n",
      "Moving average ELBO loss at 4500 iterations is: 2602.4031494140627. Best ELBO loss value is: 2180.60888671875.\n",
      "\n",
      "C_PATH mean = tensor([[0.3894, 0.1264, 0.1773],\n",
      "        [0.3879, 0.1254, 0.1788],\n",
      "        [0.3826, 0.1261, 0.1757],\n",
      "        [0.3771, 0.1267, 0.1775],\n",
      "        [0.3882, 0.1254, 0.1813]], grad_fn=<MeanBackward1>)\n",
      "\n",
      " C_PATH = tensor([[[0.5019, 0.0773, 0.3303],\n",
      "         [0.1258, 0.0816, 0.1335],\n",
      "         [0.3692, 0.1129, 0.0938],\n",
      "         ...,\n",
      "         [0.1914, 0.1453, 0.1388],\n",
      "         [0.0419, 0.1919, 0.2099],\n",
      "         [0.1582, 0.1884, 0.1885]],\n",
      "\n",
      "        [[0.8750, 0.0937, 0.3267],\n",
      "         [0.6711, 0.0826, 0.2066],\n",
      "         [0.1626, 0.0950, 0.2015],\n",
      "         ...,\n",
      "         [0.5378, 0.1321, 0.2240],\n",
      "         [0.4640, 0.1512, 0.1602],\n",
      "         [0.2198, 0.2020, 0.1822]],\n",
      "\n",
      "        [[0.9091, 0.1058, 0.3223],\n",
      "         [0.1764, 0.0992, 0.1697],\n",
      "         [0.4334, 0.0803, 0.1982],\n",
      "         ...,\n",
      "         [0.6362, 0.1212, 0.1625],\n",
      "         [0.6287, 0.1516, 0.1192],\n",
      "         [0.1094, 0.1918, 0.1645]],\n",
      "\n",
      "        [[1.2939, 0.0761, 0.2839],\n",
      "         [0.4192, 0.1018, 0.0522],\n",
      "         [0.0649, 0.0948, 0.1039],\n",
      "         ...,\n",
      "         [0.4508, 0.1315, 0.1758],\n",
      "         [0.6253, 0.1560, 0.2390],\n",
      "         [0.9292, 0.1665, 0.2259]],\n",
      "\n",
      "        [[1.3139, 0.0841, 0.2611],\n",
      "         [1.0441, 0.0953, 0.2881],\n",
      "         [0.3077, 0.0851, 0.2172],\n",
      "         ...,\n",
      "         [0.3384, 0.1674, 0.2234],\n",
      "         [0.6812, 0.1612, 0.2004],\n",
      "         [0.6011, 0.1863, 0.1511]]], grad_fn=<AddBackward0>)\n",
      "{'u_M': 0.002, 'a_SD': 0.33, 'a_DS': 0.33, 'a_M': 0.33, 'a_MSC': 0.5, 'k_S_ref': 2.5e-05, 'k_D_ref': 0.005, 'k_M_ref': 0.0002, 'Ea_S': 75, 'Ea_D': 50, 'Ea_M': 50, 'c_SOC': 0.5, 'c_DOC': 0.001, 'c_MBC': 0.01}\n"
     ]
    },
    {
     "name": "stdout",
     "output_type": "stream",
     "text": [
      "Moving average ELBO loss at 5000 iterations is: 2075.2156494140627. Best ELBO loss value is: 1977.72607421875.\n",
      "\n",
      "C_PATH mean = tensor([[0.4548, 0.1584, 0.2190],\n",
      "        [0.4325, 0.1581, 0.2141],\n",
      "        [0.4337, 0.1568, 0.2162],\n",
      "        [0.4274, 0.1582, 0.2199],\n",
      "        [0.4362, 0.1571, 0.2160]], grad_fn=<MeanBackward1>)\n",
      "\n",
      " C_PATH = tensor([[[0.6883, 0.0983, 0.2495],\n",
      "         [0.1666, 0.1438, 0.1056],\n",
      "         [0.0560, 0.1232, 0.0945],\n",
      "         ...,\n",
      "         [0.4931, 0.1847, 0.2082],\n",
      "         [0.9975, 0.1811, 0.1957],\n",
      "         [1.0651, 0.1990, 0.2308]],\n",
      "\n",
      "        [[1.2543, 0.0702, 0.3877],\n",
      "         [0.0319, 0.1007, 0.1250],\n",
      "         [0.0195, 0.1289, 0.1310],\n",
      "         ...,\n",
      "         [0.1793, 0.2365, 0.3668],\n",
      "         [0.3515, 0.2218, 0.2502],\n",
      "         [0.1548, 0.2086, 0.2423]],\n",
      "\n",
      "        [[1.8821, 0.0916, 0.2866],\n",
      "         [1.7470, 0.0988, 0.1961],\n",
      "         [0.3974, 0.0916, 0.0906],\n",
      "         ...,\n",
      "         [0.1626, 0.1863, 0.2049],\n",
      "         [0.1063, 0.2004, 0.2939],\n",
      "         [0.5204, 0.2170, 0.2882]],\n",
      "\n",
      "        [[0.4539, 0.0852, 0.4498],\n",
      "         [0.4886, 0.0970, 0.3658],\n",
      "         [0.8950, 0.1178, 0.3147],\n",
      "         ...,\n",
      "         [1.1104, 0.1805, 0.2053],\n",
      "         [0.7600, 0.2062, 0.1909],\n",
      "         [0.4808, 0.2394, 0.1898]],\n",
      "\n",
      "        [[1.1650, 0.0932, 0.3491],\n",
      "         [0.2160, 0.1055, 0.2195],\n",
      "         [0.4020, 0.0929, 0.2945],\n",
      "         ...,\n",
      "         [0.5656, 0.1591, 0.2211],\n",
      "         [0.4490, 0.2248, 0.2285],\n",
      "         [1.0503, 0.2156, 0.1902]]], grad_fn=<AddBackward0>)\n",
      "{'u_M': 0.002, 'a_SD': 0.33, 'a_DS': 0.33, 'a_M': 0.33, 'a_MSC': 0.5, 'k_S_ref': 2.5e-05, 'k_D_ref': 0.005, 'k_M_ref': 0.0002, 'Ea_S': 75, 'Ea_D': 50, 'Ea_M': 50, 'c_SOC': 0.5, 'c_DOC': 0.001, 'c_MBC': 0.01}\n"
     ]
    }
   ],
   "source": [
    "net, elbo_hist = train(devi, 1e-2, 1e-3, 5000, 100, 5, obs_model_CON_noCO2,\n",
    "                       state_dim_SCON, t, dt, n, t_span_tensor, i_s_tensor, i_d_tensor, temp_tensor, temp_ref,\n",
    "                       drift_diffusion_SCON_C, x0_prior_SCON, SCON_C_params_dict,\n",
    "                       LR_DECAY=0.5, DECAY_STEP_SIZE=10000)\n",
    "torch.save(net, 'net.pt')"
   ]
  },
  {
   "cell_type": "code",
   "execution_count": null,
   "metadata": {},
   "outputs": [],
   "source": [
    "net = torch.load('net.pt')"
   ]
  },
  {
   "cell_type": "code",
   "execution_count": 13,
   "metadata": {},
   "outputs": [
    {
     "data": {
      "text/plain": [
       "(tensor([ 2.2299,  4.5748,  2.1691,  ...,  0.0836, -1.0322, -0.6772]),\n",
       " tensor([1.6422, 7.2552, 8.4421,  ..., 7.3633, 6.8056, 8.2170]))"
      ]
     },
     "execution_count": 13,
     "metadata": {},
     "output_type": "execute_result"
    }
   ],
   "source": [
    "net.batch_norm[0].running_mean, net.batch_norm[0].running_var"
   ]
  },
  {
   "cell_type": "code",
   "execution_count": null,
   "metadata": {},
   "outputs": [],
   "source": [
    "net.coupling[0].first_block.bn1.running_mean, net.coupling[0].first_block.bn1.running_var"
   ]
  },
  {
   "cell_type": "code",
   "execution_count": null,
   "metadata": {},
   "outputs": [],
   "source": [
    "net.coupling[0].first_block.bn2.running_mean, net.coupling[0].first_block.bn2.running_var"
   ]
  },
  {
   "cell_type": "code",
   "execution_count": 15,
   "metadata": {
    "scrolled": false
   },
   "outputs": [
    {
     "data": {
      "text/plain": [
       "(tensor([[[4.6597e+01, 7.6061e-02, 8.4196e-01],\n",
       "          [4.6119e+01, 6.7011e-02, 8.5107e-01],\n",
       "          [4.5974e+01, 8.6429e-02, 8.3839e-01],\n",
       "          ...,\n",
       "          [2.9337e+01, 2.7568e-01, 8.8717e-01],\n",
       "          [3.0781e+01, 2.3965e-01, 9.1877e-01],\n",
       "          [3.1401e+01, 2.2705e-01, 7.4825e-01]],\n",
       " \n",
       "         [[4.6005e+01, 1.0065e-01, 8.4920e-01],\n",
       "          [4.6123e+01, 1.2118e-01, 9.4213e-01],\n",
       "          [4.6290e+01, 7.8856e-02, 9.8934e-01],\n",
       "          ...,\n",
       "          [3.1444e+01, 2.6342e-01, 8.6333e-01],\n",
       "          [3.2153e+01, 1.7705e-01, 7.5878e-01],\n",
       "          [3.1349e+01, 2.1140e-01, 1.0063e+00]],\n",
       " \n",
       "         [[4.5837e+01, 7.2278e-02, 8.0390e-01],\n",
       "          [4.6548e+01, 3.2631e-02, 7.7580e-01],\n",
       "          [4.7212e+01, 1.2713e-02, 9.7755e-01],\n",
       "          ...,\n",
       "          [3.1062e+01, 2.7579e-01, 7.8426e-01],\n",
       "          [3.1172e+01, 2.7284e-01, 7.3552e-01],\n",
       "          [3.1494e+01, 2.7990e-01, 6.5868e-01]],\n",
       " \n",
       "         ...,\n",
       " \n",
       "         [[4.7808e+01, 7.5084e-02, 7.6344e-01],\n",
       "          [4.9113e+01, 8.2700e-02, 6.3400e-01],\n",
       "          [4.6303e+01, 7.9532e-02, 7.1421e-01],\n",
       "          ...,\n",
       "          [3.3200e+01, 2.4829e-01, 7.8692e-01],\n",
       "          [3.1995e+01, 2.5220e-01, 7.9564e-01],\n",
       "          [3.1580e+01, 2.3099e-01, 6.5804e-01]],\n",
       " \n",
       "         [[4.7465e+01, 8.1646e-02, 8.5325e-01],\n",
       "          [4.6986e+01, 1.0301e-01, 8.1874e-01],\n",
       "          [4.6276e+01, 1.0117e-01, 8.5257e-01],\n",
       "          ...,\n",
       "          [3.2155e+01, 2.3156e-01, 8.1611e-01],\n",
       "          [3.1324e+01, 2.2955e-01, 7.5693e-01],\n",
       "          [3.1822e+01, 2.4163e-01, 7.5106e-01]],\n",
       " \n",
       "         [[4.5545e+01, 9.1671e-02, 7.1673e-01],\n",
       "          [4.6234e+01, 5.3342e-02, 7.9509e-01],\n",
       "          [4.5928e+01, 6.4254e-02, 7.6289e-01],\n",
       "          ...,\n",
       "          [3.1446e+01, 2.6309e-01, 5.6973e-01],\n",
       "          [3.1783e+01, 2.2323e-01, 5.3429e-01],\n",
       "          [3.1690e+01, 2.4965e-01, 6.1134e-01]]], grad_fn=<AddBackward0>),\n",
       " tensor([[1607.4783],\n",
       "         [1687.7961],\n",
       "         [1584.3860],\n",
       "         [1651.5317],\n",
       "         [1620.8400],\n",
       "         [1600.4722],\n",
       "         [1623.8740],\n",
       "         [1599.2168],\n",
       "         [1538.1669],\n",
       "         [1571.3390]], grad_fn=<AddBackward0>))"
      ]
     },
     "execution_count": 15,
     "metadata": {},
     "output_type": "execute_result"
    }
   ],
   "source": [
    "net.eval()\n",
    "net(10)"
   ]
  },
  {
   "cell_type": "code",
   "execution_count": 16,
   "metadata": {
    "scrolled": false
   },
   "outputs": [
    {
     "data": {
      "text/plain": [
       "(tensor([[[46.2272,  0.0918,  0.7945],\n",
       "          [45.6016,  0.1389,  0.7536],\n",
       "          [43.8989,  0.0695,  1.2901],\n",
       "          ...,\n",
       "          [31.4549,  0.2450,  0.6685],\n",
       "          [31.8314,  0.2386,  0.6781],\n",
       "          [31.3991,  0.2693,  0.6353]],\n",
       " \n",
       "         [[45.2189,  0.0890,  0.9108],\n",
       "          [45.1394,  0.1103,  0.7745],\n",
       "          [44.4017,  0.3348,  0.7346],\n",
       "          ...,\n",
       "          [30.9332,  0.2416,  0.7829],\n",
       "          [31.3564,  0.2356,  0.7148],\n",
       "          [30.6377,  0.2611,  0.6300]],\n",
       " \n",
       "         [[45.8027,  0.0862,  0.8370],\n",
       "          [46.7020,  0.0772,  0.7977],\n",
       "          [47.6816,  0.0976,  0.7207],\n",
       "          ...,\n",
       "          [30.9215,  0.2297,  0.7503],\n",
       "          [30.7251,  0.2237,  0.8056],\n",
       "          [31.6810,  0.2269,  0.7541]],\n",
       " \n",
       "         [[46.2072,  0.0883,  0.7848],\n",
       "          [46.4790,  0.1074,  0.7164],\n",
       "          [45.7958,  0.0850,  0.7588],\n",
       "          ...,\n",
       "          [31.7998,  0.2251,  0.9543],\n",
       "          [31.4328,  0.2524,  1.0926],\n",
       "          [28.9723,  0.2693,  1.0471]],\n",
       " \n",
       "         [[46.6389,  0.0942,  0.8095],\n",
       "          [46.9558,  0.1014,  0.6982],\n",
       "          [46.6747,  0.1084,  0.7900],\n",
       "          ...,\n",
       "          [31.3780,  0.2766,  0.7761],\n",
       "          [32.0687,  0.2957,  0.9678],\n",
       "          [31.7038,  0.2953,  0.7070]]], grad_fn=<AddBackward0>),\n",
       " tensor([[1696.6123],\n",
       "         [1632.0826],\n",
       "         [1625.5446],\n",
       "         [1628.2079],\n",
       "         [1522.7321]], grad_fn=<AddBackward0>))"
      ]
     },
     "execution_count": 16,
     "metadata": {},
     "output_type": "execute_result"
    }
   ],
   "source": [
    "#net.train()\n",
    "net(5)"
   ]
  },
  {
   "cell_type": "code",
   "execution_count": null,
   "metadata": {},
   "outputs": [],
   "source": [
    "net(1)"
   ]
  },
  {
   "cell_type": "code",
   "execution_count": null,
   "metadata": {},
   "outputs": [],
   "source": [
    "net.batch_norm[0].beta"
   ]
  },
  {
   "cell_type": "code",
   "execution_count": null,
   "metadata": {},
   "outputs": [],
   "source": [
    "net.batch_norm[0].running_mean, net.batch_norm[0].running_var"
   ]
  },
  {
   "cell_type": "code",
   "execution_count": null,
   "metadata": {},
   "outputs": [],
   "source": [
    "num_samples = 2\n",
    "x = []\n",
    "for i in range(num_samples):\n",
    "    torch.manual_seed(i)\n",
    "    x_i, _ = net(1)\n",
    "    x.append(x_i)\n",
    "x = torch.stack(x)"
   ]
  },
  {
   "cell_type": "code",
   "execution_count": null,
   "metadata": {},
   "outputs": [],
   "source": [
    "net.train()\n",
    "x_i, _ = net(1)\n",
    "print(x_i)"
   ]
  },
  {
   "cell_type": "code",
   "execution_count": null,
   "metadata": {},
   "outputs": [],
   "source": [
    "base_dist = d.normal.Normal(loc = 0., scale = 1.)\n",
    "eps = base_dist.sample([2, 1, 3*n])\n",
    "eps"
   ]
  },
  {
   "cell_type": "code",
   "execution_count": null,
   "metadata": {},
   "outputs": [],
   "source": [
    "eps = base_dist.sample([2, 1, 3*n])\n",
    "eps"
   ]
  },
  {
   "cell_type": "code",
   "execution_count": 11,
   "metadata": {},
   "outputs": [],
   "source": [
    "net.eval()\n",
    "x, _ = net(10)"
   ]
  },
  {
   "cell_type": "code",
   "execution_count": 12,
   "metadata": {},
   "outputs": [],
   "source": [
    "net.eval()\n",
    "x20, _ = net(20)"
   ]
  },
  {
   "cell_type": "code",
   "execution_count": 13,
   "metadata": {},
   "outputs": [],
   "source": [
    "def plot_post(x, obs_model, state_idx=0, num_samples=20,\n",
    "              ymin=None, ymax=None):\n",
    "    #net.eval()\n",
    "    #x, _ = net(num_samples)\n",
    "    #x0 = x0[(None,) * 2].repeat(num_samples, 1, 1)\n",
    "    #x = torch.cat((x0, x), 1)\n",
    "    \n",
    "    q_mean, q_std = x[:, :, state_idx].mean(0).detach(), x[:, :, state_idx].std(0).detach()\n",
    "    hours = torch.arange(0, t + dt, dt)\n",
    "    plt.plot(hours, q_mean, label='Posterior mean')\n",
    "    plt.fill_between(hours, q_mean - 2*q_std, q_mean + 2*q_std, alpha=0.5,\n",
    "                     label='Posterior $\\\\mu \\pm 2\\sigma$')\n",
    "    plt.plot(obs_model.times, obs_model.mu[state_idx, :], linestyle='None', marker='o',\n",
    "             label='Observed')\n",
    "    \n",
    "    plt.legend()\n",
    "    plt.xlabel('Hour')\n",
    "    plt.ylabel(['SOC', 'DOC', 'MBC'][state_idx])\n",
    "    plt.ylim((ymin, ymax))\n",
    "    plt.title('Approximate posterior $q(x|\\\\theta, y)$\\nNumber of samples = {}'.format(num_samples))"
   ]
  },
  {
   "cell_type": "code",
   "execution_count": 14,
   "metadata": {
    "scrolled": true
   },
   "outputs": [
    {
     "data": {
      "image/png": "[encoded data removed]",
      "text/plain": [
       "<Figure size 432x288 with 1 Axes>"
      ]
     },
     "metadata": {
      "needs_background": "light"
     },
     "output_type": "display_data"
    }
   ],
   "source": [
    "plot_post(x, obs_model_CON_noCO2, 0, num_samples=10)"
   ]
  },
  {
   "cell_type": "code",
   "execution_count": 15,
   "metadata": {},
   "outputs": [
    {
     "data": {
      "image/png": "[encoded data removed]",
      "text/plain": [
       "<Figure size 432x288 with 1 Axes>"
      ]
     },
     "metadata": {
      "needs_background": "light"
     },
     "output_type": "display_data"
    }
   ],
   "source": [
    "plot_post(x20, obs_model_CON_noCO2, 0, num_samples=20)"
   ]
  },
  {
   "cell_type": "code",
   "execution_count": 16,
   "metadata": {},
   "outputs": [
    {
     "data": {
      "image/png": "[encoded data removed]",
      "text/plain": [
       "<Figure size 432x288 with 1 Axes>"
      ]
     },
     "metadata": {
      "needs_background": "light"
     },
     "output_type": "display_data"
    }
   ],
   "source": [
    "plot_post(x, obs_model_CON_noCO2, 1, num_samples=10)"
   ]
  },
  {
   "cell_type": "code",
   "execution_count": 17,
   "metadata": {},
   "outputs": [
    {
     "data": {
      "image/png": "[encoded data removed]",
      "text/plain": [
       "<Figure size 432x288 with 1 Axes>"
      ]
     },
     "metadata": {
      "needs_background": "light"
     },
     "output_type": "display_data"
    }
   ],
   "source": [
    "plot_post(x20, obs_model_CON_noCO2, 1, num_samples=20)"
   ]
  },
  {
   "cell_type": "code",
   "execution_count": 18,
   "metadata": {},
   "outputs": [
    {
     "data": {
      "image/png": "[encoded data removed]",
      "text/plain": [
       "<Figure size 432x288 with 1 Axes>"
      ]
     },
     "metadata": {
      "needs_background": "light"
     },
     "output_type": "display_data"
    }
   ],
   "source": [
    "plot_post(x, obs_model_CON_noCO2, 2, num_samples=10)"
   ]
  },
  {
   "cell_type": "code",
   "execution_count": 19,
   "metadata": {},
   "outputs": [
    {
     "data": {
      "image/png": "[encoded data removed]",
      "text/plain": [
       "<Figure size 432x288 with 1 Axes>"
      ]
     },
     "metadata": {
      "needs_background": "light"
     },
     "output_type": "display_data"
    }
   ],
   "source": [
    "plot_post(x20, obs_model_CON_noCO2, 2, num_samples=20)"
   ]
  },
  {
   "cell_type": "code",
   "execution_count": 20,
   "metadata": {},
   "outputs": [],
   "source": [
    "def plot_elbo(elbo_hist, xmin=0, ymax=None, yscale='linear', title=None):\n",
    "    iters = torch.arange(xmin + 1, len(elbo_hist) + 1)\n",
    "    plt.plot(iters, elbo_hist[xmin:])\n",
    "    plt.ylim((None, ymax))\n",
    "    plt.yscale(yscale)\n",
    "    plt.ylabel('- ELBO')\n",
    "    plt.xlabel('Iteration')\n",
    "    plt.title(title)"
   ]
  },
  {
   "cell_type": "code",
   "execution_count": 21,
   "metadata": {},
   "outputs": [
    {
     "data": {
      "image/png": "[encoded data removed]",
      "text/plain": [
       "<Figure size 432x288 with 1 Axes>"
      ]
     },
     "metadata": {
      "needs_background": "light"
     },
     "output_type": "display_data"
    }
   ],
   "source": [
    "plot_elbo(elbo_hist, title='All 5,000 iterations')"
   ]
  },
  {
   "cell_type": "code",
   "execution_count": 22,
   "metadata": {},
   "outputs": [
    {
     "data": {
      "image/png": "[encoded data removed]",
      "text/plain": [
       "<Figure size 432x288 with 1 Axes>"
      ]
     },
     "metadata": {
      "needs_background": "light"
     },
     "output_type": "display_data"
    }
   ],
   "source": [
    "plot_elbo(elbo_hist, xmin=1000, title='Last 4,000 iterations')"
   ]
  },
  {
   "cell_type": "code",
   "execution_count": null,
   "metadata": {},
   "outputs": [],
   "source": [
    "plot_elbo(elbo_hist, yscale='symlog')"
   ]
  },
  {
   "cell_type": "code",
   "execution_count": null,
   "metadata": {},
   "outputs": [],
   "source": [
    "print(net)"
   ]
  },
  {
   "cell_type": "code",
   "execution_count": null,
   "metadata": {},
   "outputs": [],
   "source": [
    "net(2)"
   ]
  },
  {
   "cell_type": "code",
   "execution_count": null,
   "metadata": {},
   "outputs": [],
   "source": [
    "C0"
   ]
  },
  {
   "cell_type": "code",
   "execution_count": null,
   "metadata": {},
   "outputs": [],
   "source": [
    "obs_model_CON_noCO2.times"
   ]
  },
  {
   "cell_type": "code",
   "execution_count": null,
   "metadata": {},
   "outputs": [],
   "source": [
    "obs_model_CON_noCO2.mu.shape"
   ]
  },
  {
   "cell_type": "code",
   "execution_count": null,
   "metadata": {},
   "outputs": [],
   "source": [
    "obs_model_CON_noCO2.scale.shape"
   ]
  },
  {
   "cell_type": "code",
   "execution_count": null,
   "metadata": {},
   "outputs": [],
   "source": [
    "inputs = torch.arange(10, dtype=torch.float).reshape((1, 10))\n",
    "means = inputs.mean(0)"
   ]
  },
  {
   "cell_type": "code",
   "execution_count": null,
   "metadata": {},
   "outputs": [],
   "source": [
    "(inputs - means).pow(2).mean(0)"
   ]
  },
  {
   "cell_type": "code",
   "execution_count": null,
   "metadata": {},
   "outputs": [],
   "source": [
    "torch.sqrt(torch.tensor(1e-6))"
   ]
  },
  {
   "cell_type": "code",
   "execution_count": null,
   "metadata": {},
   "outputs": [],
   "source": []
  }
 ],
 "metadata": {
  "kernelspec": {
   "display_name": "Python 3",
   "language": "python",
   "name": "python3"
  },
  "language_info": {
   "codemirror_mode": {
    "name": "ipython",
    "version": 3
   },
   "file_extension": ".py",
   "mimetype": "text/x-python",
   "name": "python",
   "nbconvert_exporter": "python",
   "pygments_lexer": "ipython3",
   "version": "3.8.6"
  }
 },
 "nbformat": 4,
 "nbformat_minor": 4
}
