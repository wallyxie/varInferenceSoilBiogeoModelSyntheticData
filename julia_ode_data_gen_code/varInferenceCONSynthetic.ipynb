{
 "cells": [
  {
   "cell_type": "code",
   "execution_count": 5,
   "metadata": {},
   "outputs": [],
   "source": [
    "using DifferentialEquations\n",
    "using ParameterizedFunctions\n",
    "using Gadfly\n",
    "using DataFrames\n",
    "using CSV\n",
    "using Sundials"
   ]
  },
  {
   "cell_type": "code",
   "execution_count": 6,
   "metadata": {},
   "outputs": [
    {
     "data": {
      "text/plain": [
       "analytical_steady_state (generic function with 1 method)"
      ]
     },
     "execution_count": 6,
     "metadata": {},
     "output_type": "execute_result"
    }
   ],
   "source": [
    "#####################\n",
    "##Non-ODE Functions##\n",
    "#####################\n",
    "\n",
    "function temp_gen(hour)\n",
    "    283 + hour / (20 * 24 * 365) + 10 * sin((2 * pi / 24) * hour) + 10 * sin((2 * pi / (24 * 365)) * hour)\n",
    "end\n",
    "\n",
    "function I_S(hour)\n",
    "    0.001 + 0.0005 * sin((2 * pi / (24 * 365)) * hour) #Exogenous SOC input\n",
    "end\n",
    "\n",
    "function I_D(hour)\n",
    "    0.0001 + 0.00005 * sin((2 * pi / (24 * 365)) * hour) #Exogenous DOC input\n",
    "end\n",
    "\n",
    "function arrhenius_temp_dep(parameter, temp, Ea, temp_ref)\n",
    "    decayed_parameter = parameter * exp(-Ea / 0.008314 * (1 / temp - 1 / temp_ref))\n",
    "end\n",
    "\n",
    "function linear_temp_dep(parameter, temp, Q, temp_ref)\n",
    "    modified_parameter = parameter - Q * (temp - temp_ref)\n",
    "end\n",
    "\n",
    "function analytical_steady_state(SOC_input, DOC_input, u_M, a_SD, a_DS, a_M, a_MSC, k_S_ref, k_D_ref, k_M_ref)\n",
    "    D₀ = (DOC_input + SOC_input * a_SD) / (u_M + k_D_ref + u_M * a_M * (a_MSC - 1 - a_MSC * a_SD) - a_DS * k_D_ref * a_SD)\n",
    "    S₀ = (SOC_input + D₀ * (a_DS * k_D_ref + u_M * a_M * a_MSC)) / k_S_ref\n",
    "    M₀ = u_M * D₀ / k_M_ref\n",
    "    return [S₀, D₀, M₀]\n",
    "end"
   ]
  },
  {
   "cell_type": "code",
   "execution_count": 7,
   "metadata": {},
   "outputs": [
    {
     "data": {
      "text/plain": [
       "50"
      ]
     },
     "execution_count": 7,
     "metadata": {},
     "output_type": "execute_result"
    }
   ],
   "source": [
    "########################\n",
    "###Non-param Constants##\n",
    "########################\n",
    "\n",
    "temp_ref = 283\n",
    "\n",
    "#########################\n",
    "##ODE System Parameters##\n",
    "#########################\n",
    "\n",
    "u_M = 0.002\n",
    "a_SD = 0.33\n",
    "a_DS = 0.33\n",
    "a_M = 0.33\n",
    "a_MSC = 0.5\n",
    "k_S_ref = 0.000025\n",
    "k_D_ref = 0.005\n",
    "k_M_ref = 0.0002\n",
    "Ea_S = 75\n",
    "Ea_D = 50\n",
    "Ea_M = 50"
   ]
  },
  {
   "cell_type": "code",
   "execution_count": 8,
   "metadata": {},
   "outputs": [
    {
     "data": {
      "text/plain": [
       "retcode: Success\n",
       "Interpolation: 1st order linear\n",
       "t: 10001-element Array{Float64,1}:\n",
       "      0.0\n",
       "     10.0\n",
       "     20.0\n",
       "     30.0\n",
       "     40.0\n",
       "     50.0\n",
       "     60.0\n",
       "     70.0\n",
       "     80.0\n",
       "     90.0\n",
       "    100.0\n",
       "    110.0\n",
       "    120.0\n",
       "      ⋮\n",
       "  99890.0\n",
       "  99900.0\n",
       "  99910.0\n",
       "  99920.0\n",
       "  99930.0\n",
       "  99940.0\n",
       "  99950.0\n",
       "  99960.0\n",
       "  99970.0\n",
       "  99980.0\n",
       "  99990.0\n",
       " 100000.0\n",
       "u: 10001-element Array{Array{Float64,1},1}:\n",
       " [45.66033972675598, 0.07146893594388856, 0.7146893594388857]\n",
       " [45.64722023385764, 0.07369987030681226, 0.713715073675263]\n",
       " [45.65022502414077, 0.07328939959203394, 0.7140932448012485]\n",
       " [45.643327532668685, 0.07442299605306002, 0.7136295876927199]\n",
       " [45.63781090090531, 0.0752295153645987, 0.7133172524590754]\n",
       " [45.63993426200583, 0.07487481375049182, 0.713621174965779]\n",
       " [45.62613551829426, 0.07693514446478486, 0.7126618004616208]\n",
       " [45.62993646673471, 0.0763155683942219, 0.7131679292942389]\n",
       " [45.618156203261094, 0.07803417062832028, 0.7123998393859621]\n",
       " [45.61749458892392, 0.07792368775839091, 0.7125289188486861]\n",
       " [45.61521421404761, 0.07808741404967104, 0.7125056771905854]\n",
       " [45.605081512255346, 0.0793391973836368, 0.7118897980243148]\n",
       " [45.60945772674544, 0.07853370205204513, 0.7124552613356646]\n",
       " ⋮\n",
       " [25.483143572693912, 0.06407022997322367, 0.36647997044004516]\n",
       " [25.47108318212425, 0.06500918715484282, 0.36581142920119847]\n",
       " [25.47918319741096, 0.06397634480043164, 0.3664082581807299]\n",
       " [25.471486677086375, 0.06451442252703647, 0.36599497972617007]\n",
       " [25.472234818977345, 0.06411834660063548, 0.36611805646869006]\n",
       " [25.475036342287364, 0.06362497648877558, 0.3663577306376425]\n",
       " [25.465979863008794, 0.06425554579669032, 0.36586824887167624]\n",
       " [25.47452848364577, 0.06322878548461826, 0.3664922629951443]\n",
       " [25.464109546662385, 0.06405958195868558, 0.3659053075870144]\n",
       " [25.469372081175536, 0.06330057829638715, 0.3663200752897914]\n",
       " [25.46734601332575, 0.06330795115889275, 0.36625009414424775]\n",
       " [25.463108112221487, 0.06346245421004947, 0.3660559376701819]"
      ]
     },
     "execution_count": 8,
     "metadata": {},
     "output_type": "execute_result"
    }
   ],
   "source": [
    "###############\n",
    "##ODE Solving##\n",
    "###############\n",
    "\n",
    "tspan = (0., 100000.) #in hours\n",
    "C₀ = analytical_steady_state(I_S(0), I_D(0), u_M, a_SD, a_DS, a_M, a_MSC, k_S_ref, k_D_ref, k_M_ref)\n",
    "p = [u_M, a_SD, a_DS, a_M, a_MSC, k_S_ref, k_D_ref, k_M_ref, Ea_S, Ea_D, Ea_M]\n",
    "\n",
    "function CON!(du, u, p, t)\n",
    "    S, D, M = u\n",
    "    u_M, a_SD, a_DS, a_M, a_MSC, k_S_ref, k_D_ref, k_M_ref, Ea_S, Ea_D, Ea_M = p\n",
    "    du[1] = dS = I_S(t) + a_DS * arrhenius_temp_dep(k_D_ref, temp_gen(t), Ea_D, temp_ref) * D + a_M * a_MSC * arrhenius_temp_dep(k_M_ref, temp_gen(t), Ea_M, temp_ref) * M - arrhenius_temp_dep(k_S_ref, temp_gen(t), Ea_S, temp_ref) * S\n",
    "    du[2] = dD = I_D(t) + a_SD * arrhenius_temp_dep(k_S_ref, temp_gen(t), Ea_S, temp_ref) * S + a_M * (1 - a_MSC) * arrhenius_temp_dep(k_M_ref, temp_gen(t), Ea_M, temp_ref) * M - u_M * D - arrhenius_temp_dep(k_D_ref, temp_gen(t), Ea_D, temp_ref) * D\n",
    "    du[3] = dM = u_M * D - arrhenius_temp_dep(k_M_ref, temp_gen(t), Ea_M, temp_ref) * M  \n",
    "end\n",
    "\n",
    "CON_prob = ODEProblem(CON!, C₀, tspan, p) #save result every 10 hours\n",
    "CON_sol = solve(CON_prob, CVODE_BDF(), dt = 0.05, saveat = 0:10:100000)"
   ]
  },
  {
   "cell_type": "code",
   "execution_count": 9,
   "metadata": {},
   "outputs": [
    {
     "data": {
      "text/plain": [
       "100001-element Array{Int64,1}:\n",
       "      0\n",
       "      1\n",
       "      2\n",
       "      3\n",
       "      4\n",
       "      5\n",
       "      6\n",
       "      7\n",
       "      8\n",
       "      9\n",
       "     10\n",
       "     11\n",
       "     12\n",
       "      ⋮\n",
       "  99989\n",
       "  99990\n",
       "  99991\n",
       "  99992\n",
       "  99993\n",
       "  99994\n",
       "  99995\n",
       "  99996\n",
       "  99997\n",
       "  99998\n",
       "  99999\n",
       " 100000"
      ]
     },
     "execution_count": 9,
     "metadata": {},
     "output_type": "execute_result"
    }
   ],
   "source": [
    "tspan_steps = collect(0:1:100000)"
   ]
  },
  {
   "cell_type": "code",
   "execution_count": 10,
   "metadata": {},
   "outputs": [],
   "source": [
    "temp_array = zeros(length(tspan_steps))\n",
    "for i = 1:length(tspan_steps)\n",
    "    temp_array[i] = temp_gen(tspan_steps[i])\n",
    "end"
   ]
  },
  {
   "cell_type": "code",
   "execution_count": 11,
   "metadata": {},
   "outputs": [
    {
     "data": {
      "text/html": [
       "<table class=\"data-frame\"><thead><tr><th></th><th>x1</th><th>x2</th><th>x3</th><th>x4</th><th>x5</th><th>x6</th><th>x7</th><th>x8</th></tr><tr><th></th><th>Float64</th><th>Float64</th><th>Float64</th><th>Float64</th><th>Float64</th><th>Float64</th><th>Float64</th><th>Float64</th></tr></thead><tbody><p>3 rows × 10,001 columns (omitted printing of 9993 columns)</p><tr><th>1</th><td>45.6603</td><td>45.6472</td><td>45.6502</td><td>45.6433</td><td>45.6378</td><td>45.6399</td><td>45.6261</td><td>45.6299</td></tr><tr><th>2</th><td>0.0714689</td><td>0.0736999</td><td>0.0732894</td><td>0.074423</td><td>0.0752295</td><td>0.0748748</td><td>0.0769351</td><td>0.0763156</td></tr><tr><th>3</th><td>0.714689</td><td>0.713715</td><td>0.714093</td><td>0.71363</td><td>0.713317</td><td>0.713621</td><td>0.712662</td><td>0.713168</td></tr></tbody></table>"
      ],
      "text/latex": [
       "\\begin{tabular}{r|ccccccccc}\n",
       "\t& x1 & x2 & x3 & x4 & x5 & x6 & x7 & x8 & \\\\\n",
       "\t\\hline\n",
       "\t& Float64 & Float64 & Float64 & Float64 & Float64 & Float64 & Float64 & Float64 & \\\\\n",
       "\t\\hline\n",
       "\t1 & 45.6603 & 45.6472 & 45.6502 & 45.6433 & 45.6378 & 45.6399 & 45.6261 & 45.6299 & $\\dots$ \\\\\n",
       "\t2 & 0.0714689 & 0.0736999 & 0.0732894 & 0.074423 & 0.0752295 & 0.0748748 & 0.0769351 & 0.0763156 & $\\dots$ \\\\\n",
       "\t3 & 0.714689 & 0.713715 & 0.714093 & 0.71363 & 0.713317 & 0.713621 & 0.712662 & 0.713168 & $\\dots$ \\\\\n",
       "\\end{tabular}\n"
      ],
      "text/plain": [
       "\u001b[1m3×10001 DataFrame\u001b[0m\n",
       "\u001b[1m Row \u001b[0m│\u001b[1m x1         \u001b[0m\u001b[1m x2         \u001b[0m\u001b[1m x3         \u001b[0m\u001b[1m x4        \u001b[0m\u001b[1m x5         \u001b[0m\u001b[1m x6         \u001b[0m\u001b[1m \u001b[0m ⋯\n",
       "\u001b[1m     \u001b[0m│\u001b[90m Float64    \u001b[0m\u001b[90m Float64    \u001b[0m\u001b[90m Float64    \u001b[0m\u001b[90m Float64   \u001b[0m\u001b[90m Float64    \u001b[0m\u001b[90m Float64    \u001b[0m\u001b[90m \u001b[0m ⋯\n",
       "─────┼──────────────────────────────────────────────────────────────────────────\n",
       "   1 │ 45.6603     45.6472     45.6502     45.6433    45.6378     45.6399      ⋯\n",
       "   2 │  0.0714689   0.0736999   0.0732894   0.074423   0.0752295   0.0748748\n",
       "   3 │  0.714689    0.713715    0.714093    0.71363    0.713317    0.713621\n",
       "\u001b[31m                                                            9995 columns omitted\u001b[0m"
      ]
     },
     "execution_count": 11,
     "metadata": {},
     "output_type": "execute_result"
    }
   ],
   "source": [
    "df_CON_soln = DataFrame(CON_sol.u)"
   ]
  },
  {
   "cell_type": "code",
   "execution_count": 12,
   "metadata": {},
   "outputs": [
    {
     "data": {
      "text/plain": [
       "\"CON_synthetic_soln.csv\""
      ]
     },
     "execution_count": 12,
     "metadata": {},
     "output_type": "execute_result"
    }
   ],
   "source": [
    "CSV.write(\"CON_synthetic_soln.csv\", df_CON_soln)"
   ]
  },
  {
   "cell_type": "code",
   "execution_count": 61,
   "metadata": {},
   "outputs": [
    {
     "data": {
      "text/plain": [
       "\"synthetic_temp.csv\""
      ]
     },
     "execution_count": 61,
     "metadata": {},
     "output_type": "execute_result"
    }
   ],
   "source": [
    "df_temp = DataFrame(hour = tspan_steps[1:10:end], temp = temp_array[1:10:end]) #sample every 10 hours\n",
    "CSV.write(\"synthetic_temp.csv\", df_temp)"
   ]
  },
  {
   "cell_type": "code",
   "execution_count": 53,
   "metadata": {},
   "outputs": [
    {
     "data": {
      "text/plain": [
       "retcode: Success\n",
       "Interpolation: automatic order switching interpolation\n",
       "t: 231-element Array{Float64,1}:\n",
       "      0.0\n",
       "      9.999999999999999e-5\n",
       "      0.0010999999999999998\n",
       "      0.011099999999999997\n",
       "      0.11109999999999996\n",
       "      1.1110999999999995\n",
       "     11.111099999999993\n",
       "     75.20515757091302\n",
       "    186.10787014516467\n",
       "    323.22932192984376\n",
       "    508.43799348843754\n",
       "    745.6116721367242\n",
       "   1101.976978805225\n",
       "      ⋮\n",
       "  95248.90384934294\n",
       "  95669.62809191132\n",
       "  96097.55479171284\n",
       "  96538.5402198793\n",
       "  97003.03479480553\n",
       "  97522.23135813742\n",
       "  98069.54556829006\n",
       "  98511.33358081257\n",
       "  98943.67233873373\n",
       "  99375.56069923908\n",
       "  99806.53500399168\n",
       " 100000.0\n",
       "u: 231-element Array{Array{Float64,1},1}:\n",
       " [45.66033972675598, 0.07146893594388856, 0.7146893594388857]\n",
       " [45.66033972675598, 0.07146893594388874, 0.7146893594388857]\n",
       " [45.66033972675619, 0.07146893594391027, 0.7146893594388857]\n",
       " [45.66033972677807, 0.07146893594609785, 0.7146893594388857]\n",
       " [45.660339728969305, 0.07146893616516371, 0.714689359438902]\n",
       " [45.6603399481391, 0.07146895802445026, 0.714689359455251]\n",
       " [45.66036187542897, 0.07147109405942816, 0.7146893755177972]\n",
       " [45.661356718771096, 0.0715548384420756, 0.714693828772879]\n",
       " [45.66657912426898, 0.07189117582968721, 0.7147462833219262]\n",
       " [45.67914702279959, 0.07247440097062345, 0.7149355764262499]\n",
       " [45.70663862127869, 0.07336834347449327, 0.715453950829236]\n",
       " [45.75869291623915, 0.07453862321600697, 0.7165724002760232]\n",
       " [45.86900284693103, 0.07618919272625682, 0.7191410729560643]\n",
       " ⋮\n",
       " [45.23199182598821, 0.06544000932283678, 0.7018108811872626]\n",
       " [45.10707740916357, 0.06681955768280358, 0.6984954118020472]\n",
       " [45.039087743090015, 0.06866402323914995, 0.6967339319943863]\n",
       " [45.037868590324464, 0.0708480752764649, 0.6967883314809988]\n",
       " [45.112037359770135, 0.07322075017931921, 0.6988870158076466]\n",
       " [45.276174523645714, 0.0756319084474136, 0.7034236889031175]\n",
       " [45.517517273727506, 0.07750399961005541, 0.7100470827301961]\n",
       " [45.73886623112004, 0.07845110688990271, 0.7160598070855417]\n",
       " [45.955608002625816, 0.07869849555996888, 0.7219267970432373]\n",
       " [46.151387641445446, 0.07825131391096783, 0.7272067032940207]\n",
       " [46.307446003460136, 0.0771644913184952, 0.7313920827487077]\n",
       " [46.36060087180559, 0.0765192245275229, 0.7328010298636191]"
      ]
     },
     "execution_count": 53,
     "metadata": {},
     "output_type": "execute_result"
    }
   ],
   "source": [
    "function CON_ss!(du, u, p, t)\n",
    "    S, D, M = u\n",
    "    u_M, a_SD, a_DS, a_M, a_MSC, k_S_ref, k_D_ref, k_M_ref, Ea_S, Ea_D, Ea_M = p\n",
    "    du[1] = dS = I_S(t) + a_DS * arrhenius_temp_dep(k_D_ref, temp_ref, Ea_D, temp_ref) * D + a_M * a_MSC * arrhenius_temp_dep(k_M_ref, temp_ref, Ea_M, temp_ref) * M - arrhenius_temp_dep(k_S_ref, temp_ref, Ea_S, temp_ref) * S\n",
    "    du[2] = dD = I_D(t) + a_SD * arrhenius_temp_dep(k_S_ref, temp_ref, Ea_S, temp_ref) * S + a_M * (1 - a_MSC) * arrhenius_temp_dep(k_M_ref, temp_ref, Ea_M, temp_ref) * M - u_M * D - arrhenius_temp_dep(k_D_ref, temp_ref, Ea_D, temp_ref) * D\n",
    "    du[3] = dM = u_M * D - arrhenius_temp_dep(k_M_ref, temp_ref, Ea_M, temp_ref) * M  \n",
    "end\n",
    "\n",
    "CON_ss_prob = ODEProblem(CON_ss!, C₀, tspan, p)\n",
    "CON_ss_sol = solve(CON_ss_prob)"
   ]
  },
  {
   "cell_type": "code",
   "execution_count": null,
   "metadata": {},
   "outputs": [],
   "source": []
  }
 ],
 "metadata": {
  "kernelspec": {
   "display_name": "Julia 1.5.3",
   "language": "julia",
   "name": "julia-1.5"
  },
  "language_info": {
   "file_extension": ".jl",
   "mimetype": "application/julia",
   "name": "julia",
   "version": "1.5.3"
  }
 },
 "nbformat": 4,
 "nbformat_minor": 4
}
