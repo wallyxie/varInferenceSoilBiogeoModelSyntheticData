{
 "cells": [
  {
   "cell_type": "code",
   "execution_count": 15,
   "metadata": {},
   "outputs": [],
   "source": [
    "using DifferentialEquations\n",
    "using ParameterizedFunctions\n",
    "using Sundials\n",
    "using LSODA\n",
    "using DataFrames\n",
    "using CSV"
   ]
  },
  {
   "cell_type": "code",
   "execution_count": 16,
   "metadata": {},
   "outputs": [
    {
     "data": {
      "text/plain": [
       "analytical_steady_state_AWB_original (generic function with 1 method)"
      ]
     },
     "execution_count": 16,
     "metadata": {},
     "output_type": "execute_result"
    }
   ],
   "source": [
    "function temp_gen(hour, temp_ref)\n",
    "    temp_ref + hour / (20 * 24 * 365) + 10 * sin((2 * pi / 24) * hour) + 10 * sin((2 * pi / (24 * 365)) * hour)\n",
    "end\n",
    "\n",
    "function I_S(hour)\n",
    "    0.001 + 0.0005 * sin((2 * pi / (24 * 365)) * hour) #Exogenous SOC input\n",
    "end\n",
    "\n",
    "function I_D(hour)\n",
    "    0.0001 + 0.00005 * sin((2 * pi / (24 * 365)) * hour) #Exogenous DOC input\n",
    "end\n",
    "\n",
    "function arrhenius_temp_dep(parameter, temp, Ea, temp_ref)\n",
    "    decayed_parameter = parameter * exp(-Ea / 0.008314 * (1 / temp - 1 / temp_ref))\n",
    "end\n",
    "\n",
    "function linear_temp_dep(parameter, temp, Q, temp_ref)\n",
    "    modified_parameter = parameter - Q * (temp - temp_ref)\n",
    "end\n",
    "\n",
    "function analytical_steady_state_AWB_original(SOC_input, DOC_input, u_Q_ref, Q, a_MSA, K_D, K_U, V_D_ref, V_U_ref, Ea_V_D, Ea_V_U, r_M, r_E, r_L, temp_ref)\n",
    "    u_Q = linear_temp_dep(u_Q_ref, temp_ref, Q, temp_ref)\n",
    "    V_D = arrhenius_temp_dep(V_D_ref, temp_ref, Ea_V_D, temp_ref)\n",
    "    V_U = arrhenius_temp_dep(V_U_ref, temp_ref, Ea_V_U, temp_ref)    \n",
    "    D₀ = -((K_U * (r_E + r_M)) / (r_E + r_M - u_Q * V_U))\n",
    "    S₀ = -((K_D * r_L * (SOC_input * r_E * (u_Q - 1) - a_MSA * DOC_input * r_M * u_Q + SOC_input * r_M * (-1 + u_Q - a_MSA * u_Q))) / (DOC_input * u_Q * (-a_MSA * r_L * r_M + r_E * V_D) + SOC_input * (r_E * r_L * (u_Q - 1) + r_L * r_M * (-1 + u_Q - a_MSA * u_Q) + r_E * u_Q * V_D)))\n",
    "    M₀ = -((u_Q * (SOC_input + DOC_input)) / ((r_E + r_M) * (u_Q - 1)))\n",
    "    E₀ = -((r_E * u_Q * (SOC_input + DOC_input)) / (r_L * (r_E + r_M) * (u_Q - 1))) \n",
    "    return [S₀, D₀, M₀, E₀]\n",
    "end"
   ]
  },
  {
   "cell_type": "code",
   "execution_count": 17,
   "metadata": {},
   "outputs": [
    {
     "data": {
      "text/plain": [
       "analytical_steady_state_AWB_full_ECA (generic function with 1 method)"
      ]
     },
     "execution_count": 17,
     "metadata": {},
     "output_type": "execute_result"
    }
   ],
   "source": [
    "function analytical_steady_state_AWB_full_ECA(SOC_input, DOC_input, u_Q_ref, Q, a_MSA, K_D, K_U, V_D_ref, V_U_ref, Ea_V_D, Ea_V_U, r_M, r_E, r_L, temp_ref)\n",
    "    #TO BE CONTINUED\n",
    "end"
   ]
  },
  {
   "cell_type": "code",
   "execution_count": 18,
   "metadata": {},
   "outputs": [
    {
     "data": {
      "text/plain": [
       "50"
      ]
     },
     "execution_count": 18,
     "metadata": {},
     "output_type": "execute_result"
    }
   ],
   "source": [
    "########################\n",
    "###Non-param Constants##\n",
    "########################\n",
    "\n",
    "temp_ref = 283\n",
    "\n",
    "#########################\n",
    "##ODE System Parameters##\n",
    "#########################\n",
    "\n",
    "u_Q_ref = 0.2\n",
    "Q = 0.002\n",
    "a_MSA = 0.5\n",
    "K_D = 200\n",
    "K_U = 1\n",
    "V_D_ref = 0.4\n",
    "V_U_ref = 0.02\n",
    "Ea_V_D = 75\n",
    "Ea_V_U = 50\n",
    "r_M = 0.0004\n",
    "r_E = 0.00001\n",
    "r_L = 0.0005\n",
    "\n",
    "#Separate parameters for full ECA\n",
    "K_DE = 200\n",
    "K_UE = 1\n",
    "V_DE_ref = 0.4\n",
    "V_UE_ref = 0.02\n",
    "Ea_V_DE = 75\n",
    "Ea_V_UE = 50"
   ]
  },
  {
   "cell_type": "code",
   "execution_count": 23,
   "metadata": {},
   "outputs": [
    {
     "data": {
      "text/plain": [
       "retcode: Success\n",
       "Interpolation: 1st order linear\n",
       "t: 10001-element Array{Float64,1}:\n",
       "      0.0\n",
       "     10.0\n",
       "     20.0\n",
       "     30.0\n",
       "     40.0\n",
       "     50.0\n",
       "     60.0\n",
       "     70.0\n",
       "     80.0\n",
       "     90.0\n",
       "    100.0\n",
       "    110.0\n",
       "    120.0\n",
       "      ⋮\n",
       "  99890.0\n",
       "  99900.0\n",
       "  99910.0\n",
       "  99920.0\n",
       "  99930.0\n",
       "  99940.0\n",
       "  99950.0\n",
       "  99960.0\n",
       "  99970.0\n",
       "  99980.0\n",
       "  99990.0\n",
       " 100000.0\n",
       "u: 10001-element Array{Array{Float64,1},1}:\n",
       " [53.60230547550432, 0.11420612813370475, 0.6707317073170732, 0.013414634146341465]\n",
       " [53.5881066469114, 0.1183300258112859, 0.6723881017312265, 0.013414708876642333]\n",
       " [53.59088758455844, 0.11817143189697983, 0.671905388209917, 0.013414860644463903]\n",
       " [53.58316804358254, 0.12025873695976783, 0.6728327002579055, 0.013415001890246109]\n",
       " [53.57767710867778, 0.12143337947998019, 0.673553725747176, 0.01341527353309248]\n",
       " [53.579758584957524, 0.12087543645847494, 0.6733050989326708, 0.01341551290609721]\n",
       " [53.565237868014165, 0.12393097910568542, 0.6752328067124072, 0.01341589076139388]\n",
       " [53.57142411486437, 0.122859963156344, 0.6743595279823329, 0.013416285038279902]\n",
       " [53.558901556949834, 0.12549279700931024, 0.6760279363928517, 0.013416704959628312]\n",
       " [53.55817755573207, 0.1251394046289506, 0.676240885610864, 0.013417261791620588]\n",
       " [53.557604965542005, 0.12499595187682445, 0.676390317266782, 0.013417779408441877]\n",
       " [53.545262529471636, 0.1270139575078009, 0.6781590099895085, 0.013418435107654792]\n",
       " [53.55040406146008, 0.1256333159824859, 0.6775648258059975, 0.01341913145864585]\n",
       " ⋮\n",
       " [30.053626810544785, 0.07278531399061249, 1.0016258508942886, 0.0157542322300429]\n",
       " [30.033535299979945, 0.07520375273676423, 1.003709298377752, 0.015775682062250388]\n",
       " [30.040377651133035, 0.07317601202179304, 1.0022737075707737, 0.01579706323742695]\n",
       " [30.024470946406876, 0.07510592605907122, 1.003775372555916, 0.01581828860719053]\n",
       " [30.02218704796743, 0.07374130286673101, 1.003680336875096, 0.01583956525146928]\n",
       " [30.021151303189832, 0.07313041040195929, 1.0032530747204051, 0.01586061953662777]\n",
       " [30.004249136163182, 0.07462001076075639, 1.0049741051538175, 0.01588170774248799]\n",
       " [30.01199278828412, 0.07269365610431726, 1.00334522402899, 0.015902658312577603]\n",
       " [29.992029131686024, 0.0751884308752502, 1.0053708584433854, 0.015923505738430346]\n",
       " [29.996317153268638, 0.073230100514269, 1.0042969451185766, 0.015944354470336694]\n",
       " [29.988302937140606, 0.07373458669495474, 1.0047625056799845, 0.01596498615255472]\n",
       " [29.978657247819797, 0.07396994536411529, 1.0055222782103634, 0.01598567067936758]"
      ]
     },
     "execution_count": 23,
     "metadata": {},
     "output_type": "execute_result"
    }
   ],
   "source": [
    "###############\n",
    "##ODE Solving##\n",
    "###############\n",
    "\n",
    "tspan = (0., 100000.) #in hours\n",
    "C₀ = analytical_steady_state_AWB_original(I_S(0), I_D(0), u_Q_ref, Q, a_MSA, K_D, K_U, V_D_ref, V_U_ref, Ea_V_D, Ea_V_U, r_M, r_E, r_L, temp_ref)\n",
    "p = [u_Q_ref, Q, a_MSA, K_D, K_U, V_D_ref, V_U_ref, Ea_V_D, Ea_V_U, r_M, r_E, r_L]\n",
    "\n",
    "function AWB!(du, u, p, t)\n",
    "    S, D, M, E = u\n",
    "    u_Q_ref, Q, a_MSA, K_D, K_U, V_D_ref, V_U_ref, Ea_V_D, Ea_V_U, r_M, r_E, r_L = p\n",
    "    du[1] = dS = I_S(t) + a_MSA * r_M * M - ((arrhenius_temp_dep(V_D_ref, temp_gen(t, temp_ref), Ea_V_D, temp_ref) * E * S) / (K_D + S))\n",
    "    du[2] = dD = I_D(t) + (1 - a_MSA) * r_M * M + ((arrhenius_temp_dep(V_D_ref, temp_gen(t, temp_ref), Ea_V_D, temp_ref) * E * S) / (K_D + S)) + r_L * E - ((arrhenius_temp_dep(V_U_ref, temp_gen(t, temp_ref), Ea_V_U, temp_ref) * M * D) / (K_U + D))\n",
    "    du[3] = dM = linear_temp_dep(u_Q_ref, temp_gen(t, temp_ref), Q, temp_ref) * ((arrhenius_temp_dep(V_U_ref, temp_gen(t, temp_ref), Ea_V_U, temp_ref) * M * D) / (K_U + D)) - r_M * M - r_E * M\n",
    "    du[4] = dE = r_E * M - r_L * E\n",
    "end\n",
    "\n",
    "AWB_prob = ODEProblem(AWB!, C₀, tspan, p)\n",
    "AWB_sol = solve(AWB_prob, CVODE_BDF(), dt = 0.1, saveat = 0:10:100000) #sample result every 10 hours"
   ]
  },
  {
   "cell_type": "code",
   "execution_count": 24,
   "metadata": {},
   "outputs": [
    {
     "data": {
      "text/plain": [
       "retcode: Success\n",
       "Interpolation: automatic order switching interpolation\n",
       "t: 831-element Array{Float64,1}:\n",
       "      0.0\n",
       "      9.999999999999999e-5\n",
       "      0.0010999999999999998\n",
       "      0.011099999999999997\n",
       "      0.11109999999999996\n",
       "      1.1110999999999995\n",
       "     11.111099999999993\n",
       "     69.83787793494952\n",
       "    168.68706850472046\n",
       "    292.17664330371645\n",
       "    463.91338645513343\n",
       "    692.6381932457958\n",
       "   1037.390427540858\n",
       "      ⋮\n",
       "  98460.25683273027\n",
       "  98597.73313592507\n",
       "  98772.38416540857\n",
       "  98940.25438292598\n",
       "  99098.61463755954\n",
       "  99251.39772218523\n",
       "  99398.33883024077\n",
       "  99539.53513590647\n",
       "  99675.13684326617\n",
       "  99805.40137703366\n",
       "  99930.65196519095\n",
       " 100000.0\n",
       "u: 831-element Array{Array{Float64,1},1}:\n",
       " [53.60230547550432, 0.11420612813370475, 0.6707317073170732, 0.013414634146341465]\n",
       " [53.60230547550432, 0.11420612813370493, 0.6707317073170732, 0.013414634146341465]\n",
       " [53.60230547550454, 0.11420612813372645, 0.6707317073170732, 0.013414634146341465]\n",
       " [53.602305475526414, 0.114206128135914, 0.6707317073170732, 0.013414634146341465]\n",
       " [53.602305477717636, 0.11420612835494942, 0.6707317073170909, 0.013414634146341465]\n",
       " [53.60230569687462, 0.1142061501838986, 0.6707317073347396, 0.013414634146341513]\n",
       " [53.60232761159534, 0.11420825712105948, 0.6707317245244356, 0.013414634146821716]\n",
       " [53.60317954217565, 0.11427534673713932, 0.6707353948691958, 0.013414634808638706]\n",
       " [53.60739725323706, 0.11450883930594526, 0.6707733560936118, 0.013414652763939154]\n",
       " [53.61753439870546, 0.11487745546309361, 0.6709024025184416, 0.013414769770890346]\n",
       " [53.64045136177067, 0.11541032149407024, 0.6712505180382206, 0.013415302986510336]\n",
       " [53.68626993044837, 0.11608187792402845, 0.6720142023240562, 0.013417133090984015]\n",
       " [53.785472429525335, 0.1169503313160059, 0.6737536106172426, 0.013423453557540887]\n",
       " ⋮\n",
       " [53.71625403520249, 0.11820598659838248, 0.6669073028947873, 0.01322644906438239]\n",
       " [53.78669825487101, 0.11820000819943215, 0.6680845990979872, 0.013234657102987806]\n",
       " [53.8754609707346, 0.11813824053580765, 0.6695725397605814, 0.013246538584824047]\n",
       " [53.95878788816048, 0.11801897571895495, 0.670975359915253, 0.013259349587215169]\n",
       " [54.03451168214696, 0.11785912858079998, 0.6722553792231948, 0.013272530095528357]\n",
       " [54.103990738466955, 0.11766371611595555, 0.6734353637977395, 0.013286103845488395]\n",
       " [54.166716929390816, 0.11744009556566208, 0.6745065452634367, 0.013299810270018421]\n",
       " [54.22255479501662, 0.1171946965957707, 0.6754663593967587, 0.013313449183219524]\n",
       " [54.27155208973649, 0.11693326755601777, 0.6763152589373596, 0.013326856815683635]\n",
       " [54.31391691417837, 0.11666066279361036, 0.6770563749488401, 0.013339910274939446]\n",
       " [54.34995792261772, 0.11638088860260366, 0.677694532767015, 0.013352521112601459]\n",
       " [54.367821337925704, 0.11622722665108756, 0.6780129950492811, 0.013359493673500878]"
      ]
     },
     "execution_count": 24,
     "metadata": {},
     "output_type": "execute_result"
    }
   ],
   "source": [
    "##########################\n",
    "##Debugging and Checking##\n",
    "##########################\n",
    "\n",
    "#Test if function sticks to steady state with no temperature forcing\n",
    "\n",
    "function AWB_ss!(du, u, p, t)\n",
    "    S, D, M, E = u\n",
    "    u_Q_ref, Q, a_MSA, K_D, K_U, V_D_ref, V_U_ref, Ea_V_D, Ea_V_U, r_M, r_E, r_L = p\n",
    "    du[1] = dS = I_S(t) + a_MSA * r_M * M - (V_D_ref * E * S) / (K_D + S)\n",
    "    du[2] = dD = I_D(t) + (1 - a_MSA) * r_M * M + (V_D_ref * E * S) / (K_D + S) + r_L * E - (V_U_ref * M * D) / (K_U + D)\n",
    "    du[3] = dM = u_Q_ref * (V_U_ref * M * D) / (K_U + D) - r_M * M - r_E * M\n",
    "    du[4] = dE = r_E * M - r_L * E\n",
    "end\n",
    "\n",
    "AWB_ss_prob = ODEProblem(AWB_ss!, C₀, tspan, p, save_at = 10) #sample result every 10 hours\n",
    "AWB_ss_sol = solve(AWB_ss_prob)\n",
    "\n",
    "function AWB_ss2!(du, u, p, t)\n",
    "    S, D, M, E = u\n",
    "    u_Q_ref, Q, a_MSA, K_D, K_U, V_D_ref, V_U_ref, Ea_V_D, Ea_V_U, r_M, r_E, r_L = p\n",
    "    du[1] = dS = I_S(t) + a_MSA * r_M * M - ((arrhenius_temp_dep(V_D_ref, temp_ref, Ea_V_D, temp_ref) * E * S) / (K_D + S))\n",
    "    du[2] = dD = I_D(t) + (1 - a_MSA) * r_M * M + ((arrhenius_temp_dep(V_D_ref, temp_ref, Ea_V_D, temp_ref) * E * S) / (K_D + S)) + r_L * E - ((arrhenius_temp_dep(V_U_ref, temp_ref, Ea_V_U, temp_ref) * M * D) / (K_U + D))\n",
    "    du[3] = dM = linear_temp_dep(u_Q_ref, temp_ref, Q, temp_ref) * ((arrhenius_temp_dep(V_U_ref, temp_ref, Ea_V_U, temp_ref) * M * D) / (K_U + D)) - r_M * M - r_E * M\n",
    "    du[4] = dE = r_E * M - r_L * E\n",
    "end\n",
    "\n",
    "AWB_ss2_prob = ODEProblem(AWB_ss2!, C₀, tspan, p) #sample result every 10 hours\n",
    "AWB_ss2_sol = solve(AWB_ss2_prob)"
   ]
  },
  {
   "cell_type": "code",
   "execution_count": 25,
   "metadata": {},
   "outputs": [
    {
     "data": {
      "text/plain": [
       "\"AWB_synthetic_soln.csv\""
      ]
     },
     "execution_count": 25,
     "metadata": {},
     "output_type": "execute_result"
    }
   ],
   "source": [
    "##################\n",
    "##Exporting Data##\n",
    "##################\n",
    "\n",
    "df_AWB_soln = DataFrame(AWB_sol.u)\n",
    "CSV.write(\"AWB_synthetic_soln.csv\", df_AWB_soln)"
   ]
  },
  {
   "cell_type": "code",
   "execution_count": null,
   "metadata": {},
   "outputs": [],
   "source": []
  }
 ],
 "metadata": {
  "kernelspec": {
   "display_name": "Julia 1.5.3",
   "language": "julia",
   "name": "julia-1.5"
  },
  "language_info": {
   "file_extension": ".jl",
   "mimetype": "application/julia",
   "name": "julia",
   "version": "1.5.3"
  }
 },
 "nbformat": 4,
 "nbformat_minor": 4
}
