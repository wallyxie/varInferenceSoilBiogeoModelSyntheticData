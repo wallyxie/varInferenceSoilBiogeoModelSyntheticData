{
 "cells": [
  {
   "cell_type": "code",
   "execution_count": 1,
   "metadata": {},
   "outputs": [],
   "source": [
    "using DifferentialEquations\n",
    "using ParameterizedFunctions\n",
    "using DataFrames\n",
    "using CSV"
   ]
  },
  {
   "cell_type": "code",
   "execution_count": 2,
   "metadata": {},
   "outputs": [
    {
     "data": {
      "text/plain": [
       "analytical_steady_state_AWB_original (generic function with 1 method)"
      ]
     },
     "execution_count": 2,
     "metadata": {},
     "output_type": "execute_result"
    }
   ],
   "source": [
    "function temp_gen(hour, temp_ref)\n",
    "    temp_ref + hour / (20 * 24 * 365) + 10 * sin((2 * pi / 24) * hour) + 10 * sin((2 * pi / (24 * 365)) * hour)\n",
    "end\n",
    "\n",
    "function I_S(hour)\n",
    "    0.001 + 0.0005 * sin((2 * pi / (24 * 365)) * hour) #Exogenous SOC input\n",
    "end\n",
    "\n",
    "function I_D(hour)\n",
    "    0.0001 + 0.00005 * sin((2 * pi / (24 * 365)) * hour) #Exogenous DOC input\n",
    "end\n",
    "\n",
    "function arrhenius_temp_dep(parameter, temp, Ea, temp_ref)\n",
    "    decayed_parameter = parameter * exp(-Ea / 0.008314 * (1 / temp - 1 / temp_ref))\n",
    "end\n",
    "\n",
    "function linear_temp_dep(parameter, temp, Q, temp_ref)\n",
    "    modified_parameter = parameter - Q * (temp - temp_ref)\n",
    "end\n",
    "\n",
    "function analytical_steady_state_AWB_original(SOC_input, DOC_input, u_Q_ref, Q, a_MSA, K_D, K_U, V_D_ref, V_U_ref, Ea_V_D, Ea_V_U, r_M, r_E, r_L, temp_ref)\n",
    "    u_Q = linear_temp_dep(u_Q_ref, temp_ref, Q, temp_ref)\n",
    "    V_D = arrhenius_temp_dep(V_D_ref, temp_ref, Ea_V_D, temp_ref)\n",
    "    V_U = arrhenius_temp_dep(V_U_ref, temp_ref, Ea_V_U, temp_ref)    \n",
    "    D₀ = -((K_U * (r_E + r_M)) / (r_E + r_M - u_Q * V_U))\n",
    "    S₀ = -((K_D * r_L * (SOC_input * r_E * (u_Q - 1) - a_MSA * DOC_input * r_M * u_Q + SOC_input * r_M * (-1 + u_Q - a_MSA * u_Q))) / (DOC_input * u_Q * (-a_MSA * r_L * r_M + r_E * V_D) + SOC_input * (r_E * r_L * (u_Q - 1) + r_L * r_M * (-1 + u_Q - a_MSA * u_Q) + r_E * u_Q * V_D)))\n",
    "    M₀ = -((u_Q * (SOC_input + DOC_input)) / ((r_E + r_M) * (u_Q - 1)))\n",
    "    E₀ = -((r_E * u_Q * (SOC_input + DOC_input)) / (r_L * (r_E + r_M) * (u_Q - 1))) \n",
    "    return [S₀, D₀, M₀, E₀]\n",
    "end"
   ]
  },
  {
   "cell_type": "code",
   "execution_count": 3,
   "metadata": {},
   "outputs": [
    {
     "data": {
      "text/plain": [
       "analytical_steady_state_AWB_full_ECA (generic function with 1 method)"
      ]
     },
     "execution_count": 3,
     "metadata": {},
     "output_type": "execute_result"
    }
   ],
   "source": [
    "function analytical_steady_state_AWB_full_ECA(SOC_input, DOC_input, u_Q_ref, Q, a_MSA, K_D, K_U, V_D_ref, V_U_ref, Ea_V_D, Ea_V_U, r_M, r_E, r_L, temp_ref)\n",
    "    #TO BE CONTINUED\n",
    "end"
   ]
  },
  {
   "cell_type": "code",
   "execution_count": 9,
   "metadata": {},
   "outputs": [
    {
     "data": {
      "text/plain": [
       "50"
      ]
     },
     "execution_count": 9,
     "metadata": {},
     "output_type": "execute_result"
    }
   ],
   "source": [
    "########################\n",
    "###Non-param Constants##\n",
    "########################\n",
    "\n",
    "temp_ref = 283\n",
    "\n",
    "#########################\n",
    "##ODE System Parameters##\n",
    "#########################\n",
    "\n",
    "u_Q_ref = 0.2\n",
    "Q = 0.002\n",
    "a_MSA = 0.5\n",
    "K_D = 200\n",
    "K_U = 1\n",
    "V_D_ref = 0.4\n",
    "V_U_ref = 0.02\n",
    "Ea_V_D = 75\n",
    "Ea_V_U = 50\n",
    "r_M = 0.0004\n",
    "r_E = 0.00001\n",
    "r_L = 0.0005\n",
    "\n",
    "#Separate parameters for full ECA\n",
    "K_DE = 200\n",
    "K_UE = 1\n",
    "V_DE_ref = 0.4\n",
    "V_UE_ref = 0.02\n",
    "Ea_V_DE = 75\n",
    "Ea_V_UE = 50"
   ]
  },
  {
   "cell_type": "code",
   "execution_count": 10,
   "metadata": {},
   "outputs": [
    {
     "data": {
      "text/plain": [
       "retcode: Success\n",
       "Interpolation: automatic order switching interpolation\n",
       "t: 6280-element Array{Float64,1}:\n",
       "      0.0\n",
       "      9.999999999999999e-5\n",
       "      0.0010999999999999998\n",
       "      0.011099999999999997\n",
       "      0.11109999999999996\n",
       "      1.1110999999999995\n",
       "      3.865436496882888\n",
       "      7.503664686447111\n",
       "     11.580003986018482\n",
       "     16.79828495155182\n",
       "     24.06180925566981\n",
       "     31.732294037992673\n",
       "     38.699816017515104\n",
       "      ⋮\n",
       "  99875.87154505991\n",
       "  99885.37606556361\n",
       "  99896.24806352482\n",
       "  99904.05380711332\n",
       "  99919.88958082194\n",
       "  99928.56148790797\n",
       "  99944.17780717066\n",
       "  99953.32569953645\n",
       "  99967.85808027314\n",
       "  99978.07441666162\n",
       "  99993.11048142759\n",
       " 100000.0\n",
       "u: 6280-element Array{Array{Float64,1},1}:\n",
       " [53.60230547550432, 0.11420612813370475, 0.6707317073170732, 0.013414634146341465]\n",
       " [53.60230547550265, 0.11420612813402646, 0.6707317073173081, 0.013414634146341465]\n",
       " [53.60230547530163, 0.11420612817264157, 0.670731707345504, 0.013414634146341465]\n",
       " [53.60230545484566, 0.11420613210749476, 0.6707317102135141, 0.013414634146341572]\n",
       " [53.6023033867946, 0.11420653529661243, 0.6707319989033962, 0.013414634146449302]\n",
       " [53.60207769442188, 0.11425639803604797, 0.6707621393603042, 0.013414634257818248]\n",
       " [53.599093345176435, 0.11510712778482471, 0.6711164306157353, 0.013414639072385744]\n",
       " [53.59143454827481, 0.11752552732384333, 0.6719673878949459, 0.013414668150050966]\n",
       " [53.587043594193865, 0.11854963740311512, 0.6725304470146163, 0.013414732685275722]\n",
       " [53.58939329096618, 0.11815816058928531, 0.6721848948353117, 0.013414820727636391]\n",
       " [53.59363150157026, 0.11766039820054246, 0.6715206412084059, 0.013414895346353862]\n",
       " [53.582038901916874, 0.12075646121798442, 0.6729293175127947, 0.01341499584695476]\n",
       " [53.578835580972026, 0.12118624467808303, 0.6734076183239981, 0.013415178075332032]\n",
       " ⋮\n",
       " [31.297838631840957, 0.07648017644643157, 1.0911023083199765, 0.01687700234314319]\n",
       " [31.303756801115863, 0.0742411194444642, 1.0896591561089148, 0.016900390614582303]\n",
       " [31.283182313614237, 0.0767680161688239, 1.091483310207393, 0.0169269565563495]\n",
       " [31.27898991344031, 0.07546864642491448, 1.0916702319075045, 0.016946087806545673]\n",
       " [31.26162859261362, 0.07741755936152399, 1.0925381405740613, 0.016984524736070178]\n",
       " [31.25695862252923, 0.07593069701934961, 1.0927378582468323, 0.01700562292201307]\n",
       " [31.238932847159823, 0.0778530058095497, 1.0937222061058307, 0.017043244126867505]\n",
       " [31.23595092525069, 0.0760193358754943, 1.0936518386632188, 0.01706532652630903]\n",
       " [31.219269759301813, 0.07754934540022305, 1.0945901226101553, 0.01710005960339134]\n",
       " [31.216227725293216, 0.07567941227386915, 1.0944112921670182, 0.017124514975176457]\n",
       " [31.19663890139046, 0.07777496331658651, 1.0956601225137144, 0.017160144354415263]\n",
       " [31.19503444947002, 0.07615037476053133, 1.0955362429327495, 0.017176502563274444]"
      ]
     },
     "execution_count": 10,
     "metadata": {},
     "output_type": "execute_result"
    }
   ],
   "source": [
    "###############\n",
    "##ODE Solving##\n",
    "###############\n",
    "\n",
    "tspan = (0., 100000.) #in hours\n",
    "C₀ = analytical_steady_state_AWB_original(I_S(0), I_D(0), u_Q_ref, Q, a_MSA, K_D, K_U, V_D_ref, V_U_ref, Ea_V_D, Ea_V_U, r_M, r_E, r_L, temp_ref)\n",
    "p = [u_Q_ref, Q, a_MSA, K_D, K_U, V_D_ref, V_U_ref, Ea_V_D, Ea_V_U, r_M, r_E, r_L]\n",
    "\n",
    "function AWB!(du, u, p, t)\n",
    "    S, D, M, E = u\n",
    "    u_Q_ref, Q, a_MSA, K_D, K_U, V_D_ref, V_U_ref, Ea_V_D, Ea_V_U, r_M, r_E, r_L = p\n",
    "    du[1] = dS = I_S(t) + a_MSA * r_M * M - ((arrhenius_temp_dep(V_D_ref, temp_gen(t, temp_ref), Ea_V_D, temp_ref) * E * S) / (K_D + S))\n",
    "    du[2] = dD = I_D(t) + (1 - a_MSA) * r_M * M + ((arrhenius_temp_dep(V_D_ref, temp_gen(t, temp_ref), Ea_V_D, temp_ref) * E * S) / (K_D + S)) + r_L * E - ((arrhenius_temp_dep(V_U_ref, temp_gen(t, temp_ref), Ea_V_U, temp_ref) * M * D) / (K_U + D))\n",
    "    du[3] = dM = linear_temp_dep(u_Q_ref, temp_gen(t, temp_ref), Q, temp_ref) * ((arrhenius_temp_dep(V_U_ref, temp_gen(t, temp_ref), Ea_V_U, temp_ref) * M * D) / (K_U + D)) - r_M * M - r_E * M\n",
    "    du[4] = dE = r_E * M - r_L * E\n",
    "end\n",
    "\n",
    "AWB_prob = ODEProblem(AWB!, C₀, tspan, p, save_at = 10) #sample result every 10 hours\n",
    "AWB_sol = solve(AWB_prob)"
   ]
  },
  {
   "cell_type": "code",
   "execution_count": 11,
   "metadata": {},
   "outputs": [
    {
     "data": {
      "text/plain": [
       "retcode: Success\n",
       "Interpolation: automatic order switching interpolation\n",
       "t: 831-element Array{Float64,1}:\n",
       "      0.0\n",
       "      9.999999999999999e-5\n",
       "      0.0010999999999999998\n",
       "      0.011099999999999997\n",
       "      0.11109999999999996\n",
       "      1.1110999999999995\n",
       "     11.111099999999993\n",
       "     69.83787793494952\n",
       "    168.68706850472046\n",
       "    292.17664330371645\n",
       "    463.91338645513343\n",
       "    692.6381932457958\n",
       "   1037.390427540858\n",
       "      ⋮\n",
       "  98460.25683273027\n",
       "  98597.73313592507\n",
       "  98772.38416540857\n",
       "  98940.25438292598\n",
       "  99098.61463755954\n",
       "  99251.39772218523\n",
       "  99398.33883024077\n",
       "  99539.53513590647\n",
       "  99675.13684326617\n",
       "  99805.40137703366\n",
       "  99930.65196519095\n",
       " 100000.0\n",
       "u: 831-element Array{Array{Float64,1},1}:\n",
       " [53.60230547550432, 0.11420612813370475, 0.6707317073170732, 0.013414634146341465]\n",
       " [53.60230547550432, 0.11420612813370493, 0.6707317073170732, 0.013414634146341465]\n",
       " [53.60230547550454, 0.11420612813372645, 0.6707317073170732, 0.013414634146341465]\n",
       " [53.602305475526414, 0.114206128135914, 0.6707317073170732, 0.013414634146341465]\n",
       " [53.602305477717636, 0.11420612835494942, 0.6707317073170909, 0.013414634146341465]\n",
       " [53.60230569687462, 0.1142061501838986, 0.6707317073347396, 0.013414634146341513]\n",
       " [53.60232761159534, 0.11420825712105948, 0.6707317245244356, 0.013414634146821716]\n",
       " [53.60317954217565, 0.11427534673713932, 0.6707353948691958, 0.013414634808638706]\n",
       " [53.60739725323706, 0.11450883930594526, 0.6707733560936118, 0.013414652763939154]\n",
       " [53.61753439870546, 0.11487745546309361, 0.6709024025184416, 0.013414769770890346]\n",
       " [53.64045136177067, 0.11541032149407024, 0.6712505180382206, 0.013415302986510336]\n",
       " [53.68626993044837, 0.11608187792402845, 0.6720142023240562, 0.013417133090984015]\n",
       " [53.785472429525335, 0.1169503313160059, 0.6737536106172426, 0.013423453557540887]\n",
       " ⋮\n",
       " [53.71625403520249, 0.11820598659838248, 0.6669073028947873, 0.01322644906438239]\n",
       " [53.78669825487101, 0.11820000819943215, 0.6680845990979872, 0.013234657102987806]\n",
       " [53.8754609707346, 0.11813824053580765, 0.6695725397605814, 0.013246538584824047]\n",
       " [53.95878788816048, 0.11801897571895495, 0.670975359915253, 0.013259349587215169]\n",
       " [54.03451168214696, 0.11785912858079998, 0.6722553792231948, 0.013272530095528357]\n",
       " [54.103990738466955, 0.11766371611595555, 0.6734353637977395, 0.013286103845488395]\n",
       " [54.166716929390816, 0.11744009556566208, 0.6745065452634367, 0.013299810270018421]\n",
       " [54.22255479501662, 0.1171946965957707, 0.6754663593967587, 0.013313449183219524]\n",
       " [54.27155208973649, 0.11693326755601777, 0.6763152589373596, 0.013326856815683635]\n",
       " [54.31391691417837, 0.11666066279361036, 0.6770563749488401, 0.013339910274939446]\n",
       " [54.34995792261772, 0.11638088860260366, 0.677694532767015, 0.013352521112601459]\n",
       " [54.367821337925704, 0.11622722665108756, 0.6780129950492811, 0.013359493673500878]"
      ]
     },
     "execution_count": 11,
     "metadata": {},
     "output_type": "execute_result"
    }
   ],
   "source": [
    "##########################\n",
    "##Debugging and Checking##\n",
    "##########################\n",
    "\n",
    "#Test if function sticks to steady state with no temperature forcing\n",
    "\n",
    "function AWB_ss!(du, u, p, t)\n",
    "    S, D, M, E = u\n",
    "    u_Q_ref, Q, a_MSA, K_D, K_U, V_D_ref, V_U_ref, Ea_V_D, Ea_V_U, r_M, r_E, r_L = p\n",
    "    du[1] = dS = I_S(t) + a_MSA * r_M * M - (V_D_ref * E * S) / (K_D + S)\n",
    "    du[2] = dD = I_D(t) + (1 - a_MSA) * r_M * M + (V_D_ref * E * S) / (K_D + S) + r_L * E - (V_U_ref * M * D) / (K_U + D)\n",
    "    du[3] = dM = u_Q_ref * (V_U_ref * M * D) / (K_U + D) - r_M * M - r_E * M\n",
    "    du[4] = dE = r_E * M - r_L * E\n",
    "end\n",
    "\n",
    "AWB_ss_prob = ODEProblem(AWB_ss!, C₀, tspan, p, save_at = 10) #sample result every 10 hours\n",
    "AWB_ss_sol = solve(AWB_ss_prob)\n",
    "\n",
    "function AWB_ss2!(du, u, p, t)\n",
    "    S, D, M, E = u\n",
    "    u_Q_ref, Q, a_MSA, K_D, K_U, V_D_ref, V_U_ref, Ea_V_D, Ea_V_U, r_M, r_E, r_L = p\n",
    "    du[1] = dS = I_S(t) + a_MSA * r_M * M - ((arrhenius_temp_dep(V_D_ref, temp_ref, Ea_V_D, temp_ref) * E * S) / (K_D + S))\n",
    "    du[2] = dD = I_D(t) + (1 - a_MSA) * r_M * M + ((arrhenius_temp_dep(V_D_ref, temp_ref, Ea_V_D, temp_ref) * E * S) / (K_D + S)) + r_L * E - ((arrhenius_temp_dep(V_U_ref, temp_ref, Ea_V_U, temp_ref) * M * D) / (K_U + D))\n",
    "    du[3] = dM = linear_temp_dep(u_Q_ref, temp_ref, Q, temp_ref) * ((arrhenius_temp_dep(V_U_ref, temp_ref, Ea_V_U, temp_ref) * M * D) / (K_U + D)) - r_M * M - r_E * M\n",
    "    du[4] = dE = r_E * M - r_L * E\n",
    "end\n",
    "\n",
    "AWB_ss2_prob = ODEProblem(AWB_ss2!, C₀, tspan, p, save_at = 10) #sample result every 10 hours\n",
    "AWB_ss2_sol = solve(AWB_ss2_prob)"
   ]
  },
  {
   "cell_type": "code",
   "execution_count": 12,
   "metadata": {},
   "outputs": [
    {
     "data": {
      "text/plain": [
       "\"AWB_synthetic_soln.csv\""
      ]
     },
     "execution_count": 12,
     "metadata": {},
     "output_type": "execute_result"
    }
   ],
   "source": [
    "##################\n",
    "##Exporting Data##\n",
    "##################\n",
    "\n",
    "df_AWB_soln = DataFrame(AWB_sol.u)\n",
    "CSV.write(\"AWB_synthetic_soln.csv\", df_AWB_soln)"
   ]
  }
 ],
 "metadata": {
  "kernelspec": {
   "display_name": "Julia 1.5.3",
   "language": "julia",
   "name": "julia-1.5"
  },
  "language_info": {
   "file_extension": ".jl",
   "mimetype": "application/julia",
   "name": "julia",
   "version": "1.5.3"
  }
 },
 "nbformat": 4,
 "nbformat_minor": 4
}
