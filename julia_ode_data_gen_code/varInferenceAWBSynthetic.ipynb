{
 "cells": [
  {
   "cell_type": "code",
   "execution_count": 1,
   "metadata": {},
   "outputs": [],
   "source": [
    "using DifferentialEquations\n",
    "using ParameterizedFunctions\n",
    "using Sundials\n",
    "using LSODA\n",
    "using DataFrames\n",
    "using CSV"
   ]
  },
  {
   "cell_type": "code",
   "execution_count": 2,
   "metadata": {},
   "outputs": [
    {
     "data": {
      "text/plain": [
       "analytical_steady_state_AWB_original (generic function with 1 method)"
      ]
     },
     "execution_count": 2,
     "metadata": {},
     "output_type": "execute_result"
    }
   ],
   "source": [
    "function temp_gen(hour, temp_ref)\n",
    "    temp_ref + hour / (20 * 24 * 365) + 10 * sin((2 * pi / 24) * hour) + 10 * sin((2 * pi / (24 * 365)) * hour)\n",
    "end\n",
    "\n",
    "function I_S(hour)\n",
    "    0.001 + 0.0005 * sin((2 * pi / (24 * 365)) * hour) #Exogenous SOC input\n",
    "end\n",
    "\n",
    "function I_D(hour)\n",
    "    0.0001 + 0.00005 * sin((2 * pi / (24 * 365)) * hour) #Exogenous DOC input\n",
    "end\n",
    "\n",
    "function arrhenius_temp_dep(parameter, temp, Ea, temp_ref)\n",
    "    decayed_parameter = parameter * exp(-Ea / 0.008314 * (1 / temp - 1 / temp_ref))\n",
    "end\n",
    "\n",
    "function linear_temp_dep(parameter, temp, Q, temp_ref)\n",
    "    modified_parameter = parameter - Q * (temp - temp_ref)\n",
    "end\n",
    "\n",
    "function analytical_steady_state_AWB_original(SOC_input, DOC_input, u_Q_ref, Q, a_MSA, K_D, K_U, V_D_ref, V_U_ref, Ea_V_D, Ea_V_U, r_M, r_E, r_L, temp_ref)\n",
    "    u_Q = linear_temp_dep(u_Q_ref, temp_ref, Q, temp_ref)\n",
    "    V_D = arrhenius_temp_dep(V_D_ref, temp_ref, Ea_V_D, temp_ref)\n",
    "    V_U = arrhenius_temp_dep(V_U_ref, temp_ref, Ea_V_U, temp_ref)    \n",
    "    D₀ = -((K_U * (r_E + r_M)) / (r_E + r_M - u_Q * V_U))\n",
    "    S₀ = -((K_D * r_L * (SOC_input * r_E * (u_Q - 1) - a_MSA * DOC_input * r_M * u_Q + SOC_input * r_M * (-1 + u_Q - a_MSA * u_Q))) / (DOC_input * u_Q * (-a_MSA * r_L * r_M + r_E * V_D) + SOC_input * (r_E * r_L * (u_Q - 1) + r_L * r_M * (-1 + u_Q - a_MSA * u_Q) + r_E * u_Q * V_D)))\n",
    "    M₀ = -((u_Q * (SOC_input + DOC_input)) / ((r_E + r_M) * (u_Q - 1)))\n",
    "    E₀ = -((r_E * u_Q * (SOC_input + DOC_input)) / (r_L * (r_E + r_M) * (u_Q - 1))) \n",
    "    return [S₀, D₀, M₀, E₀]\n",
    "end"
   ]
  },
  {
   "cell_type": "code",
   "execution_count": 5,
   "metadata": {},
   "outputs": [
    {
     "data": {
      "text/plain": [
       "50"
      ]
     },
     "execution_count": 5,
     "metadata": {},
     "output_type": "execute_result"
    }
   ],
   "source": [
    "########################\n",
    "###Non-param Constants##\n",
    "########################\n",
    "\n",
    "temp_ref = 283\n",
    "\n",
    "#########################\n",
    "##ODE System Parameters##\n",
    "#########################\n",
    "\n",
    "u_Q_ref = 0.2\n",
    "Q = 0.002\n",
    "a_MSA = 0.5\n",
    "K_D = 200\n",
    "K_U = 1\n",
    "V_D_ref = 0.4\n",
    "V_U_ref = 0.02\n",
    "Ea_V_D = 75\n",
    "Ea_V_U = 50\n",
    "r_M = 0.0004\n",
    "r_E = 0.00001\n",
    "r_L = 0.0005\n",
    "\n",
    "#Separate parameters for full ECA\n",
    "K_DE = 200\n",
    "K_UE = 1\n",
    "V_DE_ref = 0.4\n",
    "V_UE_ref = 0.02\n",
    "Ea_V_DE = 75\n",
    "Ea_V_UE = 50"
   ]
  },
  {
   "cell_type": "code",
   "execution_count": 6,
   "metadata": {},
   "outputs": [
    {
     "name": "stdout",
     "output_type": "stream",
     "text": [
      "[53.60230547550432, 0.11420612813370475, 0.6707317073170732, 0.013414634146341465]"
     ]
    },
    {
     "data": {
      "text/plain": [
       "retcode: Success\n",
       "Interpolation: 1st order linear\n",
       "t: 10001-element Array{Float64,1}:\n",
       "      0.0\n",
       "     10.0\n",
       "     20.0\n",
       "     30.0\n",
       "     40.0\n",
       "     50.0\n",
       "     60.0\n",
       "     70.0\n",
       "     80.0\n",
       "     90.0\n",
       "    100.0\n",
       "    110.0\n",
       "    120.0\n",
       "      ⋮\n",
       "  99890.0\n",
       "  99900.0\n",
       "  99910.0\n",
       "  99920.0\n",
       "  99930.0\n",
       "  99940.0\n",
       "  99950.0\n",
       "  99960.0\n",
       "  99970.0\n",
       "  99980.0\n",
       "  99990.0\n",
       " 100000.0\n",
       "u: 10001-element Array{Array{Float64,1},1}:\n",
       " [53.60230547550432, 0.11420612813370475, 0.6707317073170732, 0.013414634146341465]\n",
       " [53.5881335801451, 0.11832133007587436, 0.672385198919786, 0.013414708804701619]\n",
       " [53.59117842120513, 0.11809808374299048, 0.6718687254635931, 0.013414860488384807]\n",
       " [53.58402711602163, 0.11999493438995537, 0.6727384260775997, 0.01341499268605836]\n",
       " [53.578358887958004, 0.12124551147844638, 0.673475706655734, 0.013415257349969907]\n",
       " [53.578517998487584, 0.12085911503799453, 0.6735366273413179, 0.013415516196448105]\n",
       " [53.56377178971748, 0.12400784486118863, 0.6754853963921218, 0.013415901124882315]\n",
       " [53.56944588587356, 0.12293919044619762, 0.6747022812677353, 0.013416336867413005]\n",
       " [53.559677761258676, 0.12498053550107568, 0.6760052261180314, 0.013416769759129074]\n",
       " [53.55857852190165, 0.12490718606389815, 0.6762257232637405, 0.013417317760486255]\n",
       " [53.557839328764864, 0.1248219908148227, 0.6763927936030641, 0.013417848021602029]\n",
       " [53.54531167550922, 0.12691751629498982, 0.6781777004377668, 0.01341850760320273]\n",
       " [53.5510221402746, 0.12544155542137192, 0.6775046811367417, 0.013419202236532948]\n",
       " ⋮\n",
       " [30.180271617746325, 0.07310446383106259, 0.9955960309927605, 0.015659562678144313]\n",
       " [30.16062981497538, 0.07529943683711661, 0.9976701490432182, 0.01568088967744181]\n",
       " [30.165360360008513, 0.0734039868171427, 0.9965783287852141, 0.015702147348669388]\n",
       " [30.148680172913355, 0.07536619811702074, 0.9982170993269122, 0.015723292752656978]\n",
       " [30.14685050969209, 0.07414756210237172, 0.9980471573486279, 0.015744472651744036]\n",
       " [30.14378241133077, 0.07347827600634733, 0.997983403710727, 0.015765455555358354]\n",
       " [30.127623841233866, 0.07492538486631944, 0.9996095813939715, 0.015786489920982364]\n",
       " [30.134642911754387, 0.07299797799905715, 0.9981136419966682, 0.015807387596690033]\n",
       " [30.114792932217743, 0.07555661288640872, 1.0001226740631983, 0.015828190417220944]\n",
       " [30.119125512140105, 0.07360371993616224, 0.9990590098547903, 0.015848990967134432]\n",
       " [30.11109099440112, 0.07406148807832716, 0.999553198016895, 0.015869577164952672]\n",
       " [30.101598581932723, 0.07422188262585351, 1.000318096687219, 0.015890218361826542]"
      ]
     },
     "execution_count": 6,
     "metadata": {},
     "output_type": "execute_result"
    }
   ],
   "source": [
    "###############\n",
    "##ODE Solving##\n",
    "###############\n",
    "\n",
    "tspan = (0., 100000.) #in hours\n",
    "C₀ = analytical_steady_state_AWB_original(I_S(0), I_D(0), u_Q_ref, Q, a_MSA, K_D, K_U, V_D_ref, V_U_ref, Ea_V_D, Ea_V_U, r_M, r_E, r_L, temp_ref)\n",
    "print(C₀)\n",
    "p = [u_Q_ref, Q, a_MSA, K_D, K_U, V_D_ref, V_U_ref, Ea_V_D, Ea_V_U, r_M, r_E, r_L]\n",
    "\n",
    "function AWB!(du, u, p, t)\n",
    "    S, D, M, E = u\n",
    "    u_Q_ref, Q, a_MSA, K_D, K_U, V_D_ref, V_U_ref, Ea_V_D, Ea_V_U, r_M, r_E, r_L = p\n",
    "    du[1] = dS = I_S(t) + a_MSA * r_M * M - ((arrhenius_temp_dep(V_D_ref, temp_gen(t, temp_ref), Ea_V_D, temp_ref) * E * S) / (K_D + S))\n",
    "    du[2] = dD = I_D(t) + (1 - a_MSA) * r_M * M + ((arrhenius_temp_dep(V_D_ref, temp_gen(t, temp_ref), Ea_V_D, temp_ref) * E * S) / (K_D + S)) + r_L * E - ((arrhenius_temp_dep(V_U_ref, temp_gen(t, temp_ref), Ea_V_U, temp_ref) * M * D) / (K_U + D))\n",
    "    du[3] = dM = linear_temp_dep(u_Q_ref, temp_gen(t, temp_ref), Q, temp_ref) * ((arrhenius_temp_dep(V_U_ref, temp_gen(t, temp_ref), Ea_V_U, temp_ref) * M * D) / (K_U + D)) - r_M * M - r_E * M\n",
    "    du[4] = dE = r_E * M - r_L * E\n",
    "end\n",
    "\n",
    "AWB_prob = ODEProblem(AWB!, C₀, tspan, p)\n",
    "AWB_sol = solve(AWB_prob, CVODE_BDF(), dt = 0.05, saveat = 0:10:100000) #sample result every 10 hours, forcing dt = 0.05 hours"
   ]
  },
  {
   "cell_type": "code",
   "execution_count": 32,
   "metadata": {},
   "outputs": [
    {
     "data": {
      "text/plain": [
       "retcode: Success\n",
       "Interpolation: 1st order linear\n",
       "t: 10001-element Array{Float64,1}:\n",
       "      0.0\n",
       "     10.0\n",
       "     20.0\n",
       "     30.0\n",
       "     40.0\n",
       "     50.0\n",
       "     60.0\n",
       "     70.0\n",
       "     80.0\n",
       "     90.0\n",
       "    100.0\n",
       "    110.0\n",
       "    120.0\n",
       "      ⋮\n",
       "  99890.0\n",
       "  99900.0\n",
       "  99910.0\n",
       "  99920.0\n",
       "  99930.0\n",
       "  99940.0\n",
       "  99950.0\n",
       "  99960.0\n",
       "  99970.0\n",
       "  99980.0\n",
       "  99990.0\n",
       " 100000.0\n",
       "u: 10001-element Array{Array{Float64,1},1}:\n",
       " [53.60230547550432, 0.11420612813370475, 0.6707317073170732, 0.013414634146341465]\n",
       " [53.60232340589836, 0.11420785877830991, 0.670731720007776, 0.013414634146546447]\n",
       " [53.6023771922384, 0.11421281471546423, 0.6707318059263293, 0.013414634150733944]\n",
       " [53.6024668260002, 0.11422067259270333, 0.6707320304637636, 0.013414634170270714]\n",
       " [53.60259229690947, 0.11423113753121587, 0.670732453078428, 0.013414634221939522]\n",
       " [53.602753592933496, 0.11424394162652586, 0.6707331276074239, 0.013414634327625012]\n",
       " [53.60295070023834, 0.11425883602955951, 0.6707341039114435, 0.013414634512656313]\n",
       " [53.60318360320234, 0.11427559331907944, 0.6707354273819007, 0.013414634806303982]\n",
       " [53.603452284594546, 0.11429403998767265, 0.6707371321931397, 0.01341463524857979]\n",
       " [53.603756725347196, 0.11431401417360212, 0.6707392500819396, 0.013414635881390085]\n",
       " [53.60409690454136, 0.11433536301223625, 0.6707418108976498, 0.013414636747981443]\n",
       " [53.60447279940694, 0.11435794263604884, 0.6707448426021894, 0.013414637892940659]\n",
       " [53.60488438532273, 0.11438161817461916, 0.6707483712700473, 0.01341463936219476]\n",
       " ⋮\n",
       " [54.33945927954268, 0.11653737866028044, 0.6774875408056977, 0.013348231926058989]\n",
       " [54.34216063656514, 0.11650633011008353, 0.6775369889253763, 0.013349238766699509]\n",
       " [54.344791615807985, 0.11647160457490606, 0.677585868914425, 0.013350245590873435]\n",
       " [54.34735221727122, 0.11643320205474803, 0.6776341807728438, 0.013351252398580772]\n",
       " [54.349842440954845, 0.11639112254960944, 0.6776819245006329, 0.013352259189821516]\n",
       " [54.35249446851162, 0.11636754958594868, 0.6777293102020523, 0.013353265995882903]\n",
       " [54.355228605582255, 0.11635473199059737, 0.6777762992794986, 0.013354272441237705]\n",
       " [54.35788849227167, 0.11633769619020125, 0.6778227586527934, 0.013355278413267935]\n",
       " [54.36047412857986, 0.11631644218476032, 0.6778686883219368, 0.013356283911973594]\n",
       " [54.362985514506825, 0.1162909699742746, 0.6779140882869287, 0.013357288937354682]\n",
       " [54.365422650052565, 0.11626127955874406, 0.6779589585477692, 0.013358293489411198]\n",
       " [54.36778553521709, 0.1162273709381687, 0.6780032991044582, 0.013359297568143143]"
      ]
     },
     "execution_count": 32,
     "metadata": {},
     "output_type": "execute_result"
    }
   ],
   "source": [
    "##########################\n",
    "##Debugging and Checking##\n",
    "##########################\n",
    "\n",
    "#Test if function sticks to steady state with no temperature forcing\n",
    "\n",
    "function AWB_ss!(du, u, p, t)\n",
    "    S, D, M, E = u\n",
    "    u_Q_ref, Q, a_MSA, K_D, K_U, V_D_ref, V_U_ref, Ea_V_D, Ea_V_U, r_M, r_E, r_L = p\n",
    "    du[1] = dS = I_S(t) + a_MSA * r_M * M - (V_D_ref * E * S) / (K_D + S)\n",
    "    du[2] = dD = I_D(t) + (1 - a_MSA) * r_M * M + (V_D_ref * E * S) / (K_D + S) + r_L * E - (V_U_ref * M * D) / (K_U + D)\n",
    "    du[3] = dM = u_Q_ref * (V_U_ref * M * D) / (K_U + D) - r_M * M - r_E * M\n",
    "    du[4] = dE = r_E * M - r_L * E\n",
    "end\n",
    "\n",
    "AWB_ss_prob = ODEProblem(AWB_ss!, C₀, tspan, p)\n",
    "AWB_ss_sol = solve(AWB_ss_prob, dt = 0.05, saveat = 0:10:100000) #sample result every 10 hours, forcing dt = 0.05 hours)\n",
    "\n",
    "function AWB_ss2!(du, u, p, t)\n",
    "    S, D, M, E = u\n",
    "    u_Q_ref, Q, a_MSA, K_D, K_U, V_D_ref, V_U_ref, Ea_V_D, Ea_V_U, r_M, r_E, r_L = p\n",
    "    du[1] = dS = I_S(t) + a_MSA * r_M * M - ((arrhenius_temp_dep(V_D_ref, temp_ref, Ea_V_D, temp_ref) * E * S) / (K_D + S))\n",
    "    du[2] = dD = I_D(t) + (1 - a_MSA) * r_M * M + ((arrhenius_temp_dep(V_D_ref, temp_ref, Ea_V_D, temp_ref) * E * S) / (K_D + S)) + r_L * E - ((arrhenius_temp_dep(V_U_ref, temp_ref, Ea_V_U, temp_ref) * M * D) / (K_U + D))\n",
    "    du[3] = dM = linear_temp_dep(u_Q_ref, temp_ref, Q, temp_ref) * ((arrhenius_temp_dep(V_U_ref, temp_ref, Ea_V_U, temp_ref) * M * D) / (K_U + D)) - r_M * M - r_E * M\n",
    "    du[4] = dE = r_E * M - r_L * E\n",
    "end\n",
    "\n",
    "AWB_ss2_prob = ODEProblem(AWB_ss2!, C₀, tspan, p)\n",
    "AWB_ss2_sol = solve(AWB_ss2_prob, dt = 0.05, saveat = 0:10:100000) #sample result every 10 hours, forcing dt = 0.05 hours)"
   ]
  },
  {
   "cell_type": "code",
   "execution_count": 34,
   "metadata": {},
   "outputs": [
    {
     "data": {
      "text/plain": [
       "\"AWB_synthetic_soln.csv\""
      ]
     },
     "execution_count": 34,
     "metadata": {},
     "output_type": "execute_result"
    }
   ],
   "source": [
    "##################\n",
    "##Exporting Data##\n",
    "##################\n",
    "\n",
    "df_AWB_soln = DataFrame(AWB_sol.u)\n",
    "CSV.write(\"AWB_synthetic_soln.csv\", df_AWB_soln)"
   ]
  },
  {
   "cell_type": "code",
   "execution_count": null,
   "metadata": {},
   "outputs": [],
   "source": []
  }
 ],
 "metadata": {
  "kernelspec": {
   "display_name": "Julia 1.5.3",
   "language": "julia",
   "name": "julia-1.5"
  },
  "language_info": {
   "file_extension": ".jl",
   "mimetype": "application/julia",
   "name": "julia",
   "version": "1.5.3"
  }
 },
 "nbformat": 4,
 "nbformat_minor": 4
}
