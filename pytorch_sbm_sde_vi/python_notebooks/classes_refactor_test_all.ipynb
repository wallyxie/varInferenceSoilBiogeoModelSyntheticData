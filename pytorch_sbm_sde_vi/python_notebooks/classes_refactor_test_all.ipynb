{
 "cells": [
  {
   "cell_type": "code",
   "execution_count": 1,
   "id": "29a20138",
   "metadata": {},
   "outputs": [],
   "source": [
    "# Hack to import from a parent directory\n",
    "import sys\n",
    "path = '..'\n",
    "if path not in sys.path:\n",
    "    sys.path.append(path)"
   ]
  },
  {
   "cell_type": "code",
   "execution_count": 2,
   "id": "cf2ef9c8",
   "metadata": {},
   "outputs": [],
   "source": [
    "from typing import Dict, Tuple, Union\n",
    "import os\n",
    "import time\n",
    "from time import process_time\n",
    "\n",
    "#PyData imports\n",
    "import numpy as np\n",
    "\n",
    "#Torch-related imports\n",
    "import torch\n",
    "\n",
    "#Module-specific imports\n",
    "from obs_and_flow import LowerBound\n",
    "from TruncatedNormal import *\n",
    "from mean_field import *\n",
    "from SBM_SDE_classes import *\n",
    "from SBM_SDE_classes_multi_x import *\n",
    "from SBM_SDE_classes_optim import *\n",
    "from SBM_SDE_classes_multi_x_optim import *\n",
    "from training import *\n",
    "\n",
    "'''\n",
    "This script includes the linear and Arrhenius temperature dependence functions to induce temperature-based forcing in differential equation soil biogeochemical models (SBMs). It also includes the SBM SDE classes corresponding to the various parameterizations of the stochastic conventional (SCON), stochastic AWB (SAWB), and stochastic AWB-equilibrium chemistry approximation (SAWB-ECA) for incorporation with normalizing flow \"neural stochastic differential equation\" solvers. The following SBM SDE system parameterizations are contained in this script:\n",
    "    1) SCON constant diffusion (SCON-C)\n",
    "    2) SCON state scaling diffusion (SCON-SS)\n",
    "    3) SAWB constant diffusion (SAWB-C)\n",
    "    4) SAWB state scaling diffusion (SAWB-SS)\n",
    "    5) SAWB-ECA constant diffusion (SAWB-ECA-C)\n",
    "    6) SAWB-ECA state scaling diffusion (SAWB-ECA-SS)\n",
    "The respective analytical steady state estimation functions derived from the deterministic ODE versions of the stochastic SBMs are no longer included in this script, as we are no longer initiating SBMs at steady state before starting simulations.\n",
    "'''\n",
    "\n",
    "DictOfTensors = Dict[str, torch.Tensor]\n",
    "Number = Union[int, float]\n",
    "TupleOfTensors = Tuple[torch.Tensor, torch.Tensor]"
   ]
  },
  {
   "cell_type": "code",
   "execution_count": 3,
   "id": "c61f9278",
   "metadata": {},
   "outputs": [
    {
     "name": "stdout",
     "output_type": "stream",
     "text": [
      "cuda device available?:  False\n"
     ]
    }
   ],
   "source": [
    "#PyTorch settings\n",
    "torch.manual_seed(0)\n",
    "print('cuda device available?: ', torch.cuda.is_available())\n",
    "active_device = torch.device('cuda' if torch.cuda.is_available() else 'cpu')\n",
    "if torch.cuda.is_available():\n",
    "    torch.set_default_tensor_type('torch.cuda.FloatTensor')\n",
    "torch.set_printoptions(precision = 8)"
   ]
  },
  {
   "cell_type": "code",
   "execution_count": 4,
   "id": "eec1d149",
   "metadata": {},
   "outputs": [],
   "source": [
    "#Neural SDE parameters\n",
    "dt_flow = 1.0 #Increased from 0.1 to reduce memory.\n",
    "t = 1000 #In hours.\n",
    "n = int(t / dt_flow) + 1\n",
    "t_span = np.linspace(0, t, n)\n",
    "t_span_tensor = torch.reshape(torch.Tensor(t_span), [1, n, 1]).to(active_device) #T_span needs to be converted to tensor object. Additionally, facilitates conversion of I_S and I_D to tensor objects.\n",
    "state_dim_SCON = 3 #Not including CO2 in STATE_DIM, because CO2 is an observation.\n",
    "state_dim_SAWB = 4 #Not including CO2 in STATE_DIM, because CO2 is an observation.\n",
    "state_dim_SAWB_ECA = 4\n",
    "\n",
    "#Training parameters\n",
    "niter = 1000\n",
    "batch_size = 5\n",
    "num_sequences = 10\n",
    "prior_scale_factor = 0.333 #Proportion of prior standard deviation to prior means.\n",
    "\n",
    "#Specify desired SBM SDE model type and details.\n",
    "theta_dist = TruncatedNormal #String needs to be exact name of the distribution class. Options are 'TruncatedNormal' and 'RescaledLogitNormal'.\n",
    "\n",
    "#SBM temperature forcing parameters\n",
    "temp_ref = 283.\n",
    "temp_rise = 5. #High estimate of 5 celsius temperature rise by 2100."
   ]
  },
  {
   "cell_type": "code",
   "execution_count": 5,
   "id": "3d038482",
   "metadata": {},
   "outputs": [],
   "source": [
    "#Generate exogenous input vectors.\n",
    "#Obtain temperature forcing function.\n",
    "temp_tensor = temp_gen(t_span_tensor, temp_ref, temp_rise).to(active_device)\n",
    "\n",
    "#Obtain SOC and DOC pool litter input vectors for use in flow SDE functions.\n",
    "i_s_tensor = i_s(t_span_tensor).to(active_device) #Exogenous SOC input function\n",
    "i_d_tensor = i_d(t_span_tensor).to(active_device) #Exogenous DOC input function"
   ]
  },
  {
   "cell_type": "markdown",
   "id": "ee94a31e",
   "metadata": {},
   "source": [
    "## Generate dummy $\\theta$ and $x$"
   ]
  },
  {
   "cell_type": "code",
   "execution_count": 6,
   "id": "ea0e8e29",
   "metadata": {},
   "outputs": [],
   "source": [
    "#SCON drift parameters\n",
    "u_M_mean = 0.0016\n",
    "a_SD_mean = 0.5\n",
    "a_DS_mean = 0.5\n",
    "a_M_mean = 0.5\n",
    "a_MSC_mean = 0.5\n",
    "k_S_ref_mean = 0.0005\n",
    "k_D_ref_mean = 0.0008\n",
    "k_M_ref_mean = 0.0007\n",
    "Ea_S_mean = 55\n",
    "Ea_D_mean = 48\n",
    "Ea_M_mean = 48\n",
    "\n",
    "#SAWB drift parameters\n",
    "u_Q_ref_mean = 0.25\n",
    "Q_mean = 0.001\n",
    "a_MSA_mean = 0.5\n",
    "K_D_mean = 1000\n",
    "K_U_mean = 0.1\n",
    "V_D_ref_mean = 0.38\n",
    "V_U_ref_mean = 0.04\n",
    "Ea_V_D_mean = 55\n",
    "Ea_V_U_mean = 50\n",
    "r_M_mean = 0.002\n",
    "r_E_mean = 0.000024\n",
    "r_L_mean = 0.000015\n",
    "\n",
    "#SAWB-ECA drift parameters\n",
    "K_DE_mean = 1000\n",
    "K_UE_mean = 0.1\n",
    "V_DE_ref_mean = 0.38\n",
    "V_UE_ref_mean = 0.04\n",
    "Ea_V_DE_mean = 55\n",
    "Ea_V_UE_mean = 50\n",
    "\n",
    "#C diffusion parameters\n",
    "c_SOC_mean = 0.5\n",
    "c_DOC_mean = 0.01\n",
    "c_MBC_mean = 0.01\n",
    "c_EEC_mean = 0.001\n",
    "\n",
    "#SS diffusion parameters\n",
    "s_SOC_mean = 0.01\n",
    "s_DOC_mean = 0.01\n",
    "s_MBC_mean = 0.01\n",
    "s_EEC_mean = 0.001\n",
    "\n",
    "#SCON theta truncated normal distribution parameter details in order of mean, sdev, lower, and upper.\n",
    "u_M_details = torch.Tensor([u_M_mean, u_M_mean * prior_scale_factor, 0, 1])\n",
    "a_SD_details = torch.Tensor([a_SD_mean, a_SD_mean * prior_scale_factor, 0, 1])\n",
    "a_DS_details = torch.Tensor([a_DS_mean, a_DS_mean * prior_scale_factor, 0, 1])\n",
    "a_M_details = torch.Tensor([a_M_mean, a_M_mean * prior_scale_factor, 0, 1])\n",
    "a_MSC_details = torch.Tensor([a_MSC_mean, a_MSC_mean * prior_scale_factor, 0, 1])\n",
    "k_S_ref_details = torch.Tensor([k_S_ref_mean, k_S_ref_mean * prior_scale_factor, 0, 1])\n",
    "k_D_ref_details = torch.Tensor([k_D_ref_mean, k_D_ref_mean * prior_scale_factor, 0, 1])\n",
    "k_M_ref_details = torch.Tensor([k_M_ref_mean, k_M_ref_mean * prior_scale_factor, 0, 1])\n",
    "Ea_S_details = torch.Tensor([Ea_S_mean, Ea_S_mean * prior_scale_factor, 10, 100])\n",
    "Ea_D_details = torch.Tensor([Ea_D_mean, Ea_D_mean * prior_scale_factor, 10, 100])\n",
    "Ea_M_details = torch.Tensor([Ea_M_mean, Ea_M_mean * prior_scale_factor, 10, 100])\n",
    "\n",
    "#SAWB theta truncated normal distribution parameter details in order of mean, sdev, lower, and upper.\n",
    "u_Q_ref_details = torch.Tensor([u_Q_ref_mean, u_Q_ref_mean * prior_scale_factor, 0, 1])\n",
    "Q_details = torch.Tensor([Q_mean, Q_mean * prior_scale_factor, 0, 1])\n",
    "a_MSA_details = torch.Tensor([a_MSA_mean, a_MSA_mean * prior_scale_factor, 0, 1])\n",
    "K_D_details = torch.Tensor([K_D_mean, K_D_mean * prior_scale_factor, 0, 10000])\n",
    "K_U_details = torch.Tensor([K_U_mean, K_U_mean * prior_scale_factor, 0, 1])\n",
    "V_D_ref_details = torch.Tensor([V_D_ref_mean, V_D_ref_mean * prior_scale_factor, 0, 5])\n",
    "V_U_ref_details = torch.Tensor([V_U_ref_mean, V_U_ref_mean * prior_scale_factor, 0, 1])\n",
    "Ea_V_D_details = torch.Tensor([Ea_V_D_mean, Ea_V_D_mean * prior_scale_factor, 10, 150])\n",
    "Ea_V_U_details = torch.Tensor([Ea_V_U_mean, Ea_V_U_mean * prior_scale_factor, 10, 150])\n",
    "r_M_details = torch.Tensor([r_M_mean, r_M_mean * prior_scale_factor, 0, 1])\n",
    "r_E_details = torch.Tensor([r_E_mean, r_E_mean * prior_scale_factor, 0, 1])\n",
    "r_L_details = torch.Tensor([r_L_mean, r_L_mean * prior_scale_factor, 0, 1])\n",
    "\n",
    "#SAWB-ECA theta truncated normal distribution parameter details in order of mean, sdev, lower, and upper.\n",
    "K_DE_details = torch.Tensor([K_DE_mean, K_DE_mean * prior_scale_factor, 0, 10000])\n",
    "K_UE_details = torch.Tensor([K_UE_mean, K_UE_mean * prior_scale_factor, 0, 1])\n",
    "V_DE_ref_details = torch.Tensor([V_DE_ref_mean, V_DE_ref_mean * prior_scale_factor, 0, 5])\n",
    "V_UE_ref_details = torch.Tensor([V_UE_ref_mean, V_UE_ref_mean * prior_scale_factor, 0, 1])\n",
    "Ea_V_DE_details = torch.Tensor([Ea_V_DE_mean, Ea_V_DE_mean * prior_scale_factor, 10, 150])\n",
    "Ea_V_UE_details = torch.Tensor([Ea_V_UE_mean, Ea_V_UE_mean * prior_scale_factor, 10, 150])\n",
    "\n",
    "#C diffusion matrix parameter distribution details\n",
    "c_SOC_details = torch.Tensor([c_SOC_mean, c_SOC_mean * prior_scale_factor, 0, 1])\n",
    "c_DOC_details = torch.Tensor([c_DOC_mean, c_DOC_mean * prior_scale_factor, 0, 1])\n",
    "c_MBC_details = torch.Tensor([c_MBC_mean, c_MBC_mean * prior_scale_factor, 0, 1])\n",
    "c_EEC_details = torch.Tensor([c_EEC_mean, c_EEC_mean * prior_scale_factor, 0, 1])\n",
    "\n",
    "#SS diffusion matrix parameter distribution details\n",
    "s_SOC_details = torch.Tensor([s_SOC_mean, s_SOC_mean * prior_scale_factor, 0, 1])\n",
    "s_DOC_details = torch.Tensor([s_DOC_mean, s_DOC_mean * prior_scale_factor, 0, 1])\n",
    "s_MBC_details = torch.Tensor([s_MBC_mean, s_MBC_mean * prior_scale_factor, 0, 1])\n",
    "s_EEC_details = torch.Tensor([s_EEC_mean, s_EEC_mean * prior_scale_factor, 0, 1])\n",
    "\n",
    "theta_hyperparams = {'u_M': u_M_details, 'a_SD': a_SD_details, 'a_DS': a_DS_details, 'a_M': a_M_details, 'a_MSC': a_MSC_details, 'k_S_ref': k_S_ref_details, 'k_D_ref': k_D_ref_details, 'k_M_ref': k_M_ref_details, 'Ea_S': Ea_S_details, 'Ea_D': Ea_D_details, 'Ea_M': Ea_M_details,\n",
    "                     'u_Q_ref': u_Q_ref_details, 'Q': Q_details, 'a_MSA': a_MSA_details, 'K_D': K_DE_details, 'K_U': K_UE_details, 'V_D_ref': V_DE_ref_details, 'V_U_ref': V_UE_ref_details, 'Ea_V_D': Ea_V_DE_details, 'Ea_V_U': Ea_V_UE_details, 'r_M': r_M_details, 'r_E': r_E_details, 'r_L': r_L_details,\n",
    "                     'K_DE': K_DE_details, 'K_UE': K_UE_details, 'V_DE_ref': V_DE_ref_details, 'V_UE_ref': V_UE_ref_details, 'Ea_V_DE': Ea_V_DE_details, 'Ea_V_UE': Ea_V_UE_details, \n",
    "                     'c_SOC': s_SOC_details, 'c_DOC': s_DOC_details, 'c_MBC': s_MBC_details, 'c_EEC': c_EEC_details, 's_SOC': s_SOC_details, 's_DOC': s_DOC_details, 's_MBC': s_MBC_details, 's_EEC': s_EEC_details}\n",
    "theta_samples = {k: theta_dist(loc=loc, scale=scale, a=a, b=b).sample((batch_size, )) for k, (loc, scale, a, b) in theta_hyperparams.items()}"
   ]
  },
  {
   "cell_type": "code",
   "execution_count": 7,
   "id": "1690050f",
   "metadata": {},
   "outputs": [
    {
     "data": {
      "text/plain": [
       "(torch.Size([5, 1001, 3]), torch.Size([5, 1001, 4]))"
      ]
     },
     "execution_count": 7,
     "metadata": {},
     "output_type": "execute_result"
    }
   ],
   "source": [
    "SOC = D.normal.Normal(loc=torch.linspace(45, 20, n), scale=1.0).sample((batch_size, ))\n",
    "DOC = D.normal.Normal(loc=torch.linspace(1, 5, n), scale=0.1).sample((batch_size, ))\n",
    "MBC = D.normal.Normal(loc=torch.linspace(1, 5, n), scale=0.1).sample((batch_size, ))\n",
    "EEC = D.normal.Normal(loc=torch.linspace(0.01, 0.02, n), scale=0.001).sample((batch_size, ))\n",
    "x = torch.stack((SOC, DOC, MBC), -1)\n",
    "x1 = torch.stack((SOC, DOC, MBC, EEC), -1)\n",
    "x.shape, x1.shape"
   ]
  },
  {
   "cell_type": "code",
   "execution_count": 8,
   "id": "7585408e",
   "metadata": {},
   "outputs": [
    {
     "data": {
      "text/plain": [
       "(torch.Size([5, 10, 1001, 3]), torch.Size([5, 10, 1001, 4]))"
      ]
     },
     "execution_count": 8,
     "metadata": {},
     "output_type": "execute_result"
    }
   ],
   "source": [
    "x_multi = x.unsqueeze(1) * torch.ones((batch_size, num_sequences, n, state_dim_SCON))\n",
    "x_multi1 = x1.unsqueeze(1) * torch.ones((batch_size, num_sequences, n, state_dim_SAWB))\n",
    "x_multi.shape, x_multi1.shape"
   ]
  },
  {
   "cell_type": "code",
   "execution_count": 9,
   "id": "081e1a32",
   "metadata": {},
   "outputs": [],
   "source": [
    "def test_time(f, x=x):\n",
    "    t0 = time.time()\n",
    "    for i in range(niter):\n",
    "        f(x, theta_samples)\n",
    "    t = time.time() - t0\n",
    "    print('Total time: {}, time/iter: {}'.format(t, t/niter))"
   ]
  },
  {
   "cell_type": "markdown",
   "id": "7ec68179",
   "metadata": {},
   "source": [
    "## SCON-C"
   ]
  },
  {
   "cell_type": "code",
   "execution_count": 24,
   "id": "441d1259",
   "metadata": {},
   "outputs": [],
   "source": [
    "diffusion_type = 'C'\n",
    "SCON_C_test_optim = SCON_optim(t_span_tensor, i_s_tensor, i_d_tensor, temp_tensor, temp_ref, diffusion_type)\n",
    "SCON_C_test = SCON(t_span_tensor, i_s_tensor, i_d_tensor, temp_tensor, temp_ref, diffusion_type)\n",
    "SCON_C_test_multi = SCON_multi(t_span_tensor, i_s_tensor, i_d_tensor, temp_tensor, temp_ref, diffusion_type)\n",
    "SCON_C_test_multi1 = SCON_multi_optim(t_span_tensor, i_s_tensor, i_d_tensor, temp_tensor, temp_ref, diffusion_type)"
   ]
  },
  {
   "cell_type": "markdown",
   "id": "b7e1ebb6",
   "metadata": {},
   "source": [
    "### `drift_diffusion`"
   ]
  },
  {
   "cell_type": "code",
   "execution_count": null,
   "id": "dbb065ab",
   "metadata": {},
   "outputs": [],
   "source": [
    "drift_optim, diffusion_optim = SCON_C_test_optim.drift_diffusion(x, theta_samples)\n",
    "drift, diffusion = SCON_C_test.drift_diffusion(x, theta_samples)"
   ]
  },
  {
   "cell_type": "code",
   "execution_count": null,
   "id": "3643bcfe",
   "metadata": {},
   "outputs": [],
   "source": [
    "diffusion_optim.shape == (batch_size, 1, state_dim_SCON, state_dim_SCON)"
   ]
  },
  {
   "cell_type": "code",
   "execution_count": null,
   "id": "843a0e0b",
   "metadata": {},
   "outputs": [],
   "source": [
    "torch.all(drift_optim == drift), torch.all(diffusion_optim == diffusion)"
   ]
  },
  {
   "cell_type": "code",
   "execution_count": null,
   "id": "7d270399",
   "metadata": {},
   "outputs": [],
   "source": [
    "test_time(SCON_C_test_optim.drift_diffusion)\n",
    "test_time(SCON_C_test.drift_diffusion)"
   ]
  },
  {
   "cell_type": "markdown",
   "id": "20b31346",
   "metadata": {},
   "source": [
    "### `drift_diffusion_multi`"
   ]
  },
  {
   "cell_type": "code",
   "execution_count": 25,
   "id": "b19a0105",
   "metadata": {},
   "outputs": [],
   "source": [
    "drift_multi_optim, diffusion_multi_optim = SCON_C_test_optim.drift_diffusion_multi(x_multi, theta_samples)\n",
    "drift_multi, diffusion_multi = SCON_C_test_multi.drift_diffusion(x_multi, theta_samples)\n",
    "drift_multi1, diffusion_multi1 = SCON_C_test_multi1.drift_diffusion(x_multi, theta_samples)"
   ]
  },
  {
   "cell_type": "code",
   "execution_count": null,
   "id": "53145e1f",
   "metadata": {},
   "outputs": [],
   "source": [
    "torch.all(drift_multi_optim == drift_multi), torch.all(diffusion_multi_optim == diffusion_multi)"
   ]
  },
  {
   "cell_type": "code",
   "execution_count": 26,
   "id": "06a2d191",
   "metadata": {},
   "outputs": [
    {
     "data": {
      "text/plain": [
       "(tensor(True), tensor(True))"
      ]
     },
     "execution_count": 26,
     "metadata": {},
     "output_type": "execute_result"
    }
   ],
   "source": [
    "torch.all(drift_multi_optim == drift_multi1), torch.all(diffusion_multi_optim == diffusion_multi1)"
   ]
  },
  {
   "cell_type": "code",
   "execution_count": null,
   "id": "90fa7e41",
   "metadata": {},
   "outputs": [],
   "source": [
    "torch.all(drift_multi_optim == drift_optim.unsqueeze(1)), torch.all(diffusion_multi_optim == diffusion_optim.unsqueeze(1))"
   ]
  },
  {
   "cell_type": "code",
   "execution_count": null,
   "id": "8d52b22b",
   "metadata": {},
   "outputs": [],
   "source": [
    "test_time(SCON_C_test_optim.drift_diffusion_multi, x_multi)\n",
    "test_time(SCON_C_test_multi.drift_diffusion, x_multi)\n",
    "test_time(SCON_C_test_multi_optim.drift_diffusion, x_multi)"
   ]
  },
  {
   "cell_type": "markdown",
   "id": "9b099317",
   "metadata": {},
   "source": [
    "### `drift_diffusion_add_CO2`"
   ]
  },
  {
   "cell_type": "code",
   "execution_count": null,
   "id": "ec03dae0",
   "metadata": {},
   "outputs": [],
   "source": [
    "drift_optim_alt, diffusion_optim_alt, x_add_CO2_optim_alt = SCON_C_test_optim.drift_diffusion_add_CO2(x, theta_samples)\n",
    "drift_alt, diffusion_alt, x_add_CO2_alt = SCON_C_test.drift_diffusion_add_CO2(x, theta_samples)"
   ]
  },
  {
   "cell_type": "code",
   "execution_count": null,
   "id": "c8d2ff23",
   "metadata": {},
   "outputs": [],
   "source": [
    "torch.all(drift_optim_alt == drift_alt), torch.all(diffusion_optim_alt == diffusion_alt), torch.all(x_add_CO2_optim_alt == x_add_CO2_alt)"
   ]
  },
  {
   "cell_type": "code",
   "execution_count": null,
   "id": "3cad7ff7",
   "metadata": {},
   "outputs": [],
   "source": [
    "torch.all(drift_optim_alt == drift_optim), torch.all(diffusion_optim_alt == diffusion_optim)"
   ]
  },
  {
   "cell_type": "code",
   "execution_count": null,
   "id": "c25c1618",
   "metadata": {},
   "outputs": [],
   "source": [
    "test_time(SCON_C_test_optim.drift_diffusion_add_CO2)\n",
    "test_time(SCON_C_test.drift_diffusion_add_CO2)"
   ]
  },
  {
   "cell_type": "markdown",
   "id": "2df7364a",
   "metadata": {},
   "source": [
    "### `add_CO2`"
   ]
  },
  {
   "cell_type": "code",
   "execution_count": null,
   "id": "f9049278",
   "metadata": {},
   "outputs": [],
   "source": [
    "x_add_CO2_optim = SCON_C_test_optim.add_CO2(x, theta_samples)\n",
    "x_add_CO2 = SCON_C_test.add_CO2(x, theta_samples)"
   ]
  },
  {
   "cell_type": "code",
   "execution_count": null,
   "id": "b1142e19",
   "metadata": {},
   "outputs": [],
   "source": [
    "torch.all(x_add_CO2_optim == x_add_CO2)"
   ]
  },
  {
   "cell_type": "code",
   "execution_count": null,
   "id": "c85a731a",
   "metadata": {},
   "outputs": [],
   "source": [
    "torch.all(x_add_CO2_optim_alt == x_add_CO2_optim)"
   ]
  },
  {
   "cell_type": "code",
   "execution_count": null,
   "id": "12093fc8",
   "metadata": {
    "scrolled": true
   },
   "outputs": [],
   "source": [
    "test_time(SCON_C_test_optim.add_CO2)\n",
    "test_time(SCON_C_test.add_CO2)"
   ]
  },
  {
   "cell_type": "markdown",
   "id": "841d271e",
   "metadata": {},
   "source": [
    "## SCON-SS"
   ]
  },
  {
   "cell_type": "code",
   "execution_count": null,
   "id": "ae2c026b",
   "metadata": {},
   "outputs": [],
   "source": [
    "diffusion_type = 'SS'\n",
    "SCON_SS_test_optim = SCON_optim(t_span_tensor, i_s_tensor, i_d_tensor, temp_tensor, temp_ref, diffusion_type)\n",
    "SCON_SS_test = SCON(t_span_tensor, i_s_tensor, i_d_tensor, temp_tensor, temp_ref, diffusion_type)\n",
    "SCON_SS_test_multi = SCON_multi(t_span_tensor, i_s_tensor, i_d_tensor, temp_tensor, temp_ref, diffusion_type)\n",
    "SCON_SS_test_multi1 = SCON_multi_optim(t_span_tensor, i_s_tensor, i_d_tensor, temp_tensor, temp_ref, diffusion_type)"
   ]
  },
  {
   "cell_type": "markdown",
   "id": "eaa68c31",
   "metadata": {},
   "source": [
    "### `drift_diffusion`"
   ]
  },
  {
   "cell_type": "code",
   "execution_count": null,
   "id": "996b0e99",
   "metadata": {},
   "outputs": [],
   "source": [
    "drift_optim, diffusion_optim = SCON_SS_test_optim.drift_diffusion(x, theta_samples)\n",
    "drift, diffusion = SCON_SS_test.drift_diffusion(x, theta_samples)"
   ]
  },
  {
   "cell_type": "code",
   "execution_count": null,
   "id": "900ea139",
   "metadata": {},
   "outputs": [],
   "source": [
    "diffusion_optim.shape == (batch_size, n - 1, state_dim_SCON, state_dim_SCON)"
   ]
  },
  {
   "cell_type": "code",
   "execution_count": null,
   "id": "2b3c6c0f",
   "metadata": {},
   "outputs": [],
   "source": [
    "torch.all(drift_optim == drift), torch.all(diffusion_optim == diffusion)"
   ]
  },
  {
   "cell_type": "code",
   "execution_count": null,
   "id": "71a2773a",
   "metadata": {},
   "outputs": [],
   "source": [
    "test_time(SCON_SS_test_optim.drift_diffusion)\n",
    "test_time(SCON_SS_test.drift_diffusion)"
   ]
  },
  {
   "cell_type": "markdown",
   "id": "0f81fbf5",
   "metadata": {},
   "source": [
    "### `drift_diffusion_multi`"
   ]
  },
  {
   "cell_type": "code",
   "execution_count": null,
   "id": "30d1e7e5",
   "metadata": {},
   "outputs": [],
   "source": [
    "drift_multi_optim, diffusion_multi_optim = SCON_SS_test_optim.drift_diffusion_multi(x_multi, theta_samples)\n",
    "drift_multi, diffusion_multi = SCON_SS_test_multi.drift_diffusion(x_multi, theta_samples)\n",
    "drift_multi1, diffusion_multi1 = SCON_SS_test_multi1.drift_diffusion(x_multi, theta_samples)"
   ]
  },
  {
   "cell_type": "code",
   "execution_count": null,
   "id": "3b13d2f5",
   "metadata": {},
   "outputs": [],
   "source": [
    "torch.all(drift_multi_optim == drift_multi), torch.all(diffusion_multi_optim == diffusion_multi)"
   ]
  },
  {
   "cell_type": "code",
   "execution_count": null,
   "id": "30621c8e",
   "metadata": {},
   "outputs": [],
   "source": [
    "torch.all(drift_multi_optim == drift_multi1), torch.all(diffusion_multi_optim == diffusion_multi1)"
   ]
  },
  {
   "cell_type": "code",
   "execution_count": null,
   "id": "60753cf0",
   "metadata": {},
   "outputs": [],
   "source": [
    "torch.all(drift_multi_optim == drift_optim.unsqueeze(1)), torch.all(diffusion_multi_optim == diffusion_optim.unsqueeze(1))"
   ]
  },
  {
   "cell_type": "code",
   "execution_count": null,
   "id": "222879a0",
   "metadata": {},
   "outputs": [],
   "source": [
    "test_time(SCON_SS_test_optim.drift_diffusion_multi, x_multi)\n",
    "test_time(SCON_SS_test_multi.drift_diffusion, x_multi)\n",
    "test_time(SCON_SS_test_multi1.drift_diffusion, x_multi)"
   ]
  },
  {
   "cell_type": "markdown",
   "id": "df09c33c",
   "metadata": {},
   "source": [
    "### `drift_diffusion_add_CO2`"
   ]
  },
  {
   "cell_type": "code",
   "execution_count": null,
   "id": "f18f8e57",
   "metadata": {},
   "outputs": [],
   "source": [
    "drift_optim_alt, diffusion_optim_alt, x_add_CO2_optim_alt = SCON_SS_test_optim.drift_diffusion_add_CO2(x, theta_samples)\n",
    "drift_alt, diffusion_alt, x_add_CO2_alt = SCON_SS_test.drift_diffusion_add_CO2(x, theta_samples)"
   ]
  },
  {
   "cell_type": "code",
   "execution_count": null,
   "id": "7fff96d3",
   "metadata": {},
   "outputs": [],
   "source": [
    "torch.all(drift_optim_alt == drift_alt), torch.all(diffusion_optim_alt == diffusion_alt), torch.all(x_add_CO2_optim_alt == x_add_CO2_alt)"
   ]
  },
  {
   "cell_type": "code",
   "execution_count": null,
   "id": "a241da95",
   "metadata": {},
   "outputs": [],
   "source": [
    "torch.all(drift_optim_alt == drift_optim), torch.all(diffusion_optim_alt == diffusion_optim)"
   ]
  },
  {
   "cell_type": "code",
   "execution_count": null,
   "id": "844b398a",
   "metadata": {},
   "outputs": [],
   "source": [
    "test_time(SCON_SS_test_optim.drift_diffusion_add_CO2)\n",
    "test_time(SCON_SS_test.drift_diffusion_add_CO2)"
   ]
  },
  {
   "cell_type": "markdown",
   "id": "b84f9123",
   "metadata": {},
   "source": [
    "### `add_CO2`"
   ]
  },
  {
   "cell_type": "code",
   "execution_count": null,
   "id": "d54231c5",
   "metadata": {},
   "outputs": [],
   "source": [
    "x_add_CO2_optim = SCON_SS_test_optim.add_CO2(x, theta_samples)\n",
    "x_add_CO2 = SCON_SS_test.add_CO2(x, theta_samples)"
   ]
  },
  {
   "cell_type": "code",
   "execution_count": null,
   "id": "e7b3ed40",
   "metadata": {},
   "outputs": [],
   "source": [
    "torch.all(x_add_CO2_optim == x_add_CO2)"
   ]
  },
  {
   "cell_type": "code",
   "execution_count": null,
   "id": "ab7fecbb",
   "metadata": {},
   "outputs": [],
   "source": [
    "torch.all(x_add_CO2_optim_alt == x_add_CO2_optim)"
   ]
  },
  {
   "cell_type": "code",
   "execution_count": null,
   "id": "e9c17b2c",
   "metadata": {
    "scrolled": true
   },
   "outputs": [],
   "source": [
    "test_time(SCON_SS_test_optim.add_CO2)\n",
    "test_time(SCON_SS_test.add_CO2)"
   ]
  },
  {
   "cell_type": "markdown",
   "id": "1d68f745",
   "metadata": {},
   "source": [
    "## SAWB-C"
   ]
  },
  {
   "cell_type": "code",
   "execution_count": null,
   "id": "788a6dbd",
   "metadata": {},
   "outputs": [],
   "source": [
    "diffusion_type = 'C'\n",
    "SAWB_C_test_optim = SAWB_optim(t_span_tensor, i_s_tensor, i_d_tensor, temp_tensor, temp_ref, diffusion_type)\n",
    "SAWB_C_test = SAWB(t_span_tensor, i_s_tensor, i_d_tensor, temp_tensor, temp_ref, diffusion_type)\n",
    "SAWB_C_test_multi = SAWB_multi(t_span_tensor, i_s_tensor, i_d_tensor, temp_tensor, temp_ref, diffusion_type)\n",
    "SAWB_C_test_multi1 = SAWB_multi_optim(t_span_tensor, i_s_tensor, i_d_tensor, temp_tensor, temp_ref, diffusion_type)"
   ]
  },
  {
   "cell_type": "markdown",
   "id": "e68cfb67",
   "metadata": {},
   "source": [
    "### `drift_diffusion`"
   ]
  },
  {
   "cell_type": "code",
   "execution_count": null,
   "id": "94365b97",
   "metadata": {},
   "outputs": [],
   "source": [
    "drift_optim, diffusion_optim = SAWB_C_test_optim.drift_diffusion(x1, theta_samples)\n",
    "drift, diffusion = SAWB_C_test.drift_diffusion(x1, theta_samples)"
   ]
  },
  {
   "cell_type": "code",
   "execution_count": null,
   "id": "403e6db9",
   "metadata": {},
   "outputs": [],
   "source": [
    "drift_optim.shape == (batch_size, n - 1, state_dim_SAWB), diffusion_optim.shape == (batch_size, 1, state_dim_SAWB, state_dim_SAWB)"
   ]
  },
  {
   "cell_type": "code",
   "execution_count": null,
   "id": "4af7d543",
   "metadata": {},
   "outputs": [],
   "source": [
    "torch.all(drift_optim == drift), torch.all(diffusion_optim == diffusion)"
   ]
  },
  {
   "cell_type": "code",
   "execution_count": null,
   "id": "0da56f01",
   "metadata": {},
   "outputs": [],
   "source": [
    "test_time(SAWB_C_test_optim.drift_diffusion, x1)\n",
    "test_time(SAWB_C_test.drift_diffusion, x1)"
   ]
  },
  {
   "cell_type": "markdown",
   "id": "942d8c7c",
   "metadata": {},
   "source": [
    "### `drift_diffusion_multi`"
   ]
  },
  {
   "cell_type": "code",
   "execution_count": null,
   "id": "d9923e71",
   "metadata": {},
   "outputs": [],
   "source": [
    "drift_multi_optim, diffusion_multi_optim = SAWB_C_test_optim.drift_diffusion_multi(x_multi1, theta_samples)\n",
    "drift_multi, diffusion_multi = SAWB_C_test_multi.drift_diffusion(x_multi1, theta_samples)\n",
    "drift_multi1, diffusion_multi1 = SAWB_C_test_multi1.drift_diffusion(x_multi1, theta_samples)"
   ]
  },
  {
   "cell_type": "code",
   "execution_count": null,
   "id": "0ca17c1b",
   "metadata": {},
   "outputs": [],
   "source": [
    "torch.all(drift_multi_optim == drift_multi), torch.all(diffusion_multi_optim == diffusion_multi)"
   ]
  },
  {
   "cell_type": "code",
   "execution_count": null,
   "id": "b73eacff",
   "metadata": {},
   "outputs": [],
   "source": [
    "torch.all(drift_multi_optim == drift_multi1), torch.all(diffusion_multi_optim == diffusion_multi1)"
   ]
  },
  {
   "cell_type": "code",
   "execution_count": null,
   "id": "7df798c7",
   "metadata": {},
   "outputs": [],
   "source": [
    "torch.all(drift_multi_optim == drift_optim.unsqueeze(1)), torch.all(diffusion_multi_optim == diffusion_optim.unsqueeze(1))"
   ]
  },
  {
   "cell_type": "code",
   "execution_count": null,
   "id": "6db8d152",
   "metadata": {},
   "outputs": [],
   "source": [
    "test_time(SAWB_C_test_optim.drift_diffusion_multi, x_multi1)\n",
    "test_time(SAWB_C_test_multi.drift_diffusion, x_multi1)\n",
    "test_time(SAWB_C_test_multi1.drift_diffusion, x_multi1)"
   ]
  },
  {
   "cell_type": "markdown",
   "id": "1cd8c3e1",
   "metadata": {},
   "source": [
    "### `drift_diffusion_add_CO2`"
   ]
  },
  {
   "cell_type": "code",
   "execution_count": null,
   "id": "32134d6d",
   "metadata": {},
   "outputs": [],
   "source": [
    "drift_optim_alt, diffusion_optim_alt, x_add_CO2_optim_alt = SAWB_C_test_optim.drift_diffusion_add_CO2(x1, theta_samples)\n",
    "drift_alt, diffusion_alt, x_add_CO2_alt = SAWB_C_test.drift_diffusion_add_CO2(x1, theta_samples)"
   ]
  },
  {
   "cell_type": "code",
   "execution_count": null,
   "id": "9d9309ee",
   "metadata": {},
   "outputs": [],
   "source": [
    "torch.all(drift_optim_alt == drift_alt), torch.all(diffusion_optim_alt == diffusion_alt), torch.all(x_add_CO2_optim_alt == x_add_CO2_alt)"
   ]
  },
  {
   "cell_type": "code",
   "execution_count": null,
   "id": "df0a9aba",
   "metadata": {},
   "outputs": [],
   "source": [
    "torch.all(drift_optim_alt == drift_optim), torch.all(diffusion_optim_alt == diffusion_optim)"
   ]
  },
  {
   "cell_type": "code",
   "execution_count": null,
   "id": "f39c749a",
   "metadata": {},
   "outputs": [],
   "source": [
    "test_time(SAWB_C_test_optim.drift_diffusion_add_CO2, x1)\n",
    "test_time(SAWB_C_test.drift_diffusion_add_CO2, x1)"
   ]
  },
  {
   "cell_type": "markdown",
   "id": "e1ee54e1",
   "metadata": {},
   "source": [
    "### `add_CO2`"
   ]
  },
  {
   "cell_type": "code",
   "execution_count": null,
   "id": "fe67e79b",
   "metadata": {},
   "outputs": [],
   "source": [
    "x_add_CO2_optim = SAWB_C_test_optim.add_CO2(x1, theta_samples)\n",
    "x_add_CO2 = SAWB_C_test.add_CO2(x1, theta_samples)"
   ]
  },
  {
   "cell_type": "code",
   "execution_count": null,
   "id": "2a265f28",
   "metadata": {},
   "outputs": [],
   "source": [
    "torch.all(x_add_CO2_optim == x_add_CO2)"
   ]
  },
  {
   "cell_type": "code",
   "execution_count": null,
   "id": "8bf222ac",
   "metadata": {},
   "outputs": [],
   "source": [
    "torch.all(x_add_CO2_optim_alt == x_add_CO2_optim)"
   ]
  },
  {
   "cell_type": "code",
   "execution_count": null,
   "id": "17ab9a8d",
   "metadata": {
    "scrolled": false
   },
   "outputs": [],
   "source": [
    "test_time(SAWB_C_test_optim.add_CO2, x1)\n",
    "test_time(SAWB_C_test.add_CO2, x1)"
   ]
  },
  {
   "cell_type": "markdown",
   "id": "4106a07d",
   "metadata": {},
   "source": [
    "## SAWB-SS"
   ]
  },
  {
   "cell_type": "code",
   "execution_count": null,
   "id": "0dbdda04",
   "metadata": {},
   "outputs": [],
   "source": [
    "diffusion_type = 'SS'\n",
    "SAWB_SS_test_optim = SAWB_optim(t_span_tensor, i_s_tensor, i_d_tensor, temp_tensor, temp_ref, diffusion_type)\n",
    "SAWB_SS_test = SAWB(t_span_tensor, i_s_tensor, i_d_tensor, temp_tensor, temp_ref, diffusion_type)\n",
    "SAWB_SS_test_multi = SAWB_multi(t_span_tensor, i_s_tensor, i_d_tensor, temp_tensor, temp_ref, diffusion_type)\n",
    "SAWB_SS_test_multi1 = SAWB_multi_optim(t_span_tensor, i_s_tensor, i_d_tensor, temp_tensor, temp_ref, diffusion_type)"
   ]
  },
  {
   "cell_type": "markdown",
   "id": "0150a42a",
   "metadata": {},
   "source": [
    "### `drift_diffusion`"
   ]
  },
  {
   "cell_type": "code",
   "execution_count": null,
   "id": "12f35be5",
   "metadata": {},
   "outputs": [],
   "source": [
    "drift_optim, diffusion_optim = SAWB_SS_test_optim.drift_diffusion(x1, theta_samples)\n",
    "drift, diffusion = SAWB_SS_test.drift_diffusion(x1, theta_samples)"
   ]
  },
  {
   "cell_type": "code",
   "execution_count": null,
   "id": "aebf5cc5",
   "metadata": {},
   "outputs": [],
   "source": [
    "drift_optim.shape == (batch_size, n - 1, state_dim_SAWB), diffusion_optim.shape == (batch_size, n - 1, state_dim_SAWB, state_dim_SAWB)"
   ]
  },
  {
   "cell_type": "code",
   "execution_count": null,
   "id": "a8d8e42b",
   "metadata": {},
   "outputs": [],
   "source": [
    "torch.all(drift_optim == drift), torch.all(diffusion_optim == diffusion)"
   ]
  },
  {
   "cell_type": "code",
   "execution_count": null,
   "id": "e41e5e32",
   "metadata": {},
   "outputs": [],
   "source": [
    "test_time(SAWB_SS_test_optim.drift_diffusion, x1)\n",
    "test_time(SAWB_SS_test.drift_diffusion, x1)"
   ]
  },
  {
   "cell_type": "markdown",
   "id": "915faf52",
   "metadata": {},
   "source": [
    "### `drift_diffusion_multi`"
   ]
  },
  {
   "cell_type": "code",
   "execution_count": null,
   "id": "985f9724",
   "metadata": {},
   "outputs": [],
   "source": [
    "drift_multi_optim, diffusion_multi_optim = SAWB_SS_test_optim.drift_diffusion_multi(x_multi1, theta_samples)\n",
    "drift_multi, diffusion_multi = SAWB_SS_test_multi.drift_diffusion(x_multi1, theta_samples)\n",
    "drift_multi1, diffusion_multi1 = SAWB_SS_test_multi1.drift_diffusion(x_multi1, theta_samples)"
   ]
  },
  {
   "cell_type": "code",
   "execution_count": null,
   "id": "e337cf28",
   "metadata": {},
   "outputs": [],
   "source": [
    "torch.all(drift_multi_optim == drift_multi), torch.all(diffusion_multi_optim == diffusion_multi)"
   ]
  },
  {
   "cell_type": "code",
   "execution_count": null,
   "id": "73e69948",
   "metadata": {},
   "outputs": [],
   "source": [
    "torch.all(drift_multi_optim == drift_multi1), torch.all(diffusion_multi_optim == diffusion_multi1)"
   ]
  },
  {
   "cell_type": "code",
   "execution_count": null,
   "id": "77777cdf",
   "metadata": {},
   "outputs": [],
   "source": [
    "torch.all(drift_multi_optim == drift_optim.unsqueeze(1)), torch.all(diffusion_multi_optim == diffusion_optim.unsqueeze(1))"
   ]
  },
  {
   "cell_type": "code",
   "execution_count": null,
   "id": "b674d81d",
   "metadata": {},
   "outputs": [],
   "source": [
    "test_time(SAWB_SS_test_optim.drift_diffusion_multi, x_multi1)\n",
    "test_time(SAWB_SS_test_multi.drift_diffusion, x_multi1)\n",
    "test_time(SAWB_SS_test_multi1.drift_diffusion, x_multi1)"
   ]
  },
  {
   "cell_type": "markdown",
   "id": "6b3bc4f9",
   "metadata": {},
   "source": [
    "### `drift_diffusion_add_CO2`"
   ]
  },
  {
   "cell_type": "code",
   "execution_count": null,
   "id": "7c7c5dc2",
   "metadata": {},
   "outputs": [],
   "source": [
    "drift_optim_alt, diffusion_optim_alt, x_add_CO2_optim_alt = SAWB_SS_test_optim.drift_diffusion_add_CO2(x1, theta_samples)\n",
    "drift_alt, diffusion_alt, x_add_CO2_alt = SAWB_SS_test.drift_diffusion_add_CO2(x1, theta_samples)"
   ]
  },
  {
   "cell_type": "code",
   "execution_count": null,
   "id": "f675436e",
   "metadata": {},
   "outputs": [],
   "source": [
    "torch.all(drift_optim_alt == drift_alt), torch.all(diffusion_optim_alt == diffusion_alt), torch.all(x_add_CO2_optim_alt == x_add_CO2_alt)"
   ]
  },
  {
   "cell_type": "code",
   "execution_count": null,
   "id": "c289d130",
   "metadata": {},
   "outputs": [],
   "source": [
    "torch.all(drift_optim_alt == drift_optim), torch.all(diffusion_optim_alt == diffusion_optim)"
   ]
  },
  {
   "cell_type": "code",
   "execution_count": null,
   "id": "f701a9bb",
   "metadata": {},
   "outputs": [],
   "source": [
    "test_time(SAWB_SS_test_optim.drift_diffusion_add_CO2, x1)\n",
    "test_time(SAWB_SS_test.drift_diffusion_add_CO2, x1)"
   ]
  },
  {
   "cell_type": "markdown",
   "id": "c334788e",
   "metadata": {},
   "source": [
    "### `add_CO2`"
   ]
  },
  {
   "cell_type": "code",
   "execution_count": null,
   "id": "ec7344be",
   "metadata": {},
   "outputs": [],
   "source": [
    "x_add_CO2_optim = SAWB_SS_test_optim.add_CO2(x1, theta_samples)\n",
    "x_add_CO2 = SAWB_SS_test.add_CO2(x1, theta_samples)"
   ]
  },
  {
   "cell_type": "code",
   "execution_count": null,
   "id": "b707b2a5",
   "metadata": {},
   "outputs": [],
   "source": [
    "torch.all(x_add_CO2_optim == x_add_CO2)"
   ]
  },
  {
   "cell_type": "code",
   "execution_count": null,
   "id": "6dedabbc",
   "metadata": {},
   "outputs": [],
   "source": [
    "torch.all(x_add_CO2_optim_alt == x_add_CO2_optim)"
   ]
  },
  {
   "cell_type": "code",
   "execution_count": null,
   "id": "2ed11558",
   "metadata": {
    "scrolled": false
   },
   "outputs": [],
   "source": [
    "test_time(SAWB_SS_test_optim.add_CO2, x1)\n",
    "test_time(SAWB_SS_test.add_CO2, x1)"
   ]
  },
  {
   "cell_type": "markdown",
   "id": "856fffe2",
   "metadata": {},
   "source": [
    "## SAWB-ECA-C"
   ]
  },
  {
   "cell_type": "code",
   "execution_count": 10,
   "id": "a0d0949e",
   "metadata": {},
   "outputs": [],
   "source": [
    "diffusion_type = 'C'\n",
    "SAWB_ECA_C_test_optim = SAWB_ECA_optim(t_span_tensor, i_s_tensor, i_d_tensor, temp_tensor, temp_ref, diffusion_type)\n",
    "SAWB_ECA_C_test = SAWB_ECA(t_span_tensor, i_s_tensor, i_d_tensor, temp_tensor, temp_ref, diffusion_type)\n",
    "SAWB_ECA_C_test_multi = SAWB_ECA_multi(t_span_tensor, i_s_tensor, i_d_tensor, temp_tensor, temp_ref, diffusion_type)\n",
    "SAWB_ECA_C_test_multi1 = SAWB_ECA_multi_optim(t_span_tensor, i_s_tensor, i_d_tensor, temp_tensor, temp_ref, diffusion_type)"
   ]
  },
  {
   "cell_type": "markdown",
   "id": "d31c23ae",
   "metadata": {},
   "source": [
    "### `drift_diffusion`"
   ]
  },
  {
   "cell_type": "code",
   "execution_count": 14,
   "id": "d286cb45",
   "metadata": {},
   "outputs": [],
   "source": [
    "drift_optim, diffusion_optim = SAWB_ECA_C_test_optim.drift_diffusion(x1, theta_samples)\n",
    "drift, diffusion = SAWB_ECA_C_test.drift_diffusion(x1, theta_samples)"
   ]
  },
  {
   "cell_type": "code",
   "execution_count": null,
   "id": "dc4fd323",
   "metadata": {},
   "outputs": [],
   "source": [
    "drift_optim.shape == (batch_size, n-1, state_dim_SAWB), diffusion_optim.shape == (batch_size, 1, state_dim_SAWB, state_dim_SAWB)"
   ]
  },
  {
   "cell_type": "code",
   "execution_count": null,
   "id": "1b127359",
   "metadata": {},
   "outputs": [],
   "source": [
    "torch.all(drift_optim == drift), torch.all(diffusion_optim == diffusion)"
   ]
  },
  {
   "cell_type": "code",
   "execution_count": null,
   "id": "b4d734bc",
   "metadata": {},
   "outputs": [],
   "source": [
    "test_time(SAWB_ECA_C_test_optim.drift_diffusion, x1)\n",
    "test_time(SAWB_ECA_C_test.drift_diffusion, x1)"
   ]
  },
  {
   "cell_type": "markdown",
   "id": "e64d0a6a",
   "metadata": {},
   "source": [
    "### `drift_diffusion_multi`"
   ]
  },
  {
   "cell_type": "code",
   "execution_count": 11,
   "id": "68ad31ed",
   "metadata": {
    "scrolled": false
   },
   "outputs": [],
   "source": [
    "drift_multi_optim, diffusion_multi_optim = SAWB_ECA_C_test_optim.drift_diffusion_multi(x_multi1, theta_samples)\n",
    "drift_multi, diffusion_multi = SAWB_ECA_C_test_multi.drift_diffusion(x_multi1, theta_samples)\n",
    "drift_multi1, diffusion_multi1 = SAWB_ECA_C_test_multi1.drift_diffusion(x_multi1, theta_samples)"
   ]
  },
  {
   "cell_type": "code",
   "execution_count": 12,
   "id": "f1e80ba6",
   "metadata": {},
   "outputs": [
    {
     "data": {
      "text/plain": [
       "(tensor(True), tensor(True))"
      ]
     },
     "execution_count": 12,
     "metadata": {},
     "output_type": "execute_result"
    }
   ],
   "source": [
    "torch.all(drift_multi_optim == drift_multi), torch.all(diffusion_multi_optim == diffusion_multi)"
   ]
  },
  {
   "cell_type": "code",
   "execution_count": 13,
   "id": "204368b5",
   "metadata": {},
   "outputs": [
    {
     "data": {
      "text/plain": [
       "(tensor(True), tensor(True))"
      ]
     },
     "execution_count": 13,
     "metadata": {},
     "output_type": "execute_result"
    }
   ],
   "source": [
    "torch.all(drift_multi_optim == drift_multi1), torch.all(diffusion_multi_optim == diffusion_multi1)"
   ]
  },
  {
   "cell_type": "code",
   "execution_count": 15,
   "id": "fdfc48f7",
   "metadata": {},
   "outputs": [
    {
     "data": {
      "text/plain": [
       "(tensor(True), tensor(True))"
      ]
     },
     "execution_count": 15,
     "metadata": {},
     "output_type": "execute_result"
    }
   ],
   "source": [
    "torch.all(drift_multi_optim == drift_optim.unsqueeze(1)), torch.all(diffusion_multi_optim == diffusion_optim.unsqueeze(1))"
   ]
  },
  {
   "cell_type": "code",
   "execution_count": 16,
   "id": "3549c8f6",
   "metadata": {},
   "outputs": [
    {
     "name": "stdout",
     "output_type": "stream",
     "text": [
      "Total time: 1.9806022644042969, time/iter: 0.0019806022644042968\n",
      "Total time: 3.1617491245269775, time/iter: 0.0031617491245269774\n",
      "Total time: 1.8239428997039795, time/iter: 0.0018239428997039796\n"
     ]
    }
   ],
   "source": [
    "test_time(SAWB_ECA_C_test_optim.drift_diffusion_multi, x_multi1)\n",
    "test_time(SAWB_ECA_C_test_multi.drift_diffusion, x_multi1)\n",
    "test_time(SAWB_ECA_C_test_multi1.drift_diffusion, x_multi1)"
   ]
  },
  {
   "cell_type": "markdown",
   "id": "11c71297",
   "metadata": {},
   "source": [
    "### `drift_diffusion_add_CO2`"
   ]
  },
  {
   "cell_type": "code",
   "execution_count": null,
   "id": "0cf326ca",
   "metadata": {},
   "outputs": [],
   "source": [
    "drift_optim_alt, diffusion_optim_alt, x_add_CO2_optim_alt = SAWB_ECA_C_test_optim.drift_diffusion_add_CO2(x1, theta_samples)\n",
    "drift_alt, diffusion_alt, x_add_CO2_alt = SAWB_ECA_C_test.drift_diffusion_add_CO2(x1, theta_samples)"
   ]
  },
  {
   "cell_type": "code",
   "execution_count": null,
   "id": "fcf6aa76",
   "metadata": {},
   "outputs": [],
   "source": [
    "torch.all(drift_optim_alt == drift_alt), torch.all(diffusion_optim_alt == diffusion_alt), torch.all(x_add_CO2_optim_alt == x_add_CO2_alt)"
   ]
  },
  {
   "cell_type": "code",
   "execution_count": null,
   "id": "28d93c38",
   "metadata": {},
   "outputs": [],
   "source": [
    "torch.all(drift_optim_alt == drift_optim), torch.all(diffusion_optim_alt == diffusion_optim)"
   ]
  },
  {
   "cell_type": "code",
   "execution_count": null,
   "id": "467e3ba8",
   "metadata": {},
   "outputs": [],
   "source": [
    "test_time(SAWB_ECA_C_test_optim.drift_diffusion_add_CO2, x1)\n",
    "test_time(SAWB_ECA_C_test.drift_diffusion_add_CO2, x1)"
   ]
  },
  {
   "cell_type": "markdown",
   "id": "e1300cf2",
   "metadata": {},
   "source": [
    "### `add_CO2`"
   ]
  },
  {
   "cell_type": "code",
   "execution_count": null,
   "id": "96969512",
   "metadata": {},
   "outputs": [],
   "source": [
    "x_add_CO2_optim = SAWB_ECA_C_test_optim.add_CO2(x1, theta_samples)\n",
    "x_add_CO2 = SAWB_ECA_C_test.add_CO2(x1, theta_samples)"
   ]
  },
  {
   "cell_type": "code",
   "execution_count": null,
   "id": "beb03ea7",
   "metadata": {},
   "outputs": [],
   "source": [
    "torch.all(x_add_CO2_optim == x_add_CO2)"
   ]
  },
  {
   "cell_type": "code",
   "execution_count": null,
   "id": "415a247e",
   "metadata": {},
   "outputs": [],
   "source": [
    "torch.all(x_add_CO2_optim_alt == x_add_CO2_optim)"
   ]
  },
  {
   "cell_type": "code",
   "execution_count": null,
   "id": "b775fa13",
   "metadata": {
    "scrolled": true
   },
   "outputs": [],
   "source": [
    "test_time(SAWB_ECA_C_test_optim.add_CO2, x1)\n",
    "test_time(SAWB_ECA_C_test.add_CO2, x1)"
   ]
  },
  {
   "cell_type": "markdown",
   "id": "629fb4ce",
   "metadata": {},
   "source": [
    "## SAWB-ECA-SS"
   ]
  },
  {
   "cell_type": "code",
   "execution_count": 18,
   "id": "89934d03",
   "metadata": {},
   "outputs": [],
   "source": [
    "diffusion_type = 'SS'\n",
    "SAWB_ECA_SS_test_optim = SAWB_ECA_optim(t_span_tensor, i_s_tensor, i_d_tensor, temp_tensor, temp_ref, diffusion_type)\n",
    "SAWB_ECA_SS_test = SAWB_ECA(t_span_tensor, i_s_tensor, i_d_tensor, temp_tensor, temp_ref, diffusion_type)\n",
    "SAWB_ECA_SS_test_multi = SAWB_ECA_multi(t_span_tensor, i_s_tensor, i_d_tensor, temp_tensor, temp_ref, diffusion_type)\n",
    "SAWB_ECA_SS_test_multi1 = SAWB_ECA_multi_optim(t_span_tensor, i_s_tensor, i_d_tensor, temp_tensor, temp_ref, diffusion_type)"
   ]
  },
  {
   "cell_type": "markdown",
   "id": "a3093310",
   "metadata": {},
   "source": [
    "### `drift_diffusion`"
   ]
  },
  {
   "cell_type": "code",
   "execution_count": null,
   "id": "8e6ad629",
   "metadata": {},
   "outputs": [],
   "source": [
    "drift_optim, diffusion_optim = SAWB_ECA_SS_test_optim.drift_diffusion(x1, theta_samples)\n",
    "drift, diffusion = SAWB_ECA_SS_test.drift_diffusion(x1, theta_samples)"
   ]
  },
  {
   "cell_type": "code",
   "execution_count": null,
   "id": "fbf48ac2",
   "metadata": {},
   "outputs": [],
   "source": [
    "drift_optim.shape == (batch_size, n - 1, state_dim_SAWB), diffusion_optim.shape == (batch_size, n - 1, state_dim_SAWB, state_dim_SAWB)"
   ]
  },
  {
   "cell_type": "code",
   "execution_count": null,
   "id": "0adb8e52",
   "metadata": {},
   "outputs": [],
   "source": [
    "torch.all(drift_optim == drift), torch.all(diffusion_optim == diffusion)"
   ]
  },
  {
   "cell_type": "code",
   "execution_count": null,
   "id": "ddd8e769",
   "metadata": {},
   "outputs": [],
   "source": [
    "test_time(SAWB_ECA_SS_test_optim.drift_diffusion, x1)\n",
    "test_time(SAWB_ECA_SS_test.drift_diffusion, x1)"
   ]
  },
  {
   "cell_type": "markdown",
   "id": "99e53f65",
   "metadata": {},
   "source": [
    "### `drift_diffusion_multi`"
   ]
  },
  {
   "cell_type": "code",
   "execution_count": 19,
   "id": "caf4904b",
   "metadata": {},
   "outputs": [],
   "source": [
    "drift_multi_optim, diffusion_multi_optim = SAWB_ECA_SS_test_optim.drift_diffusion_multi(x_multi1, theta_samples)\n",
    "drift_multi, diffusion_multi = SAWB_ECA_SS_test_multi.drift_diffusion(x_multi1, theta_samples)\n",
    "drift_multi1, diffusion_multi1 = SAWB_ECA_SS_test_multi1.drift_diffusion(x_multi1, theta_samples)"
   ]
  },
  {
   "cell_type": "code",
   "execution_count": 20,
   "id": "7ecd91d3",
   "metadata": {},
   "outputs": [
    {
     "data": {
      "text/plain": [
       "(tensor(True), tensor(True))"
      ]
     },
     "execution_count": 20,
     "metadata": {},
     "output_type": "execute_result"
    }
   ],
   "source": [
    "torch.all(drift_multi_optim == drift_multi), torch.all(diffusion_multi_optim == diffusion_multi)"
   ]
  },
  {
   "cell_type": "code",
   "execution_count": 21,
   "id": "0ecadf64",
   "metadata": {},
   "outputs": [
    {
     "data": {
      "text/plain": [
       "(tensor(True), tensor(True))"
      ]
     },
     "execution_count": 21,
     "metadata": {},
     "output_type": "execute_result"
    }
   ],
   "source": [
    "torch.all(drift_multi_optim == drift_multi1), torch.all(diffusion_multi_optim == diffusion_multi1)"
   ]
  },
  {
   "cell_type": "code",
   "execution_count": null,
   "id": "c0ddf16e",
   "metadata": {},
   "outputs": [],
   "source": [
    "torch.all(drift_multi_optim == drift_optim.unsqueeze(1)), torch.all(diffusion_multi_optim == diffusion_optim.unsqueeze(1))"
   ]
  },
  {
   "cell_type": "code",
   "execution_count": 23,
   "id": "0ead1ed8",
   "metadata": {},
   "outputs": [
    {
     "name": "stdout",
     "output_type": "stream",
     "text": [
      "Total time: 2.665102958679199, time/iter: 0.0026651029586791993\n",
      "Total time: 3.2730610370635986, time/iter: 0.0032730610370635986\n",
      "Total time: 2.869656801223755, time/iter: 0.002869656801223755\n"
     ]
    }
   ],
   "source": [
    "test_time(SAWB_ECA_SS_test_optim.drift_diffusion_multi, x_multi1)\n",
    "test_time(SAWB_ECA_SS_test_multi.drift_diffusion, x_multi1)\n",
    "test_time(SAWB_ECA_SS_test_multi1.drift_diffusion, x_multi1)"
   ]
  },
  {
   "cell_type": "markdown",
   "id": "9af6d5cc",
   "metadata": {},
   "source": [
    "### `drift_diffusion_add_CO2`"
   ]
  },
  {
   "cell_type": "code",
   "execution_count": null,
   "id": "8d5bdc6d",
   "metadata": {},
   "outputs": [],
   "source": [
    "drift_optim_alt, diffusion_optim_alt, x_add_CO2_optim_alt = SAWB_ECA_SS_test_optim.drift_diffusion_add_CO2(x1, theta_samples)\n",
    "drift_alt, diffusion_alt, x_add_CO2_alt = SAWB_ECA_SS_test.drift_diffusion_add_CO2(x1, theta_samples)"
   ]
  },
  {
   "cell_type": "code",
   "execution_count": null,
   "id": "73f445fe",
   "metadata": {},
   "outputs": [],
   "source": [
    "torch.all(drift_optim_alt == drift_alt), torch.all(diffusion_optim_alt == diffusion_alt), torch.all(x_add_CO2_optim_alt == x_add_CO2_alt)"
   ]
  },
  {
   "cell_type": "code",
   "execution_count": null,
   "id": "fbee181b",
   "metadata": {},
   "outputs": [],
   "source": [
    "torch.all(drift_optim_alt == drift_optim), torch.all(diffusion_optim_alt == diffusion_optim)"
   ]
  },
  {
   "cell_type": "code",
   "execution_count": null,
   "id": "de1f51fd",
   "metadata": {},
   "outputs": [],
   "source": [
    "test_time(SAWB_ECA_SS_test_optim.drift_diffusion_add_CO2, x1)\n",
    "test_time(SAWB_ECA_SS_test.drift_diffusion_add_CO2, x1)"
   ]
  },
  {
   "cell_type": "markdown",
   "id": "82041363",
   "metadata": {},
   "source": [
    "### `add_CO2`"
   ]
  },
  {
   "cell_type": "code",
   "execution_count": null,
   "id": "d6c893ed",
   "metadata": {},
   "outputs": [],
   "source": [
    "x_add_CO2_optim = SAWB_ECA_SS_test_optim.add_CO2(x1, theta_samples)\n",
    "x_add_CO2 = SAWB_ECA_SS_test.add_CO2(x1, theta_samples)"
   ]
  },
  {
   "cell_type": "code",
   "execution_count": null,
   "id": "24f885bd",
   "metadata": {},
   "outputs": [],
   "source": [
    "torch.all(x_add_CO2_optim == x_add_CO2)"
   ]
  },
  {
   "cell_type": "code",
   "execution_count": null,
   "id": "d3150041",
   "metadata": {},
   "outputs": [],
   "source": [
    "torch.all(x_add_CO2_optim_alt == x_add_CO2_optim)"
   ]
  },
  {
   "cell_type": "code",
   "execution_count": null,
   "id": "a2af0494",
   "metadata": {
    "scrolled": true
   },
   "outputs": [],
   "source": [
    "test_time(SAWB_ECA_SS_test_optim.add_CO2, x1)\n",
    "test_time(SAWB_ECA_SS_test.add_CO2, x1)"
   ]
  },
  {
   "cell_type": "code",
   "execution_count": null,
   "id": "7ae4abe2",
   "metadata": {},
   "outputs": [],
   "source": []
  }
 ],
 "metadata": {
  "kernelspec": {
   "display_name": "Python 3",
   "language": "python",
   "name": "python3"
  },
  "language_info": {
   "codemirror_mode": {
    "name": "ipython",
    "version": 3
   },
   "file_extension": ".py",
   "mimetype": "text/x-python",
   "name": "python",
   "nbconvert_exporter": "python",
   "pygments_lexer": "ipython3",
   "version": "3.8.8"
  }
 },
 "nbformat": 4,
 "nbformat_minor": 5
}
