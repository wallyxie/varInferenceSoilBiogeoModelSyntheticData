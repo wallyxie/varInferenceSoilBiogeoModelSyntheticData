{
 "cells": [
  {
   "cell_type": "code",
   "execution_count": 1,
   "metadata": {},
   "outputs": [],
   "source": [
    "# Hack to import from a parent directory\n",
    "import sys\n",
    "path = '..'\n",
    "if path not in sys.path:\n",
    "    sys.path.append(path)"
   ]
  },
  {
   "cell_type": "code",
   "execution_count": 2,
   "metadata": {},
   "outputs": [],
   "source": [
    "from typing import Dict, Tuple, Union\n",
    "import os\n",
    "from time import process_time\n",
    "\n",
    "#PyData imports\n",
    "import numpy as np\n",
    "\n",
    "#Torch-related imports\n",
    "import torch\n",
    "\n",
    "#Module-specific imports\n",
    "from obs_and_flow import LowerBound\n",
    "from TruncatedNormal import *\n",
    "from mean_field import *\n",
    "from SBM_SDE_classes import *\n",
    "from SBM_SDE_classes_multi_x import *\n",
    "from training import *\n",
    "\n",
    "from SBM_SDE_classes_optim import *\n",
    "from SBM_SDE_classes_multi_x_optim import *\n",
    "\n",
    "'''\n",
    "This script includes the linear and Arrhenius temperature dependence functions to induce temperature-based forcing in differential equation soil biogeochemical models (SBMs). It also includes the SBM SDE classes corresponding to the various parameterizations of the stochastic conventional (SCON), stochastic AWB (SAWB), and stochastic AWB-equilibrium chemistry approximation (SAWB) for incorporation with normalizing flow \"neural stochastic differential equation\" solvers. The following SBM SDE system parameterizations are contained in this script:\n",
    "    1) SCON constant diffusion (SCON-C)\n",
    "    2) SCON state scaling diffusion (SCON-SS)\n",
    "    3) SAWB constant diffusion (SAWB-C)\n",
    "    4) SAWB state scaling diffusion (SAWB-SS)\n",
    "    5) SAWB constant diffusion (SAWB-C)\n",
    "    6) SAWB state scaling diffusion (SAWB-SS)\n",
    "The respective analytical steady state estimation functions derived from the deterministic ODE versions of the stochastic SBMs are no longer included in this script, as we are no longer initiating SBMs at steady state before starting simulations.\n",
    "'''\n",
    "\n",
    "DictOfTensors = Dict[str, torch.Tensor]\n",
    "Number = Union[int, float]\n",
    "TupleOfTensors = Tuple[torch.Tensor, torch.Tensor]"
   ]
  },
  {
   "cell_type": "code",
   "execution_count": 3,
   "metadata": {},
   "outputs": [
    {
     "name": "stdout",
     "output_type": "stream",
     "text": [
      "cuda device available?:  False\n"
     ]
    }
   ],
   "source": [
    "#PyTorch settings\n",
    "torch.manual_seed(0)\n",
    "print('cuda device available?: ', torch.cuda.is_available())\n",
    "active_device = torch.device('cuda' if torch.cuda.is_available() else 'cpu')\n",
    "if torch.cuda.is_available():\n",
    "    torch.set_default_tensor_type('torch.cuda.FloatTensor')\n",
    "torch.set_printoptions(precision = 8)"
   ]
  },
  {
   "cell_type": "code",
   "execution_count": 4,
   "metadata": {},
   "outputs": [],
   "source": [
    "#Neural SDE parameters\n",
    "dt_flow = 1.0 #Increased from 0.1 to reduce memory.\n",
    "t = 1000 #In hours.\n",
    "n = int(t / dt_flow) + 1\n",
    "t_span = np.linspace(0, t, n)\n",
    "t_span_tensor = torch.reshape(torch.Tensor(t_span), [1, n, 1]).to(active_device) #T_span needs to be converted to tensor object. Additionally, facilitates conversion of I_S and I_D to tensor objects.\n",
    "state_dim_SCON = 3 #Not including CO2 in STATE_DIM, because CO2 is an observation.\n",
    "state_dim_SAWB = 4 #Not including CO2 in STATE_DIM, because CO2 is an observation.\n",
    "\n",
    "#SBM temperature forcing parameters\n",
    "temp_ref = 283.\n",
    "temp_rise = 5. #High estimate of 5 celsius temperature rise by 2100."
   ]
  },
  {
   "cell_type": "code",
   "execution_count": 5,
   "metadata": {},
   "outputs": [],
   "source": [
    "#Training parameters\n",
    "niter = 110\n",
    "train_lr = 2e-5 #ELBO learning rate\n",
    "batch_size = 20 #3 - number needed to fit UCI HPC3 RAM requirements with 16 GB RAM at t = 5000.\n",
    "eval_batch_size = 20\n",
    "obs_error_scale = 0.1 #Observation (y) standard deviation.\n",
    "prior_scale_factor = 0.333 #Proportion of prior standard deviation to prior means.\n",
    "num_layers = 5 #5 - number needed to fit UCI HPC3 RAM requirements with 16 GB RAM at t = 5000."
   ]
  },
  {
   "cell_type": "code",
   "execution_count": 6,
   "metadata": {},
   "outputs": [],
   "source": [
    "#Generate exogenous input vectors.\n",
    "#Obtain temperature forcing function.\n",
    "temp_tensor = temp_gen(t_span_tensor, temp_ref, temp_rise).to(active_device)\n",
    "\n",
    "#Obtain SOC and DOC pool litter input vectors for use in flow SDE functions.\n",
    "i_s_tensor = i_s(t_span_tensor).to(active_device) #Exogenous SOC input function\n",
    "i_d_tensor = i_d(t_span_tensor).to(active_device) #Exogenous DOC input function"
   ]
  },
  {
   "cell_type": "code",
   "execution_count": 7,
   "metadata": {},
   "outputs": [],
   "source": [
    "#Specify desired SBM SDE model type and details.\n",
    "state_dim_SAWB = 4\n",
    "sbm_sde_class = 'SAWB'\n",
    "diffusion_type = 'SS'\n",
    "learn_CO2 = True\n",
    "theta_dist = 'TruncatedNormal' #String needs to be exact name of the distribution class. Options are 'TruncatedNormal' and 'RescaledLogitNormal'.\n",
    "\n",
    "#Parameter prior means\n",
    "u_Q_ref_mean = 0.2\n",
    "Q_mean = 0.001\n",
    "a_MSA_mean = 0.5\n",
    "K_D_mean = 1850\n",
    "K_U_mean = 0.2\n",
    "V_D_ref_mean = 0.16\n",
    "V_U_ref_mean = 0.012\n",
    "Ea_V_D_mean = 65\n",
    "Ea_V_U_mean = 55\n",
    "r_M_mean = 0.0018\n",
    "r_E_mean = 0.00003\n",
    "r_L_mean = 0.000008\n",
    "s_SOC_mean = 0.005\n",
    "s_DOC_mean = 0.005\n",
    "s_MBC_mean = 0.005\n",
    "s_EEC_mean = 0.005\n",
    "\n",
    "#SAWB theta truncated normal distribution parameter details in order of mean, sdev, lower, and upper.\n",
    "u_Q_ref_details = torch.Tensor([u_Q_ref_mean, u_Q_ref_mean * prior_scale_factor, 0, 1])\n",
    "Q_details = torch.Tensor([Q_mean, Q_mean * prior_scale_factor, 0, 1])\n",
    "a_MSA_details = torch.Tensor([a_MSA_mean, a_MSA_mean * prior_scale_factor, 0, 1])\n",
    "K_D_details = torch.Tensor([K_D_mean, K_D_mean * prior_scale_factor, 0, 10000])\n",
    "K_U_details = torch.Tensor([K_U_mean, K_U_mean * prior_scale_factor, 0, 100])\n",
    "V_D_ref_details = torch.Tensor([V_D_ref_mean, V_D_ref_mean * prior_scale_factor, 0, 10])\n",
    "V_U_ref_details = torch.Tensor([V_U_ref_mean, V_U_ref_mean * prior_scale_factor, 0, 1])\n",
    "Ea_V_D_details = torch.Tensor([Ea_V_D_mean, Ea_V_D_mean * prior_scale_factor, 10, 150])\n",
    "Ea_V_U_details = torch.Tensor([Ea_V_U_mean, Ea_V_U_mean * prior_scale_factor, 10, 150])\n",
    "r_M_details = torch.Tensor([r_M_mean, r_M_mean * prior_scale_factor, 0, 1])\n",
    "r_E_details = torch.Tensor([r_E_mean, r_M_mean * prior_scale_factor, 0, 1])\n",
    "r_L_details = torch.Tensor([r_L_mean, r_M_mean * prior_scale_factor, 0, 1])\n",
    "\n",
    "#SAWB-SS diffusion matrix parameter distribution details\n",
    "s_SOC_details = torch.Tensor([s_SOC_mean, s_SOC_mean * prior_scale_factor, 0, 1])\n",
    "s_DOC_details = torch.Tensor([s_DOC_mean, s_DOC_mean * prior_scale_factor, 0, 1])\n",
    "s_MBC_details = torch.Tensor([s_MBC_mean, s_MBC_mean * prior_scale_factor, 0, 1])\n",
    "s_EEC_details = torch.Tensor([s_EEC_mean, s_EEC_mean * prior_scale_factor, 0, 1])\n",
    "\n",
    "SAWB_SS_priors_details = {'u_Q_ref': u_Q_ref_details, 'Q': Q_details, 'a_MSA': a_MSA_details, 'K_D': K_D_details, 'K_U': K_U_details, 'V_D_ref': V_D_ref_details, 'V_U_ref': V_U_ref_details, 'Ea_V_D': Ea_V_D_details, 'Ea_V_U': Ea_V_U_details, 'r_M': r_M_details, 'r_E': r_E_details, 'r_L': r_L_details, 's_SOC': s_SOC_details, 's_DOC': s_DOC_details, 's_MBC': s_MBC_details, 's_EEC': s_EEC_details}\n",
    "\n",
    "#Initial condition prior means\n",
    "x0_SAWB = [65, 0.4, 2.5, 0.3]\n",
    "x0_SAWB_tensor = torch.tensor(x0_SAWB).to(active_device)\n",
    "x0_prior_SAWB = D.multivariate_normal.MultivariateNormal(x0_SAWB_tensor, scale_tril = torch.eye(state_dim_SAWB).to(active_device) * obs_error_scale * x0_SAWB_tensor)"
   ]
  },
  {
   "cell_type": "code",
   "execution_count": 8,
   "metadata": {},
   "outputs": [],
   "source": [
    "param_names = list(SAWB_SS_priors_details.keys())\n",
    "prior_list = list(zip(*(SAWB_SS_priors_details[k] for k in param_names))) #Unzip prior distribution details from dictionary values into individual lists.\n",
    "prior_means_tensor, prior_sds_tensor, prior_lowers_tensor, prior_uppers_tensor = torch.tensor(prior_list).to(active_device) #Ensure conversion of lists into tensors.\n",
    "priors = TruncatedNormal(loc = prior_means_tensor, scale = prior_sds_tensor, a = prior_lowers_tensor, b = prior_uppers_tensor)"
   ]
  },
  {
   "cell_type": "code",
   "execution_count": 9,
   "metadata": {},
   "outputs": [
    {
     "name": "stdout",
     "output_type": "stream",
     "text": [
      "torch.Size([1, 1001, 3])\n",
      "torch.Size([3, 1001, 3])\n",
      "tensor([43.87416077, 43.82263947, 44.69942093,  ..., 20.17641830,\n",
      "        19.43882751, 19.59896469])\n",
      "tensor([1.10990882, 1.02039123, 0.96598482,  ..., 4.98133755, 5.12637997,\n",
      "        5.00414944])\n",
      "tensor([1.05660713, 1.16628361, 1.00154042,  ..., 5.07834673, 5.07599831,\n",
      "        4.99099350])\n",
      "tensor([[[43.87416077,  1.10990882,  1.05660713],\n",
      "         [43.82263947,  1.02039123,  1.16628361],\n",
      "         [44.69942093,  0.96598482,  1.00154042],\n",
      "         ...,\n",
      "         [20.17641830,  4.98133755,  5.07834673],\n",
      "         [19.43882751,  5.12637997,  5.07599831],\n",
      "         [19.59896469,  5.00414944,  4.99099350]],\n",
      "\n",
      "        [[43.87416077,  1.10990882,  1.05660713],\n",
      "         [43.82263947,  1.02039123,  1.16628361],\n",
      "         [44.69942093,  0.96598482,  1.00154042],\n",
      "         ...,\n",
      "         [20.17641830,  4.98133755,  5.07834673],\n",
      "         [19.43882751,  5.12637997,  5.07599831],\n",
      "         [19.59896469,  5.00414944,  4.99099350]],\n",
      "\n",
      "        [[43.87416077,  1.10990882,  1.05660713],\n",
      "         [43.82263947,  1.02039123,  1.16628361],\n",
      "         [44.69942093,  0.96598482,  1.00154042],\n",
      "         ...,\n",
      "         [20.17641830,  4.98133755,  5.07834673],\n",
      "         [19.43882751,  5.12637997,  5.07599831],\n",
      "         [19.59896469,  5.00414944,  4.99099350]]])\n",
      "torch.Size([3, 1001, 3])\n",
      "tensor([[[4.38741608e+01, 1.10990882e+00, 1.05660713e+00, 8.75303708e-03],\n",
      "         [4.38226395e+01, 1.02039123e+00, 1.16628361e+00, 1.09660393e-02],\n",
      "         [4.46994209e+01, 9.65984821e-01, 1.00154042e+00, 9.90229100e-03],\n",
      "         ...,\n",
      "         [2.01764183e+01, 4.98133755e+00, 5.07834673e+00, 1.89218055e-02],\n",
      "         [1.94388275e+01, 5.12637997e+00, 5.07599831e+00, 2.06450876e-02],\n",
      "         [1.95989647e+01, 5.00414944e+00, 4.99099350e+00, 2.00175680e-02]],\n",
      "\n",
      "        [[4.38741608e+01, 1.10990882e+00, 1.05660713e+00, 8.75303708e-03],\n",
      "         [4.38226395e+01, 1.02039123e+00, 1.16628361e+00, 1.09660393e-02],\n",
      "         [4.46994209e+01, 9.65984821e-01, 1.00154042e+00, 9.90229100e-03],\n",
      "         ...,\n",
      "         [2.01764183e+01, 4.98133755e+00, 5.07834673e+00, 1.89218055e-02],\n",
      "         [1.94388275e+01, 5.12637997e+00, 5.07599831e+00, 2.06450876e-02],\n",
      "         [1.95989647e+01, 5.00414944e+00, 4.99099350e+00, 2.00175680e-02]],\n",
      "\n",
      "        [[4.38741608e+01, 1.10990882e+00, 1.05660713e+00, 8.75303708e-03],\n",
      "         [4.38226395e+01, 1.02039123e+00, 1.16628361e+00, 1.09660393e-02],\n",
      "         [4.46994209e+01, 9.65984821e-01, 1.00154042e+00, 9.90229100e-03],\n",
      "         ...,\n",
      "         [2.01764183e+01, 4.98133755e+00, 5.07834673e+00, 1.89218055e-02],\n",
      "         [1.94388275e+01, 5.12637997e+00, 5.07599831e+00, 2.06450876e-02],\n",
      "         [1.95989647e+01, 5.00414944e+00, 4.99099350e+00, 2.00175680e-02]]])\n",
      "torch.Size([3, 1001, 4])\n"
     ]
    }
   ],
   "source": [
    "#x = torch.rand(2, t_span_tensor.size(1), 3)\n",
    "batch_size = 3\n",
    "\n",
    "x_single = torch.zeros([1, 1001, 3])\n",
    "print(x_single.size())\n",
    "x = x_single.expand([batch_size, 1001, 3]).clone()\n",
    "print(x.size())\n",
    "\n",
    "x2_single = torch.zeros([1, 1001, 4])\n",
    "x2 = x2_single.expand([batch_size, 1001, 4]).clone()\n",
    "\n",
    "SOC = torch.normal(mean = torch.linspace(45, 20, 1001), std = 1.)\n",
    "print(SOC)\n",
    "DOC = torch.normal(mean = torch.linspace(1, 5, 1001), std = 0.1)\n",
    "print(DOC)\n",
    "MBC = torch.normal(mean = torch.linspace(1, 5, 1001), std = 0.1)\n",
    "print(MBC)\n",
    "EEC = torch.normal(mean = torch.linspace(0.01, 0.02, 1001), std = 0.001)\n",
    "\n",
    "x[:, :, 0] = SOC\n",
    "x[:, :, 1] = DOC\n",
    "x[:, :, 2] = MBC\n",
    "x = LowerBound.apply(x, 1e-6)\n",
    "print(x)\n",
    "print(x.size())\n",
    "\n",
    "x2[:, :, 0] = SOC\n",
    "x2[:, :, 1] = DOC\n",
    "x2[:, :, 2] = MBC\n",
    "x2[:, :, 3] = EEC\n",
    "x2 = LowerBound.apply(x2, 1e-6)\n",
    "print(x2)\n",
    "print(x2.size())"
   ]
  },
  {
   "cell_type": "code",
   "execution_count": 10,
   "metadata": {},
   "outputs": [],
   "source": [
    "q_theta_SAWB_SS = MeanField(active_device, param_names, SAWB_SS_priors_details, TruncatedNormal, False)"
   ]
  },
  {
   "cell_type": "code",
   "execution_count": 11,
   "metadata": {
    "scrolled": true
   },
   "outputs": [
    {
     "data": {
      "text/plain": [
       "{'u_Q_ref': tensor([0.19216022, 0.29522306, 0.20716973], grad_fn=<SqueezeBackward1>),\n",
       " 'Q': tensor([0.00063818, 0.00179973, 0.00080447], grad_fn=<SqueezeBackward1>),\n",
       " 'a_MSA': tensor([0.29899603, 0.78918350, 0.54942733], grad_fn=<SqueezeBackward1>),\n",
       " 'K_D': tensor([2050.52075195, 2170.28173828, 1256.52612305],\n",
       "        grad_fn=<SqueezeBackward1>),\n",
       " 'K_U': tensor([0.29699630, 0.12118475, 0.32046181], grad_fn=<SqueezeBackward1>),\n",
       " 'V_D_ref': tensor([0.13269615, 0.10744360, 0.24209984], grad_fn=<SqueezeBackward1>),\n",
       " 'V_U_ref': tensor([0.01172355, 0.01322458, 0.01446030], grad_fn=<SqueezeBackward1>),\n",
       " 'Ea_V_D': tensor([41.85933685, 31.13208771, 80.69321442], grad_fn=<SqueezeBackward1>),\n",
       " 'Ea_V_U': tensor([59.18062973, 71.61378479, 12.36256027], grad_fn=<SqueezeBackward1>),\n",
       " 'r_M': tensor([0.00201972, 0.00214535, 0.00134339], grad_fn=<SqueezeBackward1>),\n",
       " 'r_E': tensor([3.44519591e-04, 5.38871100e-04, 1.47498868e-05],\n",
       "        grad_fn=<SqueezeBackward1>),\n",
       " 'r_L': tensor([9.37776407e-04, 4.83097647e-05, 1.84267163e-04],\n",
       "        grad_fn=<SqueezeBackward1>),\n",
       " 's_SOC': tensor([0.00285471, 0.00682823, 0.00273318], grad_fn=<SqueezeBackward1>),\n",
       " 's_DOC': tensor([0.00472190, 0.00478161, 0.00686143], grad_fn=<SqueezeBackward1>),\n",
       " 's_MBC': tensor([0.00373391, 0.00408411, 0.00623053], grad_fn=<SqueezeBackward1>),\n",
       " 's_EEC': tensor([0.00757635, 0.00618337, 0.00637021], grad_fn=<SqueezeBackward1>)}"
      ]
     },
     "execution_count": 11,
     "metadata": {},
     "output_type": "execute_result"
    }
   ],
   "source": [
    "SAWB_SS_dict_out, SAWB_SS_samples, _, _ = q_theta_SAWB_SS(batch_size)\n",
    "SAWB_SS_dict_out"
   ]
  },
  {
   "cell_type": "code",
   "execution_count": 12,
   "metadata": {},
   "outputs": [],
   "source": [
    "#class SBM_SDE:\n",
    "#    '''\n",
    "#    This is the base class for evaluating the SBM SDE SSMs.\n",
    "#    '''\n",
    "#\n",
    "#    def __init__(\n",
    "#            self,\n",
    "#            T_SPAN_TENSOR: torch.Tensor,\n",
    "#            I_S_TENSOR: torch.Tensor,\n",
    "#            I_D_TENSOR: torch.Tensor,\n",
    "#            TEMP_TENSOR: torch.Tensor,\n",
    "#            TEMP_REF: Number\n",
    "#            ):\n",
    "#        \n",
    "#        self.times = T_SPAN_TENSOR\n",
    "#        self.i_S = I_S_TENSOR\n",
    "#        self.i_D = I_D_TENSOR\n",
    "#        self.temps = TEMP_TENSOR\n",
    "#        self.temp_ref = TEMP_REF\n",
    "#        \n",
    "#class SAWB(SBM_SDE):\n",
    "#    '''\n",
    "#    Class contains SAWB SDE drift (alpha) and diffusion (beta) equations.\n",
    "#    Constant (C) and state-scaling (SS) diffusion paramterizations are included. DIFFUSION_TYPE must thereby be specified as 'C' or 'SS'. \n",
    "#    Other diffusion parameterizations are not included.\n",
    "#    '''\n",
    "#    def __init__(\n",
    "#            self,\n",
    "#            T_SPAN_TENSOR: torch.Tensor,\n",
    "#            I_S_TENSOR: torch.Tensor,\n",
    "#            I_D_TENSOR: torch.Tensor,\n",
    "#            TEMP_TENSOR: torch.Tensor,\n",
    "#            TEMP_REF: Number,\n",
    "#            DIFFUSION_TYPE: str\n",
    "#            ):\n",
    "#        super().__init__(T_SPAN_TENSOR, I_S_TENSOR, I_D_TENSOR, TEMP_TENSOR, TEMP_REF)\n",
    "#\n",
    "#        if DIFFUSION_TYPE not in {'C', 'SS'}:\n",
    "#            raise NotImplementedError('Other diffusion parameterizations aside from constant (c) or state-scaling (ss) have not been implemented.')\n",
    "#\n",
    "#        self.DIFFUSION_TYPE = DIFFUSION_TYPE\n",
    "#        self.state_dim = 4\n",
    "#\n",
    "#    def drift_diffusion(\n",
    "#        self,\n",
    "#        C_PATH: torch.Tensor, \n",
    "#        SAWB_params_dict: DictOfTensors,\n",
    "#        ) -> TupleOfTensors:\n",
    "#        '''\n",
    "#        Accepts states x and dictionary of parameter samples.\n",
    "#        Returns SAWB drift and diffusion tensors corresponding to state values and parameter samples.  \n",
    "#        Expected SAWB_params_dict = {'u_Q_ref': u_Q_ref, 'Q': Q, 'a_MSA': a_MSA, 'K_D': K_D, 'K_U': K_U, 'V_D_ref': V_D_ref, 'V_U_ref': V_U_ref, 'Ea_V_D': Ea_V_D, 'Ea_V_U': Ea_V_U, 'r_M': r_M, 'r_E': r_E, 'r_L': r_L, '[cs]_SOC': [cs]_SOC, '[cs]_DOC': [cs]_DOC, '[cs]_MBC': [cs]_MBC, '[cs]_EEC': [cs]_EEC}\n",
    "#        '''\n",
    "#        #Appropriately index tensors based on order of operations in data generating process.\n",
    "#        c_path_drift_diffusion = C_PATH[:, :-1, :]\n",
    "#        t_span_tensor_drift_diffusion = self.times[:, 1:, :]        \n",
    "#        i_S_tensor_drift_diffusion = self.i_S[:, 1:, :]\n",
    "#        i_D_tensor_drift_diffusion = self.i_D[:, 1:, :]\n",
    "#        temp_tensor_drift_diffusion = self.temps[:, 1:, :]\n",
    "#        #Partition SOC, DOC, MBC, EEC values. Split based on final c_path_drift_diffusion dim, which specifies state variables and is also indexed as dim #2 in tensor.\n",
    "#        SOC, DOC, MBC, EEC = torch.chunk(c_path_drift_diffusion, self.state_dim, -1)\n",
    "#        #Repeat and permute parameter values to match dimension sizes.\n",
    "#        SAWB_params_dict_rep = dict((k, v.repeat(1, t_span_tensor_drift_diffusion.size(1), 1).permute(2, 1, 0)) for k, v in SAWB_params_dict.items())\n",
    "#        #Initiate tensor with same dims as c_path_drift_diffusion to assign drift.\n",
    "#        drift = torch.empty_like(c_path_drift_diffusion, device = C_PATH.device)\n",
    "#        #Decay parameters are forced by temperature changes.\n",
    "#        u_Q = linear_temp_dep(SAWB_params_dict_rep['u_Q_ref'], temp_tensor_drift_diffusion, SAWB_params_dict_rep['Q'], self.temp_ref) #Apply linear temperature-dependence to u_Q.\n",
    "#        V_D = arrhenius_temp_dep(SAWB_params_dict_rep['V_D_ref'], temp_tensor_drift_diffusion, SAWB_params_dict_rep['Ea_V_D'], self.temp_ref) #Apply vectorized temperature-dependent transformation to V_D.\n",
    "#        V_U = arrhenius_temp_dep(SAWB_params_dict_rep['V_U_ref'], temp_tensor_drift_diffusion, SAWB_params_dict_rep['Ea_V_U'], self.temp_ref) #Apply vectorized temperature-dependent transformation to V_U.\n",
    "#        #Drift is calculated.\n",
    "#        drift_SOC = i_S_tensor_drift_diffusion + SAWB_params_dict_rep['a_MSA'] * SAWB_params_dict_rep['r_M'] * MBC - ((V_D * EEC * SOC) / (SAWB_params_dict_rep['K_D'] + SOC))\n",
    "#        drift_DOC = i_D_tensor_drift_diffusion + (1 - SAWB_params_dict_rep['a_MSA']) * SAWB_params_dict_rep['r_M'] * MBC + ((V_D * EEC * SOC) / (SAWB_params_dict_rep['K_D'] + SOC)) + SAWB_params_dict_rep['r_L'] * EEC - ((V_U * MBC * DOC) / (SAWB_params_dict_rep['K_U'] + DOC))\n",
    "#        drift_MBC = (u_Q * (V_U * MBC * DOC) / (SAWB_params_dict_rep['K_U'] + DOC)) - (SAWB_params_dict_rep['r_M'] + SAWB_params_dict_rep['r_E']) * MBC\n",
    "#        drift_EEC = SAWB_params_dict_rep['r_E'] * MBC - SAWB_params_dict_rep['r_L'] * EEC\n",
    "#        #Assign elements to drift vector.\n",
    "#        drift[:, :, 0 : 1] = drift_SOC\n",
    "#        drift[:, :, 1 : 2] = drift_DOC\n",
    "#        drift[:, :, 2 : 3] = drift_MBC\n",
    "#        drift[:, :, 3 : 4] = drift_EEC\n",
    "#        #Diffusion matrix is computed based on diffusion type.\n",
    "#        diffusion_sqrt = torch.zeros([drift.size(0), drift.size(1), self.state_dim, self.state_dim], device = drift.device) #Create tensor to assign diffusion matrix elements.            \n",
    "#        if self.DIFFUSION_TYPE == 'C':\n",
    "#            diffusion_sqrt[:, :, 0 : 1, 0] = torch.sqrt(LowerBound.apply(SAWB_params_dict_rep['c_SOC'], 1e-8)) #SOC diffusion standard deviation\n",
    "#            diffusion_sqrt[:, :, 1 : 2, 1] = torch.sqrt(LowerBound.apply(SAWB_params_dict_rep['c_DOC'], 1e-8)) #DOC diffusion standard deviation\n",
    "#            diffusion_sqrt[:, :, 2 : 3, 2] = torch.sqrt(LowerBound.apply(SAWB_params_dict_rep['c_MBC'], 1e-8)) #MBC diffusion standard deviation\n",
    "#            diffusion_sqrt[:, :, 3 : 4, 3] = torch.sqrt(LowerBound.apply(SAWB_params_dict_rep['c_EEC'], 1e-8)) #EEC diffusion standard deviation            \n",
    "#            #diffusion_sqrt_single = torch.diag_embed(torch.sqrt(LowerBound.apply(torch.as_tensor([SAWB_params_dict['c_SOC'], SAWB_params_dict['c_DOC'], SAWB_params_dict['c_MBC'], SAWB_params_dict['c_EEC'], SAWB_params_dict['c_CO2']]), 1e-8))) #Create single diffusion matrix by diagonalizing constant noise scale parameters.            \n",
    "#            #diffusion_sqrt = diffusion_sqrt_single.unsqueeze(1).expand(-1, t_span_tensor_drift_diffusion.size(1), -1, -1) #Expand diffusion matrices across all paths and across discretized time steps.\n",
    "#        elif self.DIFFUSION_TYPE == 'SS':\n",
    "#            diffusion_sqrt[:, :, 0 : 1, 0] = torch.sqrt(LowerBound.apply(SOC * SAWB_params_dict_rep['s_SOC'], 1e-8)) #SOC diffusion standard deviation\n",
    "#            diffusion_sqrt[:, :, 1 : 2, 1] = torch.sqrt(LowerBound.apply(DOC * SAWB_params_dict_rep['s_DOC'], 1e-8)) #DOC diffusion standard deviation\n",
    "#            diffusion_sqrt[:, :, 2 : 3, 2] = torch.sqrt(LowerBound.apply(MBC * SAWB_params_dict_rep['s_MBC'], 1e-8)) #MBC diffusion standard deviation\n",
    "#            diffusion_sqrt[:, :, 3 : 4, 3] = torch.sqrt(LowerBound.apply(EEC * SAWB_params_dict_rep['s_EEC'], 1e-8)) #EEC diffusion standard deviation            \n",
    "#        return drift, diffusion_sqrt\n",
    "#\n",
    "#    def drift_diffusion_add_CO2(\n",
    "#        self,\n",
    "#        C_PATH: torch.Tensor, \n",
    "#        SAWB_params_dict: DictOfTensors,\n",
    "#        ) -> TupleOfTensors:\n",
    "#        '''\n",
    "#        Accepts states x and dictionary of parameter samples.\n",
    "#        Returns SAWB drift and diffusion tensors corresponding to state values and parameter samples, along with tensor of states x concatenated with CO2.  \n",
    "#        Expected SAWB_params_dict = {'u_Q_ref': u_Q_ref, 'Q': Q, 'a_MSA': a_MSA, 'K_D': K_D, 'K_U': K_U, 'V_D_ref': V_D_ref, 'V_U_ref': V_U_ref, 'Ea_V_D': Ea_V_D, 'Ea_V_U': Ea_V_U, 'r_M': r_M, 'r_E': r_E, 'r_L': r_L, '[cs]_SOC': [cs]_SOC, '[cs]_DOC': [cs]_DOC, '[cs]_MBC': [cs]_MBC, '[cs]_EEC': [cs]_EEC}\n",
    "#        '''\n",
    "#        c_path_drift_diffusion = C_PATH[:, :-1, :]\n",
    "#        i_S_tensor_drift_diffusion = self.i_S[:, 1:, :]\n",
    "#        i_D_tensor_drift_diffusion = self.i_D[:, 1:, :]\n",
    "#        #Partition SOC, DOC, MBC, EEC values. Split based on final C_PATH dim, which specifies state variables and is also indexed as dim #2 in tensor.\n",
    "#        SOC_full, DOC_full, MBC_full, EEC_full = torch.chunk(C_PATH, self.state_dim, -1)\n",
    "#        SOC = SOC_full[:, :-1, :]\n",
    "#        DOC = DOC_full[:, :-1, :]\n",
    "#        MBC = MBC_full[:, :-1, :]\n",
    "#        EEC = EEC_full[:, :-1, :]\n",
    "#        #Repeat and permute parameter values to match dimension sizes.\n",
    "#        SAWB_params_dict_rep_full = dict((k, v.repeat(1, self.times.size(1), 1).permute(2, 1, 0)) for k, v in SAWB_params_dict.items())\n",
    "#        SAWB_params_dict_rep = dict((k, v[:, 1:, :]) for k, v in SAWB_params_dict_rep_full.items())        \n",
    "#        #Initiate tensor with same dims as C_PATH to assign drift.\n",
    "#        drift = torch.empty_like(c_path_drift_diffusion, device = C_PATH.device)\n",
    "#        #Decay parameters are forced by temperature changes.\n",
    "#        u_Q_full = linear_temp_dep(SAWB_params_dict_rep_full['u_Q_ref'], self.temps, SAWB_params_dict_rep_full['Q'], self.temp_ref) #Apply linear temperature-dependence to u_Q.\n",
    "#        u_Q = u_Q_full[:, 1:, :]\n",
    "#        V_D_full = arrhenius_temp_dep(SAWB_params_dict_rep_full['V_D_ref'], self.temps, SAWB_params_dict_rep_full['Ea_V_D'], self.temp_ref) #Apply vectorized temperature-dependent transformation to V_D.\n",
    "#        V_D = V_D_full[:, 1:, :]\n",
    "#        V_U_full = arrhenius_temp_dep(SAWB_params_dict_rep_full['V_U_ref'], self.temps, SAWB_params_dict_rep_full['Ea_V_U'], self.temp_ref) #Apply vectorized temperature-dependent transformation to V_U.\n",
    "#        V_U = V_U_full[:, 1:, :]\n",
    "#        #Drift is calculated.\n",
    "#        drift_SOC = i_S_tensor_drift_diffusion + SAWB_params_dict_rep['a_MSA'] * SAWB_params_dict_rep['r_M'] * MBC - ((V_D * EEC * SOC) / (SAWB_params_dict_rep['K_D'] + SOC))\n",
    "#        drift_DOC = i_D_tensor_drift_diffusion + (1 - SAWB_params_dict_rep['a_MSA']) * SAWB_params_dict_rep['r_M'] * MBC + ((V_D * EEC * SOC) / (SAWB_params_dict_rep['K_D'] + SOC)) + SAWB_params_dict_rep['r_L'] * EEC - ((V_U * MBC * DOC) / (SAWB_params_dict_rep['K_U'] + DOC))\n",
    "#        drift_MBC = (u_Q * (V_U * MBC * DOC) / (SAWB_params_dict_rep['K_U'] + DOC)) - (SAWB_params_dict_rep['r_M'] + SAWB_params_dict_rep['r_E']) * MBC\n",
    "#        drift_EEC = SAWB_params_dict_rep['r_E'] * MBC - SAWB_params_dict_rep['r_L'] * EEC\n",
    "#        #Assign elements to drift vector.\n",
    "#        drift[:, :, 0 : 1] = drift_SOC\n",
    "#        drift[:, :, 1 : 2] = drift_DOC\n",
    "#        drift[:, :, 2 : 3] = drift_MBC\n",
    "#        drift[:, :, 3 : 4] = drift_EEC\n",
    "#        #Diffusion matrix is computed based on diffusion type.\n",
    "#        diffusion_sqrt = torch.zeros([drift.size(0), drift.size(1), self.state_dim, self.state_dim], device = drift.device) #Create tensor to assign diffusion matrix elements.            \n",
    "#        if self.DIFFUSION_TYPE == 'C':\n",
    "#            diffusion_sqrt[:, :, 0 : 1, 0] = torch.sqrt(LowerBound.apply(SAWB_params_dict_rep['c_SOC'], 1e-8)) #SOC diffusion standard deviation\n",
    "#            diffusion_sqrt[:, :, 1 : 2, 1] = torch.sqrt(LowerBound.apply(SAWB_params_dict_rep['c_DOC'], 1e-8)) #DOC diffusion standard deviation\n",
    "#            diffusion_sqrt[:, :, 2 : 3, 2] = torch.sqrt(LowerBound.apply(SAWB_params_dict_rep['c_MBC'], 1e-8)) #MBC diffusion standard deviation\n",
    "#            diffusion_sqrt[:, :, 3 : 4, 3] = torch.sqrt(LowerBound.apply(SAWB_params_dict_rep['c_EEC'], 1e-8)) #EEC diffusion standard deviation            \n",
    "#            #diffusion_sqrt_single = torch.diag_embed(torch.sqrt(LowerBound.apply(torch.as_tensor([SAWB_params_dict['c_SOC'], SAWB_params_dict['c_DOC'], SAWB_params_dict['c_MBC'], SAWB_params_dict['c_EEC'], SAWB_params_dict['c_CO2']]), 1e-8))) #Create single diffusion matrix by diagonalizing constant noise scale parameters.            \n",
    "#            #diffusion_sqrt = diffusion_sqrt_single.unsqueeze(1).expand(-1, T_SPAN_TENSOR.size(1), -1, -1) #Expand diffusion matrices across all paths and across discretized time steps.\n",
    "#        elif self.DIFFUSION_TYPE == 'SS':\n",
    "#            diffusion_sqrt[:, :, 0 : 1, 0] = torch.sqrt(LowerBound.apply(SOC * SAWB_params_dict_rep['s_SOC'], 1e-8)) #SOC diffusion standard deviation\n",
    "#            diffusion_sqrt[:, :, 1 : 2, 1] = torch.sqrt(LowerBound.apply(DOC * SAWB_params_dict_rep['s_DOC'], 1e-8)) #DOC diffusion standard deviation\n",
    "#            diffusion_sqrt[:, :, 2 : 3, 2] = torch.sqrt(LowerBound.apply(MBC * SAWB_params_dict_rep['s_MBC'], 1e-8)) #MBC diffusion standard deviation\n",
    "#            diffusion_sqrt[:, :, 3 : 4, 3] = torch.sqrt(LowerBound.apply(EEC * SAWB_params_dict_rep['s_EEC'], 1e-8)) #EEC diffusion standard deviation           \n",
    "#        #Compute CO2.\n",
    "#        CO2 = (1 - u_Q_full) * (V_U_full * MBC_full * DOC_full) / (SAWB_params_dict_rep_full['K_U'] + DOC_full)\n",
    "#        #Add CO2 as additional dimension to original x matrix.\n",
    "#        x_add_CO2 = torch.cat([C_PATH, CO2], -1)\n",
    "#\n",
    "#        return drift, diffusion_sqrt, x_add_CO2\n",
    "#\n",
    "#    def add_CO2(\n",
    "#        self,\n",
    "#        C_PATH: torch.Tensor,\n",
    "#        SAWB_params_dict: DictOfTensors,\n",
    "#        ) -> TupleOfTensors:\n",
    "#        '''\n",
    "#        Accepts input of states x and dictionary of parameter samples.\n",
    "#        Returns matrix (re-sized from x) that not only includes states, but added CO2 values in expanded third dimension of tensor.\n",
    "#        '''\n",
    "#        #Partition SOC, DOC, MBC, and EEC values. Split based on final C_PATH dim, which specifies state variables and is also indexed as dim #2 in tensor. \n",
    "#        SOC, DOC, MBC, EEC = torch.chunk(C_PATH, self.state_dim, -1)\n",
    "#        #Repeat and permute parameter values to match dimension sizes.\n",
    "#        SAWB_params_dict_rep = dict((k, v.repeat(1, self.times.size(1), 1).permute(2, 1, 0)) for k, v in SAWB_params_dict.items())\n",
    "#        #Decay parameters are forced by temperature changes.\n",
    "#        u_Q = linear_temp_dep(SAWB_params_dict_rep['u_Q_ref'], self.temps, SAWB_params_dict_rep['Q'], self.temp_ref) #Apply linear temperature-dependence to u_Q.\n",
    "#        V_D = arrhenius_temp_dep(SAWB_params_dict_rep['V_D_ref'], self.temps, SAWB_params_dict_rep['Ea_V_D'], self.temp_ref) #Apply vectorized temperature-dependent transformation to V_D.\n",
    "#        V_U = arrhenius_temp_dep(SAWB_params_dict_rep['V_U_ref'], self.temps, SAWB_params_dict_rep['Ea_V_U'], self.temp_ref) #Apply vectorized temperature-dependent transformation to V_U.\n",
    "#        #Compute CO2.\n",
    "#        CO2 = (1 - u_Q) * (V_U * MBC * DOC) / (SAWB_params_dict_rep['K_U'] + DOC)\n",
    "#        #Add CO2 as additional dimension to original x matrix.\n",
    "#        x_add_CO2 = torch.cat([C_PATH, CO2], -1)\n",
    "#        \n",
    "#        return x_add_CO2\n",
    "#\n",
    "#class SAWB_multi(SBM_SDE):\n",
    "#    '''\n",
    "#    Class contains SAWB SDE drift (alpha) and diffusion (beta) equations.\n",
    "#    Constant (C) and state-scaling (SS) diffusion paramterizations are included. DIFFUSION_TYPE must thereby be specified as 'C' or 'SS'. \n",
    "#    Other diffusion parameterizations are not included.\n",
    "#    '''\n",
    "#    def __init__(\n",
    "#            self,\n",
    "#            T_SPAN_TENSOR: torch.Tensor,\n",
    "#            I_S_TENSOR: torch.Tensor,\n",
    "#            I_D_TENSOR: torch.Tensor,\n",
    "#            TEMP_TENSOR: torch.Tensor,\n",
    "#            TEMP_REF: Number,\n",
    "#            DIFFUSION_TYPE: str\n",
    "#            ):\n",
    "#        super().__init__(T_SPAN_TENSOR, I_S_TENSOR, I_D_TENSOR, TEMP_TENSOR, TEMP_REF)\n",
    "#\n",
    "#        if DIFFUSION_TYPE not in {'C', 'SS'}:\n",
    "#            raise NotImplementedError('Other diffusion parameterizations aside from constant (c) or state-scaling (ss) have not been implemented.')\n",
    "#\n",
    "#        self.DIFFUSION_TYPE = DIFFUSION_TYPE\n",
    "#        self.state_dim = 4\n",
    "#\n",
    "#    def drift_diffusion(\n",
    "#        self,\n",
    "#        C_PATH: torch.Tensor, \n",
    "#        SAWB_params_dict: DictOfTensors,\n",
    "#        ) -> TupleOfTensors:\n",
    "#        '''\n",
    "#        Accepts states x and dictionary of parameter samples.\n",
    "#        Returns SAWB drift and diffusion tensors corresponding to state values and parameter samples.  \n",
    "#        Expected SAWB_params_dict = {'u_Q_ref': u_Q_ref, 'Q': Q, 'a_MSA': a_MSA, 'K_D': K_D, 'K_U': K_U, 'V_D_ref': V_D_ref, 'V_U_ref': V_U_ref, 'Ea_V_D': Ea_V_D, 'Ea_V_U': Ea_V_U, 'r_M': r_M, 'r_E': r_E, 'r_L': r_L, '[cs]_SOC': [cs]_SOC, '[cs]_DOC': [cs]_DOC, '[cs]_MBC': [cs]_MBC, '[cs]_EEC': [cs]_EEC}\n",
    "#        '''\n",
    "#        #Appropriately index tensors based on order of operations in data generating process.\n",
    "#        c_path_drift_diffusion = C_PATH[:, :, :-1, :]\n",
    "#        t_span_tensor_drift_diffusion = self.times[:, 1:, :].unsqueeze(1)      \n",
    "#        i_S_tensor_drift_diffusion = self.i_S[:, 1:, :].unsqueeze(1)\n",
    "#        i_D_tensor_drift_diffusion = self.i_D[:, 1:, :].unsqueeze(1)\n",
    "#        temp_tensor_drift_diffusion = self.temps[:, 1:, :].unsqueeze(1)\n",
    "#        #Partition SOC, DOC, MBC, EEC values. Split based on final c_path_drift_diffusion dim, which specifies state variables and is also indexed as dim #2 in tensor.\n",
    "#        SOC, DOC, MBC, EEC =  torch.chunk(c_path_drift_diffusion, self.state_dim, -1)\n",
    "#        #Repeat and permute parameter values to match dimension sizes.\n",
    "#        SAWB_params_dict_rep = dict((k, v.repeat(1, t_span_tensor_drift_diffusion.size(1), 1).permute(2, 1, 0).unsqueeze(1)) for k, v in SAWB_params_dict.items())\n",
    "#        #Initiate tensor with same dims as c_path_drift_diffusion to assign drift.\n",
    "#        drift = torch.empty_like(c_path_drift_diffusion, device = C_PATH.device)\n",
    "#        #Decay parameters are forced by temperature changes.\n",
    "#        u_Q = linear_temp_dep(SAWB_params_dict_rep['u_Q_ref'], temp_tensor_drift_diffusion, SAWB_params_dict_rep['Q'], self.temp_ref) #Apply linear temperature-dependence to u_Q.\n",
    "#        V_D = arrhenius_temp_dep(SAWB_params_dict_rep['V_D_ref'], temp_tensor_drift_diffusion, SAWB_params_dict_rep['Ea_V_D'], self.temp_ref) #Apply vectorized temperature-dependent transformation to V_D.\n",
    "#        V_U = arrhenius_temp_dep(SAWB_params_dict_rep['V_U_ref'], temp_tensor_drift_diffusion, SAWB_params_dict_rep['Ea_V_U'], self.temp_ref) #Apply vectorized temperature-dependent transformation to V_U.\n",
    "#        #Drift is calculated.\n",
    "#        drift_SOC = i_S_tensor_drift_diffusion + SAWB_params_dict_rep['a_MSA'] * SAWB_params_dict_rep['r_M'] * MBC - ((V_D * EEC * SOC) / (SAWB_params_dict_rep['K_D'] + SOC))\n",
    "#        drift_DOC = i_D_tensor_drift_diffusion + (1 - SAWB_params_dict_rep['a_MSA']) * SAWB_params_dict_rep['r_M'] * MBC + ((V_D * EEC * SOC) / (SAWB_params_dict_rep['K_D'] + SOC)) + SAWB_params_dict_rep['r_L'] * EEC - ((V_U * MBC * DOC) / (SAWB_params_dict_rep['K_U'] + DOC))\n",
    "#        drift_MBC = (u_Q * (V_U * MBC * DOC) / (SAWB_params_dict_rep['K_U'] + DOC)) - (SAWB_params_dict_rep['r_M'] + SAWB_params_dict_rep['r_E']) * MBC\n",
    "#        drift_EEC = SAWB_params_dict_rep['r_E'] * MBC - SAWB_params_dict_rep['r_L'] * EEC\n",
    "#        #Assign elements to drift vector.\n",
    "#        drift[:, :, :, 0 : 1] = drift_SOC\n",
    "#        drift[:, :, :, 1 : 2] = drift_DOC\n",
    "#        drift[:, :, :, 2 : 3] = drift_MBC\n",
    "#        drift[:, :, :, 3 : 4] = drift_EEC\n",
    "#        #Diffusion matrix is computed based on diffusion type.\n",
    "#        diffusion_sqrt = torch.zeros([drift.size(0), drift.size(1), drift.size(2), self.state_dim, self.state_dim], device = drift.device) #Create tensor to assign diffusion matrix elements.            \n",
    "#        if self.DIFFUSION_TYPE == 'C':\n",
    "#            diffusion_sqrt[:, :, :, 0 : 1, 0] = torch.sqrt(LowerBound.apply(SAWB_params_dict_rep['c_SOC'], 1e-8)) #SOC diffusion standard deviation\n",
    "#            diffusion_sqrt[:, :, :, 1 : 2, 1] = torch.sqrt(LowerBound.apply(SAWB_params_dict_rep['c_DOC'], 1e-8)) #DOC diffusion standard deviation\n",
    "#            diffusion_sqrt[:, :, :, 2 : 3, 2] = torch.sqrt(LowerBound.apply(SAWB_params_dict_rep['c_MBC'], 1e-8)) #MBC diffusion standard deviation\n",
    "#            diffusion_sqrt[:, :, :, 3 : 4, 3] = torch.sqrt(LowerBound.apply(SAWB_params_dict_rep['c_EEC'], 1e-8)) #EEC diffusion standard deviation\n",
    "#        elif self.DIFFUSION_TYPE == 'SS':\n",
    "#            diffusion_sqrt[:, :, :, 0 : 1, 0] = torch.sqrt(LowerBound.apply(SOC * SAWB_params_dict_rep['s_SOC'], 1e-8)) #SOC diffusion standard deviation\n",
    "#            diffusion_sqrt[:, :, :, 1 : 2, 1] = torch.sqrt(LowerBound.apply(DOC * SAWB_params_dict_rep['s_DOC'], 1e-8)) #DOC diffusion standard deviation\n",
    "#            diffusion_sqrt[:, :, :, 2 : 3, 2] = torch.sqrt(LowerBound.apply(MBC * SAWB_params_dict_rep['s_MBC'], 1e-8)) #MBC diffusion standard deviation\n",
    "#            diffusion_sqrt[:, :, :, 3 : 4, 3] = torch.sqrt(LowerBound.apply(EEC * SAWB_params_dict_rep['s_EEC'], 1e-8)) #EEC diffusion standard deviation            \n",
    "#        return drift, diffusion_sqrt"
   ]
  },
  {
   "cell_type": "markdown",
   "metadata": {},
   "source": [
    "## Test SAWB"
   ]
  },
  {
   "cell_type": "code",
   "execution_count": 17,
   "metadata": {},
   "outputs": [
    {
     "name": "stdout",
     "output_type": "stream",
     "text": [
      "tensor([[[   0.],\n",
      "         [   1.],\n",
      "         [   2.],\n",
      "         ...,\n",
      "         [ 998.],\n",
      "         [ 999.],\n",
      "         [1000.]]])\n",
      "tensor([[[283.00000000],\n",
      "         [285.59536743],\n",
      "         [288.01434326],\n",
      "         ...,\n",
      "         [284.56951904],\n",
      "         [282.50381470],\n",
      "         [280.92001343]]])\n",
      "283.0\n",
      "tensor([[[0.00100000],\n",
      "         [0.00100036],\n",
      "         [0.00100072],\n",
      "         ...,\n",
      "         [0.00132812],\n",
      "         [0.00132839],\n",
      "         [0.00132866]]])\n",
      "tensor([[[9.99999975e-05],\n",
      "         [1.00035861e-04],\n",
      "         [1.00071724e-04],\n",
      "         ...,\n",
      "         [1.32811969e-04],\n",
      "         [1.32839021e-04],\n",
      "         [1.32866058e-04]]])\n"
     ]
    }
   ],
   "source": [
    "SAWB_SS_test = SAWB(t_span_tensor, i_s_tensor, i_d_tensor, temp_tensor, temp_ref, diffusion_type)\n",
    "SAWB_SS_test_optim = SAWB_optim(t_span_tensor, i_s_tensor, i_d_tensor, temp_tensor, temp_ref, diffusion_type)\n",
    "print(SAWB_SS_test.times)\n",
    "print(SAWB_SS_test.temps)\n",
    "print(SAWB_SS_test.temp_ref)\n",
    "print(SAWB_SS_test.i_S)\n",
    "print(SAWB_SS_test.i_D)"
   ]
  },
  {
   "cell_type": "code",
   "execution_count": 14,
   "metadata": {},
   "outputs": [],
   "source": [
    "SAWB_SS_drift_1, SAWB_SS_diffusion_sqrt_1, SAWB_SS_x_add_CO2_1 = SAWB_SS_test.drift_diffusion_add_CO2(x2, SAWB_SS_dict_out)"
   ]
  },
  {
   "cell_type": "code",
   "execution_count": 18,
   "metadata": {},
   "outputs": [],
   "source": [
    "SAWB_SS_drift_1_optim, SAWB_SS_diffusion_sqrt_1_optim, SAWB_SS_x_add_CO2_1_optim = SAWB_SS_test_optim.drift_diffusion_add_CO2(x2, SAWB_SS_dict_out)"
   ]
  },
  {
   "cell_type": "code",
   "execution_count": 19,
   "metadata": {},
   "outputs": [
    {
     "name": "stdout",
     "output_type": "stream",
     "text": [
      "tensor(True)\n",
      "tensor(True)\n",
      "tensor(True)\n"
     ]
    }
   ],
   "source": [
    "print(torch.all(SAWB_SS_drift_1 == SAWB_SS_drift_1_optim))\n",
    "print(torch.all(SAWB_SS_diffusion_sqrt_1 == SAWB_SS_diffusion_sqrt_1_optim))\n",
    "print(torch.all(SAWB_SS_x_add_CO2_1 == SAWB_SS_x_add_CO2_1_optim))"
   ]
  },
  {
   "cell_type": "code",
   "execution_count": 20,
   "metadata": {},
   "outputs": [],
   "source": [
    "SAWB_SS_drift_2, SAWB_SS_diffusion_sqrt_2 = SAWB_SS_test.drift_diffusion(x2, SAWB_SS_dict_out)\n",
    "SAWB_SS_drift_2_optim, SAWB_SS_diffusion_sqrt_2_optim = SAWB_SS_test_optim.drift_diffusion(x2, SAWB_SS_dict_out)"
   ]
  },
  {
   "cell_type": "code",
   "execution_count": 22,
   "metadata": {},
   "outputs": [
    {
     "name": "stdout",
     "output_type": "stream",
     "text": [
      "tensor(True)\n",
      "tensor(True)\n"
     ]
    }
   ],
   "source": [
    "print(torch.all(SAWB_SS_drift_2 == SAWB_SS_drift_2_optim))\n",
    "print(torch.all(SAWB_SS_diffusion_sqrt_2 == SAWB_SS_diffusion_sqrt_2_optim))"
   ]
  },
  {
   "cell_type": "code",
   "execution_count": 23,
   "metadata": {},
   "outputs": [
    {
     "name": "stdout",
     "output_type": "stream",
     "text": [
      "tensor(True)\n"
     ]
    }
   ],
   "source": [
    "SAWB_SS_x_add_CO2_2 = SAWB_SS_test.add_CO2(x2, SAWB_SS_dict_out)\n",
    "SAWB_SS_x_add_CO2_2_optim = SAWB_SS_test_optim.add_CO2(x2, SAWB_SS_dict_out)\n",
    "print(torch.all(SAWB_SS_x_add_CO2_2 == SAWB_SS_x_add_CO2_2_optim))"
   ]
  },
  {
   "cell_type": "code",
   "execution_count": 24,
   "metadata": {},
   "outputs": [
    {
     "name": "stdout",
     "output_type": "stream",
     "text": [
      "torch.Size([3, 6, 1001, 4])\n"
     ]
    }
   ],
   "source": [
    "num_sequences = 6\n",
    "x2_multi = x2.unsqueeze(1).repeat(1, num_sequences, 1, 1) #batch_size, num_sequences, time_steps, state_dims\n",
    "print(x2_multi.size())"
   ]
  },
  {
   "cell_type": "code",
   "execution_count": 25,
   "metadata": {},
   "outputs": [
    {
     "name": "stdout",
     "output_type": "stream",
     "text": [
      "torch.Size([3, 6, 1001, 1])\n",
      "tensor([[[[43.87416077],\n",
      "          [43.82263947],\n",
      "          [44.69942093],\n",
      "          ...,\n",
      "          [20.17641830],\n",
      "          [19.43882751],\n",
      "          [19.59896469]],\n",
      "\n",
      "         [[43.87416077],\n",
      "          [43.82263947],\n",
      "          [44.69942093],\n",
      "          ...,\n",
      "          [20.17641830],\n",
      "          [19.43882751],\n",
      "          [19.59896469]],\n",
      "\n",
      "         [[43.87416077],\n",
      "          [43.82263947],\n",
      "          [44.69942093],\n",
      "          ...,\n",
      "          [20.17641830],\n",
      "          [19.43882751],\n",
      "          [19.59896469]],\n",
      "\n",
      "         [[43.87416077],\n",
      "          [43.82263947],\n",
      "          [44.69942093],\n",
      "          ...,\n",
      "          [20.17641830],\n",
      "          [19.43882751],\n",
      "          [19.59896469]],\n",
      "\n",
      "         [[43.87416077],\n",
      "          [43.82263947],\n",
      "          [44.69942093],\n",
      "          ...,\n",
      "          [20.17641830],\n",
      "          [19.43882751],\n",
      "          [19.59896469]],\n",
      "\n",
      "         [[43.87416077],\n",
      "          [43.82263947],\n",
      "          [44.69942093],\n",
      "          ...,\n",
      "          [20.17641830],\n",
      "          [19.43882751],\n",
      "          [19.59896469]]],\n",
      "\n",
      "\n",
      "        [[[43.87416077],\n",
      "          [43.82263947],\n",
      "          [44.69942093],\n",
      "          ...,\n",
      "          [20.17641830],\n",
      "          [19.43882751],\n",
      "          [19.59896469]],\n",
      "\n",
      "         [[43.87416077],\n",
      "          [43.82263947],\n",
      "          [44.69942093],\n",
      "          ...,\n",
      "          [20.17641830],\n",
      "          [19.43882751],\n",
      "          [19.59896469]],\n",
      "\n",
      "         [[43.87416077],\n",
      "          [43.82263947],\n",
      "          [44.69942093],\n",
      "          ...,\n",
      "          [20.17641830],\n",
      "          [19.43882751],\n",
      "          [19.59896469]],\n",
      "\n",
      "         [[43.87416077],\n",
      "          [43.82263947],\n",
      "          [44.69942093],\n",
      "          ...,\n",
      "          [20.17641830],\n",
      "          [19.43882751],\n",
      "          [19.59896469]],\n",
      "\n",
      "         [[43.87416077],\n",
      "          [43.82263947],\n",
      "          [44.69942093],\n",
      "          ...,\n",
      "          [20.17641830],\n",
      "          [19.43882751],\n",
      "          [19.59896469]],\n",
      "\n",
      "         [[43.87416077],\n",
      "          [43.82263947],\n",
      "          [44.69942093],\n",
      "          ...,\n",
      "          [20.17641830],\n",
      "          [19.43882751],\n",
      "          [19.59896469]]],\n",
      "\n",
      "\n",
      "        [[[43.87416077],\n",
      "          [43.82263947],\n",
      "          [44.69942093],\n",
      "          ...,\n",
      "          [20.17641830],\n",
      "          [19.43882751],\n",
      "          [19.59896469]],\n",
      "\n",
      "         [[43.87416077],\n",
      "          [43.82263947],\n",
      "          [44.69942093],\n",
      "          ...,\n",
      "          [20.17641830],\n",
      "          [19.43882751],\n",
      "          [19.59896469]],\n",
      "\n",
      "         [[43.87416077],\n",
      "          [43.82263947],\n",
      "          [44.69942093],\n",
      "          ...,\n",
      "          [20.17641830],\n",
      "          [19.43882751],\n",
      "          [19.59896469]],\n",
      "\n",
      "         [[43.87416077],\n",
      "          [43.82263947],\n",
      "          [44.69942093],\n",
      "          ...,\n",
      "          [20.17641830],\n",
      "          [19.43882751],\n",
      "          [19.59896469]],\n",
      "\n",
      "         [[43.87416077],\n",
      "          [43.82263947],\n",
      "          [44.69942093],\n",
      "          ...,\n",
      "          [20.17641830],\n",
      "          [19.43882751],\n",
      "          [19.59896469]],\n",
      "\n",
      "         [[43.87416077],\n",
      "          [43.82263947],\n",
      "          [44.69942093],\n",
      "          ...,\n",
      "          [20.17641830],\n",
      "          [19.43882751],\n",
      "          [19.59896469]]]])\n"
     ]
    }
   ],
   "source": [
    "SOC, DOC, MBC, EEC = torch.chunk(x2_multi, state_dim_SAWB, -1)\n",
    "print(SOC.size())\n",
    "print(SOC)"
   ]
  },
  {
   "cell_type": "code",
   "execution_count": 26,
   "metadata": {},
   "outputs": [
    {
     "name": "stdout",
     "output_type": "stream",
     "text": [
      "torch.Size([1, 1, 1000, 1])\n"
     ]
    }
   ],
   "source": [
    "t_span_tensor_multi = t_span_tensor[:, 1:, :].unsqueeze(1)\n",
    "print(t_span_tensor_multi.size())"
   ]
  },
  {
   "cell_type": "code",
   "execution_count": 27,
   "metadata": {},
   "outputs": [
    {
     "name": "stdout",
     "output_type": "stream",
     "text": [
      "torch.Size([3, 1, 1001, 1])\n"
     ]
    }
   ],
   "source": [
    "test_params_dict_values_multi = torch.rand([batch_size, n, 1]).unsqueeze(1)\n",
    "print(test_params_dict_values_multi.size())"
   ]
  },
  {
   "cell_type": "code",
   "execution_count": 30,
   "metadata": {},
   "outputs": [],
   "source": [
    "SAWB_SS_multi_test = SAWB_multi(t_span_tensor, i_s_tensor, i_d_tensor, temp_tensor, temp_ref, diffusion_type)\n",
    "SAWB_SS_multi_test_optim = SAWB_multi_optim(t_span_tensor, i_s_tensor, i_d_tensor, temp_tensor, temp_ref, diffusion_type)"
   ]
  },
  {
   "cell_type": "code",
   "execution_count": 31,
   "metadata": {},
   "outputs": [],
   "source": [
    "SAWB_SS_drift_multi, SAWB_SS_diffusion_sqrt_multi = SAWB_SS_multi_test.drift_diffusion(x2_multi, SAWB_SS_dict_out)\n",
    "SAWB_SS_drift_multi_optim, SAWB_SS_diffusion_sqrt_multi_optim = SAWB_SS_multi_test_optim.drift_diffusion(x2_multi, SAWB_SS_dict_out)"
   ]
  },
  {
   "cell_type": "code",
   "execution_count": 34,
   "metadata": {
    "scrolled": true
   },
   "outputs": [
    {
     "name": "stdout",
     "output_type": "stream",
     "text": [
      "tensor(True)\n",
      "torch.Size([3, 1000, 4])\n",
      "tensor(True)\n",
      "torch.Size([3, 6, 1000, 4])\n",
      "tensor(True)\n"
     ]
    }
   ],
   "source": [
    "print(torch.all(SAWB_SS_drift_2 == SAWB_SS_drift_2_optim))\n",
    "print(SAWB_SS_drift_2.size())\n",
    "print(torch.all(SAWB_SS_drift_multi == SAWB_SS_drift_multi_optim))\n",
    "print(SAWB_SS_drift_multi.size())\n",
    "print(torch.all(SAWB_SS_drift_multi[:, 0, :, :] == SAWB_SS_drift_2))"
   ]
  },
  {
   "cell_type": "markdown",
   "metadata": {},
   "source": [
    "## Test SAWB-ECA"
   ]
  },
  {
   "cell_type": "code",
   "execution_count": 35,
   "metadata": {},
   "outputs": [],
   "source": [
    "#Parameter prior means\n",
    "u_Q_ref_mean = 0.2\n",
    "Q_mean = 0.001\n",
    "a_MSA_mean = 0.5\n",
    "K_DE_mean = 1850\n",
    "K_UE_mean = 0.2\n",
    "V_DE_ref_mean = 0.16\n",
    "V_UE_ref_mean = 0.012\n",
    "Ea_V_DE_mean = 65\n",
    "Ea_V_UE_mean = 55\n",
    "r_M_mean = 0.0018\n",
    "r_E_mean = 0.00003\n",
    "r_L_mean = 0.000008\n",
    "s_SOC_mean = 0.005\n",
    "s_DOC_mean = 0.005\n",
    "s_MBC_mean = 0.005\n",
    "s_EEC_mean = 0.005\n",
    "\n",
    "#SAWB-ECA theta truncated normal distribution parameter details in order of mean, sdev, lower, and upper.\n",
    "u_Q_ref_details = torch.Tensor([u_Q_ref_mean, u_Q_ref_mean * prior_scale_factor, 0, 1])\n",
    "Q_details = torch.Tensor([Q_mean, Q_mean * prior_scale_factor, 0, 1])\n",
    "a_MSA_details = torch.Tensor([a_MSA_mean, a_MSA_mean * prior_scale_factor, 0, 1])\n",
    "K_DE_details = torch.Tensor([K_DE_mean, K_DE_mean * prior_scale_factor, 0, 10000])\n",
    "K_UE_details = torch.Tensor([K_UE_mean, K_UE_mean * prior_scale_factor, 0, 100])\n",
    "V_DE_ref_details = torch.Tensor([V_DE_ref_mean, V_DE_ref_mean * prior_scale_factor, 0, 10])\n",
    "V_UE_ref_details = torch.Tensor([V_UE_ref_mean, V_UE_ref_mean * prior_scale_factor, 0, 1])\n",
    "Ea_V_DE_details = torch.Tensor([Ea_V_DE_mean, Ea_V_DE_mean * prior_scale_factor, 10, 150])\n",
    "Ea_V_UE_details = torch.Tensor([Ea_V_UE_mean, Ea_V_UE_mean * prior_scale_factor, 10, 150])\n",
    "r_M_details = torch.Tensor([r_M_mean, r_M_mean * prior_scale_factor, 0, 1])\n",
    "r_E_details = torch.Tensor([r_E_mean, r_M_mean * prior_scale_factor, 0, 1])\n",
    "r_L_details = torch.Tensor([r_L_mean, r_M_mean * prior_scale_factor, 0, 1])\n",
    "\n",
    "#SAWB-ECA-SS diffusion matrix parameter distribution details\n",
    "s_SOC_details = torch.Tensor([s_SOC_mean, s_SOC_mean * prior_scale_factor, 0, 1])\n",
    "s_DOC_details = torch.Tensor([s_DOC_mean, s_DOC_mean * prior_scale_factor, 0, 1])\n",
    "s_MBC_details = torch.Tensor([s_MBC_mean, s_MBC_mean * prior_scale_factor, 0, 1])\n",
    "s_EEC_details = torch.Tensor([s_EEC_mean, s_EEC_mean * prior_scale_factor, 0, 1])\n",
    "\n",
    "SAWB_ECA_SS_priors_details = {'u_Q_ref': u_Q_ref_details, 'Q': Q_details, 'a_MSA': a_MSA_details, 'K_DE': K_DE_details, 'K_UE': K_UE_details, 'V_DE_ref': V_DE_ref_details, 'V_UE_ref': V_UE_ref_details, 'Ea_V_DE': Ea_V_DE_details, 'Ea_V_UE': Ea_V_UE_details, 'r_M': r_M_details, 'r_E': r_E_details, 'r_L': r_L_details, 's_SOC': s_SOC_details, 's_DOC': s_DOC_details, 's_MBC': s_MBC_details, 's_EEC': s_EEC_details}"
   ]
  },
  {
   "cell_type": "code",
   "execution_count": 36,
   "metadata": {},
   "outputs": [],
   "source": [
    "param_names_ECA = list(SAWB_ECA_SS_priors_details.keys())\n",
    "prior_list_ECA = list(zip(*(SAWB_ECA_SS_priors_details[k] for k in param_names_ECA))) #Unzip prior distribution details from dictionary values into individual lists.\n",
    "prior_means_tensor_ECA, prior_sds_tensor_ECA, prior_lowers_tensor_ECA, prior_uppers_tensor_ECA = torch.tensor(prior_list_ECA).to(active_device) #Ensure conversion of lists into tensors.\n",
    "priors_ECA = TruncatedNormal(loc = prior_means_tensor_ECA, scale = prior_sds_tensor_ECA, a = prior_lowers_tensor_ECA, b = prior_uppers_tensor_ECA)"
   ]
  },
  {
   "cell_type": "code",
   "execution_count": 37,
   "metadata": {},
   "outputs": [],
   "source": [
    "q_theta_SAWB_ECA_SS = MeanField(active_device, param_names_ECA, SAWB_ECA_SS_priors_details, TruncatedNormal, False)\n",
    "SAWB_ECA_SS_dict_out, SAWB_ECA_SS_samples, _, _ = q_theta_SAWB_ECA_SS(batch_size)"
   ]
  },
  {
   "cell_type": "code",
   "execution_count": null,
   "metadata": {},
   "outputs": [],
   "source": [
    "SAWB_ECA_SS_multi_test = SAWB_ECA_multi(t_span_tensor, i_s_tensor, i_d_tensor, temp_tensor, temp_ref, diffusion_type)"
   ]
  },
  {
   "cell_type": "code",
   "execution_count": null,
   "metadata": {},
   "outputs": [],
   "source": [
    "SAWB_ECA_SS_drift_multi, SAWB_ECA_SS_diffusion_sqrt_multi = SAWB_ECA_SS_multi_test.drift_diffusion(x2_multi, SAWB_ECA_SS_dict_out)"
   ]
  },
  {
   "cell_type": "markdown",
   "metadata": {},
   "source": [
    "## SCON"
   ]
  },
  {
   "cell_type": "code",
   "execution_count": null,
   "metadata": {},
   "outputs": [],
   "source": [
    "#SCON theta truncated normal prior distribution parameter details in order of mean, lower, and upper. Distribution sdev assumed to be some proportion of the mean. \n",
    "u_M_details = torch.Tensor([0.0016, 0.0016 * prior_scale_factor, 0, 0.1]).to(active_device)\n",
    "a_SD_details = torch.Tensor([0.5, 0.5 * prior_scale_factor, 0, 1]).to(active_device)\n",
    "a_DS_details = torch.Tensor([0.5, 0.5 * prior_scale_factor, 0, 1]).to(active_device)\n",
    "a_M_details = torch.Tensor([0.5, 0.5 * prior_scale_factor, 0, 1]).to(active_device)\n",
    "a_MSC_details = torch.Tensor([0.5, 0.5 * prior_scale_factor, 0, 1]).to(active_device)\n",
    "k_S_ref_details = torch.Tensor([0.0005, 0.0005 * prior_scale_factor, 0, 0.01]).to(active_device)\n",
    "k_D_ref_details = torch.Tensor([0.0008, 0.0008 * prior_scale_factor, 0, 0.01]).to(active_device)\n",
    "k_M_ref_details = torch.Tensor([0.0007, 0.0007 * prior_scale_factor, 0, 0.01]).to(active_device)\n",
    "Ea_S_details = torch.Tensor([55, 55 * prior_scale_factor, 10, 100]).to(active_device)\n",
    "Ea_D_details = torch.Tensor([48, 48 * prior_scale_factor, 10, 100]).to(active_device)\n",
    "Ea_M_details = torch.Tensor([48, 48 * prior_scale_factor, 10, 100]).to(active_device)\n",
    "\n",
    "#SCON-C diffusion matrix parameter truncated normal prior distribution parameter details in order of mean, lower, and upper. \n",
    "c_SOC_details = torch.Tensor([0.1, 0.1 * prior_scale_factor, 0, 1]).to(active_device)\n",
    "c_DOC_details = torch.Tensor([0.002, 0.002 * prior_scale_factor, 0, 0.02]).to(active_device)\n",
    "c_MBC_details = torch.Tensor([0.002, 0.002 * prior_scale_factor, 0, 0.02]).to(active_device)\n",
    "\n",
    "SCON_C_priors_details = {'u_M': u_M_details, 'a_SD': a_SD_details, 'a_DS': a_DS_details, 'a_M': a_M_details, 'a_MSC': a_MSC_details, 'k_S_ref': k_S_ref_details, 'k_D_ref': k_D_ref_details, 'k_M_ref': k_M_ref_details, 'Ea_S': Ea_S_details, 'Ea_D': Ea_D_details, 'Ea_M': Ea_M_details, 'c_SOC': c_SOC_details, 'c_DOC': c_DOC_details, 'c_MBC': c_MBC_details}\n",
    "\n",
    "diffusion_type_C = 'C'"
   ]
  },
  {
   "cell_type": "code",
   "execution_count": null,
   "metadata": {},
   "outputs": [],
   "source": [
    "param_names_SCON_C = list(SCON_C_priors_details.keys())\n",
    "prior_list_SCON_C = list(zip(*(SCON_C_priors_details[k] for k in param_names_SCON_C))) #Unzip prior distribution details from dictionary values into individual lists.\n",
    "prior_means_tensor_SCON_C, prior_sds_tensor_SCON_C, prior_lowers_tensor_SCON_C, prior_uppers_tensor_SCON_C = torch.tensor(prior_list_SCON_C).to(active_device) #Ensure conversion of lists into tensors.\n",
    "priors_SCON_C = TruncatedNormal(loc = prior_means_tensor_SCON_C, scale = prior_sds_tensor_SCON_C, a = prior_lowers_tensor_SCON_C, b = prior_uppers_tensor_SCON_C)"
   ]
  },
  {
   "cell_type": "code",
   "execution_count": null,
   "metadata": {},
   "outputs": [],
   "source": [
    "q_theta_SCON_C = MeanField(active_device, param_names_SCON_C, SCON_C_priors_details, TruncatedNormal, False)\n",
    "SCON_C_dict_out, SCON_C_samples, _, _ = q_theta_SCON_C(batch_size)"
   ]
  },
  {
   "cell_type": "code",
   "execution_count": null,
   "metadata": {},
   "outputs": [],
   "source": [
    "SCON_C_multi_test = SCON_multi(t_span_tensor, i_s_tensor, i_d_tensor, temp_tensor, temp_ref, diffusion_type_C)"
   ]
  },
  {
   "cell_type": "code",
   "execution_count": null,
   "metadata": {},
   "outputs": [],
   "source": [
    "x_multi = x.unsqueeze(1).repeat(1, num_sequences, 1, 1) #batch_size, num_sequences, time_steps, state_dims\n",
    "print(x_multi.size())"
   ]
  },
  {
   "cell_type": "code",
   "execution_count": null,
   "metadata": {},
   "outputs": [],
   "source": [
    "SCON_C_drift_multi, SCON_C_diffusion_sqrt_multi = SCON_C_multi_test.drift_diffusion(x_multi, SCON_C_dict_out)"
   ]
  },
  {
   "cell_type": "code",
   "execution_count": null,
   "metadata": {},
   "outputs": [],
   "source": []
  }
 ],
 "metadata": {
  "kernelspec": {
   "display_name": "Python 3",
   "language": "python",
   "name": "python3"
  },
  "language_info": {
   "codemirror_mode": {
    "name": "ipython",
    "version": 3
   },
   "file_extension": ".py",
   "mimetype": "text/x-python",
   "name": "python",
   "nbconvert_exporter": "python",
   "pygments_lexer": "ipython3",
   "version": "3.8.5"
  }
 },
 "nbformat": 4,
 "nbformat_minor": 5
}
