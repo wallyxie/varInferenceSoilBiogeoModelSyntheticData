{
 "cells": [
  {
   "cell_type": "code",
   "execution_count": 1,
   "metadata": {},
   "outputs": [],
   "source": [
    "# Hack to import from a parent directory\n",
    "import sys\n",
    "path = '..'\n",
    "if path not in sys.path:\n",
    "    sys.path.append(path)\n",
    "\n",
    "from plot_offline import *\n",
    "fig_dir = '../figs'"
   ]
  },
  {
   "cell_type": "markdown",
   "metadata": {},
   "source": [
    "## Truncated-normal theta distribution"
   ]
  },
  {
   "cell_type": "code",
   "execution_count": null,
   "metadata": {},
   "outputs": [],
   "source": [
    "#net_file = '../training_pt_outputs/net_iter_390000_t_1000_dt_1.0_batch_35_layers_5_lr_0.0005_sd_scale_0.333_SCONR_C_fix_a_Ea_trunc_2021_08_09_05_54_02.pt'\n",
    "#kf_file = '../training_pt_outputs/kf_fix_a_Ea_trunc.pt'\n",
    "p_file = '../training_pt_outputs/p_theta_iter_440000_t_1000_dt_1.0_batch_32_layers_5_lr_0.0001_sd_scale_0.333_SCONR_C_fix_u_M_a_Ea_c_trunc_2021_08_20_12_26_52.pt'\n",
    "q_file = '../training_pt_outputs/q_theta_iter_440000_t_1000_dt_1.0_batch_32_layers_5_lr_0.0001_sd_scale_0.333_SCONR_C_fix_u_M_a_Ea_c_trunc_2021_08_20_12_26_52.pt'\n",
    "theta_file = '../generated_data/SCONR_C_fix_u_M_a_Ea_c_trunc_sample_y_t_1000_dt_0-01_sd_scale_0-333_rsample.pt'"
   ]
  },
  {
   "cell_type": "code",
   "execution_count": null,
   "metadata": {
    "scrolled": false
   },
   "outputs": [],
   "source": [
    "plot_states(net_file, kf_file, 'states_fix_a_Ea_trunc_each.png', fig_dir=fig_dir, summarize_net=False,\n",
    "            ymin_list = [0, 0, 0], ymax_list = [100., 12., 13.], num_samples=50)"
   ]
  },
  {
   "cell_type": "code",
   "execution_count": null,
   "metadata": {
    "scrolled": false
   },
   "outputs": [],
   "source": [
    "plot_states(net_file, kf_file, 'states_fix_a_Ea_trunc.png', fig_dir=fig_dir,\n",
    "            ymin_list = [0, 0, 0], ymax_list = [100., 12., 13.], num_samples=50)"
   ]
  },
  {
   "cell_type": "code",
   "execution_count": null,
   "metadata": {},
   "outputs": [],
   "source": [
    "plot_theta(p_file, q_file, theta_file, 'theta_fix_u_M_a_Ea_c_trunc.png', fig_dir=fig_dir)"
   ]
  },
  {
   "cell_type": "markdown",
   "metadata": {},
   "source": [
    "## Logit-normal theta distribution"
   ]
  },
  {
   "cell_type": "code",
   "execution_count": null,
   "metadata": {},
   "outputs": [],
   "source": [
    "net_file = '../training_pt_outputs/net_iter_390000_t_1000_dt_1.0_batch_35_layers_5_lr_0.0005_sd_scale_0.333_SCONR_C_fix_a_Ea_logit_alt_2021_08_09_05_58_42.pt'\n",
    "kf_file = '../training_pt_outputs/kf_fix_a_Ea_logit_alt.pt'\n",
    "p_file = '../training_pt_outputs/p_theta_iter_390000_t_1000_dt_1.0_batch_35_layers_5_lr_0.0005_sd_scale_0.333_SCONR_C_fix_a_Ea_logit_alt_2021_08_09_05_58_42.pt'\n",
    "q_file = '../training_pt_outputs/q_theta_iter_390000_t_1000_dt_1.0_batch_35_layers_5_lr_0.0005_sd_scale_0.333_SCONR_C_fix_a_Ea_logit_alt_2021_08_09_05_58_42.pt'\n",
    "theta_file = '../generated_data/SCONR_C_fix_a_Ea_logit_alt_sample_y_t_1000_dt_0-01_sd_scale_0-333_rsample.pt'"
   ]
  },
  {
   "cell_type": "code",
   "execution_count": null,
   "metadata": {},
   "outputs": [],
   "source": [
    "plot_states(net_file, kf_file, 'states_fix_a_Ea_logit_each.png', fig_dir=fig_dir, summarize_net=False,\n",
    "            ymin_list = [0, 0, 0], ymax_list = [100., 12., 10.], num_samples=50)"
   ]
  },
  {
   "cell_type": "code",
   "execution_count": null,
   "metadata": {},
   "outputs": [],
   "source": [
    "plot_states(net_file, kf_file, 'states_fix_a_Ea_logit.png', fig_dir=fig_dir,\n",
    "            ymin_list = [0, 0, 0], ymax_list = [100., 12., 10.], num_samples=50)"
   ]
  },
  {
   "cell_type": "code",
   "execution_count": null,
   "metadata": {
    "scrolled": false
   },
   "outputs": [],
   "source": [
    "plot_theta(p_file, q_file, theta_file, 'theta_fix_a_Ea_logit.png', fig_dir=fig_dir)"
   ]
  },
  {
   "cell_type": "markdown",
   "metadata": {},
   "source": [
    "## Truncated-normal prior, multivariate logit-normal posterior"
   ]
  },
  {
   "cell_type": "code",
   "execution_count": null,
   "metadata": {},
   "outputs": [],
   "source": [
    "kf_file = '../training_pt_outputs/kf_trunc.pt'\n",
    "theta_file = '../generated_data/SCON_C_trunc_sample_y_t_1000_dt_0-01_sd_scale_0-333_rsample.pt'\n",
    "net_file = '../training_pt_outputs/net_iter_400000_t_1000_dt_1.0_batch_35_layers_5_lr_0.0005_sd_scale_0.333_SCON_C_trunc_multi_2021_08_10_15_46_21.pt'\n",
    "p_file = '../training_pt_outputs/p_theta_iter_400000_t_1000_dt_1.0_batch_35_layers_5_lr_0.0005_sd_scale_0.333_SCON_C_trunc_multi_2021_08_10_15_46_21.pt'\n",
    "q_file = '../training_pt_outputs/q_theta_iter_400000_t_1000_dt_1.0_batch_35_layers_5_lr_0.0005_sd_scale_0.333_SCON_C_trunc_multi_2021_08_10_15_46_21.pt'"
   ]
  },
  {
   "cell_type": "code",
   "execution_count": null,
   "metadata": {},
   "outputs": [],
   "source": [
    "plot_states(net_file, kf_file, 'states_multivar_each.png', fig_dir=fig_dir, summarize_net=False,\n",
    "            ymin_list = [0, 0, 0], ymax_list = [100., 12., 10.], num_samples=50)"
   ]
  },
  {
   "cell_type": "code",
   "execution_count": null,
   "metadata": {},
   "outputs": [],
   "source": [
    "plot_states(net_file, kf_file, 'states_multivar.png', fig_dir=fig_dir,\n",
    "            ymin_list = [0, 0, 0], ymax_list = [100., 12., 10.], num_samples=50)"
   ]
  },
  {
   "cell_type": "code",
   "execution_count": null,
   "metadata": {},
   "outputs": [],
   "source": [
    "plot_theta(p_file, q_file, theta_file, 'theta_multivar.png', fig_dir=fig_dir)"
   ]
  },
  {
   "cell_type": "markdown",
   "metadata": {},
   "source": [
    "## ELBO"
   ]
  },
  {
   "cell_type": "code",
   "execution_count": null,
   "metadata": {},
   "outputs": [],
   "source": [
    "device=torch.device('cpu')\n",
    "p_dist = torch.load(p_file, map_location=device)\n",
    "q_theta = torch.load(q_file, map_location=device)"
   ]
  },
  {
   "cell_type": "code",
   "execution_count": null,
   "metadata": {},
   "outputs": [],
   "source": [
    "q_theta.learn_cov"
   ]
  },
  {
   "cell_type": "code",
   "execution_count": null,
   "metadata": {},
   "outputs": [],
   "source": [
    "loc = q_theta.means\n",
    "scale_tril = D.transform_to(q_theta.dist.arg_constraints['scale_tril'])(q_theta.sds)\n",
    "scale = torch.diag(scale_tril)\n",
    "lower = q_theta.lowers\n",
    "upper = q_theta.uppers"
   ]
  },
  {
   "cell_type": "code",
   "execution_count": null,
   "metadata": {},
   "outputs": [],
   "source": [
    "q_marg = RescaledLogitNormal(loc, scale, a = lower, b = upper)"
   ]
  },
  {
   "cell_type": "code",
   "execution_count": null,
   "metadata": {},
   "outputs": [],
   "source": [
    "cov_mat = scale_tril @ scale_tril.T\n",
    "plt.imshow(cov_mat.detach())\n",
    "plt.colorbar()"
   ]
  },
  {
   "cell_type": "code",
   "execution_count": null,
   "metadata": {},
   "outputs": [],
   "source": [
    "cov_mat = scale_tril @ scale_tril.T\n",
    "plt.imshow(cov_mat.detach(), cmap='coolwarm', vmin=-0.1, vmax=0.1)\n",
    "plt.colorbar()"
   ]
  },
  {
   "cell_type": "code",
   "execution_count": null,
   "metadata": {},
   "outputs": [],
   "source": [
    "scale = torch.diag(cov_mat).sqrt()\n",
    "scale_prod = torch.outer(scale, scale)"
   ]
  },
  {
   "cell_type": "code",
   "execution_count": null,
   "metadata": {},
   "outputs": [],
   "source": [
    "cov_mat"
   ]
  },
  {
   "cell_type": "code",
   "execution_count": null,
   "metadata": {},
   "outputs": [],
   "source": [
    "scale_prod"
   ]
  },
  {
   "cell_type": "code",
   "execution_count": null,
   "metadata": {},
   "outputs": [],
   "source": [
    "corr = cov_mat / scale_prod\n",
    "corr"
   ]
  },
  {
   "cell_type": "code",
   "execution_count": null,
   "metadata": {},
   "outputs": [],
   "source": [
    "num_params = len(loc)\n",
    "plt.figure(figsize = (8, 8))\n",
    "plt.imshow(corr.detach(), cmap='coolwarm', vmin=-1, vmax=1)\n",
    "plt.colorbar()\n",
    "plt.xticks(range(num_params), labels=q_theta.keys, rotation='vertical')\n",
    "plt.yticks(range(num_params), labels=q_theta.keys)\n",
    "plt.title('Correlation between parameters');"
   ]
  },
  {
   "cell_type": "code",
   "execution_count": null,
   "metadata": {},
   "outputs": [],
   "source": [
    "elbo_file = '../training_pt_outputs/ELBO_iter_450000_t_1000_dt_1.0_batch_15_layers_5_lr_0.0005_sd_scale_0.333_trunc_2021_07_18_10_20_15.pt'"
   ]
  },
  {
   "cell_type": "code",
   "execution_count": null,
   "metadata": {},
   "outputs": [],
   "source": [
    "elbo_hist = torch.load(elbo_file, map_location=torch.device('cpu'))"
   ]
  },
  {
   "cell_type": "code",
   "execution_count": null,
   "metadata": {},
   "outputs": [],
   "source": [
    "plt.plot(elbo_hist[200000:], linewidth=1)"
   ]
  },
  {
   "cell_type": "code",
   "execution_count": null,
   "metadata": {},
   "outputs": [],
   "source": [
    "q_theta = torch.load('../this_week/q_theta_trunc.pt', map_location=torch.device('cpu'))\n",
    "p_theta = torch.load('../this_week/p_theta_trunc.pt', map_location=torch.device('cpu'))\n",
    "theta = torch.load('../this_week/theta_trunc.pt')"
   ]
  },
  {
   "cell_type": "code",
   "execution_count": null,
   "metadata": {
    "scrolled": true
   },
   "outputs": [],
   "source": [
    "i = q_theta.keys.index('c_SOC')\n",
    "theta['c_SOC']"
   ]
  },
  {
   "cell_type": "code",
   "execution_count": null,
   "metadata": {},
   "outputs": [],
   "source": [
    "p_theta.loc[i], p_theta.scale[i]"
   ]
  },
  {
   "cell_type": "code",
   "execution_count": null,
   "metadata": {},
   "outputs": [],
   "source": [
    "lower = q_theta.lowers\n",
    "upper = q_theta.uppers\n",
    "p_theta.loc[i], p_theta.scale[i], lower[i], upper[i]"
   ]
  },
  {
   "cell_type": "code",
   "execution_count": null,
   "metadata": {},
   "outputs": [],
   "source": [
    "from TruncatedNormal import *\n",
    "x = torch.from_numpy(np.linspace(0, 0.2, 10000))\n",
    "pdf = TruncatedNormal(p_theta.loc[i], p_theta.scale[i], lower[i], upper[i]).log_prob(x)"
   ]
  },
  {
   "cell_type": "code",
   "execution_count": null,
   "metadata": {},
   "outputs": [],
   "source": [
    "x"
   ]
  },
  {
   "cell_type": "code",
   "execution_count": null,
   "metadata": {},
   "outputs": [],
   "source": [
    "x.shape"
   ]
  },
  {
   "cell_type": "code",
   "execution_count": null,
   "metadata": {},
   "outputs": [],
   "source": [
    "plt.plot(x[:, i], pdf[:, i])"
   ]
  },
  {
   "cell_type": "code",
   "execution_count": null,
   "metadata": {},
   "outputs": [],
   "source": [
    "p_theta.mean"
   ]
  },
  {
   "cell_type": "code",
   "execution_count": null,
   "metadata": {},
   "outputs": [],
   "source": [
    "p_theta.stddev"
   ]
  },
  {
   "cell_type": "markdown",
   "metadata": {},
   "source": [
    "# Archive"
   ]
  },
  {
   "cell_type": "code",
   "execution_count": null,
   "metadata": {},
   "outputs": [],
   "source": [
    "import torch.distributions as D\n"
   ]
  },
  {
   "cell_type": "code",
   "execution_count": null,
   "metadata": {},
   "outputs": [],
   "source": [
    "from LogitNormal import *\n",
    "from TruncatedNormal import *"
   ]
  },
  {
   "cell_type": "code",
   "execution_count": null,
   "metadata": {},
   "outputs": [],
   "source": [
    "x = RescaledLogitNormal()"
   ]
  },
  {
   "cell_type": "code",
   "execution_count": null,
   "metadata": {},
   "outputs": [],
   "source": [
    "x.mean"
   ]
  },
  {
   "cell_type": "code",
   "execution_count": null,
   "metadata": {},
   "outputs": [],
   "source": [
    "x.variance"
   ]
  },
  {
   "cell_type": "code",
   "execution_count": null,
   "metadata": {},
   "outputs": [],
   "source": [
    "x.stddev"
   ]
  },
  {
   "cell_type": "markdown",
   "metadata": {},
   "source": [
    "### Visualizing $\\theta$\n",
    "\n",
    "TODO:\n",
    "- Add true theta value\n",
    "- (Maybe) zoom in"
   ]
  },
  {
   "cell_type": "code",
   "execution_count": null,
   "metadata": {},
   "outputs": [],
   "source": [
    "def plot_theta(p_theta_file, q_theta_file, true_theta_file, nrows=4, ncols=4, device=torch.device('cpu')):\n",
    "    # Load prior distribution\n",
    "    p_dist = torch.load(p_theta_file, map_location=device)\n",
    "    \n",
    "    # Load posterior distribution\n",
    "    q_theta = torch.load(q_theta_file, map_location=device)\n",
    "    loc = q_theta.means\n",
    "    scale = torch.maximum(q_theta.sds, torch.tensor(1e-6))\n",
    "    lower = q_theta.lowers\n",
    "    upper = q_theta.uppers\n",
    "    q_dist = q_theta.dist(loc, scale, a = lower, b = upper)\n",
    "    \n",
    "    # Load true theta\n",
    "    true_theta = torch.load(true_theta_file, map_location=device)\n",
    "    \n",
    "    # Compute prior and posterior densities at points x\n",
    "    num_pts = 1000\n",
    "    x = torch.from_numpy(np.linspace(lower, upper, num_pts))\n",
    "    pdf_prior = torch.exp(q_dist.log_prob(x)).detach()\n",
    "    pdf_post = torch.exp(p_dist.log_prob(x)).detach()\n",
    "    \n",
    "    # Plot\n",
    "    fig, axes = plt.subplots(nrows, ncols, figsize=(15, 15))\n",
    "    k = 0\n",
    "    for i, row in enumerate(axes):\n",
    "        for j, ax in enumerate(row):\n",
    "            if k < 14:\n",
    "                key = q_theta.keys[k]\n",
    "                ax.plot(x[:, k], pdf_prior[:, k], label='Prior $p(\\\\theta)$')\n",
    "                ax.plot(x[:, k], pdf_post[:, k], label='Approximate posterior $q(\\\\theta)$')\n",
    "                ax.axvline(true_theta[key], color='gray', label='True $\\\\theta$')\n",
    "                ax.set_xlabel(key)\n",
    "                ax.set_ylabel('density')\n",
    "            elif k == 14:\n",
    "                handles, labels = axes[0, 0].get_legend_handles_labels()\n",
    "                ax.legend(handles, labels, loc='center')\n",
    "                ax.axis('off')\n",
    "            else:\n",
    "                fig.delaxes(axes[i, j])\n",
    "            k += 1\n",
    "            \n",
    "    plt.tight_layout()\n",
    "    plt.show()"
   ]
  },
  {
   "cell_type": "code",
   "execution_count": null,
   "metadata": {},
   "outputs": [],
   "source": [
    "p_file = '../results/p_theta_logit.pt'\n",
    "q_file = '../results/q_theta_logit.pt'\n",
    "true_theta_file = '../results/true_theta_logit.pt'\n",
    "plot_theta(p_file, q_file, true_theta_file)"
   ]
  },
  {
   "cell_type": "code",
   "execution_count": null,
   "metadata": {},
   "outputs": [],
   "source": [
    "'/'.join(['dir', 'file.png'])"
   ]
  },
  {
   "cell_type": "code",
   "execution_count": null,
   "metadata": {},
   "outputs": [],
   "source": [
    "p_file = '../results/p_theta_trunc.pt'\n",
    "q_file = '../results/q_theta_trunc.pt'\n",
    "plot_theta(p_file, q_file)"
   ]
  },
  {
   "cell_type": "code",
   "execution_count": null,
   "metadata": {},
   "outputs": [],
   "source": [
    "loc = q_theta.means\n",
    "scale = torch.maximum(q_theta.sds, torch.tensor(1e-6))\n",
    "lower = q_theta.lowers\n",
    "upper = q_theta.uppers\n",
    "q_dist = q_theta.dist(loc, scale, a = lower, b = upper)"
   ]
  },
  {
   "cell_type": "code",
   "execution_count": null,
   "metadata": {},
   "outputs": [],
   "source": [
    "num_pts = 1000\n",
    "x = torch.from_numpy(np.linspace(lower, upper, num_pts)) # (num_pts, event_shape)"
   ]
  },
  {
   "cell_type": "code",
   "execution_count": null,
   "metadata": {},
   "outputs": [],
   "source": [
    "pdf = torch.exp(q_dist.log_prob(x)) # (num_pts, event_shape)"
   ]
  },
  {
   "cell_type": "code",
   "execution_count": null,
   "metadata": {},
   "outputs": [],
   "source": [
    "x.shape, pdf.shape"
   ]
  },
  {
   "cell_type": "code",
   "execution_count": null,
   "metadata": {},
   "outputs": [],
   "source": [
    "plt.plot(x[:, 0], pdf.detach()[:, 0])"
   ]
  },
  {
   "cell_type": "code",
   "execution_count": null,
   "metadata": {},
   "outputs": [],
   "source": [
    "plt.plot(x[:, 0], pdf.detach()[:, 0])"
   ]
  },
  {
   "cell_type": "code",
   "execution_count": null,
   "metadata": {},
   "outputs": [],
   "source": [
    "q_theta.keys"
   ]
  },
  {
   "cell_type": "code",
   "execution_count": null,
   "metadata": {},
   "outputs": [],
   "source": [
    "q_theta.dist"
   ]
  },
  {
   "cell_type": "code",
   "execution_count": null,
   "metadata": {},
   "outputs": [],
   "source": [
    "p_dist = torch.load('../results/p_theta_logit.pt')"
   ]
  },
  {
   "cell_type": "code",
   "execution_count": null,
   "metadata": {},
   "outputs": [],
   "source": [
    "torch.load('../results/p_theta_trunc.pt')"
   ]
  },
  {
   "cell_type": "code",
   "execution_count": null,
   "metadata": {},
   "outputs": [],
   "source": [
    "torch.load('../results/p_theta_logit.pt')"
   ]
  },
  {
   "cell_type": "code",
   "execution_count": null,
   "metadata": {},
   "outputs": [],
   "source": [
    "p_dist.sigmoid"
   ]
  },
  {
   "cell_type": "code",
   "execution_count": null,
   "metadata": {},
   "outputs": [],
   "source": [
    "fig, axes = plt.subplots(2, 2)"
   ]
  },
  {
   "cell_type": "code",
   "execution_count": null,
   "metadata": {},
   "outputs": [],
   "source": [
    "theta_trunc = torch.load('SCON_C_trunc_sample_y_t_1000_dt_0-01_sd_scale_0-333_rsample.pt')"
   ]
  },
  {
   "cell_type": "code",
   "execution_count": null,
   "metadata": {},
   "outputs": [],
   "source": [
    "theta_trunc"
   ]
  },
  {
   "cell_type": "markdown",
   "metadata": {},
   "source": [
    "### Visualizing `net`\n",
    "\n",
    "TODO:\n",
    "- Add Kalman smoother results\n",
    "- Remove obs stddev"
   ]
  },
  {
   "cell_type": "code",
   "execution_count": null,
   "metadata": {},
   "outputs": [],
   "source": [
    "def plot_net(net_file, kf_file, num_samples=10, ymin_list=None, ymax_list=None, device=torch.device('cpu')):\n",
    "    # Load net object\n",
    "    net = torch.load(net_file, map_location=device)\n",
    "    obs_model, state_dim, t, dt = net.obs_model, net.state_dim, net.t, net.dt\n",
    "    \n",
    "    # Load KalmanFilter object\n",
    "    kf = torch.load(kf_file, map_location=device)\n",
    "    \n",
    "    # Draw samples of x\n",
    "    net.device = device\n",
    "    net.eval()\n",
    "    x, _ = net(num_samples)\n",
    "    \n",
    "    # Define figure and axes objects\n",
    "    state_list = ['SOC', 'DOC', 'MBC', 'EEC']\n",
    "    fig, axs = plt.subplots(state_dim, figsize=(15, 15))\n",
    "    if ymin_list is None:\n",
    "        ymin_list = [None] * state_dim\n",
    "    if ymax_list is None:\n",
    "        ymax_list = [None] * state_dim\n",
    "    \n",
    "    for i in range(state_dim):\n",
    "        net_mean, net_sd = x[:, :, i].mean(0).detach(), x[:, :, i].std(0).detach()\n",
    "        kf_mean, kf_sd = kf.mu_smooth[:, i], kf.sigma_smooth[:, i, i].sqrt()\n",
    "        hours = torch.arange(0, t + dt, dt)\n",
    "        \n",
    "        # Plot net posterior\n",
    "        axs[i].plot(hours, net_mean, label = 'SDE flow mean')\n",
    "        axs[i].fill_between(hours, net_mean - 2 * net_sd, net_mean + 2 * net_sd,\n",
    "                            alpha = 0.4, label = 'SDE flow $\\\\mu \\pm 2\\sigma_x$')\n",
    "        \n",
    "        # Plot kf posterior\n",
    "        axs[i].plot(hours, kf_mean, label = 'Kalman smoother mean')\n",
    "        axs[i].fill_between(hours, kf_mean - 2 * kf_sd, kf_mean + 2 * kf_sd,\n",
    "                            alpha = 0.4, label = 'Kalman smoother $\\\\mu \\pm 2\\sigma_x$')\n",
    "        \n",
    "        # Plot observations\n",
    "        axs[i].plot(obs_model.times, obs_model.mu[i, :], linestyle = 'None', marker = '.', label = 'Observed')\n",
    "        #axs[i].fill_between(obs_model.times, obs_model.mu[i, :] - 2 * obs_model.scale[:, i], obs_model.mu[i, :] + 2 * obs_model.scale[:, i], alpha = 0.4, label = 'Observation $\\\\mu \\pm 2\\sigma_y$')\n",
    "        \n",
    "        state = state_list[i]\n",
    "        axs[i].set_ylabel(state) #plt.setp(axs[i], ylabel = state)\n",
    "        ymin = ymin_list[i]\n",
    "        ymax = ymax_list[i]\n",
    "        axs[i].set_ylim([ymin, ymax])\n",
    "        #plt.title(f'Approximate posterior $q(x|\\\\theta, y)$\\nNumber of samples = {eval_batch_size}\\nTimestep = {dt}\\nIterations = {niter}')\n",
    "    \n",
    "    axs[i].legend()\n",
    "    plt.xlabel('Hour')"
   ]
  },
  {
   "cell_type": "code",
   "execution_count": null,
   "metadata": {},
   "outputs": [],
   "source": [
    "net_file = '../results/net_trunc.pt'\n",
    "kf_file = '../results/kf_trunc.pt'\n",
    "plot_net(net_file, kf_file)"
   ]
  },
  {
   "cell_type": "code",
   "execution_count": null,
   "metadata": {},
   "outputs": [],
   "source": [
    "torch.load('../results/kf_trunc.pt')"
   ]
  },
  {
   "cell_type": "code",
   "execution_count": null,
   "metadata": {},
   "outputs": [],
   "source": [
    "troch"
   ]
  },
  {
   "cell_type": "code",
   "execution_count": null,
   "metadata": {},
   "outputs": [],
   "source": [
    "def plot_post(data, state_idx, plot_sd=False, show_legend=True, labels=['SOC', 'DOC', 'MBC']):\n",
    "    #plt.figure(figsize=(7, 6))\n",
    "    obs = data[:, state_idx]\n",
    "    mean_filter = kf.mu_filter[:, state_idx]\n",
    "    mean_smooth = kf.mu_smooth[:, state_idx]\n",
    "    \n",
    "    if plot_sd:\n",
    "        sd_filter = kf.sigma_filter[:, state_idx, state_idx].sqrt()\n",
    "        #rv_filter = dist.normal.Normal(mean_filter, sd_filter)\n",
    "        #plt.fill_between(T_span, rv_filter.icdf(torch.tensor(0.05)), rv_filter.icdf(torch.tensor(0.95)),\n",
    "        #                 alpha=0.5, linewidth=0,\n",
    "        #                 label='Filtered 5-95th percentile')\n",
    "        plt.fill_between(T_span, mean_filter - 2*sd_filter, mean_filter + 2*sd_filter, alpha=0.5,\n",
    "                         linewidth=0, label='Filtered $\\\\mu \\pm 2\\sigma$')\n",
    "        \n",
    "        sd_smooth = kf.sigma_smooth[:, state_idx, state_idx].sqrt()\n",
    "        #rv_smooth = dist.normal.Normal(mean_smooth, sd_smooth)\n",
    "        #plt.fill_between(T_span, rv_smooth.icdf(torch.tensor(0.05)), rv_smooth.icdf(torch.tensor(0.95)),\n",
    "        #                 alpha=0.5, linewidth=0,\n",
    "        #                 label='Smoothed 5-95th percentile')\n",
    "        plt.fill_between(T_span, mean_smooth - 2*sd_smooth, mean_smooth + 2*sd_smooth, alpha=0.5,\n",
    "                         linewidth=0, label='Smoothed $\\\\mu \\pm 2\\sigma$')\n",
    "        \n",
    "    plt.plot(T_span, mean_filter, label='Filtered mean')\n",
    "    plt.plot(T_span, mean_smooth, label='Smoothed mean')\n",
    "    plt.plot(obs_times, obs, linestyle='None', marker='o', label='Observed')\n",
    "    \n",
    "    plt.xlabel('Hour')\n",
    "    plt.ylabel(labels[state_idx])\n",
    "    plt.title('True posterior $q(x|\\\\theta, y)$')\n",
    "    if show_legend: plt.legend()"
   ]
  },
  {
   "cell_type": "code",
   "execution_count": null,
   "metadata": {},
   "outputs": [],
   "source": [
    "net.dt, net.t"
   ]
  },
  {
   "cell_type": "code",
   "execution_count": null,
   "metadata": {},
   "outputs": [],
   "source": [
    "device = torch.device('cpu')\n",
    "p_dist = torch.load('../this_week/p_theta_logit.pt', map_location=device)"
   ]
  },
  {
   "cell_type": "code",
   "execution_count": null,
   "metadata": {},
   "outputs": [],
   "source": [
    "q_theta = torch.load('../this_week/q_theta_logit.pt', map_location=device)\n",
    "loc = q_theta.means\n",
    "scale = torch.max(q_theta.sds, torch.tensor(1e-6))\n",
    "lower = q_theta.lowers\n",
    "upper = q_theta.uppers\n",
    "q_dist = q_theta.dist(loc, scale, a = lower, b = upper)"
   ]
  },
  {
   "cell_type": "code",
   "execution_count": null,
   "metadata": {},
   "outputs": [],
   "source": [
    "x0 = torch.min(q_dist.mean - 4*q_dist.stddev, p_dist.mean - 4*p_dist.stddev)\n",
    "x0 = torch.max(x0, lower).detach()\n",
    "x0"
   ]
  },
  {
   "cell_type": "code",
   "execution_count": null,
   "metadata": {},
   "outputs": [],
   "source": [
    "q_dist.stddev"
   ]
  },
  {
   "cell_type": "code",
   "execution_count": null,
   "metadata": {},
   "outputs": [],
   "source": [
    "x1 = torch.max(q_dist.mean + 4*q_dist.stddev, p_dist.mean + 4*p_dist.stddev)\n",
    "x1 = torch.min(x1, upper).detach()\n",
    "x1"
   ]
  },
  {
   "cell_type": "code",
   "execution_count": null,
   "metadata": {},
   "outputs": [],
   "source": [
    "# Load prior distribution\n",
    "    p_dist = torch.load(p_theta_file, map_location=device)\n",
    "    \n",
    "    # Load posterior distribution\n",
    "    q_theta = torch.load(q_theta_file, map_location=device)\n",
    "    loc = q_theta.means\n",
    "    scale = torch.max(q_theta.sds, torch.tensor(1e-6))\n",
    "    lower = q_theta.lowers\n",
    "    upper = q_theta.uppers\n",
    "    q_dist = q_theta.dist(loc, scale, a = lower, b = upper)\n",
    "    \n",
    "    # Load true theta\n",
    "    true_theta = torch.load(true_theta_file, map_location=device)\n",
    "\n",
    "    # Define plot boundaries\n",
    "    #print(q_dist, q_dist.loc, q_dist.scale, q_dist.mean, q_dist.stddev)\n",
    "    #print(p_dist, p_dist.loc, p_dist.scale, p_dist.mean, p_dist.stddev)\n",
    "\n",
    "    x0 = torch.min(q_dist.mean - 4*q_dist.stddev, p_dist.mean - 4*p_dist.stddev)\n",
    "    x0 = torch.max(x0, lower).detach()\n",
    "    #print(x0)\n",
    "    \n",
    "    x1 = torch.max(q_dist.mean + 4*q_dist.stddev, p_dist.mean + 4*p_dist.stddev)\n",
    "    x1 = torch.min(x1, upper).detach()"
   ]
  },
  {
   "cell_type": "code",
   "execution_count": null,
   "metadata": {},
   "outputs": [],
   "source": [
    "from matplotlib import cm\n",
    "cm.get_cmap('tab10')(0)"
   ]
  },
  {
   "cell_type": "code",
   "execution_count": null,
   "metadata": {},
   "outputs": [],
   "source": [
    "import torch.distributions as D\n",
    "MVN = D.multivariate_normal.MultivariateNormal(torch.zeros(3), torch.eye(3))"
   ]
  },
  {
   "cell_type": "code",
   "execution_count": null,
   "metadata": {},
   "outputs": [],
   "source": [
    "MVN.covariance_matrix"
   ]
  },
  {
   "cell_type": "code",
   "execution_count": null,
   "metadata": {},
   "outputs": [],
   "source": []
  }
 ],
 "metadata": {
  "kernelspec": {
   "display_name": "Python 3",
   "language": "python",
   "name": "python3"
  },
  "language_info": {
   "codemirror_mode": {
    "name": "ipython",
    "version": 3
   },
   "file_extension": ".py",
   "mimetype": "text/x-python",
   "name": "python",
   "nbconvert_exporter": "python",
   "pygments_lexer": "ipython3",
   "version": "3.8.5"
  }
 },
 "nbformat": 4,
 "nbformat_minor": 4
}
