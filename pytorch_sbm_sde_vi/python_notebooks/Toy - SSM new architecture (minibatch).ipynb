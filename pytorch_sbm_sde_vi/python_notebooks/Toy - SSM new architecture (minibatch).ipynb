{
 "cells": [
  {
   "cell_type": "code",
   "execution_count": 1,
   "metadata": {},
   "outputs": [],
   "source": [
    "import time\n",
    "import torch\n",
    "from torch import distributions as D\n",
    "from matplotlib import pyplot as plt\n",
    "from matplotlib import cm\n",
    "from tqdm.notebook import tqdm"
   ]
  },
  {
   "cell_type": "code",
   "execution_count": 2,
   "metadata": {},
   "outputs": [],
   "source": [
    "# Hack to import from a parent directory\n",
    "import sys, os\n",
    "path = '..'\n",
    "if path not in sys.path:\n",
    "    sys.path.append(path)\n",
    "\n",
    "from LogitNormal import *\n",
    "from TruncatedNormal import *\n",
    "from mean_field import *\n",
    "from obs_and_flow_minibatch import *"
   ]
  },
  {
   "cell_type": "markdown",
   "metadata": {},
   "source": [
    "## Generate data"
   ]
  },
  {
   "cell_type": "markdown",
   "metadata": {},
   "source": [
    "Given fixed hyperparameters $\\mu_\\theta, \\sigma_\\theta, a, b, \\mu_{x_0}, \\sigma_x, \\sigma_y$ and observed $y$, consider the following toy model:\n",
    "- $\\theta_0, \\theta_1 \\sim \\text{LogitNormal}(\\mu_\\theta, \\sigma_\\theta, a, b)$\n",
    "- $x_0 \\sim N(\\mu_{x_0}, \\sigma_x)$\n",
    "- $x_t \\sim N(\\theta_0+\\theta_1x_{t-1}, \\sigma_x)$\n",
    "- $y_t \\sim N(x_t, \\sigma_y)$\n",
    "\n",
    "We make simplifying assumptions that each state $x_t$ is one dimensional and every time step $y_t$ is observed. Our data consist of $N$ independent sequences of $y$."
   ]
  },
  {
   "cell_type": "code",
   "execution_count": 3,
   "metadata": {},
   "outputs": [],
   "source": [
    "def generate_data(N, T, dt, mu_theta, sigma_theta, a_theta, b_theta,\n",
    "                  mu_x, sigma_x, sigma_y, obs_every=None, theta=None):\n",
    "    torch.manual_seed(0)\n",
    "    if obs_every is None:\n",
    "        obs_every = dt\n",
    "    #assert obs_every % dt == 0, 'obs_every must be divisible by dt'\n",
    "    obs_every_step = int(obs_every / dt)\n",
    "    \n",
    "    # Sample theta\n",
    "    p_theta = RescaledLogitNormal(mu_theta, sigma_theta, a=a_theta, b=b_theta)\n",
    "    if theta is None:\n",
    "        theta = p_theta.sample() # (2, )\n",
    "    \n",
    "    # Allocate x tensor\n",
    "    M = int(T / dt) + 1\n",
    "    x = torch.empty((N, M)) # N - number of independent sequences; M - length of each sequence\n",
    "    \n",
    "    # Sample x0\n",
    "    p_x0 = D.normal.Normal(mu_x, sigma_x)\n",
    "    x[:, 0] = p_x0.sample((N, )) # (N, )\n",
    "    \n",
    "    # Sample x_t, t > 0\n",
    "    for i in range(1, M):\n",
    "        p_xt = D.normal.Normal(theta[0] + theta[1] * x[:, i - 1], sigma_x)\n",
    "        \n",
    "        # Draw sample\n",
    "        x[:, i] = p_xt.sample() # (N, )\n",
    "    \n",
    "    # Sample y\n",
    "    x_for_y = x[:, ::obs_every_step]\n",
    "    p_y = D.normal.Normal(x_for_y, sigma_y)\n",
    "    y = p_y.sample() # (N, M_obs)\n",
    "    \n",
    "    # Observation timestamp t_y\n",
    "    t_x = torch.arange(0, T + dt, dt)\n",
    "    t_y = torch.arange(0, T + dt, obs_every)\n",
    "    assert(len(t_y) == y.shape[1] and t_y[-1] == T)\n",
    "    y_dict = {'t_y': t_y, 'y': y, 'sigma_y': sigma_y}\n",
    "    \n",
    "    return p_theta, theta, p_x0, x, y_dict"
   ]
  },
  {
   "cell_type": "code",
   "execution_count": 4,
   "metadata": {},
   "outputs": [],
   "source": [
    "# theta hyperparameters\n",
    "mu_theta = torch.tensor([0., 0.5])\n",
    "sigma_theta = torch.tensor([1., 1.])\n",
    "a_theta = torch.tensor([-2., -1.])\n",
    "b_theta = torch.tensor([2., 1.])\n",
    "theta = torch.tensor([0.6, 0.9])\n",
    "\n",
    "# x hyperparameters\n",
    "mu_x = torch.tensor(0.)\n",
    "sigma_x = torch.tensor(0.8)\n",
    "\n",
    "# y hyperparameter\n",
    "sigma_y = torch.tensor(1.)"
   ]
  },
  {
   "cell_type": "code",
   "execution_count": 5,
   "metadata": {},
   "outputs": [],
   "source": [
    "N, T, dt, obs_every = 1, 1000, 1.0, 10\n",
    "p_theta, theta, p_x0, x, y_dict = generate_data(N, T, dt, mu_theta, sigma_theta, a_theta, b_theta,\n",
    "                                                mu_x, sigma_x, sigma_y, obs_every=obs_every, theta=theta)"
   ]
  },
  {
   "cell_type": "markdown",
   "metadata": {},
   "source": [
    "## Plot data"
   ]
  },
  {
   "cell_type": "code",
   "execution_count": 6,
   "metadata": {},
   "outputs": [],
   "source": [
    "def plot_theta(p_theta, theta, num_pts=1000, eps=1e-6):\n",
    "    fig, axes = plt.subplots(1, 3, figsize=(4*3, 4))\n",
    "    \n",
    "    a, b = p_theta.a, p_theta.b\n",
    "    theta_range = torch.from_numpy(np.linspace(a + eps, b - eps, num_pts)).float()\n",
    "    \n",
    "    pdf_prior = torch.exp(p_theta.log_prob(theta_range)).detach()\n",
    "    approx_int_prior = pdf_prior.sum(0) * (b - a) / num_pts\n",
    "    assert torch.allclose(approx_int_prior, torch.tensor(1.0), rtol=1e-3)\n",
    "    \n",
    "    labels = ['$\\\\theta_0$', '$\\\\theta_1$']\n",
    "    for i, ax in enumerate(axes):\n",
    "        if i < 2:\n",
    "            ax.plot(theta_range[:, i], pdf_prior[:, i], linewidth=2, label='prior')\n",
    "            ax.axvline(theta[i], color='gray', label='true $\\\\theta$')\n",
    "            ax.set_xlabel(labels[i])\n",
    "            if i == 0: ax.set_ylabel('density')\n",
    "        else:\n",
    "            handles, labels = axes[0].get_legend_handles_labels()\n",
    "            ax.legend(handles, labels, loc='center left')\n",
    "            ax.axis('off')\n",
    "    plt.tight_layout()"
   ]
  },
  {
   "cell_type": "code",
   "execution_count": 7,
   "metadata": {},
   "outputs": [
    {
     "data": {
      "image/png": "[encoded data removed]",
      "text/plain": [
       "<Figure size 864x288 with 3 Axes>"
      ]
     },
     "metadata": {
      "needs_background": "light"
     },
     "output_type": "display_data"
    }
   ],
   "source": [
    "plot_theta(p_theta, theta)"
   ]
  },
  {
   "cell_type": "code",
   "execution_count": 8,
   "metadata": {},
   "outputs": [],
   "source": [
    "def plot_path(x, y, t_x, t_y, title=None, state_dim=1):\n",
    "    N, time_steps = x.shape\n",
    "    fig, axes = plt.subplots(state_dim, figsize=(15, 4*state_dim), sharex=True)\n",
    "    axes = np.atleast_1d(axes)\n",
    "    \n",
    "    for i, ax in enumerate(axes):            \n",
    "        ax.plot(t_x, x[i, :], label='latent state')\n",
    "        ax.plot(t_y, y[i, :], label='observation', linestyle='', marker='o')        \n",
    "        ax.legend()\n",
    "        if i == 0 and title:\n",
    "            ax.set_title(title)\n",
    "    ax.set_xlabel('hour')\n",
    "    plt.tight_layout()"
   ]
  },
  {
   "cell_type": "code",
   "execution_count": 9,
   "metadata": {},
   "outputs": [
    {
     "data": {
      "image/png": "[encoded data removed]",
      "text/plain": [
       "<Figure size 1080x288 with 1 Axes>"
      ]
     },
     "metadata": {
      "needs_background": "light"
     },
     "output_type": "display_data"
    }
   ],
   "source": [
    "y, t_y = y_dict['y'], y_dict['t_y']\n",
    "t_x = torch.arange(0, T + dt, dt)\n",
    "plot_path(x, y, t_x, t_y)"
   ]
  },
  {
   "cell_type": "markdown",
   "metadata": {},
   "source": [
    "## Inference\n",
    "\n",
    "Objective:\n",
    "$$\n",
    "\\begin{align}\n",
    "\\mathcal{L} &= \\frac{1}{S} \\sum_s \\left[ \\log p(\\theta, x, y) - \\log q(\\theta, x|y) \\right] \\\\\n",
    "  &= \\frac{1}{S} \\sum_s \\left[\\log p(\\theta^{(s)}) - \\log q(x^{(s)}) + \\frac{T}{M} \\left( \\log p(x^{(s)}|\\theta^{(s)}) + \\log p(y|x^{(s)}) - \\log q(\\theta^{(s)}) \\right) \\right]\n",
    "\\end{align}\n",
    "$$\n",
    "where $T$ is the total number of time steps and $M$ is the minibatch size."
   ]
  },
  {
   "cell_type": "code",
   "execution_count": 10,
   "metadata": {},
   "outputs": [],
   "source": [
    "active_device = torch.device('cuda' if torch.cuda.is_available() else 'cpu')\n",
    "if torch.cuda.is_available():\n",
    "    torch.set_default_tensor_type('torch.cuda.FloatTensor')\n",
    "torch.set_printoptions(precision = 8)\n",
    "\n",
    "# Neural SDE parameters\n",
    "dt_flow = 1.0 # [1.0, 0.5]\n",
    "M = int(T / dt_flow) + 1\n",
    "\n",
    "# Theta info\n",
    "theta_dist = 'RescaledLogitNormal' #String needs to be exact name of the distribution class. Other option is 'RescaledLogitNormal'.\n",
    "theta_post_dist = 'MultivariateLogitNormal'\n",
    "param_names = ['theta_0', 'theta_1']\n",
    "theta_hyperparams = {k: (loc, scale, a, b) for k, loc, scale, a, b in zip(param_names, mu_theta, sigma_theta, a_theta, b_theta)}\n",
    "target_hyperparams = {k: (mean, sd, a, b) for k, mean, sd, a, b in zip(param_names, p_theta.mean, p_theta.stddev, a_theta, b_theta)}\n",
    "fix_theta_dict = {'sigma_x': sigma_x}"
   ]
  },
  {
   "cell_type": "code",
   "execution_count": 11,
   "metadata": {},
   "outputs": [],
   "source": [
    "def calc_log_lik_minibatch(X, PARAMS_DICT, DT, X0_PRIOR, LIDX, RIDX):\n",
    "    # X.shape == (batch_size, minibatch_size + 1, state_dim)\n",
    "    theta0, theta1 = PARAMS_DICT['theta_0'].reshape(-1, 1, 1), PARAMS_DICT['theta_1'].reshape(-1, 1, 1)\n",
    "    loc, scale = theta0 + theta1 * X[:, :-1, :], PARAMS_DICT['sigma_x'].reshape(1, 1, 1)\n",
    "    p_x = D.normal.Normal(loc, scale) \n",
    "    \n",
    "    # Compute log p(x|theta) = log p(x|x0, theta) + log p(x0|theta)\n",
    "    ll = p_x.log_prob(X[:, 1:, :]).sum((-2, -1)) # log p(x|x0, theta)\n",
    "    if LIDX == 0:\n",
    "        ll += X0_PRIOR.log_prob(X[:, 0, :]).sum(-1) # log p(x0|theta)\n",
    "\n",
    "    return ll # ll.shape == (batch_size, )"
   ]
  },
  {
   "cell_type": "code",
   "execution_count": 12,
   "metadata": {},
   "outputs": [],
   "source": [
    "def train_minibatch(DEVICE, NET_LR: float, THETA_LR: float, ELBO_ITER: int, BATCH_SIZE: int,\n",
    "        DATA: dict, T: float, DT: float, N: int,\n",
    "        X0_PRIOR: torch.distributions.distribution.Distribution,\n",
    "        PRIOR_DIST_DETAILS_DICT: dict, \n",
    "        THETA_DIST = None, THETA_POST_DIST = None, THETA_POST_INIT = None,\n",
    "        ELBO_LR_DECAY: float = 0.8, ELBO_DECAY_STEP_SIZE: int = 50000, \n",
    "        PRINT_EVERY: int = 100, MINIBATCH_T: int = 0, FIX_THETA_DICT: dict = None,\n",
    "        NUM_LAYERS: int = 5, KERNEL_SIZE: int = 3, NUM_RESBLOCKS: int = 2,\n",
    "        THETA_COND = 'convolution', CALC_FULL_LOSS_EVERY = 0, REVERSE: bool = False):\n",
    "    torch.manual_seed(seed)\n",
    "    print('seed', seed)\n",
    "    obs_dim, state_dim = 1, 1\n",
    "    \n",
    "    #Read in data to obtain y and establish observation model.\n",
    "    obs_times, obs_vals, obs_error = DATA['t_y'], DATA['y'], DATA['sigma_y']\n",
    "    obs_model_minibatch = ObsModelMinibatch(TIMES = obs_times, DT = DT, MU = obs_vals, SCALE = obs_error).to(DEVICE)\n",
    "\n",
    "    #Establish neural network.\n",
    "    net = SDEFlowMinibatch(DEVICE, obs_model_minibatch, state_dim, T, N, len(PRIOR_DIST_DETAILS_DICT), OTHER_INPUTS = None, FIX_THETA_DICT = FIX_THETA_DICT,\n",
    "            NUM_LAYERS = NUM_LAYERS, KERNEL_SIZE = KERNEL_SIZE, NUM_RESBLOCKS = NUM_RESBLOCKS, THETA_COND = THETA_COND, POSITIVE = False, REVERSE = REVERSE)\n",
    "    \n",
    "    param_names = list(PRIOR_DIST_DETAILS_DICT.keys())\n",
    "\n",
    "    #Convert prior details dictionary values to tensors.\n",
    "    prior_list = list(zip(*(PRIOR_DIST_DETAILS_DICT[k] for k in param_names))) #Unzip prior distribution details from dictionary values into individual lists.\n",
    "    prior_means_tensor, prior_sds_tensor, prior_lowers_tensor, prior_uppers_tensor = torch.tensor(prior_list).to(DEVICE) #Ensure conversion of lists into tensors.\n",
    "\n",
    "    #Retrieve desired distribution class based on string.\n",
    "    dist_class_dict = {\n",
    "            'TruncatedNormal': TruncatedNormal,\n",
    "            'RescaledLogitNormal': RescaledLogitNormal,\n",
    "            'MultivariateLogitNormal': MultivariateLogitNormal\n",
    "            }\n",
    "    THETA_PRIOR_CLASS = dist_class_dict[THETA_DIST]\n",
    "    THETA_POST_CLASS = dist_class_dict[THETA_POST_DIST] if THETA_POST_DIST else dist_class_dict[THETA_DIST]\n",
    "    \n",
    "    #Define prior\n",
    "    p_theta = THETA_PRIOR_CLASS(loc = prior_means_tensor, scale = prior_sds_tensor, a = prior_lowers_tensor, b = prior_uppers_tensor)\n",
    "\n",
    "    # Initialize posterior q(theta) using its prior p(theta)\n",
    "    learn_cov = (THETA_POST_DIST == 'MultivariateLogitNormal')\n",
    "    if THETA_POST_INIT is None:\n",
    "        THETA_POST_INIT = PRIOR_DIST_DETAILS_DICT\n",
    "    q_theta = MeanField(DEVICE, param_names, THETA_POST_INIT, THETA_POST_CLASS, learn_cov)\n",
    "\n",
    "    #Record loss throughout training\n",
    "    #best_loss_norm = 1e15\n",
    "    #best_loss_ELBO = 1e15\n",
    "    #norm_losses = []\n",
    "    ELBO_losses = []\n",
    "    losses_full = []\n",
    "    means_hist = []\n",
    "    sds_hist = []\n",
    "\n",
    "    #Initiate optimizers.\n",
    "    #ELBO_params = list(net.parameters()) + list(q_theta.parameters())\n",
    "    #ELBO_optimizer = optim.Adamax(ELBO_params, lr = ELBO_LR)\n",
    "    net_optimizer = optim.Adamax(net.parameters(), lr = NET_LR)\n",
    "    theta_optimizer = optim.Adamax(q_theta.parameters(), lr = THETA_LR)\n",
    "\n",
    "    # Sample minibatch indices\n",
    "    minibatch_size = int(MINIBATCH_T / DT)\n",
    "    if 0 < minibatch_size < N and T % MINIBATCH_T == 0:\n",
    "        minibatch_indices = torch.arange(0, N - minibatch_size, minibatch_size) + 1\n",
    "        rand = torch.randint(len(minibatch_indices), (ELBO_ITER + 1, ))\n",
    "        batch_indices = minibatch_indices[rand]\n",
    "        print(f'Time series being chunked into {len(minibatch_indices)} minibatches at time step indices {minibatch_indices}. Check that this is the intended minibatch size.')\n",
    "\n",
    "        # Print warning unless each minibatch is used at least once\n",
    "        if torch.min(torch.bincount(rand)) == 0:\n",
    "            print('Warning: Not all minibatches are used at least once.')\n",
    "    else:\n",
    "        # If minibatch_size is outside of acceptable range, then use full batch by default\n",
    "        print('Proceeding with uni-batching, because either minibatch_size >= N, or T % MINIBATCH_T != 0.')\n",
    "        batch_indices = None\n",
    "        \n",
    "    # Compute initial (0th iteration) ELBO\n",
    "    if CALC_FULL_LOSS_EVERY > 0:\n",
    "        print('HERE')\n",
    "        with torch.no_grad():\n",
    "            # Sample (unknown) theta ~ q(theta) and compute log q(theta)\n",
    "            theta_dict, theta, log_q_theta, parent_loc_scale_dict = q_theta(BATCH_SIZE)\n",
    "            \n",
    "            # Compute log p(theta)\n",
    "            log_p_theta = p_theta.log_prob(theta).sum(-1)\n",
    "            \n",
    "            # Fix known theta\n",
    "            if FIX_THETA_DICT:\n",
    "                theta_dict = {**theta_dict, **FIX_THETA_DICT}\n",
    "    \n",
    "            # Sample x and compute log q(x)    \n",
    "            lidx_full, ridx_full = 0, N\n",
    "            C_PATH_full, log_prob_full = net(BATCH_SIZE, lidx_full, ridx_full, theta = theta)\n",
    "            log_prob_full = log_prob_full.sum((-1, -2))\n",
    "            #assert (log_prob_full.shape == (BATCH_SIZE, ))\n",
    "            \n",
    "            log_lik_full = calc_log_lik_minibatch(C_PATH_full, theta_dict, DT, X0_PRIOR, lidx_full, ridx_full)\n",
    "            #assert (log_lik_full.shape == (BATCH_SIZE, ))\n",
    "            \n",
    "            log_p_obs_full = obs_model_minibatch(C_PATH_full, theta_dict, lidx_full, ridx_full)\n",
    "            #assert (log_p_obs_full.shape == (BATCH_SIZE, ))\n",
    "            \n",
    "            loss_full = -log_p_theta.mean() + log_q_theta.mean() + log_prob_full.mean() - log_lik_full.mean() - log_p_obs_full.mean()\n",
    "            print(-log_p_theta.mean().item(), log_q_theta.mean().item(), log_prob_full.mean().item(), log_lik_full.mean().item(), log_p_obs_full.mean().item())\n",
    "            \n",
    "            losses_full.append(loss_full.item())\n",
    "            print('Iteration 0 full loss: {}'.format(loss_full.item()))\n",
    "        \n",
    "    #Training loop\n",
    "    net.train()\n",
    "    with tqdm(total = ELBO_ITER, desc = f'Learning SDE and hidden parameters.', position = -1) as tq:\n",
    "        for it in range(ELBO_ITER + 1):\n",
    "            net_optimizer.zero_grad()\n",
    "            theta_optimizer.zero_grad()\n",
    "            \n",
    "            # Sample (unknown) theta ~ q(theta) and compute log q(theta)\n",
    "            theta_dict, theta, log_q_theta, parent_loc_scale_dict = q_theta(BATCH_SIZE)\n",
    "            \n",
    "            # Compute log p(theta)\n",
    "            log_p_theta = p_theta.log_prob(theta).sum(-1)\n",
    "            \n",
    "            # Fix known theta\n",
    "            if FIX_THETA_DICT:\n",
    "                theta_dict = {**theta_dict, **FIX_THETA_DICT}\n",
    "            \n",
    "            # Sample x_{u-1:v}|y, theta (unless u = 0, then sample x_{u:v})\n",
    "            if batch_indices is not None:\n",
    "                lidx = max(0, batch_indices[it] - 1)              # u-1 if u > 0, else 0\n",
    "                ridx = min(N, batch_indices[it] + minibatch_size) # v\n",
    "            else:\n",
    "                lidx, ridx = 0, N\n",
    "            C_PATH, log_prob = net(BATCH_SIZE, lidx, ridx, theta = theta) # (batch_size, minibatch_size+1, state_dim)\n",
    "            \n",
    "            # Compute log q(x_{u:v}|theta) (exclude u-1 unless lidx = 0)\n",
    "            if lidx == 0:\n",
    "                log_prob = log_prob.sum((-1, -2)) # (batch_size, )\n",
    "            else:\n",
    "                log_prob = log_prob[:, 1:, :].sum((-1, -2))\n",
    "            #assert (log_prob.shape == (BATCH_SIZE, ))\n",
    "            \n",
    "            # Compute conditional log p(x_{u:v}|x_{u-1}, theta) (if lidx = 0, joint log p(x_{0:v}, theta))\n",
    "            log_lik = calc_log_lik_minibatch(C_PATH, theta_dict, DT, X0_PRIOR, lidx, ridx)\n",
    "            #assert (log_lik.shape == (BATCH_SIZE, ))\n",
    "            \n",
    "            # Compute log p(x_{u:v}|y_{u:v})\n",
    "            log_p_obs = obs_model_minibatch(C_PATH, theta_dict, lidx, ridx)\n",
    "            #assert (log_p_obs.shape == (BATCH_SIZE, ))\n",
    "    \n",
    "            # Compute negative ELBO loss\n",
    "            # If lidx == 0: -log p(theta) + log q(theta) + N/M * (log q(x_{0:v}|theta) - log p(x_{0:v}, theta) - log p(y_{0:v}|x_{0:v}, theta))\n",
    "            # else: -log p(theta) + log q(theta) + N/M * (log q(x_{u:v}|theta) - log p(x_{u:v}|x_{u-1}, theta) - log p(y_{u:v}|x_{u:v}, theta))\n",
    "            active_minibatch_size = minibatch_size + 1 if lidx == 0 else minibatch_size\n",
    "            #print(lidx, ridx, N, active_minibatch_size)\n",
    "            ELBO = -log_p_theta.mean() + log_q_theta.mean() + N/active_minibatch_size * (log_prob.mean() - log_lik.mean() - log_p_obs.mean())\n",
    "            #print(log_p_theta.mean(), log_q_theta.mean(), log_prob.mean(), log_lik.mean(), log_p_obs.mean())\n",
    "            \n",
    "            # Record (minibatch) loss\n",
    "            ELBO_losses.append(ELBO.item())\n",
    "            #print(ELBO.item())\n",
    "            \n",
    "            if it % PRINT_EVERY == 0:\n",
    "                print('Iteration {} minibatch loss: {}'.format(it, ELBO_losses[-1]))\n",
    "            \n",
    "            if it < ELBO_ITER:\n",
    "                # Take gradient step\n",
    "                ELBO.backward()\n",
    "                torch.nn.utils.clip_grad_norm_(net.parameters(), 5.0)\n",
    "                torch.nn.utils.clip_grad_norm_(q_theta.parameters(), 5.0)\n",
    "                net_optimizer.step()\n",
    "                theta_optimizer.step()\n",
    "                \n",
    "                # Record full loss\n",
    "                calc_full_loss = CALC_FULL_LOSS_EVERY > 0 and (it + 1) % CALC_FULL_LOSS_EVERY == 0\n",
    "                if calc_full_loss:\n",
    "                    with torch.no_grad():\n",
    "                        lidx_full, ridx_full = 0, N\n",
    "                        C_PATH_full, log_prob_full = net(BATCH_SIZE, lidx_full, ridx_full, theta = theta)\n",
    "                        log_prob_full = log_prob_full.sum((-1, -2))\n",
    "                        #assert (log_prob_full.shape == (BATCH_SIZE, ))\n",
    "                        \n",
    "                        log_lik_full = calc_log_lik_minibatch(C_PATH_full, theta_dict, DT, X0_PRIOR, lidx_full, ridx_full)\n",
    "                        #assert (log_lik_full.shape == (BATCH_SIZE, ))\n",
    "                        \n",
    "                        log_p_obs_full = obs_model_minibatch(C_PATH_full, theta_dict, lidx_full, ridx_full)\n",
    "                        #assert (log_p_obs_full.shape == (BATCH_SIZE, ))\n",
    "                        \n",
    "                        loss_full = -log_p_theta.mean() + log_q_theta.mean() + log_prob_full.mean() - log_lik_full.mean() - log_p_obs_full.mean()\n",
    "                        losses_full.append(loss_full.item())\n",
    "                        \n",
    "                        if (it + 1) % PRINT_EVERY == 0:\n",
    "                            print('Iteration {} full loss: {}'.format(it + 1, loss_full.item()))\n",
    "                       \n",
    "            if ELBO_ITER - (1000 * (T // minibatch_size)) <= it < ELBO_ITER:\n",
    "                # Record theta parameter values\n",
    "                means_hist.append(torch.clone(q_theta.means))\n",
    "                sds_hist.append(torch.clone(q_theta.sds))\n",
    "            \n",
    "            # Update learning rate\n",
    "            if it > 0 and it % ELBO_DECAY_STEP_SIZE == 0:\n",
    "                net_optimizer.param_groups[0]['lr'] *= ELBO_LR_DECAY\n",
    "                theta_optimizer.param_groups[0]['lr'] *= ELBO_LR_DECAY\n",
    "                print('Dropped learning rate to:', net_optimizer.param_groups[0]['lr'], theta_optimizer.param_groups[0]['lr'])\n",
    "                \n",
    "            tq.update()\n",
    "\n",
    "    print('\\nAll finished! Now, we need to check outputs to see if things worked...')\n",
    "    \n",
    "    return net, q_theta, p_theta, obs_model_minibatch, ELBO_losses, losses_full, means_hist, sds_hist #, times"
   ]
  },
  {
   "cell_type": "code",
   "execution_count": 13,
   "metadata": {},
   "outputs": [],
   "source": [
    "#Training parameters\n",
    "niter = 30000 # niter = epochs * (m - 1) / minibatch_size\n",
    "net_lr, theta_lr = 0.01, 0.01 #ELBO learning rate\n",
    "batch_size = 20 #3 - number needed to fit UCI HPC3 RAM requirements with 16 GB RAM at t = 5000.\n",
    "minibatch_size = 100\n",
    "seed = 1"
   ]
  },
  {
   "cell_type": "code",
   "execution_count": 14,
   "metadata": {},
   "outputs": [
    {
     "name": "stdout",
     "output_type": "stream",
     "text": [
      "seed 1\n",
      "Time series being chunked into 10 minibatches at time step indices tensor([  1, 101, 201, 301, 401, 501, 601, 701, 801, 901]). Check that this is the intended minibatch size.\n",
      "HERE\n",
      "1.8063433170318604 -1.8063433170318604 -1792.7884521484375 -3447.19921875 -2340.063720703125\n",
      "Iteration 0 full loss: 3994.474609375\n"
     ]
    },
    {
     "data": {
      "application/vnd.jupyter.widget-view+json": {
       "model_id": "c6db155cf5a84a93ab855f12d065f9e9",
       "version_major": 2,
       "version_minor": 0
      },
      "text/plain": [
       "HBox(children=(HTML(value='Learning SDE and hidden parameters.'), FloatProgress(value=0.0, max=30000.0), HTML(…"
      ]
     },
     "metadata": {},
     "output_type": "display_data"
    },
    {
     "name": "stdout",
     "output_type": "stream",
     "text": [
      "Iteration 0 minibatch loss: 4073.96630859375\n",
      "\n"
     ]
    },
    {
     "ename": "ValueError",
     "evalue": "The parameter loc has invalid values",
     "output_type": "error",
     "traceback": [
      "\u001b[0;31m---------------------------------------------------------------------------\u001b[0m",
      "\u001b[0;31mValueError\u001b[0m                                Traceback (most recent call last)",
      "\u001b[0;32m<ipython-input-14-195ecbeeda95>\u001b[0m in \u001b[0;36m<module>\u001b[0;34m\u001b[0m\n\u001b[0;32m----> 1\u001b[0;31m net_rev, q_theta_raw_rev, p_theta_rev, obs_model_rev, losses_mini_rev, losses_rev, means_rev, sds_rev = train_minibatch(\n\u001b[0m\u001b[1;32m      2\u001b[0m     \u001b[0mactive_device\u001b[0m\u001b[0;34m,\u001b[0m \u001b[0;36m0.01\u001b[0m\u001b[0;34m,\u001b[0m \u001b[0;36m0.01\u001b[0m\u001b[0;34m,\u001b[0m \u001b[0mniter\u001b[0m\u001b[0;34m,\u001b[0m \u001b[0mbatch_size\u001b[0m\u001b[0;34m,\u001b[0m\u001b[0;34m\u001b[0m\u001b[0;34m\u001b[0m\u001b[0m\n\u001b[1;32m      3\u001b[0m     \u001b[0my_dict\u001b[0m\u001b[0;34m,\u001b[0m \u001b[0mT\u001b[0m\u001b[0;34m,\u001b[0m \u001b[0mdt_flow\u001b[0m\u001b[0;34m,\u001b[0m \u001b[0mM\u001b[0m\u001b[0;34m,\u001b[0m \u001b[0mp_x0\u001b[0m\u001b[0;34m,\u001b[0m \u001b[0mtheta_hyperparams\u001b[0m\u001b[0;34m,\u001b[0m\u001b[0;34m\u001b[0m\u001b[0;34m\u001b[0m\u001b[0m\n\u001b[1;32m      4\u001b[0m     \u001b[0mTHETA_DIST\u001b[0m \u001b[0;34m=\u001b[0m \u001b[0mtheta_dist\u001b[0m\u001b[0;34m,\u001b[0m \u001b[0mTHETA_POST_DIST\u001b[0m \u001b[0;34m=\u001b[0m \u001b[0mtheta_post_dist\u001b[0m\u001b[0;34m,\u001b[0m\u001b[0;34m\u001b[0m\u001b[0;34m\u001b[0m\u001b[0m\n\u001b[1;32m      5\u001b[0m     \u001b[0mMINIBATCH_T\u001b[0m \u001b[0;34m=\u001b[0m \u001b[0mminibatch_size\u001b[0m\u001b[0;34m,\u001b[0m \u001b[0mELBO_LR_DECAY\u001b[0m \u001b[0;34m=\u001b[0m \u001b[0;36m0.1\u001b[0m\u001b[0;34m,\u001b[0m \u001b[0mELBO_DECAY_STEP_SIZE\u001b[0m \u001b[0;34m=\u001b[0m \u001b[0;36m10000\u001b[0m\u001b[0;34m,\u001b[0m \u001b[0mPRINT_EVERY\u001b[0m \u001b[0;34m=\u001b[0m \u001b[0mmax\u001b[0m\u001b[0;34m(\u001b[0m\u001b[0;36m1\u001b[0m\u001b[0;34m,\u001b[0m \u001b[0mniter\u001b[0m \u001b[0;34m//\u001b[0m \u001b[0;36m10\u001b[0m\u001b[0;34m)\u001b[0m\u001b[0;34m,\u001b[0m\u001b[0;34m\u001b[0m\u001b[0;34m\u001b[0m\u001b[0m\n",
      "\u001b[0;32m<ipython-input-12-26fb400ee85b>\u001b[0m in \u001b[0;36mtrain_minibatch\u001b[0;34m(DEVICE, NET_LR, THETA_LR, ELBO_ITER, BATCH_SIZE, DATA, T, DT, N, X0_PRIOR, PRIOR_DIST_DETAILS_DICT, THETA_DIST, THETA_POST_DIST, THETA_POST_INIT, ELBO_LR_DECAY, ELBO_DECAY_STEP_SIZE, PRINT_EVERY, MINIBATCH_T, FIX_THETA_DICT, NUM_LAYERS, KERNEL_SIZE, NUM_RESBLOCKS, THETA_COND, CALC_FULL_LOSS_EVERY, REVERSE)\u001b[0m\n\u001b[1;32m    179\u001b[0m                         \u001b[0;31m#assert (log_prob_full.shape == (BATCH_SIZE, ))\u001b[0m\u001b[0;34m\u001b[0m\u001b[0;34m\u001b[0m\u001b[0;34m\u001b[0m\u001b[0m\n\u001b[1;32m    180\u001b[0m \u001b[0;34m\u001b[0m\u001b[0m\n\u001b[0;32m--> 181\u001b[0;31m                         \u001b[0mlog_lik_full\u001b[0m \u001b[0;34m=\u001b[0m \u001b[0mcalc_log_lik_minibatch\u001b[0m\u001b[0;34m(\u001b[0m\u001b[0mC_PATH_full\u001b[0m\u001b[0;34m,\u001b[0m \u001b[0mtheta_dict\u001b[0m\u001b[0;34m,\u001b[0m \u001b[0mDT\u001b[0m\u001b[0;34m,\u001b[0m \u001b[0mX0_PRIOR\u001b[0m\u001b[0;34m,\u001b[0m \u001b[0mlidx_full\u001b[0m\u001b[0;34m,\u001b[0m \u001b[0mridx_full\u001b[0m\u001b[0;34m)\u001b[0m\u001b[0;34m\u001b[0m\u001b[0;34m\u001b[0m\u001b[0m\n\u001b[0m\u001b[1;32m    182\u001b[0m                         \u001b[0;31m#assert (log_lik_full.shape == (BATCH_SIZE, ))\u001b[0m\u001b[0;34m\u001b[0m\u001b[0;34m\u001b[0m\u001b[0;34m\u001b[0m\u001b[0m\n\u001b[1;32m    183\u001b[0m \u001b[0;34m\u001b[0m\u001b[0m\n",
      "\u001b[0;32m<ipython-input-11-f597b098ed0c>\u001b[0m in \u001b[0;36mcalc_log_lik_minibatch\u001b[0;34m(X, PARAMS_DICT, DT, X0_PRIOR, LIDX, RIDX)\u001b[0m\n\u001b[1;32m      3\u001b[0m     \u001b[0mtheta0\u001b[0m\u001b[0;34m,\u001b[0m \u001b[0mtheta1\u001b[0m \u001b[0;34m=\u001b[0m \u001b[0mPARAMS_DICT\u001b[0m\u001b[0;34m[\u001b[0m\u001b[0;34m'theta_0'\u001b[0m\u001b[0;34m]\u001b[0m\u001b[0;34m.\u001b[0m\u001b[0mreshape\u001b[0m\u001b[0;34m(\u001b[0m\u001b[0;34m-\u001b[0m\u001b[0;36m1\u001b[0m\u001b[0;34m,\u001b[0m \u001b[0;36m1\u001b[0m\u001b[0;34m,\u001b[0m \u001b[0;36m1\u001b[0m\u001b[0;34m)\u001b[0m\u001b[0;34m,\u001b[0m \u001b[0mPARAMS_DICT\u001b[0m\u001b[0;34m[\u001b[0m\u001b[0;34m'theta_1'\u001b[0m\u001b[0;34m]\u001b[0m\u001b[0;34m.\u001b[0m\u001b[0mreshape\u001b[0m\u001b[0;34m(\u001b[0m\u001b[0;34m-\u001b[0m\u001b[0;36m1\u001b[0m\u001b[0;34m,\u001b[0m \u001b[0;36m1\u001b[0m\u001b[0;34m,\u001b[0m \u001b[0;36m1\u001b[0m\u001b[0;34m)\u001b[0m\u001b[0;34m\u001b[0m\u001b[0;34m\u001b[0m\u001b[0m\n\u001b[1;32m      4\u001b[0m     \u001b[0mloc\u001b[0m\u001b[0;34m,\u001b[0m \u001b[0mscale\u001b[0m \u001b[0;34m=\u001b[0m \u001b[0mtheta0\u001b[0m \u001b[0;34m+\u001b[0m \u001b[0mtheta1\u001b[0m \u001b[0;34m*\u001b[0m \u001b[0mX\u001b[0m\u001b[0;34m[\u001b[0m\u001b[0;34m:\u001b[0m\u001b[0;34m,\u001b[0m \u001b[0;34m:\u001b[0m\u001b[0;34m-\u001b[0m\u001b[0;36m1\u001b[0m\u001b[0;34m,\u001b[0m \u001b[0;34m:\u001b[0m\u001b[0;34m]\u001b[0m\u001b[0;34m,\u001b[0m \u001b[0mPARAMS_DICT\u001b[0m\u001b[0;34m[\u001b[0m\u001b[0;34m'sigma_x'\u001b[0m\u001b[0;34m]\u001b[0m\u001b[0;34m.\u001b[0m\u001b[0mreshape\u001b[0m\u001b[0;34m(\u001b[0m\u001b[0;36m1\u001b[0m\u001b[0;34m,\u001b[0m \u001b[0;36m1\u001b[0m\u001b[0;34m,\u001b[0m \u001b[0;36m1\u001b[0m\u001b[0;34m)\u001b[0m\u001b[0;34m\u001b[0m\u001b[0;34m\u001b[0m\u001b[0m\n\u001b[0;32m----> 5\u001b[0;31m     \u001b[0mp_x\u001b[0m \u001b[0;34m=\u001b[0m \u001b[0mD\u001b[0m\u001b[0;34m.\u001b[0m\u001b[0mnormal\u001b[0m\u001b[0;34m.\u001b[0m\u001b[0mNormal\u001b[0m\u001b[0;34m(\u001b[0m\u001b[0mloc\u001b[0m\u001b[0;34m,\u001b[0m \u001b[0mscale\u001b[0m\u001b[0;34m)\u001b[0m\u001b[0;34m\u001b[0m\u001b[0;34m\u001b[0m\u001b[0m\n\u001b[0m\u001b[1;32m      6\u001b[0m \u001b[0;34m\u001b[0m\u001b[0m\n\u001b[1;32m      7\u001b[0m     \u001b[0;31m# Compute log p(x|theta) = log p(x|x0, theta) + log p(x0|theta)\u001b[0m\u001b[0;34m\u001b[0m\u001b[0;34m\u001b[0m\u001b[0;34m\u001b[0m\u001b[0m\n",
      "\u001b[0;32m~/opt/anaconda3/lib/python3.8/site-packages/torch/distributions/normal.py\u001b[0m in \u001b[0;36m__init__\u001b[0;34m(self, loc, scale, validate_args)\u001b[0m\n\u001b[1;32m     48\u001b[0m         \u001b[0;32melse\u001b[0m\u001b[0;34m:\u001b[0m\u001b[0;34m\u001b[0m\u001b[0;34m\u001b[0m\u001b[0m\n\u001b[1;32m     49\u001b[0m             \u001b[0mbatch_shape\u001b[0m \u001b[0;34m=\u001b[0m \u001b[0mself\u001b[0m\u001b[0;34m.\u001b[0m\u001b[0mloc\u001b[0m\u001b[0;34m.\u001b[0m\u001b[0msize\u001b[0m\u001b[0;34m(\u001b[0m\u001b[0;34m)\u001b[0m\u001b[0;34m\u001b[0m\u001b[0;34m\u001b[0m\u001b[0m\n\u001b[0;32m---> 50\u001b[0;31m         \u001b[0msuper\u001b[0m\u001b[0;34m(\u001b[0m\u001b[0mNormal\u001b[0m\u001b[0;34m,\u001b[0m \u001b[0mself\u001b[0m\u001b[0;34m)\u001b[0m\u001b[0;34m.\u001b[0m\u001b[0m__init__\u001b[0m\u001b[0;34m(\u001b[0m\u001b[0mbatch_shape\u001b[0m\u001b[0;34m,\u001b[0m \u001b[0mvalidate_args\u001b[0m\u001b[0;34m=\u001b[0m\u001b[0mvalidate_args\u001b[0m\u001b[0;34m)\u001b[0m\u001b[0;34m\u001b[0m\u001b[0;34m\u001b[0m\u001b[0m\n\u001b[0m\u001b[1;32m     51\u001b[0m \u001b[0;34m\u001b[0m\u001b[0m\n\u001b[1;32m     52\u001b[0m     \u001b[0;32mdef\u001b[0m \u001b[0mexpand\u001b[0m\u001b[0;34m(\u001b[0m\u001b[0mself\u001b[0m\u001b[0;34m,\u001b[0m \u001b[0mbatch_shape\u001b[0m\u001b[0;34m,\u001b[0m \u001b[0m_instance\u001b[0m\u001b[0;34m=\u001b[0m\u001b[0;32mNone\u001b[0m\u001b[0;34m)\u001b[0m\u001b[0;34m:\u001b[0m\u001b[0;34m\u001b[0m\u001b[0;34m\u001b[0m\u001b[0m\n",
      "\u001b[0;32m~/opt/anaconda3/lib/python3.8/site-packages/torch/distributions/distribution.py\u001b[0m in \u001b[0;36m__init__\u001b[0;34m(self, batch_shape, event_shape, validate_args)\u001b[0m\n\u001b[1;32m     51\u001b[0m                     \u001b[0;32mcontinue\u001b[0m  \u001b[0;31m# skip checking lazily-constructed args\u001b[0m\u001b[0;34m\u001b[0m\u001b[0;34m\u001b[0m\u001b[0m\n\u001b[1;32m     52\u001b[0m                 \u001b[0;32mif\u001b[0m \u001b[0;32mnot\u001b[0m \u001b[0mconstraint\u001b[0m\u001b[0;34m.\u001b[0m\u001b[0mcheck\u001b[0m\u001b[0;34m(\u001b[0m\u001b[0mgetattr\u001b[0m\u001b[0;34m(\u001b[0m\u001b[0mself\u001b[0m\u001b[0;34m,\u001b[0m \u001b[0mparam\u001b[0m\u001b[0;34m)\u001b[0m\u001b[0;34m)\u001b[0m\u001b[0;34m.\u001b[0m\u001b[0mall\u001b[0m\u001b[0;34m(\u001b[0m\u001b[0;34m)\u001b[0m\u001b[0;34m:\u001b[0m\u001b[0;34m\u001b[0m\u001b[0;34m\u001b[0m\u001b[0m\n\u001b[0;32m---> 53\u001b[0;31m                     \u001b[0;32mraise\u001b[0m \u001b[0mValueError\u001b[0m\u001b[0;34m(\u001b[0m\u001b[0;34m\"The parameter {} has invalid values\"\u001b[0m\u001b[0;34m.\u001b[0m\u001b[0mformat\u001b[0m\u001b[0;34m(\u001b[0m\u001b[0mparam\u001b[0m\u001b[0;34m)\u001b[0m\u001b[0;34m)\u001b[0m\u001b[0;34m\u001b[0m\u001b[0;34m\u001b[0m\u001b[0m\n\u001b[0m\u001b[1;32m     54\u001b[0m         \u001b[0msuper\u001b[0m\u001b[0;34m(\u001b[0m\u001b[0mDistribution\u001b[0m\u001b[0;34m,\u001b[0m \u001b[0mself\u001b[0m\u001b[0;34m)\u001b[0m\u001b[0;34m.\u001b[0m\u001b[0m__init__\u001b[0m\u001b[0;34m(\u001b[0m\u001b[0;34m)\u001b[0m\u001b[0;34m\u001b[0m\u001b[0;34m\u001b[0m\u001b[0m\n\u001b[1;32m     55\u001b[0m \u001b[0;34m\u001b[0m\u001b[0m\n",
      "\u001b[0;31mValueError\u001b[0m: The parameter loc has invalid values"
     ]
    }
   ],
   "source": [
    "net_rev, q_theta_raw_rev, p_theta_rev, obs_model_rev, losses_mini_rev, losses_rev, means_rev, sds_rev = train_minibatch(\n",
    "    active_device, 0.01, 0.01, niter, batch_size,\n",
    "    y_dict, T, dt_flow, M, p_x0, theta_hyperparams,\n",
    "    THETA_DIST = theta_dist, THETA_POST_DIST = theta_post_dist,\n",
    "    MINIBATCH_T = minibatch_size, ELBO_LR_DECAY = 0.1, ELBO_DECAY_STEP_SIZE = 10000, PRINT_EVERY = max(1, niter // 10), \n",
    "    FIX_THETA_DICT = fix_theta_dict, THETA_COND = False, CALC_FULL_LOSS_EVERY = 3*T // minibatch_size, REVERSE = True)"
   ]
  },
  {
   "cell_type": "code",
   "execution_count": null,
   "metadata": {},
   "outputs": [],
   "source": [
    "net_high_decay, q_theta_raw_high_decay, p_theta_high_decay, obs_model_high_decay, losses_mini_high_decay, losses_high_decay, means_high_decay, sds_high_decay = train_minibatch(\n",
    "    active_device, 0.01, 0.01, niter, batch_size,\n",
    "    y_dict, T, dt_flow, M, p_x0, theta_hyperparams,\n",
    "    THETA_DIST = theta_dist, THETA_POST_DIST = theta_post_dist,\n",
    "    MINIBATCH_T = minibatch_size, ELBO_LR_DECAY = 0.1, ELBO_DECAY_STEP_SIZE = 10000, PRINT_EVERY = max(1, niter // 10), \n",
    "    FIX_THETA_DICT = fix_theta_dict, THETA_COND = False, CALC_FULL_LOSS_EVERY = 3*T // minibatch_size)"
   ]
  },
  {
   "cell_type": "code",
   "execution_count": null,
   "metadata": {},
   "outputs": [],
   "source": [
    "net_conv, q_theta_raw_conv, p_theta_conv, obs_model_conv, losses_mini_conv, losses_conv, means_conv, sds_conv = train_minibatch(\n",
    "    active_device, 0.01, 0.01, niter, batch_size,\n",
    "    y_dict, T, dt_flow, M, p_x0, theta_hyperparams,\n",
    "    THETA_DIST = theta_dist, THETA_POST_DIST = theta_post_dist,\n",
    "    MINIBATCH_T = minibatch_size, ELBO_LR_DECAY = 0.1, ELBO_DECAY_STEP_SIZE = 10000, PRINT_EVERY = max(1, niter // 10), \n",
    "    FIX_THETA_DICT = fix_theta_dict, THETA_COND = 'convolution', CALC_FULL_LOSS_EVERY = 3*T // minibatch_size)"
   ]
  },
  {
   "cell_type": "code",
   "execution_count": null,
   "metadata": {},
   "outputs": [],
   "source": [
    "net_linear, q_theta_raw_linear, p_theta_linear, obs_model_linear, losses_mini_linear, losses_linear, means_linear, sds_linear = train_minibatch(\n",
    "    active_device, 0.01, 0.01, niter, batch_size,\n",
    "    y_dict, T, dt_flow, M, p_x0, theta_hyperparams,\n",
    "    THETA_DIST = theta_dist, THETA_POST_DIST = theta_post_dist,\n",
    "    MINIBATCH_T = minibatch_size, ELBO_LR_DECAY = 0.1, ELBO_DECAY_STEP_SIZE = 10000, PRINT_EVERY = max(1, niter // 10), \n",
    "    FIX_THETA_DICT = fix_theta_dict, THETA_COND = 'linear', CALC_FULL_LOSS_EVERY = 3*T // minibatch_size)"
   ]
  },
  {
   "cell_type": "code",
   "execution_count": null,
   "metadata": {},
   "outputs": [],
   "source": [
    "net_conv.window, net_conv.num_layers, net_high_decay.window, net_high_decay.num_layers"
   ]
  },
  {
   "cell_type": "code",
   "execution_count": null,
   "metadata": {
    "scrolled": false
   },
   "outputs": [],
   "source": [
    "net_conv.layers[0].window, net_conv.layers[0].network[0], net_conv.layers[0].network[1], net_conv.layers[0].network[2]"
   ]
  },
  {
   "cell_type": "code",
   "execution_count": null,
   "metadata": {},
   "outputs": [],
   "source": [
    "net_conv.layers[0].network[0].window, net_conv.layers[0].network[1].window, net_conv.layers[0].network[2]"
   ]
  },
  {
   "cell_type": "code",
   "execution_count": null,
   "metadata": {},
   "outputs": [],
   "source": [
    "# Lower lr, smaller sample size, longer iterations\n",
    "net_high, q_theta_raw_high, p_theta_high, obs_model_high, losses_mini_high, losses_high = train_minibatch(\n",
    "    active_device, net_lr, theta_lr, niter, batch_size,\n",
    "    y_dict, T, dt_flow, M, p_x0, theta_hyperparams,\n",
    "    THETA_DIST = theta_dist, THETA_POST_DIST = theta_post_dist,\n",
    "    MINIBATCH_T = minibatch_size, ELBO_LR_DECAY = 1.0, PRINT_EVERY = max(1, niter // 10), \n",
    "    FIX_THETA_DICT = fix_theta_dict, THETA_COND = False, CALC_FULL_LOSS_EVERY = 3*T // minibatch_size)"
   ]
  },
  {
   "cell_type": "code",
   "execution_count": null,
   "metadata": {},
   "outputs": [],
   "source": [
    "len(losses_high)"
   ]
  },
  {
   "cell_type": "code",
   "execution_count": null,
   "metadata": {
    "scrolled": false
   },
   "outputs": [],
   "source": [
    "net_low, q_theta_raw_low, p_theta_low, obs_model_low, losses_mini_low, losses_low = train_minibatch(\n",
    "    active_device, 0.001, theta_lr, niter, batch_size,\n",
    "    y_dict, T, dt_flow, M, p_x0, theta_hyperparams,\n",
    "    THETA_DIST = theta_dist, THETA_POST_DIST = theta_post_dist,\n",
    "    MINIBATCH_T = minibatch_size, ELBO_LR_DECAY = 1.0, PRINT_EVERY = max(1, niter // 10), \n",
    "    FIX_THETA_DICT = fix_theta_dict, THETA_COND = False, CALC_FULL_LOSS_EVERY = 3*T // minibatch_size)"
   ]
  },
  {
   "cell_type": "code",
   "execution_count": null,
   "metadata": {},
   "outputs": [],
   "source": [
    "# Lower lr, smaller sample size, longer iterations\n",
    "niter = 20000\n",
    "net_high, q_theta_raw_high, p_theta_high, obs_model_high, losses_mini_high, losses_high = train_minibatch(\n",
    "    active_device, 0.01, 0.01, niter, 20,\n",
    "    y_dict, T, dt_flow, M, p_x0, theta_hyperparams,\n",
    "    THETA_DIST = theta_dist, THETA_POST_DIST = theta_post_dist,\n",
    "    MINIBATCH_T = minibatch_size, ELBO_LR_DECAY = 1.0, PRINT_EVERY = max(1, niter // 10), \n",
    "    FIX_THETA_DICT = fix_theta_dict, THETA_COND = False, CALC_FULL_LOSS_EVERY = T // minibatch_size)"
   ]
  },
  {
   "cell_type": "code",
   "execution_count": null,
   "metadata": {},
   "outputs": [],
   "source": [
    "iters_per_epoch = T // minibatch_size\n",
    "epochs = niter/iters_per_epoch\n",
    "print(iters_per_epoch, epochs)"
   ]
  },
  {
   "cell_type": "code",
   "execution_count": null,
   "metadata": {},
   "outputs": [],
   "source": [
    "T / minibatch_size, M"
   ]
  },
  {
   "cell_type": "code",
   "execution_count": null,
   "metadata": {
    "scrolled": false
   },
   "outputs": [],
   "source": [
    "net_no, q_theta_raw_no, p_theta_no, obs_model_no, losses_mini_no, losses_no = train_minibatch(\n",
    "    active_device, net_lr, theta_lr, 10, 20,\n",
    "    y_dict, T, dt_flow, M, p_x0, theta_hyperparams,\n",
    "    THETA_DIST = theta_dist, THETA_POST_DIST = theta_post_dist,\n",
    "    MINIBATCH_T = minibatch_size, ELBO_LR_DECAY = 1.0, PRINT_EVERY = max(1, niter // 10), \n",
    "    FIX_THETA_DICT = fix_theta_dict, THETA_COND = False, CALC_FULL_LOSS_EVERY = T // minibatch_size)"
   ]
  },
  {
   "cell_type": "code",
   "execution_count": null,
   "metadata": {},
   "outputs": [],
   "source": [
    "net_no_low, q_theta_raw_no_low, p_theta_no_low, obs_model_no_low, losses_mini_no_low, losses_no_low = train_minibatch(\n",
    "    active_device, net_lr, theta_lr, niter, batch_size,\n",
    "    y_dict, T, dt_flow, M, p_x0, theta_hyperparams,\n",
    "    THETA_DIST = theta_dist, THETA_POST_DIST = theta_post_dist, THETA_POST_INIT = target_hyperparams,\n",
    "    MINIBATCH_T = M, ELBO_LR_DECAY = 1.0, PRINT_EVERY = max(1, niter // 10), \n",
    "    FIX_THETA_DICT = fix_theta_dict, THETA_COND = False, CALC_FULL_LOSS_EVERY = 0)"
   ]
  },
  {
   "cell_type": "code",
   "execution_count": null,
   "metadata": {},
   "outputs": [],
   "source": [
    "net_no_low, q_theta_raw_no_low, p_theta_no_low, obs_model_no_low, losses_mini_no_low, losses_no_low = train_minibatch(\n",
    "    active_device, net_lr, theta_lr, niter, batch_size,\n",
    "    y_dict, T, dt_flow, M, p_x0, theta_hyperparams,\n",
    "    THETA_DIST = theta_dist, THETA_POST_DIST = theta_post_dist, THETA_POST_INIT = target_hyperparams,\n",
    "    MINIBATCH_T = minibatch_size, ELBO_LR_DECAY = 0.9, ELBO_DECAY_STEP_SIZE = niter // 10,\n",
    "    PRINT_EVERY = max(1, niter // 10), FIX_THETA_DICT = fix_theta_dict, THETA_COND = False, CALC_FULL_LOSS_EVERY = T // minibatch_size)"
   ]
  },
  {
   "cell_type": "code",
   "execution_count": null,
   "metadata": {},
   "outputs": [],
   "source": [
    "net_conv, q_theta_raw_conv, p_theta_conv, obs_model_conv, losses_mini_conv, losses_conv = train_minibatch(\n",
    "    active_device, net_lr, theta_lr, niter, batch_size,\n",
    "    y_dict, T, dt_flow, M, p_x0, theta_hyperparams,\n",
    "    THETA_DIST = theta_dist, THETA_POST_DIST = theta_post_dist, THETA_POST_INIT = target_hyperparams,\n",
    "    MINIBATCH_T = minibatch_size, ELBO_LR_DECAY = 1.0, PRINT_EVERY = max(1, niter // 10), \n",
    "    FIX_THETA_DICT = fix_theta_dict, THETA_COND = 'convolution', CALC_FULL_LOSS_EVERY = T // minibatch_size)"
   ]
  },
  {
   "cell_type": "code",
   "execution_count": null,
   "metadata": {},
   "outputs": [],
   "source": [
    "net_linear, q_theta_raw_linear, p_theta_linear, obs_model_linear, losses_mini_linear, losses_linear = train_minibatch(\n",
    "    active_device, net_lr, theta_lr, niter, batch_size,\n",
    "    y_dict, T, dt_flow, M, p_x0, theta_hyperparams,\n",
    "    THETA_DIST = theta_dist, THETA_POST_DIST = theta_post_dist, THETA_POST_INIT = target_hyperparams,\n",
    "    MINIBATCH_T = minibatch_size, ELBO_LR_DECAY = 1.0, PRINT_EVERY = max(1, niter // 10), \n",
    "    FIX_THETA_DICT = fix_theta_dict, THETA_COND = 'linear', CALC_FULL_LOSS_EVERY = T // minibatch_size)"
   ]
  },
  {
   "cell_type": "code",
   "execution_count": null,
   "metadata": {},
   "outputs": [],
   "source": [
    "def plot_loss(loss_hist_list, labels, time_hist_list=None, xscale='linear', ymin=None, ymax=None):\n",
    "    plt.rcParams.update({'font.size': 12, 'lines.linewidth': 2, 'figure.figsize': (8, 6)})\n",
    "    \n",
    "    colors = [cm.tab10(i+1) for i in range(len(labels))]\n",
    "    for loss_hist, label, color in zip(loss_hist_list, labels, colors):\n",
    "        plt.plot(loss_hist, label=label, color=color)\n",
    "    \n",
    "    plt.title('Loss v epoch')\n",
    "    plt.xlabel('epoch')\n",
    "    plt.ylabel('loss')\n",
    "    plt.legend()\n",
    "    plt.xscale(xscale)\n",
    "    plt.ylim((ymin, ymax))"
   ]
  },
  {
   "cell_type": "code",
   "execution_count": null,
   "metadata": {},
   "outputs": [],
   "source": [
    "labels = ['no theta conditioning', 'convolution', 'linear'] #labels = ['full-rank', 'mean-field']\n",
    "plot_loss([losses_high_decay, losses_conv, losses_linear], labels, ymax=700, ymin=100) # "
   ]
  },
  {
   "cell_type": "code",
   "execution_count": null,
   "metadata": {},
   "outputs": [],
   "source": [
    "labels = ['no theta conditioning', 'lower'] #labels = ['full-rank', 'mean-field']\n",
    "plot_loss([losses_no, losses_no_low], labels, ymax=550, ymin=510) # "
   ]
  },
  {
   "cell_type": "code",
   "execution_count": null,
   "metadata": {},
   "outputs": [],
   "source": [
    "labels = ['convolution theta conditioning', 'linear theta conditioning', 'no theta conditioning'] #labels = ['full-rank', 'mean-field']\n",
    "plot_loss([losses_conv, losses_linear, losses_no], labels, ymax=700, ymin=500) # "
   ]
  },
  {
   "cell_type": "code",
   "execution_count": null,
   "metadata": {},
   "outputs": [],
   "source": [
    "# Extracts the distribution from a MeanField object\n",
    "def extract_dist(q):\n",
    "    a, b = q.lowers, q.uppers\n",
    "    loc = q.means\n",
    "    if not q.learn_cov:\n",
    "        scale = torch.max(q.sds, torch.ones_like(q.sds) * 1e-8)\n",
    "        #scale = D.transform_to(q.dist.arg_constraints['scale'])(q.sds)\n",
    "        return q.dist(loc, scale=scale, a=a, b=b)\n",
    "    else:\n",
    "        scale = D.transform_to(q.dist.arg_constraints['scale_tril'])(q.sds)\n",
    "        return q.dist(loc, scale_tril=scale, a=a, b=b)"
   ]
  },
  {
   "cell_type": "code",
   "execution_count": null,
   "metadata": {},
   "outputs": [],
   "source": [
    "q_theta_low = extract_dist(q_theta_raw_low)\n",
    "q_theta_high = extract_dist(q_theta_raw_high)"
   ]
  },
  {
   "cell_type": "code",
   "execution_count": null,
   "metadata": {},
   "outputs": [],
   "source": [
    "def plot_theta_post(p_theta, q_theta_list, theta_samples, labels, num_pts=1000, eps=1e-6):\n",
    "    fig, axes = plt.subplots(1, 3, figsize=(4*3, 4))\n",
    "    \n",
    "    a, b = p_theta.a, p_theta.b\n",
    "    theta_range = torch.from_numpy(np.linspace(a + eps, b - eps, num_pts)).float()\n",
    "    \n",
    "    pdf_prior = torch.exp(p_theta.log_prob(theta_range)).detach()\n",
    "    approx_int_prior = pdf_prior.sum(0) * (b - a) / num_pts\n",
    "    assert torch.allclose(approx_int_prior, torch.tensor(1.0), rtol=1e-3)\n",
    "    \n",
    "    # Load marginal posteriors\n",
    "    pdf_post_list = []\n",
    "    for q_theta in q_theta_list:\n",
    "        if isinstance(q_theta, MultivariateLogitNormal):\n",
    "            scale_post = torch.diag(q_theta.covariance_matrix).sqrt()\n",
    "            q_marginal = RescaledLogitNormal(q_theta.loc, scale_post, a=a, b=b)\n",
    "        else:\n",
    "            q_marginal = q_theta\n",
    "        pdf_post = torch.exp(q_marginal.log_prob(theta_range)).detach()\n",
    "        pdf_post_list.append(pdf_post)\n",
    "    \n",
    "    param_names = ['$\\\\theta_0$', '$\\\\theta_1$']\n",
    "    colors = [cm.tab10(i+1) for i in range(len(q_theta_list))]\n",
    "    for i, ax in enumerate(axes):\n",
    "        if i < 2:\n",
    "            ax.plot(theta_range[:, i], pdf_prior[:, i], linewidth=2, label='prior')\n",
    "            ax.axvline(theta[i], color='gray', label='true $\\\\theta$')\n",
    "            for pdf_post, post_dist, c in zip(pdf_post_list, labels, colors):\n",
    "                label = 'posterior {}'.format(post_dist)\n",
    "                ax.plot(theta_range[:, i], pdf_post[:, i], label=label, color=c)\n",
    "                    \n",
    "            ax.set_xlabel(param_names[i])\n",
    "            if i == 0: ax.set_ylabel('density')\n",
    "        else:\n",
    "            handles, labels = axes[0].get_legend_handles_labels()\n",
    "            ax.legend(handles, labels, loc='center left')\n",
    "            ax.axis('off')\n",
    "    plt.tight_layout()\n",
    "    pass"
   ]
  },
  {
   "cell_type": "code",
   "execution_count": null,
   "metadata": {},
   "outputs": [],
   "source": [
    "plot_theta_post(p_theta, [q_theta_low, q_theta_high], theta, labels)"
   ]
  },
  {
   "cell_type": "code",
   "execution_count": null,
   "metadata": {},
   "outputs": [],
   "source": [
    "def plot_path_post(net_list, T, dt, y, t_y, theta=None, q_theta_raw_list=None, labels=None,\n",
    "                   title=None, state_dim=1, batch_size=30, summarize=False, alg_list=None, colors=None, linestyles=None,\n",
    "                   plot_lidx=0, plot_ridx=None):\n",
    "    # algs: 0 - old net, 1 - new net, 2 - kf\n",
    "    if alg_list is None:\n",
    "        alg_list = [1] * len(net_list)\n",
    "    if colors is None:\n",
    "        colors = [cm.tab10(i+1) for i in range(len(labels))]\n",
    "    if linestyles is None:\n",
    "        linestyles = ['-'] * len(labels)\n",
    "    \n",
    "    #N, time_steps = x.shape\n",
    "    times = torch.tensor(np.arange(0, T + dt, dt))\n",
    "    fig, axes = plt.subplots(state_dim, figsize=(15, 4*state_dim), sharex=True)\n",
    "    axes = np.atleast_1d(axes)\n",
    "    \n",
    "    # Draw theta\n",
    "    if theta is None:\n",
    "        assert q_theta_raw_list is not None\n",
    "        theta_list = []\n",
    "        for i, q_theta_raw in enumerate(q_theta_raw_list):\n",
    "            if q_theta_raw is not None:\n",
    "                _, theta, _, _ = q_theta_raw(batch_size)\n",
    "            else:\n",
    "                assert alg_list[i] != 1 or net_list[i].theta_cond is False\n",
    "                theta = None\n",
    "            theta_list.append(theta)\n",
    "    else:\n",
    "        if q_theta_raw_list is not None:\n",
    "            print('Using provided theta, ignoring q_theta')\n",
    "    \n",
    "    \n",
    "    M = int(T / dt) + 1\n",
    "    x_list = []\n",
    "    for net, theta, alg in zip(net_list, theta_list, alg_list):\n",
    "        if alg == 1 and net.theta_cond is False:\n",
    "            assert theta is None\n",
    "        if alg == 0:\n",
    "            net.eval()\n",
    "            x = net(batch_size)[0].detach()\n",
    "        elif alg == 1:\n",
    "            net.eval()\n",
    "            x = net(batch_size, 0, M, theta=theta)[0].detach()\n",
    "        else:\n",
    "            x = net\n",
    "        x_list.append(x)\n",
    "    \n",
    "    for i, ax in enumerate(axes):            \n",
    "        #ax.plot(t_x, x[i, :], label='latent state')\n",
    "        for x, label, color, l, alg in zip(x_list, labels, colors, linestyles, alg_list):\n",
    "            if summarize:\n",
    "                if alg < 2:\n",
    "                    net_left, net_center, net_right = torch.quantile(x[:, :, i], torch.tensor([0.025, 0.5, 0.975]), dim=0)\n",
    "                else:\n",
    "                    net_center = x.mu_smooth[:, i]\n",
    "                    sd_smooth = x.sigma_smooth[:, i, i].sqrt()\n",
    "                    net_left, net_right = net_center - 2*sd_smooth, net_center + 2*sd_smooth\n",
    "                \n",
    "                #label_str = 'state {}'.format(label)\n",
    "                ax.plot(times[plot_lidx:plot_ridx], net_center[plot_lidx:plot_ridx], label = label, color=color, linestyle=l)\n",
    "                ax.fill_between(times[plot_lidx:plot_ridx], net_left[plot_lidx:plot_ridx], net_right[plot_lidx:plot_ridx],\n",
    "                                alpha = 0.4, color=color) #, label = 'state 2.5-97.5%'\n",
    "            else:\n",
    "                for j in range(batch_size):\n",
    "                    label_str = 'state {}'.format(label) if j == 0 else None\n",
    "                    ax.plot(times[plot_lidx:plot_ridx], x[j, [plot_lidx:plot_ridx], i], label=label_str, color=color)\n",
    "        \n",
    "        y_lidx, y_ridx\n",
    "        ax.plot(t_y, y[i, :], label='observation', linestyle='', marker='o', color=cm.tab10(0))\n",
    "        ax.legend()\n",
    "        if i == 0 and title:\n",
    "            ax.set_title(title)\n",
    "    ax.set_xlabel('hour')\n",
    "    plt.tight_layout()"
   ]
  },
  {
   "cell_type": "code",
   "execution_count": null,
   "metadata": {},
   "outputs": [],
   "source": [
    "plot_path_post(net, T, dt_flow, y, t_y, theta=theta.repeat(batch_size, 1), eval_batch_size=batch_size)"
   ]
  },
  {
   "cell_type": "code",
   "execution_count": null,
   "metadata": {},
   "outputs": [],
   "source": [
    "plot_path_post([net_low, net_high], T, dt_flow, y, t_y, q_theta_raw_list=[None, None],\n",
    "               batch_size=batch_size, labels=labels)"
   ]
  },
  {
   "cell_type": "code",
   "execution_count": null,
   "metadata": {},
   "outputs": [],
   "source": []
  },
  {
   "cell_type": "markdown",
   "metadata": {},
   "source": [
    "## Save results"
   ]
  },
  {
   "cell_type": "code",
   "execution_count": null,
   "metadata": {},
   "outputs": [],
   "source": [
    "save_dir = 'data/toy_ssm1'\n",
    "if not os.path.exists(save_dir):\n",
    "    os.makedirs(save_dir)"
   ]
  },
  {
   "cell_type": "code",
   "execution_count": null,
   "metadata": {},
   "outputs": [],
   "source": [
    "loss_file = '{}/new_mini_no_loss.pt'.format(save_dir)\n",
    "net_file = '{}/new_mini_no_net.pt'.format(save_dir)\n",
    "q_raw_file = '{}/new_mini_no_q_raw.pt'.format(save_dir)\n",
    "torch.save([losses_low, losses_high, losses_high_decay], loss_file) # , losses_trunc_mf\n",
    "torch.save([net_low, net_high, net_high_decay], net_file)\n",
    "torch.save([q_theta_raw_low, q_theta_raw_high, q_theta_raw_high_decay], q_raw_file) # , q_theta_trunc_mf\n",
    "#torch.save([times, times_mf], time_file) # , times_trunc_mf"
   ]
  },
  {
   "cell_type": "code",
   "execution_count": null,
   "metadata": {},
   "outputs": [],
   "source": [
    "loss_file = '{}/new_mini_loss.pt'.format(save_dir)\n",
    "net_file = '{}/new_mini_net.pt'.format(save_dir)\n",
    "q_raw_file = '{}/new_mini_q_raw.pt'.format(save_dir)\n",
    "q_hist_file = '{}/new_mini_q_hist.pt'.format(save_dir)\n",
    "torch.save([losses_high_decay, losses_conv, losses_linear], loss_file) # , losses_trunc_mf\n",
    "torch.save([net_high_decay, net_conv, net_linear], net_file)\n",
    "torch.save([q_theta_raw_high_decay, q_theta_raw_conv, q_theta_raw_linear], q_raw_file) # , q_theta_trunc_mf\n",
    "torch.save([(means_high_decay, sds_high_decay), (means_conv, sds_conv), (means_linear, sds_linear)], q_hist_file) # , times_trunc_mf"
   ]
  },
  {
   "cell_type": "code",
   "execution_count": null,
   "metadata": {},
   "outputs": [],
   "source": [
    "q_hist_file = '{}/new_mini_no_q_hist.pt'.format(save_dir)\n",
    "torch.save([means_high_decay, sds_high_decay], q_hist_file)"
   ]
  },
  {
   "cell_type": "markdown",
   "metadata": {},
   "source": [
    "## Archive\n",
    "Consider a simplified transition distribution given by:\n",
    "$$ \\mathbf{x}_t = \\mathbf{A}_t \\mathbf{x}_{t-1} + \\boldsymbol{\\epsilon}_t$$\n",
    "\n",
    "where $\\boldsymbol{\\epsilon}_t \\sim N(\\mathbf{0}, \\mathbf{Q}_t)$ is a Gaussian system noise."
   ]
  },
  {
   "cell_type": "markdown",
   "metadata": {},
   "source": [
    "$x_t \\sim \\text{MultivariateNormal}(A_tx_{t-1}, Q_t)$"
   ]
  },
  {
   "cell_type": "markdown",
   "metadata": {},
   "source": [
    "For simplicity, let A = diag(\\theta), Q is known. Should we do 1 state dim?"
   ]
  },
  {
   "cell_type": "code",
   "execution_count": null,
   "metadata": {},
   "outputs": [],
   "source": [
    "a = torch.empty(2, 3, 1)\n",
    "a[:, :-1, :]"
   ]
  },
  {
   "cell_type": "code",
   "execution_count": null,
   "metadata": {},
   "outputs": [],
   "source": [
    "a.shape"
   ]
  },
  {
   "cell_type": "code",
   "execution_count": null,
   "metadata": {},
   "outputs": [],
   "source": [
    "base_dist = D.normal.Normal(loc = 0., scale = LowerBound.apply(self.scale, 1e-6))\n",
    "        eps = base_dist.sample([bsz, self.state_dim * self.n]).to(self.device)\n",
    "        log_prob = base_dist.log_prob(eps).permute(0, 2, 1)[:, :, active_lidx:active_ridx]"
   ]
  },
  {
   "cell_type": "code",
   "execution_count": null,
   "metadata": {},
   "outputs": [],
   "source": [
    "base = D.normal.Normal(0., torch.tensor([1.]))\n",
    "eps = base.sample((2, 5))\n",
    "log_prob = base.log_prob(eps)\n",
    "log_prob.permute(0, 2, 1).shape"
   ]
  },
  {
   "cell_type": "code",
   "execution_count": null,
   "metadata": {},
   "outputs": [],
   "source": [
    "a = torch.arange(6).reshape((2, 3))\n",
    "a"
   ]
  },
  {
   "cell_type": "code",
   "execution_count": null,
   "metadata": {},
   "outputs": [],
   "source": [
    "perm_idx = torch.randperm(3)\n",
    "rev_idx = torch.arange(1, -1, -1)\n",
    "perm_idx, rev_idx"
   ]
  },
  {
   "cell_type": "code",
   "execution_count": null,
   "metadata": {},
   "outputs": [],
   "source": [
    "a[rev_idx, :][:, perm_idx]"
   ]
  },
  {
   "cell_type": "code",
   "execution_count": null,
   "metadata": {},
   "outputs": [],
   "source": [
    "a.flip(0)[:, perm_idx]"
   ]
  },
  {
   "cell_type": "code",
   "execution_count": null,
   "metadata": {},
   "outputs": [],
   "source": [
    "a[::-1, perm_idx]"
   ]
  },
  {
   "cell_type": "code",
   "execution_count": null,
   "metadata": {},
   "outputs": [],
   "source": []
  }
 ],
 "metadata": {
  "kernelspec": {
   "display_name": "Python 3",
   "language": "python",
   "name": "python3"
  },
  "language_info": {
   "codemirror_mode": {
    "name": "ipython",
    "version": 3
   },
   "file_extension": ".py",
   "mimetype": "text/x-python",
   "name": "python",
   "nbconvert_exporter": "python",
   "pygments_lexer": "ipython3",
   "version": "3.8.5"
  }
 },
 "nbformat": 4,
 "nbformat_minor": 4
}
