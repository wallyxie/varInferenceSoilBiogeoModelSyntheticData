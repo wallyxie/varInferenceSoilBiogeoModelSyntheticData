{
 "cells": [
  {
   "cell_type": "code",
   "execution_count": 1,
   "metadata": {},
   "outputs": [],
   "source": [
    "import time\n",
    "import torch\n",
    "from torch import distributions as D\n",
    "from matplotlib import pyplot as plt\n",
    "from matplotlib import cm\n",
    "from tqdm.notebook import tqdm"
   ]
  },
  {
   "cell_type": "code",
   "execution_count": 2,
   "metadata": {},
   "outputs": [],
   "source": [
    "# Hack to import from a parent directory\n",
    "import sys, os\n",
    "path = '..'\n",
    "if path not in sys.path:\n",
    "    sys.path.append(path)\n",
    "\n",
    "from LogitNormal import *\n",
    "from TruncatedNormal import *\n",
    "from mean_field import *\n",
    "from obs_and_flow import *"
   ]
  },
  {
   "cell_type": "markdown",
   "metadata": {},
   "source": [
    "## Generate data"
   ]
  },
  {
   "cell_type": "markdown",
   "metadata": {},
   "source": [
    "Given fixed hyperparameters $\\mu_\\theta, \\sigma_\\theta, a, b, \\mu_{x_0}, \\sigma_x, \\sigma_y$ and observed $y$, consider the following toy model:\n",
    "- $\\theta_0, \\theta_1 \\sim \\text{LogitNormal}(\\mu_\\theta, \\sigma_\\theta, a, b)$\n",
    "- $x_0 \\sim N(\\mu_{x_0}, \\sigma_x)$\n",
    "- $x_t \\sim N(\\theta_0+\\theta_1x_{t-1}, \\sigma_x)$\n",
    "- $y_{t'} \\sim N(x_{t'}, \\sigma_y)$, where $t'$ is observed time steps"
   ]
  },
  {
   "cell_type": "code",
   "execution_count": 3,
   "metadata": {},
   "outputs": [],
   "source": [
    "def generate_data(N, T, dt, mu_theta, sigma_theta, a_theta, b_theta,\n",
    "                  mu_x, sigma_x, sigma_y, theta=None, obs_every=None):\n",
    "    torch.manual_seed(0)\n",
    "    if obs_every is None:\n",
    "        obs_every = dt\n",
    "    #assert obs_every % dt == 0, 'obs_every must be divisible by dt'\n",
    "    obs_every_step = int(obs_every / dt)\n",
    "    \n",
    "    # Sample theta\n",
    "    p_theta = RescaledLogitNormal(mu_theta, sigma_theta, a=a_theta, b=b_theta)\n",
    "    if theta is None: # else use given theta\n",
    "        theta = p_theta.sample() # (2, )\n",
    "    \n",
    "    # Allocate x tensor\n",
    "    M = int(T / dt) + 1\n",
    "    x = torch.empty((N, M)) # N - number of independent sequences; M - length of each sequence\n",
    "    \n",
    "    # Sample x0\n",
    "    p_x0 = D.normal.Normal(mu_x, sigma_x)\n",
    "    x[:, 0] = p_x0.sample((N, )) # (N, )\n",
    "    #print('x_{}: {}'.format(0, x[:, 0]))\n",
    "    \n",
    "    # Sample x_t, t > 0\n",
    "    for i in range(1, M):\n",
    "        #print('theta0, theta1, prev, mu, sigma:', theta[0], theta[1], x[:, i - 1], theta[0] + theta[1] * x[:, i - 1], sigma_x)\n",
    "        p_xt = D.normal.Normal(theta[0] + theta[1] * x[:, i - 1], sigma_x)\n",
    "        \n",
    "        # Draw sample\n",
    "        x[:, i] = p_xt.sample() # (N, )\n",
    "        #print('x_{}: {}'.format(i, x[:, i]))\n",
    "    \n",
    "    # Sample y\n",
    "    x_for_y = x[:, ::obs_every_step]\n",
    "    p_y = D.normal.Normal(x_for_y, sigma_y)\n",
    "    y = p_y.sample() # (N, M_obs)\n",
    "    \n",
    "    # Observation timestamp t_y\n",
    "    t_x = torch.arange(0, T + dt, dt)\n",
    "    t_y = torch.arange(0, T + dt, obs_every)\n",
    "    assert(len(t_y) == y.shape[1] and t_y[-1] == T)\n",
    "    y_dict = {'t_y': t_y, 'y': y, 'sigma_y': sigma_y}\n",
    "    \n",
    "    return p_theta, theta, p_x0, x, y_dict"
   ]
  },
  {
   "cell_type": "code",
   "execution_count": 4,
   "metadata": {},
   "outputs": [],
   "source": [
    "# theta hyperparameters\n",
    "mu_theta = torch.tensor([0., 0.5])\n",
    "sigma_theta = torch.tensor([1., 1.])\n",
    "a_theta = torch.tensor([-2., -1.])\n",
    "b_theta = torch.tensor([2., 1.])\n",
    "theta = torch.tensor([0.6, 0.9])\n",
    "\n",
    "# x hyperparameters\n",
    "mu_x = torch.tensor(0.)\n",
    "sigma_x = torch.tensor(0.8)\n",
    "\n",
    "# y hyperparameter\n",
    "sigma_y = torch.tensor(1.)"
   ]
  },
  {
   "cell_type": "code",
   "execution_count": 5,
   "metadata": {},
   "outputs": [],
   "source": [
    "N, T, dt, obs_every = 1, 1000, 1.0, 10\n",
    "p_theta, theta, p_x0, x, y_dict = generate_data(N, T, dt, mu_theta, sigma_theta, a_theta, b_theta,\n",
    "                                                mu_x, sigma_x, sigma_y, obs_every=obs_every, theta=theta)"
   ]
  },
  {
   "cell_type": "code",
   "execution_count": null,
   "metadata": {},
   "outputs": [],
   "source": [
    "p_theta1, theta1, p_x01, x1, y_dict1 = generate_data(N, T, 0.1, mu_theta, sigma_theta, a_theta, b_theta,\n",
    "                                                mu_x, sigma_x, sigma_y, obs_every=obs_every, theta=theta)"
   ]
  },
  {
   "cell_type": "code",
   "execution_count": null,
   "metadata": {},
   "outputs": [],
   "source": [
    "theta # needs to be between (-1, 1)"
   ]
  },
  {
   "cell_type": "markdown",
   "metadata": {},
   "source": [
    "## Plot data"
   ]
  },
  {
   "cell_type": "code",
   "execution_count": 6,
   "metadata": {},
   "outputs": [],
   "source": [
    "def plot_theta(p_theta, theta, num_pts=1000, eps=1e-6):\n",
    "    fig, axes = plt.subplots(1, 3, figsize=(4*3, 4))\n",
    "    \n",
    "    a, b = p_theta.a, p_theta.b\n",
    "    theta_range = torch.from_numpy(np.linspace(a + eps, b - eps, num_pts)).float()\n",
    "    \n",
    "    pdf_prior = torch.exp(p_theta.log_prob(theta_range)).detach()\n",
    "    approx_int_prior = pdf_prior.sum(0) * (b - a) / num_pts\n",
    "    assert torch.allclose(approx_int_prior, torch.tensor(1.0), rtol=1e-3)\n",
    "    \n",
    "    labels = ['$\\\\theta_0$', '$\\\\theta_1$']\n",
    "    for i, ax in enumerate(axes):\n",
    "        if i < 2:\n",
    "            ax.plot(theta_range[:, i], pdf_prior[:, i], linewidth=2, label='prior')\n",
    "            ax.axvline(theta[i], color='gray', label='true $\\\\theta$')\n",
    "            ax.set_xlabel(labels[i])\n",
    "            if i == 0: ax.set_ylabel('density')\n",
    "        else:\n",
    "            handles, labels = axes[0].get_legend_handles_labels()\n",
    "            ax.legend(handles, labels, loc='center left')\n",
    "            ax.axis('off')\n",
    "    plt.tight_layout()"
   ]
  },
  {
   "cell_type": "code",
   "execution_count": 7,
   "metadata": {},
   "outputs": [
    {
     "data": {
      "image/png": "[encoded data removed]",
      "text/plain": [
       "<Figure size 864x288 with 3 Axes>"
      ]
     },
     "metadata": {
      "needs_background": "light"
     },
     "output_type": "display_data"
    }
   ],
   "source": [
    "plot_theta(p_theta, theta)"
   ]
  },
  {
   "cell_type": "code",
   "execution_count": 8,
   "metadata": {},
   "outputs": [],
   "source": [
    "def plot_path(x, y, t_x, t_y, title=None, state_dim=1):\n",
    "    N, time_steps = x.shape\n",
    "    fig, axes = plt.subplots(state_dim, figsize=(15, 4*state_dim), sharex=True)\n",
    "    axes = np.atleast_1d(axes)\n",
    "    \n",
    "    for i, ax in enumerate(axes):            \n",
    "        ax.plot(t_x, x[i, :], label='latent state')\n",
    "        ax.plot(t_y, y[i, :], label='observation', linestyle='', marker='o')        \n",
    "        ax.legend()\n",
    "        if i == 0 and title:\n",
    "            ax.set_title(title)\n",
    "    ax.set_xlabel('hour')\n",
    "    plt.tight_layout()"
   ]
  },
  {
   "cell_type": "code",
   "execution_count": 9,
   "metadata": {},
   "outputs": [
    {
     "data": {
      "image/png": "[encoded data removed]",
      "text/plain": [
       "<Figure size 1080x288 with 1 Axes>"
      ]
     },
     "metadata": {
      "needs_background": "light"
     },
     "output_type": "display_data"
    }
   ],
   "source": [
    "y, t_y = y_dict['y'], y_dict['t_y']\n",
    "t_x = torch.arange(0, T + dt, dt)\n",
    "plot_path(x, y, t_x, t_y, title='generation dt = 1.0')"
   ]
  },
  {
   "cell_type": "code",
   "execution_count": null,
   "metadata": {},
   "outputs": [],
   "source": [
    "y1, t_y1 = y_dict1['y'], y_dict1['t_y']\n",
    "t_x1 = torch.arange(0, T + 0.1, 0.1)\n",
    "plot_path(x1, y1, t_x1, t_y1, title='generation dt = 0.1')"
   ]
  },
  {
   "cell_type": "markdown",
   "metadata": {},
   "source": [
    "## Inference\n",
    "\n",
    "Objective:\n",
    "$$\n",
    "\\begin{align}\n",
    "\\mathcal{L} &= \\frac{1}{S} \\sum_s \\left[ \\log p(\\theta, x, y) - \\log q(\\theta, x|y) \\right] \\\\\n",
    "  &= \\frac{1}{S} \\sum_s \\left[\\log p(\\theta^{(s)}) - \\log q(x^{(s)}) + \\frac{T}{M} \\left( \\log p(x^{(s)}|\\theta^{(s)}) + \\log p(y|x^{(s)}) - \\log q(\\theta^{(s)}) \\right) \\right]\n",
    "\\end{align}\n",
    "$$\n",
    "where $T$ is the total number of time steps and $M$ is the minibatch size."
   ]
  },
  {
   "cell_type": "code",
   "execution_count": 10,
   "metadata": {},
   "outputs": [],
   "source": [
    "active_device = torch.device('cuda' if torch.cuda.is_available() else 'cpu')\n",
    "if torch.cuda.is_available():\n",
    "    torch.set_default_tensor_type('torch.cuda.FloatTensor')\n",
    "torch.set_printoptions(precision = 8)\n",
    "\n",
    "# Neural SDE parameters\n",
    "dt_flow = 1.0 # [1.0, 0.5]\n",
    "M = int(T / dt_flow) + 1\n",
    "\n",
    "# Theta info\n",
    "theta_dist = 'RescaledLogitNormal' #String needs to be exact name of the distribution class. Other option is 'RescaledLogitNormal'.\n",
    "theta_post_dist = 'MultivariateLogitNormal'\n",
    "param_names = ['theta_0', 'theta_1']\n",
    "theta_hyperparams = {k: (loc, scale, a, b) for k, loc, scale, a, b in zip(param_names, mu_theta, sigma_theta, a_theta, b_theta)}\n",
    "target_hyperparams = {k: (mean, sd, a, b) for k, mean, sd, a, b in zip(param_names, p_theta.mean, p_theta.stddev, a_theta, b_theta)}\n",
    "fix_theta_dict = {'sigma_x': sigma_x}"
   ]
  },
  {
   "cell_type": "code",
   "execution_count": 11,
   "metadata": {},
   "outputs": [],
   "source": [
    "def calc_log_lik(X, PARAMS_DICT, DT, X0_PRIOR):\n",
    "    # X.shape == (batch_size, time_steps, state_dim)\n",
    "    theta0, theta1 = PARAMS_DICT['theta_0'].reshape(-1, 1, 1), PARAMS_DICT['theta_1'].reshape(-1, 1, 1)\n",
    "    loc, scale = theta0 + theta1 * X[:, :-1, :], PARAMS_DICT['sigma_x'].reshape(1, 1, 1)\n",
    "    p_x = D.normal.Normal(loc, scale) \n",
    "    \n",
    "    # Compute log p(x|theta) = log p(x|x0, theta) + log p(x0|theta)\n",
    "    ll = p_x.log_prob(X[:, 1:, :]).sum((-2, -1)) # log p(x|x0, theta)\n",
    "    ll += X0_PRIOR.log_prob(X[:, 0, :]).sum(-1) # log p(x0|theta)\n",
    "\n",
    "    return ll # ll.shape == (batch_size, )"
   ]
  },
  {
   "cell_type": "code",
   "execution_count": 12,
   "metadata": {},
   "outputs": [],
   "source": [
    "def train(DEVICE, NET_LR: float, THETA_LR: float, ELBO_ITER: int, BATCH_SIZE: int,\n",
    "        DATA: dict, T: float, DT: float, N: int,\n",
    "        X0_PRIOR: torch.distributions.distribution.Distribution,\n",
    "        PRIOR_DIST_DETAILS_DICT: dict, \n",
    "        THETA_DIST = None, THETA_POST_DIST = None, THETA_POST_INIT = None,\n",
    "        ELBO_LR_DECAY: float = 0.8, ELBO_DECAY_STEP_SIZE: int = 50000, \n",
    "        PRINT_EVERY: int = 100, FIX_THETA_DICT: dict = None,\n",
    "        NUM_LAYERS: int = 5, KERNEL_SIZE: int = 3, NUM_RESBLOCKS: int = 2, REVERSE: bool = False):\n",
    "    torch.manual_seed(seed)\n",
    "    print('seed', seed)\n",
    "    obs_dim, state_dim = 1, 1\n",
    "    \n",
    "    #Read in data to obtain y and establish observation model.\n",
    "    obs_times, obs_vals, obs_error = np.array(DATA['t_y']), DATA['y'], DATA['sigma_y']\n",
    "    obs_model = ObsModel(DEVICE, TIMES = obs_times, DT = DT, MU = obs_vals, SCALE = obs_error)\n",
    "\n",
    "    #Establish neural network.\n",
    "    net = SDEFlow(DEVICE, obs_model, state_dim, T, DT, N, num_layers = NUM_LAYERS, positive = False, reverse = REVERSE)\n",
    "    \n",
    "    param_names = list(PRIOR_DIST_DETAILS_DICT.keys())\n",
    "\n",
    "    #Convert prior details dictionary values to tensors.\n",
    "    prior_list = list(zip(*(PRIOR_DIST_DETAILS_DICT[k] for k in param_names))) #Unzip prior distribution details from dictionary values into individual lists.\n",
    "    prior_means_tensor, prior_sds_tensor, prior_lowers_tensor, prior_uppers_tensor = torch.tensor(prior_list).to(DEVICE) #Ensure conversion of lists into tensors.\n",
    "\n",
    "    #Retrieve desired distribution class based on string.\n",
    "    dist_class_dict = {\n",
    "            'TruncatedNormal': TruncatedNormal,\n",
    "            'RescaledLogitNormal': RescaledLogitNormal,\n",
    "            'MultivariateLogitNormal': MultivariateLogitNormal\n",
    "            }\n",
    "    THETA_PRIOR_CLASS = dist_class_dict[THETA_DIST]\n",
    "    THETA_POST_CLASS = dist_class_dict[THETA_POST_DIST] if THETA_POST_DIST else dist_class_dict[THETA_DIST]\n",
    "    \n",
    "    #Define prior\n",
    "    p_theta = THETA_PRIOR_CLASS(loc = prior_means_tensor, scale = prior_sds_tensor, a = prior_lowers_tensor, b = prior_uppers_tensor)\n",
    "\n",
    "    # Initialize posterior q(theta) using its prior p(theta)\n",
    "    learn_cov = (THETA_POST_DIST == 'MultivariateLogitNormal')\n",
    "    if THETA_POST_INIT is None:\n",
    "        THETA_POST_INIT = PRIOR_DIST_DETAILS_DICT\n",
    "    q_theta = MeanField(DEVICE, param_names, THETA_POST_INIT, THETA_POST_CLASS, learn_cov)\n",
    "\n",
    "    #Record loss throughout training\n",
    "    #best_loss_norm = 1e15\n",
    "    #best_loss_ELBO = 1e15\n",
    "    #norm_losses = []\n",
    "    ELBO_losses = []\n",
    "    means_hist = []\n",
    "    sds_hist = []\n",
    "\n",
    "    #Initiate optimizers.\n",
    "    #ELBO_params = list(net.parameters()) + list(q_theta.parameters())\n",
    "    #ELBO_optimizer = optim.Adamax(ELBO_params, lr = ELBO_LR)\n",
    "    net_optimizer = optim.Adamax(net.parameters(), lr = NET_LR)\n",
    "    theta_optimizer = optim.Adamax(q_theta.parameters(), lr = THETA_LR)\n",
    "\n",
    "    net.train()\n",
    "    with tqdm(total = ELBO_ITER, desc = f'Learning SDE and hidden parameters.', position = -1) as tq:\n",
    "        for it in range(ELBO_ITER + 1):\n",
    "            # Sample (unknown) theta\n",
    "            theta_dict, theta, log_q_theta, parent_loc_scale_dict = q_theta(BATCH_SIZE)\n",
    "            #assert log_q_theta.shape == (BATCH_SIZE, )\n",
    "            \n",
    "            log_p_theta = p_theta.log_prob(theta).sum(-1)\n",
    "            #assert log_p_theta.shape == (BATCH_SIZE, )\n",
    "            \n",
    "            # Fix known theta\n",
    "            if FIX_THETA_DICT:\n",
    "                theta_dict = {**theta_dict, **FIX_THETA_DICT}\n",
    "\n",
    "            # Sample x\n",
    "            C_PATH, log_prob = net(BATCH_SIZE) #Obtain paths with solutions to times including t0.\n",
    "            #assert log_prob.shape == (BATCH_SIZE, 1)\n",
    "            #print(C_PATH.shape, log_prob.shape)\n",
    "            \n",
    "            # Zero gradients\n",
    "            #ELBO_optimizer.zero_grad()\n",
    "            net_optimizer.zero_grad()\n",
    "            theta_optimizer.zero_grad()\n",
    "\n",
    "            # Compute likelihood and ELBO\n",
    "            # Negative ELBO: -log p(theta) + log q(theta) - log p(y_0|x_0, theta) + log q(x|theta) - log p(x|theta) - log p(y|x, theta)\n",
    "            log_lik = calc_log_lik(C_PATH, theta_dict, DT, X0_PRIOR)\n",
    "            #assert log_lik.shape == (BATCH_SIZE, )\n",
    "            \n",
    "            log_p_obs_mean = obs_model(C_PATH, theta_dict)\n",
    "            #assert log_p_obs_mean.shape == ()\n",
    "            \n",
    "            ELBO = -log_p_theta.mean() + log_q_theta.mean() + log_prob.mean() - log_lik.mean() - log_p_obs_mean\n",
    "            #print(log_p_theta.mean(), log_q_theta.mean(), log_prob.mean(), log_lik.mean(), obs_model(C_PATH, theta_dict))\n",
    "            \n",
    "            # Record ELBO history and best ELBO so far\n",
    "            ELBO_losses.append(ELBO.item())\n",
    "\n",
    "            # Print info\n",
    "            if it % PRINT_EVERY == 0:\n",
    "                #k = min(100, it + 1)\n",
    "                #ma_loss = sum(ELBO_losses[-k:]) / len(ELBO_losses[-k:])\n",
    "                #print('Iteration {} moving average loss: {}'.format(it + 1, ma_loss))\n",
    "                print('Iteration {} full unibatch loss: {}'.format(it, ELBO_losses[-1]))\n",
    "            \n",
    "            # Take gradient step\n",
    "            if it < ELBO_ITER:\n",
    "                ELBO.backward()\n",
    "                torch.nn.utils.clip_grad_norm_(net.parameters(), 5.0)\n",
    "                torch.nn.utils.clip_grad_norm_(q_theta.parameters(), 5.0)\n",
    "                #ELBO_optimizer.step()\n",
    "                net_optimizer.step()\n",
    "                theta_optimizer.step()\n",
    "                \n",
    "            if ELBO_ITER - 1000 <= it < ELBO_ITER:\n",
    "                # Record theta parameter values\n",
    "                means_hist.append(torch.clone(q_theta.means))\n",
    "                sds_hist.append(torch.clone(q_theta.sds))\n",
    "\n",
    "            if it > 0 and it % ELBO_DECAY_STEP_SIZE == 0:\n",
    "                #ELBO_optimizer.param_groups[0]['lr'] *= ELBO_LR_DECAY\n",
    "                net_optimizer.param_groups[0]['lr'] *= ELBO_LR_DECAY\n",
    "                theta_optimizer.param_groups[0]['lr'] *= ELBO_LR_DECAY\n",
    "\n",
    "            tq.update()\n",
    "\n",
    "    print('\\nAll finished! Now, we need to check outputs to see if things worked...')\n",
    "    \n",
    "    return net, q_theta, p_theta, obs_model, ELBO_losses, means_hist, sds_hist # losses_full, times"
   ]
  },
  {
   "cell_type": "code",
   "execution_count": 13,
   "metadata": {},
   "outputs": [],
   "source": [
    "#Training parameters\n",
    "niter = 3000 # niter = epochs * (m - 1) / minibatch_size\n",
    "net_lr, theta_lr = 0.01, 0.01 #ELBO learning rate\n",
    "batch_size = 20 #3 - number needed to fit UCI HPC3 RAM requirements with 16 GB RAM at t = 5000.\n",
    "seed = 1"
   ]
  },
  {
   "cell_type": "code",
   "execution_count": 14,
   "metadata": {},
   "outputs": [
    {
     "name": "stdout",
     "output_type": "stream",
     "text": [
      "seed 1\n"
     ]
    },
    {
     "data": {
      "application/vnd.jupyter.widget-view+json": {
       "model_id": "e65f2b62f65f423f9d741984fea2b05e",
       "version_major": 2,
       "version_minor": 0
      },
      "text/plain": [
       "HBox(children=(HTML(value='Learning SDE and hidden parameters.'), FloatProgress(value=0.0, max=3000.0), HTML(v…"
      ]
     },
     "metadata": {},
     "output_type": "display_data"
    },
    {
     "name": "stdout",
     "output_type": "stream",
     "text": [
      "Iteration 0 full unibatch loss: 43292.8203125\n",
      "Iteration 300 full unibatch loss: 286.4199523925781\n",
      "Iteration 600 full unibatch loss: 204.71083068847656\n",
      "Iteration 900 full unibatch loss: 175.93063354492188\n",
      "Iteration 1200 full unibatch loss: 161.4708251953125\n",
      "Iteration 1500 full unibatch loss: 151.9969024658203\n",
      "Iteration 1800 full unibatch loss: 150.230224609375\n",
      "Iteration 2100 full unibatch loss: 140.91445922851562\n",
      "Iteration 2400 full unibatch loss: 130.7108917236328\n",
      "Iteration 2700 full unibatch loss: 130.16543579101562\n",
      "Iteration 3000 full unibatch loss: 131.18844604492188\n",
      "\n",
      "\n",
      "All finished! Now, we need to check outputs to see if things worked...\n"
     ]
    }
   ],
   "source": [
    "net_rev, q_theta_raw_rev, p_theta_rev, obs_model_rev, losses_rev, means_rev, sds_rev = train(\n",
    "    active_device, net_lr, theta_lr, niter, batch_size,\n",
    "    y_dict, T, dt_flow, M, p_x0, theta_hyperparams,\n",
    "    THETA_DIST = theta_dist, THETA_POST_DIST = theta_post_dist,\n",
    "    ELBO_LR_DECAY = 1.0, PRINT_EVERY = max(1, niter // 10), \n",
    "    FIX_THETA_DICT = fix_theta_dict, REVERSE=True)"
   ]
  },
  {
   "cell_type": "code",
   "execution_count": null,
   "metadata": {},
   "outputs": [],
   "source": [
    "net_high, q_theta_raw_high, p_theta_high, obs_model_high, losses_high, means_high, sds_high = train(\n",
    "    active_device, 0.01, 0.01, niter, batch_size,\n",
    "    y_dict, T, dt_flow, M, p_x0, theta_hyperparams,\n",
    "    THETA_DIST = theta_dist, THETA_POST_DIST = theta_post_dist,\n",
    "    ELBO_LR_DECAY = 1.0, PRINT_EVERY = max(1, niter // 10), \n",
    "    FIX_THETA_DICT = fix_theta_dict)"
   ]
  },
  {
   "cell_type": "code",
   "execution_count": null,
   "metadata": {},
   "outputs": [],
   "source": [
    "net, q_theta_raw, p_theta, obs_model, losses = train(\n",
    "    active_device, net_lr, theta_lr, niter, batch_size,\n",
    "    y_dict, T, dt_flow, M, p_x0, theta_hyperparams,\n",
    "    THETA_DIST = theta_dist, THETA_POST_DIST = theta_post_dist,\n",
    "    ELBO_LR_DECAY = 1.0, PRINT_EVERY = max(1, niter // 10), \n",
    "    FIX_THETA_DICT = fix_theta_dict)"
   ]
  },
  {
   "cell_type": "code",
   "execution_count": null,
   "metadata": {},
   "outputs": [],
   "source": [
    "net_high, q_theta_raw_high, p_theta_high, obs_model_high, losses_high = \\\n",
    "    net1, q_theta_raw1, p_theta1, obs_model1, losses1"
   ]
  },
  {
   "cell_type": "code",
   "execution_count": null,
   "metadata": {},
   "outputs": [],
   "source": [
    "net_high_decay, q_theta_raw_high_decay, p_theta_high_decay, obs_model_high_decay, losses_high_decay = train(\n",
    "    active_device, 0.01, 0.01, 3000, batch_size,\n",
    "    y_dict, T, dt_flow, M, p_x0, theta_hyperparams,\n",
    "    THETA_DIST = theta_dist, THETA_POST_DIST = theta_post_dist,\n",
    "    ELBO_LR_DECAY = 0.1, ELBO_DECAY_STEP_SIZE = 1000, PRINT_EVERY = max(1, niter // 10), \n",
    "    FIX_THETA_DICT = fix_theta_dict)"
   ]
  },
  {
   "cell_type": "code",
   "execution_count": null,
   "metadata": {},
   "outputs": [],
   "source": [
    "net2, q_theta_raw2, p_theta2, obs_model2, losses2 = train(\n",
    "    active_device, 0.01, 0.1, niter, batch_size,\n",
    "    y_dict, T, dt_flow, M, p_x0, theta_hyperparams,\n",
    "    THETA_DIST = theta_dist, THETA_POST_DIST = theta_post_dist,\n",
    "    ELBO_LR_DECAY = 1.0, PRINT_EVERY = max(1, niter // 10), \n",
    "    FIX_THETA_DICT = fix_theta_dict)"
   ]
  },
  {
   "cell_type": "code",
   "execution_count": null,
   "metadata": {},
   "outputs": [],
   "source": [
    "net3, q_theta_raw3, p_theta3, obs_model3, losses3 = train(\n",
    "    active_device, 0.1, 0.1, niter, batch_size,\n",
    "    y_dict, T, dt_flow, M, p_x0, theta_hyperparams,\n",
    "    THETA_DIST = theta_dist, THETA_POST_DIST = theta_post_dist,\n",
    "    ELBO_LR_DECAY = 1.0, PRINT_EVERY = max(1, niter // 10), \n",
    "    FIX_THETA_DICT = fix_theta_dict)"
   ]
  },
  {
   "cell_type": "code",
   "execution_count": null,
   "metadata": {},
   "outputs": [],
   "source": [
    "net_lo_la, q_theta_raw_lo_la, p_theta_lo_la, obs_model_lo_la, losses_lo_la = train(\n",
    "    active_device, 0.001, 0.01, niter, 30,\n",
    "    y_dict, T, dt_flow, M, p_x0, theta_hyperparams,\n",
    "    THETA_DIST = theta_dist, THETA_POST_DIST = theta_post_dist, \n",
    "    ELBO_LR_DECAY = 1.0, PRINT_EVERY = max(1, niter // 10), \n",
    "    FIX_THETA_DICT = fix_theta_dict)"
   ]
  },
  {
   "cell_type": "code",
   "execution_count": null,
   "metadata": {},
   "outputs": [],
   "source": [
    "# Lower lr, smaller sample size, longer iterations\n",
    "niter = 2000\n",
    "net_lo_long, q_theta_raw_lo_long, p_theta_lo_long, obs_model_lo_long, losses_lo_long = train(\n",
    "    active_device, 0.001, 0.01, niter, 20,\n",
    "    y_dict, T, dt_flow, M, p_x0, theta_hyperparams,\n",
    "    THETA_DIST = theta_dist, THETA_POST_DIST = theta_post_dist, \n",
    "    ELBO_LR_DECAY = 1.0, PRINT_EVERY = max(1, niter // 10), \n",
    "    FIX_THETA_DICT = fix_theta_dict)"
   ]
  },
  {
   "cell_type": "code",
   "execution_count": null,
   "metadata": {},
   "outputs": [],
   "source": [
    "net_low, q_theta_raw_low, p_theta_low, obs_model_low, losses_low = \\\n",
    "    net_lo_long, q_theta_raw_lo_long, p_theta_lo_long, obs_model_lo_long, losses_lo_long"
   ]
  },
  {
   "cell_type": "markdown",
   "metadata": {},
   "source": [
    "## Plot loss"
   ]
  },
  {
   "cell_type": "code",
   "execution_count": 18,
   "metadata": {},
   "outputs": [],
   "source": [
    "def plot_loss(loss_hist_list, labels, time_hist_list=None, xscale='linear', ymin=None, ymax=None):\n",
    "    plt.rcParams.update({'font.size': 12, 'lines.linewidth': 2, 'figure.figsize': (8, 6)})\n",
    "    \n",
    "    colors = [cm.tab10(i+1) for i in range(len(labels))]\n",
    "    for loss_hist, label, color in zip(loss_hist_list, labels, colors):\n",
    "        plt.plot(loss_hist, label=label, color=color)\n",
    "    \n",
    "    #plt.title('Loss v epoch')\n",
    "    plt.xlabel('epoch')\n",
    "    plt.ylabel('loss')\n",
    "    plt.legend()\n",
    "    plt.xscale(xscale)\n",
    "    plt.ylim((ymin, ymax))"
   ]
  },
  {
   "cell_type": "code",
   "execution_count": 20,
   "metadata": {},
   "outputs": [
    {
     "data": {
      "image/png": "[encoded data removed]",
      "text/plain": [
       "<Figure size 576x432 with 1 Axes>"
      ]
     },
     "metadata": {
      "needs_background": "light"
     },
     "output_type": "display_data"
    }
   ],
   "source": [
    "labels = ['old', 'rev'] # , 'mean-field'\n",
    "plot_loss([losses_old[:3000], losses_rev], labels, ymax=700, ymin=100) # , losses_mf"
   ]
  },
  {
   "cell_type": "code",
   "execution_count": null,
   "metadata": {},
   "outputs": [],
   "source": [
    "labels = ['lr=(0.001, 0.01), S=20', 'lr=(0.01, 0.01), S=20', 'lr=(0.01, 0.1), S=20', 'lr=(0.1, 0.1), S=20'] # , 'mean-field'\n",
    "plot_loss([losses, losses1, losses2, losses3], labels, ymax=700, ymin=100) # , losses_mf"
   ]
  },
  {
   "cell_type": "code",
   "execution_count": null,
   "metadata": {},
   "outputs": [],
   "source": [
    "labels = ['lr=(0.01, 0.01), S=20', 'lr=(0.001, 0.01), S=20', 'lr=(0.01, 0.01), S=30', 'lr=(0.001, 0.01), S=30'] # , 'mean-field'\n",
    "plot_loss([losses, losses_lo, losses_la, losses_lo_la], labels, ymax=700, ymin=575) # , losses_mf"
   ]
  },
  {
   "cell_type": "code",
   "execution_count": null,
   "metadata": {},
   "outputs": [],
   "source": [
    "# Extracts the distribution from a MeanField object\n",
    "def extract_dist(q):\n",
    "    a, b = q.lowers, q.uppers\n",
    "    loc = q.means\n",
    "    if not q.learn_cov:\n",
    "        scale = torch.max(q.sds, torch.ones([]) * 1e-8)\n",
    "        #scale = D.transform_to(q.dist.arg_constraints['scale'])(q.sds)\n",
    "        return q.dist(loc, scale=scale, a=a, b=b)\n",
    "    else:\n",
    "        scale = D.transform_to(q.dist.arg_constraints['scale_tril'])(q.sds)\n",
    "        return q.dist(loc, scale_tril=scale, a=a, b=b)"
   ]
  },
  {
   "cell_type": "code",
   "execution_count": null,
   "metadata": {},
   "outputs": [],
   "source": [
    "#q_theta = extract_dist(q_theta_raw)\n",
    "q_theta_high = extract_dist(q_theta_raw_high)"
   ]
  },
  {
   "cell_type": "code",
   "execution_count": null,
   "metadata": {},
   "outputs": [],
   "source": [
    "def extract_dist_hist(q, mean_list, sd_list):\n",
    "    a, b = q.lowers, q.uppers\n",
    "    loc = torch.stack(mean_list)\n",
    "    if not q.learn_cov:\n",
    "        scale =  torch.max(torch.stack(sd_list), torch.ones([]) * 1e-8)\n",
    "        return q.dist(loc, scale=scale, a=a, b=b)\n",
    "    else:\n",
    "        scale = D.transform_to(q.dist.arg_constraints['scale_tril'])(torch.stack(sd_list))\n",
    "        return q.dist(loc, scale_tril=scale, a=a, b=b)"
   ]
  },
  {
   "cell_type": "code",
   "execution_count": null,
   "metadata": {},
   "outputs": [],
   "source": [
    "q_hist_high = extract_dist_hist(q_theta_raw_high, means_high, sds_high)"
   ]
  },
  {
   "cell_type": "code",
   "execution_count": null,
   "metadata": {},
   "outputs": [],
   "source": [
    "def plot_theta_post_hist(p_theta, q_theta_list, theta_samples, labels, num_pts=1000, eps=1e-6, summarize=True):\n",
    "    fig, axes = plt.subplots(1, 3, figsize=(4*3, 4))\n",
    "    \n",
    "    a, b = p_theta.a, p_theta.b\n",
    "    theta_range = torch.from_numpy(np.linspace(a + eps, b - eps, num_pts)).float() # (num_pts, 2)\n",
    "    \n",
    "    pdf_prior = torch.exp(p_theta.log_prob(theta_range)).detach()\n",
    "    approx_int_prior = pdf_prior.sum(0) * (b - a) / num_pts\n",
    "    assert torch.allclose(approx_int_prior, torch.tensor(1.0), rtol=1e-3)\n",
    "    \n",
    "    # Load marginal posteriors\n",
    "    pdf_post_list = []\n",
    "    for q_theta in q_theta_list:\n",
    "        if isinstance(q_theta, MultivariateLogitNormal):\n",
    "            scale_post = torch.diagonal(q_theta.covariance_matrix, dim1=-2, dim2=-1).sqrt() \n",
    "            q_marginal = RescaledLogitNormal(q_theta.loc, scale_post, a=a, b=b)\n",
    "        else:\n",
    "            q_marginal = q_theta # parameters must have shape (num_samples, 2)\n",
    "        pdf_post = torch.exp(q_marginal.log_prob(theta_range.unsqueeze(1))).detach() # (num_points, num_samples, 2)\n",
    "        pdf_post_list.append(pdf_post)\n",
    "        \n",
    "    # Plot\n",
    "    param_names = ['$\\\\theta_0$', '$\\\\theta_1$']\n",
    "    colors = [cm.tab10(i+1) for i in range(len(q_theta_list))]\n",
    "    for i, ax in enumerate(axes):\n",
    "        if i < len(param_names):\n",
    "            # Prior\n",
    "            ax.plot(theta_range[:, i], pdf_prior[:, i], linewidth=2, label='prior')\n",
    "            \n",
    "            # True theta\n",
    "            ax.axvline(theta[i], color='gray', label='true $\\\\theta$')\n",
    "            \n",
    "            # Posterior for each method\n",
    "            for pdf_post, post_dist, c in zip(pdf_post_list, labels, colors):\n",
    "                label = 'posterior {}'.format(post_dist)\n",
    "                if summarize:\n",
    "                    ax.plot(theta_range[:, i], pdf_post[:, :, i].mean(-1), label=label, color=c)\n",
    "                else:\n",
    "                    for j in range(pdf_post.shape[1]):\n",
    "                        label = label if j == 0 else None\n",
    "                        ax.plot(theta_range[:, i], pdf_post[:, j, i], label=label, color=c)\n",
    "                    \n",
    "            ax.set_xlabel(param_names[i])\n",
    "            if i == 0: ax.set_ylabel('density')\n",
    "        else:\n",
    "            # Last cell is for legend\n",
    "            handles, labels = axes[0].get_legend_handles_labels()\n",
    "            ax.legend(handles, labels, loc='center left')\n",
    "            ax.axis('off')\n",
    "    plt.tight_layout()"
   ]
  },
  {
   "cell_type": "code",
   "execution_count": null,
   "metadata": {},
   "outputs": [],
   "source": [
    "plot_theta_post_hist(p_theta_high, [q_hist_high], theta, ['full-rank logit normal'], summarize=True)"
   ]
  },
  {
   "cell_type": "code",
   "execution_count": null,
   "metadata": {},
   "outputs": [],
   "source": [
    "plot_theta_post_hist(p_theta_high, [q_hist_high], theta, ['full-rank logit normal'], summarize=False)"
   ]
  },
  {
   "cell_type": "code",
   "execution_count": null,
   "metadata": {},
   "outputs": [],
   "source": [
    "def plot_theta_post(p_theta, q_theta_list, theta_samples, labels, num_pts=1000, eps=1e-6):\n",
    "    fig, axes = plt.subplots(1, 3, figsize=(4*3, 4))\n",
    "    \n",
    "    a, b = p_theta.a, p_theta.b\n",
    "    theta_range = torch.from_numpy(np.linspace(a + eps, b - eps, num_pts)).float()\n",
    "    \n",
    "    pdf_prior = torch.exp(p_theta.log_prob(theta_range)).detach()\n",
    "    approx_int_prior = pdf_prior.sum(0) * (b - a) / num_pts\n",
    "    assert torch.allclose(approx_int_prior, torch.tensor(1.0), rtol=1e-3)\n",
    "    \n",
    "    # Load marginal posteriors\n",
    "    pdf_post_list = []\n",
    "    for q_theta in q_theta_list:\n",
    "        if isinstance(q_theta, MultivariateLogitNormal):\n",
    "            scale_post = torch.diag(q_theta.covariance_matrix).sqrt()\n",
    "            q_marginal = RescaledLogitNormal(q_theta.loc, scale_post, a=a, b=b)\n",
    "        else:\n",
    "            q_marginal = q_theta\n",
    "        pdf_post = torch.exp(q_marginal.log_prob(theta_range)).detach()\n",
    "        print(theta_range.shape, pdf_post.shape)\n",
    "        pdf_post_list.append(pdf_post)\n",
    "    \n",
    "    # Plot\n",
    "    param_names = ['$\\\\theta_0$', '$\\\\theta_1$']\n",
    "    colors = [cm.tab10(i+1) for i in range(len(q_theta_list))]\n",
    "    for i, ax in enumerate(axes):\n",
    "        if i < 2:\n",
    "            # Prior\n",
    "            ax.plot(theta_range[:, i], pdf_prior[:, i], linewidth=2, label='prior')\n",
    "            \n",
    "            # True theta\n",
    "            ax.axvline(theta[i], color='gray', label='true $\\\\theta$')\n",
    "            \n",
    "            # Posterior for each method\n",
    "            for pdf_post, post_dist, c in zip(pdf_post_list, labels, colors):\n",
    "                label = 'posterior {}'.format(post_dist)\n",
    "                ax.plot(theta_range[:, i], pdf_post[:, i], label=label, color=c)\n",
    "                    \n",
    "            ax.set_xlabel(param_names[i])\n",
    "            if i == 0: ax.set_ylabel('density')\n",
    "        else:\n",
    "            # Last cell is for legend\n",
    "            handles, labels = axes[0].get_legend_handles_labels()\n",
    "            ax.legend(handles, labels, loc='center left')\n",
    "            ax.axis('off')\n",
    "    plt.tight_layout()"
   ]
  },
  {
   "cell_type": "code",
   "execution_count": null,
   "metadata": {},
   "outputs": [],
   "source": [
    "plot_theta_post(p_theta_high, [q_theta_high], theta, ['full-rank logit normal'])"
   ]
  },
  {
   "cell_type": "code",
   "execution_count": null,
   "metadata": {},
   "outputs": [],
   "source": [
    "def plot_path_post(net_list, T, dt, y, t_y, theta=None, q_theta_raw_list=None, labels=None,\n",
    "                   title=None, state_dim=1, batch_size=30, summarize=False, alg_list=None, colors=None):\n",
    "    # algs: 0 - old net, 1 - new net, 2 - kf\n",
    "    if alg_list is None:\n",
    "        alg_list = [1] * len(net_list)\n",
    "    if colors is None:\n",
    "        colors = [cm.tab10(i+1) for i in range(len(labels))]\n",
    "    \n",
    "    #N, time_steps = x.shape\n",
    "    times = torch.tensor(np.arange(0, T + dt, dt))\n",
    "    fig, axes = plt.subplots(state_dim, figsize=(15, 4*state_dim), sharex=True)\n",
    "    axes = np.atleast_1d(axes)\n",
    "    \n",
    "    # Draw theta\n",
    "    if theta is None:\n",
    "        assert q_theta_raw_list is not None\n",
    "        theta_list = []\n",
    "        for i, q_theta_raw in enumerate(q_theta_raw_list):\n",
    "            if q_theta_raw is not None:\n",
    "                _, theta, _, _ = q_theta_raw(batch_size)\n",
    "            else:\n",
    "                assert alg_list[i] != 1 or net_list[i].theta_cond is False\n",
    "                theta = None\n",
    "            theta_list.append(theta)\n",
    "    else:\n",
    "        if q_theta_raw_list is not None:\n",
    "            print('Using provided theta, ignoring q_theta')\n",
    "    \n",
    "    \n",
    "    M = int(T / dt) + 1\n",
    "    x_list = []\n",
    "    for net, theta, alg in zip(net_list, theta_list, alg_list):\n",
    "        if alg == 1 and net.theta_cond is False:\n",
    "            assert theta is None\n",
    "        if alg == 0:\n",
    "            net.eval()\n",
    "            x = net(batch_size)[0].detach()\n",
    "        elif alg == 1:\n",
    "            net.eval()\n",
    "            x = net(batch_size, 0, M, theta=theta)[0].detach()\n",
    "        else:\n",
    "            x = net\n",
    "        x_list.append(x)\n",
    "    \n",
    "    for i, ax in enumerate(axes):            \n",
    "        #ax.plot(t_x, x[i, :], label='latent state')\n",
    "        for x, label, color, alg in zip(x_list, labels, colors, alg_list):\n",
    "            if summarize:\n",
    "                if alg < 2:\n",
    "                    net_left, net_center, net_right = torch.quantile(x[:, :, i], torch.tensor([0.025, 0.5, 0.975]), dim=0)\n",
    "                else:\n",
    "                    net_center = x.mu_smooth[:, i]\n",
    "                    sd_smooth = x.sigma_smooth[:, i, i].sqrt()\n",
    "                    net_left, net_right = net_center - 2*sd_smooth, net_center + 2*sd_smooth\n",
    "                \n",
    "                #label_str = 'state {}'.format(label)\n",
    "                ax.plot(times, net_center, label = label, color=color)\n",
    "                ax.fill_between(times, net_left, net_right,\n",
    "                                alpha = 0.4, color=color) #, label = 'state 2.5-97.5%'\n",
    "            else:\n",
    "                for j in range(batch_size):\n",
    "                    label_str = 'state {}'.format(label) if j == 0 else None\n",
    "                    ax.plot(times, x[j, :, i], label=label_str, color=color)\n",
    "        ax.plot(t_y, y[i, :], label='observation', linestyle='', marker='o', color=cm.tab10(0))\n",
    "        ax.legend()\n",
    "        if i == 0 and title:\n",
    "            ax.set_title(title)\n",
    "    ax.set_xlabel('hour')\n",
    "    plt.tight_layout()"
   ]
  },
  {
   "cell_type": "code",
   "execution_count": null,
   "metadata": {},
   "outputs": [],
   "source": [
    "labels = ['low', 'high']\n",
    "plot_path_post([net, net1], T, dt_flow, y, t_y,\n",
    "               q_theta_raw_list=[None]*2, \n",
    "               batch_size=batch_size, labels=labels, summarize=True, alg_list=[0, 0])"
   ]
  },
  {
   "cell_type": "code",
   "execution_count": null,
   "metadata": {},
   "outputs": [],
   "source": [
    "plot_path_post(net, T, dt_flow, y, t_y, eval_batch_size=batch_size, summarize=False)"
   ]
  },
  {
   "cell_type": "code",
   "execution_count": null,
   "metadata": {},
   "outputs": [],
   "source": [
    "def plot_corr(q_theta_list, labels, param_names, num_samples=100000):\n",
    "    plt.rcParams.update({'font.size': 12})\n",
    "    \n",
    "    # Calculate empirical correlation\n",
    "    corr_list = []\n",
    "    for q_theta in q_theta_list:\n",
    "        assert isinstance(q_theta, MultivariateLogitNormal)\n",
    "        samples = q_theta.sample((num_samples, )) # (N, D)\n",
    "        corr_mc = np.corrcoef(samples.T)\n",
    "        corr_list.append(corr_mc)\n",
    "    \n",
    "    # Plot\n",
    "    num_cols = len(q_theta_list)\n",
    "    fig, axes = plt.subplots(1, num_cols, figsize=(8*num_cols, 8))\n",
    "    axes = np.atleast_1d(axes)\n",
    "    D = len(q_theta_list[0].loc)\n",
    "    \n",
    "    for i, ax in enumerate(axes):\n",
    "        plot = ax.imshow(corr_list[i], cmap='coolwarm', vmin=-1, vmax=1)\n",
    "        ax.set_xticks(range(D))\n",
    "        ax.set_xticklabels(param_names)\n",
    "        ax.set_yticks(range(D))\n",
    "        ax.set_yticklabels(param_names)\n",
    "        ax.set_title(labels[i])\n",
    "        \n",
    "    plt.tight_layout()\n",
    "    plt.colorbar(plot, ax=axes, shrink=0.8)\n",
    "    plt.suptitle('Correlation between parameters')\n",
    "    plt.show()"
   ]
  },
  {
   "cell_type": "code",
   "execution_count": null,
   "metadata": {},
   "outputs": [],
   "source": [
    "plot_corr([q_theta], [None], ['$\\\\theta_0$', '$\\\\theta_1$'])"
   ]
  },
  {
   "cell_type": "code",
   "execution_count": 16,
   "metadata": {},
   "outputs": [],
   "source": [
    "import os\n",
    "save_dir = 'data/toy_ssm1'\n",
    "if not os.path.exists(save_dir):\n",
    "    os.makedirs(save_dir)"
   ]
  },
  {
   "cell_type": "code",
   "execution_count": null,
   "metadata": {},
   "outputs": [],
   "source": [
    "loss_file = '{}/old_loss.pt'.format(save_dir)\n",
    "net_file = '{}/old_net.pt'.format(save_dir)\n",
    "q_raw_file = '{}/old_q_raw.pt'.format(save_dir)\n",
    "torch.save([losses, losses1, losses_high_decay], loss_file) # , losses_trunc_mf\n",
    "torch.save([net, net1, net_high_decay], net_file)\n",
    "torch.save([q_theta_raw, q_theta_raw1, q_theta_raw_high_decay], q_raw_file) # , q_theta_trunc_mf\n",
    "#torch.save([times, times_mf], time_file) # , times_trunc_mf"
   ]
  },
  {
   "cell_type": "code",
   "execution_count": 22,
   "metadata": {},
   "outputs": [],
   "source": [
    "loss_file = '{}/old_rev_loss.pt'.format(save_dir)\n",
    "net_file = '{}/old_rev_net.pt'.format(save_dir)\n",
    "q_raw_file = '{}/old_rev_q_raw.pt'.format(save_dir)\n",
    "q_hist_file = '{}/old_rev_q_hist.pt'.format(save_dir)\n",
    "torch.save(losses_rev, loss_file) # , losses_trunc_mf\n",
    "torch.save(net_rev, net_file)\n",
    "torch.save(q_theta_raw_rev, q_raw_file) # , q_theta_trunc_mf\n",
    "torch.save([means_rev, sds_rev], q_hist_file) # , times_trunc_mf"
   ]
  },
  {
   "cell_type": "code",
   "execution_count": null,
   "metadata": {},
   "outputs": [],
   "source": [
    "q_hist_file = '{}/old_q_hist.pt'.format(save_dir)\n",
    "torch.save([means_high, sds_high], q_hist_file)"
   ]
  },
  {
   "cell_type": "code",
   "execution_count": 17,
   "metadata": {},
   "outputs": [],
   "source": [
    "loss_file = '{}/old_loss.pt'.format(save_dir)\n",
    "net_file = '{}/old_net.pt'.format(save_dir)\n",
    "q_raw_file = '{}/old_q_raw.pt'.format(save_dir)\n",
    "q_hist_file = '{}/old_q_hist.pt'.format(save_dir)\n",
    "_, losses_old, _ = torch.load(loss_file)\n",
    "_, net_old, _ = torch.load(net_file)\n",
    "_, q_theta_raw_old, _ = torch.load(q_raw_file)\n",
    "means_old, sds_old = torch.load(q_hist_file)"
   ]
  },
  {
   "cell_type": "markdown",
   "metadata": {},
   "source": [
    "## Archive\n",
    "Consider a simplified transition distribution given by:\n",
    "$$ \\mathbf{x}_t = \\mathbf{A}_t \\mathbf{x}_{t-1} + \\boldsymbol{\\epsilon}_t$$\n",
    "\n",
    "where $\\boldsymbol{\\epsilon}_t \\sim N(\\mathbf{0}, \\mathbf{Q}_t)$ is a Gaussian system noise."
   ]
  },
  {
   "cell_type": "markdown",
   "metadata": {},
   "source": [
    "$x_t \\sim \\text{MultivariateNormal}(A_tx_{t-1}, Q_t)$"
   ]
  },
  {
   "cell_type": "markdown",
   "metadata": {},
   "source": [
    "For simplicity, let A = diag(\\theta), Q is known. Should we do 1 state dim?"
   ]
  },
  {
   "cell_type": "code",
   "execution_count": null,
   "metadata": {},
   "outputs": [],
   "source": [
    "a = torch.empty(2, 3, 1)\n",
    "a[:, :-1, :]"
   ]
  },
  {
   "cell_type": "code",
   "execution_count": null,
   "metadata": {},
   "outputs": [],
   "source": [
    "a.shape"
   ]
  },
  {
   "cell_type": "code",
   "execution_count": null,
   "metadata": {},
   "outputs": [],
   "source": [
    "scalar = torch.tensor(3)\n",
    "scalar.shape == ()"
   ]
  },
  {
   "cell_type": "code",
   "execution_count": null,
   "metadata": {},
   "outputs": [],
   "source": []
  }
 ],
 "metadata": {
  "kernelspec": {
   "display_name": "Python 3",
   "language": "python",
   "name": "python3"
  },
  "language_info": {
   "codemirror_mode": {
    "name": "ipython",
    "version": 3
   },
   "file_extension": ".py",
   "mimetype": "text/x-python",
   "name": "python",
   "nbconvert_exporter": "python",
   "pygments_lexer": "ipython3",
   "version": "3.8.5"
  }
 },
 "nbformat": 4,
 "nbformat_minor": 4
}
