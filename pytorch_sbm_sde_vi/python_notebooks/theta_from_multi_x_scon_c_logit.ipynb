{
 "cells": [
  {
   "cell_type": "code",
   "execution_count": 1,
   "metadata": {},
   "outputs": [],
   "source": [
    "# Hack to import from a parent directory\n",
    "import sys\n",
    "path = '..'\n",
    "if path not in sys.path:\n",
    "    sys.path.append(path)"
   ]
  },
  {
   "cell_type": "code",
   "execution_count": 2,
   "metadata": {},
   "outputs": [],
   "source": [
    "#Python-related imports\n",
    "import math, sys\n",
    "from typing import Dict, Tuple, Union\n",
    "from datetime import datetime\n",
    "import os.path\n",
    "\n",
    "#Torch-related imports\n",
    "import torch\n",
    "from torch.autograd import Function\n",
    "from torch import nn\n",
    "import torch.distributions as D\n",
    "import torch.nn.functional as F\n",
    "import torch.optim as optim\n",
    "\n",
    "#Module imports\n",
    "from SBM_SDE_classes_multi_x_optim import *\n",
    "from obs_and_flow import *\n",
    "from training import *\n",
    "from plotting import *\n",
    "from mean_field import *\n",
    "from TruncatedNormal import *\n",
    "from LogitNormal import *"
   ]
  },
  {
   "cell_type": "code",
   "execution_count": 3,
   "metadata": {},
   "outputs": [],
   "source": [
    "from tqdm.notebook import tqdm\n",
    "import numpy as np\n",
    "import pandas as pd\n",
    "import matplotlib\n",
    "import matplotlib.pyplot as plt\n",
    "from matplotlib import cm\n",
    "import time\n",
    "from scipy.optimize import bisect"
   ]
  },
  {
   "cell_type": "markdown",
   "metadata": {},
   "source": [
    "## Generate data\n",
    "\n",
    "### Draw $\\theta \\sim p(\\theta)$"
   ]
  },
  {
   "cell_type": "code",
   "execution_count": 4,
   "metadata": {},
   "outputs": [],
   "source": [
    "seed = 0\n",
    "temp_ref = 283\n",
    "temp_rise = 5 #High estimate of 5 celsius temperature rise by 2100.\n",
    "\n",
    "prior_scale_factor = 0.333\n",
    "\n",
    "#Parameter prior means\n",
    "u_M_mean = 0.0016\n",
    "a_SD_mean = 0.5\n",
    "a_DS_mean = 0.5\n",
    "a_M_mean = 0.5\n",
    "a_MSC_mean = 0.5\n",
    "k_S_ref_mean = 0.0005\n",
    "k_D_ref_mean = 0.0008\n",
    "k_M_ref_mean = 0.0007\n",
    "Ea_S_mean = 55\n",
    "Ea_D_mean = 48\n",
    "Ea_M_mean = 48\n",
    "c_SOC_mean = 0.5\n",
    "c_DOC_mean = 0.01\n",
    "c_MBC_mean = 0.01\n",
    "\n",
    "#SCON theta logit-normal distribution parameter details in order of mean, sdev, lower, and upper.\n",
    "u_M_details = torch.Tensor([u_M_mean, u_M_mean * prior_scale_factor, 0, 1])\n",
    "a_SD_details = torch.Tensor([a_SD_mean, a_SD_mean * prior_scale_factor, 0, 1])\n",
    "a_DS_details = torch.Tensor([a_DS_mean, a_DS_mean * prior_scale_factor, 0, 1])\n",
    "a_M_details = torch.Tensor([a_M_mean, a_M_mean * prior_scale_factor, 0, 1])\n",
    "a_MSC_details = torch.Tensor([a_MSC_mean, a_MSC_mean * prior_scale_factor, 0, 1])\n",
    "k_S_ref_details = torch.Tensor([k_S_ref_mean, k_S_ref_mean * prior_scale_factor, 0, 1])\n",
    "k_D_ref_details = torch.Tensor([k_D_ref_mean, k_D_ref_mean * prior_scale_factor, 0, 1])\n",
    "k_M_ref_details = torch.Tensor([k_M_ref_mean, k_M_ref_mean * prior_scale_factor, 0, 1])\n",
    "Ea_S_details = torch.Tensor([Ea_S_mean, Ea_S_mean * prior_scale_factor, 10, 100])\n",
    "Ea_D_details = torch.Tensor([Ea_D_mean, Ea_D_mean * prior_scale_factor, 10, 100])\n",
    "Ea_M_details = torch.Tensor([Ea_M_mean, Ea_M_mean * prior_scale_factor, 10, 100])\n",
    "\n",
    "#SCON-C diffusion matrix parameter distribution details\n",
    "c_SOC_details = torch.Tensor([c_SOC_mean, c_SOC_mean * prior_scale_factor, 0, 1])\n",
    "c_DOC_details = torch.Tensor([c_DOC_mean, c_DOC_mean * prior_scale_factor, 0, 1])\n",
    "c_MBC_details = torch.Tensor([c_MBC_mean, c_MBC_mean * prior_scale_factor, 0, 1])\n",
    "\n",
    "priors = {'u_M': u_M_details, 'a_SD': a_SD_details, 'a_DS': a_DS_details, 'a_M': a_M_details, 'a_MSC': a_MSC_details, 'k_S_ref': k_S_ref_details, 'k_D_ref': k_D_ref_details, 'k_M_ref': k_M_ref_details, 'Ea_S': Ea_S_details, 'Ea_D': Ea_D_details, 'Ea_M': Ea_M_details, 'c_SOC': c_SOC_details, 'c_DOC': c_DOC_details, 'c_MBC': c_MBC_details}"
   ]
  },
  {
   "cell_type": "code",
   "execution_count": null,
   "metadata": {},
   "outputs": [],
   "source": [
    "def find_scale(scale, loc, a, b, target_sd):\n",
    "    x = RescaledLogitNormal(loc, scale, a, b)\n",
    "    #print(scale, x.mean, x.stddev)\n",
    "    return x.stddev - target_sd"
   ]
  },
  {
   "cell_type": "code",
   "execution_count": null,
   "metadata": {},
   "outputs": [],
   "source": [
    "def sample_theta(priors):\n",
    "    torch.manual_seed(seed)\n",
    "    scale_lower = 1e-8 #Lower bound for scale search by bisect function.\n",
    "    scale_upper = 100 #Upper bound for scale search by bisect function. \n",
    "    \n",
    "    theta_hyperparams = {} # hyperparams\n",
    "    theta_samples = {} # theta samples\n",
    "    for k, v in priors.items():\n",
    "        sigmoid_loc, target_sd, a, b = v\n",
    "        loc = logit(sigmoid_loc, a, b)\n",
    "        scale = bisect(find_scale, scale_lower, scale_upper, (loc, a, b, target_sd))\n",
    "        dist = RescaledLogitNormal(loc, scale, a, b)\n",
    "        assert torch.abs(dist.stddev - target_sd) < 1e-6\n",
    "        \n",
    "        theta_hyperparams[k] = torch.tensor((loc, scale, a, b))\n",
    "        theta_samples[k] = dist.sample()\n",
    "        \n",
    "    return theta_hyperparams, theta_samples"
   ]
  },
  {
   "cell_type": "code",
   "execution_count": null,
   "metadata": {},
   "outputs": [],
   "source": [
    "theta_hyperparams, theta_samples = sample_theta(priors)"
   ]
  },
  {
   "cell_type": "markdown",
   "metadata": {},
   "source": [
    "### Draw $x \\sim p(x|\\theta)$"
   ]
  },
  {
   "cell_type": "code",
   "execution_count": 5,
   "metadata": {},
   "outputs": [],
   "source": [
    "num_sequences = 10\n",
    "dt = 0.5\n",
    "t = 100000\n",
    "x0_SCON = torch.tensor([65, 0.4, 2.5])\n",
    "obs_every = 5\n",
    "obs_error_scale = 0.1\n",
    "x0_scale = 0.25"
   ]
  },
  {
   "cell_type": "code",
   "execution_count": null,
   "metadata": {},
   "outputs": [],
   "source": [
    "#Generate data from SBM SDEs\n",
    "#x in order of SOC, DOC, MBC (and EEC for AWB family models)\n",
    "\n",
    "def alpha_SCON_multi(x, SCON_params_dict, I_S, I_D, current_temp, temp_ref, arrhenius_temp, linear_temp):\n",
    "    #Partition SOC, DOC, and MBC values.\n",
    "    state_dim = 3\n",
    "    SOC, DOC, MBC = torch.chunk(x, state_dim, 1)\n",
    "    \n",
    "    #Force temperature-dependent parameters.\n",
    "    k_S = arrhenius_temp(SCON_params_dict['k_S_ref'], current_temp, SCON_params_dict['Ea_S'], temp_ref)\n",
    "    k_D = arrhenius_temp(SCON_params_dict['k_D_ref'], current_temp, SCON_params_dict['Ea_D'], temp_ref)\n",
    "    k_M = arrhenius_temp(SCON_params_dict['k_M_ref'], current_temp, SCON_params_dict['Ea_M'], temp_ref)\n",
    "    \n",
    "    #Evolve drift.\n",
    "    drift_SOC = I_S + SCON_params_dict['a_DS'] * k_D * DOC + SCON_params_dict['a_M'] * SCON_params_dict['a_MSC'] * k_M * MBC - k_S * SOC\n",
    "    drift_DOC = I_D + SCON_params_dict['a_SD'] * k_S * SOC + SCON_params_dict['a_M'] * (1 - SCON_params_dict['a_MSC']) * k_M * MBC - (SCON_params_dict['u_M'] + k_D) * DOC\n",
    "    drift_MBC = SCON_params_dict['u_M'] * DOC - k_M * MBC\n",
    "    \n",
    "    return torch.cat([drift_SOC, drift_DOC, drift_MBC], 1)\n",
    "\n",
    "def beta_SCON_C_multi(x, SCON_C_params_dict):\n",
    "    b11 = SCON_C_params_dict['c_SOC']\n",
    "    b22 = SCON_C_params_dict['c_DOC']\n",
    "    b33 = SCON_C_params_dict['c_MBC']\n",
    "    b_matrix = torch.diag_embed(torch.stack([b11, b22, b33])) \n",
    "    return b_matrix"
   ]
  },
  {
   "cell_type": "code",
   "execution_count": null,
   "metadata": {},
   "outputs": [],
   "source": [
    "def generate_x(BATCH_SIZE, ALPHA, BETA, X0_LOC, X0_SCALE, T, DT, THETA_DICT, I_S_FUNC, I_D_FUNC, TEMP_FUNC, TEMP_REF, TEMP_RISE, OBS_EVERY, OBS_ERROR_SCALE, lower_bound = 1e-4):\n",
    "    torch.manual_seed(seed)\n",
    "    if ALPHA == alpha_SCON_multi:\n",
    "        state_dim = 3\n",
    "    elif ALPHA == alpha_SAWB_multi:\n",
    "        state_dim = 4\n",
    "    elif ALPHA == alpha_SAWB_ECA_multi:\n",
    "        state_dim = 4\n",
    "        \n",
    "    N = int(T / DT) + 1\n",
    "    M = int(T / OBS_EVERY) + 1\n",
    "    x = torch.zeros([BATCH_SIZE, N, state_dim])\n",
    "    \n",
    "    # Draw initial condition x0\n",
    "    X0_LOC = torch.as_tensor(X0_LOC)\n",
    "    p_x0 = D.multivariate_normal.MultivariateNormal(loc = X0_LOC,\n",
    "                                                    scale_tril = torch.diag(X0_LOC * X0_SCALE))\n",
    "    x0_samples = p_x0.sample((BATCH_SIZE, )) # (batch_size, state_dim)\n",
    "    x0_samples[x0_samples < lower_bound] = lower_bound #Bound initial conditions above 0. \n",
    "    print('X0_samples = ', x0_samples)\n",
    "    x[:, 0, :] = x0_samples\n",
    "    \n",
    "    # Vectorize variable calculations where possible\n",
    "    hours = torch.tensor(np.linspace(0, T, N), dtype=torch.float) # 0\n",
    "    I_S_tensor = I_S_FUNC(hours)\n",
    "    I_D_tensor = I_D_FUNC(hours)\n",
    "    temps = TEMP_FUNC(hours, TEMP_REF, TEMP_RISE)\n",
    "    \n",
    "    #Take Euler-Maruyama step. \n",
    "    for i in range(1, N):\n",
    "        # Define x_i distribution\n",
    "        a = ALPHA(x[:, i - 1, :], THETA_DICT, I_S_tensor[i], I_D_tensor[i], temps[i], TEMP_REF, arrhenius_temp_dep, linear_temp_dep)\n",
    "        b = BETA(x[:, i - 1, :], THETA_DICT)\n",
    "        p_x_i = D.multivariate_normal.MultivariateNormal(loc = x[:, i - 1, :] + a * DT, covariance_matrix = b * DT)\n",
    "        \n",
    "        # Draw sample\n",
    "        x[:, i, :] = p_x_i.sample()        \n",
    "        x[:, i, :][x[:, i, :] < lower_bound] = lower_bound #Bound all x above 0.\n",
    "    \n",
    "    return x, p_x0"
   ]
  },
  {
   "cell_type": "code",
   "execution_count": null,
   "metadata": {},
   "outputs": [],
   "source": [
    "t0 = time.time()\n",
    "x, p_x0 = generate_x(num_sequences, alpha_SCON_multi, beta_SCON_C_multi, x0_SCON, x0_scale, t, dt, theta_samples, i_s, i_d, temp_gen, temp_ref, temp_rise, obs_every, obs_error_scale)\n",
    "print(x.shape, time.time() - t0)"
   ]
  },
  {
   "cell_type": "code",
   "execution_count": 6,
   "metadata": {},
   "outputs": [],
   "source": [
    "hyperparams_file = 'data/dt_1_t_100000_n_1_minibatch/theta_from_multi_x_hyperparams_scon_c_{}.pt'.format(0)\n",
    "theta_file = 'data/dt_1_t_100000_n_1_minibatch/theta_from_multi_x_theta_scon_c_{}.pt'.format(0)\n",
    "x_file = 'data/dt_1_t_100000_n_1_minibatch/theta_from_multi_x_x_scon_c_{}.pt'.format(0)\n",
    "theta_hyperparams = torch.load(hyperparams_file)\n",
    "theta_samples = torch.load(theta_file)\n",
    "x = torch.load(x_file)\n",
    "x0_loc = torch.as_tensor(x0_SCON)\n",
    "p_x0 = D.multivariate_normal.MultivariateNormal(loc = x0_loc,\n",
    "                                                scale_tril = torch.diag(x0_loc * x0_scale))"
   ]
  },
  {
   "cell_type": "code",
   "execution_count": 7,
   "metadata": {},
   "outputs": [
    {
     "data": {
      "text/plain": [
       "torch.Size([1, 100001, 3])"
      ]
     },
     "execution_count": 7,
     "metadata": {},
     "output_type": "execute_result"
    }
   ],
   "source": [
    "x.shape"
   ]
  },
  {
   "cell_type": "markdown",
   "metadata": {},
   "source": [
    "## Inference"
   ]
  },
  {
   "cell_type": "code",
   "execution_count": 9,
   "metadata": {},
   "outputs": [],
   "source": [
    "dt_flow = 1.0 # [1.0, 0.5]"
   ]
  },
  {
   "cell_type": "code",
   "execution_count": 10,
   "metadata": {},
   "outputs": [],
   "source": [
    "active_device = torch.device('cuda' if torch.cuda.is_available() else 'cpu')\n",
    "if torch.cuda.is_available():\n",
    "    torch.set_default_tensor_type('torch.cuda.FloatTensor')\n",
    "torch.set_printoptions(precision = 8)\n",
    "\n",
    "#Neural SDE parameters\n",
    "n = int(t / dt_flow) + 1\n",
    "t_span = np.linspace(0, t, n)\n",
    "t_span_tensor = torch.reshape(torch.Tensor(t_span), [1, n, 1]).to(active_device) #T_span needs to be converted to tensor object. Additionally, facilitates conversion of I_S and I_D to tensor objects.\n",
    "\n",
    "#Specify desired SBM SDE model type and details.\n",
    "SBM_SDE_class = 'SCON'\n",
    "diffusion_type = 'C'\n",
    "theta_dist = 'RescaledLogitNormal' #String needs to be exact name of the distribution class. Other option is 'RescaledLogitNormal'.\n",
    "theta_post_dist = 'MultivariateLogitNormal'\n",
    "\n",
    "#Generate exogenous input vectors.\n",
    "#Obtain temperature forcing function.\n",
    "temp_tensor = temp_gen(t_span_tensor, temp_ref, temp_rise).to(active_device)\n",
    "\n",
    "#Obtain SOC and DOC pool litter input vectors for use in flow SDE functions.\n",
    "i_s_tensor = i_s(t_span_tensor).to(active_device) #Exogenous SOC input function\n",
    "i_d_tensor = i_d(t_span_tensor).to(active_device) #Exogenous DOC input function"
   ]
  },
  {
   "cell_type": "code",
   "execution_count": null,
   "metadata": {},
   "outputs": [],
   "source": [
    "##Load logit-normal priors\n",
    "#priors_file = '../generated_data/SCON-C_CO2_fix_x_logit_alt_sample_y_t_1000_dt_0-01_sd_scale_0-333_hyperparams.pt'\n",
    "#theta_hyperparams1 = {k: v.to(active_device) for k, v in torch.load(priors_file).items()}\n",
    "#\n",
    "##Generate observation model.\n",
    "#x_file = os.path.join('../generated_data/', 'SCON-C_CO2_fix_x_logit_alt_sample_y_t_1000_dt_0-01_sd_scale_0-333_x.pt')\n",
    "#x1 = torch.tensor(torch.load(x_file), dtype=torch.float)[:3].T.unsqueeze(0)\n",
    "#\n",
    "#p_x01 = D.multivariate_normal.MultivariateNormal(loc = x0_SCON,\n",
    "#                                                scale_tril = torch.diag(x0_SCON * x0_scale))"
   ]
  },
  {
   "cell_type": "code",
   "execution_count": 11,
   "metadata": {},
   "outputs": [],
   "source": [
    "def calc_log_lik(C_PATH, PARAMS_DICT, DT, SBM_SDE_CLASS, INIT_PRIOR):\n",
    "    # C_PATH.shape = (batch_size, num_sequences, n, state_dim)\n",
    "    \n",
    "    drift, diffusion_sqrt = SBM_SDE_CLASS.drift_diffusion(C_PATH, PARAMS_DICT)\n",
    "    # drift.shape = (batch_size, num_sequences, N-1, state_dim)\n",
    "    # diffusion.shape = (batch_size, num_sequences, N-1, state_dim, state_dim), or\n",
    "    #                   (batch_size, num_sequences, 1, state_dim, state_dim) if diffusion type is C\n",
    "    #print(drift.shape, diffusion_sqrt.shape)\n",
    "    \n",
    "    euler_maruyama_state_sample_object = D.multivariate_normal.MultivariateNormal(loc = C_PATH[:, :, :-1, :] + drift * DT, scale_tril = diffusion_sqrt * math.sqrt(DT)) \n",
    "\n",
    "    # Compute log p(x|theta) = log p(x|x0, theta) + log p(x0|theta)\n",
    "    ll = euler_maruyama_state_sample_object.log_prob(C_PATH[:, :, 1:, :]).sum(-1) # log p(x|x0, theta), (batch_size, num_sequences)\n",
    "    ll += INIT_PRIOR.log_prob(C_PATH[:, :, 0, :]) # log p(x0|theta)\n",
    "    #print(ll.shape)\n",
    "\n",
    "    return ll # (batch_size, num_sequences)\n",
    "\n",
    "def train(DEVICE, LR, NITER, BATCH_SIZE, X_ALL, T, DT, N,\n",
    "          T_SPAN_TENSOR, I_S_TENSOR, I_D_TENSOR, TEMP_TENSOR, TEMP_REF,\n",
    "          SBM_SDE_CLASS, DIFFUSION_TYPE, X0_PRIOR, PRIOR_DIST_DETAILS_DICT, \n",
    "          THETA_DIST = None, THETA_POST_DIST = None, THETA_POST_INIT = None,\n",
    "          LR_DECAY = 0.8, DECAY_STEP_SIZE = 50000, PRINT_EVERY = 100):\n",
    "    torch.manual_seed(seed)\n",
    "    \n",
    "    # Instantiate SBM_SDE object based on specified model and diffusion type.\n",
    "    SBM_SDE_class_dict = {\n",
    "            'SCON': SCON_multi,\n",
    "            'SAWB': SAWB_multi,\n",
    "            'SAWB-ECA': SAWB_ECA_multi\n",
    "            }\n",
    "    if SBM_SDE_CLASS not in SBM_SDE_class_dict:\n",
    "        raise NotImplementedError('Other SBM SDEs aside from SCON, SAWB, and SAWB-ECA have not been implemented yet.')\n",
    "    SBM_SDE_class = SBM_SDE_class_dict[SBM_SDE_CLASS]\n",
    "    SBM_SDE = SBM_SDE_class(T_SPAN_TENSOR, I_S_TENSOR, I_D_TENSOR, TEMP_TENSOR, TEMP_REF, DIFFUSION_TYPE)\n",
    "\n",
    "    # Load x, exclude CO2 and extra time steps \n",
    "    # (since data generation process uses smaller dt than dt_flow)\n",
    "    #x_all = torch.load(X_FILE) # (num_sequences, all_time_steps, state_dim)\n",
    "    step = (X_ALL.shape[1] - 1) // (N - 1)\n",
    "    x = X_ALL[:, ::step, :SBM_SDE.state_dim] # (num_sequences, N, state_dim)\n",
    "    x = x.unsqueeze(0) # (1, num_seqs, N, state_dim)\n",
    "    #assert x.shape == (BATCH_SIZE, N, SBM_SDE.state_dim)\n",
    "\n",
    "    # Convert prior details dictionary values to tensors.\n",
    "    param_names = list(PRIOR_DIST_DETAILS_DICT.keys())\n",
    "    prior_list = list(zip(*(PRIOR_DIST_DETAILS_DICT[k] for k in param_names))) #Unzip prior distribution details from dictionary values into individual lists.\n",
    "    prior_means_tensor, prior_sds_tensor, prior_lowers_tensor, prior_uppers_tensor = torch.tensor(prior_list).to(DEVICE) #Ensure conversion of lists into tensors.\n",
    "\n",
    "    # Retrieve desired distribution class based on string.\n",
    "    dist_class_dict = {\n",
    "            'TruncatedNormal': TruncatedNormal,\n",
    "            'RescaledLogitNormal': RescaledLogitNormal,\n",
    "            'MultivariateLogitNormal': MultivariateLogitNormal\n",
    "            }\n",
    "    THETA_PRIOR_CLASS = dist_class_dict[THETA_DIST]\n",
    "    THETA_POST_CLASS = dist_class_dict[THETA_POST_DIST] if THETA_POST_DIST else dist_class_dict[THETA_DIST]\n",
    "    \n",
    "    # Define prior\n",
    "    p_theta = THETA_PRIOR_CLASS(loc = prior_means_tensor, scale = prior_sds_tensor, a = prior_lowers_tensor, b = prior_uppers_tensor)\n",
    "\n",
    "    # Initialize posterior q(theta) using its prior p(theta)\n",
    "    learn_cov = (THETA_POST_DIST == 'MultivariateLogitNormal')\n",
    "    if THETA_POST_INIT is None:\n",
    "        THETA_POST_INIT = PRIOR_DIST_DETAILS_DICT\n",
    "    q_theta = MeanField(DEVICE, param_names, THETA_POST_INIT, THETA_POST_CLASS, learn_cov)\n",
    "\n",
    "    #Record loss throughout training\n",
    "    best_loss = 1e15\n",
    "    losses = []\n",
    "    times = []\n",
    "\n",
    "    #Initiate optimizers.\n",
    "    optimizer = optim.Adamax(list(q_theta.parameters()), lr = LR)\n",
    "    \n",
    "    #Training loop\n",
    "    t0 = time.time()\n",
    "    with tqdm(total = NITER, desc = f'Learning SDE and hidden parameters.', position = -1) as tq:\n",
    "        for it in range(1, NITER + 1):\n",
    "            optimizer.zero_grad()                \n",
    "            \n",
    "            # Sample theta ~ q(theta) and compute log q(theta)\n",
    "            theta_dict, theta, log_q_theta, _ = q_theta(BATCH_SIZE)\n",
    "            \n",
    "            # Compute log p(theta)\n",
    "            log_p_theta = p_theta.log_prob(theta).sum(-1)\n",
    "\n",
    "            # Compute log p(x|theta)\n",
    "            log_lik = calc_log_lik(x, theta_dict, DT, SBM_SDE, X0_PRIOR).sum(-1) # (batch_size, num_sequences) -> (batch_size, )\n",
    "            #print(log_lik.shape)\n",
    "\n",
    "            # Compute negative ELBO: -(log p(theta) + log p(x|theta) - log q (theta))\n",
    "            #print(log_p_theta.shape, log_lik.shape, log_q_theta.shape)\n",
    "            loss = -log_p_theta.mean() - log_lik.mean() + log_q_theta.mean()\n",
    "            best_loss = loss if loss < best_loss else best_loss\n",
    "            losses.append(loss.item())\n",
    "\n",
    "            if it % PRINT_EVERY == 0:\n",
    "                print('Iteration {} loss: {}'.format(it, loss))\n",
    "\n",
    "            loss.backward()\n",
    "            #torch.nn.utils.clip_grad_norm_(ELBO_params, 5.0)\n",
    "            optimizer.step()\n",
    "            \n",
    "            # Record time\n",
    "            times.append(time.time() - t0)\n",
    "        \n",
    "            if it % DECAY_STEP_SIZE == 0:\n",
    "                optimizer.param_groups[0]['lr'] *= LR_DECAY\n",
    "\n",
    "            tq.update()\n",
    "    \n",
    "    return q_theta, p_theta, losses, times"
   ]
  },
  {
   "cell_type": "code",
   "execution_count": 16,
   "metadata": {},
   "outputs": [],
   "source": [
    "#Training parameters\n",
    "niter = 5000\n",
    "train_lr = 0.05 #ELBO learning rate\n",
    "batch_size = 40 #3 - number needed to fit UCI HPC3 RAM requirements with 16 GB RAM at t = 5000."
   ]
  },
  {
   "cell_type": "code",
   "execution_count": 17,
   "metadata": {},
   "outputs": [
    {
     "data": {
      "application/vnd.jupyter.widget-view+json": {
       "model_id": "5562e6f293da4f40abfd81e22db48123",
       "version_major": 2,
       "version_minor": 0
      },
      "text/plain": [
       "HBox(children=(HTML(value='Learning SDE and hidden parameters.'), FloatProgress(value=0.0, max=5000.0), HTML(v…"
      ]
     },
     "metadata": {},
     "output_type": "display_data"
    },
    {
     "name": "stdout",
     "output_type": "stream",
     "text": [
      "Iteration 500 loss: -61969.703125\n",
      "Iteration 1000 loss: -62094.0546875\n",
      "Iteration 1500 loss: -62118.8203125\n",
      "Iteration 2000 loss: -62140.03125\n",
      "Iteration 2500 loss: -62148.65234375\n",
      "Iteration 3000 loss: -62157.71484375\n",
      "Iteration 3500 loss: -62155.09375\n",
      "Iteration 4000 loss: -62151.1953125\n",
      "Iteration 4500 loss: -62162.0859375\n",
      "Iteration 5000 loss: -62161.72265625\n",
      "\n",
      "3241.9997351169586\n"
     ]
    }
   ],
   "source": [
    "#Call training loop function for SCON-C.\n",
    "t0 = time.time()\n",
    "q_theta_raw, p_theta, losses, times = train(\n",
    "        active_device, train_lr, niter, batch_size, x, t, dt_flow, n, \n",
    "        t_span_tensor, i_s_tensor, i_d_tensor, temp_tensor, temp_ref,\n",
    "        SBM_SDE_class, diffusion_type, p_x0, theta_hyperparams,\n",
    "        THETA_DIST=theta_dist, THETA_POST_DIST=theta_post_dist,\n",
    "        LR_DECAY = 1.0, PRINT_EVERY = max(1, niter // 10))\n",
    "print(time.time() - t0)"
   ]
  },
  {
   "cell_type": "code",
   "execution_count": 18,
   "metadata": {},
   "outputs": [
    {
     "data": {
      "application/vnd.jupyter.widget-view+json": {
       "model_id": "68f8e217da0e4184b3f9398a2c106fd7",
       "version_major": 2,
       "version_minor": 0
      },
      "text/plain": [
       "HBox(children=(HTML(value='Learning SDE and hidden parameters.'), FloatProgress(value=0.0, max=5000.0), HTML(v…"
      ]
     },
     "metadata": {},
     "output_type": "display_data"
    },
    {
     "name": "stdout",
     "output_type": "stream",
     "text": [
      "Iteration 500 loss: -61877.44921875\n",
      "Iteration 1000 loss: -61987.3203125\n",
      "Iteration 1500 loss: -61957.60546875\n",
      "Iteration 2000 loss: -61882.03125\n",
      "Iteration 2500 loss: -61911.58203125\n",
      "Iteration 3000 loss: -61997.87109375\n",
      "Iteration 3500 loss: -62092.81640625\n",
      "Iteration 4000 loss: -62138.8828125\n",
      "Iteration 4500 loss: -62160.23828125\n",
      "Iteration 5000 loss: -62160.80078125\n",
      "\n",
      "3005.412445306778\n"
     ]
    }
   ],
   "source": [
    "#Call training loop function for SCON-C.\n",
    "t0 = time.time()\n",
    "q_theta_raw_mf, p_theta_mf, losses_mf, times_mf = train(\n",
    "        active_device, train_lr, niter, batch_size, x, t, dt_flow, n, \n",
    "        t_span_tensor, i_s_tensor, i_d_tensor, temp_tensor, temp_ref,\n",
    "        SBM_SDE_class, diffusion_type, p_x0, theta_hyperparams,\n",
    "        THETA_DIST=theta_dist, THETA_POST_DIST=theta_dist,\n",
    "        LR_DECAY = 1.0, PRINT_EVERY = niter // 10)\n",
    "print(time.time() - t0)"
   ]
  },
  {
   "cell_type": "markdown",
   "metadata": {},
   "source": [
    "## Visualizations"
   ]
  },
  {
   "cell_type": "code",
   "execution_count": null,
   "metadata": {},
   "outputs": [],
   "source": [
    "def plot_loss(loss_hist_list, labels, time_hist_list=None, xscale='linear', ymin=None, ymax=None):\n",
    "    plt.rcParams.update({'font.size': 12, 'lines.linewidth': 2, 'figure.figsize': (8, 6)})\n",
    "    \n",
    "    for loss_hist, label in zip(loss_hist_list, labels):\n",
    "        plt.plot(loss_hist, label=label)\n",
    "    \n",
    "    plt.xlabel('iteration')\n",
    "    plt.title('Loss v iteration')\n",
    "    plt.ylabel('loss')\n",
    "    plt.legend()\n",
    "    plt.xscale(xscale)\n",
    "    plt.ylim((ymin, ymax))"
   ]
  },
  {
   "cell_type": "code",
   "execution_count": null,
   "metadata": {},
   "outputs": [],
   "source": [
    "labels = ['full-rank', 'mean-field']\n",
    "plot_loss([losses, losses_mf], labels, ymax=-60000, ymin=-62500) # "
   ]
  },
  {
   "cell_type": "code",
   "execution_count": 22,
   "metadata": {},
   "outputs": [],
   "source": [
    "# Extracts the distribution from a MeanField object\n",
    "def extract_dist(q):\n",
    "    a, b = q.lowers, q.uppers\n",
    "    loc = q.means\n",
    "    if not q.learn_cov:\n",
    "        scale = torch.max(q.sds, torch.ones_like(q.sds) * 1e-8)\n",
    "        #scale = D.transform_to(q.dist.arg_constraints['scale'])(q.sds)\n",
    "        return q.dist(loc, scale=scale, a=a, b=b)\n",
    "    else:\n",
    "        scale = D.transform_to(q.dist.arg_constraints['scale_tril'])(q.sds)\n",
    "        return q.dist(loc, scale_tril=scale, a=a, b=b)"
   ]
  },
  {
   "cell_type": "code",
   "execution_count": 23,
   "metadata": {},
   "outputs": [],
   "source": [
    "q_theta = extract_dist(q_theta_raw)\n",
    "q_theta_mf = extract_dist(q_theta_raw_mf)"
   ]
  },
  {
   "cell_type": "code",
   "execution_count": null,
   "metadata": {},
   "outputs": [],
   "source": [
    "def plot_theta(p_theta, q_theta_list, theta, labels, param_names, num_pts=1000, eps=1e-5, ncols=4,\n",
    "               colors=None, linestyles=None, device=active_device):\n",
    "    plt.rcParams.update({'font.size': 16, 'lines.linewidth': 2})\n",
    "    \n",
    "    # Load posterior and define plot boundaries\n",
    "    a, b = p_theta.a, p_theta.b\n",
    "    x0 = p_theta.mean - 4*p_theta.stddev\n",
    "    x1 = p_theta.mean + 4*p_theta.stddev\n",
    "    q_marginals = []\n",
    "    for q_theta in q_theta_list:\n",
    "        if isinstance(q_theta, RescaledLogitNormal):\n",
    "            q_marginal = q_theta\n",
    "        else:\n",
    "            scale_post = torch.diag(q_theta.covariance_matrix).sqrt()\n",
    "            q_marginal = RescaledLogitNormal(q_theta.loc, scale_post, a=a, b=b)\n",
    "        q_marginals.append(q_marginal)\n",
    "        x0 = torch.fmin(x0, q_marginal.mean - 4*q_marginal.stddev)\n",
    "        x1 = torch.fmax(x1, q_marginal.mean + 4*q_marginal.stddev)\n",
    "        #print(x0, x1)\n",
    "    x0 = torch.fmax(x0, a).detach()\n",
    "    x1 = torch.fmin(x1, b).detach()\n",
    "    x = torch.from_numpy(np.linspace(x0, x1, num_pts))\n",
    "    \n",
    "    # Load true theta\n",
    "    #theta = torch.load(theta_file, map_location=device)\n",
    "    \n",
    "    # Compute pdfs\n",
    "    #print(x[0, :], x[-1, :])\n",
    "    prior_pdf = torch.exp(p_theta.log_prob(x)).detach()\n",
    "    post_pdfs = []\n",
    "    for q_theta in q_marginals:\n",
    "        post_pdf = torch.exp(q_theta.log_prob(x)).detach()\n",
    "        post_pdfs.append(post_pdf)\n",
    "    \n",
    "    # Plot prior v posterior v true theta\n",
    "    num_params = len(param_names)\n",
    "    nrows = int(num_params / ncols) + 1\n",
    "    fig, axes = plt.subplots(nrows, ncols, figsize=(ncols * 4, nrows * 4))\n",
    "    axes = np.atleast_2d(axes)\n",
    "    k = 0\n",
    "    if colors is None: colors = [cm.tab10(i+1) for i in range(len(post_pdfs))]\n",
    "    if linestyles is None: linestyles = ['-'] * len(post_pdfs)\n",
    "    for i, row in enumerate(axes):\n",
    "        for j, ax in enumerate(row):\n",
    "            if k < num_params:\n",
    "                key = param_names[k]\n",
    "                ax.plot(x[:, k], prior_pdf[:, k], label='Prior $p(\\\\theta)$', color='tab:blue')\n",
    "                for post_pdf, post_dist, c, l in zip(post_pdfs, labels, colors, linestyles):\n",
    "                    label = 'Posterior $q(\\\\theta)$ {}'.format(post_dist)\n",
    "                    ax.plot(x[:, k], post_pdf[:, k], label=label, color=c, linestyle=l)\n",
    "                ax.axvline(theta[key], color='gray', label='True $\\\\theta$')\n",
    "                ax.set_xlabel(key)\n",
    "                if j == 0: ax.set_ylabel('density')\n",
    "            elif k == num_params:\n",
    "                handles, labels = axes[0, 0].get_legend_handles_labels()\n",
    "                ax.legend(handles, labels, loc='center')\n",
    "                ax.axis('off')\n",
    "            else:\n",
    "                fig.delaxes(axes[i, j])\n",
    "            k += 1  \n",
    "    plt.tight_layout()\n",
    "    plt.suptitle('Marginal distributions')\n",
    "    plt.subplots_adjust(top=0.95)\n",
    "    plt.show()"
   ]
  },
  {
   "cell_type": "code",
   "execution_count": null,
   "metadata": {},
   "outputs": [],
   "source": [
    "plot_theta(p_theta, [q_theta, q_theta_mf], theta_samples, labels, q_theta_raw.keys)"
   ]
  },
  {
   "cell_type": "code",
   "execution_count": null,
   "metadata": {},
   "outputs": [],
   "source": [
    "def plot_corr(q_theta_list, labels, param_names, num_samples=100000):\n",
    "    plt.rcParams.update({'font.size': 12})\n",
    "    \n",
    "    # Calculate empirical correlation\n",
    "    corr_list = []\n",
    "    for q_theta in q_theta_list:\n",
    "        assert isinstance(q_theta, MultivariateLogitNormal)\n",
    "        samples = q_theta.sample((num_samples, )) # (N, D)\n",
    "        corr_mc = np.corrcoef(samples.T)\n",
    "        corr_list.append(corr_mc)\n",
    "    \n",
    "    # Plot\n",
    "    num_cols = len(q_theta_list)\n",
    "    fig, axes = plt.subplots(1, num_cols, figsize=(8*num_cols, 8))\n",
    "    axes = np.atleast_1d(axes)\n",
    "    D = len(q_theta_list[0].loc)\n",
    "    \n",
    "    for i, ax in enumerate(axes):\n",
    "        plot = ax.imshow(corr_list[i], cmap='coolwarm', vmin=-1, vmax=1)\n",
    "        ax.set_xticks(range(D))\n",
    "        ax.set_xticklabels(param_names, rotation='vertical')\n",
    "        ax.set_yticks(range(D))\n",
    "        ax.set_yticklabels(param_names)\n",
    "        ax.set_title(labels[i])\n",
    "        \n",
    "    plt.tight_layout()\n",
    "    plt.colorbar(plot, ax=axes, shrink=0.8)\n",
    "    plt.suptitle('Correlation between parameters')\n",
    "    plt.show()"
   ]
  },
  {
   "cell_type": "code",
   "execution_count": null,
   "metadata": {},
   "outputs": [],
   "source": [
    "plot_corr([q_theta], [None], q_theta_raw.keys)"
   ]
  },
  {
   "cell_type": "code",
   "execution_count": 27,
   "metadata": {},
   "outputs": [],
   "source": [
    "def plot_x(x, t_span, n):\n",
    "    num_sequences, time_steps, state_dim = x.shape\n",
    "    fig, axes = plt.subplots(state_dim, figsize=(15, 15))\n",
    "    step = (x.shape[1] - 1) // (n - 1)\n",
    "    x_plot = x[:, ::step, :state_dim]\n",
    "    #print(x.shape, x_plot.shape)\n",
    "    \n",
    "    labels = ['SOC', 'DOC', 'MBC', 'EEC']\n",
    "    for i, ax in enumerate(axes):\n",
    "        for j in range(num_sequences):\n",
    "            ax.plot(t_span, x_plot[j, :, i])\n",
    "        ax.set_ylabel(labels[i])"
   ]
  },
  {
   "cell_type": "code",
   "execution_count": 28,
   "metadata": {},
   "outputs": [
    {
     "data": {
      "image/png": "[encoded data removed]",
      "text/plain": [
       "<Figure size 1080x1080 with 3 Axes>"
      ]
     },
     "metadata": {
      "needs_background": "light"
     },
     "output_type": "display_data"
    }
   ],
   "source": [
    "plot_x(x, t_span, n)"
   ]
  },
  {
   "cell_type": "code",
   "execution_count": null,
   "metadata": {},
   "outputs": [],
   "source": [
    "hyperparams_file = 'data/dt_05_t_5000_n_10/theta_from_multi_x_hyperparams_scon_c_{}.pt'.format(seed)\n",
    "theta_file = 'data/dt_05_t_5000_n_10/theta_from_multi_x_theta_scon_c_{}.pt'.format(seed)\n",
    "x_file = 'data/dt_05_t_5000_n_10/theta_from_multi_x_x_scon_c_{}.pt'.format(seed)\n",
    "q_file = 'data/dt_05_t_5000_n_10/theta_from_multi_x_q_scon_c_{}.pt'.format(seed)\n",
    "torch.save(theta_hyperparams, hyperparams_file)\n",
    "torch.save(theta_samples, theta_file)\n",
    "torch.save(x, x_file)\n",
    "torch.save([q_theta, q_theta_mf], q_file)"
   ]
  },
  {
   "cell_type": "code",
   "execution_count": 24,
   "metadata": {},
   "outputs": [],
   "source": [
    "q_file = 'data/dt_1_t_100000_n_1_minibatch/theta_from_multi_x_q_full_scon_c_{}.pt'.format(seed)\n",
    "torch.save([q_theta, q_theta_mf], q_file)"
   ]
  },
  {
   "cell_type": "code",
   "execution_count": 25,
   "metadata": {},
   "outputs": [],
   "source": [
    "loss_file = 'data/dt_1_t_100000_n_1_minibatch/theta_from_multi_x_loss_full_scon_c_{}.pt'.format(seed)\n",
    "torch.save([losses, losses_mf], loss_file)"
   ]
  },
  {
   "cell_type": "code",
   "execution_count": 26,
   "metadata": {},
   "outputs": [],
   "source": [
    "time_file = 'data/dt_1_t_100000_n_1_minibatch/theta_from_multi_x_time_full_scon_c_{}.pt'.format(seed)\n",
    "torch.save([times, times_mf], time_file)"
   ]
  },
  {
   "cell_type": "markdown",
   "metadata": {},
   "source": [
    "## Compare with unobserved $x$"
   ]
  },
  {
   "cell_type": "code",
   "execution_count": null,
   "metadata": {},
   "outputs": [],
   "source": [
    "q_theta_y_file = '../training_pt_outputs/q_theta_iter_310000_t_1000_dt_1.0_batch_40_layers_5_lr_0.0005_sd_scale_0.333_SCON-C_logit_multi_2021_09_22_11_48_46.pt'\n",
    "q_theta_y_mf_file = '../training_pt_outputs/q_theta_iter_250000_t_1000_dt_1.0_batch_45_layers_5_lr_0.0005_sd_scale_0.333_SCON-C_no_CO2_logit_alt_2021_09_23_07_08_19.pt'\n",
    "device=torch.device('cpu')\n",
    "q_theta_y = extract_dist(torch.load(q_theta_y_file, map_location=device))\n",
    "q_theta_y_mf = extract_dist(torch.load(q_theta_y_mf_file, map_location=device))"
   ]
  },
  {
   "cell_type": "code",
   "execution_count": null,
   "metadata": {},
   "outputs": [],
   "source": [
    "theta_file = '../generated_data/SCON-C_CO2_logit_alt_sample_y_t_1000_dt_0-01_sd_scale_0-333_rsample.pt'\n",
    "labels = ['full-rank, observe $y$', 'full-rank, observe $x$', 'mean-field, observe $y$', 'mean-field observe $x$']\n",
    "plot_theta(p_theta, [q_theta_y, q_theta, q_theta_y_mf, q_theta_mf], theta_file, labels, q_theta_raw.keys,\n",
    "           colors=[cm.tab10(1), cm.tab10(1), cm.tab10(2), cm.tab10(2)], linestyles=['-', '--', '-', '--'])"
   ]
  },
  {
   "cell_type": "code",
   "execution_count": null,
   "metadata": {},
   "outputs": [],
   "source": [
    "plot_corr([q_theta_y, q_theta], ['Observe $y$', 'Observe $x$'], q_theta_raw.keys)"
   ]
  },
  {
   "cell_type": "code",
   "execution_count": null,
   "metadata": {},
   "outputs": [],
   "source": []
  },
  {
   "cell_type": "markdown",
   "metadata": {},
   "source": [
    "OMGGG I just realized `SBM_SDE` would need to change as well to support theta-from-multiple-x’s inference. We need to compute the negative ELBO:\n",
    "$$\\mathcal{L} = - \\frac{1}{S} \\sum_s \\left[ \\log p(\\theta^{(s)}) + \\log p(x|\\theta^{(s)}) - \\log q(\\theta^{(s)}) \\right]$$\n",
    "where $S$ is the batch size.\n",
    "\n",
    "With $M$ sequences of $x_i, i = 1, ..., M$, the log likelihood term is now:\n",
    "$$\\log p(x|\\theta^{(s)}) = \\sum_i \\log p(x_i|\\theta^{(s)})$$\n",
    "\n",
    "So drift diffusion needs to take `C_PATH` of size `(S, M, N, D)` (currently `(S, N, D)`) and return a log likelihood tensor of size `(S, M)` (currently `(S, )`), where $N$ is the number of time steps and $D$ is the state dimensions.\n"
   ]
  },
  {
   "cell_type": "code",
   "execution_count": null,
   "metadata": {},
   "outputs": [],
   "source": [
    "#(batch_size, 1, 1) \n",
    "diff1 = torch.arange(5).reshape((-1, 1, 1))\n",
    "diff2 = torch.arange(5, 10).reshape((-1, 1, 1))\n",
    "diff3 = torch.arange(10, 15).reshape((-1, 1, 1))\n",
    "diff_list = [diff1, diff2, diff3]\n",
    "diff_list"
   ]
  },
  {
   "cell_type": "code",
   "execution_count": null,
   "metadata": {},
   "outputs": [],
   "source": [
    "tmp = \n",
    "tmp.shape"
   ]
  },
  {
   "cell_type": "code",
   "execution_count": null,
   "metadata": {},
   "outputs": [],
   "source": [
    "diff_tensor = torch.diag_embed(torch.sqrt(LowerBound.apply(torch.cat(diff_list, 2), 1e-8))) # (batch_size, 1, state_dim, state_dim)\n",
    "diff_tensor.shape"
   ]
  },
  {
   "cell_type": "code",
   "execution_count": null,
   "metadata": {},
   "outputs": [],
   "source": [
    "diff_tensor[1] == torch.sqrt(torch.diag(torch.tensor([1, 6, 11])))"
   ]
  },
  {
   "cell_type": "code",
   "execution_count": null,
   "metadata": {},
   "outputs": [],
   "source": [
    "(batch_size, N-1, state_dim)"
   ]
  },
  {
   "cell_type": "code",
   "execution_count": null,
   "metadata": {},
   "outputs": [],
   "source": []
  },
  {
   "cell_type": "code",
   "execution_count": null,
   "metadata": {},
   "outputs": [],
   "source": []
  },
  {
   "cell_type": "code",
   "execution_count": null,
   "metadata": {},
   "outputs": [],
   "source": [
    "a = torch.randn(2, 3).reshape(2, 1, -1)\n",
    "a.shape"
   ]
  },
  {
   "cell_type": "code",
   "execution_count": null,
   "metadata": {},
   "outputs": [],
   "source": [
    "torch.diag_embed(a).shape"
   ]
  },
  {
   "cell_type": "code",
   "execution_count": null,
   "metadata": {},
   "outputs": [],
   "source": [
    "a = torch.arange(12).reshape((2, 2, 3))\n",
    "b = torch.arange(4).reshape((2, 2))"
   ]
  },
  {
   "cell_type": "code",
   "execution_count": null,
   "metadata": {},
   "outputs": [],
   "source": [
    "a * b"
   ]
  },
  {
   "cell_type": "code",
   "execution_count": null,
   "metadata": {},
   "outputs": [],
   "source": [
    "l = [1, 2]\n",
    "l[-1]"
   ]
  },
  {
   "cell_type": "code",
   "execution_count": null,
   "metadata": {},
   "outputs": [],
   "source": [
    "l.pop()"
   ]
  },
  {
   "cell_type": "code",
   "execution_count": null,
   "metadata": {},
   "outputs": [],
   "source": [
    "l"
   ]
  },
  {
   "cell_type": "code",
   "execution_count": null,
   "metadata": {},
   "outputs": [],
   "source": []
  }
 ],
 "metadata": {
  "kernelspec": {
   "display_name": "Python 3",
   "language": "python",
   "name": "python3"
  },
  "language_info": {
   "codemirror_mode": {
    "name": "ipython",
    "version": 3
   },
   "file_extension": ".py",
   "mimetype": "text/x-python",
   "name": "python",
   "nbconvert_exporter": "python",
   "pygments_lexer": "ipython3",
   "version": "3.8.5"
  }
 },
 "nbformat": 4,
 "nbformat_minor": 4
}
