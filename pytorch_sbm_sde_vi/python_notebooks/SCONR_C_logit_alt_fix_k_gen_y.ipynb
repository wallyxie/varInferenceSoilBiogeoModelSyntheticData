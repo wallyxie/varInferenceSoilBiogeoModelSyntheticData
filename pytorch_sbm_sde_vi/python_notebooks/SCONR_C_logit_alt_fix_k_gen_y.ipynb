{
 "cells": [
  {
   "cell_type": "code",
   "execution_count": 1,
   "metadata": {},
   "outputs": [],
   "source": [
    "#PyData imports\n",
    "import numpy as np\n",
    "import pandas as pd\n",
    "import matplotlib\n",
    "import matplotlib.pyplot as plt\n",
    "from scipy.optimize import bisect\n",
    "\n",
    "#Torch-related imports\n",
    "import torch\n",
    "import torch.distributions as D\n",
    "import torch.nn.functional as F\n",
    "import torch.optim as optim\n",
    "from torch.autograd import Function"
   ]
  },
  {
   "cell_type": "code",
   "execution_count": 2,
   "metadata": {},
   "outputs": [],
   "source": [
    "# Hack to import from a parent directory\n",
    "import sys\n",
    "path = '..'\n",
    "if path not in sys.path:\n",
    "    sys.path.append(path)\n",
    "    \n",
    "from LogitNormal import *"
   ]
  },
  {
   "cell_type": "code",
   "execution_count": 3,
   "metadata": {},
   "outputs": [],
   "source": [
    "torch.manual_seed(0)\n",
    "np.random.seed(0)\n",
    "\n",
    "torch.set_printoptions(precision = 8)"
   ]
  },
  {
   "cell_type": "code",
   "execution_count": 4,
   "metadata": {},
   "outputs": [],
   "source": [
    "temp_ref = 283\n",
    "temp_rise = 5 #High estimate of 5 celsius temperature rise by 2100.\n",
    "\n",
    "prior_scale_factor = 0.333\n",
    "\n",
    "#SCON theta rescaled logit-normal distribution parameter details in order of mean, sdev, lower, and upper.\n",
    "u_M_dist = torch.Tensor([logit(torch.tensor([0.0016]), torch.tensor([0]), torch.tensor([0.1])), 0.0016 * prior_scale_factor, 0, 0.1])\n",
    "a_SD_dist = torch.Tensor([logit(torch.tensor([0.5]), torch.tensor([0]), torch.tensor([1])), 0.5 * prior_scale_factor, 0, 1])\n",
    "a_DS_dist = torch.Tensor([logit(torch.tensor([0.5]), torch.tensor([0]), torch.tensor([1])), 0.5 * prior_scale_factor, 0, 1])\n",
    "a_MSC_dist = torch.Tensor([logit(torch.tensor([0.5]), torch.tensor([0]), torch.tensor([1.])), 0.5 * prior_scale_factor, 0, 1])\n",
    "#k_S_ref_dist = torch.Tensor([logit(torch.tensor([0.0005]), torch.tensor([0]), torch.tensor([0.01])), 0.0005 * prior_scale_factor, 0, 0.01])\n",
    "#k_D_ref_dist = torch.Tensor([logit(torch.tensor([0.0008]), torch.tensor([0]), torch.tensor([0.01])), 0.0008 * prior_scale_factor, 0, 0.01])\n",
    "#k_M_ref_dist = torch.Tensor([logit(torch.tensor([0.0007]), torch.tensor([0]), torch.tensor([0.01])), 0.0007 * prior_scale_factor, 0, 0.01])\n",
    "Ea_S_dist = torch.Tensor([logit(torch.tensor([55]), torch.tensor([10]), torch.tensor([100])), 55 * prior_scale_factor, 10, 100])\n",
    "Ea_D_dist = torch.Tensor([logit(torch.tensor([48]), torch.tensor([10]), torch.tensor([100])), 48 * prior_scale_factor, 10, 100])\n",
    "Ea_M_dist = torch.Tensor([logit(torch.tensor([48]), torch.tensor([10]), torch.tensor([100])), 48 * prior_scale_factor, 10, 100])\n",
    "\n",
    "#SCON-C diffusion matrix parameter distribution details\n",
    "c_SOC_dist = torch.Tensor([logit(torch.tensor([0.1]), torch.tensor([0]), torch.tensor([1])), 0.05 * prior_scale_factor, 0, 1])\n",
    "c_DOC_dist = torch.Tensor([logit(torch.tensor([0.002]), torch.tensor([0]), torch.tensor([0.02])), 0.002 * prior_scale_factor, 0, 0.02])\n",
    "c_MBC_dist = torch.Tensor([logit(torch.tensor([0.002]), torch.tensor([0]), torch.tensor([0.02])), 0.002 * prior_scale_factor, 0, 0.02])\n",
    "\n",
    "#SCON-C theta rsample draws\n",
    "u_M = RescaledLogitNormal(loc = u_M_dist[0], scale = u_M_dist[1], a = u_M_dist[2], b = u_M_dist[3]).rsample().cpu().detach().numpy()\n",
    "a_SD = RescaledLogitNormal(loc = a_SD_dist[0], scale = a_SD_dist[1], a = a_SD_dist[2], b = a_SD_dist[3]).rsample().cpu().detach().numpy()\n",
    "a_DS = RescaledLogitNormal(loc = a_DS_dist[0], scale = a_DS_dist[1], a = a_DS_dist[2], b = a_DS_dist[3]).rsample().cpu().detach().numpy()\n",
    "a_MSC = RescaledLogitNormal(loc = a_MSC_dist[0], scale = a_MSC_dist[1], a = a_MSC_dist[2], b = a_MSC_dist[3]).rsample().cpu().detach().numpy()\n",
    "k_S_ref = 0.0005 #RescaledLogitNormal(loc = k_S_ref_dist[0], scale = k_S_ref_dist[1], a = k_S_ref_dist[2], b = k_S_ref_dist[3]).rsample().cpu().detach().numpy()\n",
    "k_D_ref = 0.003 #RescaledLogitNormal(loc = k_D_ref_dist[0], scale = k_D_ref_dist[1], a = k_D_ref_dist[2], b = k_D_ref_dist[3]).rsample().cpu().detach().numpy()\n",
    "k_M_ref = 0.001 #RescaledLogitNormal(loc = k_M_ref_dist[0], scale = k_M_ref_dist[1], a = k_M_ref_dist[2], b = k_M_ref_dist[3]).rsample().cpu().detach().numpy()\n",
    "Ea_S = RescaledLogitNormal(loc = Ea_S_dist[0], scale = Ea_S_dist[1], a = Ea_S_dist[2], b = Ea_S_dist[3]).rsample().cpu().detach().numpy()\n",
    "Ea_D = RescaledLogitNormal(loc = Ea_D_dist[0], scale = Ea_D_dist[1], a = Ea_D_dist[2], b = Ea_D_dist[3]).rsample().cpu().detach().numpy()\n",
    "Ea_M = RescaledLogitNormal(loc = Ea_M_dist[0], scale = Ea_M_dist[1], a = Ea_M_dist[2], b = Ea_M_dist[3]).rsample().cpu().detach().numpy()\n",
    "c_SOC = RescaledLogitNormal(loc = c_SOC_dist[0], scale = c_SOC_dist[1], a = c_SOC_dist[2], b = c_SOC_dist[3]).rsample().cpu().detach().numpy()\n",
    "c_DOC = RescaledLogitNormal(loc = c_DOC_dist[0], scale = c_DOC_dist[1], a = c_DOC_dist[2], b = c_DOC_dist[3]).rsample().cpu().detach().numpy()\n",
    "c_MBC = RescaledLogitNormal(loc = c_MBC_dist[0], scale = c_MBC_dist[1], a = c_MBC_dist[2], b = c_MBC_dist[3]).rsample().cpu().detach().numpy()\n",
    "\n",
    "#SCON_SS_params_dict = {'u_M': u_M, 'a_SD': a_SD, 'a_DS': a_DS, 'a_M': a_M, 'a_MSC': a_MSC, 'k_S_ref': k_S_ref, 'k_D_ref': k_D_ref, 'k_M_ref': k_M_ref, 'Ea_S': Ea_S, 'Ea_D': Ea_D, 'Ea_M': Ea_M, 's_SOC': s_SOC, 's_DOC': s_DOC, 's_MBC': s_MBC}\n",
    "\n",
    "#System parameters from deterministic AWB model\n",
    "#u_Q_ref = 0.2\n",
    "#Q = 0.002\n",
    "#a_MSA = 0.5\n",
    "#K_D = 200\n",
    "#K_U = 1\n",
    "#V_D_ref = 0.4\n",
    "#V_U_ref = 0.02\n",
    "#Ea_V_D = 75\n",
    "#Ea_V_U = 50\n",
    "#r_M = 0.0004\n",
    "#r_E = 0.00001\n",
    "#r_L = 0.0005\n",
    "\n",
    "#SAWB diffusion matrix parameters\n",
    "#c_SOC = 2\n",
    "#c_DOC = 0.05\n",
    "#c_MBC = 0.1\n",
    "#c_EEC = 0.01\n",
    "#s_SOC = 0.1\n",
    "#s_DOC = 0.1\n",
    "#s_MBC = 0.1\n",
    "#s_EEC = 0.1\n",
    "\n",
    "#SAWB_C_params_dict = {'u_Q_ref': u_Q_ref, 'Q': Q, 'a_MSA': a_MSA, 'K_D': K_D, 'K_U': K_U, 'V_D_ref': V_D_ref, 'V_U_ref': V_U_ref, 'Ea_V_D': Ea_V_D, 'Ea_V_U': Ea_V_U, 'r_M': r_M, 'r_E': r_E, 'r_L': r_L, 'c_SOC': c_SOC, 'c_DOC': c_DOC, 'c_MBC': c_MBC, 'c_EEC': c_EEC}\n",
    "#SAWB_SS_params_dict = {'u_Q_ref': u_Q_ref, 'Q': Q, 'a_MSA': a_MSA, 'K_D': K_D, 'K_U': K_U, 'V_D_ref': V_D_ref, 'V_U_ref': V_U_ref, 'Ea_V_D': Ea_V_D, 'Ea_V_U': Ea_V_U, 'r_M': r_M, 'r_E': r_E, 'r_L': r_L, 's_SOC': s_SOC, 's_DOC': s_DOC, 's_MBC': s_MBC, 's_EEC': s_EEC}\n",
    "\n",
    "#System parameters from deterministic AWB-ECA model\n",
    "#u_Q_ref = 0.2\n",
    "#Q = 0.002\n",
    "#a_MSA = 0.5\n",
    "#K_DE = 200\n",
    "#K_UE = 1\n",
    "#V_DE_ref = 0.4\n",
    "#V_UE_ref = 0.02\n",
    "#Ea_V_DE = 75\n",
    "#Ea_V_UE = 50\n",
    "#r_M = 0.0004\n",
    "#r_E = 0.00001\n",
    "#r_L = 0.0005\n",
    "\n",
    "#SAWB-ECA diffusion matrix parameters\n",
    "#c_SOC = 2\n",
    "#c_DOC = 0.05\n",
    "#c_MBC = 0.1\n",
    "#c_EEC = 0.01\n",
    "#s_SOC = 0.1\n",
    "#s_DOC = 0.1\n",
    "#s_MBC = 0.1\n",
    "#s_EEC = 0.1\n",
    "\n",
    "#SAWB_ECA_C_params_dict = {'u_Q_ref': u_Q_ref, 'Q': Q, 'a_MSA': a_MSA, 'K_DE': K_DE, 'K_UE': K_UE, 'V_DE_ref': V_DE_ref, 'V_UE_ref': V_UE_ref, 'Ea_V_DE': Ea_V_DE, 'Ea_V_UE': Ea_V_UE, 'r_M': r_M, 'r_E': r_E, 'r_L': r_L, 'c_SOC': c_SOC, 'c_DOC': c_DOC, 'c_MBC': c_MBC, 'c_EEC': c_EEC}\n",
    "#SAWB_ECA_SS_params_dict = {'u_Q_ref': u_Q_ref, 'Q': Q, 'a_MSA': a_MSA, 'K_DE': K_DE, 'K_UE': K_UE, 'V_DE_ref': V_DE_ref, 'V_UE_ref': V_UE_ref, 'Ea_V_DE': Ea_V_DE, 'Ea_V_UE': Ea_V_UE, 'r_M': r_M, 'r_E': r_E, 'r_L': r_L, 's_SOC': s_SOC, 's_DOC': s_DOC, 's_MBC': s_MBC, 's_EEC': s_EEC}"
   ]
  },
  {
   "cell_type": "code",
   "execution_count": 5,
   "metadata": {
    "scrolled": true
   },
   "outputs": [
    {
     "name": "stdout",
     "output_type": "stream",
     "text": [
      "{'u_M': array(0.00160129, dtype=float32), 'a_SD': array(0.48778844, dtype=float32), 'a_DS': array(0.41028956, dtype=float32), 'a_MSC': array(0.5236433, dtype=float32), 'k_S_ref': 0.0005, 'k_D_ref': 0.003, 'k_M_ref': 0.001, 'Ea_S': array(10.00001, dtype=float32), 'Ea_D': array(10.00001, dtype=float32), 'Ea_M': array(99.8052, dtype=float32), 'c_SOC': array(0.10126281, dtype=float32), 'c_DOC': array(0.00199914, dtype=float32), 'c_MBC': array(0.00199952, dtype=float32)}\n"
     ]
    }
   ],
   "source": [
    "SCONR_C_params_dict = {'u_M': u_M, 'a_SD': a_SD, 'a_DS': a_DS, 'a_MSC': a_MSC, 'k_S_ref': k_S_ref, 'k_D_ref': k_D_ref, 'k_M_ref': k_M_ref, 'Ea_S': Ea_S, 'Ea_D': Ea_D, 'Ea_M': Ea_M, 'c_SOC': c_SOC, 'c_DOC': c_DOC, 'c_MBC': c_MBC}\n",
    "print(SCONR_C_params_dict)"
   ]
  },
  {
   "cell_type": "code",
   "execution_count": 6,
   "metadata": {},
   "outputs": [
    {
     "name": "stdout",
     "output_type": "stream",
     "text": [
      "tensor(-13687959.)\n",
      "tensor(-399201.18750000)\n",
      "tensor(-5741015.)\n"
     ]
    }
   ],
   "source": [
    "test_logit = RescaledLogitNormal(loc = u_M_dist[0], scale = u_M_dist[1], a = u_M_dist[2], b = u_M_dist[3])\n",
    "\n",
    "print(test_logit.log_prob(0.0001))\n",
    "print(test_logit.log_prob(0.001))\n",
    "print(test_logit.log_prob(0.009))"
   ]
  },
  {
   "cell_type": "code",
   "execution_count": 7,
   "metadata": {},
   "outputs": [],
   "source": [
    "def temp_func(t, TEMP_REF, TEMP_RISE):\n",
    "    temp = TEMP_REF + (TEMP_RISE * t) / (80 * 24 * 365) + 10 * np.sin((2 * np.pi / 24) * t) + 10 * np.sin((2 * np.pi / (24 * 365)) * t)\n",
    "    return temp\n",
    "\n",
    "def I_S_func(t):\n",
    "    return 0.001 + 0.0005 * np.sin((2 * np.pi / (24 * 365)) * t) #Exogenous SOC input function\n",
    "\n",
    "def I_D_func(t):\n",
    "    return 0.0001 + 0.00005 * np.sin((2 * np.pi / (24 * 365)) * t) #Exogenous DOC input function\n",
    "\n",
    "def arrhenius_temp(parameter, temp, Ea, temp_ref):\n",
    "    '''\n",
    "    For a parameter with Arrhenius temperature dependence, returns the transformed parameter value.\n",
    "    0.008314 is the gas constant. Temperatures are in K.\n",
    "    '''\n",
    "    decayed_parameter = parameter * np.exp(-Ea / 0.008314 * (1 / temp - 1 / temp_ref))\n",
    "    return decayed_parameter\n",
    "\n",
    "def linear_temp(parameter, temp, Q, temp_ref):\n",
    "    '''\n",
    "    For a parameter with linear temperature dependence, returns the transformed parameter value.\n",
    "    Q is the slope of the temperature dependence and is a varying parameter.\n",
    "    Temperatures are in K.\n",
    "    '''\n",
    "    modified_parameter = parameter - Q * (temp - temp_ref)\n",
    "    return modified_parameter"
   ]
  },
  {
   "cell_type": "code",
   "execution_count": 8,
   "metadata": {},
   "outputs": [],
   "source": [
    "#Generate data from SBM SDEs\n",
    "#x in order of SOC, DOC, MBC (and EEC for AWB family models)\n",
    "\n",
    "def alpha_SCONR(x, SCON_params_dict, I_S, I_D, current_temp, temp_ref, arrhenius_temp, linear_temp):\n",
    "    #Force temperature-dependent parameters.\n",
    "    k_S = arrhenius_temp(SCON_params_dict['k_S_ref'], current_temp, SCON_params_dict['Ea_S'], temp_ref)\n",
    "    k_D = arrhenius_temp(SCON_params_dict['k_D_ref'], current_temp, SCON_params_dict['Ea_D'], temp_ref)\n",
    "    k_M = arrhenius_temp(SCON_params_dict['k_M_ref'], current_temp, SCON_params_dict['Ea_M'], temp_ref)\n",
    "    #Evolve drift.\n",
    "    SOC = I_S + SCON_params_dict['a_DS'] * k_D * x[1] + SCON_params_dict['a_MSC'] * k_M * x[2] - k_S * x[0]\n",
    "    DOC = I_D + SCON_params_dict['a_SD'] * k_S * x[0] + (1 - SCON_params_dict['a_MSC']) * k_M * x[2] - (SCON_params_dict['u_M'] + k_D) * x[1]\n",
    "    MBC = SCON_params_dict['u_M'] * x[1] - k_M * x[2]\n",
    "    return np.array([SOC, DOC, MBC])\n",
    "\n",
    "def alpha_SCON(x, SCON_params_dict, I_S, I_D, current_temp, temp_ref, arrhenius_temp, linear_temp):\n",
    "    #Force temperature-dependent parameters.\n",
    "    k_S = arrhenius_temp(SCON_params_dict['k_S_ref'], current_temp, SCON_params_dict['Ea_S'], temp_ref)\n",
    "    k_D = arrhenius_temp(SCON_params_dict['k_D_ref'], current_temp, SCON_params_dict['Ea_D'], temp_ref)\n",
    "    k_M = arrhenius_temp(SCON_params_dict['k_M_ref'], current_temp, SCON_params_dict['Ea_M'], temp_ref)\n",
    "    #Evolve drift.\n",
    "    SOC = I_S + SCON_params_dict['a_DS'] * k_D * x[1] + SCON_params_dict['a_M'] * SCON_params_dict['a_MSC'] * k_M * x[2] - k_S * x[0]\n",
    "    DOC = I_D + SCON_params_dict['a_SD'] * k_S * x[0] + SCON_params_dict['a_M'] * (1 - SCON_params_dict['a_MSC']) * k_M * x[2] - (SCON_params_dict['u_M'] + k_D) * x[1]\n",
    "    MBC = SCON_params_dict['u_M'] * x[1] - k_M * x[2]\n",
    "    return np.array([SOC, DOC, MBC])\n",
    "\n",
    "def beta_SCON_C(x, SCON_C_params_dict):\n",
    "    b11 = SCON_C_params_dict['c_SOC']\n",
    "    b22 = SCON_C_params_dict['c_DOC']\n",
    "    b33 = SCON_C_params_dict['c_MBC']\n",
    "    return np.diag([b11, b22, b33])\n",
    "\n",
    "def beta_SCON_SS(x, SCON_SS_params_dict):\n",
    "    b11 = SCON_SS_params_dict['s_SOC'] * x[0]\n",
    "    b22 = SCON_SS_params_dict['s_DOC'] * x[1]\n",
    "    b33 = SCON_SS_params_dict['s_MBC'] * x[2]\n",
    "    return np.diag([b11, b22, b33])\n",
    "\n",
    "def alpha_SAWB(x, SAWB_params_dict, I_S, I_D, current_temp, temp_ref, arrhenius_temp, linear_temp):\n",
    "    #Force temperature-dependent parameters.\n",
    "    u_Q = linear_temp(SAWB_params_dict['u_Q_ref'], current_temp, SAWB_params_dict['Q'], temp_ref)\n",
    "    V_D = arrhenius_temp(SAWB_params_dict['V_D_ref'], current_temp, SAWB_params_dict['Ea_V_D'], temp_ref)\n",
    "    V_U = arrhenius_temp(SAWB_params_dict['V_U_ref'], current_temp, SAWB_params_dict['Ea_V_U'], temp_ref)\n",
    "    #Evolve drift.\n",
    "    SOC = I_S + SAWB_params_dict['a_MSA'] * SAWB_params_dict['r_M'] * x[2] - ((V_D * x[3] * x[0]) / (SAWB_params_dict['K_D'] + x[0]))\n",
    "    DOC = I_D + (1 - SAWB_params_dict['a_MSA']) * SAWB_params_dict['r_M'] * x[2] + ((V_D * x[3] * x[0]) / (SAWB_params_dict['K_D'] + x[0])) + SAWB_params_dict['r_L'] * x[3] - ((V_U * x[2] * x[1]) / (SAWB_params_dict['K_U'] + x[1]))\n",
    "    MBC = (u_Q * (V_U * x[2] * x[1]) / (SAWB_params_dict['K_U'] + x[1])) - (SAWB_params_dict['r_M'] + SAWB_params_dict['r_E']) * x[2]\n",
    "    EEC = SAWB_params_dict['r_E'] * x[2] - SAWB_params_dict['r_L'] * x[3]\n",
    "    return np.array([SOC, DOC, MBC, EEC])\n",
    "\n",
    "def beta_SAWB_C(x, SAWB_C_params_dict):\n",
    "    b11 = SAWB_C_params_dict['c_SOC']\n",
    "    b22 = SAWB_C_params_dict['c_DOC']\n",
    "    b33 = SAWB_C_params_dict['c_MBC']\n",
    "    b44 = SAWB_C_params_dict['c_EEC']\n",
    "    return np.diag([b11, b22, b33, b44])\n",
    "\n",
    "def beta_SAWB_SS(x, SAWB_SS_params_dict):\n",
    "    b11 = SAWB_SS_params_dict['s_SOC'] * x[0]\n",
    "    b22 = SAWB_SS_params_dict['s_DOC'] * x[1]\n",
    "    b33 = SAWB_SS_params_dict['s_MBC'] * x[2]\n",
    "    b44 = SAWB_SS_params_dict['s_EEC'] * x[3]\n",
    "    return np.diag([b11, b22, b33, b44])\n",
    "\n",
    "def alpha_SAWB_ECA(x, SAWB_ECA_params_dict, I_S, I_D, current_temp, temp_ref, arrhenius_temp, linear_temp):\n",
    "    #Force temperature-dependent parameters.\n",
    "    u_Q = linear_temp(SAWB_ECA_params_dict['u_Q_ref'], current_temp, SAWB_ECA_params_dict['Q'], temp_ref)\n",
    "    V_DE = arrhenius_temp(SAWB_ECA_params_dict['V_DE_ref'], current_temp, SAWB_ECA_params_dict['Ea_V_DE'], temp_ref)\n",
    "    V_UE = arrhenius_temp(SAWB_ECA_params_dict['V_UE_ref'], current_temp, SAWB_ECA_params_dict['Ea_V_UE'], temp_ref)\n",
    "    #Evolve drift.\n",
    "    SOC = I_S + SAWB_ECA_params_dict['a_MSA'] * SAWB_ECA_params_dict['r_M'] * x[2] - ((V_DE * x[3] * x[0]) / (SAWB_ECA_params_dict['K_DE'] + x[3] + x[0]))\n",
    "    DOC = I_D + (1 - SAWB_ECA_params_dict['a_MSA']) * SAWB_ECA_params_dict['r_M'] * x[2] + ((V_DE * x[3] * x[0]) / (SAWB_ECA_params_dict['K_DE'] + x[3] + x[0])) + SAWB_ECA_params_dict['r_L'] * x[3] - ((V_UE * x[2] * x[1]) / (SAWB_ECA_params_dict['K_UE'] + x[2] + x[1]))\n",
    "    MBC = (u_Q * (V_UE * x[2] * x[1]) / (SAWB_ECA_params_dict['K_UE'] + x[2] + x[1])) - (SAWB_ECA_params_dict['r_M'] + SAWB_ECA_params_dict['r_E']) * x[2]\n",
    "    EEC = SAWB_ECA_params_dict['r_E'] * x[2] - SAWB_ECA_params_dict['r_L'] * x[3]\n",
    "    return np.array([SOC, DOC, MBC, EEC])\n",
    "\n",
    "def beta_SAWB_ECA_C(x, SAWB_ECA_C_params_dict):\n",
    "    b11 = SAWB_ECA_C_params_dict['c_SOC']\n",
    "    b22 = SAWB_ECA_C_params_dict['c_DOC']\n",
    "    b33 = SAWB_ECA_C_params_dict['c_MBC']\n",
    "    b44 = SAWB_ECA_C_params_dict['c_EEC']\n",
    "    return np.diag([b11, b22, b33, b44])\n",
    "\n",
    "def beta_SAWB_ECA_SS(x, SAWB_ECA_SS_params_dict):\n",
    "    b11 = SAWB_ECA_SS_params_dict['s_SOC'] * x[0]\n",
    "    b22 = SAWB_ECA_SS_params_dict['s_DOC'] * x[1]\n",
    "    b33 = SAWB_ECA_SS_params_dict['s_MBC'] * x[2]\n",
    "    b44 = SAWB_ECA_SS_params_dict['s_EEC'] * x[3]\n",
    "    return np.diag([b11, b22, b33, b44])\n",
    "    \n",
    "def get_SBM_SDE_euler_maruyama_y(ALPHA, BETA, X0, T, DT, THETA_DICT, I_S_FUNC, I_D_FUNC, TEMP_FUNC, OBS_EVERY, OBS_ERROR_SCALE, model_fam, lower_bound = 1e-4):\n",
    "    state_dim = 0\n",
    "    if model_fam == 'SCON':\n",
    "        state_dim = 3\n",
    "    elif model_fam == 'SAWB':\n",
    "        state_dim = 4\n",
    "    N = int(T / DT) + 1\n",
    "    M = int(T / OBS_EVERY) + 1\n",
    "    x = np.zeros([state_dim, N])\n",
    "    X0_array = np.array(X0)\n",
    "    X0_sample = np.random.normal(loc = X0_array, scale = OBS_ERROR_SCALE * X0_array) #Add noise to initial conditions of x.\n",
    "    X0_sample[X0_sample < lower_bound] = lower_bound #Bound initial conditions above 0. \n",
    "    print('X0_sample = ', X0_sample)\n",
    "    x[:, 0] = X0_sample\n",
    "    hour = 0\n",
    "    for i in range(1, N):\n",
    "        I_S = I_S_FUNC(hour)\n",
    "        #print('I_S', I_S)\n",
    "        I_D = I_D_FUNC(hour)\n",
    "        #print('I_D', I_D)\n",
    "        current_temp = TEMP_FUNC(hour, temp_ref, temp_rise)\n",
    "        #print('current_temp', current_temp)\n",
    "        #Take Euler-Maruyama step. Note: np.random.normal takes std while np.random.multivariate_normal takes cov.\n",
    "        x[:, i] = np.random.multivariate_normal(mean = x[:, i - 1] + ALPHA(x[:, i - 1], THETA_DICT, I_S, I_D, current_temp, temp_ref, arrhenius_temp, linear_temp) * DT, cov = BETA(x[:, i - 1], THETA_DICT) * DT)\n",
    "        x[:, i][x[:, i] < lower_bound] = lower_bound #Bound all x above 0.\n",
    "        #print('x at i', x[:, i])\n",
    "        hour += DT\n",
    "        #print('hour', hour)\n",
    "    x_for_y = x[:, 0::int(OBS_EVERY / DT)] #Slice x based on observation interval to generate y.\n",
    "    obs_var_scale = OBS_ERROR_SCALE * x_for_y.mean(1)\n",
    "    y = x_for_y + obs_var_scale[:, np.newaxis] * np.random.normal(loc = 0, scale = 1, size = x_for_y.shape) #Introduce observation error based on mean state sizes to generate y.\n",
    "    y[y < lower_bound] = lower_bound #Bound all y above 0.\n",
    "    return {'y': y, 't_y': np.arange(0, T + DT, OBS_EVERY), 'x': x, 'y_std': obs_var_scale, 'x': x, 't_x': np.arange(0, T + DT, DT)}\n",
    "\n",
    "def get_SBM_SDE_euler_maruyama_y_det(ALPHA, X0, T, DT, THETA_DICT, I_S_FUNC, I_D_FUNC, TEMP_FUNC, OBS_EVERY, OBS_ERROR_SCALE, model_fam, lower_bound = 1e-4):\n",
    "    state_dim = 0\n",
    "    if model_fam == 'SCON':\n",
    "        state_dim = 3\n",
    "    elif model_fam == 'SAWB':\n",
    "        state_dim = 4\n",
    "    N = int(T / DT) + 1\n",
    "    M = int(T / OBS_EVERY) + 1\n",
    "    x = np.zeros([state_dim, N])\n",
    "    X0_array = np.array(X0)\n",
    "    X0_sample = np.random.normal(loc = X0_array, scale = OBS_ERROR_SCALE * X0_array) #Add noise to initial conditions of x.\n",
    "    X0_sample[X0_sample < lower_bound] = lower_bound #Bound initial conditions above 0. \n",
    "    print('X0_sample = ', X0_sample)\n",
    "    x[:, 0] = X0_sample \n",
    "    hour = 0\n",
    "    for i in range(1, N):\n",
    "        I_S = I_S_FUNC(hour)\n",
    "        #print('I_S', I_S)\n",
    "        I_D = I_D_FUNC(hour)\n",
    "        #print('I_D', I_D)\n",
    "        current_temp = TEMP_FUNC(hour, temp_ref, temp_rise)\n",
    "        #print('current_temp', current_temp)\n",
    "        #Take Euler.\n",
    "        x[:, i] = x[:, i - 1] + ALPHA(x[:, i - 1], THETA_DICT, I_S, I_D, current_temp, temp_ref, arrhenius_temp, linear_temp) * DT\n",
    "        x[:, i][x[:, i] < lower_bound] = lower_bound #Bound all x above 0.\n",
    "        #print('x at i', x[:, i])\n",
    "        hour += DT\n",
    "        #print('hour', hour)\n",
    "    x_for_y = x[:, 0::int(OBS_EVERY / DT)] #Slice x based on observation interval to generate y.\n",
    "    obs_var_scale = OBS_ERROR_SCALE * x_for_y.mean(1)\n",
    "    y = x_for_y + obs_var_scale[:, np.newaxis] * np.random.normal(loc = 0, scale = 1, size = x_for_y.shape) #Introduce observation error based on mean state sizes to generate y.\n",
    "    y[y < lower_bound] = lower_bound #Bound all y above 0.\n",
    "    return {'y': y, 't_y': np.arange(0, T + DT, OBS_EVERY), 'x': x, 'y_std': obs_var_scale, 'x': x, 't_x': np.arange(0, T + DT, DT)}"
   ]
  },
  {
   "cell_type": "code",
   "execution_count": 9,
   "metadata": {},
   "outputs": [],
   "source": [
    "dt = 0.01\n",
    "t = 1000\n",
    "x0_SCON = [65, 0.4, 2.5]\n",
    "obs_every = 5\n",
    "obs_error_scale = 0.1"
   ]
  },
  {
   "cell_type": "code",
   "execution_count": 10,
   "metadata": {},
   "outputs": [
    {
     "name": "stdout",
     "output_type": "stream",
     "text": [
      "X0_sample =  [76.46634025  0.41600629  2.7446845 ]\n"
     ]
    }
   ],
   "source": [
    "y_dict = get_SBM_SDE_euler_maruyama_y(alpha_SCONR, beta_SCON_C, x0_SCON, t, dt, SCONR_C_params_dict, I_S_func, I_D_func, temp_func, obs_every, obs_error_scale, 'SCON')"
   ]
  },
  {
   "cell_type": "code",
   "execution_count": 11,
   "metadata": {},
   "outputs": [
    {
     "data": {
      "text/plain": [
       "<matplotlib.collections.PathCollection at 0x12dfb2fa0>"
      ]
     },
     "execution_count": 11,
     "metadata": {},
     "output_type": "execute_result"
    },
    {
     "data": {
      "image/png": "[encoded data removed]",
      "text/plain": [
       "<Figure size 432x288 with 3 Axes>"
      ]
     },
     "metadata": {
      "needs_background": "light"
     },
     "output_type": "display_data"
    }
   ],
   "source": [
    "fig, axs = plt.subplots(3)\n",
    "axs[0].plot(y_dict['t_x'], y_dict['x'][0, :], color = \"m\", label = 'SOC x')\n",
    "axs[0].scatter(y_dict['t_y'], y_dict['y'][0, :], color = \"m\", alpha = 0.3, label = 'SOC y')\n",
    "axs[1].plot(y_dict['t_x'], y_dict['x'][1, :], color = \"c\", label = 'DOC x')\n",
    "axs[1].scatter(y_dict['t_y'], y_dict['y'][1, :], color = \"c\", alpha = 0.3, label = 'DOC y')\n",
    "axs[2].plot(y_dict['t_x'], y_dict['x'][2, :], color = \"g\", label = 'MBC x')\n",
    "axs[2].scatter(y_dict['t_y'], y_dict['y'][2, :], color = \"g\", alpha = 0.3, label = 'MBC y')"
   ]
  },
  {
   "cell_type": "code",
   "execution_count": 12,
   "metadata": {},
   "outputs": [],
   "source": [
    "sbm_model = 'SCONR_C_fix_k'\n",
    "save_string = f'{sbm_model}_logit_alt_sample_y_t_{t}_dt_{dt}_sd_scale_{prior_scale_factor}'.replace('.','-')\n",
    "fig.savefig(save_string + '.png', dpi = 300)"
   ]
  },
  {
   "cell_type": "code",
   "execution_count": 13,
   "metadata": {},
   "outputs": [],
   "source": [
    "#Save CSV of stochastic path.\n",
    "df_y = pd.DataFrame(data = {'hour': y_dict['t_y'], 'SOC': y_dict['y'][0, :], 'DOC': y_dict['y'][1, :], 'MBC': y_dict['y'][2, :]})\n",
    "df_y.to_csv(save_string + '.csv', index = False)"
   ]
  },
  {
   "cell_type": "code",
   "execution_count": 14,
   "metadata": {},
   "outputs": [],
   "source": [
    "#Save rsampled theta values.\n",
    "torch.save(SCONR_C_params_dict, save_string + '_rsample.pt') "
   ]
  },
  {
   "cell_type": "code",
   "execution_count": 15,
   "metadata": {},
   "outputs": [
    {
     "name": "stdout",
     "output_type": "stream",
     "text": [
      "       hour        SOC       DOC       MBC\n",
      "0       0.0  85.328299  0.386663  3.333311\n",
      "1       5.0  74.339509  0.412193  2.310383\n",
      "2      10.0  80.030783  0.727213  2.184335\n",
      "3      15.0  81.566036  0.493824  2.723987\n",
      "4      20.0  81.435650  0.298534  3.002020\n",
      "..      ...        ...       ...       ...\n",
      "196   980.0  53.439463  3.055323  2.547529\n",
      "197   985.0  48.725009  3.458085  2.814337\n",
      "198   990.0  47.922995  3.709995  3.092795\n",
      "199   995.0  48.628122  4.168848  3.034787\n",
      "200  1000.0  41.871226  3.494908  2.849612\n",
      "\n",
      "[201 rows x 4 columns]\n"
     ]
    }
   ],
   "source": [
    "print(df_y)"
   ]
  },
  {
   "cell_type": "code",
   "execution_count": 16,
   "metadata": {},
   "outputs": [
    {
     "name": "stdout",
     "output_type": "stream",
     "text": [
      "X0_sample =  [67.44071298  0.36982229  2.27055357]\n"
     ]
    }
   ],
   "source": [
    "y_det_dict = get_SBM_SDE_euler_maruyama_y_det(alpha_SCONR, x0_SCON, t, dt, SCONR_C_params_dict, I_S_func, I_D_func, temp_func, obs_every, obs_error_scale, 'SCON')"
   ]
  },
  {
   "cell_type": "code",
   "execution_count": 17,
   "metadata": {},
   "outputs": [
    {
     "data": {
      "text/plain": [
       "<matplotlib.collections.PathCollection at 0x12e1a6bb0>"
      ]
     },
     "execution_count": 17,
     "metadata": {},
     "output_type": "execute_result"
    },
    {
     "data": {
      "image/png": "[encoded data removed]",
      "text/plain": [
       "<Figure size 432x288 with 3 Axes>"
      ]
     },
     "metadata": {
      "needs_background": "light"
     },
     "output_type": "display_data"
    }
   ],
   "source": [
    "fig2, axs2 = plt.subplots(3)\n",
    "axs2[0].plot(y_det_dict['t_x'], y_det_dict['x'][0, :], color = \"m\", label = 'SOC x')\n",
    "axs2[0].scatter(y_det_dict['t_y'], y_det_dict['y'][0, :], color = \"m\", alpha = 0.3, label = 'SOC y')\n",
    "axs2[1].plot(y_det_dict['t_x'], y_det_dict['x'][1, :], color = \"c\", label = 'DOC x')\n",
    "axs2[1].scatter(y_det_dict['t_y'], y_det_dict['y'][1, :], color = \"c\", alpha = 0.3, label = 'DOC y')\n",
    "axs2[2].plot(y_det_dict['t_x'], y_det_dict['x'][2, :], color = \"g\", label = 'MBC x')\n",
    "axs2[2].scatter(y_det_dict['t_y'], y_det_dict['y'][2, :], color = \"g\", alpha = 0.3, label = 'MBC y')"
   ]
  },
  {
   "cell_type": "code",
   "execution_count": null,
   "metadata": {},
   "outputs": [],
   "source": [
    "save_string_det = f'{sbm_model}_logit_alt_sample_det_y_t_{t}_dt_{dt}_sd_scale_{prior_scale_factor}'.replace('.','-')\n",
    "fig2.savefig(save_string_det + '.png', dpi = 300)"
   ]
  },
  {
   "cell_type": "code",
   "execution_count": null,
   "metadata": {},
   "outputs": [],
   "source": [
    "df_y_det = pd.DataFrame(data = {'hour': y_det_dict['t_y'], 'SOC': y_det_dict['y'][0, :], 'DOC': y_det_dict['y'][1, :], 'MBC': y_det_dict['y'][2, :]})\n",
    "df_y_det.to_csv(save_string_det + '.csv', index = False)"
   ]
  },
  {
   "cell_type": "code",
   "execution_count": null,
   "metadata": {},
   "outputs": [],
   "source": [
    "print(df_y_det)"
   ]
  },
  {
   "cell_type": "code",
   "execution_count": null,
   "metadata": {},
   "outputs": [],
   "source": []
  }
 ],
 "metadata": {
  "kernelspec": {
   "display_name": "Python 3",
   "language": "python",
   "name": "python3"
  },
  "language_info": {
   "codemirror_mode": {
    "name": "ipython",
    "version": 3
   },
   "file_extension": ".py",
   "mimetype": "text/x-python",
   "name": "python",
   "nbconvert_exporter": "python",
   "pygments_lexer": "ipython3",
   "version": "3.9.5"
  }
 },
 "nbformat": 4,
 "nbformat_minor": 4
}
