{
 "cells": [
  {
   "cell_type": "code",
   "execution_count": 1,
   "metadata": {},
   "outputs": [],
   "source": [
    "import torch\n",
    "from torch import distributions as torch_D\n",
    "from torch.distributions import constraints\n",
    "from matplotlib import pyplot as plt\n",
    "from matplotlib import cm\n",
    "\n",
    "import pyro\n",
    "from pyro import distributions as pyro_D\n",
    "\n",
    "import time"
   ]
  },
  {
   "cell_type": "code",
   "execution_count": 2,
   "metadata": {},
   "outputs": [],
   "source": [
    "# Hack to import from a parent directory\n",
    "import sys\n",
    "path = '..'\n",
    "if path not in sys.path:\n",
    "    sys.path.append(path)\n",
    "\n",
    "from LogitNormal import *"
   ]
  },
  {
   "cell_type": "markdown",
   "metadata": {},
   "source": [
    "## Logit normal distribution\n",
    "\n",
    "The pdf of the (scaled) logit normal distribution with location $\\mu$, scale $\\sigma$, and scaling bounds $a$ and $b$, for $x \\in (a, b)$ is:\n",
    "$$\n",
    "p(x; \\mu, \\sigma, a, b) = \\phi \\left( \\text{logit}\\left(\\frac{x-a}{b-a}\\right); \\mu, \\sigma^2 \\right)\n",
    "    \\frac{b-a}{(x-a)(b-x)}\n",
    "$$\n",
    "\n",
    "where $\\phi(\\cdot; \\mu, \\sigma^2)$ is the pdf of the normal distribution with mean $\\mu$ and variance $\\sigma^2$.\n",
    "\n",
    "The location parameter $\\mu$ and the scale parameter $\\sigma$ are the mean and standard deviation of the parent normal distribution, **not** those of the resulting logit normal distribution."
   ]
  },
  {
   "cell_type": "markdown",
   "metadata": {},
   "source": [
    "## Multivariate logit normal distribution\n",
    "\n",
    "Given location vector $\\mu \\in \\mathbb{R}^n$, positive definite (parent) covariance matrix $\\Sigma \\in \\mathbb{R}^{n \\times n}$, and scaling bounds $a \\in \\mathbb{R}^n$ and $b \\in \\mathbb{R}^n$, the $n$-dimensional random vector $x$ is a multivariate logit normal distribution (with independent scaling $x_i \\in (a_i, b_i)$ for $i=1, ..., n$) if:\n",
    "\n",
    "$$p(x; \\mu, \\Sigma, a, b) = \\Phi(\\tilde{x}; \\mu, \\Sigma) \\prod_i \\frac{b_i-a_i}{(x_i-a_i)(b_i-x_i)}$$\n",
    "\n",
    "where $\\tilde{x} = \\left[ \\text{logit}\\left(\\frac{x_1-a_1}{b_1-a_1}\\right), ..., \\text{logit}\\left(\\frac{x_n-a_n}{b_n-a_n}\\right) \\right]$ and $\\Phi(\\cdot; \\mu, \\Sigma)$ is the pdf of the multivariate normal distribution with mean vector $\\mu$ and covariance matrix $\\Sigma$.\n",
    "\n",
    "With reparameterized sampling `rsample` from the multivariate normal distribution already implemented in PyTorch, all we have to do is:\n",
    "- $x' \\sim$ `MultivariateNormal.rsample` $(\\mu, \\Sigma)$\n",
    "- $x_i = (b_i-a_i)\\text{sigmoid}(x_i') + a_i$\n",
    "\n",
    "Is the marginal distribution of $x_i$ a logit normal distribution with location $\\mu_i$ and scale $\\sqrt{\\Sigma_{ii}}$?\n",
    "$$\n",
    "p(x_i; \\mu, \\Sigma, a, b) = \\phi \\left( \\text{logit}\\left(\\frac{x_i-a_i}{b_i-a_i}\\right); \\mu_i, \\Sigma_{ii} \\right)\n",
    "    \\frac{b_i-a_i}{(x_i-a_i)(b_i-x_i)}\n",
    "$$\n",
    "We will verify this using simple Monte Carlo sampling."
   ]
  },
  {
   "cell_type": "markdown",
   "metadata": {},
   "source": [
    "## Toy model\n",
    "\n",
    "Let $x \\sim \\text{MultivariateNormal}(\\mu_x, \\Sigma_x)$. Given fixed $x, \\mu_\\theta, \\Sigma_\\theta, a, b$, the generative process of our toy model is:\n",
    "- $\\theta \\sim \\text{MultivariateLogitNormal}(\\mu_\\theta, \\Sigma_\\theta, a, b)$\n",
    "- $y_i \\sim \\text{Bernoulli}(\\sigma(\\theta^T x_i + \\theta_0)), i = 1, ..., N$\n",
    "\n",
    "where $\\sigma(\\cdot)$ denotes the sigmoid function.\n",
    "\n",
    "Let $\\phi=(\\hat{\\mu}, \\hat{L})$ be the variational parameter. We infer approximate posterior $q_\\phi(\\theta)=\\text{MultivariateLogitNormal}(\\hat{\\mu}, \\hat{L}\\hat{L}^T, a, b)$ by finding $\\phi$ that minimizes our loss:\n",
    "$$\n",
    "\\mathcal{L} = E_{q_\\phi(\\theta)}\\left[\\log p(\\theta) + \\log p(y|\\theta) - \\log q(\\theta)\\right]\n",
    "$$"
   ]
  },
  {
   "cell_type": "markdown",
   "metadata": {},
   "source": [
    "Gradient wrt variational parameter $\\phi$:\n",
    "$$\n",
    "\\nabla_\\phi \\mathcal{L} \\approx -\\frac{1}{S} \\sum_s \\nabla_\\phi \\left[\n",
    "    \\log p(g_\\phi(\\epsilon^{(s)})) + \\log p(y|g_\\phi(\\epsilon^{(s)})) - \\log q(g_\\phi(\\epsilon^{(s)}))\n",
    "    \\right]\n",
    "$$\n",
    "\n",
    "where $\\epsilon^{(s)} \\sim \\text{MultivariateNormal}(0, I)$ and $g_\\phi(\\epsilon)=(b-a) \\odot \\sigma(\\hat{\\mu}+\\hat{L}\\epsilon)+a$, with $\\odot$ to denote elementwise multiplication."
   ]
  },
  {
   "cell_type": "markdown",
   "metadata": {},
   "source": [
    "**Implementation note:** The covariance matrix $\\Sigma$ of the multivariate normal in PyTorch is parameterized in terms of a lower-triangular matrix $L$ with positive-valued diagonal entries, such that $\\Sigma = LL^T$. In practice, we optimize the unconstrained transformation of $L$. The following code shows how the mapping is done back and forth:\n",
    "```\n",
    "def to_constrained(self, x):\n",
    "    # Takes unconstrained square matrix x and returns L, s.t. Sigma = LL^T\n",
    "    return x.tril(-1) + x.diagonal(dim1=-2, dim2=-1).exp().diag_embed()\n",
    "\n",
    "def to_unconstrained(self, y):\n",
    "    return y.tril(-1) + y.diagonal(dim1=-2, dim2=-1).log().diag_embed()\n",
    "```"
   ]
  },
  {
   "cell_type": "markdown",
   "metadata": {},
   "source": [
    "Pseudocode:\n",
    "- for each iteration $n=1, ..., N$:\n",
    "  - for each sample $s=1, ..., S$: $\\theta^{(s)} \\sim q(\\theta)$\n",
    "  - `loss` $= -\\frac{1}{S} \\sum_s \\left[\\log p(\\theta^{(s)}) + \\log p(y|\\theta^{(s)}) - \\log q(\\theta^{(s)})\\right]$ \n",
    "  - `loss.backward()`"
   ]
  },
  {
   "cell_type": "markdown",
   "metadata": {},
   "source": [
    "### Generate data\n",
    "As a first trial, let's consider $D=3, N = 20$ and independent priors."
   ]
  },
  {
   "cell_type": "code",
   "execution_count": 3,
   "metadata": {},
   "outputs": [],
   "source": [
    "def generate_data(N, mu_x, sigma_x, mu_theta, sigma_theta, a_theta, b_theta):\n",
    "    torch.manual_seed(0)\n",
    "    \n",
    "    # Sample x\n",
    "    x_dist = torch_D.multivariate_normal.MultivariateNormal(mu_x, sigma_x)\n",
    "    x = x_dist.sample((N, )) # (N, D)\n",
    "    \n",
    "    # Concat with 1 for bias term\n",
    "    x_cat = torch.cat((torch.ones((N, 1)), x), 1) # (N, D+1)\n",
    "    \n",
    "    # Sample theta\n",
    "    theta_dist = MultivariateLogitNormal(mu_theta, sigma_theta, a=a_theta, b=b_theta)\n",
    "    theta = theta_dist.sample() # (D+1, ) including bias term\n",
    "    \n",
    "    # Sample y\n",
    "    p = torch.sigmoid(x_cat @ theta)\n",
    "    y_dist = torch_D.bernoulli.Bernoulli(p)\n",
    "    y = y_dist.sample() # (N, )\n",
    "    \n",
    "    return x_cat, y, theta_dist, theta"
   ]
  },
  {
   "cell_type": "code",
   "execution_count": 4,
   "metadata": {},
   "outputs": [
    {
     "data": {
      "text/plain": [
       "(tensor([0., 1., 1., 0., 1., 1., 1., 0., 1., 1., 1., 1., 1., 1., 1., 1., 0., 1.,\n",
       "         1., 1., 0., 1., 1., 1., 0., 1., 1., 1., 1., 1., 0., 0., 1., 1., 1., 1.,\n",
       "         1., 0., 1., 1., 1., 1., 1., 1., 1., 1., 1., 0., 1., 1.]),\n",
       " tensor(0.8000))"
      ]
     },
     "execution_count": 4,
     "metadata": {},
     "output_type": "execute_result"
    }
   ],
   "source": [
    "N, D = 50, 3\n",
    "mu_x = torch.tensor([0., -5., 10.])\n",
    "sigma_x = torch.eye(D)\n",
    "mu_theta = torch.tensor([-2., 0., -0.2, 1.]) # (bias, theta1, theta2, theta3)\n",
    "sigma_theta = torch.diag(torch.tensor([1, 1, 0.2, 1]))\n",
    "a_theta = torch.tensor([-10, 0, -10, -10])\n",
    "b_theta = torch.tensor([10, 100, 20, 10])\n",
    "\n",
    "x, y, p_theta, theta = generate_data(N, mu_x, sigma_x, mu_theta, sigma_theta, a_theta, b_theta)\n",
    "y, y.mean()"
   ]
  },
  {
   "cell_type": "code",
   "execution_count": null,
   "metadata": {},
   "outputs": [],
   "source": [
    "p_theta.scale_tril"
   ]
  },
  {
   "cell_type": "code",
   "execution_count": null,
   "metadata": {},
   "outputs": [],
   "source": []
  },
  {
   "cell_type": "code",
   "execution_count": null,
   "metadata": {},
   "outputs": [],
   "source": [
    "def verify_marginal(p_theta, num_pts=100000, num_samples=100000, bins=100, eps=1e-5):\n",
    "    a, b = p_theta.a, p_theta.b\n",
    "    theta_range = torch.from_numpy(np.linspace(a + eps, b - eps, num_pts)).float()\n",
    "    \n",
    "    # Compute analytical marginal pdf\n",
    "    scale = torch.diag(p_theta.covariance_matrix).sqrt()\n",
    "    marg_dist = RescaledLogitNormal(p_theta.loc, scale, a=a, b=b)\n",
    "    marg_probs = torch.exp(marg_dist.log_prob(theta_range)).detach()\n",
    "    approx_int = marg_probs.sum(0) * (b - a) / num_pts\n",
    "    assert torch.all(torch.isclose(torch.ones([]), approx_int))\n",
    "    \n",
    "    # Plot analytical vs empirical marginals\n",
    "    D = len(p_theta.loc)\n",
    "    fig, axes = plt.subplots(1, D+1, figsize=(4*(D+1), 4))\n",
    "    \n",
    "    assert isinstance(p_theta, MultivariateLogitNormal)\n",
    "    samples = p_theta.sample((num_samples, ))\n",
    "    for i, ax in enumerate(axes):\n",
    "        if i < D:\n",
    "            ax.hist(np.array(samples[:, i]), bins=bins, density=True, label='Sample marginal', color='tab:blue', alpha=0.5)\n",
    "            ax.plot(theta_range[:, i], marg_probs[:, i], label='Marginal $p(\\\\theta_d)$', color='tab:blue', linewidth=2)\n",
    "        else:\n",
    "            handles, labels = axes[0].get_legend_handles_labels()\n",
    "            ax.legend(handles, labels, loc='center')\n",
    "            ax.axis('off')\n",
    "            \n",
    "    plt.tight_layout()\n",
    "            \n",
    "verify_marginal(p_theta)"
   ]
  },
  {
   "cell_type": "markdown",
   "metadata": {},
   "source": [
    "### Inference"
   ]
  },
  {
   "cell_type": "code",
   "execution_count": 9,
   "metadata": {},
   "outputs": [],
   "source": [
    "class VariationalPosterior(nn.Module):\n",
    "    def __init__(self, init_loc, init_scale, lower_bounds, upper_bounds, mean_field=False):\n",
    "        super().__init__()\n",
    "        if mean_field:\n",
    "            self.dist = RescaledLogitNormal\n",
    "            scale_constraint = self.dist.arg_constraints['scale']\n",
    "            unconstrained_scale = torch_D.transform_to(scale_constraint).inv(torch.diag(1.0 * init_scale))\n",
    "            #unconstrained_scale = 1.0 * torch.diag(init_scale)\n",
    "            #print(unconstrained_scale)\n",
    "        else:\n",
    "            self.dist = MultivariateLogitNormal\n",
    "            scale_constraint = self.dist.arg_constraints['scale_tril']\n",
    "            unconstrained_scale = torch_D.transform_to(scale_constraint).inv(1.0 * init_scale)\n",
    "            \n",
    "        self.loc = nn.Parameter(1.0 * init_loc) # (D, )\n",
    "        self.unconstrained_scale = nn.Parameter(unconstrained_scale) # (D, ) if mean_field else (D, D)\n",
    "        self.lower = lower_bounds\n",
    "        self.upper = upper_bounds\n",
    "        self.mean_field = mean_field\n",
    "\n",
    "    def forward(self, N=10):\n",
    "        # Update posterior\n",
    "        parent_loc = self.loc        \n",
    "        if self.mean_field:\n",
    "            parent_scale = torch_D.transform_to(self.dist.arg_constraints['scale'])(self.unconstrained_scale)\n",
    "            #print(parent_scale)\n",
    "            q_dist = self.dist(parent_loc, scale=parent_scale, a = self.lower, b = self.upper)\n",
    "        else:\n",
    "            parent_scale = torch_D.transform_to(self.dist.arg_constraints['scale_tril'])(self.unconstrained_scale)\n",
    "            q_dist = self.dist(parent_loc, scale_tril=parent_scale, a = self.lower, b = self.upper)\n",
    "\n",
    "        # Sample theta ~ q(theta).\n",
    "        samples = q_dist.rsample((N, )) # (N, num_params)\n",
    "        #print(samples)\n",
    "        \n",
    "        # Evaluate log prob of theta samples.\n",
    "        if self.mean_field:\n",
    "            log_q_theta = torch.sum(q_dist.log_prob(samples), -1) # (N, )\n",
    "            #print('log_post', log_q_theta, q_dist.log_prob(samples))\n",
    "        else:\n",
    "            log_q_theta = q_dist.log_prob(samples) # (N, )\n",
    "            #print('log_post', log_q_theta)\n",
    "        \n",
    "        return samples, log_q_theta"
   ]
  },
  {
   "cell_type": "code",
   "execution_count": 10,
   "metadata": {},
   "outputs": [],
   "source": [
    "def train(x, y, p_theta, lr, num_iters, batch_size=10, print_every=10, mean_field=False):\n",
    "    torch.manual_seed(0)\n",
    "    \n",
    "    # Initialize variational parameters with prior parameter values\n",
    "    q_theta = VariationalPosterior(p_theta.loc, p_theta.scale_tril, p_theta.a, p_theta.b, mean_field=mean_field)\n",
    "    \n",
    "    # Initialize optimizer\n",
    "    optimizer = torch.optim.Adam(q_theta.parameters(), lr=lr)\n",
    "    #optimizer = torch.optim.Adagrad(q_theta.parameters(), lr=lr)\n",
    "    \n",
    "    # Initialize lists to record loss and time hist\n",
    "    t0 = time.time()\n",
    "    loss_hist = []\n",
    "    time_hist = [0]\n",
    "    \n",
    "    # Do inference\n",
    "    N, D = x.shape\n",
    "    for i in range(num_iters + 1):\n",
    "        optimizer.zero_grad()\n",
    "        \n",
    "        # Sample theta and compute log q(theta)\n",
    "        theta, log_post = q_theta(batch_size)\n",
    "        assert theta.shape == (batch_size, D)\n",
    "        assert log_post.shape == (batch_size, )\n",
    "        \n",
    "        # Compute log p(theta)\n",
    "        log_prior = p_theta.log_prob(theta) # (batch_size, )\n",
    "        #print('log_prior', log_prior)\n",
    "        #print('test prior', p_theta.log_prob(torch.tensor([-2.2556, 42.7165, -2.9181,  6.5512])))\n",
    "        assert log_prior.shape == (batch_size, )\n",
    "        \n",
    "        # Compute log p(y|theta; x)\n",
    "        p_y = torch_D.bernoulli.Bernoulli(torch.sigmoid(theta @ x.T)) # p_y.probs.shape == (batch_size, N)\n",
    "        log_lik = p_y.log_prob(y.reshape((1, -1))).sum(-1) # (batch_size, N) -> (batch_size, )\n",
    "        #print(log_lik)\n",
    "        assert log_lik.shape == (batch_size, )\n",
    "        \n",
    "        # Compute (and record) negative ELBO: -(log p(theta) + log p(y|theta; x) - log q(theta)).mean()\n",
    "        loss = -log_prior.mean() - log_lik.mean() + log_post.mean()\n",
    "        loss_hist.append(loss)\n",
    "        if i%print_every == 0:\n",
    "            print('Iteration {} loss: {}'.format(i, loss))\n",
    "        \n",
    "        # Last iteration only computes final loss, but does not make another gradient step\n",
    "        if i < num_iters:\n",
    "            # Take a gradient step\n",
    "            loss.backward()\n",
    "            #torch.nn.utils.clip_grad_norm_(q_theta.parameters(), 3.0)\n",
    "            optimizer.step()\n",
    "            \n",
    "            # Record time\n",
    "            time_hist.append(time.time() - t0)\n",
    "        \n",
    "    assert len(loss_hist) == len(time_hist) == (num_iters + 1)\n",
    "    return q_theta, loss_hist, time_hist"
   ]
  },
  {
   "cell_type": "code",
   "execution_count": 12,
   "metadata": {},
   "outputs": [
    {
     "name": "stdout",
     "output_type": "stream",
     "text": [
      "Iteration 0 loss: 164.5594482421875\n",
      "Iteration 50 loss: 21.754741668701172\n",
      "Iteration 100 loss: 14.208433151245117\n",
      "Iteration 150 loss: 12.450258255004883\n",
      "Iteration 200 loss: 11.820634841918945\n",
      "Iteration 250 loss: 10.945945739746094\n",
      "Iteration 300 loss: 10.687045097351074\n",
      "Iteration 350 loss: 10.338996887207031\n",
      "Iteration 400 loss: 10.005005836486816\n",
      "Iteration 450 loss: 9.30113410949707\n",
      "Iteration 500 loss: 9.420284271240234\n"
     ]
    }
   ],
   "source": [
    "q_theta_raw, loss_hist, time_hist = train(x, y, p_theta, 0.05, 500, batch_size=100, print_every=50)"
   ]
  },
  {
   "cell_type": "code",
   "execution_count": 14,
   "metadata": {},
   "outputs": [
    {
     "name": "stdout",
     "output_type": "stream",
     "text": [
      "Iteration 0 loss: 164.5594482421875\n",
      "Iteration 50 loss: 23.42164421081543\n",
      "Iteration 100 loss: 17.166706085205078\n",
      "Iteration 150 loss: 15.591561317443848\n",
      "Iteration 200 loss: 14.56497573852539\n",
      "Iteration 250 loss: 14.360965728759766\n",
      "Iteration 300 loss: 13.743667602539062\n",
      "Iteration 350 loss: 12.913688659667969\n",
      "Iteration 400 loss: 13.208775520324707\n",
      "Iteration 450 loss: 13.324016571044922\n",
      "Iteration 500 loss: 12.751117706298828\n"
     ]
    }
   ],
   "source": [
    "q_theta_raw_mf, loss_hist_mf, time_hist_mf = train(x, y, p_theta, 0.05, 500, batch_size=100, print_every=50, mean_field=True)"
   ]
  },
  {
   "cell_type": "code",
   "execution_count": 15,
   "metadata": {},
   "outputs": [],
   "source": [
    "# Extracts the distribution from a MeanField object\n",
    "def extract_dist(q):\n",
    "    a, b = q.lower, q.upper\n",
    "    loc = q.loc\n",
    "    if q.mean_field:\n",
    "        scale = torch_D.transform_to(q.dist.arg_constraints['scale'])(q.unconstrained_scale)\n",
    "        return q.dist(loc, scale=scale, a=a, b=b)\n",
    "    else:\n",
    "        scale = torch_D.transform_to(q.dist.arg_constraints['scale_tril'])(q.unconstrained_scale)\n",
    "        return q.dist(loc, scale_tril=scale, a=a, b=b)\n",
    "\n",
    "q_theta = extract_dist(q_theta_raw)\n",
    "q_theta_mf = extract_dist(q_theta_raw_mf)"
   ]
  },
  {
   "cell_type": "code",
   "execution_count": null,
   "metadata": {},
   "outputs": [],
   "source": [
    "p_theta.covariance_matrix.sqrt()"
   ]
  },
  {
   "cell_type": "code",
   "execution_count": null,
   "metadata": {},
   "outputs": [],
   "source": [
    "theta = torch.tensor([[-2.2556, 42.7165, -2.9181,  6.5512], [-9.1250, 19.8039,  4.8529,  7.2543]])\n",
    "p_theta.log_prob(theta)"
   ]
  },
  {
   "cell_type": "code",
   "execution_count": null,
   "metadata": {},
   "outputs": [],
   "source": [
    "p_theta.sample((10, 5, 6 )).shape"
   ]
  },
  {
   "cell_type": "code",
   "execution_count": null,
   "metadata": {},
   "outputs": [],
   "source": [
    "p_theta_factor = RescaledLogitNormal(loc=p_theta.loc, scale=torch.diag(p_theta.scale_tril), a=p_theta.a, b=p_theta.b)"
   ]
  },
  {
   "cell_type": "code",
   "execution_count": null,
   "metadata": {},
   "outputs": [],
   "source": [
    "p_theta_factor.log_prob(theta).sum()"
   ]
  },
  {
   "cell_type": "markdown",
   "metadata": {},
   "source": [
    "### Pyro black-box VI comparison"
   ]
  },
  {
   "cell_type": "markdown",
   "metadata": {},
   "source": [
    "We can rewrite the generative process of the toy model as:\n",
    "- $\\hat{\\theta} \\sim \\text{MultivariateNormal}(\\mu_\\theta, \\Sigma_\\theta)$\n",
    "- $\\theta_d = (b_d-a_d) \\sigma(\\hat{\\theta}_d)+a_d, d=1, ..., D$\n",
    "- $y_i \\sim \\text{Bernoulli}(\\sigma(\\theta^Tx_i + \\theta_0)), i = 1, ..., N$\n",
    "\n",
    "with fixed $x, \\mu_\\theta, \\Sigma_\\theta, a, b$."
   ]
  },
  {
   "cell_type": "code",
   "execution_count": 16,
   "metadata": {},
   "outputs": [],
   "source": [
    "def model(x, y, mu_theta, sigma_theta, a, b, mean_field=False):\n",
    "    N, D = x.shape\n",
    "    if mean_field:\n",
    "        theta_axis = pyro.plate('theta_axis', D)\n",
    "        with theta_axis:\n",
    "            theta_hat = pyro.sample('theta_hat', pyro_D.Normal(mu_theta, scale=torch.diag(sigma_theta)))\n",
    "    else:\n",
    "        theta_hat = pyro.sample('theta_hat', pyro_D.MultivariateNormal(mu_theta, scale_tril=sigma_theta))\n",
    "    #print(theta_hat.shape)\n",
    "    theta = (b - a)*torch.sigmoid(theta_hat) + a\n",
    "        \n",
    "    data_axis = pyro.plate('data_axis', N)\n",
    "    with data_axis:\n",
    "        p_y = torch.sigmoid(theta @ x.T)\n",
    "        y = pyro.sample('labels', pyro_D.Bernoulli(probs=p_y), obs=y)"
   ]
  },
  {
   "cell_type": "code",
   "execution_count": 17,
   "metadata": {},
   "outputs": [],
   "source": [
    "def guide(x, y, mu_theta, sigma_theta, a, b, mean_field=False):\n",
    "    N, D = x.shape\n",
    "    mu_post = pyro.param('mu_post')\n",
    "    sigma_post = pyro.param('sigma_post') # scale if mean_field, scale_tril o/w\n",
    "        \n",
    "    if mean_field:\n",
    "        theta_axis = pyro.plate('theta_axis', D)\n",
    "        with theta_axis:\n",
    "            theta_hat = pyro.sample('theta_hat', pyro_D.Normal(mu_post, scale=sigma_post))\n",
    "    else:\n",
    "        pyro.sample('theta_hat', pyro_D.MultivariateNormal(mu_post, scale_tril=sigma_post))"
   ]
  },
  {
   "cell_type": "code",
   "execution_count": 18,
   "metadata": {},
   "outputs": [],
   "source": [
    "def init_params(init_mu, init_scale, mean_field=False):\n",
    "    pyro.clear_param_store()\n",
    "    pyro.param('mu_post', 1.0 * init_mu)\n",
    "    scale_constraint = constraints.positive if mean_field else constraints.lower_cholesky\n",
    "    init_scale = torch.diag(init_scale) if mean_field else init_scale\n",
    "    pyro.param('sigma_post', 1.0 * init_scale, constraint=scale_constraint)"
   ]
  },
  {
   "cell_type": "code",
   "execution_count": 21,
   "metadata": {},
   "outputs": [],
   "source": [
    "def train_pyro(x, y, p_theta, lr, num_iters, batch_size=10, print_every=10, mean_field=False):\n",
    "    torch.manual_seed(0)\n",
    "    \n",
    "    # Initialize variational parameters with prior parameter values\n",
    "    mu_theta, sigma_theta, a, b = p_theta.loc, p_theta.scale_tril, p_theta.a, p_theta.b\n",
    "    init_params(mu_theta, sigma_theta, mean_field=mean_field)\n",
    "    \n",
    "    # Initialize loss and optimizer\n",
    "    loss = pyro.infer.TraceGraph_ELBO(num_particles=batch_size)\n",
    "    optimizer = pyro.optim.Adam({'lr': lr})\n",
    "    #optimizer = pyro.optim.Adagrad({'lr': lr})\n",
    "    \n",
    "    # Initialize SVI\n",
    "    svi = pyro.infer.SVI(model=model,\n",
    "                         guide=guide,\n",
    "                         optim=optimizer,\n",
    "                         loss=loss)\n",
    "    \n",
    "    # Initialize lists to record loss and time hist\n",
    "    loss0 = svi.evaluate_loss(x, y, mu_theta, sigma_theta, a, b, mean_field=mean_field)\n",
    "    t0 = time.time()\n",
    "    loss_hist = [loss0]\n",
    "    time_hist = [0]\n",
    "    \n",
    "    # Do inference\n",
    "    N, D = x.shape\n",
    "    for i in range(num_iters):\n",
    "        # Take a gradient step\n",
    "        loss = svi.step(x, y, mu_theta, sigma_theta, a, b, mean_field=mean_field)\n",
    "        \n",
    "        # Record loss and time\n",
    "        loss_hist.append(loss)\n",
    "        time_hist.append(time.time() - t0)\n",
    "        if i%print_every == 0:\n",
    "            print('Iteration {} loss: {}'.format(i, loss))\n",
    "        \n",
    "    assert len(loss_hist) == len(time_hist) == (num_iters + 1)\n",
    "    return loss_hist, time_hist\n",
    "\n",
    "def extract_dist_pyro(p_theta, mean_field=False):\n",
    "    a, b = p_theta.a, p_theta.b\n",
    "    loc = pyro.param('mu_post')\n",
    "    scale = pyro.param('sigma_post')\n",
    "    if mean_field:\n",
    "        return RescaledLogitNormal(loc, scale=scale, a=a, b=b)\n",
    "    else:\n",
    "        return MultivariateLogitNormal(loc, scale_tril=scale, a=a, b=b)"
   ]
  },
  {
   "cell_type": "code",
   "execution_count": 24,
   "metadata": {},
   "outputs": [
    {
     "name": "stdout",
     "output_type": "stream",
     "text": [
      "Iteration 0 loss: 157.81039428710938\n",
      "Iteration 50 loss: 19.815410614013672\n",
      "Iteration 100 loss: 14.831766128540039\n",
      "Iteration 150 loss: 11.911046981811523\n",
      "Iteration 200 loss: 11.266104698181152\n",
      "Iteration 250 loss: 10.5167818069458\n",
      "Iteration 300 loss: 10.468271255493164\n",
      "Iteration 350 loss: 9.534181594848633\n",
      "Iteration 400 loss: 9.450614929199219\n",
      "Iteration 450 loss: 9.720503807067871\n"
     ]
    }
   ],
   "source": [
    "loss_hist_pyro, time_hist_pyro = train_pyro(x, y, p_theta, 0.05, 500, batch_size=100, print_every=50)\n",
    "q_theta_pyro = extract_dist_pyro(p_theta)"
   ]
  },
  {
   "cell_type": "code",
   "execution_count": 26,
   "metadata": {},
   "outputs": [
    {
     "name": "stdout",
     "output_type": "stream",
     "text": [
      "Iteration 0 loss: 157.81039428710938\n",
      "Iteration 50 loss: 23.433059692382812\n",
      "Iteration 100 loss: 16.868452072143555\n",
      "Iteration 150 loss: 15.738264083862305\n",
      "Iteration 200 loss: 14.821150779724121\n",
      "Iteration 250 loss: 14.268665313720703\n",
      "Iteration 300 loss: 13.839380264282227\n",
      "Iteration 350 loss: 13.447875022888184\n",
      "Iteration 400 loss: 13.369263648986816\n",
      "Iteration 450 loss: 13.117352485656738\n"
     ]
    }
   ],
   "source": [
    "loss_hist_pyro_mf, time_hist_pyro_mf = train_pyro(x, y, p_theta, 0.05, 500, batch_size=100, print_every=50, mean_field=True)\n",
    "q_theta_pyro_mf = extract_dist_pyro(p_theta, mean_field=True)"
   ]
  },
  {
   "cell_type": "markdown",
   "metadata": {},
   "source": [
    "### Visualizations"
   ]
  },
  {
   "cell_type": "code",
   "execution_count": 28,
   "metadata": {},
   "outputs": [
    {
     "data": {
      "image/png": "[encoded data removed]",
      "text/plain": [
       "<Figure size 432x288 with 1 Axes>"
      ]
     },
     "metadata": {
      "needs_background": "light"
     },
     "output_type": "display_data"
    }
   ],
   "source": [
    "def plot_loss(loss_hist_list, labels, time_hist_list=None, xscale='linear'):\n",
    "    if time_hist_list is None:\n",
    "        time_hist_list = [None] * len(loss_hist_list)\n",
    "        \n",
    "    plt.rcParams.update({'font.size': 12, 'lines.linewidth': 2})\n",
    "    for loss_hist, label, time_hist in zip(loss_hist_list, labels, time_hist_list):\n",
    "        if time_hist:\n",
    "            plt.plot(time_hist, loss_hist, label=label)\n",
    "        else:\n",
    "            plt.plot(loss_hist, label=label)\n",
    "    \n",
    "    if time_hist_list[0]:\n",
    "        plt.xlabel('time')\n",
    "        plt.title('Loss v time')\n",
    "    else:\n",
    "        plt.xlabel('iteration')\n",
    "        plt.title('Loss v iteration')\n",
    "    plt.ylabel('loss')\n",
    "    plt.legend()\n",
    "    plt.xscale(xscale)\n",
    "    \n",
    "labels = ['custom full-rank', 'custom mean-field', 'pyro full-rank', 'pyro mean-field']\n",
    "plot_loss([loss_hist, loss_hist_mf, loss_hist_pyro, loss_hist_pyro_mf], labels)"
   ]
  },
  {
   "cell_type": "code",
   "execution_count": 29,
   "metadata": {},
   "outputs": [
    {
     "data": {
      "image/png": "[encoded data removed]",
      "text/plain": [
       "<Figure size 432x288 with 1 Axes>"
      ]
     },
     "metadata": {
      "needs_background": "light"
     },
     "output_type": "display_data"
    }
   ],
   "source": [
    "plot_loss([loss_hist, loss_hist_mf, loss_hist_pyro, loss_hist_pyro_mf], labels,\n",
    "          [time_hist, time_hist_mf, time_hist_pyro, time_hist_pyro_mf], xscale='symlog')"
   ]
  },
  {
   "cell_type": "code",
   "execution_count": 40,
   "metadata": {},
   "outputs": [
    {
     "data": {
      "image/png": "[encoded data removed]",
      "text/plain": [
       "<Figure size 1440x288 with 5 Axes>"
      ]
     },
     "metadata": {
      "needs_background": "light"
     },
     "output_type": "display_data"
    }
   ],
   "source": [
    "def plot_theta(p_theta, q_theta_list, labels, num_pts=100000, eps=1e-5):\n",
    "    a, b = p_theta.a, p_theta.b\n",
    "    theta_range = torch.from_numpy(np.linspace(a + eps, b - eps, num_pts)).float()\n",
    "    \n",
    "    # Prior\n",
    "    scale_prior = torch.diag(p_theta.covariance_matrix).sqrt()\n",
    "    marg_prior_dist = RescaledLogitNormal(p_theta.loc, scale_prior, a=a, b=b)\n",
    "    marg_prior = torch.exp(marg_prior_dist.log_prob(theta_range)).detach()\n",
    "    approx_int_prior = marg_prior.sum(0) * (b - a) / num_pts\n",
    "    assert torch.all(torch.isclose(torch.ones([]), approx_int_prior))\n",
    "    \n",
    "    # Posterior\n",
    "    marg_post_list = []\n",
    "    for q_theta in q_theta_list:\n",
    "        if isinstance(q_theta, RescaledLogitNormal):\n",
    "            marg_post_dist = q_theta\n",
    "        else:\n",
    "            scale_post = torch.diag(q_theta.covariance_matrix).sqrt()\n",
    "            marg_post_dist = RescaledLogitNormal(q_theta.loc, scale_post, a=a, b=b)\n",
    "        marg_post = torch.exp(marg_post_dist.log_prob(theta_range)).detach()\n",
    "        approx_int_post = marg_post.sum(0) * (b - a) / num_pts\n",
    "        assert torch.all(torch.isclose(torch.ones([]), approx_int_post))\n",
    "        marg_post_list.append(marg_post)\n",
    "    \n",
    "    # Plot prior & posterior vs true theta\n",
    "    D = len(p_theta.loc)\n",
    "    plt.rcParams.update({'font.size': 16, 'lines.linewidth': 2})\n",
    "    fig, axes = plt.subplots(1, D+1, figsize=(4*(D+1), 4))\n",
    "    xlabels = ['bias', '$\\\\theta_1$', '$\\\\theta_2$', '$\\\\theta_3$']\n",
    "    for i, ax in enumerate(axes):\n",
    "        #print(i, D)\n",
    "        if i < D:\n",
    "            ax.plot(theta_range[:, i], marg_prior[:, i], label='prior $p(\\\\theta)$', color='tab:blue', linewidth=2)\n",
    "            for j, (marg_post, alg) in enumerate(zip(marg_post_list, labels)):\n",
    "                label = '{} posterior $q(\\\\theta)$'.format(alg)\n",
    "                ax.plot(theta_range[:, i], marg_post[:, i], label=label, color=cm.tab10(j+1), linewidth=2)\n",
    "            ax.axvline(theta[i], color='gray', label='true $\\\\theta$')\n",
    "            ax.set_xlabel(xlabels[i])\n",
    "            if i == 0: ax.set_ylabel('density')\n",
    "        else:\n",
    "            handles, labels = axes[0].get_legend_handles_labels()\n",
    "            ax.legend(handles, labels, loc='center')\n",
    "            ax.axis('off')\n",
    "    \n",
    "    plt.tight_layout()\n",
    "    plt.suptitle('Marginal distributions')\n",
    "    plt.subplots_adjust(top=0.85)\n",
    "    plt.show()\n",
    "\n",
    "plot_theta(p_theta, [q_theta, q_theta_mf, q_theta_pyro, q_theta_pyro_mf], labels)"
   ]
  },
  {
   "cell_type": "code",
   "execution_count": 36,
   "metadata": {},
   "outputs": [
    {
     "data": {
      "text/plain": [
       "tensor([-10,   0, -10, -10])"
      ]
     },
     "execution_count": 36,
     "metadata": {},
     "output_type": "execute_result"
    }
   ],
   "source": [
    "q_theta_pyro_mf.b"
   ]
  },
  {
   "cell_type": "code",
   "execution_count": 37,
   "metadata": {},
   "outputs": [
    {
     "data": {
      "text/plain": [
       "tensor([ 10, 100,  20,  10])"
      ]
     },
     "execution_count": 37,
     "metadata": {},
     "output_type": "execute_result"
    }
   ],
   "source": [
    "q_theta_pyro.b"
   ]
  },
  {
   "cell_type": "code",
   "execution_count": 43,
   "metadata": {},
   "outputs": [
    {
     "data": {
      "image/png": "[encoded data removed]",
      "text/plain": [
       "<Figure size 720x360 with 3 Axes>"
      ]
     },
     "metadata": {
      "needs_background": "light"
     },
     "output_type": "display_data"
    }
   ],
   "source": [
    "def plot_corr(q_theta_list, labels, num_samples=100000):\n",
    "    # Calculate empirical correlation\n",
    "    corr_list = []\n",
    "    for q_theta in q_theta_list:\n",
    "        assert isinstance(q_theta, MultivariateLogitNormal)\n",
    "        samples = q_theta.sample((num_samples, )) # (N, D)\n",
    "        corr_mc = np.corrcoef(samples.T)\n",
    "        corr_list.append(corr_mc)\n",
    "    \n",
    "    # Plot\n",
    "    num_cols = len(q_theta_list)\n",
    "    plt.rcParams.update({'font.size': 12})\n",
    "    fig, axes = plt.subplots(1, num_cols, figsize=(5*num_cols, 5))\n",
    "    ax_labels = ['bias', '$\\\\theta_1$', '$\\\\theta_2$', '$\\\\theta_3$']\n",
    "    D = len(q_theta_list[0].loc)\n",
    "    \n",
    "    for i, ax in enumerate(axes):\n",
    "        plot = ax.imshow(corr_list[i], cmap='coolwarm', vmin=-1, vmax=1)\n",
    "        ax.set_xticks(range(D))\n",
    "        ax.set_xticklabels(ax_labels)\n",
    "        ax.set_yticks(range(D))\n",
    "        ax.set_yticklabels(ax_labels)\n",
    "        ax.set_title(labels[i])\n",
    "        \n",
    "    plt.tight_layout()\n",
    "    plt.colorbar(plot, ax=axes, shrink=0.8)\n",
    "    plt.suptitle('Correlation between $\\\\theta_d$')\n",
    "    plt.show()\n",
    "    \n",
    "plot_corr([q_theta, q_theta_pyro], [labels[0], labels[2]])"
   ]
  },
  {
   "cell_type": "code",
   "execution_count": null,
   "metadata": {},
   "outputs": [],
   "source": []
  },
  {
   "cell_type": "code",
   "execution_count": null,
   "metadata": {},
   "outputs": [],
   "source": []
  },
  {
   "cell_type": "code",
   "execution_count": null,
   "metadata": {},
   "outputs": [],
   "source": []
  },
  {
   "cell_type": "code",
   "execution_count": null,
   "metadata": {},
   "outputs": [],
   "source": []
  },
  {
   "cell_type": "code",
   "execution_count": null,
   "metadata": {},
   "outputs": [],
   "source": []
  },
  {
   "cell_type": "markdown",
   "metadata": {},
   "source": [
    "### Notes on `scale_tril` constraint"
   ]
  },
  {
   "cell_type": "code",
   "execution_count": null,
   "metadata": {},
   "outputs": [],
   "source": [
    "scale_tril = torch.diag(torch.arange(1, 5))\n",
    "scale_tril"
   ]
  },
  {
   "cell_type": "code",
   "execution_count": null,
   "metadata": {},
   "outputs": [],
   "source": [
    "constraint = torch_D.multivariate_normal.MultivariateNormal.arg_constraints['scale_tril']"
   ]
  },
  {
   "cell_type": "code",
   "execution_count": null,
   "metadata": {},
   "outputs": [],
   "source": [
    "unconstrained_scale_tril = torch_D.transform_to(constraint).inv(scale_tril)"
   ]
  },
  {
   "cell_type": "code",
   "execution_count": null,
   "metadata": {},
   "outputs": [],
   "source": [
    "scale_tril = torch_D.transform_to(constraint)(unconstrained_scale_tril)\n",
    "scale_tril"
   ]
  },
  {
   "cell_type": "markdown",
   "metadata": {},
   "source": [
    "Without this inverse transformation at initialization, the constrained values of `scale_tril` used at the first inference iteration would be **incorrect** (i.e. initialization won't actually match prior/whatever we think we init it with):"
   ]
  },
  {
   "cell_type": "code",
   "execution_count": null,
   "metadata": {},
   "outputs": [],
   "source": [
    "torch_D.transform_to(constraint)(scale_tril)"
   ]
  },
  {
   "cell_type": "code",
   "execution_count": null,
   "metadata": {},
   "outputs": [],
   "source": [
    "from TruncatedNormal import *"
   ]
  },
  {
   "cell_type": "code",
   "execution_count": null,
   "metadata": {},
   "outputs": [],
   "source": [
    "rv = TruncatedNormal(-2, 2, a=0, b=10)\n",
    "samples = rv.sample((10,))\n",
    "log_probs = rv.log_prob(samples)\n",
    "samples, log_probs"
   ]
  },
  {
   "cell_type": "code",
   "execution_count": null,
   "metadata": {},
   "outputs": [],
   "source": [
    "num_pts = 1000\n",
    "pts = torch.linspace(0, 10, num_pts)\n",
    "pdf = torch.exp(rv.log_prob(pts))\n",
    "plt.plot(pts, pdf)"
   ]
  },
  {
   "cell_type": "code",
   "execution_count": null,
   "metadata": {},
   "outputs": [],
   "source": [
    "\n",
    "loc, scale = -100, 0.00001\n",
    "a = (a - loc) / scale\n",
    "b = (b - loc) / scale\n",
    "a < b"
   ]
  },
  {
   "cell_type": "code",
   "execution_count": null,
   "metadata": {},
   "outputs": [],
   "source": [
    "cm.tab10(1)"
   ]
  },
  {
   "cell_type": "code",
   "execution_count": null,
   "metadata": {},
   "outputs": [],
   "source": [
    "torch.diag_embed(torch.ones(5))"
   ]
  },
  {
   "cell_type": "code",
   "execution_count": null,
   "metadata": {},
   "outputs": [],
   "source": [
    "x = -1 * torch.arange(16).reshape((4, 4))\n",
    "x"
   ]
  },
  {
   "cell_type": "code",
   "execution_count": null,
   "metadata": {},
   "outputs": [],
   "source": [
    "scale_tril = x.tril(-1) + x.diagonal(dim1=-2, dim2=-1).exp().diag_embed()\n",
    "scale_tril"
   ]
  },
  {
   "cell_type": "code",
   "execution_count": null,
   "metadata": {},
   "outputs": [],
   "source": [
    "scale_tril.T"
   ]
  },
  {
   "cell_type": "code",
   "execution_count": null,
   "metadata": {},
   "outputs": [],
   "source": [
    "scale_tril @ scale_tril.T"
   ]
  },
  {
   "cell_type": "code",
   "execution_count": null,
   "metadata": {},
   "outputs": [],
   "source": [
    "p_theta.scale_tril"
   ]
  },
  {
   "cell_type": "code",
   "execution_count": null,
   "metadata": {},
   "outputs": [],
   "source": [
    "p_theta.covariance_matrix.sqrt()"
   ]
  },
  {
   "cell_type": "code",
   "execution_count": null,
   "metadata": {},
   "outputs": [],
   "source": []
  }
 ],
 "metadata": {
  "kernelspec": {
   "display_name": "Python 3",
   "language": "python",
   "name": "python3"
  },
  "language_info": {
   "codemirror_mode": {
    "name": "ipython",
    "version": 3
   },
   "file_extension": ".py",
   "mimetype": "text/x-python",
   "name": "python",
   "nbconvert_exporter": "python",
   "pygments_lexer": "ipython3",
   "version": "3.8.5"
  }
 },
 "nbformat": 4,
 "nbformat_minor": 4
}
