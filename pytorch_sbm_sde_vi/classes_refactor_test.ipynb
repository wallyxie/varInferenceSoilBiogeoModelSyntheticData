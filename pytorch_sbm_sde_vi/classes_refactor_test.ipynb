{
 "cells": [
  {
   "cell_type": "code",
   "execution_count": 1,
   "id": "4bbc8b3e",
   "metadata": {},
   "outputs": [],
   "source": [
    "#PyData imports\n",
    "import numpy as np\n",
    "\n",
    "#Torch-related imports\n",
    "import torch"
   ]
  },
  {
   "cell_type": "code",
   "execution_count": 3,
   "id": "03ac6762",
   "metadata": {},
   "outputs": [
    {
     "name": "stdout",
     "output_type": "stream",
     "text": [
      "cuda device available?:  False\n"
     ]
    }
   ],
   "source": [
    "#PyTorch settings\n",
    "torch.manual_seed(0)\n",
    "print('cuda device available?: ', torch.cuda.is_available())\n",
    "active_device = torch.device('cuda' if torch.cuda.is_available() else 'cpu')\n",
    "if torch.cuda.is_available():\n",
    "    torch.set_default_tensor_type('torch.cuda.FloatTensor')\n",
    "torch.set_printoptions(precision = 8)"
   ]
  },
  {
   "cell_type": "code",
   "execution_count": 8,
   "id": "6926be11",
   "metadata": {},
   "outputs": [],
   "source": [
    "#Neural SDE parameters\n",
    "dt_flow = 1.0 #Increased from 0.1 to reduce memory.\n",
    "t = 1000 #In hours.\n",
    "n = int(t / dt_flow) + 1\n",
    "t_span = np.linspace(0, t, n)\n",
    "t_span_tensor = torch.reshape(torch.Tensor(t_span), [1, n, 1]).to(active_device) #T_span needs to be converted to tensor object. Additionally, facilitates conversion of I_S and I_D to tensor objects.\n",
    "state_dim_SCON = 3 #Not including CO2 in STATE_DIM, because CO2 is an observation.\n",
    "state_dim_SAWB = 4 #Not including CO2 in STATE_DIM, because CO2 is an observation.\n",
    "\n",
    "#SBM temperature forcing parameters\n",
    "temp_ref = 283.\n",
    "temp_rise = 5. #High estimate of 5 celsius temperature rise by 2100."
   ]
  },
  {
   "cell_type": "code",
   "execution_count": 9,
   "id": "a39ea6d3",
   "metadata": {},
   "outputs": [
    {
     "name": "stdout",
     "output_type": "stream",
     "text": [
      "<class 'torch.Tensor'>\n",
      "<class 'float'>\n"
     ]
    }
   ],
   "source": [
    "print(type(t_span_tensor))\n",
    "print(type(temp_ref))"
   ]
  },
  {
   "cell_type": "code",
   "execution_count": 10,
   "id": "a833847b",
   "metadata": {},
   "outputs": [],
   "source": [
    "def temp_gen(t: torch.Tensor, TEMP_REF: float, TEMP_RISE: float = 5) -> torch.Tensor:\n",
    "    '''\n",
    "    Temperature function to force soil biogeochemical models.\n",
    "    This particular temperature function assumes soil temperatures will increase by TEMP_REF over the next 80 years.    \n",
    "    Returns a tensor of one or more temperatures in K.\n",
    "    '''\n",
    "    temp = TEMP_REF + (TEMP_RISE * t) / (80 * 24 * 365) + 10 * torch.sin((2 * np.pi / 24) * t) + 10 * torch.sin((2 * np.pi / (24 * 365)) * t)\n",
    "    return temp"
   ]
  },
  {
   "cell_type": "code",
   "execution_count": 11,
   "id": "6c9ad157",
   "metadata": {},
   "outputs": [
    {
     "data": {
      "text/plain": [
       "tensor([[[283.00000000],\n",
       "         [285.59536743],\n",
       "         [288.01434326],\n",
       "         ...,\n",
       "         [284.56951904],\n",
       "         [282.50381470],\n",
       "         [280.92001343]]])"
      ]
     },
     "execution_count": 11,
     "metadata": {},
     "output_type": "execute_result"
    }
   ],
   "source": [
    "temp_gen(t_span_tensor, temp_ref, temp_rise)"
   ]
  },
  {
   "cell_type": "code",
   "execution_count": 19,
   "id": "0a573204",
   "metadata": {},
   "outputs": [],
   "source": [
    "def arrhenius_temp_dep(parameter, temp: float, Ea: torch.Tensor, TEMP_REF: float) -> torch.Tensor:\n",
    "    '''\n",
    "    Arrhenius temperature dependence function.\n",
    "    Accepts input parameter as torch.Tensor or Python float type.\n",
    "    Accepts Ea as torch.Tensor type only.\n",
    "    0.008314 is the gas constant. Temperatures are in K.\n",
    "    Returns a tensor of transformed parameter value(s).    \n",
    "    '''\n",
    "    decayed_parameter = parameter * torch.exp(-Ea / 0.008314 * (1 / temp - 1 / TEMP_REF))\n",
    "    return decayed_parameter"
   ]
  },
  {
   "cell_type": "code",
   "execution_count": 20,
   "id": "0434995b",
   "metadata": {},
   "outputs": [
    {
     "name": "stdout",
     "output_type": "stream",
     "text": [
      "tensor([ 7.94748545, 15.48832893])\n",
      "tensor([8.17374134])\n"
     ]
    }
   ],
   "source": [
    "print(arrhenius_temp_dep(torch.Tensor([40, 45]), temp_ref - 20, torch.Tensor([50, 33]), temp_ref))\n",
    "print(arrhenius_temp_dep(35, temp_ref - 20, torch.Tensor([45]), temp_ref))"
   ]
  },
  {
   "cell_type": "code",
   "execution_count": 22,
   "id": "541f7a3f",
   "metadata": {},
   "outputs": [],
   "source": [
    "def linear_temp_dep(parameter, temp: float, Q: torch.Tensor, TEMP_REF: float) -> torch.Tensor:\n",
    "    '''\n",
    "    For a parameter with linear temperature dependence, returns the transformed parameter value.\n",
    "    Accepts input parameter as torch.Tensor or Python float type.    \n",
    "    Q is the slope of the temperature dependence and is a varying parameter.\n",
    "    Temperatures are in K.\n",
    "    '''\n",
    "    modified_parameter = parameter - Q * (temp - TEMP_REF)\n",
    "    return modified_parameter"
   ]
  },
  {
   "cell_type": "code",
   "execution_count": 23,
   "id": "b40231f0",
   "metadata": {},
   "outputs": [
    {
     "data": {
      "text/plain": [
       "tensor([33.04000092])"
      ]
     },
     "execution_count": 23,
     "metadata": {},
     "output_type": "execute_result"
    }
   ],
   "source": [
    "linear_temp_dep(33, temp_ref - 20, torch.Tensor([0.002]), temp_ref)"
   ]
  },
  {
   "cell_type": "code",
   "execution_count": 25,
   "id": "14da81b4",
   "metadata": {},
   "outputs": [],
   "source": [
    "##########################\n",
    "##LITTER INPUT FUNCTIONS##\n",
    "##########################\n",
    "\n",
    "def i_s(t: torch.Tensor) -> torch.Tensor:\n",
    "    '''\n",
    "    This is the endogenous SOC litter input function.\n",
    "    '''\n",
    "    return 0.001 + 0.0005 * torch.sin((2 * np.pi / (24 * 365)) * t)\n",
    "\n",
    "def i_d(t: torch.Tensor) -> torch.Tensor:\n",
    "    '''\n",
    "    This is the endogenous DOC litter input function.\n",
    "    '''\n",
    "    return 0.0001 + 0.00005 * torch.sin((2 * np.pi / (24 * 365)) * t)"
   ]
  },
  {
   "cell_type": "code",
   "execution_count": 26,
   "id": "d52582e2",
   "metadata": {},
   "outputs": [],
   "source": [
    "#Generate exogenous input vectors.\n",
    "#Obtain temperature forcing function.\n",
    "temp_tensor = temp_gen(t_span_tensor, temp_ref, temp_rise).to(active_device)\n",
    "\n",
    "#Obtain SOC and DOC pool litter input vectors for use in flow SDE functions.\n",
    "i_s_tensor = i_s(t_span_tensor).to(active_device) #Exogenous SOC input function\n",
    "i_d_tensor = i_d(t_span_tensor).to(active_device) #Exogenous DOC input function"
   ]
  },
  {
   "cell_type": "code",
   "execution_count": 28,
   "id": "59af0ed8",
   "metadata": {},
   "outputs": [],
   "source": [
    "class SBM_SDE:\n",
    "    '''\n",
    "    This is the base class for evaluating the soil biogeochemical state space models (translated from SDEs).\n",
    "    '''\n",
    "\n",
    "    def __init__(\n",
    "            self,\n",
    "            T_SPAN_TENSOR: torch.Tensor, \n",
    "            I_S_TENSOR: torch.Tensor, \n",
    "            I_D_TENSOR: torch.Tensor, \n",
    "            TEMP_TENSOR: torch.Tensor, \n",
    "            TEMP_REF: float):\n",
    "\n",
    "        self.times = T_SPAN_TENSOR\n",
    "        self.i_S = I_S_TENSOR\n",
    "        self.i_D = I_D_TENSOR,\n",
    "        self.temps = TEMP_TENSOR"
   ]
  },
  {
   "cell_type": "code",
   "execution_count": 33,
   "id": "5dab9c2e",
   "metadata": {},
   "outputs": [
    {
     "ename": "NotImplementedError",
     "evalue": "Other diffusion parameterizations aside from constant (c) or state-scaling (ss) have not been implemented.",
     "output_type": "error",
     "traceback": [
      "\u001b[0;31m---------------------------------------------------------------------------\u001b[0m",
      "\u001b[0;31mNotImplementedError\u001b[0m                       Traceback (most recent call last)",
      "\u001b[0;32m<ipython-input-33-790c7c7a3176>\u001b[0m in \u001b[0;36m<module>\u001b[0;34m\u001b[0m\n\u001b[1;32m      2\u001b[0m \u001b[0;34m\u001b[0m\u001b[0m\n\u001b[1;32m      3\u001b[0m \u001b[0;32mif\u001b[0m \u001b[0mdiffusion_type\u001b[0m \u001b[0;32mnot\u001b[0m \u001b[0;32min\u001b[0m \u001b[0;34m{\u001b[0m\u001b[0;34m'c'\u001b[0m\u001b[0;34m,\u001b[0m \u001b[0;34m'ss'\u001b[0m\u001b[0;34m}\u001b[0m\u001b[0;34m:\u001b[0m\u001b[0;34m\u001b[0m\u001b[0;34m\u001b[0m\u001b[0m\n\u001b[0;32m----> 4\u001b[0;31m     \u001b[0;32mraise\u001b[0m \u001b[0mNotImplementedError\u001b[0m\u001b[0;34m(\u001b[0m\u001b[0;34m'Other diffusion parameterizations aside from constant (c) or state-scaling (ss) have not been implemented.'\u001b[0m\u001b[0;34m)\u001b[0m\u001b[0;34m\u001b[0m\u001b[0;34m\u001b[0m\u001b[0m\n\u001b[0m",
      "\u001b[0;31mNotImplementedError\u001b[0m: Other diffusion parameterizations aside from constant (c) or state-scaling (ss) have not been implemented."
     ]
    }
   ],
   "source": [
    "diffusion_type = 'z'\n",
    "\n",
    "if diffusion_type not in {'c', 'ss'}:\n",
    "    raise NotImplementedError('Other diffusion parameterizations aside from constant (c) or state-scaling (ss) have not been implemented.')"
   ]
  },
  {
   "cell_type": "code",
   "execution_count": 34,
   "id": "a6427cb7",
   "metadata": {},
   "outputs": [],
   "source": [
    "diffusion_type = 'c'\n",
    "\n",
    "if diffusion_type not in {'c', 'ss'}:\n",
    "    raise NotImplementedError('Other diffusion parameterizations aside from constant (c) or state-scaling (ss) have not been implemented.')"
   ]
  },
  {
   "cell_type": "code",
   "execution_count": null,
   "id": "665b0127",
   "metadata": {},
   "outputs": [],
   "source": []
  }
 ],
 "metadata": {
  "kernelspec": {
   "display_name": "Python 3",
   "language": "python",
   "name": "python3"
  },
  "language_info": {
   "codemirror_mode": {
    "name": "ipython",
    "version": 3
   },
   "file_extension": ".py",
   "mimetype": "text/x-python",
   "name": "python",
   "nbconvert_exporter": "python",
   "pygments_lexer": "ipython3",
   "version": "3.9.6"
  }
 },
 "nbformat": 4,
 "nbformat_minor": 5
}
